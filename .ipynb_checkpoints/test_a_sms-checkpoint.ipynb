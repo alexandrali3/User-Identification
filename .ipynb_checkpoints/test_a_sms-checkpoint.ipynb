{
 "cells": [
  {
   "cell_type": "code",
   "execution_count": 1,
   "metadata": {},
   "outputs": [],
   "source": [
    "%matplotlib inline"
   ]
  },
  {
   "cell_type": "code",
   "execution_count": 2,
   "metadata": {},
   "outputs": [],
   "source": [
    "import sys\n",
    "import numpy as np\n",
    "import pandas as pd\n",
    "import re as re\n",
    "import matplotlib.pyplot as plt\n",
    "import xgboost as xgb"
   ]
  },
  {
   "cell_type": "code",
   "execution_count": 3,
   "metadata": {},
   "outputs": [],
   "source": [
    "def myPrint(x):\n",
    "    print(x.head(15))\n",
    "    print(x.info())\n",
    "def myPrint2(x):\n",
    "    print(x)"
   ]
  },
  {
   "cell_type": "code",
   "execution_count": 4,
   "metadata": {},
   "outputs": [],
   "source": [
    "test_a_sms_df = pd.read_csv('../data/Test-A/test_a_sms_df.csv', header = 0, dtype = {'opp_num': str})"
   ]
  },
  {
   "cell_type": "markdown",
   "metadata": {},
   "source": [
    "# Feature 7"
   ]
  },
  {
   "cell_type": "code",
   "execution_count": 5,
   "metadata": {},
   "outputs": [],
   "source": [
    "t1 = test_a_sms_df[test_a_sms_df['in_out'] == 0]"
   ]
  },
  {
   "cell_type": "code",
   "execution_count": 6,
   "metadata": {},
   "outputs": [],
   "source": [
    "tmp = t1['uid'].value_counts().sort_index()"
   ]
  },
  {
   "cell_type": "code",
   "execution_count": 7,
   "metadata": {},
   "outputs": [],
   "source": [
    "dict = tmp.to_dict()\n",
    "tmp2 = pd.Series(index = range(5000, 7000), data = dict)"
   ]
  },
  {
   "cell_type": "code",
   "execution_count": 8,
   "metadata": {},
   "outputs": [],
   "source": [
    "tmp2 = tmp2.fillna(0)\n",
    "tmp2 = tmp2.astype('int64')"
   ]
  },
  {
   "cell_type": "code",
   "execution_count": 9,
   "metadata": {},
   "outputs": [],
   "source": [
    "tmp2.to_csv('../data/Test-A/test_a_feature_7.csv', index=True)"
   ]
  },
  {
   "cell_type": "markdown",
   "metadata": {},
   "source": [
    "# Feature 8"
   ]
  },
  {
   "cell_type": "code",
   "execution_count": 10,
   "metadata": {},
   "outputs": [],
   "source": [
    "t2 = test_a_sms_df[test_a_sms_df['in_out'] == 1]"
   ]
  },
  {
   "cell_type": "code",
   "execution_count": 11,
   "metadata": {},
   "outputs": [],
   "source": [
    "tmp = t2['uid'].value_counts().sort_index()"
   ]
  },
  {
   "cell_type": "code",
   "execution_count": 12,
   "metadata": {},
   "outputs": [],
   "source": [
    "dict = tmp.to_dict()\n",
    "tmp2 = pd.Series(index = range(5000, 7000), data = dict)"
   ]
  },
  {
   "cell_type": "code",
   "execution_count": 13,
   "metadata": {},
   "outputs": [],
   "source": [
    "tmp2 = tmp2.fillna(0)\n",
    "tmp2 = tmp2.astype('int64')"
   ]
  },
  {
   "cell_type": "code",
   "execution_count": 14,
   "metadata": {},
   "outputs": [],
   "source": [
    "tmp2.to_csv('../data/Test-A/test_a_feature_8.csv', index=True)"
   ]
  },
  {
   "cell_type": "markdown",
   "metadata": {},
   "source": [
    "# Feature 9"
   ]
  },
  {
   "cell_type": "code",
   "execution_count": 15,
   "metadata": {},
   "outputs": [],
   "source": [
    "def do(x):\n",
    "    hour = int(x % 1000000 / 10000)\n",
    "    return hour\n",
    "tmp = test_a_sms_df\n",
    "test_a_sms_df.loc[:, 'timestamp'] = tmp['start_time'].apply(do)"
   ]
  },
  {
   "cell_type": "code",
   "execution_count": 16,
   "metadata": {},
   "outputs": [],
   "source": [
    "test_a_1 = test_a_sms_df[test_a_sms_df['in_out'] == 0]\n",
    "test_a_2 = test_a_sms_df[test_a_sms_df['in_out'] == 1]"
   ]
  },
  {
   "cell_type": "code",
   "execution_count": 17,
   "metadata": {
    "collapsed": true
   },
   "outputs": [
    {
     "name": "stdout",
     "output_type": "stream",
     "text": [
      "     uid                           opp_num  opp_head  opp_len  start_time  \\\n",
      "10  5020  D66F003791F85E1090A30F2E4300DBF6       133       11     1201008   \n",
      "12  5020  0BCB50371DA55F30D596B9A215EA9F50       106       12     1161409   \n",
      "13  5020  A18ADF4B1DD5F8FAAE869144F50ACAAD       188       11     1171927   \n",
      "14  5020  A18ADF4B1DD5F8FAAE869144F50ACAAD       188       11     1172200   \n",
      "15  5020  D66F003791F85E1090A30F2E4300DBF6       133       11     1161533   \n",
      "16  5020  A18ADF4B1DD5F8FAAE869144F50ACAAD       188       11     1172525   \n",
      "34  5996  2BDD5B98F18D1D5DAAE3200064C031E5       131       11     1162403   \n",
      "35  5996  2BDD5B98F18D1D5DAAE3200064C031E5       131       11     1162404   \n",
      "36  5996  611D7364EA8BCF7541FEF283A8FF745B       138       11     1162436   \n",
      "37  5996  E5E01D2E27BD4FF77D878E4BE5A3D6F1       138       11     1162253   \n",
      "38  5996  E5E01D2E27BD4FF77D878E4BE5A3D6F1       138       11     1162253   \n",
      "39  5996  50BE6A5737DD1C928439719AF0EC5F70       138       11     1180202   \n",
      "40  5996  A6C99C45A9D3281C32487552F5E378C5       138       11     1162541   \n",
      "41  5996  D70C1EB14F52BD1BD012077742B868FC       136       11     1162643   \n",
      "42  5996  D351E7B643BA2692C5624A4EF7497DAC       159       11     1162759   \n",
      "\n",
      "    in_out  timestamp  \n",
      "10       0         20  \n",
      "12       0         16  \n",
      "13       0         17  \n",
      "14       0         17  \n",
      "15       0         16  \n",
      "16       0         17  \n",
      "34       0         16  \n",
      "35       0         16  \n",
      "36       0         16  \n",
      "37       0         16  \n",
      "38       0         16  \n",
      "39       0         18  \n",
      "40       0         16  \n",
      "41       0         16  \n",
      "42       0         16  \n",
      "<class 'pandas.core.frame.DataFrame'>\n",
      "Int64Index: 26819 entries, 10 to 101688\n",
      "Data columns (total 7 columns):\n",
      "uid           26819 non-null int64\n",
      "opp_num       26819 non-null object\n",
      "opp_head      26819 non-null int64\n",
      "opp_len       26819 non-null int64\n",
      "start_time    26819 non-null int64\n",
      "in_out        26819 non-null int64\n",
      "timestamp     26819 non-null int64\n",
      "dtypes: int64(6), object(1)\n",
      "memory usage: 1.6+ MB\n",
      "None\n"
     ]
    }
   ],
   "source": [
    "myPrint(test_a_1)"
   ]
  },
  {
   "cell_type": "code",
   "execution_count": 18,
   "metadata": {},
   "outputs": [],
   "source": [
    "ww = test_a_1[(test_a_1['timestamp'] == 22) | (test_a_1['timestamp'] == 23) | (test_a_1['timestamp'] == 0)]"
   ]
  },
  {
   "cell_type": "code",
   "execution_count": 19,
   "metadata": {},
   "outputs": [],
   "source": [
    "ans = ww['uid'].value_counts().sort_index()"
   ]
  },
  {
   "cell_type": "code",
   "execution_count": 20,
   "metadata": {
    "scrolled": true
   },
   "outputs": [
    {
     "name": "stdout",
     "output_type": "stream",
     "text": [
      "5005      2\n",
      "5009    173\n",
      "5013      1\n",
      "5015      3\n",
      "5020      1\n",
      "5040      1\n",
      "5041      9\n",
      "5046      1\n",
      "5048      1\n",
      "5054      1\n",
      "5055      1\n",
      "5064      1\n",
      "5066      7\n",
      "5069      1\n",
      "5075      1\n",
      "5077      1\n",
      "5078      1\n",
      "5084    669\n",
      "5086      7\n",
      "5089      3\n",
      "5090      3\n",
      "5099     12\n",
      "5104      1\n",
      "5108      3\n",
      "5109     55\n",
      "5112      4\n",
      "5118      5\n",
      "5130      2\n",
      "5141      7\n",
      "5146      1\n",
      "       ... \n",
      "6823      1\n",
      "6833      2\n",
      "6843      2\n",
      "6844      2\n",
      "6855      2\n",
      "6864      2\n",
      "6865      3\n",
      "6872      3\n",
      "6877      4\n",
      "6881      8\n",
      "6890      2\n",
      "6891      1\n",
      "6905      1\n",
      "6906      1\n",
      "6909      1\n",
      "6913      1\n",
      "6914      1\n",
      "6921      1\n",
      "6934      4\n",
      "6938      1\n",
      "6955      1\n",
      "6958      1\n",
      "6960      1\n",
      "6968      4\n",
      "6971     10\n",
      "6973      1\n",
      "6974      1\n",
      "6976      5\n",
      "6985      4\n",
      "6996      5\n",
      "Name: uid, Length: 376, dtype: int64\n"
     ]
    }
   ],
   "source": [
    "myPrint2(ans)"
   ]
  },
  {
   "cell_type": "code",
   "execution_count": 21,
   "metadata": {},
   "outputs": [],
   "source": [
    "dict = ans.to_dict()\n",
    "ans2 = pd.Series(index = range(5000, 7000), data = dict)"
   ]
  },
  {
   "cell_type": "code",
   "execution_count": 22,
   "metadata": {},
   "outputs": [],
   "source": [
    "ans2 = ans2.fillna(0)\n",
    "ans2 = ans2.astype('int64')"
   ]
  },
  {
   "cell_type": "code",
   "execution_count": 23,
   "metadata": {},
   "outputs": [],
   "source": [
    "ans2.to_csv('../data/Test-A/test_a_feature_9.csv', index=True)"
   ]
  },
  {
   "cell_type": "code",
   "execution_count": null,
   "metadata": {},
   "outputs": [],
   "source": []
  }
 ],
 "metadata": {
  "kernelspec": {
   "display_name": "Python 2",
   "language": "python",
   "name": "python2"
  },
  "language_info": {
   "codemirror_mode": {
    "name": "ipython",
    "version": 2
   },
   "file_extension": ".py",
   "mimetype": "text/x-python",
   "name": "python",
   "nbconvert_exporter": "python",
   "pygments_lexer": "ipython2",
   "version": "2.7.13"
  }
 },
 "nbformat": 4,
 "nbformat_minor": 2
}
