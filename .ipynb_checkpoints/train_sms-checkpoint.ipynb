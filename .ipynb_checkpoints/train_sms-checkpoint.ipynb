{
 "cells": [
  {
   "cell_type": "code",
   "execution_count": 3,
   "metadata": {},
   "outputs": [],
   "source": [
    "%matplotlib inline"
   ]
  },
  {
   "cell_type": "code",
   "execution_count": 4,
   "metadata": {},
   "outputs": [],
   "source": [
    "import sys\n",
    "import numpy as np\n",
    "import pandas as pd\n",
    "import re as re\n",
    "import matplotlib.pyplot as plt\n",
    "import xgboost as xgb"
   ]
  },
  {
   "cell_type": "code",
   "execution_count": 3,
   "metadata": {},
   "outputs": [],
   "source": [
    "train_uid_df = pd.read_csv('../data/train/train_uid_df.csv', header = 0)"
   ]
  },
  {
   "cell_type": "code",
   "execution_count": 5,
   "metadata": {},
   "outputs": [],
   "source": [
    "train_sms_df = pd.read_csv('../data/train/train_sms_df.csv', header = 0, dtype = {'opp_num':str})\n"
   ]
  },
  {
   "cell_type": "code",
   "execution_count": 5,
   "metadata": {},
   "outputs": [],
   "source": [
    "def do(x):\n",
    "    hour = int(x % 1000000 / 10000)\n",
    "    return hour\n",
    "tmp = train_sms_df\n",
    "train_sms_df.loc[:, 'timestamp'] = tmp['start_time'].apply(do)"
   ]
  },
  {
   "cell_type": "code",
   "execution_count": 6,
   "metadata": {},
   "outputs": [
    {
     "name": "stdout",
     "output_type": "stream",
     "text": [
      "         uid                           opp_num  opp_head  opp_len  start_time  \\\n",
      "0       4003  B378E065731B897E7295926B27CBA0D5       186       11    20174042   \n",
      "1       4003  B378E065731B897E7295926B27CBA0D5       186       11    20174130   \n",
      "2       4003  1B15607F3E6D167B44D46046D5993D87       189       11    20015746   \n",
      "3       4003  1B15607F3E6D167B44D46046D5993D87       189       11    20015640   \n",
      "4       4003  B378E065731B897E7295926B27CBA0D5       186       11    20045300   \n",
      "5       4003  B378E065731B897E7295926B27CBA0D5       186       11    20045253   \n",
      "6       2354  FFCB99E153F74A7A6BB2481E9EAA666D       132       11    20104305   \n",
      "7       2354  FFCB99E153F74A7A6BB2481E9EAA666D       132       11    20104305   \n",
      "8       2354  FFCB99E153F74A7A6BB2481E9EAA666D       132       11    20170619   \n",
      "9       2354  7FEFA80914C7C9336EEC31BAEC427E14       106        9    20090930   \n",
      "10      2354  7FEFA80914C7C9336EEC31BAEC427E14       106        9    20090930   \n",
      "11      2354  FFCB99E153F74A7A6BB2481E9EAA666D       132       11    20170619   \n",
      "12      2354  FFCB99E153F74A7A6BB2481E9EAA666D       132       11    20194430   \n",
      "13      1459  020A4F661545FDF78C9EC479EFE6F27A       131       11    20000125   \n",
      "14      1459  020A4F661545FDF78C9EC479EFE6F27A       131       11    20084644   \n",
      "15      1459  020A4F661545FDF78C9EC479EFE6F27A       131       11    20084644   \n",
      "16      1459  020A4F661545FDF78C9EC479EFE6F27A       131       11    20092521   \n",
      "17      1459  2C94BFAEEB30F858860967DC54844536       100        9    20113811   \n",
      "18      1459  2C94BFAEEB30F858860967DC54844536       100        9    20113811   \n",
      "19      1459  020A4F661545FDF78C9EC479EFE6F27A       131       11    20152805   \n",
      "20      1459  020A4F661545FDF78C9EC479EFE6F27A       131       11    20152649   \n",
      "21      1459  020A4F661545FDF78C9EC479EFE6F27A       131       11    20152516   \n",
      "22      1459  020A4F661545FDF78C9EC479EFE6F27A       131       11    20150805   \n",
      "23      1459  020A4F661545FDF78C9EC479EFE6F27A       131       11    20151845   \n",
      "24      1459  020A4F661545FDF78C9EC479EFE6F27A       131       11    20152324   \n",
      "25      1459  020A4F661545FDF78C9EC479EFE6F27A       131       11    20152433   \n",
      "26      1459  020A4F661545FDF78C9EC479EFE6F27A       131       11    20151245   \n",
      "27      1864  5909E0BFBF7337B63D8E98F8CE4D09B5       131       11    20120504   \n",
      "28      1864  5909E0BFBF7337B63D8E98F8CE4D09B5       131       11    20160610   \n",
      "29      1864  5909E0BFBF7337B63D8E98F8CE4D09B5       131       11    20175102   \n",
      "...      ...                               ...       ...      ...         ...   \n",
      "302946  3549  D9B2713D1F1E4644342AFE7996389EA0       158       11    20185855   \n",
      "302947  3549  D9B2713D1F1E4644342AFE7996389EA0       158       11    20185855   \n",
      "302948  3549  EFBEAB174BF1DFE06006F32C6FC7C2AD       156       11    20115106   \n",
      "302949  3549  EFBEAB174BF1DFE06006F32C6FC7C2AD       156       11    20115106   \n",
      "302950  3549  D9B2713D1F1E4644342AFE7996389EA0       158       11    20185400   \n",
      "302951  3549  D9B2713D1F1E4644342AFE7996389EA0       158       11    20185400   \n",
      "302952  3924  A7750EB1F3FB96632EE072A33943D3C6         0       13    44183711   \n",
      "302953  3924  A7750EB1F3FB96632EE072A33943D3C6         0       13    44183711   \n",
      "302954  4491  A7750EB1F3FB96632EE072A33943D3C6         0       13    44105630   \n",
      "302955  4491  A7750EB1F3FB96632EE072A33943D3C6         0       13    44105630   \n",
      "302956  4491  A7750EB1F3FB96632EE072A33943D3C6         0       13    44114958   \n",
      "302957  4491  A7750EB1F3FB96632EE072A33943D3C6         0       13    44224041   \n",
      "302958  4491  7E33F1BE668E7BFF04D6A5AB9B5E0F5E       130       11    44062714   \n",
      "302959  4196  A7750EB1F3FB96632EE072A33943D3C6         0       13    44224335   \n",
      "302960  4196  A7750EB1F3FB96632EE072A33943D3C6         0       13    44224842   \n",
      "302961  4196  A7750EB1F3FB96632EE072A33943D3C6         0       13    44224335   \n",
      "302962  4196  A7750EB1F3FB96632EE072A33943D3C6         0       13    44175320   \n",
      "302963  4196  E44EE9D64DAA760971F02B2A9B5B8813       130       11    44163410   \n",
      "302964  4196  A7750EB1F3FB96632EE072A33943D3C6         0       13    44164030   \n",
      "302965  4196  A7750EB1F3FB96632EE072A33943D3C6         0       13    44164030   \n",
      "302966  4196  E44EE9D64DAA760971F02B2A9B5B8813       130       11    44163410   \n",
      "302967  4196  A7750EB1F3FB96632EE072A33943D3C6         0       13    44130104   \n",
      "302968  4196  A7750EB1F3FB96632EE072A33943D3C6         0       13    44130902   \n",
      "302969  4196  A7750EB1F3FB96632EE072A33943D3C6         0       13    44130902   \n",
      "302970  4470  4BB341BC2339706139C858D489D51D10       130       11    44180836   \n",
      "302971  3490  A7750EB1F3FB96632EE072A33943D3C6         0       13    44150120   \n",
      "302972  3785  A7750EB1F3FB96632EE072A33943D3C6         0       13    44110703   \n",
      "302973  3785  1809747EEE2B823CE19D0BAACE1DBF70       156       11    44080917   \n",
      "302974  3785  1809747EEE2B823CE19D0BAACE1DBF70       156       11    44153313   \n",
      "302975  3785  1809747EEE2B823CE19D0BAACE1DBF70       156       11    44083516   \n",
      "\n",
      "        in_out  \n",
      "0            1  \n",
      "1            1  \n",
      "2            0  \n",
      "3            0  \n",
      "4            1  \n",
      "5            1  \n",
      "6            1  \n",
      "7            1  \n",
      "8            1  \n",
      "9            1  \n",
      "10           1  \n",
      "11           1  \n",
      "12           1  \n",
      "13           1  \n",
      "14           1  \n",
      "15           1  \n",
      "16           1  \n",
      "17           1  \n",
      "18           1  \n",
      "19           1  \n",
      "20           1  \n",
      "21           1  \n",
      "22           1  \n",
      "23           1  \n",
      "24           1  \n",
      "25           1  \n",
      "26           1  \n",
      "27           1  \n",
      "28           1  \n",
      "29           1  \n",
      "...        ...  \n",
      "302946       0  \n",
      "302947       0  \n",
      "302948       1  \n",
      "302949       1  \n",
      "302950       0  \n",
      "302951       0  \n",
      "302952       1  \n",
      "302953       1  \n",
      "302954       1  \n",
      "302955       1  \n",
      "302956       1  \n",
      "302957       1  \n",
      "302958       0  \n",
      "302959       1  \n",
      "302960       1  \n",
      "302961       1  \n",
      "302962       1  \n",
      "302963       1  \n",
      "302964       1  \n",
      "302965       1  \n",
      "302966       1  \n",
      "302967       1  \n",
      "302968       1  \n",
      "302969       1  \n",
      "302970       1  \n",
      "302971       1  \n",
      "302972       1  \n",
      "302973       1  \n",
      "302974       1  \n",
      "302975       1  \n",
      "\n",
      "[302976 rows x 6 columns]\n"
     ]
    }
   ],
   "source": [
    "print(train_sms_df)"
   ]
  },
  {
   "cell_type": "code",
   "execution_count": 5,
   "metadata": {},
   "outputs": [],
   "source": [
    "train1 = train_sms_df[train_sms_df['in_out'] == 0]\n",
    "train2 = train_sms_df[train_sms_df['in_out'] == 1]"
   ]
  },
  {
   "cell_type": "code",
   "execution_count": 6,
   "metadata": {},
   "outputs": [],
   "source": [
    "tmp1 = train1[train1['uid'] < 4100]\n",
    "tmp2 = train1[train1['uid'] >= 4100]\n",
    "tmp3 = train1[train1['uid'] < 2000]"
   ]
  },
  {
   "cell_type": "code",
   "execution_count": 52,
   "metadata": {},
   "outputs": [
    {
     "name": "stdout",
     "output_type": "stream",
     "text": [
      "         uid                           opp_num  opp_head  opp_len  start_time  \\\n",
      "2       4003  1B15607F3E6D167B44D46046D5993D87       189       11    20015746   \n",
      "3       4003  1B15607F3E6D167B44D46046D5993D87       189       11    20015640   \n",
      "33       925  F9EBE72ED8207BF7CC7F340AC74EB3AB       139       11    20083934   \n",
      "34       925  97575FE2F0E1ABEBEA4F27D54641DDF3       180       11    20093517   \n",
      "35       925  5A065248ED7EA05FCDAA1A33C683DF0D       182       11    20083400   \n",
      "36       925  0BF05B7399ABF7CE07268268FFAA5685       136       11    20083044   \n",
      "39      1718  F9AB560F14EFF94233F05147F5B7EE93       150       11    20212629   \n",
      "40      1718  F9AB560F14EFF94233F05147F5B7EE93       150       11    20212623   \n",
      "41      1718  F9AB560F14EFF94233F05147F5B7EE93       150       11    20121513   \n",
      "42      1718  F9AB560F14EFF94233F05147F5B7EE93       150       11    20122307   \n",
      "45      1718  F9AB560F14EFF94233F05147F5B7EE93       150       11    20174749   \n",
      "48       171  D4388867B3FB924DCBFC51487F2AEA5B       186       11    20081718   \n",
      "65      2819  FEF0030CAE343744343393572D69D2AD       132       11    20111149   \n",
      "66      2819  B789A1CC99CB2D3A1A8E4904FACDBFBD       132       11    20181612   \n",
      "67      2819  44FCC6235EA1C001C41CE7783EC433C0       132       11    20180536   \n",
      "68      2819  D062CAF1AC2832662115919F9DC4A8D0       132       11    20181612   \n",
      "69      2819  45EB9BC8F6C69EADFD2B9117A61C7C0C       132       11    20181613   \n",
      "70      2819  2F1CC25469A7B79C3042F4E59D02AFD4       132       11    20181609   \n",
      "71      2819  8328960DDA759EE880B09185E22ABEFA       132       11    20181611   \n",
      "72      2819  FEF0030CAE343744343393572D69D2AD       132       11    20181609   \n",
      "73      2819  83932678043BC1BE07E07511A3B8DE4F       132       11    20181612   \n",
      "74      2819  3740E9C80EA567BFCBAD994D300524F0       132       11    20181613   \n",
      "75      2819  FEF0030CAE343744343393572D69D2AD       132       11    20163915   \n",
      "76      2819  2F1CC25469A7B79C3042F4E59D02AFD4       132       11    20163914   \n",
      "77      2819  2F1CC25469A7B79C3042F4E59D02AFD4       132       11    20163914   \n",
      "78      2819  B789A1CC99CB2D3A1A8E4904FACDBFBD       132       11    20163916   \n",
      "79      2819  B789A1CC99CB2D3A1A8E4904FACDBFBD       132       11    20163916   \n",
      "80      2819  3740E9C80EA567BFCBAD994D300524F0       132       11    20163917   \n",
      "81      2819  3740E9C80EA567BFCBAD994D300524F0       132       11    20163917   \n",
      "82      2819  44FCC6235EA1C001C41CE7783EC433C0       132       11    20163919   \n",
      "...      ...                               ...       ...      ...         ...   \n",
      "302841  3468  A9CF1278748841C46797110F57677473       158       11    24164602   \n",
      "302842  3468  A9CF1278748841C46797110F57677473       158       11    24164518   \n",
      "302843  3468  A9CF1278748841C46797110F57677473       158       11    24164431   \n",
      "302844  3468  A9CF1278748841C46797110F57677473       158       11    24164445   \n",
      "302845  3468  A9CF1278748841C46797110F57677473       158       11    24164550   \n",
      "302846  3468  A9CF1278748841C46797110F57677473       158       11    24164557   \n",
      "302847  3468  A9CF1278748841C46797110F57677473       158       11    24164459   \n",
      "302848  3468  A9CF1278748841C46797110F57677473       158       11    24113113   \n",
      "302849  3468  A9CF1278748841C46797110F57677473       158       11    24112903   \n",
      "302850  3468  A9CF1278748841C46797110F57677473       158       11    24112949   \n",
      "302851  3468  A9CF1278748841C46797110F57677473       158       11    24113043   \n",
      "302852  3468  3D580ACD8AC5EF0253FA6CB522837961       150       11    24112755   \n",
      "302853  3468  A9CF1278748841C46797110F57677473       158       11    24113111   \n",
      "302854  3468  A9CF1278748841C46797110F57677473       158       11    24113203   \n",
      "302855  3468  A9CF1278748841C46797110F57677473       158       11    24113132   \n",
      "302856  3468  A9CF1278748841C46797110F57677473       158       11    24112706   \n",
      "302857  3468  A9CF1278748841C46797110F57677473       158       11    24112449   \n",
      "302858  3468  A9CF1278748841C46797110F57677473       158       11    24112630   \n",
      "302875  1689  E7A83D8CAF87DFB2ABF58C8320E8641A       137       11    24081506   \n",
      "302876  1689  E7A83D8CAF87DFB2ABF58C8320E8641A       137       11    24083135   \n",
      "302879  1689  CE05F6172945E0CAC0B2B99FD15A36EB       156       11    24095531   \n",
      "302880  1689  E7A83D8CAF87DFB2ABF58C8320E8641A       137       11    24061815   \n",
      "302882   483  1B82913D964918FACA7E2DDCBF2795F6       106       12    24204802   \n",
      "302883  3287  969AD39DF6F1F87C2865DAADC9283D20       139       11    24121351   \n",
      "302916  2242  D708E3AD8D740AF23EAFD52FFE7514F9       106        8    20210411   \n",
      "302917  2242  D708E3AD8D740AF23EAFD52FFE7514F9       106        8    20234901   \n",
      "302946  3549  D9B2713D1F1E4644342AFE7996389EA0       158       11    20185855   \n",
      "302947  3549  D9B2713D1F1E4644342AFE7996389EA0       158       11    20185855   \n",
      "302950  3549  D9B2713D1F1E4644342AFE7996389EA0       158       11    20185400   \n",
      "302951  3549  D9B2713D1F1E4644342AFE7996389EA0       158       11    20185400   \n",
      "\n",
      "        in_out  timestamp  \n",
      "2            0          1  \n",
      "3            0          1  \n",
      "33           0          8  \n",
      "34           0          9  \n",
      "35           0          8  \n",
      "36           0          8  \n",
      "39           0         21  \n",
      "40           0         21  \n",
      "41           0         12  \n",
      "42           0         12  \n",
      "45           0         17  \n",
      "48           0          8  \n",
      "65           0         11  \n",
      "66           0         18  \n",
      "67           0         18  \n",
      "68           0         18  \n",
      "69           0         18  \n",
      "70           0         18  \n",
      "71           0         18  \n",
      "72           0         18  \n",
      "73           0         18  \n",
      "74           0         18  \n",
      "75           0         16  \n",
      "76           0         16  \n",
      "77           0         16  \n",
      "78           0         16  \n",
      "79           0         16  \n",
      "80           0         16  \n",
      "81           0         16  \n",
      "82           0         16  \n",
      "...        ...        ...  \n",
      "302841       0         16  \n",
      "302842       0         16  \n",
      "302843       0         16  \n",
      "302844       0         16  \n",
      "302845       0         16  \n",
      "302846       0         16  \n",
      "302847       0         16  \n",
      "302848       0         11  \n",
      "302849       0         11  \n",
      "302850       0         11  \n",
      "302851       0         11  \n",
      "302852       0         11  \n",
      "302853       0         11  \n",
      "302854       0         11  \n",
      "302855       0         11  \n",
      "302856       0         11  \n",
      "302857       0         11  \n",
      "302858       0         11  \n",
      "302875       0          8  \n",
      "302876       0          8  \n",
      "302879       0          9  \n",
      "302880       0          6  \n",
      "302882       0         20  \n",
      "302883       0         12  \n",
      "302916       0         21  \n",
      "302917       0         23  \n",
      "302946       0         18  \n",
      "302947       0         18  \n",
      "302950       0         18  \n",
      "302951       0         18  \n",
      "\n",
      "[40400 rows x 7 columns]\n"
     ]
    }
   ],
   "source": [
    "print(tmp1)"
   ]
  },
  {
   "cell_type": "code",
   "execution_count": 53,
   "metadata": {},
   "outputs": [
    {
     "name": "stdout",
     "output_type": "stream",
     "text": [
      "         uid                           opp_num  opp_head  opp_len  start_time  \\\n",
      "23084   4351  A5147B854C98B3A487E7E640294A4DA3       136       11    33220653   \n",
      "23085   4351  A5147B854C98B3A487E7E640294A4DA3       136       11    33220642   \n",
      "41137   4351  C1D76A60C1CD8A6741BDDB2AA5887D12       139       11    42222208   \n",
      "41138   4351  C1D76A60C1CD8A6741BDDB2AA5887D12       139       11    42222218   \n",
      "41992   4351  265B26B1B67874E4DB56BD0644EE9700       106       12    38085154   \n",
      "41994   4351  265B26B1B67874E4DB56BD0644EE9700       106       12    38085159   \n",
      "46685   4351  C79C78609E82998E589AA067C6A9FFF4       106       11    35160903   \n",
      "63429   4229  3E634C402080AAE2DA0C20D61D80EDD5       106        8    44175951   \n",
      "63692   4868  F65A099EF78FFA6CB0680F1827839DD7       106       10    44175341   \n",
      "63693   4868  F65A099EF78FFA6CB0680F1827839DD7       106       10    44175119   \n",
      "63699   4868  F65A099EF78FFA6CB0680F1827839DD7       106       10    44175229   \n",
      "63700   4868  F65A099EF78FFA6CB0680F1827839DD7       106       10    44174636   \n",
      "63704   4868  F65A099EF78FFA6CB0680F1827839DD7       106       10    44175802   \n",
      "63706   4868  F65A099EF78FFA6CB0680F1827839DD7       106       10    44175650   \n",
      "63708   4868  F65A099EF78FFA6CB0680F1827839DD7       106       10    44175540   \n",
      "63710   4868  F65A099EF78FFA6CB0680F1827839DD7       106       10    44174857   \n",
      "63711   4868  F65A099EF78FFA6CB0680F1827839DD7       106       10    44174521   \n",
      "63712   4868  F65A099EF78FFA6CB0680F1827839DD7       106       10    44175517   \n",
      "63714   4868  F65A099EF78FFA6CB0680F1827839DD7       106       10    44175454   \n",
      "63717   4868  F65A099EF78FFA6CB0680F1827839DD7       106       10    44175007   \n",
      "63718   4868  F65A099EF78FFA6CB0680F1827839DD7       106       10    44174747   \n",
      "63719   4868  F65A099EF78FFA6CB0680F1827839DD7       106       10    44180025   \n",
      "63721   4868  F65A099EF78FFA6CB0680F1827839DD7       106       10    44180243   \n",
      "63724   4868  F65A099EF78FFA6CB0680F1827839DD7       106       10    44175915   \n",
      "63725   4868  F65A099EF78FFA6CB0680F1827839DD7       106       10    44180135   \n",
      "63836   4351  E8B86330E6FDA815074912FC43F10027       182       11    44211943   \n",
      "63837   4351  E8B86330E6FDA815074912FC43F10027       182       11    44211933   \n",
      "102131  4351  35446793105E62796E74B58F76657CDF       106       12    41120315   \n",
      "102134  4351  35446793105E62796E74B58F76657CDF       106       12    41120304   \n",
      "126815  4819  452C0D3C753DAEDC61A06CFDF391D181       188       11    35194418   \n",
      "...      ...                               ...       ...      ...         ...   \n",
      "302437  4484  7D49C3A4F28656A4894E232964C18B96       130       11    28191335   \n",
      "302438  4484  2AF069444F2E3FC9C3400F3528F5AC37       130       11    28161020   \n",
      "302439  4484  2AF069444F2E3FC9C3400F3528F5AC37       130       11    28161540   \n",
      "302451  4101  28DD8CFF108244331F1CEA01CE01AAE9       151       11    12100338   \n",
      "302454  4101  EAE14126E556C0E9382EF0F3C3E2CDBD       151       11    12124150   \n",
      "302480  4669  1F11A016248DF2AF836DCE94D675DBB2       135       11    12064952   \n",
      "302485  4791  3D691B7A43A1ED523EB2972463444FB1       130       11    12164235   \n",
      "302511  4333  50681927EF9020EAF2B24BEEC346C29F         4       14    12152832   \n",
      "302721  4499  81C0BB309A6AC9AD74D749BFEA92DA30       173       11     1152624   \n",
      "302750  4482  C9D6E20BFC3DB5FC83C8209554970D81       130       11     1215349   \n",
      "302751  4482  F272C01822F5F05E85FC6C7A877C694A       130       11     1155248   \n",
      "302752  4482  FACFD8E22EDB03F416970CAB76F81D6A       130       11     1185730   \n",
      "302753  4482  D9D015B2D3DBDB1E878342DD4B758979       130       11     1185730   \n",
      "302755  4482  753762EBF1C3095E7559181E5DD98A1E       130       11     1191149   \n",
      "302757  4482  C29D8820A1F050954B3B2989363D63A6       130       11     1073900   \n",
      "302758  4482  FECFC593DEAEA5D1601CE9B2974C608C       130       11     1125806   \n",
      "302759  4228  01CC004B4E887181CD8FC112589CDD12         4       14     1171817   \n",
      "302766  4397  59B8120616BB7135D6558C59D0D7995D       106        8     1081424   \n",
      "302767  4399  DE768264C1209BFD2FCBE076BC757FDA       861        7     1230602   \n",
      "302905  4861  7E7928867EC85D9E7BCFCD5140D27CDA       139       11    20141427   \n",
      "302908  4861  BBE9C28EF53299A05A5F8ECBAB41D28C         9        5    20203509   \n",
      "302909  4861  BBE9C28EF53299A05A5F8ECBAB41D28C         9        5    20203509   \n",
      "302924  4493  2D6166BF9910C5468EB447CA6DBE6D58       130       11    20110054   \n",
      "302925  4493  1F1E522747D241AACBA50A61FB29CAE1       130       11    20070832   \n",
      "302929  4493  593FFEB8E2A0F45DC946A9B0A743F548       131       11    20094645   \n",
      "302930  4493  67F10430E2AC12EA463EC0F0F2734A48       130       11    20231838   \n",
      "302931  4493  593FFEB8E2A0F45DC946A9B0A743F548       131       11    20091219   \n",
      "302932  4493  593FFEB8E2A0F45DC946A9B0A743F548       131       11    20090748   \n",
      "302933  4493  593FFEB8E2A0F45DC946A9B0A743F548       131       11    20090748   \n",
      "302958  4491  7E33F1BE668E7BFF04D6A5AB9B5E0F5E       130       11    44062714   \n",
      "\n",
      "        in_out  timestamp  \n",
      "23084        0         22  \n",
      "23085        0         22  \n",
      "41137        0         22  \n",
      "41138        0         22  \n",
      "41992        0          8  \n",
      "41994        0          8  \n",
      "46685        0         16  \n",
      "63429        0         17  \n",
      "63692        0         17  \n",
      "63693        0         17  \n",
      "63699        0         17  \n",
      "63700        0         17  \n",
      "63704        0         17  \n",
      "63706        0         17  \n",
      "63708        0         17  \n",
      "63710        0         17  \n",
      "63711        0         17  \n",
      "63712        0         17  \n",
      "63714        0         17  \n",
      "63717        0         17  \n",
      "63718        0         17  \n",
      "63719        0         18  \n",
      "63721        0         18  \n",
      "63724        0         17  \n",
      "63725        0         18  \n",
      "63836        0         21  \n",
      "63837        0         21  \n",
      "102131       0         12  \n",
      "102134       0         12  \n",
      "126815       0         19  \n",
      "...        ...        ...  \n",
      "302437       0         19  \n",
      "302438       0         16  \n",
      "302439       0         16  \n",
      "302451       0         10  \n",
      "302454       0         12  \n",
      "302480       0          6  \n",
      "302485       0         16  \n",
      "302511       0         15  \n",
      "302721       0         15  \n",
      "302750       0         21  \n",
      "302751       0         15  \n",
      "302752       0         18  \n",
      "302753       0         18  \n",
      "302755       0         19  \n",
      "302757       0          7  \n",
      "302758       0         12  \n",
      "302759       0         17  \n",
      "302766       0          8  \n",
      "302767       0         23  \n",
      "302905       0         14  \n",
      "302908       0         20  \n",
      "302909       0         20  \n",
      "302924       0         11  \n",
      "302925       0          7  \n",
      "302929       0          9  \n",
      "302930       0         23  \n",
      "302931       0          9  \n",
      "302932       0          9  \n",
      "302933       0          9  \n",
      "302958       0          6  \n",
      "\n",
      "[35372 rows x 7 columns]\n"
     ]
    }
   ],
   "source": [
    "print(tmp2)"
   ]
  },
  {
   "cell_type": "code",
   "execution_count": 46,
   "metadata": {},
   "outputs": [
    {
     "data": {
      "text/plain": [
       "count      24.000000\n",
       "mean     1683.333333\n",
       "std      1053.033492\n",
       "min       136.000000\n",
       "25%       465.500000\n",
       "50%      2201.000000\n",
       "75%      2608.000000\n",
       "max      2825.000000\n",
       "Name: timestamp, dtype: float64"
      ]
     },
     "execution_count": 46,
     "metadata": {},
     "output_type": "execute_result"
    }
   ],
   "source": [
    "t1 = tmp1['timestamp'].value_counts().sort_index()\n",
    "t1.describe()"
   ]
  },
  {
   "cell_type": "code",
   "execution_count": 47,
   "metadata": {},
   "outputs": [
    {
     "data": {
      "text/plain": [
       "count      24.000000\n",
       "mean     1473.833333\n",
       "std      1561.313652\n",
       "min        30.000000\n",
       "25%       593.500000\n",
       "50%      1214.000000\n",
       "75%      1719.250000\n",
       "max      6622.000000\n",
       "Name: timestamp, dtype: float64"
      ]
     },
     "execution_count": 47,
     "metadata": {},
     "output_type": "execute_result"
    }
   ],
   "source": [
    "t2 = tmp2['timestamp'].value_counts().sort_index()\n",
    "t2.describe()"
   ]
  },
  {
   "cell_type": "code",
   "execution_count": 48,
   "metadata": {
    "scrolled": true
   },
   "outputs": [
    {
     "name": "stdout",
     "output_type": "stream",
     "text": [
      "0      483\n",
      "1      328\n",
      "2      173\n",
      "3      163\n",
      "4      136\n",
      "5      176\n",
      "6      413\n",
      "7     1132\n",
      "8     1881\n",
      "9     2513\n",
      "10    2775\n",
      "11    2635\n",
      "12    2538\n",
      "13    2599\n",
      "14    2803\n",
      "15    2825\n",
      "16    2651\n",
      "17    2655\n",
      "18    2301\n",
      "19    2376\n",
      "20    2430\n",
      "21    2101\n",
      "22    1344\n",
      "23     969\n",
      "Name: timestamp, dtype: int64\n"
     ]
    }
   ],
   "source": [
    "print(t1)"
   ]
  },
  {
   "cell_type": "code",
   "execution_count": 49,
   "metadata": {},
   "outputs": [
    {
     "data": {
      "text/plain": [
       "<matplotlib.axes._subplots.AxesSubplot at 0x16e3def0>"
      ]
     },
     "execution_count": 49,
     "metadata": {},
     "output_type": "execute_result"
    },
    {
     "data": {
      "image/png": "[encoded data removed]",
      "text/plain": [
       "<Figure size 432x288 with 1 Axes>"
      ]
     },
     "metadata": {},
     "output_type": "display_data"
    }
   ],
   "source": [
    "t1.plot(kind='bar')"
   ]
  },
  {
   "cell_type": "code",
   "execution_count": 50,
   "metadata": {},
   "outputs": [
    {
     "data": {
      "text/plain": [
       "<matplotlib.axes._subplots.AxesSubplot at 0x16df6978>"
      ]
     },
     "execution_count": 50,
     "metadata": {},
     "output_type": "execute_result"
    },
    {
     "data": {
      "image/png": "[encoded data removed]",
      "text/plain": [
       "<Figure size 432x288 with 1 Axes>"
      ]
     },
     "metadata": {},
     "output_type": "display_data"
    }
   ],
   "source": [
    "t2.plot(kind='bar')"
   ]
  },
  {
   "cell_type": "code",
   "execution_count": 51,
   "metadata": {},
   "outputs": [
    {
     "data": {
      "text/plain": [
       "<matplotlib.axes._subplots.AxesSubplot at 0x17fc6438>"
      ]
     },
     "execution_count": 51,
     "metadata": {},
     "output_type": "execute_result"
    },
    {
     "data": {
      "image/png": "[encoded data removed]",
      "text/plain": [
       "<Figure size 432x288 with 1 Axes>"
      ]
     },
     "metadata": {},
     "output_type": "display_data"
    }
   ],
   "source": [
    "t3 = tmp3['timestamp'].value_counts().sort_index()\n",
    "t3.describe()\n",
    "t3.plot(kind='bar')"
   ]
  },
  {
   "cell_type": "code",
   "execution_count": 55,
   "metadata": {},
   "outputs": [],
   "source": [
    "ww = train1[(train1['timestamp'] == 22) | (train1['timestamp'] == 23) | (train1['timestamp'] == 0)]"
   ]
  },
  {
   "cell_type": "code",
   "execution_count": 57,
   "metadata": {},
   "outputs": [],
   "source": [
    "t1 = ww[ww['uid'] < 4100]\n",
    "t2 = ww[ww['uid'] >= 4100]"
   ]
  },
  {
   "cell_type": "code",
   "execution_count": 63,
   "metadata": {},
   "outputs": [],
   "source": [
    "tt1 = t1['uid'].value_counts().sort_index()\n",
    "tt2 = t2['uid'].value_counts().sort_index()"
   ]
  },
  {
   "cell_type": "code",
   "execution_count": 64,
   "metadata": {
    "scrolled": true
   },
   "outputs": [
    {
     "name": "stdout",
     "output_type": "stream",
     "text": [
      "1       10\n",
      "8        3\n",
      "11       2\n",
      "12       2\n",
      "26       1\n",
      "27       1\n",
      "30       1\n",
      "43       2\n",
      "47       2\n",
      "51       1\n",
      "54       4\n",
      "59       1\n",
      "62       1\n",
      "65       1\n",
      "76       5\n",
      "81       1\n",
      "83       3\n",
      "94       1\n",
      "99       2\n",
      "103      1\n",
      "108      1\n",
      "111      1\n",
      "114      1\n",
      "118      1\n",
      "127      1\n",
      "133      7\n",
      "134      2\n",
      "135      1\n",
      "141      1\n",
      "147      1\n",
      "        ..\n",
      "3944     1\n",
      "3966     1\n",
      "3976     1\n",
      "3980     1\n",
      "3981     3\n",
      "3985     3\n",
      "3986     2\n",
      "3988     1\n",
      "3994     2\n",
      "3998     4\n",
      "3999     1\n",
      "4001    21\n",
      "4002     1\n",
      "4012     1\n",
      "4022     1\n",
      "4023     1\n",
      "4029     1\n",
      "4032     2\n",
      "4033     1\n",
      "4038     2\n",
      "4039    22\n",
      "4040     4\n",
      "4056     1\n",
      "4062     1\n",
      "4064     5\n",
      "4065     1\n",
      "4067     5\n",
      "4073    18\n",
      "4080     2\n",
      "4094     1\n",
      "Name: uid, Length: 670, dtype: int64\n"
     ]
    }
   ],
   "source": [
    "print(tt1)"
   ]
  },
  {
   "cell_type": "code",
   "execution_count": 65,
   "metadata": {},
   "outputs": [
    {
     "data": {
      "text/plain": [
       "count    670.000000\n",
       "mean       4.173134\n",
       "std       10.004925\n",
       "min        1.000000\n",
       "25%        1.000000\n",
       "50%        2.000000\n",
       "75%        3.000000\n",
       "max      160.000000\n",
       "Name: uid, dtype: float64"
      ]
     },
     "execution_count": 65,
     "metadata": {},
     "output_type": "execute_result"
    }
   ],
   "source": [
    "tt1.describe()"
   ]
  },
  {
   "cell_type": "code",
   "execution_count": 66,
   "metadata": {},
   "outputs": [
    {
     "data": {
      "text/plain": [
       "count    249.000000\n",
       "mean      53.333333\n",
       "std      121.647649\n",
       "min        1.000000\n",
       "25%        1.000000\n",
       "50%        3.000000\n",
       "75%       25.000000\n",
       "max      694.000000\n",
       "Name: uid, dtype: float64"
      ]
     },
     "execution_count": 66,
     "metadata": {},
     "output_type": "execute_result"
    }
   ],
   "source": [
    "tt2.describe()"
   ]
  },
  {
   "cell_type": "code",
   "execution_count": 70,
   "metadata": {},
   "outputs": [],
   "source": [
    "ans = ww['uid'].value_counts().sort_index()"
   ]
  },
  {
   "cell_type": "code",
   "execution_count": 71,
   "metadata": {
    "scrolled": true
   },
   "outputs": [
    {
     "name": "stdout",
     "output_type": "stream",
     "text": [
      "1       10\n",
      "8        3\n",
      "11       2\n",
      "12       2\n",
      "26       1\n",
      "27       1\n",
      "30       1\n",
      "43       2\n",
      "47       2\n",
      "51       1\n",
      "54       4\n",
      "59       1\n",
      "62       1\n",
      "65       1\n",
      "76       5\n",
      "81       1\n",
      "83       3\n",
      "94       1\n",
      "99       2\n",
      "103      1\n",
      "108      1\n",
      "111      1\n",
      "114      1\n",
      "118      1\n",
      "127      1\n",
      "133      7\n",
      "134      2\n",
      "135      1\n",
      "141      1\n",
      "147      1\n",
      "        ..\n",
      "4859     1\n",
      "4865     5\n",
      "4868     1\n",
      "4872     5\n",
      "4874    42\n",
      "4880     2\n",
      "4884    35\n",
      "4885     8\n",
      "4916     4\n",
      "4918    13\n",
      "4920     2\n",
      "4922     2\n",
      "4932     5\n",
      "4939     1\n",
      "4943     1\n",
      "4945     1\n",
      "4951     1\n",
      "4952     2\n",
      "4954    21\n",
      "4970     1\n",
      "4973     4\n",
      "4975     1\n",
      "4977     3\n",
      "4978     1\n",
      "4983     5\n",
      "4986     4\n",
      "4990    12\n",
      "4992     3\n",
      "4994     1\n",
      "4995     2\n",
      "Name: uid, Length: 919, dtype: int64\n"
     ]
    }
   ],
   "source": [
    "print(ans)"
   ]
  },
  {
   "cell_type": "code",
   "execution_count": 72,
   "metadata": {},
   "outputs": [],
   "source": [
    "dict = ans.to_dict()\n",
    "ans2 = pd.Series(index = range(1, 5000), data = dict)"
   ]
  },
  {
   "cell_type": "code",
   "execution_count": 73,
   "metadata": {},
   "outputs": [],
   "source": [
    "ans2 = ans2.fillna(0)\n",
    "ans2 = ans2.astype('int64')"
   ]
  },
  {
   "cell_type": "code",
   "execution_count": 74,
   "metadata": {},
   "outputs": [],
   "source": [
    "ans2.to_csv('../data/train/train_feature_9.csv', index=True)"
   ]
  },
  {
   "cell_type": "code",
   "execution_count": 16,
   "metadata": {},
   "outputs": [],
   "source": [
    "tt1 = tmp1[tmp1['opp_len'] != 11].opp_len.value_counts()"
   ]
  },
  {
   "cell_type": "code",
   "execution_count": 17,
   "metadata": {},
   "outputs": [
    {
     "data": {
      "text/plain": [
       "<matplotlib.axes._subplots.AxesSubplot at 0x152b5b38>"
      ]
     },
     "execution_count": 17,
     "metadata": {},
     "output_type": "execute_result"
    },
    {
     "data": {
      "image/png": "[encoded data removed]",
      "text/plain": [
       "<Figure size 432x288 with 1 Axes>"
      ]
     },
     "metadata": {},
     "output_type": "display_data"
    }
   ],
   "source": [
    "tt1.plot(kind='bar')"
   ]
  },
  {
   "cell_type": "code",
   "execution_count": 18,
   "metadata": {},
   "outputs": [
    {
     "data": {
      "text/plain": [
       "<matplotlib.axes._subplots.AxesSubplot at 0x19d17dd8>"
      ]
     },
     "execution_count": 18,
     "metadata": {},
     "output_type": "execute_result"
    },
    {
     "data": {
      "image/png": "[encoded data removed]",
      "text/plain": [
       "<Figure size 432x288 with 1 Axes>"
      ]
     },
     "metadata": {},
     "output_type": "display_data"
    }
   ],
   "source": [
    "tt2 = tmp2[tmp2['opp_len'] != 11].opp_len.value_counts()\n",
    "tt2.plot(kind='bar')"
   ]
  },
  {
   "cell_type": "code",
   "execution_count": 19,
   "metadata": {},
   "outputs": [
    {
     "data": {
      "text/plain": [
       "<matplotlib.axes._subplots.AxesSubplot at 0x1a0874a8>"
      ]
     },
     "execution_count": 19,
     "metadata": {},
     "output_type": "execute_result"
    },
    {
     "data": {
      "image/png": "[encoded data removed]",
      "text/plain": [
       "<Figure size 432x288 with 1 Axes>"
      ]
     },
     "metadata": {},
     "output_type": "display_data"
    }
   ],
   "source": [
    "tt3 = tmp3[tmp3['opp_len'] != 11].opp_len.value_counts()\n",
    "tt3.plot(kind='bar')"
   ]
  },
  {
   "cell_type": "code",
   "execution_count": 20,
   "metadata": {
    "scrolled": true
   },
   "outputs": [
    {
     "data": {
      "text/plain": [
       "DE768264C1209BFD2FCBE076BC757FDA    2592\n",
       "A3C818190441B8CE2DBBC07C81BEFA8A     629\n",
       "3E634C402080AAE2DA0C20D61D80EDD5     548\n",
       "F58E7EEF4429ECB6E4A2A5A56C4D5309     547\n",
       "7DED7750A46E131F94EE7A65BC6A5208     272\n",
       "C79C78609E82998E589AA067C6A9FFF4     269\n",
       "82DAD157C147F50F2CBBD6F1BB1DC81C     248\n",
       "6108858561D5D3AE0772BE542F668B67     247\n",
       "6BFE40692AD013A18138ADC8A7F86B57     219\n",
       "D708E3AD8D740AF23EAFD52FFE7514F9     216\n",
       "DE9EBBDFA600E2974DEAF3EFEBA7DE8F     211\n",
       "47AB091C79B787335F898F7C00BE7300     181\n",
       "242DF5CE6F84D7F38F9E6D3F9F54CBD6     172\n",
       "3B9D6DBC8B430E04D8F5A7F0DE723B33     161\n",
       "609DE63454936E0612CDCB8273126E5C     157\n",
       "DE888BE99BBC50D18A99A43A27AEFD6D     154\n",
       "95B07C07474DB28F797CC2D6E80B3892     154\n",
       "145487877995432F088C42C1F7E2C921     143\n",
       "F2EEE395F471D09D2B43CC228134D38D     141\n",
       "96F0902FC609D08D12A288567C8A7DB4     140\n",
       "8ACE441D221EDC8CA0270CCDC7476E85     129\n",
       "87EC6E82247D49E6CAB38CAAA05036FF     126\n",
       "4B46582F461E9D6641EBCDC36B929B68     119\n",
       "BBE9C28EF53299A05A5F8ECBAB41D28C     107\n",
       "76941701489BA3D9341C33B3A9765648     102\n",
       "3271FD3C307FA182A75646AAB1E25A49      99\n",
       "5936F3DB7A1EBF600DB06C2D5C6DD085      96\n",
       "BA5D0CBA15DBC32AEDE30061DD3F2B65      93\n",
       "EEC20D41A9AEDDFDA579C466FDF96514      92\n",
       "C787418C53C0E15D92839B59962A06B2      90\n",
       "                                    ... \n",
       "E405FCAB527A62F5E05E44840F468374       1\n",
       "D3FB6932991F23B20BAB00EBC8B14EE1       1\n",
       "B8C81ADCE0533BDC0C651FD91C10CCBA       1\n",
       "54E475A9F240B2053367F5B24DE396F6       1\n",
       "B1791F11FAA5D01AE9C4B2696D827AF9       1\n",
       "100346D1C0626491F57836263D7C673B       1\n",
       "B55487DBA4CC028B758A782EE66EAD64       1\n",
       "CF5964489EBE112F02B4C4D05DD87256       1\n",
       "D503EE140B3F436495C33E26D2DF71CB       1\n",
       "4C854602C2553E5E41DD1FBA0FBE7C2D       1\n",
       "40DBC5436CE4DFDB87C671523228FDF8       1\n",
       "3678FBAEF00D2C723BA54DE80005E125       1\n",
       "8B2677AF6DF7979CC5B4F93A49FE8A88       1\n",
       "422ACC101BF073751BCB8222404E3BE0       1\n",
       "762A6E0529FA90629A45C06CEA991A54       1\n",
       "F6C276B003E643FF74DA6A87C2250A3C       1\n",
       "A420FF44661A8464323E7CF305A7CFF8       1\n",
       "081787CDDC2D9F9B1830A17DF3E74CCD       1\n",
       "40FCA4ABDA688CE328D47EC6A465DD14       1\n",
       "FD1C21567CF611EB74998CC166B6243D       1\n",
       "5A11D1C45AED86952862F3D9A3C2E4F6       1\n",
       "86B3025669EB0D2A9BEDFED674E6EF35       1\n",
       "949D03F178AB023A510E516C4AA7D4CB       1\n",
       "371780728FB4D2E6DC59A750CBFEAF0C       1\n",
       "2F36A75B4FB061FEC9ACDFCF6D48A6C9       1\n",
       "9CA4661861CCF0DC82CAAE25EB8CB70E       1\n",
       "F8AB2B44D3774CC8C1809F2F1D3CC964       1\n",
       "AB75B147561A4C1FCF73A746F656284C       1\n",
       "E521B12CE3E5F5C81C863F64C775C212       1\n",
       "2ECEE421E285D626FD44D85FC153816C       1\n",
       "Name: opp_num, Length: 11662, dtype: int64"
      ]
     },
     "execution_count": 20,
     "metadata": {},
     "output_type": "execute_result"
    }
   ],
   "source": [
    "tmp1['opp_num'].value_counts()"
   ]
  },
  {
   "cell_type": "code",
   "execution_count": 24,
   "metadata": {},
   "outputs": [],
   "source": [
    "tt1 = tmp1[tmp1['opp_num'] == 'DE768264C1209BFD2FCBE076BC757FDA']\n",
    "tt2 = tmp2[tmp2['opp_num'] == 'DE768264C1209BFD2FCBE076BC757FDA']"
   ]
  },
  {
   "cell_type": "code",
   "execution_count": 27,
   "metadata": {},
   "outputs": [
    {
     "data": {
      "text/plain": [
       "count    222.000000\n",
       "mean      11.675676\n",
       "std       23.365544\n",
       "min        1.000000\n",
       "25%        1.000000\n",
       "50%        2.000000\n",
       "75%        7.000000\n",
       "max      121.000000\n",
       "Name: uid, dtype: float64"
      ]
     },
     "execution_count": 27,
     "metadata": {},
     "output_type": "execute_result"
    },
    {
     "data": {
      "image/png": "[encoded data removed]",
      "text/plain": [
       "<Figure size 432x288 with 1 Axes>"
      ]
     },
     "metadata": {},
     "output_type": "display_data"
    }
   ],
   "source": [
    "w1 = tt1['uid'].value_counts()\n",
    "w1.plot(kind='bar')\n",
    "w1.describe()"
   ]
  },
  {
   "cell_type": "code",
   "execution_count": 28,
   "metadata": {},
   "outputs": [
    {
     "data": {
      "text/plain": [
       "count    66.000000\n",
       "mean     10.439394\n",
       "std      18.742078\n",
       "min       1.000000\n",
       "25%       1.000000\n",
       "50%       4.000000\n",
       "75%       9.250000\n",
       "max      90.000000\n",
       "Name: uid, dtype: float64"
      ]
     },
     "execution_count": 28,
     "metadata": {},
     "output_type": "execute_result"
    },
    {
     "data": {
      "image/png": "[encoded data removed]",
      "text/plain": [
       "<Figure size 432x288 with 1 Axes>"
      ]
     },
     "metadata": {},
     "output_type": "display_data"
    }
   ],
   "source": [
    "w2 = tt2['uid'].value_counts()\n",
    "w2.plot(kind='bar')\n",
    "w2.describe()"
   ]
  },
  {
   "cell_type": "code",
   "execution_count": 5,
   "metadata": {},
   "outputs": [],
   "source": [
    "def do(x):\n",
    "    return int(x['start_time'] / 1000000)\n",
    "tmp = train_sms_df\n",
    "train_sms_df.loc[:, 'day'] = tmp.apply(do, axis = 1)"
   ]
  },
  {
   "cell_type": "code",
   "execution_count": 6,
   "metadata": {},
   "outputs": [
    {
     "name": "stdout",
     "output_type": "stream",
     "text": [
      "         uid                           opp_num  opp_head  opp_len  start_time  \\\n",
      "0       4003  B378E065731B897E7295926B27CBA0D5       186       11    20174042   \n",
      "1       4003  B378E065731B897E7295926B27CBA0D5       186       11    20174130   \n",
      "2       4003  1B15607F3E6D167B44D46046D5993D87       189       11    20015746   \n",
      "3       4003  1B15607F3E6D167B44D46046D5993D87       189       11    20015640   \n",
      "4       4003  B378E065731B897E7295926B27CBA0D5       186       11    20045300   \n",
      "5       4003  B378E065731B897E7295926B27CBA0D5       186       11    20045253   \n",
      "6       2354  FFCB99E153F74A7A6BB2481E9EAA666D       132       11    20104305   \n",
      "7       2354  FFCB99E153F74A7A6BB2481E9EAA666D       132       11    20104305   \n",
      "8       2354  FFCB99E153F74A7A6BB2481E9EAA666D       132       11    20170619   \n",
      "9       2354  7FEFA80914C7C9336EEC31BAEC427E14       106        9    20090930   \n",
      "10      2354  7FEFA80914C7C9336EEC31BAEC427E14       106        9    20090930   \n",
      "11      2354  FFCB99E153F74A7A6BB2481E9EAA666D       132       11    20170619   \n",
      "12      2354  FFCB99E153F74A7A6BB2481E9EAA666D       132       11    20194430   \n",
      "13      1459  020A4F661545FDF78C9EC479EFE6F27A       131       11    20000125   \n",
      "14      1459  020A4F661545FDF78C9EC479EFE6F27A       131       11    20084644   \n",
      "15      1459  020A4F661545FDF78C9EC479EFE6F27A       131       11    20084644   \n",
      "16      1459  020A4F661545FDF78C9EC479EFE6F27A       131       11    20092521   \n",
      "17      1459  2C94BFAEEB30F858860967DC54844536       100        9    20113811   \n",
      "18      1459  2C94BFAEEB30F858860967DC54844536       100        9    20113811   \n",
      "19      1459  020A4F661545FDF78C9EC479EFE6F27A       131       11    20152805   \n",
      "20      1459  020A4F661545FDF78C9EC479EFE6F27A       131       11    20152649   \n",
      "21      1459  020A4F661545FDF78C9EC479EFE6F27A       131       11    20152516   \n",
      "22      1459  020A4F661545FDF78C9EC479EFE6F27A       131       11    20150805   \n",
      "23      1459  020A4F661545FDF78C9EC479EFE6F27A       131       11    20151845   \n",
      "24      1459  020A4F661545FDF78C9EC479EFE6F27A       131       11    20152324   \n",
      "25      1459  020A4F661545FDF78C9EC479EFE6F27A       131       11    20152433   \n",
      "26      1459  020A4F661545FDF78C9EC479EFE6F27A       131       11    20151245   \n",
      "27      1864  5909E0BFBF7337B63D8E98F8CE4D09B5       131       11    20120504   \n",
      "28      1864  5909E0BFBF7337B63D8E98F8CE4D09B5       131       11    20160610   \n",
      "29      1864  5909E0BFBF7337B63D8E98F8CE4D09B5       131       11    20175102   \n",
      "...      ...                               ...       ...      ...         ...   \n",
      "302946  3549  D9B2713D1F1E4644342AFE7996389EA0       158       11    20185855   \n",
      "302947  3549  D9B2713D1F1E4644342AFE7996389EA0       158       11    20185855   \n",
      "302948  3549  EFBEAB174BF1DFE06006F32C6FC7C2AD       156       11    20115106   \n",
      "302949  3549  EFBEAB174BF1DFE06006F32C6FC7C2AD       156       11    20115106   \n",
      "302950  3549  D9B2713D1F1E4644342AFE7996389EA0       158       11    20185400   \n",
      "302951  3549  D9B2713D1F1E4644342AFE7996389EA0       158       11    20185400   \n",
      "302952  3924  A7750EB1F3FB96632EE072A33943D3C6         0       13    44183711   \n",
      "302953  3924  A7750EB1F3FB96632EE072A33943D3C6         0       13    44183711   \n",
      "302954  4491  A7750EB1F3FB96632EE072A33943D3C6         0       13    44105630   \n",
      "302955  4491  A7750EB1F3FB96632EE072A33943D3C6         0       13    44105630   \n",
      "302956  4491  A7750EB1F3FB96632EE072A33943D3C6         0       13    44114958   \n",
      "302957  4491  A7750EB1F3FB96632EE072A33943D3C6         0       13    44224041   \n",
      "302958  4491  7E33F1BE668E7BFF04D6A5AB9B5E0F5E       130       11    44062714   \n",
      "302959  4196  A7750EB1F3FB96632EE072A33943D3C6         0       13    44224335   \n",
      "302960  4196  A7750EB1F3FB96632EE072A33943D3C6         0       13    44224842   \n",
      "302961  4196  A7750EB1F3FB96632EE072A33943D3C6         0       13    44224335   \n",
      "302962  4196  A7750EB1F3FB96632EE072A33943D3C6         0       13    44175320   \n",
      "302963  4196  E44EE9D64DAA760971F02B2A9B5B8813       130       11    44163410   \n",
      "302964  4196  A7750EB1F3FB96632EE072A33943D3C6         0       13    44164030   \n",
      "302965  4196  A7750EB1F3FB96632EE072A33943D3C6         0       13    44164030   \n",
      "302966  4196  E44EE9D64DAA760971F02B2A9B5B8813       130       11    44163410   \n",
      "302967  4196  A7750EB1F3FB96632EE072A33943D3C6         0       13    44130104   \n",
      "302968  4196  A7750EB1F3FB96632EE072A33943D3C6         0       13    44130902   \n",
      "302969  4196  A7750EB1F3FB96632EE072A33943D3C6         0       13    44130902   \n",
      "302970  4470  4BB341BC2339706139C858D489D51D10       130       11    44180836   \n",
      "302971  3490  A7750EB1F3FB96632EE072A33943D3C6         0       13    44150120   \n",
      "302972  3785  A7750EB1F3FB96632EE072A33943D3C6         0       13    44110703   \n",
      "302973  3785  1809747EEE2B823CE19D0BAACE1DBF70       156       11    44080917   \n",
      "302974  3785  1809747EEE2B823CE19D0BAACE1DBF70       156       11    44153313   \n",
      "302975  3785  1809747EEE2B823CE19D0BAACE1DBF70       156       11    44083516   \n",
      "\n",
      "        in_out  day  \n",
      "0            1   20  \n",
      "1            1   20  \n",
      "2            0   20  \n",
      "3            0   20  \n",
      "4            1   20  \n",
      "5            1   20  \n",
      "6            1   20  \n",
      "7            1   20  \n",
      "8            1   20  \n",
      "9            1   20  \n",
      "10           1   20  \n",
      "11           1   20  \n",
      "12           1   20  \n",
      "13           1   20  \n",
      "14           1   20  \n",
      "15           1   20  \n",
      "16           1   20  \n",
      "17           1   20  \n",
      "18           1   20  \n",
      "19           1   20  \n",
      "20           1   20  \n",
      "21           1   20  \n",
      "22           1   20  \n",
      "23           1   20  \n",
      "24           1   20  \n",
      "25           1   20  \n",
      "26           1   20  \n",
      "27           1   20  \n",
      "28           1   20  \n",
      "29           1   20  \n",
      "...        ...  ...  \n",
      "302946       0   20  \n",
      "302947       0   20  \n",
      "302948       1   20  \n",
      "302949       1   20  \n",
      "302950       0   20  \n",
      "302951       0   20  \n",
      "302952       1   44  \n",
      "302953       1   44  \n",
      "302954       1   44  \n",
      "302955       1   44  \n",
      "302956       1   44  \n",
      "302957       1   44  \n",
      "302958       0   44  \n",
      "302959       1   44  \n",
      "302960       1   44  \n",
      "302961       1   44  \n",
      "302962       1   44  \n",
      "302963       1   44  \n",
      "302964       1   44  \n",
      "302965       1   44  \n",
      "302966       1   44  \n",
      "302967       1   44  \n",
      "302968       1   44  \n",
      "302969       1   44  \n",
      "302970       1   44  \n",
      "302971       1   44  \n",
      "302972       1   44  \n",
      "302973       1   44  \n",
      "302974       1   44  \n",
      "302975       1   44  \n",
      "\n",
      "[302976 rows x 7 columns]\n"
     ]
    }
   ],
   "source": [
    "print(train_sms_df)"
   ]
  },
  {
   "cell_type": "code",
   "execution_count": 7,
   "metadata": {},
   "outputs": [],
   "source": [
    "train1 = train_sms_df[train_sms_df['in_out'] == 0]\n",
    "train2 = train_sms_df[train_sms_df['in_out'] == 1]"
   ]
  },
  {
   "cell_type": "code",
   "execution_count": 8,
   "metadata": {},
   "outputs": [],
   "source": [
    "group = train1.groupby('uid')\n",
    "item_dict = {}\n",
    "for index,g in group:\n",
    "    tmp = g['day'].value_counts()\n",
    "    item_dict[index] = tmp.std()"
   ]
  },
  {
   "cell_type": "code",
   "execution_count": 9,
   "metadata": {},
   "outputs": [],
   "source": [
    "ans = pd.Series(index = range(1, 5000), data = item_dict)"
   ]
  },
  {
   "cell_type": "code",
   "execution_count": 11,
   "metadata": {},
   "outputs": [],
   "source": [
    "ans = ans.fillna(0)"
   ]
  },
  {
   "cell_type": "code",
   "execution_count": 12,
   "metadata": {
    "scrolled": true
   },
   "outputs": [
    {
     "name": "stdout",
     "output_type": "stream",
     "text": [
      "1        2.769969\n",
      "2        0.000000\n",
      "3        0.000000\n",
      "4        2.949576\n",
      "5        0.000000\n",
      "6        0.000000\n",
      "7        0.000000\n",
      "8       29.427878\n",
      "9        0.000000\n",
      "10       0.000000\n",
      "11       1.414214\n",
      "12       3.817254\n",
      "13       0.000000\n",
      "14       1.154701\n",
      "15       0.000000\n",
      "16       0.000000\n",
      "17       1.527525\n",
      "18       0.000000\n",
      "19       3.505098\n",
      "20       0.836660\n",
      "21       0.000000\n",
      "22       0.000000\n",
      "23       0.000000\n",
      "24       1.640640\n",
      "25       0.990430\n",
      "26       1.059806\n",
      "27       1.017815\n",
      "28       1.414214\n",
      "29       0.000000\n",
      "30       2.362908\n",
      "          ...    \n",
      "4970     2.867442\n",
      "4971     1.378405\n",
      "4972     1.264911\n",
      "4973     3.497618\n",
      "4974     0.707107\n",
      "4975     2.799872\n",
      "4976     0.517549\n",
      "4977     0.351250\n",
      "4978     0.000000\n",
      "4979     0.000000\n",
      "4980     0.000000\n",
      "4981     0.000000\n",
      "4982     0.307794\n",
      "4983     1.643168\n",
      "4984     0.332106\n",
      "4985     0.000000\n",
      "4986     2.000000\n",
      "4987     0.000000\n",
      "4988     0.000000\n",
      "4989     0.000000\n",
      "4990     2.179449\n",
      "4991     7.778175\n",
      "4992     2.387467\n",
      "4993     0.000000\n",
      "4994     0.000000\n",
      "4995     0.577350\n",
      "4996     0.000000\n",
      "4997     0.707107\n",
      "4998     0.707107\n",
      "4999     0.000000\n",
      "Length: 4999, dtype: float64\n"
     ]
    }
   ],
   "source": [
    "print(ans)"
   ]
  },
  {
   "cell_type": "code",
   "execution_count": 13,
   "metadata": {},
   "outputs": [],
   "source": [
    "ans.to_csv('../data/train/train_feature_20.csv', index=True)"
   ]
  },
  {
   "cell_type": "code",
   "execution_count": 14,
   "metadata": {},
   "outputs": [],
   "source": [
    "tt1 = ans[ans.index < 4100]\n",
    "tt2 = ans[ans.index >= 4100]\n",
    "tt3 = ans[ans.index < 2000]"
   ]
  },
  {
   "cell_type": "code",
   "execution_count": 15,
   "metadata": {},
   "outputs": [
    {
     "data": {
      "text/plain": [
       "<matplotlib.axes._subplots.AxesSubplot at 0x14cde2e8>"
      ]
     },
     "execution_count": 15,
     "metadata": {},
     "output_type": "execute_result"
    },
    {
     "data": {
      "image/png": "[encoded data removed]",
      "text/plain": [
       "<Figure size 432x288 with 1 Axes>"
      ]
     },
     "metadata": {},
     "output_type": "display_data"
    }
   ],
   "source": [
    "tt1.plot(kind='bar')"
   ]
  },
  {
   "cell_type": "code",
   "execution_count": 16,
   "metadata": {},
   "outputs": [
    {
     "data": {
      "text/plain": [
       "<matplotlib.axes._subplots.AxesSubplot at 0x152785c0>"
      ]
     },
     "execution_count": 16,
     "metadata": {},
     "output_type": "execute_result"
    },
    {
     "data": {
      "image/png": "[encoded data removed]",
      "text/plain": [
       "<Figure size 432x288 with 1 Axes>"
      ]
     },
     "metadata": {},
     "output_type": "display_data"
    }
   ],
   "source": [
    "tt2.plot(kind='bar')"
   ]
  },
  {
   "cell_type": "code",
   "execution_count": 17,
   "metadata": {},
   "outputs": [
    {
     "data": {
      "text/plain": [
       "<matplotlib.axes._subplots.AxesSubplot at 0x180accc0>"
      ]
     },
     "execution_count": 17,
     "metadata": {},
     "output_type": "execute_result"
    },
    {
     "data": {
      "image/png": "[encoded data removed]",
      "text/plain": [
       "<Figure size 432x288 with 1 Axes>"
      ]
     },
     "metadata": {},
     "output_type": "display_data"
    }
   ],
   "source": [
    "tt3.plot(kind='bar')"
   ]
  },
  {
   "cell_type": "markdown",
   "metadata": {},
   "source": [
    "# Feature 28"
   ]
  },
  {
   "cell_type": "code",
   "execution_count": 7,
   "metadata": {},
   "outputs": [
    {
     "name": "stderr",
     "output_type": "stream",
     "text": [
      "d:\\program files (x86)\\python\\lib\\site-packages\\ipykernel_launcher.py:1: FutureWarning: using a dict on a Series for aggregation\n",
      "is deprecated and will be removed in a future version\n",
      "  \"\"\"Entry point for launching an IPython kernel.\n"
     ]
    }
   ],
   "source": [
    "sms_opp_num = train_sms_df.groupby(['uid'])['opp_num'].agg({'unique_count': lambda x: len(pd.unique(x)),'count':'count'}).add_prefix('sms_opp_num_')"
   ]
  },
  {
   "cell_type": "code",
   "execution_count": 8,
   "metadata": {
    "scrolled": true
   },
   "outputs": [
    {
     "name": "stdout",
     "output_type": "stream",
     "text": [
      "      sms_opp_num_count  sms_opp_num_unique_count\n",
      "uid                                              \n",
      "1                    95                        11\n",
      "2                     1                         1\n",
      "3                    28                         2\n",
      "4                   124                        10\n",
      "5                    48                         4\n",
      "6                    30                         3\n",
      "7                    42                         2\n",
      "8                   379                        10\n",
      "9                    15                         2\n",
      "10                   34                         2\n",
      "11                    5                         4\n",
      "12                  187                        14\n",
      "13                    2                         1\n",
      "14                   95                         9\n",
      "15                   30                         2\n",
      "16                   89                         8\n",
      "17                   55                         5\n",
      "18                   42                         3\n",
      "19                  106                        12\n",
      "20                   76                         8\n",
      "21                    2                         2\n",
      "22                   39                         3\n",
      "23                    2                         2\n",
      "24                  184                        10\n",
      "25                  203                        24\n",
      "26                  134                        23\n",
      "27                  121                        22\n",
      "28                   96                         8\n",
      "29                   53                         2\n",
      "30                   49                        13\n",
      "...                 ...                       ...\n",
      "4970                 62                        23\n",
      "4971                 30                        12\n",
      "4972                 22                         8\n",
      "4973                137                        20\n",
      "4974                 17                         4\n",
      "4975                 36                        14\n",
      "4976                 21                        11\n",
      "4977                 25                         2\n",
      "4978                  1                         1\n",
      "4979                  7                         2\n",
      "4980                 61                         2\n",
      "4981                  1                         1\n",
      "4982                 30                         3\n",
      "4983                 14                         2\n",
      "4984                 19                         1\n",
      "4985                  8                         2\n",
      "4986                 30                         5\n",
      "4987                  7                         2\n",
      "4988                  4                         1\n",
      "4989                  4                         1\n",
      "4990                 30                        17\n",
      "4991                 31                         5\n",
      "4992                 18                         6\n",
      "4993                  7                         3\n",
      "4994                  3                         2\n",
      "4995                  6                         2\n",
      "4996                  2                         1\n",
      "4997                  3                         2\n",
      "4998                  3                         2\n",
      "4999                  6                         1\n",
      "\n",
      "[4959 rows x 2 columns]\n"
     ]
    }
   ],
   "source": [
    "print(sms_opp_num)"
   ]
  },
  {
   "cell_type": "markdown",
   "metadata": {},
   "source": [
    "# Feature 29"
   ]
  },
  {
   "cell_type": "code",
   "execution_count": 9,
   "metadata": {},
   "outputs": [
    {
     "name": "stderr",
     "output_type": "stream",
     "text": [
      "d:\\program files (x86)\\python\\lib\\site-packages\\ipykernel_launcher.py:1: FutureWarning: using a dict on a Series for aggregation\n",
      "is deprecated and will be removed in a future version\n",
      "  \"\"\"Entry point for launching an IPython kernel.\n"
     ]
    }
   ],
   "source": [
    "sms_opp_head=train_sms_df.groupby(['uid'])['opp_head'].agg({'unique_count': lambda x: len(pd.unique(x))}).add_prefix('sms_opp_head_')"
   ]
  },
  {
   "cell_type": "code",
   "execution_count": 10,
   "metadata": {
    "scrolled": true
   },
   "outputs": [
    {
     "name": "stdout",
     "output_type": "stream",
     "text": [
      "      sms_opp_head_unique_count\n",
      "uid                            \n",
      "1                             6\n",
      "2                             1\n",
      "3                             2\n",
      "4                             8\n",
      "5                             4\n",
      "6                             3\n",
      "7                             2\n",
      "8                             7\n",
      "9                             2\n",
      "10                            2\n",
      "11                            4\n",
      "12                           10\n",
      "13                            1\n",
      "14                            7\n",
      "15                            2\n",
      "16                            6\n",
      "17                            4\n",
      "18                            3\n",
      "19                            8\n",
      "20                            6\n",
      "21                            1\n",
      "22                            3\n",
      "23                            2\n",
      "24                            6\n",
      "25                           18\n",
      "26                           14\n",
      "27                           15\n",
      "28                            5\n",
      "29                            2\n",
      "30                            7\n",
      "...                         ...\n",
      "4970                          5\n",
      "4971                          2\n",
      "4972                          4\n",
      "4973                          4\n",
      "4974                          2\n",
      "4975                          2\n",
      "4976                          3\n",
      "4977                          1\n",
      "4978                          1\n",
      "4979                          2\n",
      "4980                          2\n",
      "4981                          1\n",
      "4982                          3\n",
      "4983                          2\n",
      "4984                          1\n",
      "4985                          2\n",
      "4986                          4\n",
      "4987                          2\n",
      "4988                          1\n",
      "4989                          1\n",
      "4990                         12\n",
      "4991                          5\n",
      "4992                          6\n",
      "4993                          3\n",
      "4994                          2\n",
      "4995                          2\n",
      "4996                          1\n",
      "4997                          2\n",
      "4998                          1\n",
      "4999                          1\n",
      "\n",
      "[4959 rows x 1 columns]\n"
     ]
    }
   ],
   "source": [
    "print(sms_opp_head)"
   ]
  },
  {
   "cell_type": "markdown",
   "metadata": {},
   "source": [
    "# Feature 30"
   ]
  },
  {
   "cell_type": "code",
   "execution_count": 11,
   "metadata": {},
   "outputs": [],
   "source": [
    "sms_opp_len=train_sms_df.groupby(['uid','opp_len'])['uid'].count().unstack().add_prefix('sms_opp_len_').fillna(0)"
   ]
  },
  {
   "cell_type": "code",
   "execution_count": 12,
   "metadata": {},
   "outputs": [],
   "source": [
    "sms_opp_len.columns.names = ['']"
   ]
  },
  {
   "cell_type": "code",
   "execution_count": 13,
   "metadata": {},
   "outputs": [
    {
     "name": "stdout",
     "output_type": "stream",
     "text": [
      "sms_opp_len_2\n"
     ]
    }
   ],
   "source": [
    "print(sms_opp_len.columns[0])"
   ]
  },
  {
   "cell_type": "code",
   "execution_count": 14,
   "metadata": {},
   "outputs": [
    {
     "data": {
      "text/plain": [
       "'\\nori = sms_opp_len\\nfor i in range(0, ori.columns.size):\\n    if len(pd.unique(ori.iloc[:, i])) < 50:\\n        sms_opp_len = sms_opp_len.drop(columns = ori.columns[i], axis=1)\\n'"
      ]
     },
     "execution_count": 14,
     "metadata": {},
     "output_type": "execute_result"
    }
   ],
   "source": [
    "'''\n",
    "ori = sms_opp_len\n",
    "for i in range(0, ori.columns.size):\n",
    "    if len(pd.unique(ori.iloc[:, i])) < 50:\n",
    "        sms_opp_len = sms_opp_len.drop(columns = ori.columns[i], axis=1)\n",
    "'''"
   ]
  },
  {
   "cell_type": "code",
   "execution_count": 15,
   "metadata": {
    "scrolled": true
   },
   "outputs": [
    {
     "name": "stdout",
     "output_type": "stream",
     "text": [
      "      sms_opp_len_2  sms_opp_len_4  sms_opp_len_5  sms_opp_len_6  \\\n",
      "uid                                                                \n",
      "1               0.0            0.0            0.0            0.0   \n",
      "2               0.0            0.0            0.0            0.0   \n",
      "3               0.0            0.0            0.0            0.0   \n",
      "4               0.0            0.0            2.0            0.0   \n",
      "5               0.0            0.0            0.0            0.0   \n",
      "6               0.0            0.0            0.0            0.0   \n",
      "7               0.0            0.0            0.0            0.0   \n",
      "8               0.0            0.0            2.0            0.0   \n",
      "9               0.0            0.0            0.0            0.0   \n",
      "10              0.0            0.0            0.0            0.0   \n",
      "11              0.0            0.0            0.0            0.0   \n",
      "12              0.0            0.0            2.0            0.0   \n",
      "13              0.0            0.0            0.0            0.0   \n",
      "14              0.0            0.0            0.0            0.0   \n",
      "15              0.0            0.0            0.0            0.0   \n",
      "16              0.0            0.0            0.0            0.0   \n",
      "17              0.0            0.0            0.0            0.0   \n",
      "18              0.0            0.0            0.0            0.0   \n",
      "19              0.0            0.0            2.0            0.0   \n",
      "20              0.0            0.0            0.0            0.0   \n",
      "21              0.0            0.0            0.0            0.0   \n",
      "22              0.0            0.0            0.0            0.0   \n",
      "23              0.0            0.0            0.0            0.0   \n",
      "24              0.0            0.0            0.0            0.0   \n",
      "25              0.0            0.0            2.0            0.0   \n",
      "26              0.0            0.0            0.0            0.0   \n",
      "27              0.0            0.0            0.0            0.0   \n",
      "28              0.0            0.0            0.0            0.0   \n",
      "29              0.0            0.0            0.0            0.0   \n",
      "30              0.0            0.0            0.0            0.0   \n",
      "...             ...            ...            ...            ...   \n",
      "4970            0.0            0.0            0.0            0.0   \n",
      "4971            0.0            0.0            0.0            0.0   \n",
      "4972            0.0            0.0            1.0            0.0   \n",
      "4973            0.0            0.0            2.0            0.0   \n",
      "4974            0.0            0.0            0.0            0.0   \n",
      "4975            0.0            0.0            0.0            0.0   \n",
      "4976            0.0            0.0            0.0            0.0   \n",
      "4977            0.0            0.0            0.0            0.0   \n",
      "4978            0.0            0.0            0.0            0.0   \n",
      "4979            0.0            0.0            0.0            0.0   \n",
      "4980            0.0            0.0            0.0            0.0   \n",
      "4981            0.0            0.0            0.0            0.0   \n",
      "4982            0.0            0.0            0.0            0.0   \n",
      "4983            0.0            0.0            0.0            0.0   \n",
      "4984            0.0            0.0            0.0            0.0   \n",
      "4985            0.0            0.0            0.0            0.0   \n",
      "4986            0.0            0.0            2.0            0.0   \n",
      "4987            0.0            0.0            0.0            0.0   \n",
      "4988            0.0            0.0            0.0            0.0   \n",
      "4989            0.0            0.0            0.0            0.0   \n",
      "4990            0.0            0.0            0.0            0.0   \n",
      "4991            0.0            0.0            0.0            0.0   \n",
      "4992            0.0            0.0            0.0            0.0   \n",
      "4993            0.0            0.0            0.0            0.0   \n",
      "4994            0.0            0.0            0.0            0.0   \n",
      "4995            0.0            0.0            0.0            0.0   \n",
      "4996            0.0            0.0            0.0            0.0   \n",
      "4997            0.0            0.0            0.0            0.0   \n",
      "4998            0.0            0.0            0.0            0.0   \n",
      "4999            0.0            0.0            0.0            0.0   \n",
      "\n",
      "      sms_opp_len_7  sms_opp_len_8  sms_opp_len_9  sms_opp_len_10  \\\n",
      "uid                                                                 \n",
      "1               0.0            2.0           10.0             0.0   \n",
      "2               0.0            0.0            0.0             0.0   \n",
      "3               0.0            0.0            0.0             0.0   \n",
      "4               0.0            3.0           18.0             1.0   \n",
      "5               0.0            2.0           13.0             0.0   \n",
      "6               0.0            1.0            0.0             0.0   \n",
      "7               0.0            0.0            0.0             0.0   \n",
      "8               0.0            1.0           15.0             1.0   \n",
      "9               0.0            0.0            0.0             0.0   \n",
      "10              0.0            0.0            0.0             0.0   \n",
      "11              0.0            1.0            0.0             0.0   \n",
      "12              0.0            2.0           11.0             1.0   \n",
      "13              0.0            0.0            0.0             0.0   \n",
      "14              0.0            3.0           16.0             0.0   \n",
      "15              0.0            0.0            0.0             0.0   \n",
      "16              0.0            0.0           10.0             0.0   \n",
      "17              0.0            0.0            0.0             0.0   \n",
      "18              0.0            0.0            0.0             0.0   \n",
      "19              0.0            1.0           14.0             0.0   \n",
      "20              0.0            4.0           12.0             0.0   \n",
      "21              0.0            1.0            0.0             0.0   \n",
      "22              0.0            1.0            0.0             0.0   \n",
      "23              1.0            1.0            0.0             0.0   \n",
      "24              0.0            0.0           14.0             1.0   \n",
      "25              0.0            0.0           15.0             0.0   \n",
      "26              0.0            5.0            1.0             7.0   \n",
      "27              0.0            0.0           12.0             0.0   \n",
      "28              0.0            4.0           12.0             0.0   \n",
      "29              0.0            0.0            0.0             0.0   \n",
      "30              0.0            6.0            0.0            14.0   \n",
      "...             ...            ...            ...             ...   \n",
      "4970            0.0            0.0            0.0             0.0   \n",
      "4971            0.0            0.0            0.0             0.0   \n",
      "4972            0.0            0.0            0.0             0.0   \n",
      "4973            0.0            0.0            0.0             0.0   \n",
      "4974            0.0            0.0            0.0             0.0   \n",
      "4975            0.0            0.0            0.0             0.0   \n",
      "4976            0.0            0.0            0.0             0.0   \n",
      "4977           25.0            0.0            0.0             0.0   \n",
      "4978            0.0            0.0            0.0             0.0   \n",
      "4979            0.0            0.0            0.0             0.0   \n",
      "4980            0.0            0.0            0.0             0.0   \n",
      "4981            1.0            0.0            0.0             0.0   \n",
      "4982            0.0           20.0            0.0             0.0   \n",
      "4983            0.0            0.0            0.0             0.0   \n",
      "4984           19.0            0.0            0.0             0.0   \n",
      "4985            0.0            0.0            0.0             0.0   \n",
      "4986            0.0            6.0            0.0             0.0   \n",
      "4987            0.0            0.0            0.0             0.0   \n",
      "4988            0.0            0.0            0.0             0.0   \n",
      "4989            0.0            0.0            0.0             0.0   \n",
      "4990            0.0            0.0            0.0             0.0   \n",
      "4991            0.0            1.0            0.0             0.0   \n",
      "4992            0.0            1.0            0.0             0.0   \n",
      "4993            0.0            0.0            0.0             0.0   \n",
      "4994            0.0            0.0            0.0             0.0   \n",
      "4995            4.0            0.0            0.0             0.0   \n",
      "4996            0.0            0.0            0.0             0.0   \n",
      "4997            0.0            0.0            0.0             0.0   \n",
      "4998            0.0            0.0            0.0             0.0   \n",
      "4999            0.0            0.0            0.0             0.0   \n",
      "\n",
      "      sms_opp_len_11  sms_opp_len_12  sms_opp_len_13  sms_opp_len_14  \\\n",
      "uid                                                                    \n",
      "1               75.0             8.0             0.0             0.0   \n",
      "2                1.0             0.0             0.0             0.0   \n",
      "3                8.0             0.0            20.0             0.0   \n",
      "4              100.0             0.0             0.0             0.0   \n",
      "5               33.0             0.0             0.0             0.0   \n",
      "6                9.0             0.0            20.0             0.0   \n",
      "7               14.0             0.0            28.0             0.0   \n",
      "8              355.0             5.0             0.0             0.0   \n",
      "9               12.0             0.0             3.0             0.0   \n",
      "10              27.0             0.0             7.0             0.0   \n",
      "11               4.0             0.0             0.0             0.0   \n",
      "12             170.0             1.0             0.0             0.0   \n",
      "13               2.0             0.0             0.0             0.0   \n",
      "14              76.0             0.0             0.0             0.0   \n",
      "15              15.0             0.0            15.0             0.0   \n",
      "16              26.0            53.0             0.0             0.0   \n",
      "17              25.0             0.0            30.0             0.0   \n",
      "18              12.0             0.0            30.0             0.0   \n",
      "19              89.0             0.0             0.0             0.0   \n",
      "20              60.0             0.0             0.0             0.0   \n",
      "21               1.0             0.0             0.0             0.0   \n",
      "22              19.0             0.0            19.0             0.0   \n",
      "23               0.0             0.0             0.0             0.0   \n",
      "24             168.0             0.0             0.0             1.0   \n",
      "25             186.0             0.0             0.0             0.0   \n",
      "26             121.0             0.0             0.0             0.0   \n",
      "27             109.0             0.0             0.0             0.0   \n",
      "28              32.0            48.0             0.0             0.0   \n",
      "29               1.0            52.0             0.0             0.0   \n",
      "30              28.0             0.0             0.0             1.0   \n",
      "...              ...             ...             ...             ...   \n",
      "4970            51.0             0.0            11.0             0.0   \n",
      "4971            18.0             0.0            12.0             0.0   \n",
      "4972            11.0             0.0            10.0             0.0   \n",
      "4973            55.0             0.0            80.0             0.0   \n",
      "4974             3.0             0.0            14.0             0.0   \n",
      "4975            18.0             0.0            18.0             0.0   \n",
      "4976            11.0             0.0            10.0             0.0   \n",
      "4977             0.0             0.0             0.0             0.0   \n",
      "4978             1.0             0.0             0.0             0.0   \n",
      "4979             4.0             0.0             3.0             0.0   \n",
      "4980             4.0             0.0            57.0             0.0   \n",
      "4981             0.0             0.0             0.0             0.0   \n",
      "4982             2.0             0.0             8.0             0.0   \n",
      "4983            14.0             0.0             0.0             0.0   \n",
      "4984             0.0             0.0             0.0             0.0   \n",
      "4985             1.0             0.0             7.0             0.0   \n",
      "4986             1.0             0.0            21.0             0.0   \n",
      "4987             5.0             0.0             2.0             0.0   \n",
      "4988             4.0             0.0             0.0             0.0   \n",
      "4989             0.0             0.0             4.0             0.0   \n",
      "4990            25.0             0.0             5.0             0.0   \n",
      "4991            13.0             0.0            17.0             0.0   \n",
      "4992            15.0             0.0             2.0             0.0   \n",
      "4993             5.0             0.0             2.0             0.0   \n",
      "4994             3.0             0.0             0.0             0.0   \n",
      "4995             2.0             0.0             0.0             0.0   \n",
      "4996             0.0             0.0             0.0             2.0   \n",
      "4997             3.0             0.0             0.0             0.0   \n",
      "4998             2.0             0.0             0.0             1.0   \n",
      "4999             0.0             0.0             6.0             0.0   \n",
      "\n",
      "      sms_opp_len_15  sms_opp_len_16  sms_opp_len_17  sms_opp_len_18  \\\n",
      "uid                                                                    \n",
      "1                0.0             0.0             0.0             0.0   \n",
      "2                0.0             0.0             0.0             0.0   \n",
      "3                0.0             0.0             0.0             0.0   \n",
      "4                0.0             0.0             0.0             0.0   \n",
      "5                0.0             0.0             0.0             0.0   \n",
      "6                0.0             0.0             0.0             0.0   \n",
      "7                0.0             0.0             0.0             0.0   \n",
      "8                0.0             0.0             0.0             0.0   \n",
      "9                0.0             0.0             0.0             0.0   \n",
      "10               0.0             0.0             0.0             0.0   \n",
      "11               0.0             0.0             0.0             0.0   \n",
      "12               0.0             0.0             0.0             0.0   \n",
      "13               0.0             0.0             0.0             0.0   \n",
      "14               0.0             0.0             0.0             0.0   \n",
      "15               0.0             0.0             0.0             0.0   \n",
      "16               0.0             0.0             0.0             0.0   \n",
      "17               0.0             0.0             0.0             0.0   \n",
      "18               0.0             0.0             0.0             0.0   \n",
      "19               0.0             0.0             0.0             0.0   \n",
      "20               0.0             0.0             0.0             0.0   \n",
      "21               0.0             0.0             0.0             0.0   \n",
      "22               0.0             0.0             0.0             0.0   \n",
      "23               0.0             0.0             0.0             0.0   \n",
      "24               0.0             0.0             0.0             0.0   \n",
      "25               0.0             0.0             0.0             0.0   \n",
      "26               0.0             0.0             0.0             0.0   \n",
      "27               0.0             0.0             0.0             0.0   \n",
      "28               0.0             0.0             0.0             0.0   \n",
      "29               0.0             0.0             0.0             0.0   \n",
      "30               0.0             0.0             0.0             0.0   \n",
      "...              ...             ...             ...             ...   \n",
      "4970             0.0             0.0             0.0             0.0   \n",
      "4971             0.0             0.0             0.0             0.0   \n",
      "4972             0.0             0.0             0.0             0.0   \n",
      "4973             0.0             0.0             0.0             0.0   \n",
      "4974             0.0             0.0             0.0             0.0   \n",
      "4975             0.0             0.0             0.0             0.0   \n",
      "4976             0.0             0.0             0.0             0.0   \n",
      "4977             0.0             0.0             0.0             0.0   \n",
      "4978             0.0             0.0             0.0             0.0   \n",
      "4979             0.0             0.0             0.0             0.0   \n",
      "4980             0.0             0.0             0.0             0.0   \n",
      "4981             0.0             0.0             0.0             0.0   \n",
      "4982             0.0             0.0             0.0             0.0   \n",
      "4983             0.0             0.0             0.0             0.0   \n",
      "4984             0.0             0.0             0.0             0.0   \n",
      "4985             0.0             0.0             0.0             0.0   \n",
      "4986             0.0             0.0             0.0             0.0   \n",
      "4987             0.0             0.0             0.0             0.0   \n",
      "4988             0.0             0.0             0.0             0.0   \n",
      "4989             0.0             0.0             0.0             0.0   \n",
      "4990             0.0             0.0             0.0             0.0   \n",
      "4991             0.0             0.0             0.0             0.0   \n",
      "4992             0.0             0.0             0.0             0.0   \n",
      "4993             0.0             0.0             0.0             0.0   \n",
      "4994             0.0             0.0             0.0             0.0   \n",
      "4995             0.0             0.0             0.0             0.0   \n",
      "4996             0.0             0.0             0.0             0.0   \n",
      "4997             0.0             0.0             0.0             0.0   \n",
      "4998             0.0             0.0             0.0             0.0   \n",
      "4999             0.0             0.0             0.0             0.0   \n",
      "\n",
      "      sms_opp_len_19  sms_opp_len_20  \n",
      "uid                                   \n",
      "1                0.0             0.0  \n",
      "2                0.0             0.0  \n",
      "3                0.0             0.0  \n",
      "4                0.0             0.0  \n",
      "5                0.0             0.0  \n",
      "6                0.0             0.0  \n",
      "7                0.0             0.0  \n",
      "8                0.0             0.0  \n",
      "9                0.0             0.0  \n",
      "10               0.0             0.0  \n",
      "11               0.0             0.0  \n",
      "12               0.0             0.0  \n",
      "13               0.0             0.0  \n",
      "14               0.0             0.0  \n",
      "15               0.0             0.0  \n",
      "16               0.0             0.0  \n",
      "17               0.0             0.0  \n",
      "18               0.0             0.0  \n",
      "19               0.0             0.0  \n",
      "20               0.0             0.0  \n",
      "21               0.0             0.0  \n",
      "22               0.0             0.0  \n",
      "23               0.0             0.0  \n",
      "24               0.0             0.0  \n",
      "25               0.0             0.0  \n",
      "26               0.0             0.0  \n",
      "27               0.0             0.0  \n",
      "28               0.0             0.0  \n",
      "29               0.0             0.0  \n",
      "30               0.0             0.0  \n",
      "...              ...             ...  \n",
      "4970             0.0             0.0  \n",
      "4971             0.0             0.0  \n",
      "4972             0.0             0.0  \n",
      "4973             0.0             0.0  \n",
      "4974             0.0             0.0  \n",
      "4975             0.0             0.0  \n",
      "4976             0.0             0.0  \n",
      "4977             0.0             0.0  \n",
      "4978             0.0             0.0  \n",
      "4979             0.0             0.0  \n",
      "4980             0.0             0.0  \n",
      "4981             0.0             0.0  \n",
      "4982             0.0             0.0  \n",
      "4983             0.0             0.0  \n",
      "4984             0.0             0.0  \n",
      "4985             0.0             0.0  \n",
      "4986             0.0             0.0  \n",
      "4987             0.0             0.0  \n",
      "4988             0.0             0.0  \n",
      "4989             0.0             0.0  \n",
      "4990             0.0             0.0  \n",
      "4991             0.0             0.0  \n",
      "4992             0.0             0.0  \n",
      "4993             0.0             0.0  \n",
      "4994             0.0             0.0  \n",
      "4995             0.0             0.0  \n",
      "4996             0.0             0.0  \n",
      "4997             0.0             0.0  \n",
      "4998             0.0             0.0  \n",
      "4999             0.0             0.0  \n",
      "\n",
      "[4959 rows x 18 columns]\n"
     ]
    }
   ],
   "source": [
    "print(sms_opp_len)"
   ]
  },
  {
   "cell_type": "markdown",
   "metadata": {},
   "source": [
    "# Feature 31"
   ]
  },
  {
   "cell_type": "code",
   "execution_count": 16,
   "metadata": {},
   "outputs": [],
   "source": [
    "sms_in_out = train_sms_df.groupby(['uid','in_out'])['uid'].count().unstack().add_prefix('sms_in_out_').fillna(0)"
   ]
  },
  {
   "cell_type": "code",
   "execution_count": 17,
   "metadata": {},
   "outputs": [],
   "source": [
    "sms_in_out.columns.names = ['']"
   ]
  },
  {
   "cell_type": "code",
   "execution_count": 18,
   "metadata": {
    "scrolled": true
   },
   "outputs": [
    {
     "name": "stdout",
     "output_type": "stream",
     "text": [
      "      sms_in_out_0  sms_in_out_1\n",
      "uid                             \n",
      "1             39.0          56.0\n",
      "2              0.0           1.0\n",
      "3              0.0          28.0\n",
      "4             19.0         105.0\n",
      "5              2.0          46.0\n",
      "6              1.0          29.0\n",
      "7              0.0          42.0\n",
      "8            150.0         229.0\n",
      "9              0.0          15.0\n",
      "10             0.0          34.0\n",
      "11             4.0           1.0\n",
      "12            36.0         151.0\n",
      "13             0.0           2.0\n",
      "14             8.0          87.0\n",
      "15             0.0          30.0\n",
      "16             5.0          84.0\n",
      "17             8.0          47.0\n",
      "18             3.0          39.0\n",
      "19            39.0          67.0\n",
      "20            11.0          65.0\n",
      "21             0.0           2.0\n",
      "22             1.0          38.0\n",
      "23             2.0           0.0\n",
      "24            61.0         123.0\n",
      "25            28.0         175.0\n",
      "26            46.0          88.0\n",
      "27            31.0          90.0\n",
      "28             4.0          92.0\n",
      "29             0.0          53.0\n",
      "30            11.0          38.0\n",
      "...            ...           ...\n",
      "4970          50.0          12.0\n",
      "4971          15.0          15.0\n",
      "4972          12.0          10.0\n",
      "4973          57.0          80.0\n",
      "4974           3.0          14.0\n",
      "4975          17.0          19.0\n",
      "4976          11.0          10.0\n",
      "4977          25.0           0.0\n",
      "4978           1.0           0.0\n",
      "4979           0.0           7.0\n",
      "4980           0.0          61.0\n",
      "4981           1.0           0.0\n",
      "4982          22.0           8.0\n",
      "4983          14.0           0.0\n",
      "4984          19.0           0.0\n",
      "4985           0.0           8.0\n",
      "4986           9.0          21.0\n",
      "4987           0.0           7.0\n",
      "4988           4.0           0.0\n",
      "4989           0.0           4.0\n",
      "4990          24.0           6.0\n",
      "4991          13.0          18.0\n",
      "4992          16.0           2.0\n",
      "4993           2.0           5.0\n",
      "4994           3.0           0.0\n",
      "4995           6.0           0.0\n",
      "4996           2.0           0.0\n",
      "4997           3.0           0.0\n",
      "4998           3.0           0.0\n",
      "4999           0.0           6.0\n",
      "\n",
      "[4959 rows x 2 columns]\n"
     ]
    }
   ],
   "source": [
    "print(sms_in_out)"
   ]
  },
  {
   "cell_type": "markdown",
   "metadata": {},
   "source": [
    "# Feature 32"
   ]
  },
  {
   "cell_type": "code",
   "execution_count": 20,
   "metadata": {},
   "outputs": [],
   "source": [
    "def do(x):\n",
    "    hour = int(x % 1000000 / 10000)\n",
    "    return hour\n",
    "tmp = train_sms_df\n",
    "train_sms_df.loc[:, 'timestamp'] = tmp['start_time'].apply(do)"
   ]
  },
  {
   "cell_type": "code",
   "execution_count": 21,
   "metadata": {},
   "outputs": [],
   "source": [
    "train_1 = train_sms_df[train_sms_df['in_out'] == 0]\n",
    "train_2 = train_sms_df[train_sms_df['in_out'] == 1]"
   ]
  },
  {
   "cell_type": "code",
   "execution_count": 22,
   "metadata": {},
   "outputs": [],
   "source": [
    "ww = train_1[(train_1['timestamp'] == 22) | (train_1['timestamp'] == 23) | (train_1['timestamp'] == 0)]"
   ]
  },
  {
   "cell_type": "code",
   "execution_count": 23,
   "metadata": {},
   "outputs": [],
   "source": [
    "ans = ww['uid'].value_counts().sort_index()"
   ]
  },
  {
   "cell_type": "code",
   "execution_count": 24,
   "metadata": {},
   "outputs": [],
   "source": [
    "ans_df = pd.DataFrame(data = ans)\n",
    "ans_df.index.name = 'uid'\n",
    "ans_df.columns = ['night_count']"
   ]
  },
  {
   "cell_type": "code",
   "execution_count": 28,
   "metadata": {
    "scrolled": true
   },
   "outputs": [
    {
     "name": "stdout",
     "output_type": "stream",
     "text": [
      "      night_count\n",
      "uid              \n",
      "1              10\n",
      "8               3\n",
      "11              2\n",
      "12              2\n",
      "26              1\n",
      "27              1\n",
      "30              1\n",
      "43              2\n",
      "47              2\n",
      "51              1\n",
      "54              4\n",
      "59              1\n",
      "62              1\n",
      "65              1\n",
      "76              5\n",
      "81              1\n",
      "83              3\n",
      "94              1\n",
      "99              2\n",
      "103             1\n",
      "108             1\n",
      "111             1\n",
      "114             1\n",
      "118             1\n",
      "127             1\n",
      "133             7\n",
      "134             2\n",
      "135             1\n",
      "141             1\n",
      "147             1\n",
      "...           ...\n",
      "4859            1\n",
      "4865            5\n",
      "4868            1\n",
      "4872            5\n",
      "4874           42\n",
      "4880            2\n",
      "4884           35\n",
      "4885            8\n",
      "4916            4\n",
      "4918           13\n",
      "4920            2\n",
      "4922            2\n",
      "4932            5\n",
      "4939            1\n",
      "4943            1\n",
      "4945            1\n",
      "4951            1\n",
      "4952            2\n",
      "4954           21\n",
      "4970            1\n",
      "4973            4\n",
      "4975            1\n",
      "4977            3\n",
      "4978            1\n",
      "4983            5\n",
      "4986            4\n",
      "4990           12\n",
      "4992            3\n",
      "4994            1\n",
      "4995            2\n",
      "\n",
      "[919 rows x 1 columns]\n"
     ]
    }
   ],
   "source": [
    "print(ans_df)"
   ]
  },
  {
   "cell_type": "markdown",
   "metadata": {},
   "source": [
    "# Feature 33"
   ]
  },
  {
   "cell_type": "code",
   "execution_count": 26,
   "metadata": {},
   "outputs": [],
   "source": [
    "def do(x):\n",
    "    hour = int(x / 1000000)\n",
    "    return hour\n",
    "tmp = train_sms_df\n",
    "train_sms_df.loc[:, 'date'] = tmp['start_time'].apply(do)"
   ]
  },
  {
   "cell_type": "code",
   "execution_count": 27,
   "metadata": {},
   "outputs": [],
   "source": [
    "date = train_sms_df.groupby(['uid','date'])['uid'].count().unstack().add_prefix('date_').fillna(0)"
   ]
  },
  {
   "cell_type": "code",
   "execution_count": 29,
   "metadata": {},
   "outputs": [
    {
     "name": "stdout",
     "output_type": "stream",
     "text": [
      "date  date_1  date_2  date_3  date_4  date_5  date_6  date_7  date_8  date_9  \\\n",
      "uid                                                                            \n",
      "1        0.0     0.0     1.0     0.0     1.0     1.0     0.0     0.0     5.0   \n",
      "2        0.0     0.0     0.0     0.0     0.0     0.0     0.0     0.0     0.0   \n",
      "3        1.0     0.0     0.0     0.0     0.0     0.0     2.0     2.0     0.0   \n",
      "4        4.0     6.0     1.0     2.0     0.0     0.0     4.0     3.0     4.0   \n",
      "5        0.0     3.0     0.0     0.0     1.0     0.0     1.0     0.0     1.0   \n",
      "6        0.0     1.0     0.0     0.0     1.0     0.0     0.0     0.0     2.0   \n",
      "7        0.0     0.0     0.0     0.0     3.0     2.0     3.0     0.0     2.0   \n",
      "8        2.0    13.0     1.0     0.0     1.0     7.0     6.0     4.0    21.0   \n",
      "9        0.0     1.0     0.0     0.0     0.0     4.0     0.0     0.0     0.0   \n",
      "10       0.0     1.0     0.0     0.0     0.0     4.0     2.0     1.0     1.0   \n",
      "11       1.0     0.0     3.0     0.0     1.0     0.0     0.0     0.0     0.0   \n",
      "12       3.0     4.0     0.0     7.0     7.0     3.0     2.0     4.0     5.0   \n",
      "13       2.0     0.0     0.0     0.0     0.0     0.0     0.0     0.0     0.0   \n",
      "14       0.0     4.0     0.0     2.0     0.0     4.0     3.0     5.0     1.0   \n",
      "15       0.0     0.0     4.0     0.0     0.0     1.0     0.0     3.0     2.0   \n",
      "16       1.0     1.0     1.0     2.0     2.0     1.0     2.0     2.0     3.0   \n",
      "17       3.0     2.0     0.0     0.0     1.0     7.0     0.0     3.0     2.0   \n",
      "18       2.0     1.0     0.0     1.0     2.0     3.0     0.0     1.0     0.0   \n",
      "19      16.0     2.0     0.0     2.0     0.0     0.0     1.0     7.0     2.0   \n",
      "20       0.0     1.0     0.0     0.0     0.0     0.0     5.0     0.0     4.0   \n",
      "21       0.0     0.0     0.0     0.0     0.0     0.0     0.0     0.0     0.0   \n",
      "22       4.0     2.0     0.0     2.0     0.0     1.0     0.0     2.0     1.0   \n",
      "23       0.0     0.0     0.0     0.0     0.0     0.0     0.0     0.0     0.0   \n",
      "24       2.0     4.0     4.0     0.0     1.0     2.0     5.0     2.0     2.0   \n",
      "25       2.0     4.0     2.0     5.0     2.0     7.0     2.0     4.0     8.0   \n",
      "26       5.0     2.0     0.0     1.0     2.0     2.0     4.0     1.0     0.0   \n",
      "27       0.0     2.0     1.0     0.0     1.0     5.0     3.0     0.0     5.0   \n",
      "28       3.0     6.0     1.0     8.0     1.0     1.0     2.0     3.0     1.0   \n",
      "29       1.0     1.0     1.0     2.0     1.0     1.0     1.0     1.0     1.0   \n",
      "30       1.0     5.0     2.0     2.0     1.0     6.0     1.0     3.0     0.0   \n",
      "...      ...     ...     ...     ...     ...     ...     ...     ...     ...   \n",
      "4970     0.0     0.0     0.0     0.0     0.0     0.0     0.0     0.0     0.0   \n",
      "4971     0.0     0.0     0.0     0.0     0.0     0.0     0.0     0.0     0.0   \n",
      "4972     0.0     0.0     0.0     0.0     0.0     0.0     0.0     0.0     0.0   \n",
      "4973     0.0     0.0     0.0     0.0     0.0     0.0     0.0     0.0     0.0   \n",
      "4974     0.0     0.0     0.0     0.0     0.0     0.0     0.0     0.0     0.0   \n",
      "4975     0.0     0.0     0.0     0.0     0.0     0.0     0.0     0.0     0.0   \n",
      "4976     0.0     0.0     0.0     0.0     0.0     0.0     0.0     0.0     0.0   \n",
      "4977     1.0     1.0     0.0     1.0     1.0     1.0     2.0     1.0     1.0   \n",
      "4978     0.0     0.0     1.0     0.0     0.0     0.0     0.0     0.0     0.0   \n",
      "4979     0.0     0.0     0.0     0.0     2.0     0.0     0.0     0.0     0.0   \n",
      "4980     0.0     0.0     0.0     0.0     0.0     0.0     0.0     0.0     0.0   \n",
      "4981     0.0     0.0     0.0     0.0     0.0     0.0     0.0     0.0     0.0   \n",
      "4982     1.0     0.0     0.0     1.0     0.0     0.0     0.0     1.0     1.0   \n",
      "4983     0.0     0.0     0.0     0.0     0.0     0.0     0.0     0.0     0.0   \n",
      "4984     0.0     0.0     2.0     1.0     0.0     0.0     0.0     1.0     0.0   \n",
      "4985     0.0     3.0     0.0     1.0     0.0     0.0     1.0     0.0     0.0   \n",
      "4986     0.0     0.0     0.0     0.0     0.0     0.0     0.0     0.0     1.0   \n",
      "4987     0.0     1.0     0.0     0.0     0.0     0.0     0.0     0.0     2.0   \n",
      "4988     0.0     0.0     0.0     0.0     0.0     0.0     0.0     0.0     0.0   \n",
      "4989     0.0     0.0     0.0     0.0     0.0     0.0     0.0     0.0     0.0   \n",
      "4990     2.0     2.0     0.0     2.0     0.0     1.0     0.0     0.0     5.0   \n",
      "4991     0.0     3.0     2.0     0.0     0.0     1.0     0.0     0.0     0.0   \n",
      "4992     0.0     0.0     0.0     0.0     0.0     0.0     0.0     0.0     0.0   \n",
      "4993     1.0     0.0     0.0     0.0     0.0     0.0     0.0     0.0     0.0   \n",
      "4994     0.0     0.0     0.0     0.0     0.0     0.0     0.0     0.0     0.0   \n",
      "4995     0.0     0.0     0.0     0.0     0.0     0.0     0.0     0.0     0.0   \n",
      "4996     0.0     0.0     0.0     0.0     0.0     0.0     0.0     0.0     0.0   \n",
      "4997     0.0     0.0     0.0     0.0     0.0     0.0     0.0     0.0     0.0   \n",
      "4998     0.0     0.0     0.0     0.0     0.0     0.0     0.0     0.0     0.0   \n",
      "4999     0.0     0.0     0.0     0.0     0.0     0.0     0.0     0.0     0.0   \n",
      "\n",
      "date  date_10   ...     date_36  date_37  date_38  date_39  date_40  date_41  \\\n",
      "uid             ...                                                            \n",
      "1         0.0   ...         7.0      7.0      6.0      2.0      0.0      3.0   \n",
      "2         0.0   ...         0.0      0.0      0.0      0.0      0.0      0.0   \n",
      "3         0.0   ...         0.0      0.0      0.0      2.0      0.0      0.0   \n",
      "4         3.0   ...         3.0      0.0      8.0      3.0      5.0      0.0   \n",
      "5         0.0   ...         1.0      0.0      3.0      0.0      1.0      0.0   \n",
      "6         0.0   ...         0.0      0.0      2.0      0.0      0.0      0.0   \n",
      "7         0.0   ...         0.0      2.0      0.0      0.0      1.0      0.0   \n",
      "8         4.0   ...         6.0     11.0      3.0      2.0      9.0     17.0   \n",
      "9         0.0   ...         0.0      0.0      0.0      0.0      0.0      0.0   \n",
      "10        3.0   ...         1.0      1.0      2.0      0.0      2.0      0.0   \n",
      "11        0.0   ...         0.0      0.0      0.0      0.0      0.0      0.0   \n",
      "12        0.0   ...         1.0      4.0      1.0      3.0      9.0     15.0   \n",
      "13        0.0   ...         0.0      0.0      0.0      0.0      0.0      0.0   \n",
      "14        0.0   ...         1.0      5.0      2.0      2.0      2.0      2.0   \n",
      "15        0.0   ...         0.0      0.0      2.0      0.0      0.0      0.0   \n",
      "16        1.0   ...         2.0      1.0      3.0      3.0      2.0      2.0   \n",
      "17        1.0   ...         0.0      0.0      2.0      2.0      2.0      2.0   \n",
      "18        4.0   ...         0.0      0.0      0.0      1.0      0.0      0.0   \n",
      "19        0.0   ...         0.0      0.0      2.0      0.0      1.0      6.0   \n",
      "20        0.0   ...         0.0      0.0      2.0      0.0      3.0      4.0   \n",
      "21        0.0   ...         0.0      1.0      0.0      0.0      0.0      0.0   \n",
      "22        2.0   ...         2.0      0.0      0.0      0.0      0.0      4.0   \n",
      "23        0.0   ...         0.0      0.0      0.0      0.0      0.0      0.0   \n",
      "24        3.0   ...         0.0      2.0      2.0      6.0      0.0      2.0   \n",
      "25        2.0   ...         3.0      2.0      7.0      3.0      4.0      5.0   \n",
      "26        4.0   ...         2.0      3.0      1.0      2.0      7.0      5.0   \n",
      "27        4.0   ...         0.0      0.0      6.0      2.0      8.0     10.0   \n",
      "28        1.0   ...         1.0      3.0      1.0      4.0      2.0      3.0   \n",
      "29        1.0   ...         1.0      1.0      1.0      1.0      1.0      1.0   \n",
      "30        0.0   ...         7.0      1.0      0.0      0.0      0.0      0.0   \n",
      "...       ...   ...         ...      ...      ...      ...      ...      ...   \n",
      "4970      0.0   ...         4.0      9.0      2.0      6.0      1.0      8.0   \n",
      "4971      0.0   ...         0.0      3.0      3.0      5.0      0.0      4.0   \n",
      "4972      0.0   ...         5.0      4.0      0.0      1.0      2.0      0.0   \n",
      "4973      0.0   ...        12.0     11.0      8.0      7.0      2.0      4.0   \n",
      "4974      0.0   ...         2.0      0.0      0.0      0.0      1.0      0.0   \n",
      "4975      0.0   ...         1.0      1.0      1.0      0.0      1.0     10.0   \n",
      "4976      0.0   ...         0.0      0.0      1.0      0.0      3.0      0.0   \n",
      "4977      1.0   ...         0.0      0.0      0.0      0.0      0.0      0.0   \n",
      "4978      0.0   ...         0.0      0.0      0.0      0.0      0.0      0.0   \n",
      "4979      0.0   ...         0.0      0.0      0.0      2.0      0.0      0.0   \n",
      "4980      0.0   ...         7.0     12.0      4.0      0.0      1.0      0.0   \n",
      "4981      0.0   ...         0.0      0.0      0.0      0.0      0.0      0.0   \n",
      "4982      1.0   ...         1.0      0.0      0.0      0.0      0.0      0.0   \n",
      "4983      0.0   ...         0.0      0.0      0.0      0.0      0.0      0.0   \n",
      "4984      0.0   ...         1.0      0.0      0.0      1.0      0.0      1.0   \n",
      "4985      0.0   ...         0.0      0.0      0.0      0.0      0.0      0.0   \n",
      "4986      0.0   ...         0.0      0.0      0.0      0.0      0.0      0.0   \n",
      "4987      0.0   ...         0.0      0.0      1.0      0.0      0.0      0.0   \n",
      "4988      0.0   ...         0.0      0.0      0.0      0.0      0.0      0.0   \n",
      "4989      0.0   ...         0.0      0.0      0.0      0.0      0.0      0.0   \n",
      "4990      0.0   ...         0.0      0.0      0.0      0.0      0.0      0.0   \n",
      "4991      1.0   ...         1.0      1.0      0.0     12.0      0.0      0.0   \n",
      "4992      0.0   ...         0.0      0.0      0.0      1.0      0.0      0.0   \n",
      "4993      2.0   ...         0.0      0.0      0.0      0.0      0.0      0.0   \n",
      "4994      0.0   ...         0.0      0.0      0.0      0.0      0.0      0.0   \n",
      "4995      0.0   ...         0.0      0.0      0.0      0.0      0.0      0.0   \n",
      "4996      0.0   ...         0.0      0.0      0.0      0.0      0.0      0.0   \n",
      "4997      0.0   ...         0.0      0.0      0.0      0.0      0.0      0.0   \n",
      "4998      0.0   ...         2.0      0.0      1.0      0.0      0.0      0.0   \n",
      "4999      0.0   ...         3.0      0.0      1.0      0.0      0.0      0.0   \n",
      "\n",
      "date  date_42  date_43  date_44  date_45  \n",
      "uid                                       \n",
      "1        10.0      2.0     14.0      1.0  \n",
      "2         0.0      0.0      1.0      0.0  \n",
      "3         0.0      3.0      2.0      2.0  \n",
      "4         1.0     11.0      0.0      1.0  \n",
      "5         1.0      4.0      2.0      1.0  \n",
      "6         6.0      0.0      2.0      2.0  \n",
      "7         4.0      4.0      1.0      0.0  \n",
      "8        11.0      6.0      3.0      5.0  \n",
      "9         0.0      0.0      0.0      0.0  \n",
      "10        2.0      2.0      1.0      0.0  \n",
      "11        0.0      0.0      0.0      0.0  \n",
      "12        6.0      9.0     11.0     11.0  \n",
      "13        0.0      0.0      0.0      0.0  \n",
      "14        1.0      5.0      5.0      0.0  \n",
      "15        2.0      0.0      0.0      0.0  \n",
      "16        1.0      2.0      2.0      1.0  \n",
      "17        0.0      0.0      1.0      3.0  \n",
      "18        2.0      3.0      1.0      1.0  \n",
      "19        2.0      5.0      1.0      0.0  \n",
      "20        2.0     11.0      4.0      2.0  \n",
      "21        0.0      0.0      0.0      0.0  \n",
      "22        0.0      2.0      0.0      0.0  \n",
      "23        1.0      0.0      0.0      0.0  \n",
      "24        0.0     15.0      5.0      3.0  \n",
      "25       11.0      1.0      4.0      5.0  \n",
      "26        6.0      8.0      3.0      1.0  \n",
      "27        1.0      6.0      5.0      1.0  \n",
      "28        1.0      1.0      1.0      1.0  \n",
      "29        1.0      1.0      1.0      1.0  \n",
      "30        0.0      0.0      0.0      2.0  \n",
      "...       ...      ...      ...      ...  \n",
      "4970      9.0      5.0      0.0      9.0  \n",
      "4971      1.0      1.0      0.0      0.0  \n",
      "4972      3.0      3.0      0.0      0.0  \n",
      "4973     14.0     12.0      9.0      7.0  \n",
      "4974      3.0      1.0      2.0      0.0  \n",
      "4975     12.0      1.0      0.0      3.0  \n",
      "4976      2.0      2.0      1.0      1.0  \n",
      "4977      0.0      0.0      0.0      0.0  \n",
      "4978      0.0      0.0      0.0      0.0  \n",
      "4979      0.0      0.0      0.0      1.0  \n",
      "4980      0.0      2.0      0.0      0.0  \n",
      "4981      0.0      0.0      0.0      0.0  \n",
      "4982      0.0      0.0      0.0      0.0  \n",
      "4983      0.0      0.0      0.0      0.0  \n",
      "4984      1.0      0.0      1.0      1.0  \n",
      "4985      0.0      0.0      0.0      0.0  \n",
      "4986      0.0      0.0      0.0      0.0  \n",
      "4987      0.0      0.0      0.0      1.0  \n",
      "4988      0.0      0.0      0.0      0.0  \n",
      "4989      0.0      0.0      0.0      0.0  \n",
      "4990      0.0      0.0      0.0      0.0  \n",
      "4991      0.0      2.0      0.0      0.0  \n",
      "4992      0.0      1.0      0.0      0.0  \n",
      "4993      1.0      0.0      2.0      0.0  \n",
      "4994      0.0      0.0      3.0      0.0  \n",
      "4995      0.0      0.0      0.0      0.0  \n",
      "4996      0.0      0.0      0.0      0.0  \n",
      "4997      0.0      0.0      0.0      1.0  \n",
      "4998      0.0      0.0      0.0      0.0  \n",
      "4999      0.0      0.0      0.0      0.0  \n",
      "\n",
      "[4959 rows x 45 columns]\n"
     ]
    }
   ],
   "source": [
    "print(date)"
   ]
  },
  {
   "cell_type": "markdown",
   "metadata": {},
   "source": [
    "# Merge Feature 28 to 33"
   ]
  },
  {
   "cell_type": "code",
   "execution_count": 30,
   "metadata": {},
   "outputs": [],
   "source": [
    "agg = sms_opp_num\n",
    "agg = agg.join(sms_opp_head)\n",
    "agg = agg.join(sms_opp_len)\n",
    "agg = agg.join(sms_in_out)\n",
    "agg = agg.join(ans_df)\n",
    "agg = agg.join(date)"
   ]
  },
  {
   "cell_type": "code",
   "execution_count": 31,
   "metadata": {},
   "outputs": [
    {
     "name": "stdout",
     "output_type": "stream",
     "text": [
      "      sms_opp_num_count  sms_opp_num_unique_count  sms_opp_head_unique_count  \\\n",
      "uid                                                                            \n",
      "1                    95                        11                          6   \n",
      "2                     1                         1                          1   \n",
      "3                    28                         2                          2   \n",
      "4                   124                        10                          8   \n",
      "5                    48                         4                          4   \n",
      "6                    30                         3                          3   \n",
      "7                    42                         2                          2   \n",
      "8                   379                        10                          7   \n",
      "9                    15                         2                          2   \n",
      "10                   34                         2                          2   \n",
      "11                    5                         4                          4   \n",
      "12                  187                        14                         10   \n",
      "13                    2                         1                          1   \n",
      "14                   95                         9                          7   \n",
      "15                   30                         2                          2   \n",
      "16                   89                         8                          6   \n",
      "17                   55                         5                          4   \n",
      "18                   42                         3                          3   \n",
      "19                  106                        12                          8   \n",
      "20                   76                         8                          6   \n",
      "21                    2                         2                          1   \n",
      "22                   39                         3                          3   \n",
      "23                    2                         2                          2   \n",
      "24                  184                        10                          6   \n",
      "25                  203                        24                         18   \n",
      "26                  134                        23                         14   \n",
      "27                  121                        22                         15   \n",
      "28                   96                         8                          5   \n",
      "29                   53                         2                          2   \n",
      "30                   49                        13                          7   \n",
      "...                 ...                       ...                        ...   \n",
      "4970                 62                        23                          5   \n",
      "4971                 30                        12                          2   \n",
      "4972                 22                         8                          4   \n",
      "4973                137                        20                          4   \n",
      "4974                 17                         4                          2   \n",
      "4975                 36                        14                          2   \n",
      "4976                 21                        11                          3   \n",
      "4977                 25                         2                          1   \n",
      "4978                  1                         1                          1   \n",
      "4979                  7                         2                          2   \n",
      "4980                 61                         2                          2   \n",
      "4981                  1                         1                          1   \n",
      "4982                 30                         3                          3   \n",
      "4983                 14                         2                          2   \n",
      "4984                 19                         1                          1   \n",
      "4985                  8                         2                          2   \n",
      "4986                 30                         5                          4   \n",
      "4987                  7                         2                          2   \n",
      "4988                  4                         1                          1   \n",
      "4989                  4                         1                          1   \n",
      "4990                 30                        17                         12   \n",
      "4991                 31                         5                          5   \n",
      "4992                 18                         6                          6   \n",
      "4993                  7                         3                          3   \n",
      "4994                  3                         2                          2   \n",
      "4995                  6                         2                          2   \n",
      "4996                  2                         1                          1   \n",
      "4997                  3                         2                          2   \n",
      "4998                  3                         2                          1   \n",
      "4999                  6                         1                          1   \n",
      "\n",
      "      sms_opp_len_2  sms_opp_len_4  sms_opp_len_5  sms_opp_len_6  \\\n",
      "uid                                                                \n",
      "1               0.0            0.0            0.0            0.0   \n",
      "2               0.0            0.0            0.0            0.0   \n",
      "3               0.0            0.0            0.0            0.0   \n",
      "4               0.0            0.0            2.0            0.0   \n",
      "5               0.0            0.0            0.0            0.0   \n",
      "6               0.0            0.0            0.0            0.0   \n",
      "7               0.0            0.0            0.0            0.0   \n",
      "8               0.0            0.0            2.0            0.0   \n",
      "9               0.0            0.0            0.0            0.0   \n",
      "10              0.0            0.0            0.0            0.0   \n",
      "11              0.0            0.0            0.0            0.0   \n",
      "12              0.0            0.0            2.0            0.0   \n",
      "13              0.0            0.0            0.0            0.0   \n",
      "14              0.0            0.0            0.0            0.0   \n",
      "15              0.0            0.0            0.0            0.0   \n",
      "16              0.0            0.0            0.0            0.0   \n",
      "17              0.0            0.0            0.0            0.0   \n",
      "18              0.0            0.0            0.0            0.0   \n",
      "19              0.0            0.0            2.0            0.0   \n",
      "20              0.0            0.0            0.0            0.0   \n",
      "21              0.0            0.0            0.0            0.0   \n",
      "22              0.0            0.0            0.0            0.0   \n",
      "23              0.0            0.0            0.0            0.0   \n",
      "24              0.0            0.0            0.0            0.0   \n",
      "25              0.0            0.0            2.0            0.0   \n",
      "26              0.0            0.0            0.0            0.0   \n",
      "27              0.0            0.0            0.0            0.0   \n",
      "28              0.0            0.0            0.0            0.0   \n",
      "29              0.0            0.0            0.0            0.0   \n",
      "30              0.0            0.0            0.0            0.0   \n",
      "...             ...            ...            ...            ...   \n",
      "4970            0.0            0.0            0.0            0.0   \n",
      "4971            0.0            0.0            0.0            0.0   \n",
      "4972            0.0            0.0            1.0            0.0   \n",
      "4973            0.0            0.0            2.0            0.0   \n",
      "4974            0.0            0.0            0.0            0.0   \n",
      "4975            0.0            0.0            0.0            0.0   \n",
      "4976            0.0            0.0            0.0            0.0   \n",
      "4977            0.0            0.0            0.0            0.0   \n",
      "4978            0.0            0.0            0.0            0.0   \n",
      "4979            0.0            0.0            0.0            0.0   \n",
      "4980            0.0            0.0            0.0            0.0   \n",
      "4981            0.0            0.0            0.0            0.0   \n",
      "4982            0.0            0.0            0.0            0.0   \n",
      "4983            0.0            0.0            0.0            0.0   \n",
      "4984            0.0            0.0            0.0            0.0   \n",
      "4985            0.0            0.0            0.0            0.0   \n",
      "4986            0.0            0.0            2.0            0.0   \n",
      "4987            0.0            0.0            0.0            0.0   \n",
      "4988            0.0            0.0            0.0            0.0   \n",
      "4989            0.0            0.0            0.0            0.0   \n",
      "4990            0.0            0.0            0.0            0.0   \n",
      "4991            0.0            0.0            0.0            0.0   \n",
      "4992            0.0            0.0            0.0            0.0   \n",
      "4993            0.0            0.0            0.0            0.0   \n",
      "4994            0.0            0.0            0.0            0.0   \n",
      "4995            0.0            0.0            0.0            0.0   \n",
      "4996            0.0            0.0            0.0            0.0   \n",
      "4997            0.0            0.0            0.0            0.0   \n",
      "4998            0.0            0.0            0.0            0.0   \n",
      "4999            0.0            0.0            0.0            0.0   \n",
      "\n",
      "      sms_opp_len_7  sms_opp_len_8  sms_opp_len_9   ...     date_36  date_37  \\\n",
      "uid                                                 ...                        \n",
      "1               0.0            2.0           10.0   ...         7.0      7.0   \n",
      "2               0.0            0.0            0.0   ...         0.0      0.0   \n",
      "3               0.0            0.0            0.0   ...         0.0      0.0   \n",
      "4               0.0            3.0           18.0   ...         3.0      0.0   \n",
      "5               0.0            2.0           13.0   ...         1.0      0.0   \n",
      "6               0.0            1.0            0.0   ...         0.0      0.0   \n",
      "7               0.0            0.0            0.0   ...         0.0      2.0   \n",
      "8               0.0            1.0           15.0   ...         6.0     11.0   \n",
      "9               0.0            0.0            0.0   ...         0.0      0.0   \n",
      "10              0.0            0.0            0.0   ...         1.0      1.0   \n",
      "11              0.0            1.0            0.0   ...         0.0      0.0   \n",
      "12              0.0            2.0           11.0   ...         1.0      4.0   \n",
      "13              0.0            0.0            0.0   ...         0.0      0.0   \n",
      "14              0.0            3.0           16.0   ...         1.0      5.0   \n",
      "15              0.0            0.0            0.0   ...         0.0      0.0   \n",
      "16              0.0            0.0           10.0   ...         2.0      1.0   \n",
      "17              0.0            0.0            0.0   ...         0.0      0.0   \n",
      "18              0.0            0.0            0.0   ...         0.0      0.0   \n",
      "19              0.0            1.0           14.0   ...         0.0      0.0   \n",
      "20              0.0            4.0           12.0   ...         0.0      0.0   \n",
      "21              0.0            1.0            0.0   ...         0.0      1.0   \n",
      "22              0.0            1.0            0.0   ...         2.0      0.0   \n",
      "23              1.0            1.0            0.0   ...         0.0      0.0   \n",
      "24              0.0            0.0           14.0   ...         0.0      2.0   \n",
      "25              0.0            0.0           15.0   ...         3.0      2.0   \n",
      "26              0.0            5.0            1.0   ...         2.0      3.0   \n",
      "27              0.0            0.0           12.0   ...         0.0      0.0   \n",
      "28              0.0            4.0           12.0   ...         1.0      3.0   \n",
      "29              0.0            0.0            0.0   ...         1.0      1.0   \n",
      "30              0.0            6.0            0.0   ...         7.0      1.0   \n",
      "...             ...            ...            ...   ...         ...      ...   \n",
      "4970            0.0            0.0            0.0   ...         4.0      9.0   \n",
      "4971            0.0            0.0            0.0   ...         0.0      3.0   \n",
      "4972            0.0            0.0            0.0   ...         5.0      4.0   \n",
      "4973            0.0            0.0            0.0   ...        12.0     11.0   \n",
      "4974            0.0            0.0            0.0   ...         2.0      0.0   \n",
      "4975            0.0            0.0            0.0   ...         1.0      1.0   \n",
      "4976            0.0            0.0            0.0   ...         0.0      0.0   \n",
      "4977           25.0            0.0            0.0   ...         0.0      0.0   \n",
      "4978            0.0            0.0            0.0   ...         0.0      0.0   \n",
      "4979            0.0            0.0            0.0   ...         0.0      0.0   \n",
      "4980            0.0            0.0            0.0   ...         7.0     12.0   \n",
      "4981            1.0            0.0            0.0   ...         0.0      0.0   \n",
      "4982            0.0           20.0            0.0   ...         1.0      0.0   \n",
      "4983            0.0            0.0            0.0   ...         0.0      0.0   \n",
      "4984           19.0            0.0            0.0   ...         1.0      0.0   \n",
      "4985            0.0            0.0            0.0   ...         0.0      0.0   \n",
      "4986            0.0            6.0            0.0   ...         0.0      0.0   \n",
      "4987            0.0            0.0            0.0   ...         0.0      0.0   \n",
      "4988            0.0            0.0            0.0   ...         0.0      0.0   \n",
      "4989            0.0            0.0            0.0   ...         0.0      0.0   \n",
      "4990            0.0            0.0            0.0   ...         0.0      0.0   \n",
      "4991            0.0            1.0            0.0   ...         1.0      1.0   \n",
      "4992            0.0            1.0            0.0   ...         0.0      0.0   \n",
      "4993            0.0            0.0            0.0   ...         0.0      0.0   \n",
      "4994            0.0            0.0            0.0   ...         0.0      0.0   \n",
      "4995            4.0            0.0            0.0   ...         0.0      0.0   \n",
      "4996            0.0            0.0            0.0   ...         0.0      0.0   \n",
      "4997            0.0            0.0            0.0   ...         0.0      0.0   \n",
      "4998            0.0            0.0            0.0   ...         2.0      0.0   \n",
      "4999            0.0            0.0            0.0   ...         3.0      0.0   \n",
      "\n",
      "      date_38  date_39  date_40  date_41  date_42  date_43  date_44  date_45  \n",
      "uid                                                                           \n",
      "1         6.0      2.0      0.0      3.0     10.0      2.0     14.0      1.0  \n",
      "2         0.0      0.0      0.0      0.0      0.0      0.0      1.0      0.0  \n",
      "3         0.0      2.0      0.0      0.0      0.0      3.0      2.0      2.0  \n",
      "4         8.0      3.0      5.0      0.0      1.0     11.0      0.0      1.0  \n",
      "5         3.0      0.0      1.0      0.0      1.0      4.0      2.0      1.0  \n",
      "6         2.0      0.0      0.0      0.0      6.0      0.0      2.0      2.0  \n",
      "7         0.0      0.0      1.0      0.0      4.0      4.0      1.0      0.0  \n",
      "8         3.0      2.0      9.0     17.0     11.0      6.0      3.0      5.0  \n",
      "9         0.0      0.0      0.0      0.0      0.0      0.0      0.0      0.0  \n",
      "10        2.0      0.0      2.0      0.0      2.0      2.0      1.0      0.0  \n",
      "11        0.0      0.0      0.0      0.0      0.0      0.0      0.0      0.0  \n",
      "12        1.0      3.0      9.0     15.0      6.0      9.0     11.0     11.0  \n",
      "13        0.0      0.0      0.0      0.0      0.0      0.0      0.0      0.0  \n",
      "14        2.0      2.0      2.0      2.0      1.0      5.0      5.0      0.0  \n",
      "15        2.0      0.0      0.0      0.0      2.0      0.0      0.0      0.0  \n",
      "16        3.0      3.0      2.0      2.0      1.0      2.0      2.0      1.0  \n",
      "17        2.0      2.0      2.0      2.0      0.0      0.0      1.0      3.0  \n",
      "18        0.0      1.0      0.0      0.0      2.0      3.0      1.0      1.0  \n",
      "19        2.0      0.0      1.0      6.0      2.0      5.0      1.0      0.0  \n",
      "20        2.0      0.0      3.0      4.0      2.0     11.0      4.0      2.0  \n",
      "21        0.0      0.0      0.0      0.0      0.0      0.0      0.0      0.0  \n",
      "22        0.0      0.0      0.0      4.0      0.0      2.0      0.0      0.0  \n",
      "23        0.0      0.0      0.0      0.0      1.0      0.0      0.0      0.0  \n",
      "24        2.0      6.0      0.0      2.0      0.0     15.0      5.0      3.0  \n",
      "25        7.0      3.0      4.0      5.0     11.0      1.0      4.0      5.0  \n",
      "26        1.0      2.0      7.0      5.0      6.0      8.0      3.0      1.0  \n",
      "27        6.0      2.0      8.0     10.0      1.0      6.0      5.0      1.0  \n",
      "28        1.0      4.0      2.0      3.0      1.0      1.0      1.0      1.0  \n",
      "29        1.0      1.0      1.0      1.0      1.0      1.0      1.0      1.0  \n",
      "30        0.0      0.0      0.0      0.0      0.0      0.0      0.0      2.0  \n",
      "...       ...      ...      ...      ...      ...      ...      ...      ...  \n",
      "4970      2.0      6.0      1.0      8.0      9.0      5.0      0.0      9.0  \n",
      "4971      3.0      5.0      0.0      4.0      1.0      1.0      0.0      0.0  \n",
      "4972      0.0      1.0      2.0      0.0      3.0      3.0      0.0      0.0  \n",
      "4973      8.0      7.0      2.0      4.0     14.0     12.0      9.0      7.0  \n",
      "4974      0.0      0.0      1.0      0.0      3.0      1.0      2.0      0.0  \n",
      "4975      1.0      0.0      1.0     10.0     12.0      1.0      0.0      3.0  \n",
      "4976      1.0      0.0      3.0      0.0      2.0      2.0      1.0      1.0  \n",
      "4977      0.0      0.0      0.0      0.0      0.0      0.0      0.0      0.0  \n",
      "4978      0.0      0.0      0.0      0.0      0.0      0.0      0.0      0.0  \n",
      "4979      0.0      2.0      0.0      0.0      0.0      0.0      0.0      1.0  \n",
      "4980      4.0      0.0      1.0      0.0      0.0      2.0      0.0      0.0  \n",
      "4981      0.0      0.0      0.0      0.0      0.0      0.0      0.0      0.0  \n",
      "4982      0.0      0.0      0.0      0.0      0.0      0.0      0.0      0.0  \n",
      "4983      0.0      0.0      0.0      0.0      0.0      0.0      0.0      0.0  \n",
      "4984      0.0      1.0      0.0      1.0      1.0      0.0      1.0      1.0  \n",
      "4985      0.0      0.0      0.0      0.0      0.0      0.0      0.0      0.0  \n",
      "4986      0.0      0.0      0.0      0.0      0.0      0.0      0.0      0.0  \n",
      "4987      1.0      0.0      0.0      0.0      0.0      0.0      0.0      1.0  \n",
      "4988      0.0      0.0      0.0      0.0      0.0      0.0      0.0      0.0  \n",
      "4989      0.0      0.0      0.0      0.0      0.0      0.0      0.0      0.0  \n",
      "4990      0.0      0.0      0.0      0.0      0.0      0.0      0.0      0.0  \n",
      "4991      0.0     12.0      0.0      0.0      0.0      2.0      0.0      0.0  \n",
      "4992      0.0      1.0      0.0      0.0      0.0      1.0      0.0      0.0  \n",
      "4993      0.0      0.0      0.0      0.0      1.0      0.0      2.0      0.0  \n",
      "4994      0.0      0.0      0.0      0.0      0.0      0.0      3.0      0.0  \n",
      "4995      0.0      0.0      0.0      0.0      0.0      0.0      0.0      0.0  \n",
      "4996      0.0      0.0      0.0      0.0      0.0      0.0      0.0      0.0  \n",
      "4997      0.0      0.0      0.0      0.0      0.0      0.0      0.0      1.0  \n",
      "4998      1.0      0.0      0.0      0.0      0.0      0.0      0.0      0.0  \n",
      "4999      1.0      0.0      0.0      0.0      0.0      0.0      0.0      0.0  \n",
      "\n",
      "[4959 rows x 69 columns]\n"
     ]
    }
   ],
   "source": [
    "print(agg)"
   ]
  },
  {
   "cell_type": "code",
   "execution_count": 32,
   "metadata": {},
   "outputs": [],
   "source": [
    "dict = agg.to_dict()"
   ]
  },
  {
   "cell_type": "code",
   "execution_count": 33,
   "metadata": {},
   "outputs": [],
   "source": [
    "agg2 = pd.DataFrame(index = range(1, 5000), data = dict)"
   ]
  },
  {
   "cell_type": "code",
   "execution_count": 34,
   "metadata": {},
   "outputs": [],
   "source": [
    "agg2 = agg2.fillna(0)\n",
    "agg2 = agg2.astype('int64')"
   ]
  },
  {
   "cell_type": "code",
   "execution_count": 35,
   "metadata": {},
   "outputs": [],
   "source": [
    "agg2.to_csv('../data/train/train_feature_28to33.csv', index=True, header=None)"
   ]
  },
  {
   "cell_type": "code",
   "execution_count": null,
   "metadata": {},
   "outputs": [],
   "source": []
  }
 ],
 "metadata": {
  "kernelspec": {
   "display_name": "Python 2",
   "language": "python",
   "name": "python2"
  },
  "language_info": {
   "codemirror_mode": {
    "name": "ipython",
    "version": 2
   },
   "file_extension": ".py",
   "mimetype": "text/x-python",
   "name": "python",
   "nbconvert_exporter": "python",
   "pygments_lexer": "ipython2",
   "version": "2.7.13"
  }
 },
 "nbformat": 4,
 "nbformat_minor": 2
}
