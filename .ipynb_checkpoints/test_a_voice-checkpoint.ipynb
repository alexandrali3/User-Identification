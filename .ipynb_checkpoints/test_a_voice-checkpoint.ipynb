{
 "cells": [
  {
   "cell_type": "code",
   "execution_count": 1,
   "metadata": {},
   "outputs": [],
   "source": [
    "%matplotlib inline"
   ]
  },
  {
   "cell_type": "code",
   "execution_count": 2,
   "metadata": {},
   "outputs": [],
   "source": [
    "import sys\n",
    "import numpy as np\n",
    "import pandas as pd\n",
    "import re as re\n",
    "import matplotlib.pyplot as plt\n",
    "import xgboost as xgb"
   ]
  },
  {
   "cell_type": "code",
   "execution_count": 4,
   "metadata": {},
   "outputs": [],
   "source": [
    "def myPrint(x):\n",
    "    print(x.head(15))\n",
    "    print(x.info())\n",
    "def myPrint2(x):\n",
    "    print(x)"
   ]
  },
  {
   "cell_type": "code",
   "execution_count": 5,
   "metadata": {},
   "outputs": [],
   "source": [
    "test_a_voice_df = pd.read_csv('../data/Test-A/test_a_voice_df.csv', header = 0, dtype = {'opp_num':str})"
   ]
  },
  {
   "cell_type": "markdown",
   "metadata": {},
   "source": [
    "# Feature 10"
   ]
  },
  {
   "cell_type": "code",
   "execution_count": 6,
   "metadata": {},
   "outputs": [],
   "source": [
    "def do(x):\n",
    "    start_day = int(x['start_time'] % 100000000 / 1000000)\n",
    "    start_hour = int(x['start_time'] % 1000000 / 10000)\n",
    "    start_min = int(x['start_time'] % 10000 / 100)\n",
    "    start_sec = int(x['start_time'] % 100)\n",
    "    start = (start_day * 24 * 60 + start_hour * 60 + start_min) * 60 + start_sec\n",
    "    \n",
    "    end_day = int(x['end_time'] % 100000000 / 1000000)\n",
    "    end_hour = int(x['end_time'] % 1000000 / 10000)\n",
    "    end_min = int(x['end_time'] % 10000 / 100)\n",
    "    end_sec = int(x['end_time'] % 100)\n",
    "    end = (end_day * 24 * 60 + end_hour * 60 + end_min) * 60 + end_sec\n",
    "    \n",
    "    # duration in seconds\n",
    "    return end - start + 1\n",
    "\n",
    "def do2(x):\n",
    "    start_day = int(x['start_time'] % 100000000 / 1000000)\n",
    "    start_hour = int(x['start_time'] % 1000000 / 10000)\n",
    "    start_min = int(x['start_time'] % 10000 / 100)\n",
    "    start = start_day * 24 * 60 + start_hour * 60 + start_min\n",
    "    \n",
    "    end_day = int(x['end_time'] % 100000000 / 1000000)\n",
    "    end_hour = int(x['end_time'] % 1000000 / 10000)\n",
    "    end_min = int(x['end_time'] % 10000 / 100)\n",
    "    end = end_day * 24 * 60 + end_hour * 60 + end_min\n",
    "    \n",
    "    # duration in minutes\n",
    "    return end - start + 1\n",
    "\n",
    "tmp = test_a_voice_df\n",
    "test_a_voice_df.loc[:, 'dura'] = tmp.apply(do, axis = 1)"
   ]
  },
  {
   "cell_type": "code",
   "execution_count": 7,
   "metadata": {},
   "outputs": [],
   "source": [
    "test_a_1 = test_a_voice_df[test_a_voice_df['in_out'] == 0]\n",
    "test_a_2 = test_a_voice_df[test_a_voice_df['in_out'] == 1]"
   ]
  },
  {
   "cell_type": "code",
   "execution_count": 8,
   "metadata": {},
   "outputs": [],
   "source": [
    "tt = test_a_1['uid'].value_counts().sort_index()"
   ]
  },
  {
   "cell_type": "code",
   "execution_count": 9,
   "metadata": {},
   "outputs": [],
   "source": [
    "dict = tt.to_dict()\n",
    "ans = pd.Series(index = range(5000, 7000), data = dict)"
   ]
  },
  {
   "cell_type": "code",
   "execution_count": 10,
   "metadata": {},
   "outputs": [],
   "source": [
    "ans = ans.fillna(0)\n",
    "ans = ans.astype('int64')"
   ]
  },
  {
   "cell_type": "code",
   "execution_count": 11,
   "metadata": {},
   "outputs": [],
   "source": [
    "ans.to_csv('../data/Test-A/test_a_feature_10.csv', index=True)"
   ]
  },
  {
   "cell_type": "markdown",
   "metadata": {},
   "source": [
    "# Feature 11"
   ]
  },
  {
   "cell_type": "code",
   "execution_count": 12,
   "metadata": {},
   "outputs": [],
   "source": [
    "tt = test_a_2['uid'].value_counts().sort_index()"
   ]
  },
  {
   "cell_type": "code",
   "execution_count": 13,
   "metadata": {},
   "outputs": [],
   "source": [
    "dict = tt.to_dict()\n",
    "ans = pd.Series(index = range(5000, 7000), data = dict)"
   ]
  },
  {
   "cell_type": "code",
   "execution_count": 14,
   "metadata": {},
   "outputs": [],
   "source": [
    "ans = ans.fillna(0)\n",
    "ans = ans.astype('int64')"
   ]
  },
  {
   "cell_type": "code",
   "execution_count": 15,
   "metadata": {},
   "outputs": [],
   "source": [
    "ans.to_csv('../data/Test-A/test_a_feature_11.csv', index=True)"
   ]
  },
  {
   "cell_type": "markdown",
   "metadata": {},
   "source": [
    "# Feature 12"
   ]
  },
  {
   "cell_type": "code",
   "execution_count": 17,
   "metadata": {},
   "outputs": [],
   "source": [
    "tt = test_a_1.groupby('uid').dura.sum()\n",
    "dict = tt.to_dict()\n",
    "ans = pd.Series(index = range(5000, 7000), data = dict)"
   ]
  },
  {
   "cell_type": "code",
   "execution_count": 18,
   "metadata": {},
   "outputs": [],
   "source": [
    "ans = ans.fillna(0)\n",
    "ans = ans.astype('int64')"
   ]
  },
  {
   "cell_type": "code",
   "execution_count": 19,
   "metadata": {},
   "outputs": [],
   "source": [
    "ans.to_csv('../data/Test-A/test_a_feature_12.csv', index=True)"
   ]
  },
  {
   "cell_type": "markdown",
   "metadata": {},
   "source": [
    "# Feature 13"
   ]
  },
  {
   "cell_type": "code",
   "execution_count": 20,
   "metadata": {},
   "outputs": [],
   "source": [
    "tt = test_a_2.groupby('uid').dura.sum()\n",
    "dict = tt.to_dict()\n",
    "ans = pd.Series(index = range(5000, 7000), data = dict)"
   ]
  },
  {
   "cell_type": "code",
   "execution_count": 21,
   "metadata": {},
   "outputs": [],
   "source": [
    "ans = ans.fillna(0)\n",
    "ans = ans.astype('int64')"
   ]
  },
  {
   "cell_type": "code",
   "execution_count": 22,
   "metadata": {},
   "outputs": [],
   "source": [
    "ans.to_csv('../data/Test-A/test_a_feature_13.csv', index=True)"
   ]
  },
  {
   "cell_type": "markdown",
   "metadata": {},
   "source": [
    "# Feature 14"
   ]
  },
  {
   "cell_type": "code",
   "execution_count": 23,
   "metadata": {},
   "outputs": [],
   "source": [
    "t1 = test_a_1['uid'].value_counts()\n",
    "t2 = test_a_2['uid'].value_counts()\n",
    "dict = t1.to_dict()\n",
    "tt1 = pd.Series(index = range(5000, 7000), data = dict)\n",
    "tt1 = tt1.fillna(0)\n",
    "dict = t2.to_dict()\n",
    "tt2 = pd.Series(index = range(5000, 7000), data = dict)\n",
    "tt2 = tt2.fillna(0)\n",
    "tt3 = tt1 / (tt1 + tt2)"
   ]
  },
  {
   "cell_type": "code",
   "execution_count": 24,
   "metadata": {
    "scrolled": true
   },
   "outputs": [
    {
     "name": "stdout",
     "output_type": "stream",
     "text": [
      "5000    0.244898\n",
      "5001    0.958466\n",
      "5002    1.000000\n",
      "5003    0.488286\n",
      "5004    0.666667\n",
      "5005    0.565611\n",
      "5006    0.444444\n",
      "5007    0.514286\n",
      "5008    0.692308\n",
      "5009    1.000000\n",
      "5010    0.606250\n",
      "5011    0.399240\n",
      "5012    0.426667\n",
      "5013    0.000000\n",
      "5014    0.652174\n",
      "5015    0.000000\n",
      "5016    0.361702\n",
      "5017    0.384615\n",
      "5018    0.000000\n",
      "5019    0.214286\n",
      "5020    0.328736\n",
      "5021    0.312500\n",
      "5022    0.606557\n",
      "5023    0.000000\n",
      "5024    0.359375\n",
      "5025    0.023952\n",
      "5026    0.456432\n",
      "5027    0.571930\n",
      "5028    0.586667\n",
      "5029    0.448747\n",
      "          ...   \n",
      "6970    1.000000\n",
      "6971    0.420814\n",
      "6972    1.000000\n",
      "6973    0.460033\n",
      "6974    0.820513\n",
      "6975    0.060606\n",
      "6976    0.345679\n",
      "6977    0.651163\n",
      "6978    0.457271\n",
      "6979    0.833333\n",
      "6980    0.522472\n",
      "6981    0.262295\n",
      "6982    0.309524\n",
      "6983    0.502347\n",
      "6984    0.377778\n",
      "6985    0.828571\n",
      "6986    0.331693\n",
      "6987    0.022099\n",
      "6988    0.512195\n",
      "6989    0.733333\n",
      "6990    0.382353\n",
      "6991    0.500000\n",
      "6992    0.815789\n",
      "6993    0.469027\n",
      "6994    1.000000\n",
      "6995    1.000000\n",
      "6996    0.559322\n",
      "6997    0.379182\n",
      "6998    0.500000\n",
      "6999    0.308943\n",
      "Length: 2000, dtype: float64\n"
     ]
    }
   ],
   "source": [
    "myPrint2(tt3)"
   ]
  },
  {
   "cell_type": "code",
   "execution_count": 25,
   "metadata": {},
   "outputs": [],
   "source": [
    "tt3 = tt3.fillna(0.5)"
   ]
  },
  {
   "cell_type": "code",
   "execution_count": 26,
   "metadata": {},
   "outputs": [],
   "source": [
    "tt3.to_csv('../data/Test-A/test_a_feature_14.csv', index=True)"
   ]
  },
  {
   "cell_type": "markdown",
   "metadata": {},
   "source": [
    "# Feature 15"
   ]
  },
  {
   "cell_type": "code",
   "execution_count": 27,
   "metadata": {},
   "outputs": [
    {
     "name": "stderr",
     "output_type": "stream",
     "text": [
      "d:\\program files (x86)\\python\\lib\\site-packages\\ipykernel_launcher.py:2: FutureWarning: using a dict on a Series for aggregation\n",
      "is deprecated and will be removed in a future version\n",
      "  \n"
     ]
    }
   ],
   "source": [
    "group = test_a_1.groupby('uid')['opp_num']\n",
    "agg = group.aggregate({'opp_num': lambda x: x.nunique()})"
   ]
  },
  {
   "cell_type": "code",
   "execution_count": 29,
   "metadata": {},
   "outputs": [],
   "source": [
    "agg.rename(columns=lambda x:x.replace('opp_num','opp_cnt'), inplace=True)"
   ]
  },
  {
   "cell_type": "code",
   "execution_count": 30,
   "metadata": {},
   "outputs": [],
   "source": [
    "dict = pd.Series(agg['opp_cnt']).to_dict()\n",
    "tmp = pd.Series(index = range(5000, 7000), data = dict)"
   ]
  },
  {
   "cell_type": "code",
   "execution_count": 32,
   "metadata": {},
   "outputs": [],
   "source": [
    "tmp = tmp.fillna(0)\n",
    "tmp = tmp.astype('int64')"
   ]
  },
  {
   "cell_type": "code",
   "execution_count": 33,
   "metadata": {},
   "outputs": [],
   "source": [
    "tmp.to_csv('../data/Test-A/test_a_feature_15.csv', index=True)"
   ]
  },
  {
   "cell_type": "markdown",
   "metadata": {},
   "source": [
    "# Feature 16"
   ]
  },
  {
   "cell_type": "code",
   "execution_count": 35,
   "metadata": {},
   "outputs": [],
   "source": [
    "group = test_a_1.groupby('uid')['dura']\n",
    "agg = group.mean()"
   ]
  },
  {
   "cell_type": "code",
   "execution_count": null,
   "metadata": {},
   "outputs": [],
   "source": []
  }
 ],
 "metadata": {
  "kernelspec": {
   "display_name": "Python 2",
   "language": "python",
   "name": "python2"
  },
  "language_info": {
   "codemirror_mode": {
    "name": "ipython",
    "version": 2
   },
   "file_extension": ".py",
   "mimetype": "text/x-python",
   "name": "python",
   "nbconvert_exporter": "python",
   "pygments_lexer": "ipython2",
   "version": "2.7.13"
  }
 },
 "nbformat": 4,
 "nbformat_minor": 2
}
