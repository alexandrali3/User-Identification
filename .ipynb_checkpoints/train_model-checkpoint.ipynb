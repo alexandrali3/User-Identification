{
 "cells": [
  {
   "cell_type": "code",
   "execution_count": 2,
   "metadata": {},
   "outputs": [],
   "source": [
    "%matplotlib inline"
   ]
  },
  {
   "cell_type": "code",
   "execution_count": 3,
   "metadata": {},
   "outputs": [],
   "source": [
    "import sys\n",
    "import numpy as np\n",
    "import pandas as pd\n",
    "import re as re\n",
    "import matplotlib.pyplot as plt\n",
    "import xgboost as xgb"
   ]
  },
  {
   "cell_type": "code",
   "execution_count": 4,
   "metadata": {},
   "outputs": [],
   "source": [
    "def myPrint(x):\n",
    "    print(x.head(15))\n",
    "    print(x.info())\n",
    "def myPrint2(x):\n",
    "    print(x)"
   ]
  },
  {
   "cell_type": "code",
   "execution_count": 6,
   "metadata": {},
   "outputs": [],
   "source": [
    "train_df = pd.read_csv('../data/train/train_feature_21to33_14_17_19_20_norm_2.csv', header = 0, encoding = 'utf-8')"
   ]
  },
  {
   "cell_type": "code",
   "execution_count": 7,
   "metadata": {},
   "outputs": [],
   "source": [
    "test_a_df = pd.read_csv('../data/Test-A/test_a_feature_21to33_14_17_19_20_norm_2.csv', header = 0, encoding = 'utf-8')"
   ]
  },
  {
   "cell_type": "code",
   "execution_count": 8,
   "metadata": {},
   "outputs": [],
   "source": [
    "train_df = train_df.set_index(u'uid')\n",
    "test_a_df = test_a_df.set_index(u'uid')"
   ]
  },
  {
   "cell_type": "code",
   "execution_count": 9,
   "metadata": {
    "scrolled": true
   },
   "outputs": [
    {
     "name": "stdout",
     "output_type": "stream",
     "text": [
      "            1         2         3         5             6         7         9  \\\n",
      "uid                                                                             \n",
      "1    0.005030  0.005962  0.005539  0.007753  9.146896e-03  0.002861  0.027473   \n",
      "2    0.000001  0.000023  0.000947  0.000007  9.012826e-07  0.000006  0.011108   \n",
      "3    0.039112  0.007991  0.003222  0.026410  1.238725e-02  0.002380  0.016451   \n",
      "4    0.043935  0.014911  0.008126  0.028594  3.327726e-02  0.007335  0.026196   \n",
      "5    0.002470  0.002547  0.003956  0.002955  2.168333e-03  0.003321  0.018570   \n",
      "6    0.008833  0.003405  0.001492  0.009277  2.193743e-03  0.012304  0.010456   \n",
      "7    0.009656  0.007699  0.004293  0.013540  1.345945e-02  0.008571  0.020069   \n",
      "8    0.011619  0.005261  0.004170  0.009299  7.464338e-03  0.001221  0.018434   \n",
      "9    0.028897  0.013866  0.004358  0.023589  1.967260e-02  0.013775  0.025725   \n",
      "10   0.011835  0.017318  0.000621  0.028579  2.001375e-03  0.001285  0.012810   \n",
      "11   0.029618  0.009614  0.006602  0.023759  1.466103e-02  0.008849  0.026137   \n",
      "12   0.005144  0.004470  0.009320  0.005135  9.827143e-03  0.003290  0.025969   \n",
      "13   0.003471  0.003463  0.005943  0.004377  6.591410e-03  0.003941  0.025476   \n",
      "14   0.008862  0.010539  0.004107  0.015146  1.836800e-02  0.001435  0.017022   \n",
      "15   0.001153  0.000448  0.000000  0.001470  1.701497e-04  0.000757  0.005248   \n",
      "\n",
      "           11        12    13  ...    42   43  44  45  46   47   48        49  \\\n",
      "uid                            ...                                              \n",
      "1    0.009114  0.015896  3747  ...    17   74   2   3   0   79   22  0.417722   \n",
      "2    0.000066  0.000010    24  ...     1    2   0   0   0    2    2  1.000000   \n",
      "3    0.004339  0.005672  1227  ...    10   17   0   1   2   21   15  0.333333   \n",
      "4    0.011347  0.024392  1568  ...    31  219  21   1  12  254   77  0.523622   \n",
      "5    0.006170  0.003239   620  ...    28  397   0   4   0  401   55  0.441397   \n",
      "6    0.025614  0.005035   671  ...    15   44   0   0   0   44   21  0.181818   \n",
      "7    0.011462  0.009816  1385  ...    33   96   0   0   1  101   60  0.366337   \n",
      "8    0.003822  0.006764   570  ...    30  210   2   3  19  234   71  0.576923   \n",
      "9    0.021298  0.013679   782  ...    21   96   0   0   0   96   21  0.375000   \n",
      "10   0.006947  0.000739  2445  ...    31  126   0   1   1  130   37  0.484615   \n",
      "11   0.015801  0.015942   792  ...    19  222   0   2   3  227   41  0.585903   \n",
      "12   0.005642  0.013778   916  ...    38  284   5   5   2  302  123  0.407285   \n",
      "13   0.005846  0.009826   721  ...     2    1   0   0   1    2    2  0.000000   \n",
      "14   0.004836  0.009004  1141  ...    21  144   4   2   1  151   48  0.456954   \n",
      "15   0.003446  0.001180   259  ...    32   76   2   2   1   81   48  0.024691   \n",
      "\n",
      "           51  label  \n",
      "uid                   \n",
      "1    0.859125      0  \n",
      "2    0.000000      0  \n",
      "3    0.000000      0  \n",
      "4    2.962200      0  \n",
      "5    2.474610      0  \n",
      "6    0.000000      0  \n",
      "7    1.392088      0  \n",
      "8    1.913686      0  \n",
      "9    1.005249      0  \n",
      "10   2.060234      0  \n",
      "11   3.931771      0  \n",
      "12   2.174335      0  \n",
      "13   0.000000      0  \n",
      "14   3.602849      0  \n",
      "15   0.000000      0  \n",
      "\n",
      "[15 rows x 31 columns]\n",
      "<class 'pandas.core.frame.DataFrame'>\n",
      "Int64Index: 4999 entries, 1 to 4999\n",
      "Data columns (total 31 columns):\n",
      "1        4999 non-null float64\n",
      "2        4999 non-null float64\n",
      "3        4999 non-null float64\n",
      "5        4999 non-null float64\n",
      "6        4999 non-null float64\n",
      "7        4999 non-null float64\n",
      "9        4999 non-null float64\n",
      "11       4999 non-null float64\n",
      "12       4999 non-null float64\n",
      "13       4999 non-null int64\n",
      "18       4999 non-null float64\n",
      "20       4999 non-null float64\n",
      "21       4999 non-null float64\n",
      "25       4999 non-null int64\n",
      "26       4999 non-null int64\n",
      "28       4999 non-null int64\n",
      "30       4999 non-null int64\n",
      "35       4999 non-null int64\n",
      "37       4999 non-null int64\n",
      "40       4999 non-null int64\n",
      "41       4999 non-null int64\n",
      "42       4999 non-null int64\n",
      "43       4999 non-null int64\n",
      "44       4999 non-null int64\n",
      "45       4999 non-null int64\n",
      "46       4999 non-null int64\n",
      "47       4999 non-null int64\n",
      "48       4999 non-null int64\n",
      "49       4999 non-null float64\n",
      "51       4999 non-null float64\n",
      "label    4999 non-null int64\n",
      "dtypes: float64(14), int64(17)\n",
      "memory usage: 1.2 MB\n",
      "None\n"
     ]
    }
   ],
   "source": [
    "myPrint(train_df)"
   ]
  },
  {
   "cell_type": "code",
   "execution_count": 10,
   "metadata": {
    "scrolled": true
   },
   "outputs": [
    {
     "name": "stdout",
     "output_type": "stream",
     "text": [
      "             1         2         3         5         6         7         9  \\\n",
      "uid                                                                          \n",
      "5000  0.032939  0.218292  0.013162  0.016029  0.075812  0.009419  0.135228   \n",
      "5001  0.095130  0.234583  0.009636  0.036320  0.096480  0.007605  0.059397   \n",
      "5002  0.043681  0.227799  0.011531  0.031591  0.071168  0.000691  0.088985   \n",
      "5003  0.019959  0.214429  0.019132  0.008918  0.086929  0.006193  0.190582   \n",
      "5004  0.074447  0.274123  0.013121  0.044856  0.105883  0.007066  0.082186   \n",
      "5005  0.000254  0.199947  0.004947  0.000449  0.068926  0.000086  0.051007   \n",
      "5006  0.603499  0.332921  0.006032  0.163921  0.386741  0.096170  0.048625   \n",
      "5007  0.123399  0.234922  0.022714  0.030211  0.099571  0.009234  0.104311   \n",
      "5008  0.015433  0.214714  0.003767  0.012299  0.071050  0.000531  0.036995   \n",
      "5009  0.095565  0.268636  0.009488  0.051945  0.083644  0.009232  0.084222   \n",
      "5010  0.093049  0.249057  0.023797  0.040584  0.080940  0.003959  0.164290   \n",
      "5011  0.102481  0.236528  0.012464  0.031989  0.116425  0.003271  0.102442   \n",
      "5012  0.036725  0.234140  0.007568  0.021666  0.081618  0.001438  0.052003   \n",
      "5013  0.033873  0.217726  0.002206  0.018323  0.073346  0.001384  0.025393   \n",
      "5014  0.023778  0.207522  0.002444  0.010283  0.072236  0.001114  0.025600   \n",
      "\n",
      "            11        12    13    ...      41  42   43  44  45  46   47   48  \\\n",
      "uid                               ...                                          \n",
      "5000  0.021460  0.054682  1622    ...      37  17   44   1   3   0   49   31   \n",
      "5001  0.005898  0.034495   782    ...      13  11  286   1   4   1  313  175   \n",
      "5002  0.002018  0.021305   222    ...       0   3    3   0   0   0    3    3   \n",
      "5003  0.005515  0.054719  2627    ...     415  27  792  16   0   1  811   94   \n",
      "5004  0.010324  0.042566  4266    ...       1   2    0   1   2   0    3    2   \n",
      "5005  0.000485  0.020083    73    ...      96   9  221   0   0   0  221   13   \n",
      "5006  0.053408  0.243737  7352    ...      10   8    3   1   1   4   18   10   \n",
      "5007  0.008463  0.052361   904    ...      85  17  174   0   0   0  175   36   \n",
      "5008  0.001354  0.021106   233    ...       4   3   12   0   1   0   13    3   \n",
      "5009  0.012838  0.028841  1503    ...       0   9   30   0   1   0   31   12   \n",
      "5010  0.007550  0.028750   761    ...      63  19  159   0   0   0  160   27   \n",
      "5011  0.003948  0.049177  1253    ...     316  42  505  13   2   5  526  109   \n",
      "5012  0.002838  0.025543   352    ...      43  18   67   8   0   0   75   32   \n",
      "5013  0.002302  0.021963   265    ...       1   1    0   0   1   0    1    1   \n",
      "5014  0.001671  0.022329   181    ...      24  12   66   2   0   0   69   17   \n",
      "\n",
      "            49        51  \n",
      "uid                       \n",
      "5000  0.244898  0.500000  \n",
      "5001  0.958466  5.642052  \n",
      "5002  1.000000  0.000000  \n",
      "5003  0.488286  5.502642  \n",
      "5004  0.666667  0.000000  \n",
      "5005  0.565611  2.204506  \n",
      "5006  0.444444  0.516398  \n",
      "5007  0.514286  1.417073  \n",
      "5008  0.692308  0.487950  \n",
      "5009  1.000000  1.834022  \n",
      "5010  0.606250  1.800093  \n",
      "5011  0.399240  3.152126  \n",
      "5012  0.426667  1.505545  \n",
      "5013  0.000000  0.000000  \n",
      "5014  0.652174  1.190238  \n",
      "\n",
      "[15 rows x 30 columns]\n",
      "<class 'pandas.core.frame.DataFrame'>\n",
      "Int64Index: 2000 entries, 5000 to 6999\n",
      "Data columns (total 30 columns):\n",
      "1     2000 non-null float64\n",
      "2     2000 non-null float64\n",
      "3     2000 non-null float64\n",
      "5     2000 non-null float64\n",
      "6     2000 non-null float64\n",
      "7     2000 non-null float64\n",
      "9     2000 non-null float64\n",
      "11    2000 non-null float64\n",
      "12    2000 non-null float64\n",
      "13    2000 non-null int64\n",
      "18    2000 non-null float64\n",
      "20    2000 non-null float64\n",
      "21    2000 non-null float64\n",
      "25    2000 non-null int64\n",
      "26    2000 non-null int64\n",
      "28    2000 non-null int64\n",
      "30    2000 non-null int64\n",
      "35    2000 non-null int64\n",
      "37    2000 non-null int64\n",
      "40    2000 non-null int64\n",
      "41    2000 non-null int64\n",
      "42    2000 non-null int64\n",
      "43    2000 non-null int64\n",
      "44    2000 non-null int64\n",
      "45    2000 non-null int64\n",
      "46    2000 non-null int64\n",
      "47    2000 non-null int64\n",
      "48    2000 non-null int64\n",
      "49    2000 non-null float64\n",
      "51    2000 non-null float64\n",
      "dtypes: float64(14), int64(16)\n",
      "memory usage: 484.4 KB\n",
      "None\n"
     ]
    }
   ],
   "source": [
    "myPrint(test_a_df)"
   ]
  },
  {
   "cell_type": "code",
   "execution_count": 11,
   "metadata": {},
   "outputs": [
    {
     "name": "stderr",
     "output_type": "stream",
     "text": [
      "d:\\program files (x86)\\python\\lib\\site-packages\\sklearn\\cross_validation.py:41: DeprecationWarning: This module was deprecated in version 0.18 in favor of the model_selection module into which all the refactored classes and functions are moved. Also note that the interface of the new CV iterators are different from that of this module. This module will be removed in 0.20.\n",
      "  \"This module will be removed in 0.20.\", DeprecationWarning)\n"
     ]
    }
   ],
   "source": [
    "import seaborn as sns\n",
    "from sklearn.model_selection import StratifiedShuffleSplit\n",
    "from sklearn.metrics import accuracy_score, log_loss\n",
    "from sklearn.neighbors import KNeighborsClassifier\n",
    "from sklearn.svm import SVC\n",
    "from sklearn.tree import DecisionTreeClassifier\n",
    "from sklearn.ensemble import RandomForestClassifier, AdaBoostClassifier, GradientBoostingClassifier\n",
    "from sklearn.naive_bayes import GaussianNB\n",
    "from sklearn.discriminant_analysis import LinearDiscriminantAnalysis, QuadraticDiscriminantAnalysis\n",
    "from sklearn.linear_model import LogisticRegression\n",
    "\n",
    "# Going to use these 5 base models for the stacking\n",
    "from sklearn.ensemble import (RandomForestClassifier, AdaBoostClassifier, \n",
    "                              GradientBoostingClassifier, ExtraTreesClassifier)\n",
    "from sklearn.cross_validation import KFold\n",
    "\n",
    "import plotly.offline as py\n",
    "import plotly.graph_objs as go\n",
    "import plotly.tools as tls\n",
    "\n",
    "\n",
    "import warnings\n",
    "warnings.filterwarnings('ignore')"
   ]
  },
  {
   "cell_type": "code",
   "execution_count": 12,
   "metadata": {},
   "outputs": [],
   "source": [
    "# Some useful parameters which will come in handy later on\n",
    "ntrain = train_df.shape[0]\n",
    "ntest = test_a_df.shape[0]\n",
    "SEED = 0 # for reproducibility\n",
    "NFOLDS = 4 # set folds for out-of-fold prediction\n",
    "kf = KFold(ntrain, n_folds = NFOLDS, random_state = SEED)"
   ]
  },
  {
   "cell_type": "code",
   "execution_count": 13,
   "metadata": {},
   "outputs": [],
   "source": [
    "# Class to extend the Sklearn classifier\n",
    "class SklearnHelper(object):\n",
    "    def __init__(self, clf, seed=0, params=None):\n",
    "        params['random_state'] = seed\n",
    "        self.clf = clf(**params)\n",
    "        \n",
    "    def train(self, x_train, y_train):\n",
    "        self.clf.fit(x_train, y_train)\n",
    "        \n",
    "    def predict(self, x):\n",
    "        return self.clf.predict(x)\n",
    "    \n",
    "    def fit(self, x, y):\n",
    "        return self.clf.fit(x, y)\n",
    "    \n",
    "    def feature_importances(self, x, y):\n",
    "        print (self.clf.fit(x, y).feature_importances_)"
   ]
  },
  {
   "cell_type": "code",
   "execution_count": 13,
   "metadata": {},
   "outputs": [],
   "source": [
    "import time\n",
    "def get_time_stamp():\n",
    "    now = int(time.time())\n",
    "    return now"
   ]
  },
  {
   "cell_type": "code",
   "execution_count": 14,
   "metadata": {},
   "outputs": [],
   "source": [
    "def get_oof(clf, x_train, y_train, x_test):\n",
    "    oof_train = np.zeros((ntrain,))\n",
    "    oof_test = np.zeros((ntest,))\n",
    "    oof_test_skf = np.empty((NFOLDS, ntest))\n",
    "\n",
    "    for i, (train_index, test_index) in enumerate(kf):\n",
    "        x_tr = x_train[train_index]\n",
    "        y_tr = y_train[train_index]\n",
    "        x_te = x_train[test_index]\n",
    "\n",
    "        time_before_train = get_time_stamp()\n",
    "        clf.train(x_tr, y_tr)\n",
    "        print(\"time for training:\")\n",
    "        print(get_time_stamp() - time_before_train)\n",
    "\n",
    "        time_before_predict = get_time_stamp()\n",
    "        oof_train[test_index] = clf.predict(x_te)\n",
    "        oof_test_skf[i, :] = clf.predict(x_test)\n",
    "        print(\"time for predicting\")\n",
    "        print(get_time_stamp() - time_before_predict)\n",
    "\n",
    "    oof_test[:] = oof_test_skf.mean(axis=0)\n",
    "    print(cal_precision(oof_train.reshape(-1, 1), y_train.reshape(-1, 1)))\n",
    "    return oof_train.reshape(-1, 1), oof_test.reshape(-1, 1)"
   ]
  },
  {
   "cell_type": "code",
   "execution_count": 15,
   "metadata": {},
   "outputs": [],
   "source": [
    "# Put in our parameters for said classifiers\n",
    "# Random Forest parameters\n",
    "rf_params = {\n",
    "    'n_jobs': -1,\n",
    "    'n_estimators': 500,\n",
    "     'warm_start': True, \n",
    "     #'max_features': 0.2,\n",
    "    'max_depth': 6,\n",
    "    'min_samples_leaf': 2,\n",
    "    'max_features' : 'sqrt',\n",
    "    'verbose': 0\n",
    "}\n",
    "\n",
    "# Extra Trees Parameters\n",
    "et_params = {\n",
    "    'n_jobs': -1,\n",
    "    'n_estimators':500,\n",
    "    #'max_features': 0.5,\n",
    "    'max_depth': 8,\n",
    "    'min_samples_leaf': 2,\n",
    "    'verbose': 0\n",
    "}\n",
    "\n",
    "# AdaBoost parameters\n",
    "ada_params = {\n",
    "    'n_estimators': 500,\n",
    "    'learning_rate' : 0.75\n",
    "}\n",
    "\n",
    "# Gradient Boosting parameters\n",
    "gb_params = {\n",
    "    'n_estimators': 500,\n",
    "     #'max_features': 0.2,\n",
    "    'max_depth': 5,\n",
    "    'min_samples_leaf': 2,\n",
    "    'verbose': 0,\n",
    "    'loss': 'deviance'\n",
    "}\n",
    "\n",
    "# Support Vector Classifier parameters \n",
    "svc_params = {\n",
    "    'kernel' : 'linear',\n",
    "    'C' : 0.025\n",
    "    }"
   ]
  },
  {
   "cell_type": "code",
   "execution_count": 16,
   "metadata": {},
   "outputs": [],
   "source": [
    "# Create 5 objects that represent our 5 models\n",
    "rf = SklearnHelper(clf=RandomForestClassifier, seed=SEED, params=rf_params)\n",
    "et = SklearnHelper(clf=ExtraTreesClassifier, seed=SEED, params=et_params)\n",
    "ada = SklearnHelper(clf=AdaBoostClassifier, seed=SEED, params=ada_params)\n",
    "gb = SklearnHelper(clf=GradientBoostingClassifier, seed=SEED, params=gb_params)\n",
    "svc = SklearnHelper(clf=SVC, seed=SEED, params=svc_params)"
   ]
  },
  {
   "cell_type": "code",
   "execution_count": 17,
   "metadata": {},
   "outputs": [
    {
     "name": "stdout",
     "output_type": "stream",
     "text": [
      "((4999L, 20L), (2000L, 20L), (4999L,))\n"
     ]
    }
   ],
   "source": [
    "# Create Numpy arrays of train, test and target ( Survived) dataframes to feed into our models\n",
    "y_train = train_df['label'].ravel()\n",
    "train_noy = train_df.drop(['label'], axis=1)\n",
    "x_train = train_noy.values # Creates an array of the train data\n",
    "x_test = test_a_df.values # Creats an array of the test data\n",
    "print (x_train.shape, x_test.shape, y_train.shape)"
   ]
  },
  {
   "cell_type": "code",
   "execution_count": 18,
   "metadata": {},
   "outputs": [
    {
     "name": "stdout",
     "output_type": "stream",
     "text": [
      "[[1.88479112e-01 9.14689619e-03 1.58964096e-02 ... 1.38888889e-02\n",
      "  7.50034100e-03 3.31194117e-02]\n",
      " [4.73237598e-03 9.01282596e-07 1.02714931e-05 ... 0.00000000e+00\n",
      "  0.00000000e+00 0.00000000e+00]\n",
      " [1.90437337e-01 1.23872501e-02 5.67239244e-03 ... 0.00000000e+00\n",
      "  0.00000000e+00 0.00000000e+00]\n",
      " ...\n",
      " [1.35770235e-01 1.37524986e-01 3.62154054e-02 ... 6.94444444e-03\n",
      "  1.27797223e-02 8.45459356e-03]\n",
      " [1.42297650e-01 1.37936753e-01 4.08737239e-02 ... 0.00000000e+00\n",
      "  4.51831415e-03 8.45459356e-03]\n",
      " [9.21997389e-02 4.22079473e-03 3.01892623e-03 ... 1.38888889e-02\n",
      "  8.30408833e-03 0.00000000e+00]]\n"
     ]
    }
   ],
   "source": [
    "print(x_train)"
   ]
  },
  {
   "cell_type": "code",
   "execution_count": 19,
   "metadata": {},
   "outputs": [],
   "source": [
    "def cal_precision(a, b):\n",
    "    return 1 - float(np.sum(abs(a - b))) / a.size"
   ]
  },
  {
   "cell_type": "code",
   "execution_count": 24,
   "metadata": {},
   "outputs": [
    {
     "name": "stdout",
     "output_type": "stream",
     "text": [
      "(array([0, 0, ..., 1, 1], dtype=int64), 4999, 2000)\n"
     ]
    }
   ],
   "source": [
    "print(y_train, ntrain, ntest)"
   ]
  },
  {
   "cell_type": "code",
   "execution_count": 27,
   "metadata": {
    "scrolled": true
   },
   "outputs": [
    {
     "name": "stdout",
     "output_type": "stream",
     "text": [
      "time for training:\n",
      "1\n",
      "time for predicting\n",
      "1\n",
      "Training is complete\n",
      "time for training:\n",
      "4\n",
      "time for predicting\n",
      "1\n",
      "Training is complete\n",
      "time for training:\n",
      "5\n",
      "time for predicting\n",
      "0\n",
      "Training is complete\n",
      "time for training:\n",
      "0\n",
      "time for predicting\n",
      "0\n",
      "Training is complete\n",
      "Training is complete!!!\n"
     ]
    }
   ],
   "source": [
    "# Create our OOF train and test predictions. These base results will be used as new features\n",
    "et_oof_train, et_oof_test = get_oof2(et, x_train, y_train, x_test) # Extra Trees\n",
    "print(\"Training is complete\")\n",
    "\n",
    "# rf_oof_train, rf_oof_test = get_oof(rf,x_train, y_train, x_test) # Random Forest\n",
    "# print(\"Training is complete\")\n",
    "\n",
    "ada_oof_train, ada_oof_test = get_oof2(ada, x_train, y_train, x_test) # AdaBoost \n",
    "print(\"Training is complete\")\n",
    "\n",
    "gb_oof_train, gb_oof_test = get_oof2(gb,x_train, y_train, x_test) # Gradient Boost\n",
    "print(\"Training is complete\")\n",
    "\n",
    "svc_oof_train, svc_oof_test = get_oof2(svc,x_train, y_train, x_test) # Support Vector Classifier\n",
    "print(\"Training is complete\")\n",
    "\n",
    "print(\"Training is complete!!!\")"
   ]
  },
  {
   "cell_type": "code",
   "execution_count": 26,
   "metadata": {},
   "outputs": [],
   "source": [
    "def get_oof2(clf, x_train, y_train, x_test):\n",
    "    oof_train = np.zeros((ntrain,))\n",
    "    oof_test = np.zeros((ntest,))\n",
    "    \n",
    "    time_before_train = get_time_stamp()\n",
    "    clf.train(x_train, y_train)\n",
    "    print(\"time for training:\")\n",
    "    print(get_time_stamp() - time_before_train)\n",
    "    \n",
    "    time_before_predict = get_time_stamp()\n",
    "    oof_train = clf.predict(x_train)\n",
    "    oof_test = clf.predict(x_test)\n",
    "    print(\"time for predicting\")\n",
    "    print(get_time_stamp() - time_before_predict)\n",
    "    \n",
    "    # oof_train = oof_train.reshape(-1, 1)\n",
    "    oof_test = oof_test.reshape(-1, 1)\n",
    "    # print(cal_precision(oof_train, y_train.reshape(-1, 1)))\n",
    "    return oof_train.reshape(-1, 1), oof_test"
   ]
  },
  {
   "cell_type": "code",
   "execution_count": 20,
   "metadata": {},
   "outputs": [
    {
     "name": "stdout",
     "output_type": "stream",
     "text": [
      "time for training:\n",
      "5\n",
      "time for predicting\n",
      "1\n",
      "Training is complete\n"
     ]
    }
   ],
   "source": [
    "gb_oof_train, gb_oof_test = get_oof2(gb, x_train, y_train, x_test)\n",
    "print(\"Training is complete\")"
   ]
  },
  {
   "cell_type": "code",
   "execution_count": 21,
   "metadata": {},
   "outputs": [
    {
     "name": "stdout",
     "output_type": "stream",
     "text": [
      "[[0]\n",
      " [0]\n",
      " [0]\n",
      " ...\n",
      " [0]\n",
      " [1]\n",
      " [0]]\n"
     ]
    }
   ],
   "source": [
    "print(gb_oof_test)"
   ]
  },
  {
   "cell_type": "code",
   "execution_count": 32,
   "metadata": {},
   "outputs": [],
   "source": [
    "id_series = pd.DataFrame({'uid': test_a_df.index})"
   ]
  },
  {
   "cell_type": "code",
   "execution_count": 33,
   "metadata": {},
   "outputs": [],
   "source": [
    "def do3(x):\n",
    "    tmp = \"%04d\" % x['uid']\n",
    "    return 'u' + str(tmp)\n",
    "id_series.loc[:, 'uid'] = id_series.apply(do3, axis = 1)"
   ]
  },
  {
   "cell_type": "code",
   "execution_count": 34,
   "metadata": {
    "scrolled": true
   },
   "outputs": [
    {
     "name": "stdout",
     "output_type": "stream",
     "text": [
      "0       u5000\n",
      "1       u5001\n",
      "2       u5002\n",
      "3       u5003\n",
      "4       u5004\n",
      "5       u5005\n",
      "6       u5006\n",
      "7       u5007\n",
      "8       u5008\n",
      "9       u5009\n",
      "10      u5010\n",
      "11      u5011\n",
      "12      u5012\n",
      "13      u5013\n",
      "14      u5014\n",
      "15      u5015\n",
      "16      u5016\n",
      "17      u5017\n",
      "18      u5018\n",
      "19      u5019\n",
      "20      u5020\n",
      "21      u5021\n",
      "22      u5022\n",
      "23      u5023\n",
      "24      u5024\n",
      "25      u5025\n",
      "26      u5026\n",
      "27      u5027\n",
      "28      u5028\n",
      "29      u5029\n",
      "        ...  \n",
      "1970    u6970\n",
      "1971    u6971\n",
      "1972    u6972\n",
      "1973    u6973\n",
      "1974    u6974\n",
      "1975    u6975\n",
      "1976    u6976\n",
      "1977    u6977\n",
      "1978    u6978\n",
      "1979    u6979\n",
      "1980    u6980\n",
      "1981    u6981\n",
      "1982    u6982\n",
      "1983    u6983\n",
      "1984    u6984\n",
      "1985    u6985\n",
      "1986    u6986\n",
      "1987    u6987\n",
      "1988    u6988\n",
      "1989    u6989\n",
      "1990    u6990\n",
      "1991    u6991\n",
      "1992    u6992\n",
      "1993    u6993\n",
      "1994    u6994\n",
      "1995    u6995\n",
      "1996    u6996\n",
      "1997    u6997\n",
      "1998    u6998\n",
      "1999    u6999\n",
      "Name: uid, Length: 2000, dtype: object\n"
     ]
    }
   ],
   "source": [
    "print(id_series['uid'])"
   ]
  },
  {
   "cell_type": "code",
   "execution_count": 28,
   "metadata": {},
   "outputs": [],
   "source": [
    "ans = pd.DataFrame({'uid': id_series['uid'], 'label': gb_oof_test.ravel()}, columns = ['uid', 'label'])"
   ]
  },
  {
   "cell_type": "code",
   "execution_count": 29,
   "metadata": {
    "scrolled": true
   },
   "outputs": [
    {
     "name": "stdout",
     "output_type": "stream",
     "text": [
      "        uid  label\n",
      "0     u5000      0\n",
      "1     u5001      0\n",
      "2     u5002      0\n",
      "3     u5003      0\n",
      "4     u5004      0\n",
      "5     u5005      0\n",
      "6     u5006      1\n",
      "7     u5007      0\n",
      "8     u5008      0\n",
      "9     u5009      1\n",
      "10    u5010      1\n",
      "11    u5011      0\n",
      "12    u5012      0\n",
      "13    u5013      0\n",
      "14    u5014      1\n",
      "15    u5015      0\n",
      "16    u5016      0\n",
      "17    u5017      0\n",
      "18    u5018      0\n",
      "19    u5019      0\n",
      "20    u5020      0\n",
      "21    u5021      0\n",
      "22    u5022      0\n",
      "23    u5023      0\n",
      "24    u5024      0\n",
      "25    u5025      0\n",
      "26    u5026      0\n",
      "27    u5027      0\n",
      "28    u5028      0\n",
      "29    u5029      0\n",
      "...     ...    ...\n",
      "1970  u6970      1\n",
      "1971  u6971      0\n",
      "1972  u6972      0\n",
      "1973  u6973      0\n",
      "1974  u6974      0\n",
      "1975  u6975      0\n",
      "1976  u6976      0\n",
      "1977  u6977      0\n",
      "1978  u6978      0\n",
      "1979  u6979      1\n",
      "1980  u6980      1\n",
      "1981  u6981      1\n",
      "1982  u6982      0\n",
      "1983  u6983      0\n",
      "1984  u6984      0\n",
      "1985  u6985      1\n",
      "1986  u6986      0\n",
      "1987  u6987      0\n",
      "1988  u6988      1\n",
      "1989  u6989      0\n",
      "1990  u6990      0\n",
      "1991  u6991      0\n",
      "1992  u6992      1\n",
      "1993  u6993      0\n",
      "1994  u6994      1\n",
      "1995  u6995      1\n",
      "1996  u6996      0\n",
      "1997  u6997      0\n",
      "1998  u6998      1\n",
      "1999  u6999      0\n",
      "\n",
      "[2000 rows x 2 columns]\n"
     ]
    }
   ],
   "source": [
    "print(ans)"
   ]
  },
  {
   "cell_type": "code",
   "execution_count": 30,
   "metadata": {},
   "outputs": [],
   "source": [
    "ans = ans.sort_values(by='label', ascending=False)"
   ]
  },
  {
   "cell_type": "code",
   "execution_count": null,
   "metadata": {},
   "outputs": [],
   "source": [
    "ans.to_csv('../data/Test-A/ans_2_df.csv', index=False, header = False)"
   ]
  },
  {
   "cell_type": "code",
   "execution_count": 29,
   "metadata": {},
   "outputs": [],
   "source": [
    "x_train = np.concatenate(( et_oof_train, ada_oof_train, gb_oof_train, svc_oof_train), axis=1)\n",
    "x_test = np.concatenate(( et_oof_test, ada_oof_test, gb_oof_test, svc_oof_test), axis=1)"
   ]
  },
  {
   "cell_type": "code",
   "execution_count": 30,
   "metadata": {},
   "outputs": [],
   "source": [
    "gbm = xgb.XGBClassifier(\n",
    "    #learning_rate = 0.02,\n",
    " n_estimators= 2000,\n",
    " max_depth= 4,\n",
    " min_child_weight= 2,\n",
    " #gamma=1,\n",
    " gamma=0.9,                        \n",
    " subsample=0.8,\n",
    " colsample_bytree=0.8,\n",
    " objective= 'binary:logistic',\n",
    " nthread= -1,\n",
    " scale_pos_weight=1).fit(x_train, y_train)\n",
    "predictions = gbm.predict(x_test)"
   ]
  },
  {
   "cell_type": "code",
   "execution_count": 31,
   "metadata": {},
   "outputs": [
    {
     "name": "stdout",
     "output_type": "stream",
     "text": [
      "[0 0 ... 1 0]\n"
     ]
    }
   ],
   "source": [
    "print(predictions)"
   ]
  },
  {
   "cell_type": "code",
   "execution_count": 35,
   "metadata": {},
   "outputs": [],
   "source": [
    "ans = pd.DataFrame({'uid': id_series['uid'], 'label': predictions}, columns = ['uid', 'label'])"
   ]
  },
  {
   "cell_type": "code",
   "execution_count": 36,
   "metadata": {},
   "outputs": [
    {
     "name": "stdout",
     "output_type": "stream",
     "text": [
      "        uid  label\n",
      "0     u5000      0\n",
      "1     u5001      0\n",
      "2     u5002      0\n",
      "3     u5003      0\n",
      "4     u5004      0\n",
      "5     u5005      0\n",
      "6     u5006      1\n",
      "7     u5007      0\n",
      "8     u5008      0\n",
      "9     u5009      1\n",
      "10    u5010      1\n",
      "11    u5011      0\n",
      "12    u5012      0\n",
      "13    u5013      0\n",
      "14    u5014      1\n",
      "15    u5015      0\n",
      "16    u5016      0\n",
      "17    u5017      0\n",
      "18    u5018      0\n",
      "19    u5019      0\n",
      "20    u5020      0\n",
      "21    u5021      0\n",
      "22    u5022      0\n",
      "23    u5023      0\n",
      "24    u5024      0\n",
      "25    u5025      0\n",
      "26    u5026      0\n",
      "27    u5027      0\n",
      "28    u5028      0\n",
      "29    u5029      0\n",
      "...     ...    ...\n",
      "1970  u6970      1\n",
      "1971  u6971      0\n",
      "1972  u6972      0\n",
      "1973  u6973      0\n",
      "1974  u6974      0\n",
      "1975  u6975      0\n",
      "1976  u6976      0\n",
      "1977  u6977      0\n",
      "1978  u6978      0\n",
      "1979  u6979      1\n",
      "1980  u6980      1\n",
      "1981  u6981      1\n",
      "1982  u6982      0\n",
      "1983  u6983      0\n",
      "1984  u6984      0\n",
      "1985  u6985      1\n",
      "1986  u6986      0\n",
      "1987  u6987      0\n",
      "1988  u6988      1\n",
      "1989  u6989      0\n",
      "1990  u6990      0\n",
      "1991  u6991      0\n",
      "1992  u6992      1\n",
      "1993  u6993      0\n",
      "1994  u6994      1\n",
      "1995  u6995      1\n",
      "1996  u6996      0\n",
      "1997  u6997      0\n",
      "1998  u6998      1\n",
      "1999  u6999      0\n",
      "\n",
      "[2000 rows x 2 columns]\n"
     ]
    }
   ],
   "source": [
    "print(ans)"
   ]
  },
  {
   "cell_type": "code",
   "execution_count": 38,
   "metadata": {},
   "outputs": [],
   "source": [
    "ans = ans.sort_values(by='label', ascending=False)"
   ]
  },
  {
   "cell_type": "code",
   "execution_count": 40,
   "metadata": {},
   "outputs": [],
   "source": [
    "ans.to_csv('../data/Test-A/ans_3_df.csv', index=False, header = False)"
   ]
  },
  {
   "cell_type": "code",
   "execution_count": null,
   "metadata": {},
   "outputs": [],
   "source": []
  }
 ],
 "metadata": {
  "kernelspec": {
   "display_name": "Python 2",
   "language": "python",
   "name": "python2"
  },
  "language_info": {
   "codemirror_mode": {
    "name": "ipython",
    "version": 2
   },
   "file_extension": ".py",
   "mimetype": "text/x-python",
   "name": "python",
   "nbconvert_exporter": "python",
   "pygments_lexer": "ipython2",
   "version": "2.7.13"
  }
 },
 "nbformat": 4,
 "nbformat_minor": 2
}
