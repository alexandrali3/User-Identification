{
 "cells": [
  {
   "cell_type": "code",
   "execution_count": 1,
   "metadata": {},
   "outputs": [],
   "source": [
    "%matplotlib inline"
   ]
  },
  {
   "cell_type": "code",
   "execution_count": 2,
   "metadata": {},
   "outputs": [],
   "source": [
    "import sys\n",
    "import numpy as np\n",
    "import pandas as pd\n",
    "import re as re\n",
    "import matplotlib.pyplot as plt\n",
    "import xgboost as xgb"
   ]
  },
  {
   "cell_type": "code",
   "execution_count": 3,
   "metadata": {},
   "outputs": [],
   "source": [
    "def myPrint(x):\n",
    "    print(x.head(15))\n",
    "    print(x.info())\n",
    "def myPrint2(x):\n",
    "    print(x)"
   ]
  },
  {
   "cell_type": "code",
   "execution_count": 4,
   "metadata": {},
   "outputs": [],
   "source": [
    "test_a_sms_df = pd.read_csv('../data/Test-A/test_a_sms_df.csv', header = 0, dtype = {'opp_num': str})"
   ]
  },
  {
   "cell_type": "markdown",
   "metadata": {},
   "source": [
    "# Feature 7"
   ]
  },
  {
   "cell_type": "code",
   "execution_count": 5,
   "metadata": {},
   "outputs": [],
   "source": [
    "t1 = test_a_sms_df[test_a_sms_df['in_out'] == 0]"
   ]
  },
  {
   "cell_type": "code",
   "execution_count": 6,
   "metadata": {},
   "outputs": [],
   "source": [
    "tmp = t1['uid'].value_counts().sort_index()"
   ]
  },
  {
   "cell_type": "code",
   "execution_count": 7,
   "metadata": {},
   "outputs": [],
   "source": [
    "dict = tmp.to_dict()\n",
    "tmp2 = pd.Series(index = range(5000, 7000), data = dict)"
   ]
  },
  {
   "cell_type": "code",
   "execution_count": 8,
   "metadata": {},
   "outputs": [],
   "source": [
    "tmp2 = tmp2.fillna(0)\n",
    "tmp2 = tmp2.astype('int64')"
   ]
  },
  {
   "cell_type": "code",
   "execution_count": 9,
   "metadata": {},
   "outputs": [],
   "source": [
    "tmp2.to_csv('../data/Test-A/test_a_feature_7.csv', index=True)"
   ]
  },
  {
   "cell_type": "markdown",
   "metadata": {},
   "source": [
    "# Feature 8"
   ]
  },
  {
   "cell_type": "code",
   "execution_count": 10,
   "metadata": {},
   "outputs": [],
   "source": [
    "t2 = test_a_sms_df[test_a_sms_df['in_out'] == 1]"
   ]
  },
  {
   "cell_type": "code",
   "execution_count": 11,
   "metadata": {},
   "outputs": [],
   "source": [
    "tmp = t2['uid'].value_counts().sort_index()"
   ]
  },
  {
   "cell_type": "code",
   "execution_count": 12,
   "metadata": {},
   "outputs": [],
   "source": [
    "dict = tmp.to_dict()\n",
    "tmp2 = pd.Series(index = range(5000, 7000), data = dict)"
   ]
  },
  {
   "cell_type": "code",
   "execution_count": 13,
   "metadata": {},
   "outputs": [],
   "source": [
    "tmp2 = tmp2.fillna(0)\n",
    "tmp2 = tmp2.astype('int64')"
   ]
  },
  {
   "cell_type": "code",
   "execution_count": 14,
   "metadata": {},
   "outputs": [],
   "source": [
    "tmp2.to_csv('../data/Test-A/test_a_feature_8.csv', index=True)"
   ]
  },
  {
   "cell_type": "markdown",
   "metadata": {},
   "source": [
    "# Feature 9"
   ]
  },
  {
   "cell_type": "code",
   "execution_count": 15,
   "metadata": {},
   "outputs": [],
   "source": [
    "def do(x):\n",
    "    hour = int(x % 1000000 / 10000)\n",
    "    return hour\n",
    "tmp = test_a_sms_df\n",
    "test_a_sms_df.loc[:, 'timestamp'] = tmp['start_time'].apply(do)"
   ]
  },
  {
   "cell_type": "code",
   "execution_count": 16,
   "metadata": {},
   "outputs": [],
   "source": [
    "test_a_1 = test_a_sms_df[test_a_sms_df['in_out'] == 0]\n",
    "test_a_2 = test_a_sms_df[test_a_sms_df['in_out'] == 1]"
   ]
  },
  {
   "cell_type": "code",
   "execution_count": 17,
   "metadata": {
    "collapsed": true
   },
   "outputs": [
    {
     "name": "stdout",
     "output_type": "stream",
     "text": [
      "     uid                           opp_num  opp_head  opp_len  start_time  \\\n",
      "10  5020  D66F003791F85E1090A30F2E4300DBF6       133       11     1201008   \n",
      "12  5020  0BCB50371DA55F30D596B9A215EA9F50       106       12     1161409   \n",
      "13  5020  A18ADF4B1DD5F8FAAE869144F50ACAAD       188       11     1171927   \n",
      "14  5020  A18ADF4B1DD5F8FAAE869144F50ACAAD       188       11     1172200   \n",
      "15  5020  D66F003791F85E1090A30F2E4300DBF6       133       11     1161533   \n",
      "16  5020  A18ADF4B1DD5F8FAAE869144F50ACAAD       188       11     1172525   \n",
      "34  5996  2BDD5B98F18D1D5DAAE3200064C031E5       131       11     1162403   \n",
      "35  5996  2BDD5B98F18D1D5DAAE3200064C031E5       131       11     1162404   \n",
      "36  5996  611D7364EA8BCF7541FEF283A8FF745B       138       11     1162436   \n",
      "37  5996  E5E01D2E27BD4FF77D878E4BE5A3D6F1       138       11     1162253   \n",
      "38  5996  E5E01D2E27BD4FF77D878E4BE5A3D6F1       138       11     1162253   \n",
      "39  5996  50BE6A5737DD1C928439719AF0EC5F70       138       11     1180202   \n",
      "40  5996  A6C99C45A9D3281C32487552F5E378C5       138       11     1162541   \n",
      "41  5996  D70C1EB14F52BD1BD012077742B868FC       136       11     1162643   \n",
      "42  5996  D351E7B643BA2692C5624A4EF7497DAC       159       11     1162759   \n",
      "\n",
      "    in_out  timestamp  \n",
      "10       0         20  \n",
      "12       0         16  \n",
      "13       0         17  \n",
      "14       0         17  \n",
      "15       0         16  \n",
      "16       0         17  \n",
      "34       0         16  \n",
      "35       0         16  \n",
      "36       0         16  \n",
      "37       0         16  \n",
      "38       0         16  \n",
      "39       0         18  \n",
      "40       0         16  \n",
      "41       0         16  \n",
      "42       0         16  \n",
      "<class 'pandas.core.frame.DataFrame'>\n",
      "Int64Index: 26819 entries, 10 to 101688\n",
      "Data columns (total 7 columns):\n",
      "uid           26819 non-null int64\n",
      "opp_num       26819 non-null object\n",
      "opp_head      26819 non-null int64\n",
      "opp_len       26819 non-null int64\n",
      "start_time    26819 non-null int64\n",
      "in_out        26819 non-null int64\n",
      "timestamp     26819 non-null int64\n",
      "dtypes: int64(6), object(1)\n",
      "memory usage: 1.6+ MB\n",
      "None\n"
     ]
    }
   ],
   "source": [
    "myPrint(test_a_1)"
   ]
  },
  {
   "cell_type": "code",
   "execution_count": 18,
   "metadata": {},
   "outputs": [],
   "source": [
    "ww = test_a_1[(test_a_1['timestamp'] == 22) | (test_a_1['timestamp'] == 23) | (test_a_1['timestamp'] == 0)]"
   ]
  },
  {
   "cell_type": "code",
   "execution_count": 19,
   "metadata": {},
   "outputs": [],
   "source": [
    "ans = ww['uid'].value_counts().sort_index()"
   ]
  },
  {
   "cell_type": "code",
   "execution_count": 20,
   "metadata": {
    "scrolled": true
   },
   "outputs": [
    {
     "name": "stdout",
     "output_type": "stream",
     "text": [
      "5005      2\n",
      "5009    173\n",
      "5013      1\n",
      "5015      3\n",
      "5020      1\n",
      "5040      1\n",
      "5041      9\n",
      "5046      1\n",
      "5048      1\n",
      "5054      1\n",
      "5055      1\n",
      "5064      1\n",
      "5066      7\n",
      "5069      1\n",
      "5075      1\n",
      "5077      1\n",
      "5078      1\n",
      "5084    669\n",
      "5086      7\n",
      "5089      3\n",
      "5090      3\n",
      "5099     12\n",
      "5104      1\n",
      "5108      3\n",
      "5109     55\n",
      "5112      4\n",
      "5118      5\n",
      "5130      2\n",
      "5141      7\n",
      "5146      1\n",
      "       ... \n",
      "6823      1\n",
      "6833      2\n",
      "6843      2\n",
      "6844      2\n",
      "6855      2\n",
      "6864      2\n",
      "6865      3\n",
      "6872      3\n",
      "6877      4\n",
      "6881      8\n",
      "6890      2\n",
      "6891      1\n",
      "6905      1\n",
      "6906      1\n",
      "6909      1\n",
      "6913      1\n",
      "6914      1\n",
      "6921      1\n",
      "6934      4\n",
      "6938      1\n",
      "6955      1\n",
      "6958      1\n",
      "6960      1\n",
      "6968      4\n",
      "6971     10\n",
      "6973      1\n",
      "6974      1\n",
      "6976      5\n",
      "6985      4\n",
      "6996      5\n",
      "Name: uid, Length: 376, dtype: int64\n"
     ]
    }
   ],
   "source": [
    "myPrint2(ans)"
   ]
  },
  {
   "cell_type": "code",
   "execution_count": 21,
   "metadata": {},
   "outputs": [],
   "source": [
    "dict = ans.to_dict()\n",
    "ans2 = pd.Series(index = range(5000, 7000), data = dict)"
   ]
  },
  {
   "cell_type": "code",
   "execution_count": 22,
   "metadata": {},
   "outputs": [],
   "source": [
    "ans2 = ans2.fillna(0)\n",
    "ans2 = ans2.astype('int64')"
   ]
  },
  {
   "cell_type": "code",
   "execution_count": 23,
   "metadata": {},
   "outputs": [],
   "source": [
    "ans2.to_csv('../data/Test-A/test_a_feature_9.csv', index=True)"
   ]
  },
  {
   "cell_type": "markdown",
   "metadata": {},
   "source": [
    "# Feature 20"
   ]
  },
  {
   "cell_type": "code",
   "execution_count": 5,
   "metadata": {},
   "outputs": [],
   "source": [
    "def do(x):\n",
    "    return int(x['start_time'] / 1000000)\n",
    "tmp = test_a_sms_df\n",
    "test_a_sms_df.loc[:, 'day'] = tmp.apply(do, axis = 1)"
   ]
  },
  {
   "cell_type": "code",
   "execution_count": 6,
   "metadata": {},
   "outputs": [],
   "source": [
    "test_a_1 = test_a_sms_df[test_a_sms_df['in_out'] == 0]\n",
    "test_a_2 = test_a_sms_df[test_a_sms_df['in_out'] == 1]"
   ]
  },
  {
   "cell_type": "code",
   "execution_count": 8,
   "metadata": {},
   "outputs": [],
   "source": [
    "group = test_a_1.groupby('uid')\n",
    "item_dict = {}\n",
    "for index,g in group:\n",
    "    tmp = g['day'].value_counts()\n",
    "    item_dict[index] = tmp.std()"
   ]
  },
  {
   "cell_type": "code",
   "execution_count": 9,
   "metadata": {},
   "outputs": [],
   "source": [
    "ans = pd.Series(index = range(5000, 7000), data = item_dict)"
   ]
  },
  {
   "cell_type": "code",
   "execution_count": 10,
   "metadata": {},
   "outputs": [],
   "source": [
    "ans = ans.fillna(0)"
   ]
  },
  {
   "cell_type": "code",
   "execution_count": 11,
   "metadata": {},
   "outputs": [],
   "source": [
    "ans.to_csv('../data/Test-A/test_a_feature_20.csv', index=True)"
   ]
  },
  {
   "cell_type": "markdown",
   "metadata": {},
   "source": [
    "# Feature 25"
   ]
  },
  {
   "cell_type": "code",
   "execution_count": 5,
   "metadata": {},
   "outputs": [
    {
     "name": "stderr",
     "output_type": "stream",
     "text": [
      "d:\\program files (x86)\\python\\lib\\site-packages\\ipykernel_launcher.py:1: FutureWarning: using a dict on a Series for aggregation\n",
      "is deprecated and will be removed in a future version\n",
      "  \"\"\"Entry point for launching an IPython kernel.\n"
     ]
    }
   ],
   "source": [
    "sms_opp_num = test_a_sms_df.groupby(['uid'])['opp_num'].agg({'unique_count': lambda x: len(pd.unique(x)),'count':'count'}).add_prefix('sms_opp_num_')"
   ]
  },
  {
   "cell_type": "code",
   "execution_count": 6,
   "metadata": {
    "scrolled": true
   },
   "outputs": [
    {
     "name": "stdout",
     "output_type": "stream",
     "text": [
      "      sms_opp_num_count  sms_opp_num_unique_count\n",
      "uid                                              \n",
      "5000                 23                         2\n",
      "5001                 30                        21\n",
      "5002                 28                         2\n",
      "5003                 76                        15\n",
      "5004                  1                         1\n",
      "5005                 16                         7\n",
      "5006                  1                         1\n",
      "5007                 81                         6\n",
      "5008                  1                         1\n",
      "5009                318                         9\n",
      "5010                  1                         1\n",
      "5011                121                        23\n",
      "5012                 27                         2\n",
      "5013                  1                         1\n",
      "5014                  1                         1\n",
      "5015                  8                         4\n",
      "5016                103                         6\n",
      "5017                117                         5\n",
      "5018                 19                         2\n",
      "5019                 98                         5\n",
      "5020                717                        13\n",
      "5021                 47                         4\n",
      "5022                 25                         3\n",
      "5023                 11                         2\n",
      "5024                 44                         9\n",
      "5025                 41                         2\n",
      "5026                 75                         4\n",
      "5027                 58                         2\n",
      "5028                  1                         1\n",
      "5029                 24                         7\n",
      "...                 ...                       ...\n",
      "6969                  8                         7\n",
      "6970                  1                         1\n",
      "6971                281                         9\n",
      "6973                165                         9\n",
      "6974                  2                         1\n",
      "6975                242                         8\n",
      "6976                381                        13\n",
      "6977                125                         8\n",
      "6978                 18                         5\n",
      "6979                  7                         3\n",
      "6980                 23                         3\n",
      "6981                 72                         7\n",
      "6982                 97                         6\n",
      "6983                 27                         5\n",
      "6984                 69                         7\n",
      "6985                 37                         4\n",
      "6986                276                        22\n",
      "6987                 96                        12\n",
      "6988                 35                         6\n",
      "6989                  9                         1\n",
      "6990                 58                         3\n",
      "6991                  3                         1\n",
      "6992                  6                         1\n",
      "6993                 16                         2\n",
      "6994                  5                         2\n",
      "6995                  9                         1\n",
      "6996                172                         6\n",
      "6997                186                         4\n",
      "6998                  1                         1\n",
      "6999                 73                         8\n",
      "\n",
      "[1976 rows x 2 columns]\n"
     ]
    }
   ],
   "source": [
    "print(sms_opp_num)"
   ]
  },
  {
   "cell_type": "markdown",
   "metadata": {},
   "source": [
    "# Feature 26"
   ]
  },
  {
   "cell_type": "code",
   "execution_count": 7,
   "metadata": {},
   "outputs": [
    {
     "name": "stderr",
     "output_type": "stream",
     "text": [
      "d:\\program files (x86)\\python\\lib\\site-packages\\ipykernel_launcher.py:1: FutureWarning: using a dict on a Series for aggregation\n",
      "is deprecated and will be removed in a future version\n",
      "  \"\"\"Entry point for launching an IPython kernel.\n"
     ]
    }
   ],
   "source": [
    "sms_opp_head=test_a_sms_df.groupby(['uid'])['opp_head'].agg({'unique_count': lambda x: len(pd.unique(x))}).add_prefix('sms_opp_head_')"
   ]
  },
  {
   "cell_type": "code",
   "execution_count": 8,
   "metadata": {
    "scrolled": true
   },
   "outputs": [
    {
     "name": "stdout",
     "output_type": "stream",
     "text": [
      "      sms_opp_head_unique_count\n",
      "uid                            \n",
      "5000                          2\n",
      "5001                         17\n",
      "5002                          2\n",
      "5003                         11\n",
      "5004                          1\n",
      "5005                          6\n",
      "5006                          1\n",
      "5007                          6\n",
      "5008                          1\n",
      "5009                          7\n",
      "5010                          1\n",
      "5011                         16\n",
      "5012                          2\n",
      "5013                          1\n",
      "5014                          1\n",
      "5015                          3\n",
      "5016                          5\n",
      "5017                          5\n",
      "5018                          2\n",
      "5019                          4\n",
      "5020                          9\n",
      "5021                          3\n",
      "5022                          3\n",
      "5023                          2\n",
      "5024                          4\n",
      "5025                          2\n",
      "5026                          4\n",
      "5027                          2\n",
      "5028                          1\n",
      "5029                          5\n",
      "...                         ...\n",
      "6969                          2\n",
      "6970                          1\n",
      "6971                          6\n",
      "6973                          7\n",
      "6974                          1\n",
      "6975                          4\n",
      "6976                         10\n",
      "6977                          7\n",
      "6978                          4\n",
      "6979                          3\n",
      "6980                          3\n",
      "6981                          4\n",
      "6982                          4\n",
      "6983                          5\n",
      "6984                          6\n",
      "6985                          3\n",
      "6986                         15\n",
      "6987                         12\n",
      "6988                          4\n",
      "6989                          1\n",
      "6990                          3\n",
      "6991                          1\n",
      "6992                          1\n",
      "6993                          2\n",
      "6994                          2\n",
      "6995                          1\n",
      "6996                          5\n",
      "6997                          4\n",
      "6998                          1\n",
      "6999                          5\n",
      "\n",
      "[1976 rows x 1 columns]\n"
     ]
    }
   ],
   "source": [
    "print(sms_opp_head)"
   ]
  },
  {
   "cell_type": "markdown",
   "metadata": {},
   "source": [
    "# Feature 27"
   ]
  },
  {
   "cell_type": "code",
   "execution_count": 13,
   "metadata": {},
   "outputs": [],
   "source": [
    "sms_opp_len=test_a_sms_df.groupby(['uid','opp_len'])['uid'].count().unstack().add_prefix('sms_opp_len_').fillna(0)"
   ]
  },
  {
   "cell_type": "code",
   "execution_count": 14,
   "metadata": {},
   "outputs": [],
   "source": [
    "sms_opp_len.columns.names = ['']"
   ]
  },
  {
   "cell_type": "code",
   "execution_count": 16,
   "metadata": {},
   "outputs": [],
   "source": [
    "sms_opp_len = sms_opp_len[['sms_opp_len_7', 'sms_opp_len_11', 'sms_opp_len_12', 'sms_opp_len_13']]"
   ]
  },
  {
   "cell_type": "code",
   "execution_count": 17,
   "metadata": {
    "scrolled": true
   },
   "outputs": [
    {
     "name": "stdout",
     "output_type": "stream",
     "text": [
      "      sms_opp_len_7  sms_opp_len_11  sms_opp_len_12  sms_opp_len_13\n",
      "uid                                                                \n",
      "5000            0.0            15.0             0.0             8.0\n",
      "5001            0.0            22.0             0.0             2.0\n",
      "5002            0.0             1.0             0.0             0.0\n",
      "5003            0.0            58.0             1.0             0.0\n",
      "5004            0.0             0.0             0.0             1.0\n",
      "5005            0.0            11.0             0.0             4.0\n",
      "5006            0.0             1.0             0.0             0.0\n",
      "5007            0.0            22.0             0.0            58.0\n",
      "5008            0.0             1.0             0.0             0.0\n",
      "5009           18.0           300.0             0.0             0.0\n",
      "5010            0.0             1.0             0.0             0.0\n",
      "5011            0.0           105.0             0.0             0.0\n",
      "5012            0.0            14.0             0.0            13.0\n",
      "5013            0.0             1.0             0.0             0.0\n",
      "5014            1.0             0.0             0.0             0.0\n",
      "5015            0.0             7.0             1.0             0.0\n",
      "5016            0.0            89.0             0.0             0.0\n",
      "5017            0.0            16.0             0.0            99.0\n",
      "5018            0.0            15.0             0.0             4.0\n",
      "5019            0.0            30.0             1.0            65.0\n",
      "5020            0.0           691.0             1.0             0.0\n",
      "5021            0.0            40.0             0.0             0.0\n",
      "5022            0.0            18.0             0.0             5.0\n",
      "5023            0.0             1.0             0.0            10.0\n",
      "5024            0.0            22.0             2.0             0.0\n",
      "5025            0.0             6.0             0.0            35.0\n",
      "5026            0.0            68.0             0.0             0.0\n",
      "5027            0.0            16.0             0.0            42.0\n",
      "5028            0.0             1.0             0.0             0.0\n",
      "5029            0.0            19.0             0.0             0.0\n",
      "...             ...             ...             ...             ...\n",
      "6969            0.0             2.0             1.0             0.0\n",
      "6970            0.0             1.0             0.0             0.0\n",
      "6971            0.0           265.0             1.0             0.0\n",
      "6973            0.0           154.0             0.0             0.0\n",
      "6974            0.0             0.0             0.0             0.0\n",
      "6975            0.0           193.0             1.0             0.0\n",
      "6976            0.0           355.0             0.0             7.0\n",
      "6977            0.0           109.0             0.0             0.0\n",
      "6978            0.0             2.0             0.0             0.0\n",
      "6979            0.0             3.0             0.0             0.0\n",
      "6980            0.0            23.0             0.0             0.0\n",
      "6981            0.0            46.0             3.0             0.0\n",
      "6982            0.0            81.0             0.0             0.0\n",
      "6983            0.0            15.0             2.0             0.0\n",
      "6984            0.0            49.0             0.0             0.0\n",
      "6985            0.0             6.0             0.0            15.0\n",
      "6986            0.0           102.0             0.0           171.0\n",
      "6987            0.0            83.0             0.0             0.0\n",
      "6988            1.0            13.0             0.0             0.0\n",
      "6989            0.0             9.0             0.0             0.0\n",
      "6990            0.0            55.0             0.0             0.0\n",
      "6991            0.0             3.0             0.0             0.0\n",
      "6992            0.0             0.0             0.0             6.0\n",
      "6993            0.0            10.0             0.0             6.0\n",
      "6994            0.0             3.0             0.0             2.0\n",
      "6995            0.0             0.0             0.0             9.0\n",
      "6996            0.0            37.0             0.0           135.0\n",
      "6997            0.0           167.0             0.0             0.0\n",
      "6998            0.0             0.0             0.0             0.0\n",
      "6999            0.0            51.0             0.0             0.0\n",
      "\n",
      "[1976 rows x 4 columns]\n"
     ]
    }
   ],
   "source": [
    "print(sms_opp_len)"
   ]
  },
  {
   "cell_type": "markdown",
   "metadata": {},
   "source": [
    "# Feature 28"
   ]
  },
  {
   "cell_type": "code",
   "execution_count": 18,
   "metadata": {},
   "outputs": [],
   "source": [
    "sms_in_out = test_a_sms_df.groupby(['uid','in_out'])['uid'].count().unstack().add_prefix('sms_in_out_').fillna(0)"
   ]
  },
  {
   "cell_type": "code",
   "execution_count": 19,
   "metadata": {},
   "outputs": [],
   "source": [
    "sms_in_out.columns.names = ['']"
   ]
  },
  {
   "cell_type": "code",
   "execution_count": 20,
   "metadata": {
    "scrolled": true
   },
   "outputs": [
    {
     "name": "stdout",
     "output_type": "stream",
     "text": [
      "      sms_in_out_0  sms_in_out_1\n",
      "uid                             \n",
      "5000           0.0          23.0\n",
      "5001          23.0           7.0\n",
      "5002           3.0          25.0\n",
      "5003          37.0          39.0\n",
      "5004           0.0           1.0\n",
      "5005          12.0           4.0\n",
      "5006           1.0           0.0\n",
      "5007           4.0          77.0\n",
      "5008           1.0           0.0\n",
      "5009         318.0           0.0\n",
      "5010           1.0           0.0\n",
      "5011          35.0          86.0\n",
      "5012           0.0          27.0\n",
      "5013           1.0           0.0\n",
      "5014           1.0           0.0\n",
      "5015           8.0           0.0\n",
      "5016           2.0         101.0\n",
      "5017           3.0         114.0\n",
      "5018           0.0          19.0\n",
      "5019           4.0          94.0\n",
      "5020          22.0         695.0\n",
      "5021           0.0          47.0\n",
      "5022           2.0          23.0\n",
      "5023           0.0          11.0\n",
      "5024           1.0          43.0\n",
      "5025           6.0          35.0\n",
      "5026           2.0          73.0\n",
      "5027           0.0          58.0\n",
      "5028           1.0           0.0\n",
      "5029           3.0          21.0\n",
      "...            ...           ...\n",
      "6969           8.0           0.0\n",
      "6970           1.0           0.0\n",
      "6971          20.0         261.0\n",
      "6973           8.0         157.0\n",
      "6974           2.0           0.0\n",
      "6975           3.0         239.0\n",
      "6976           8.0         373.0\n",
      "6977           7.0         118.0\n",
      "6978           2.0          16.0\n",
      "6979           0.0           7.0\n",
      "6980          23.0           0.0\n",
      "6981           0.0          72.0\n",
      "6982           0.0          97.0\n",
      "6983           1.0          26.0\n",
      "6984           4.0          65.0\n",
      "6985          22.0          15.0\n",
      "6986          94.0         182.0\n",
      "6987          27.0          69.0\n",
      "6988           2.0          33.0\n",
      "6989           0.0           9.0\n",
      "6990           0.0          58.0\n",
      "6991           3.0           0.0\n",
      "6992           0.0           6.0\n",
      "6993           0.0          16.0\n",
      "6994           0.0           5.0\n",
      "6995           0.0           9.0\n",
      "6996          29.0         143.0\n",
      "6997           0.0         186.0\n",
      "6998           1.0           0.0\n",
      "6999           1.0          72.0\n",
      "\n",
      "[1976 rows x 2 columns]\n"
     ]
    }
   ],
   "source": [
    "print(sms_in_out)"
   ]
  },
  {
   "cell_type": "markdown",
   "metadata": {},
   "source": [
    "# Merge Feature 25 to 28"
   ]
  },
  {
   "cell_type": "code",
   "execution_count": 21,
   "metadata": {},
   "outputs": [],
   "source": [
    "agg = sms_opp_num"
   ]
  },
  {
   "cell_type": "code",
   "execution_count": 22,
   "metadata": {},
   "outputs": [],
   "source": [
    "agg = agg.join(sms_opp_head)"
   ]
  },
  {
   "cell_type": "code",
   "execution_count": 23,
   "metadata": {},
   "outputs": [],
   "source": [
    "agg = agg.join(sms_opp_len)"
   ]
  },
  {
   "cell_type": "code",
   "execution_count": 24,
   "metadata": {},
   "outputs": [],
   "source": [
    "agg = agg.join(sms_in_out)"
   ]
  },
  {
   "cell_type": "code",
   "execution_count": 25,
   "metadata": {},
   "outputs": [
    {
     "name": "stdout",
     "output_type": "stream",
     "text": [
      "      sms_opp_num_count  sms_opp_num_unique_count  sms_opp_head_unique_count  \\\n",
      "uid                                                                            \n",
      "5000                 23                         2                          2   \n",
      "5001                 30                        21                         17   \n",
      "5002                 28                         2                          2   \n",
      "5003                 76                        15                         11   \n",
      "5004                  1                         1                          1   \n",
      "5005                 16                         7                          6   \n",
      "5006                  1                         1                          1   \n",
      "5007                 81                         6                          6   \n",
      "5008                  1                         1                          1   \n",
      "5009                318                         9                          7   \n",
      "5010                  1                         1                          1   \n",
      "5011                121                        23                         16   \n",
      "5012                 27                         2                          2   \n",
      "5013                  1                         1                          1   \n",
      "5014                  1                         1                          1   \n",
      "5015                  8                         4                          3   \n",
      "5016                103                         6                          5   \n",
      "5017                117                         5                          5   \n",
      "5018                 19                         2                          2   \n",
      "5019                 98                         5                          4   \n",
      "5020                717                        13                          9   \n",
      "5021                 47                         4                          3   \n",
      "5022                 25                         3                          3   \n",
      "5023                 11                         2                          2   \n",
      "5024                 44                         9                          4   \n",
      "5025                 41                         2                          2   \n",
      "5026                 75                         4                          4   \n",
      "5027                 58                         2                          2   \n",
      "5028                  1                         1                          1   \n",
      "5029                 24                         7                          5   \n",
      "...                 ...                       ...                        ...   \n",
      "6969                  8                         7                          2   \n",
      "6970                  1                         1                          1   \n",
      "6971                281                         9                          6   \n",
      "6973                165                         9                          7   \n",
      "6974                  2                         1                          1   \n",
      "6975                242                         8                          4   \n",
      "6976                381                        13                         10   \n",
      "6977                125                         8                          7   \n",
      "6978                 18                         5                          4   \n",
      "6979                  7                         3                          3   \n",
      "6980                 23                         3                          3   \n",
      "6981                 72                         7                          4   \n",
      "6982                 97                         6                          4   \n",
      "6983                 27                         5                          5   \n",
      "6984                 69                         7                          6   \n",
      "6985                 37                         4                          3   \n",
      "6986                276                        22                         15   \n",
      "6987                 96                        12                         12   \n",
      "6988                 35                         6                          4   \n",
      "6989                  9                         1                          1   \n",
      "6990                 58                         3                          3   \n",
      "6991                  3                         1                          1   \n",
      "6992                  6                         1                          1   \n",
      "6993                 16                         2                          2   \n",
      "6994                  5                         2                          2   \n",
      "6995                  9                         1                          1   \n",
      "6996                172                         6                          5   \n",
      "6997                186                         4                          4   \n",
      "6998                  1                         1                          1   \n",
      "6999                 73                         8                          5   \n",
      "\n",
      "      sms_opp_len_7  sms_opp_len_11  sms_opp_len_12  sms_opp_len_13  \\\n",
      "uid                                                                   \n",
      "5000            0.0            15.0             0.0             8.0   \n",
      "5001            0.0            22.0             0.0             2.0   \n",
      "5002            0.0             1.0             0.0             0.0   \n",
      "5003            0.0            58.0             1.0             0.0   \n",
      "5004            0.0             0.0             0.0             1.0   \n",
      "5005            0.0            11.0             0.0             4.0   \n",
      "5006            0.0             1.0             0.0             0.0   \n",
      "5007            0.0            22.0             0.0            58.0   \n",
      "5008            0.0             1.0             0.0             0.0   \n",
      "5009           18.0           300.0             0.0             0.0   \n",
      "5010            0.0             1.0             0.0             0.0   \n",
      "5011            0.0           105.0             0.0             0.0   \n",
      "5012            0.0            14.0             0.0            13.0   \n",
      "5013            0.0             1.0             0.0             0.0   \n",
      "5014            1.0             0.0             0.0             0.0   \n",
      "5015            0.0             7.0             1.0             0.0   \n",
      "5016            0.0            89.0             0.0             0.0   \n",
      "5017            0.0            16.0             0.0            99.0   \n",
      "5018            0.0            15.0             0.0             4.0   \n",
      "5019            0.0            30.0             1.0            65.0   \n",
      "5020            0.0           691.0             1.0             0.0   \n",
      "5021            0.0            40.0             0.0             0.0   \n",
      "5022            0.0            18.0             0.0             5.0   \n",
      "5023            0.0             1.0             0.0            10.0   \n",
      "5024            0.0            22.0             2.0             0.0   \n",
      "5025            0.0             6.0             0.0            35.0   \n",
      "5026            0.0            68.0             0.0             0.0   \n",
      "5027            0.0            16.0             0.0            42.0   \n",
      "5028            0.0             1.0             0.0             0.0   \n",
      "5029            0.0            19.0             0.0             0.0   \n",
      "...             ...             ...             ...             ...   \n",
      "6969            0.0             2.0             1.0             0.0   \n",
      "6970            0.0             1.0             0.0             0.0   \n",
      "6971            0.0           265.0             1.0             0.0   \n",
      "6973            0.0           154.0             0.0             0.0   \n",
      "6974            0.0             0.0             0.0             0.0   \n",
      "6975            0.0           193.0             1.0             0.0   \n",
      "6976            0.0           355.0             0.0             7.0   \n",
      "6977            0.0           109.0             0.0             0.0   \n",
      "6978            0.0             2.0             0.0             0.0   \n",
      "6979            0.0             3.0             0.0             0.0   \n",
      "6980            0.0            23.0             0.0             0.0   \n",
      "6981            0.0            46.0             3.0             0.0   \n",
      "6982            0.0            81.0             0.0             0.0   \n",
      "6983            0.0            15.0             2.0             0.0   \n",
      "6984            0.0            49.0             0.0             0.0   \n",
      "6985            0.0             6.0             0.0            15.0   \n",
      "6986            0.0           102.0             0.0           171.0   \n",
      "6987            0.0            83.0             0.0             0.0   \n",
      "6988            1.0            13.0             0.0             0.0   \n",
      "6989            0.0             9.0             0.0             0.0   \n",
      "6990            0.0            55.0             0.0             0.0   \n",
      "6991            0.0             3.0             0.0             0.0   \n",
      "6992            0.0             0.0             0.0             6.0   \n",
      "6993            0.0            10.0             0.0             6.0   \n",
      "6994            0.0             3.0             0.0             2.0   \n",
      "6995            0.0             0.0             0.0             9.0   \n",
      "6996            0.0            37.0             0.0           135.0   \n",
      "6997            0.0           167.0             0.0             0.0   \n",
      "6998            0.0             0.0             0.0             0.0   \n",
      "6999            0.0            51.0             0.0             0.0   \n",
      "\n",
      "      sms_in_out_0  sms_in_out_1  \n",
      "uid                               \n",
      "5000           0.0          23.0  \n",
      "5001          23.0           7.0  \n",
      "5002           3.0          25.0  \n",
      "5003          37.0          39.0  \n",
      "5004           0.0           1.0  \n",
      "5005          12.0           4.0  \n",
      "5006           1.0           0.0  \n",
      "5007           4.0          77.0  \n",
      "5008           1.0           0.0  \n",
      "5009         318.0           0.0  \n",
      "5010           1.0           0.0  \n",
      "5011          35.0          86.0  \n",
      "5012           0.0          27.0  \n",
      "5013           1.0           0.0  \n",
      "5014           1.0           0.0  \n",
      "5015           8.0           0.0  \n",
      "5016           2.0         101.0  \n",
      "5017           3.0         114.0  \n",
      "5018           0.0          19.0  \n",
      "5019           4.0          94.0  \n",
      "5020          22.0         695.0  \n",
      "5021           0.0          47.0  \n",
      "5022           2.0          23.0  \n",
      "5023           0.0          11.0  \n",
      "5024           1.0          43.0  \n",
      "5025           6.0          35.0  \n",
      "5026           2.0          73.0  \n",
      "5027           0.0          58.0  \n",
      "5028           1.0           0.0  \n",
      "5029           3.0          21.0  \n",
      "...            ...           ...  \n",
      "6969           8.0           0.0  \n",
      "6970           1.0           0.0  \n",
      "6971          20.0         261.0  \n",
      "6973           8.0         157.0  \n",
      "6974           2.0           0.0  \n",
      "6975           3.0         239.0  \n",
      "6976           8.0         373.0  \n",
      "6977           7.0         118.0  \n",
      "6978           2.0          16.0  \n",
      "6979           0.0           7.0  \n",
      "6980          23.0           0.0  \n",
      "6981           0.0          72.0  \n",
      "6982           0.0          97.0  \n",
      "6983           1.0          26.0  \n",
      "6984           4.0          65.0  \n",
      "6985          22.0          15.0  \n",
      "6986          94.0         182.0  \n",
      "6987          27.0          69.0  \n",
      "6988           2.0          33.0  \n",
      "6989           0.0           9.0  \n",
      "6990           0.0          58.0  \n",
      "6991           3.0           0.0  \n",
      "6992           0.0           6.0  \n",
      "6993           0.0          16.0  \n",
      "6994           0.0           5.0  \n",
      "6995           0.0           9.0  \n",
      "6996          29.0         143.0  \n",
      "6997           0.0         186.0  \n",
      "6998           1.0           0.0  \n",
      "6999           1.0          72.0  \n",
      "\n",
      "[1976 rows x 9 columns]\n"
     ]
    }
   ],
   "source": [
    "print(agg)"
   ]
  },
  {
   "cell_type": "code",
   "execution_count": 26,
   "metadata": {},
   "outputs": [],
   "source": [
    "dict = agg.to_dict()\n",
    "agg2 = pd.DataFrame(index = range(5000, 7000), data = dict)"
   ]
  },
  {
   "cell_type": "code",
   "execution_count": 27,
   "metadata": {},
   "outputs": [],
   "source": [
    "agg2 = agg2.fillna(0)\n",
    "agg2 = agg2.astype('int64')"
   ]
  },
  {
   "cell_type": "code",
   "execution_count": 28,
   "metadata": {},
   "outputs": [],
   "source": [
    "agg2.to_csv('../data/Test-A/test_a_feature_25to27.csv', index=True, header=None)"
   ]
  },
  {
   "cell_type": "markdown",
   "metadata": {},
   "source": [
    "# Feature 28"
   ]
  },
  {
   "cell_type": "code",
   "execution_count": 29,
   "metadata": {},
   "outputs": [],
   "source": [
    "def do(x):\n",
    "    hour = int(x % 1000000 / 10000)\n",
    "    return hour\n",
    "tmp = test_a_sms_df\n",
    "test_a_sms_df.loc[:, 'timestamp'] = tmp['start_time'].apply(do)"
   ]
  },
  {
   "cell_type": "code",
   "execution_count": 30,
   "metadata": {},
   "outputs": [],
   "source": [
    "test_a_1 = test_a_sms_df[test_a_sms_df['in_out'] == 0]\n",
    "test_a_2 = test_a_sms_df[test_a_sms_df['in_out'] == 1]"
   ]
  },
  {
   "cell_type": "code",
   "execution_count": 31,
   "metadata": {},
   "outputs": [],
   "source": [
    "ww = test_a_1[(test_a_1['timestamp'] == 22) | (test_a_1['timestamp'] == 23) | (test_a_1['timestamp'] == 0)]"
   ]
  },
  {
   "cell_type": "code",
   "execution_count": 32,
   "metadata": {},
   "outputs": [],
   "source": [
    "ans = ww['uid'].value_counts().sort_index()"
   ]
  },
  {
   "cell_type": "code",
   "execution_count": 33,
   "metadata": {},
   "outputs": [],
   "source": [
    "dict = ans.to_dict()\n",
    "ans2 = pd.Series(index = range(5000, 7000), data = dict)"
   ]
  },
  {
   "cell_type": "code",
   "execution_count": 34,
   "metadata": {},
   "outputs": [],
   "source": [
    "ans2 = ans2.fillna(0)\n",
    "ans2 = ans2.astype('int64')"
   ]
  },
  {
   "cell_type": "code",
   "execution_count": 35,
   "metadata": {},
   "outputs": [],
   "source": [
    "ans2.to_csv('../data/Test-A/test_a_feature_28.csv', index=True)"
   ]
  },
  {
   "cell_type": "code",
   "execution_count": null,
   "metadata": {},
   "outputs": [],
   "source": []
  }
 ],
 "metadata": {
  "kernelspec": {
   "display_name": "Python 2",
   "language": "python",
   "name": "python2"
  },
  "language_info": {
   "codemirror_mode": {
    "name": "ipython",
    "version": 2
   },
   "file_extension": ".py",
   "mimetype": "text/x-python",
   "name": "python",
   "nbconvert_exporter": "python",
   "pygments_lexer": "ipython2",
   "version": "2.7.13"
  }
 },
 "nbformat": 4,
 "nbformat_minor": 2
}
