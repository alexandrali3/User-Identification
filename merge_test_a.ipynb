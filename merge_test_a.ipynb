{
 "cells": [
  {
   "cell_type": "code",
   "execution_count": 1,
   "metadata": {},
   "outputs": [],
   "source": [
    "%matplotlib inline"
   ]
  },
  {
   "cell_type": "code",
   "execution_count": 2,
   "metadata": {},
   "outputs": [],
   "source": [
    "import sys\n",
    "import numpy as np\n",
    "import pandas as pd\n",
    "import re as re\n",
    "import matplotlib.pyplot as plt\n",
    "import xgboost as xgb"
   ]
  },
  {
   "cell_type": "code",
   "execution_count": 3,
   "metadata": {},
   "outputs": [],
   "source": [
    "def myPrint(x):\n",
    "    print(x.head(15))\n",
    "    print(x.info())\n",
    "def myPrint2(x):\n",
    "    print(x)"
   ]
  },
  {
   "cell_type": "code",
   "execution_count": 5,
   "metadata": {},
   "outputs": [],
   "source": [
    "test_a_df = pd.read_csv('../data/Test-A/test_a_feature_1.csv', header = None, names = ['uid', '1'])\n",
    "id_series = test_a_df['uid']\n",
    "test_a_df = test_a_df.set_index('uid')"
   ]
  },
  {
   "cell_type": "code",
   "execution_count": 6,
   "metadata": {},
   "outputs": [],
   "source": [
    "tmp = pd.read_csv('../data/Test-A/test_a_feature_2to5.csv', header = 0, names = ['uid', '2', '3', '4', '5'])\n",
    "tmp = tmp.set_index('uid')"
   ]
  },
  {
   "cell_type": "code",
   "execution_count": 7,
   "metadata": {},
   "outputs": [],
   "source": [
    "test_a_df = test_a_df.join(tmp[['2', '3', '4', '5']])"
   ]
  },
  {
   "cell_type": "code",
   "execution_count": 8,
   "metadata": {},
   "outputs": [],
   "source": [
    "tmp = pd.read_csv('../data/Test-A/test_a_feature_6.csv', header = 0, names = ['uid', '6'])\n",
    "tmp = tmp.set_index('uid')"
   ]
  },
  {
   "cell_type": "code",
   "execution_count": 9,
   "metadata": {},
   "outputs": [],
   "source": [
    "test_a_df = test_a_df.join(tmp)"
   ]
  },
  {
   "cell_type": "code",
   "execution_count": 10,
   "metadata": {},
   "outputs": [],
   "source": [
    "for i in range(7, 21):\n",
    "    tmp = pd.read_csv('../data/Test-A/test_a_feature_' + str(i) + '.csv', header = None, names = ['uid', str(i)])\n",
    "    tmp = tmp.set_index('uid')\n",
    "    test_a_df = test_a_df.join(tmp)"
   ]
  },
  {
   "cell_type": "code",
   "execution_count": 11,
   "metadata": {},
   "outputs": [],
   "source": [
    "test_a_df.to_csv('../data/Test-A/test_a_feature_1to20.csv', index=True)"
   ]
  },
  {
   "cell_type": "code",
   "execution_count": 12,
   "metadata": {
    "scrolled": true
   },
   "outputs": [
    {
     "name": "stdout",
     "output_type": "stream",
     "text": [
      "         1            2           3       4          5    6    7   8    9  \\\n",
      "uid                                                                         \n",
      "5000   612    344546306   220532855   37599   42660080   90    0  23    0   \n",
      "5001  1337   1376164390    92078851   26366   32396387  198   23   7    0   \n",
      "5002   135    112741841     8145266    1904    3194204   35    3  25    0   \n",
      "5003  1988    899439105   220765755  171110  193120868  197   37  39    0   \n",
      "5004   854   1845517859   143437713   63919   79112478  165    0   1    0   \n",
      "5005    22       834192      370574     167     239729   20   12   4    2   \n",
      "5006  4127  15864207526  1423533210  184320  235230687  831    1   0    0   \n",
      "5007  1473   1530448478   205761503   43240   56861984  190    4  77    0   \n",
      "5008   232    106858949     6877159    2347    3470042   87    1   0    0   \n",
      "5009   367    735460248    56102663   10446   14877280  136  318   0  173   \n",
      "5010   416    600534117    55521325   17503   22213892   84    1   0    0   \n",
      "5011  2186   2371722503   185500221   76877   93130990  291   35  86    0   \n",
      "5012   624    634360535    35113400   12860   13991295  120    0  27    0   \n",
      "5013   405    221455001    12335273    2731    3410703  107    1   0    1   \n",
      "5014   652    166077416    14664564    5613    6942483  120    1   0    0   \n",
      "\n",
      "       10   11   12   13        14   15   16  17  18        19         20  \n",
      "uid                                                                        \n",
      "5000   12   37   16   67  0.244898    7   32   1   0  0.500000   0.000000  \n",
      "5001  300   13  992   44  0.958466  168  140  16   4  5.642052   1.060099  \n",
      "5002    3    0   19    0  1.000000    3  327   0   0  0.000000   0.000000  \n",
      "5003  396  415  730  809  0.488286   69   49  45   0  5.502642   2.998737  \n",
      "5004    2    1    8    1  0.666667    1  196   0   2  0.000000   0.000000  \n",
      "5005  125   96  265  202  0.565611   13   71   5   0  2.204506   0.755929  \n",
      "5006    8   10   11   20  0.444444    1   28   0   8  0.516398   0.000000  \n",
      "5007   90   85  229  185  0.514286   26   91   4   0  1.417073   0.000000  \n",
      "5008    9    4   13    5  0.692308    1   28   0   0  0.487950   0.000000  \n",
      "5009   31    0   76    0  1.000000   12   95   0   1  1.834022  16.197951  \n",
      "5010   97   63  393  159  0.606250   16  186   6   0  1.800093   0.000000  \n",
      "5011  210  316  546  761  0.399240   59   99   4   7  3.152126   2.103111  \n",
      "5012   32   43  102  149  0.426667   17  130   0   0  1.505545   0.000000  \n",
      "5013    0    1    0    2  0.000000    0    0   0   0  0.000000   0.000000  \n",
      "5014   45   24  111   65  0.652174   13   83   1   0  1.190238   0.000000  \n",
      "<class 'pandas.core.frame.DataFrame'>\n",
      "Int64Index: 2000 entries, 5000 to 6999\n",
      "Data columns (total 20 columns):\n",
      "1     2000 non-null int64\n",
      "2     2000 non-null int64\n",
      "3     2000 non-null int64\n",
      "4     2000 non-null int64\n",
      "5     2000 non-null int64\n",
      "6     2000 non-null int64\n",
      "7     2000 non-null int64\n",
      "8     2000 non-null int64\n",
      "9     2000 non-null int64\n",
      "10    2000 non-null int64\n",
      "11    2000 non-null int64\n",
      "12    2000 non-null int64\n",
      "13    2000 non-null int64\n",
      "14    2000 non-null float64\n",
      "15    2000 non-null int64\n",
      "16    2000 non-null int64\n",
      "17    2000 non-null int64\n",
      "18    2000 non-null int64\n",
      "19    2000 non-null float64\n",
      "20    2000 non-null float64\n",
      "dtypes: float64(3), int64(17)\n",
      "memory usage: 408.1 KB\n",
      "None\n"
     ]
    }
   ],
   "source": [
    "myPrint(test_a_df)"
   ]
  },
  {
   "cell_type": "markdown",
   "metadata": {},
   "source": [
    "# Merge Feature 21 to 33"
   ]
  },
  {
   "cell_type": "code",
   "execution_count": 4,
   "metadata": {},
   "outputs": [],
   "source": [
    "test_a_df = pd.read_csv('../data/Test-A/test_a_feature_21to24.csv', header = None)\n",
    "test_a_df.rename(columns = {test_a_df.columns[0]: 'uid'}, inplace=True)"
   ]
  },
  {
   "cell_type": "code",
   "execution_count": 5,
   "metadata": {},
   "outputs": [],
   "source": [
    "id_series = test_a_df['uid']"
   ]
  },
  {
   "cell_type": "code",
   "execution_count": 6,
   "metadata": {},
   "outputs": [],
   "source": [
    "test_a_df = test_a_df.set_index('uid')"
   ]
  },
  {
   "cell_type": "code",
   "execution_count": 7,
   "metadata": {},
   "outputs": [],
   "source": [
    "cnt = long(25)"
   ]
  },
  {
   "cell_type": "code",
   "execution_count": 8,
   "metadata": {},
   "outputs": [],
   "source": [
    "tmp = pd.read_csv('../data/Test-A/test_a_feature_25to27.csv', header = None)\n",
    "tmp.rename(columns = {tmp.columns[0]: 'uid'}, inplace=True)\n",
    "for i in range(1, tmp.columns.size):\n",
    "    tmp.rename(columns = {tmp.columns[i]: cnt}, inplace=True)\n",
    "    cnt = cnt + 1\n",
    "tmp = tmp.set_index('uid')"
   ]
  },
  {
   "cell_type": "code",
   "execution_count": 9,
   "metadata": {
    "scrolled": true
   },
   "outputs": [
    {
     "name": "stdout",
     "output_type": "stream",
     "text": [
      "       25   26  27   28  29   30  31   32  33\n",
      "uid                                          \n",
      "5000    0   23   2   15   0    8   0   23   2\n",
      "5001   23    7  17   22   0    2   0   30  21\n",
      "5002    3   25   2    1   0    0   0   28   2\n",
      "5003   37   39  11   58   1    0   0   76  15\n",
      "5004    0    1   1    0   0    1   0    1   1\n",
      "5005   12    4   6   11   0    4   0   16   7\n",
      "5006    1    0   1    1   0    0   0    1   1\n",
      "5007    4   77   6   22   0   58   0   81   6\n",
      "5008    1    0   1    1   0    0   0    1   1\n",
      "5009  318    0   7  300   0    0  18  318   9\n",
      "5010    1    0   1    1   0    0   0    1   1\n",
      "5011   35   86  16  105   0    0   0  121  23\n",
      "5012    0   27   2   14   0   13   0   27   2\n",
      "5013    1    0   1    1   0    0   0    1   1\n",
      "5014    1    0   1    0   0    0   1    1   1\n",
      "5015    8    0   3    7   1    0   0    8   4\n",
      "5016    2  101   5   89   0    0   0  103   6\n",
      "5017    3  114   5   16   0   99   0  117   5\n",
      "5018    0   19   2   15   0    4   0   19   2\n",
      "5019    4   94   4   30   1   65   0   98   5\n",
      "5020   22  695   9  691   1    0   0  717  13\n",
      "5021    0   47   3   40   0    0   0   47   4\n",
      "5022    2   23   3   18   0    5   0   25   3\n",
      "5023    0   11   2    1   0   10   0   11   2\n",
      "5024    1   43   4   22   2    0   0   44   9\n",
      "5025    6   35   2    6   0   35   0   41   2\n",
      "5026    2   73   4   68   0    0   0   75   4\n",
      "5027    0   58   2   16   0   42   0   58   2\n",
      "5028    1    0   1    1   0    0   0    1   1\n",
      "5029    3   21   5   19   0    0   0   24   7\n",
      "...   ...  ...  ..  ...  ..  ...  ..  ...  ..\n",
      "6970    1    0   1    1   0    0   0    1   1\n",
      "6971   20  261   6  265   1    0   0  281   9\n",
      "6972    0    0   0    0   0    0   0    0   0\n",
      "6973    8  157   7  154   0    0   0  165   9\n",
      "6974    2    0   1    0   0    0   0    2   1\n",
      "6975    3  239   4  193   1    0   0  242   8\n",
      "6976    8  373  10  355   0    7   0  381  13\n",
      "6977    7  118   7  109   0    0   0  125   8\n",
      "6978    2   16   4    2   0    0   0   18   5\n",
      "6979    0    7   3    3   0    0   0    7   3\n",
      "6980   23    0   3   23   0    0   0   23   3\n",
      "6981    0   72   4   46   3    0   0   72   7\n",
      "6982    0   97   4   81   0    0   0   97   6\n",
      "6983    1   26   5   15   2    0   0   27   5\n",
      "6984    4   65   6   49   0    0   0   69   7\n",
      "6985   22   15   3    6   0   15   0   37   4\n",
      "6986   94  182  15  102   0  171   0  276  22\n",
      "6987   27   69  12   83   0    0   0   96  12\n",
      "6988    2   33   4   13   0    0   1   35   6\n",
      "6989    0    9   1    9   0    0   0    9   1\n",
      "6990    0   58   3   55   0    0   0   58   3\n",
      "6991    3    0   1    3   0    0   0    3   1\n",
      "6992    0    6   1    0   0    6   0    6   1\n",
      "6993    0   16   2   10   0    6   0   16   2\n",
      "6994    0    5   2    3   0    2   0    5   2\n",
      "6995    0    9   1    0   0    9   0    9   1\n",
      "6996   29  143   5   37   0  135   0  172   6\n",
      "6997    0  186   4  167   0    0   0  186   4\n",
      "6998    1    0   1    0   0    0   0    1   1\n",
      "6999    1   72   5   51   0    0   0   73   8\n",
      "\n",
      "[2000 rows x 9 columns]\n"
     ]
    }
   ],
   "source": [
    "print(tmp)"
   ]
  },
  {
   "cell_type": "code",
   "execution_count": 10,
   "metadata": {},
   "outputs": [],
   "source": [
    "test_a_df = test_a_df.join(tmp)"
   ]
  },
  {
   "cell_type": "code",
   "execution_count": 11,
   "metadata": {},
   "outputs": [],
   "source": [
    "tmp = pd.read_csv('../data/Test-A/test_a_feature_28.csv', header = None)\n",
    "tmp.rename(columns = {tmp.columns[0]: 'uid'}, inplace=True)\n",
    "for i in range(1, tmp.columns.size):\n",
    "    tmp.rename(columns = {tmp.columns[i]: cnt}, inplace=True)\n",
    "    cnt = cnt + 1\n",
    "tmp = tmp.set_index('uid')"
   ]
  },
  {
   "cell_type": "code",
   "execution_count": 12,
   "metadata": {},
   "outputs": [],
   "source": [
    "test_a_df = test_a_df.join(tmp)"
   ]
  },
  {
   "cell_type": "code",
   "execution_count": 13,
   "metadata": {},
   "outputs": [],
   "source": [
    "tmp = pd.read_csv('../data/Test-A/test_a_feature_29to33.csv', header = None)\n",
    "tmp.rename(columns = {tmp.columns[0]: 'uid'}, inplace=True)\n",
    "for i in range(1, tmp.columns.size):\n",
    "    tmp.rename(columns = {tmp.columns[i]: cnt}, inplace=True)\n",
    "    cnt = cnt + 1\n",
    "tmp = tmp.set_index('uid')"
   ]
  },
  {
   "cell_type": "code",
   "execution_count": 14,
   "metadata": {
    "scrolled": true
   },
   "outputs": [
    {
     "name": "stdout",
     "output_type": "stream",
     "text": [
      "       35   36   37  38  39   40   41  42    43  44  45  46    47   48\n",
      "uid                                                                   \n",
      "5000   43    0    6   0   0   12   37  17    44   1   3   0    49   31\n",
      "5001   39   48  226   0   0  300   13  11   286   1   4   1   313  175\n",
      "5002    1    1    1   0   0    3    0   3     3   0   0   0     3    3\n",
      "5003  803    5    3   0   0  396  415  27   792  16   0   1   811   94\n",
      "5004    2    0    1   0   0    2    1   2     0   1   2   0     3    2\n",
      "5005  220    1    0   0   0  125   96   9   221   0   0   0   221   13\n",
      "5006   13    5    0   0   0    8   10   8     3   1   1   4    18   10\n",
      "5007  172    1    2   0   0   90   85  17   174   0   0   0   175   36\n",
      "5008   13    0    0   0   0    9    4   3    12   0   1   0    13    3\n",
      "5009   16    7    8   0   0   31    0   9    30   0   1   0    31   12\n",
      "5010  160    0    0   0   0   97   63  19   159   0   0   0   160   27\n",
      "5011  512    0   14   0   0  210  316  42   505  13   2   5   526  109\n",
      "5012   66    9    0   0   0   32   43  18    67   8   0   0    75   32\n",
      "5013    1    0    0   0   0    0    1   1     0   0   1   0     1    1\n",
      "5014   62    0    7   0   0   45   24  12    66   2   0   0    69   17\n",
      "5015    4    0    0   0   0    0    4   3     2   2   0   0     4    4\n",
      "5016  171    1   16   0   0   68  120  21   182   5   1   0   188   41\n",
      "5017   11    2    0   0   0    5    8   7    11   0   1   0    13    8\n",
      "5018    2    1    0   0   0    0    3   2     1   0   2   0     3    2\n",
      "5019   13    1    0   0   0    3   11   9     8   1   0   3    14   10\n",
      "5020  391   43    1   0   0  143  292  25   421   4   1   1   435   91\n",
      "5021  272    0    0   0   0   85  187  26   240  27   4   0   272   54\n",
      "5022  122    0    0   0   0   74   48  15   106  12   3   0   122   25\n",
      "5023    0    0    1   0   0    0    1   1     1   0   0   0     1    1\n",
      "5024   51    0   13   0   0   23   41  16    62   2   0   0    64   21\n",
      "5025  163    0    4   0   0    4  163  27   166   0   0   0   167  120\n",
      "5026  215   20    6   0   0  110  131  26   227  12   1   1   241   62\n",
      "5027  285    0    0   0   0  163  122  13   266  12   3   3   285   23\n",
      "5028   75    0    0   0   0   44   31   8    74   0   1   0    75   12\n",
      "5029  437    2    0   0   0  197  242  23   435   4   0   0   439   55\n",
      "...   ...  ...  ...  ..  ..  ...  ...  ..   ...  ..  ..  ..   ...  ...\n",
      "6970    5    0    0   0   0    5    0   2     4   0   0   1     5    2\n",
      "6971  212    0    9   0   0   93  128  36   208  10   0   0   221   58\n",
      "6972    1    0    0   0   0    1    0   1     0   0   1   0     1    1\n",
      "6973  950  127  149   0   0  564  662  43  1207   9   6   2  1226  132\n",
      "6974   39    0    0   0   0   32    7   3    38   1   0   0    39    3\n",
      "6975   24    7    2   0   0    2   31  12    32   1   0   0    33   14\n",
      "6976   57    6   16   2   0   28   53  23    77   0   0   0    81   41\n",
      "6977  229    8   21   0   0  168   90  28   236  17   0   5   258   57\n",
      "6978  295  267  105   0   0  305  362  25   663   2   1   0   667   64\n",
      "6979    7    0    5   0   0   10    2   6     6   0   2   4    12    6\n",
      "6980  122   21   35   0   0   93   85  16   176   1   0   0   178   25\n",
      "6981   57    0    4   0   0   16   45  19    53   2   3   1    61   26\n",
      "6982  168    0    0   0   0   52  116  16   155   1   8   0   168   26\n",
      "6983  386   11   29   0   0  214  212  27   426   0   0   0   426   62\n",
      "6984   41    0    4   0   0   17   28  14    41   3   1   0    45   18\n",
      "6985    7    0   28   0   0   29    6   9    33   0   2   0    35   10\n",
      "6986  856   70   90   0   0  337  679  48   977  27   4   4  1016  286\n",
      "6987  149   29    3   0   0    4  177  23   105  76   0   0   181   56\n",
      "6988   71    2    9   0   0   42   40  17    79   0   3   0    82   23\n",
      "6989   11    0    4   0   0   11    4   7    15   0   0   0    15    7\n",
      "6990   62    1    5   0   0   26   42  12    66   0   0   0    68   14\n",
      "6991    1    0    1   0   0    1    1   1     2   0   0   0     2    1\n",
      "6992   38    0    0   0   0   31    7   6    37   0   0   1    38    6\n",
      "6993  113    0    0   0   0   53   60  11   113   0   0   0   113   15\n",
      "6994    0    0    8   0   0    8    0   3     8   0   0   0     8    3\n",
      "6995    4    0    1   0   0    5    0   4     5   0   0   0     5    4\n",
      "6996   43    0   16   0   0   33   26  17    55   1   0   1    59   31\n",
      "6997  256   10    3   0   0  102  167  26   253  13   1   0   269   58\n",
      "6998    2    0    0   0   0    1    1   2     2   0   0   0     2    2\n",
      "6999  135  253  104   0   0  152  340  30   482   3   6   0   492   53\n",
      "\n",
      "[2000 rows x 14 columns]\n"
     ]
    }
   ],
   "source": [
    "print(tmp)"
   ]
  },
  {
   "cell_type": "code",
   "execution_count": 15,
   "metadata": {},
   "outputs": [],
   "source": [
    "test_a_df = test_a_df.join(tmp)"
   ]
  },
  {
   "cell_type": "code",
   "execution_count": 16,
   "metadata": {},
   "outputs": [],
   "source": [
    "tmp = pd.read_csv('../data/Test-A/test_a_feature_14.csv', header = None)\n",
    "tmp.rename(columns = {tmp.columns[0]: 'uid'}, inplace=True)\n",
    "for i in range(1, tmp.columns.size):\n",
    "    tmp.rename(columns = {tmp.columns[i]: cnt}, inplace=True)\n",
    "    cnt = cnt + 1\n",
    "tmp = tmp.set_index('uid')"
   ]
  },
  {
   "cell_type": "code",
   "execution_count": 17,
   "metadata": {},
   "outputs": [],
   "source": [
    "test_a_df = test_a_df.join(tmp)"
   ]
  },
  {
   "cell_type": "code",
   "execution_count": 18,
   "metadata": {},
   "outputs": [],
   "source": [
    "tmp = pd.read_csv('../data/Test-A/test_a_feature_17.csv', header = None)\n",
    "tmp.rename(columns = {tmp.columns[0]: 'uid'}, inplace=True)\n",
    "for i in range(1, tmp.columns.size):\n",
    "    tmp.rename(columns = {tmp.columns[i]: cnt}, inplace=True)\n",
    "    cnt = cnt + 1\n",
    "tmp = tmp.set_index('uid')"
   ]
  },
  {
   "cell_type": "code",
   "execution_count": 19,
   "metadata": {},
   "outputs": [],
   "source": [
    "test_a_df = test_a_df.join(tmp)"
   ]
  },
  {
   "cell_type": "code",
   "execution_count": 20,
   "metadata": {},
   "outputs": [],
   "source": [
    "tmp = pd.read_csv('../data/Test-A/test_a_feature_19.csv', header = None)\n",
    "tmp.rename(columns = {tmp.columns[0]: 'uid'}, inplace=True)\n",
    "for i in range(1, tmp.columns.size):\n",
    "    tmp.rename(columns = {tmp.columns[i]: cnt}, inplace=True)\n",
    "    cnt = cnt + 1\n",
    "tmp = tmp.set_index('uid')"
   ]
  },
  {
   "cell_type": "code",
   "execution_count": 21,
   "metadata": {},
   "outputs": [],
   "source": [
    "test_a_df = test_a_df.join(tmp)"
   ]
  },
  {
   "cell_type": "code",
   "execution_count": 22,
   "metadata": {},
   "outputs": [],
   "source": [
    "tmp = pd.read_csv('../data/Test-A/test_a_feature_20.csv', header = None)\n",
    "tmp.rename(columns = {tmp.columns[0]: 'uid'}, inplace=True)\n",
    "for i in range(1, tmp.columns.size):\n",
    "    tmp.rename(columns = {tmp.columns[i]: cnt}, inplace=True)\n",
    "    cnt = cnt + 1\n",
    "tmp = tmp.set_index('uid')"
   ]
  },
  {
   "cell_type": "code",
   "execution_count": 23,
   "metadata": {},
   "outputs": [],
   "source": [
    "test_a_df = test_a_df.join(tmp)"
   ]
  },
  {
   "cell_type": "code",
   "execution_count": 24,
   "metadata": {},
   "outputs": [],
   "source": [
    "test_a_df = test_a_df.drop([16, 38, 39], axis=1)"
   ]
  },
  {
   "cell_type": "code",
   "execution_count": 25,
   "metadata": {},
   "outputs": [],
   "source": [
    "test_a_df.to_csv('../data/Test-A/test_a_feature_21to33_14_17_19_20.csv', index=True)"
   ]
  },
  {
   "cell_type": "markdown",
   "metadata": {},
   "source": [
    "# Drop some features which is not that important"
   ]
  },
  {
   "cell_type": "code",
   "execution_count": 3,
   "metadata": {},
   "outputs": [],
   "source": [
    "test_a_df = pd.read_csv('../data/Test-A/test_a_feature_21to33_14_17_19_20_norm.csv', header=0)"
   ]
  },
  {
   "cell_type": "code",
   "execution_count": 4,
   "metadata": {},
   "outputs": [],
   "source": [
    "for i in [10, 4, 31, 22]:\n",
    "    tmp = str(i)\n",
    "    test_a_df = test_a_df.drop(tmp, axis = 1)"
   ]
  },
  {
   "cell_type": "code",
   "execution_count": 5,
   "metadata": {},
   "outputs": [],
   "source": [
    "test_a_df.to_csv('../data/Test-A/test_a_feature_21to33_14_17_19_20_norm_2.csv', index=False)"
   ]
  },
  {
   "cell_type": "code",
   "execution_count": null,
   "metadata": {},
   "outputs": [],
   "source": []
  }
 ],
 "metadata": {
  "kernelspec": {
   "display_name": "Python 2",
   "language": "python",
   "name": "python2"
  },
  "language_info": {
   "codemirror_mode": {
    "name": "ipython",
    "version": 2
   },
   "file_extension": ".py",
   "mimetype": "text/x-python",
   "name": "python",
   "nbconvert_exporter": "python",
   "pygments_lexer": "ipython2",
   "version": "2.7.13"
  }
 },
 "nbformat": 4,
 "nbformat_minor": 2
}
