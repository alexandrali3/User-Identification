{
 "cells": [
  {
   "cell_type": "code",
   "execution_count": 1,
   "metadata": {},
   "outputs": [],
   "source": [
    "%matplotlib inline"
   ]
  },
  {
   "cell_type": "code",
   "execution_count": 2,
   "metadata": {},
   "outputs": [],
   "source": [
    "import sys\n",
    "import numpy as np\n",
    "import pandas as pd\n",
    "import re as re\n",
    "import matplotlib.pyplot as plt\n",
    "import xgboost as xgb"
   ]
  },
  {
   "cell_type": "code",
   "execution_count": 3,
   "metadata": {},
   "outputs": [],
   "source": [
    "def myPrint(x):\n",
    "    print(x.head(15))\n",
    "    print(x.info())\n",
    "def myPrint2(x):\n",
    "    print(x)"
   ]
  },
  {
   "cell_type": "code",
   "execution_count": 4,
   "metadata": {},
   "outputs": [],
   "source": [
    "test_a_voice_df = pd.read_csv('../data/Test-A/test_a_voice_df.csv', header = 0, dtype = {'opp_num':str})"
   ]
  },
  {
   "cell_type": "markdown",
   "metadata": {},
   "source": [
    "# Feature 10"
   ]
  },
  {
   "cell_type": "code",
   "execution_count": 45,
   "metadata": {},
   "outputs": [],
   "source": [
    "def do(x):\n",
    "    start_day = int(x['start_time'] % 100000000 / 1000000)\n",
    "    start_hour = int(x['start_time'] % 1000000 / 10000)\n",
    "    start_min = int(x['start_time'] % 10000 / 100)\n",
    "    start_sec = int(x['start_time'] % 100)\n",
    "    start = (start_day * 24 * 60 + start_hour * 60 + start_min) * 60 + start_sec\n",
    "    \n",
    "    end_day = int(x['end_time'] % 100000000 / 1000000)\n",
    "    end_hour = int(x['end_time'] % 1000000 / 10000)\n",
    "    end_min = int(x['end_time'] % 10000 / 100)\n",
    "    end_sec = int(x['end_time'] % 100)\n",
    "    end = (end_day * 24 * 60 + end_hour * 60 + end_min) * 60 + end_sec\n",
    "    \n",
    "    # duration in seconds\n",
    "    return end - start + 1\n",
    "\n",
    "def do2(x):\n",
    "    start_day = int(x['start_time'] % 100000000 / 1000000)\n",
    "    start_hour = int(x['start_time'] % 1000000 / 10000)\n",
    "    start_min = int(x['start_time'] % 10000 / 100)\n",
    "    start = start_day * 24 * 60 + start_hour * 60 + start_min\n",
    "    \n",
    "    end_day = int(x['end_time'] % 100000000 / 1000000)\n",
    "    end_hour = int(x['end_time'] % 1000000 / 10000)\n",
    "    end_min = int(x['end_time'] % 10000 / 100)\n",
    "    end = end_day * 24 * 60 + end_hour * 60 + end_min\n",
    "    \n",
    "    # duration in minutes\n",
    "    return end - start + 1\n",
    "\n",
    "tmp = test_a_voice_df\n",
    "test_a_voice_df.loc[:, 'dura'] = tmp.apply(do, axis = 1)"
   ]
  },
  {
   "cell_type": "code",
   "execution_count": 46,
   "metadata": {},
   "outputs": [],
   "source": [
    "test_a_1 = test_a_voice_df[test_a_voice_df['in_out'] == 0]\n",
    "test_a_2 = test_a_voice_df[test_a_voice_df['in_out'] == 1]"
   ]
  },
  {
   "cell_type": "code",
   "execution_count": 8,
   "metadata": {},
   "outputs": [],
   "source": [
    "tt = test_a_1['uid'].value_counts().sort_index()"
   ]
  },
  {
   "cell_type": "code",
   "execution_count": 9,
   "metadata": {},
   "outputs": [],
   "source": [
    "dict = tt.to_dict()\n",
    "ans = pd.Series(index = range(5000, 7000), data = dict)"
   ]
  },
  {
   "cell_type": "code",
   "execution_count": 10,
   "metadata": {},
   "outputs": [],
   "source": [
    "ans = ans.fillna(0)\n",
    "ans = ans.astype('int64')"
   ]
  },
  {
   "cell_type": "code",
   "execution_count": 11,
   "metadata": {},
   "outputs": [],
   "source": [
    "ans.to_csv('../data/Test-A/test_a_feature_10.csv', index=True)"
   ]
  },
  {
   "cell_type": "markdown",
   "metadata": {},
   "source": [
    "# Feature 11"
   ]
  },
  {
   "cell_type": "code",
   "execution_count": 12,
   "metadata": {},
   "outputs": [],
   "source": [
    "tt = test_a_2['uid'].value_counts().sort_index()"
   ]
  },
  {
   "cell_type": "code",
   "execution_count": 13,
   "metadata": {},
   "outputs": [],
   "source": [
    "dict = tt.to_dict()\n",
    "ans = pd.Series(index = range(5000, 7000), data = dict)"
   ]
  },
  {
   "cell_type": "code",
   "execution_count": 14,
   "metadata": {},
   "outputs": [],
   "source": [
    "ans = ans.fillna(0)\n",
    "ans = ans.astype('int64')"
   ]
  },
  {
   "cell_type": "code",
   "execution_count": 15,
   "metadata": {},
   "outputs": [],
   "source": [
    "ans.to_csv('../data/Test-A/test_a_feature_11.csv', index=True)"
   ]
  },
  {
   "cell_type": "markdown",
   "metadata": {},
   "source": [
    "# Feature 12"
   ]
  },
  {
   "cell_type": "code",
   "execution_count": 38,
   "metadata": {},
   "outputs": [],
   "source": [
    "tt = test_a_1.groupby('uid').dura.sum()\n",
    "dict = tt.to_dict()\n",
    "ans = pd.Series(index = range(5000, 7000), data = dict)"
   ]
  },
  {
   "cell_type": "code",
   "execution_count": 39,
   "metadata": {},
   "outputs": [],
   "source": [
    "ans = ans.fillna(0)\n",
    "ans = ans.astype('int64')"
   ]
  },
  {
   "cell_type": "code",
   "execution_count": 40,
   "metadata": {},
   "outputs": [],
   "source": [
    "ans.to_csv('../data/Test-A/test_a_feature_12.csv', index=True)"
   ]
  },
  {
   "cell_type": "markdown",
   "metadata": {},
   "source": [
    "# Feature 13"
   ]
  },
  {
   "cell_type": "code",
   "execution_count": 41,
   "metadata": {},
   "outputs": [],
   "source": [
    "tt = test_a_2.groupby('uid').dura.sum()\n",
    "dict = tt.to_dict()\n",
    "ans = pd.Series(index = range(5000, 7000), data = dict)"
   ]
  },
  {
   "cell_type": "code",
   "execution_count": 42,
   "metadata": {},
   "outputs": [],
   "source": [
    "ans = ans.fillna(0)\n",
    "ans = ans.astype('int64')"
   ]
  },
  {
   "cell_type": "code",
   "execution_count": 43,
   "metadata": {},
   "outputs": [],
   "source": [
    "ans.to_csv('../data/Test-A/test_a_feature_13.csv', index=True)"
   ]
  },
  {
   "cell_type": "markdown",
   "metadata": {},
   "source": [
    "# Feature 14"
   ]
  },
  {
   "cell_type": "code",
   "execution_count": 23,
   "metadata": {},
   "outputs": [],
   "source": [
    "t1 = test_a_1['uid'].value_counts()\n",
    "t2 = test_a_2['uid'].value_counts()\n",
    "dict = t1.to_dict()\n",
    "tt1 = pd.Series(index = range(5000, 7000), data = dict)\n",
    "tt1 = tt1.fillna(0)\n",
    "dict = t2.to_dict()\n",
    "tt2 = pd.Series(index = range(5000, 7000), data = dict)\n",
    "tt2 = tt2.fillna(0)\n",
    "tt3 = tt1 / (tt1 + tt2)"
   ]
  },
  {
   "cell_type": "code",
   "execution_count": 24,
   "metadata": {
    "scrolled": true
   },
   "outputs": [
    {
     "name": "stdout",
     "output_type": "stream",
     "text": [
      "5000    0.244898\n",
      "5001    0.958466\n",
      "5002    1.000000\n",
      "5003    0.488286\n",
      "5004    0.666667\n",
      "5005    0.565611\n",
      "5006    0.444444\n",
      "5007    0.514286\n",
      "5008    0.692308\n",
      "5009    1.000000\n",
      "5010    0.606250\n",
      "5011    0.399240\n",
      "5012    0.426667\n",
      "5013    0.000000\n",
      "5014    0.652174\n",
      "5015    0.000000\n",
      "5016    0.361702\n",
      "5017    0.384615\n",
      "5018    0.000000\n",
      "5019    0.214286\n",
      "5020    0.328736\n",
      "5021    0.312500\n",
      "5022    0.606557\n",
      "5023    0.000000\n",
      "5024    0.359375\n",
      "5025    0.023952\n",
      "5026    0.456432\n",
      "5027    0.571930\n",
      "5028    0.586667\n",
      "5029    0.448747\n",
      "          ...   \n",
      "6970    1.000000\n",
      "6971    0.420814\n",
      "6972    1.000000\n",
      "6973    0.460033\n",
      "6974    0.820513\n",
      "6975    0.060606\n",
      "6976    0.345679\n",
      "6977    0.651163\n",
      "6978    0.457271\n",
      "6979    0.833333\n",
      "6980    0.522472\n",
      "6981    0.262295\n",
      "6982    0.309524\n",
      "6983    0.502347\n",
      "6984    0.377778\n",
      "6985    0.828571\n",
      "6986    0.331693\n",
      "6987    0.022099\n",
      "6988    0.512195\n",
      "6989    0.733333\n",
      "6990    0.382353\n",
      "6991    0.500000\n",
      "6992    0.815789\n",
      "6993    0.469027\n",
      "6994    1.000000\n",
      "6995    1.000000\n",
      "6996    0.559322\n",
      "6997    0.379182\n",
      "6998    0.500000\n",
      "6999    0.308943\n",
      "Length: 2000, dtype: float64\n"
     ]
    }
   ],
   "source": [
    "myPrint2(tt3)"
   ]
  },
  {
   "cell_type": "code",
   "execution_count": 25,
   "metadata": {},
   "outputs": [],
   "source": [
    "tt3 = tt3.fillna(0.5)"
   ]
  },
  {
   "cell_type": "code",
   "execution_count": 26,
   "metadata": {},
   "outputs": [],
   "source": [
    "tt3.to_csv('../data/Test-A/test_a_feature_14.csv', index=True)"
   ]
  },
  {
   "cell_type": "markdown",
   "metadata": {},
   "source": [
    "# Feature 15"
   ]
  },
  {
   "cell_type": "code",
   "execution_count": 27,
   "metadata": {},
   "outputs": [
    {
     "name": "stderr",
     "output_type": "stream",
     "text": [
      "d:\\program files (x86)\\python\\lib\\site-packages\\ipykernel_launcher.py:2: FutureWarning: using a dict on a Series for aggregation\n",
      "is deprecated and will be removed in a future version\n",
      "  \n"
     ]
    }
   ],
   "source": [
    "group = test_a_1.groupby('uid')['opp_num']\n",
    "agg = group.aggregate({'opp_num': lambda x: x.nunique()})"
   ]
  },
  {
   "cell_type": "code",
   "execution_count": 29,
   "metadata": {},
   "outputs": [],
   "source": [
    "agg.rename(columns=lambda x:x.replace('opp_num','opp_cnt'), inplace=True)"
   ]
  },
  {
   "cell_type": "code",
   "execution_count": 30,
   "metadata": {},
   "outputs": [],
   "source": [
    "dict = pd.Series(agg['opp_cnt']).to_dict()\n",
    "tmp = pd.Series(index = range(5000, 7000), data = dict)"
   ]
  },
  {
   "cell_type": "code",
   "execution_count": 32,
   "metadata": {},
   "outputs": [],
   "source": [
    "tmp = tmp.fillna(0)\n",
    "tmp = tmp.astype('int64')"
   ]
  },
  {
   "cell_type": "code",
   "execution_count": 33,
   "metadata": {},
   "outputs": [],
   "source": [
    "tmp.to_csv('../data/Test-A/test_a_feature_15.csv', index=True)"
   ]
  },
  {
   "cell_type": "markdown",
   "metadata": {},
   "source": [
    "# Feature 16"
   ]
  },
  {
   "cell_type": "code",
   "execution_count": 47,
   "metadata": {},
   "outputs": [],
   "source": [
    "group = test_a_1.groupby('uid')['dura']\n",
    "agg = group.mean()"
   ]
  },
  {
   "cell_type": "code",
   "execution_count": 50,
   "metadata": {},
   "outputs": [],
   "source": [
    "dict = agg.to_dict()\n",
    "ans = pd.Series(index = range(5000, 7000), data = dict)"
   ]
  },
  {
   "cell_type": "code",
   "execution_count": 51,
   "metadata": {},
   "outputs": [],
   "source": [
    "ans = ans.fillna(0)\n",
    "ans = ans.astype('int64')"
   ]
  },
  {
   "cell_type": "code",
   "execution_count": 53,
   "metadata": {},
   "outputs": [],
   "source": [
    "ans.to_csv('../data/Test-A/test_a_feature_16.csv', index=True)"
   ]
  },
  {
   "cell_type": "markdown",
   "metadata": {},
   "source": [
    "# Feature 17"
   ]
  },
  {
   "cell_type": "code",
   "execution_count": 54,
   "metadata": {},
   "outputs": [],
   "source": [
    "g = test_a_1[test_a_1['dura'] <= 10]"
   ]
  },
  {
   "cell_type": "code",
   "execution_count": 55,
   "metadata": {},
   "outputs": [],
   "source": [
    "ans = g['uid'].value_counts()"
   ]
  },
  {
   "cell_type": "code",
   "execution_count": 56,
   "metadata": {},
   "outputs": [],
   "source": [
    "dict = ans.to_dict()\n",
    "ans2 = pd.Series(index = range(5000, 7000), data = dict)"
   ]
  },
  {
   "cell_type": "code",
   "execution_count": 57,
   "metadata": {},
   "outputs": [],
   "source": [
    "ans2 = ans2.fillna(0)\n",
    "ans2 = ans2.astype('int64')"
   ]
  },
  {
   "cell_type": "code",
   "execution_count": 58,
   "metadata": {},
   "outputs": [],
   "source": [
    "ans2.to_csv('../data/Test-A/test_a_feature_17.csv', index=True)"
   ]
  },
  {
   "cell_type": "markdown",
   "metadata": {},
   "source": [
    "# Feature 18"
   ]
  },
  {
   "cell_type": "code",
   "execution_count": 59,
   "metadata": {},
   "outputs": [],
   "source": [
    "g = test_a_1[test_a_1['opp_len'] <= 8]"
   ]
  },
  {
   "cell_type": "code",
   "execution_count": 60,
   "metadata": {},
   "outputs": [],
   "source": [
    "tmp = g['uid'].value_counts()\n",
    "tmp = tmp.sort_index()"
   ]
  },
  {
   "cell_type": "code",
   "execution_count": 61,
   "metadata": {},
   "outputs": [],
   "source": [
    "dict = tmp.to_dict()\n",
    "ans = pd.Series(index = range(5000, 7000), data = dict)"
   ]
  },
  {
   "cell_type": "code",
   "execution_count": 62,
   "metadata": {},
   "outputs": [],
   "source": [
    "ans = ans.fillna(0)\n",
    "ans = ans.astype('int64')"
   ]
  },
  {
   "cell_type": "code",
   "execution_count": 63,
   "metadata": {},
   "outputs": [],
   "source": [
    "ans.to_csv('../data/Test-A/test_a_feature_18.csv', index=True)"
   ]
  },
  {
   "cell_type": "markdown",
   "metadata": {},
   "source": [
    "# Feature 19"
   ]
  },
  {
   "cell_type": "code",
   "execution_count": 64,
   "metadata": {},
   "outputs": [],
   "source": [
    "def do(x):\n",
    "    return int(x['start_time'] / 1000000)\n",
    "\n",
    "tmp = test_a_voice_df\n",
    "test_a_voice_df.loc[:, 'day'] = tmp.apply(do, axis = 1)"
   ]
  },
  {
   "cell_type": "code",
   "execution_count": 65,
   "metadata": {},
   "outputs": [],
   "source": [
    "test_a_1 = test_a_voice_df[test_a_voice_df['in_out'] == 0]\n",
    "test_a_2 = test_a_voice_df[test_a_voice_df['in_out'] == 1]"
   ]
  },
  {
   "cell_type": "code",
   "execution_count": 66,
   "metadata": {},
   "outputs": [],
   "source": [
    "group = test_a_1.groupby('uid')\n",
    "item_dict = {}\n",
    "for index,g in group:\n",
    "    tmp = g['day'].value_counts()\n",
    "    item_dict[index] = tmp.std()"
   ]
  },
  {
   "cell_type": "code",
   "execution_count": 67,
   "metadata": {},
   "outputs": [],
   "source": [
    "ans = pd.Series(index = range(5000, 7000), data = item_dict)"
   ]
  },
  {
   "cell_type": "code",
   "execution_count": 68,
   "metadata": {},
   "outputs": [],
   "source": [
    "ans = ans.fillna(0)"
   ]
  },
  {
   "cell_type": "code",
   "execution_count": 69,
   "metadata": {},
   "outputs": [],
   "source": [
    "ans.to_csv('../data/Test-A/test_a_feature_19.csv', index=True)"
   ]
  },
  {
   "cell_type": "markdown",
   "metadata": {},
   "source": [
    "# Feature 29 to 33"
   ]
  },
  {
   "cell_type": "code",
   "execution_count": 5,
   "metadata": {},
   "outputs": [
    {
     "name": "stderr",
     "output_type": "stream",
     "text": [
      "d:\\program files (x86)\\python\\lib\\site-packages\\ipykernel_launcher.py:1: FutureWarning: using a dict on a Series for aggregation\n",
      "is deprecated and will be removed in a future version\n",
      "  \"\"\"Entry point for launching an IPython kernel.\n"
     ]
    }
   ],
   "source": [
    "voice_opp_num = test_a_voice_df.groupby(['uid'])['opp_num'].agg({'unique_count': lambda x: len(pd.unique(x)),'count':'count'}).add_prefix('voice_opp_num_')"
   ]
  },
  {
   "cell_type": "code",
   "execution_count": 6,
   "metadata": {
    "scrolled": true
   },
   "outputs": [
    {
     "name": "stdout",
     "output_type": "stream",
     "text": [
      "      voice_opp_num_count  voice_opp_num_unique_count\n",
      "uid                                                  \n",
      "5000                   49                          31\n",
      "5001                  313                         175\n",
      "5002                    3                           3\n",
      "5003                  811                          94\n",
      "5004                    3                           2\n",
      "5005                  221                          13\n",
      "5006                   18                          10\n",
      "5007                  175                          36\n",
      "5008                   13                           3\n",
      "5009                   31                          12\n",
      "5010                  160                          27\n",
      "5011                  526                         109\n",
      "5012                   75                          32\n",
      "5013                    1                           1\n",
      "5014                   69                          17\n",
      "5015                    4                           4\n",
      "5016                  188                          41\n",
      "5017                   13                           8\n",
      "5018                    3                           2\n",
      "5019                   14                          10\n",
      "5020                  435                          91\n",
      "5021                  272                          54\n",
      "5022                  122                          25\n",
      "5023                    1                           1\n",
      "5024                   64                          21\n",
      "5025                  167                         120\n",
      "5026                  241                          62\n",
      "5027                  285                          23\n",
      "5028                   75                          12\n",
      "5029                  439                          55\n",
      "...                   ...                         ...\n",
      "6970                    5                           2\n",
      "6971                  221                          58\n",
      "6972                    1                           1\n",
      "6973                 1226                         132\n",
      "6974                   39                           3\n",
      "6975                   33                          14\n",
      "6976                   81                          41\n",
      "6977                  258                          57\n",
      "6978                  667                          64\n",
      "6979                   12                           6\n",
      "6980                  178                          25\n",
      "6981                   61                          26\n",
      "6982                  168                          26\n",
      "6983                  426                          62\n",
      "6984                   45                          18\n",
      "6985                   35                          10\n",
      "6986                 1016                         286\n",
      "6987                  181                          56\n",
      "6988                   82                          23\n",
      "6989                   15                           7\n",
      "6990                   68                          14\n",
      "6991                    2                           1\n",
      "6992                   38                           6\n",
      "6993                  113                          15\n",
      "6994                    8                           3\n",
      "6995                    5                           4\n",
      "6996                   59                          31\n",
      "6997                  269                          58\n",
      "6998                    2                           2\n",
      "6999                  492                          53\n",
      "\n",
      "[1995 rows x 2 columns]\n"
     ]
    }
   ],
   "source": [
    "print(voice_opp_num)"
   ]
  },
  {
   "cell_type": "markdown",
   "metadata": {},
   "source": [
    "# Feature 30"
   ]
  },
  {
   "cell_type": "code",
   "execution_count": 7,
   "metadata": {},
   "outputs": [
    {
     "name": "stderr",
     "output_type": "stream",
     "text": [
      "d:\\program files (x86)\\python\\lib\\site-packages\\ipykernel_launcher.py:1: FutureWarning: using a dict on a Series for aggregation\n",
      "is deprecated and will be removed in a future version\n",
      "  \"\"\"Entry point for launching an IPython kernel.\n"
     ]
    }
   ],
   "source": [
    "voice_opp_head=test_a_voice_df.groupby(['uid'])['opp_head'].agg({'unique_count': lambda x: len(pd.unique(x))}).add_prefix('voice_opp_head_')"
   ]
  },
  {
   "cell_type": "code",
   "execution_count": 8,
   "metadata": {
    "scrolled": true
   },
   "outputs": [
    {
     "name": "stdout",
     "output_type": "stream",
     "text": [
      "      voice_opp_head_unique_count\n",
      "uid                              \n",
      "5000                           17\n",
      "5001                           11\n",
      "5002                            3\n",
      "5003                           27\n",
      "5004                            2\n",
      "5005                            9\n",
      "5006                            8\n",
      "5007                           17\n",
      "5008                            3\n",
      "5009                            9\n",
      "5010                           19\n",
      "5011                           42\n",
      "5012                           18\n",
      "5013                            1\n",
      "5014                           12\n",
      "5015                            3\n",
      "5016                           21\n",
      "5017                            7\n",
      "5018                            2\n",
      "5019                            9\n",
      "5020                           25\n",
      "5021                           26\n",
      "5022                           15\n",
      "5023                            1\n",
      "5024                           16\n",
      "5025                           27\n",
      "5026                           26\n",
      "5027                           13\n",
      "5028                            8\n",
      "5029                           23\n",
      "...                           ...\n",
      "6970                            2\n",
      "6971                           36\n",
      "6972                            1\n",
      "6973                           43\n",
      "6974                            3\n",
      "6975                           12\n",
      "6976                           23\n",
      "6977                           28\n",
      "6978                           25\n",
      "6979                            6\n",
      "6980                           16\n",
      "6981                           19\n",
      "6982                           16\n",
      "6983                           27\n",
      "6984                           14\n",
      "6985                            9\n",
      "6986                           48\n",
      "6987                           23\n",
      "6988                           17\n",
      "6989                            7\n",
      "6990                           12\n",
      "6991                            1\n",
      "6992                            6\n",
      "6993                           11\n",
      "6994                            3\n",
      "6995                            4\n",
      "6996                           17\n",
      "6997                           26\n",
      "6998                            2\n",
      "6999                           30\n",
      "\n",
      "[1995 rows x 1 columns]\n"
     ]
    }
   ],
   "source": [
    "print(voice_opp_head)"
   ]
  },
  {
   "cell_type": "markdown",
   "metadata": {},
   "source": [
    "# Feature 31"
   ]
  },
  {
   "cell_type": "code",
   "execution_count": 9,
   "metadata": {},
   "outputs": [],
   "source": [
    "voice_opp_len=test_a_voice_df.groupby(['uid','opp_len'])['uid'].count().unstack().add_prefix('voice_opp_len_').fillna(0)"
   ]
  },
  {
   "cell_type": "code",
   "execution_count": 10,
   "metadata": {},
   "outputs": [],
   "source": [
    "voice_opp_len.columns.name = None"
   ]
  },
  {
   "cell_type": "code",
   "execution_count": 11,
   "metadata": {},
   "outputs": [],
   "source": [
    "voice_opp_len = voice_opp_len[['voice_opp_len_5', 'voice_opp_len_8',  'voice_opp_len_11', 'voice_opp_len_12']]"
   ]
  },
  {
   "cell_type": "code",
   "execution_count": 12,
   "metadata": {
    "scrolled": true
   },
   "outputs": [
    {
     "name": "stdout",
     "output_type": "stream",
     "text": [
      "      voice_opp_len_5  voice_opp_len_8  voice_opp_len_11  voice_opp_len_12\n",
      "uid                                                                       \n",
      "5000              3.0              0.0              44.0               1.0\n",
      "5001              4.0              1.0             286.0               1.0\n",
      "5002              0.0              0.0               3.0               0.0\n",
      "5003              0.0              1.0             792.0              16.0\n",
      "5004              2.0              0.0               0.0               1.0\n",
      "5005              0.0              0.0             221.0               0.0\n",
      "5006              1.0              4.0               3.0               1.0\n",
      "5007              0.0              0.0             174.0               0.0\n",
      "5008              1.0              0.0              12.0               0.0\n",
      "5009              1.0              0.0              30.0               0.0\n",
      "5010              0.0              0.0             159.0               0.0\n",
      "5011              2.0              5.0             505.0              13.0\n",
      "5012              0.0              0.0              67.0               8.0\n",
      "5013              1.0              0.0               0.0               0.0\n",
      "5014              0.0              0.0              66.0               2.0\n",
      "5015              0.0              0.0               2.0               2.0\n",
      "5016              1.0              0.0             182.0               5.0\n",
      "5017              1.0              0.0              11.0               0.0\n",
      "5018              2.0              0.0               1.0               0.0\n",
      "5019              0.0              3.0               8.0               1.0\n",
      "5020              1.0              1.0             421.0               4.0\n",
      "5021              4.0              0.0             240.0              27.0\n",
      "5022              3.0              0.0             106.0              12.0\n",
      "5023              0.0              0.0               1.0               0.0\n",
      "5024              0.0              0.0              62.0               2.0\n",
      "5025              0.0              0.0             166.0               0.0\n",
      "5026              1.0              1.0             227.0              12.0\n",
      "5027              3.0              3.0             266.0              12.0\n",
      "5028              1.0              0.0              74.0               0.0\n",
      "5029              0.0              0.0             435.0               4.0\n",
      "...               ...              ...               ...               ...\n",
      "6970              0.0              1.0               4.0               0.0\n",
      "6971              0.0              0.0             208.0              10.0\n",
      "6972              1.0              0.0               0.0               0.0\n",
      "6973              6.0              2.0            1207.0               9.0\n",
      "6974              0.0              0.0              38.0               1.0\n",
      "6975              0.0              0.0              32.0               1.0\n",
      "6976              0.0              0.0              77.0               0.0\n",
      "6977              0.0              5.0             236.0              17.0\n",
      "6978              1.0              0.0             663.0               2.0\n",
      "6979              2.0              4.0               6.0               0.0\n",
      "6980              0.0              0.0             176.0               1.0\n",
      "6981              3.0              1.0              53.0               2.0\n",
      "6982              8.0              0.0             155.0               1.0\n",
      "6983              0.0              0.0             426.0               0.0\n",
      "6984              1.0              0.0              41.0               3.0\n",
      "6985              2.0              0.0              33.0               0.0\n",
      "6986              4.0              4.0             977.0              27.0\n",
      "6987              0.0              0.0             105.0              76.0\n",
      "6988              3.0              0.0              79.0               0.0\n",
      "6989              0.0              0.0              15.0               0.0\n",
      "6990              0.0              0.0              66.0               0.0\n",
      "6991              0.0              0.0               2.0               0.0\n",
      "6992              0.0              1.0              37.0               0.0\n",
      "6993              0.0              0.0             113.0               0.0\n",
      "6994              0.0              0.0               8.0               0.0\n",
      "6995              0.0              0.0               5.0               0.0\n",
      "6996              0.0              1.0              55.0               1.0\n",
      "6997              1.0              0.0             253.0              13.0\n",
      "6998              0.0              0.0               2.0               0.0\n",
      "6999              6.0              0.0             482.0               3.0\n",
      "\n",
      "[1995 rows x 4 columns]\n"
     ]
    }
   ],
   "source": [
    "print(voice_opp_len)"
   ]
  },
  {
   "cell_type": "markdown",
   "metadata": {},
   "source": [
    "# Feature 32"
   ]
  },
  {
   "cell_type": "code",
   "execution_count": 13,
   "metadata": {},
   "outputs": [],
   "source": [
    "voice_call_type = test_a_voice_df.groupby(['uid','call_type'])['uid'].count().unstack().add_prefix('voice_call_type_').fillna(0)"
   ]
  },
  {
   "cell_type": "code",
   "execution_count": 14,
   "metadata": {},
   "outputs": [],
   "source": [
    "voice_call_type.columns.name = None"
   ]
  },
  {
   "cell_type": "markdown",
   "metadata": {},
   "source": [
    "# Feature 33"
   ]
  },
  {
   "cell_type": "code",
   "execution_count": 15,
   "metadata": {},
   "outputs": [],
   "source": [
    "voice_in_out = test_a_voice_df.groupby(['uid','in_out'])['uid'].count().unstack().add_prefix('voice_in_out_').fillna(0)"
   ]
  },
  {
   "cell_type": "code",
   "execution_count": 16,
   "metadata": {},
   "outputs": [],
   "source": [
    "voice_in_out.columns.name = None"
   ]
  },
  {
   "cell_type": "markdown",
   "metadata": {},
   "source": [
    "# Merge Feature 29 to 33"
   ]
  },
  {
   "cell_type": "code",
   "execution_count": 17,
   "metadata": {},
   "outputs": [],
   "source": [
    "agg = voice_opp_num"
   ]
  },
  {
   "cell_type": "code",
   "execution_count": 18,
   "metadata": {},
   "outputs": [],
   "source": [
    "agg = agg.join(voice_opp_len)"
   ]
  },
  {
   "cell_type": "code",
   "execution_count": 19,
   "metadata": {},
   "outputs": [],
   "source": [
    "agg = agg.join(voice_opp_head)"
   ]
  },
  {
   "cell_type": "code",
   "execution_count": 20,
   "metadata": {},
   "outputs": [],
   "source": [
    "agg = agg.join(voice_call_type)"
   ]
  },
  {
   "cell_type": "code",
   "execution_count": 21,
   "metadata": {},
   "outputs": [],
   "source": [
    "agg = agg.join(voice_in_out)"
   ]
  },
  {
   "cell_type": "code",
   "execution_count": 25,
   "metadata": {},
   "outputs": [],
   "source": [
    "dict = agg.to_dict()\n",
    "agg2 = pd.DataFrame(index = range(5000, 7000), data = dict)"
   ]
  },
  {
   "cell_type": "code",
   "execution_count": 26,
   "metadata": {},
   "outputs": [],
   "source": [
    "agg2 = agg2.fillna(0)\n",
    "agg2 = agg2.astype('int64')"
   ]
  },
  {
   "cell_type": "code",
   "execution_count": 27,
   "metadata": {},
   "outputs": [],
   "source": [
    "agg2.to_csv('../data/Test-A/test_a_feature_29to33.csv', index=True, header=None)"
   ]
  },
  {
   "cell_type": "code",
   "execution_count": null,
   "metadata": {},
   "outputs": [],
   "source": []
  }
 ],
 "metadata": {
  "kernelspec": {
   "display_name": "Python 2",
   "language": "python",
   "name": "python2"
  },
  "language_info": {
   "codemirror_mode": {
    "name": "ipython",
    "version": 2
   },
   "file_extension": ".py",
   "mimetype": "text/x-python",
   "name": "python",
   "nbconvert_exporter": "python",
   "pygments_lexer": "ipython2",
   "version": "2.7.13"
  }
 },
 "nbformat": 4,
 "nbformat_minor": 2
}
