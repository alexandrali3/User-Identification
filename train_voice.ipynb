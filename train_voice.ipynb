{
 "cells": [
  {
   "cell_type": "code",
   "execution_count": 1,
   "metadata": {},
   "outputs": [],
   "source": [
    "%matplotlib inline"
   ]
  },
  {
   "cell_type": "code",
   "execution_count": 2,
   "metadata": {},
   "outputs": [],
   "source": [
    "import sys\n",
    "import numpy as np\n",
    "import pandas as pd\n",
    "import re as re\n",
    "import matplotlib.pyplot as plt\n",
    "import xgboost as xgb"
   ]
  },
  {
   "cell_type": "code",
   "execution_count": 3,
   "metadata": {},
   "outputs": [],
   "source": [
    "train_uid_df = pd.read_csv('../data/train/train_uid_df.csv', header = 0)"
   ]
  },
  {
   "cell_type": "code",
   "execution_count": 3,
   "metadata": {},
   "outputs": [
    {
     "name": "stderr",
     "output_type": "stream",
     "text": [
      "d:\\program files (x86)\\python\\lib\\site-packages\\IPython\\core\\interactiveshell.py:2718: DtypeWarning: Columns (2) have mixed types. Specify dtype option on import or set low_memory=False.\n",
      "  interactivity=interactivity, compiler=compiler, result=result)\n"
     ]
    }
   ],
   "source": [
    "train_voice_df = pd.read_csv('../data/train/train_voice_df.csv', header = 0, dtype = {'opp_num':str})"
   ]
  },
  {
   "cell_type": "code",
   "execution_count": 4,
   "metadata": {},
   "outputs": [
    {
     "name": "stdout",
     "output_type": "stream",
     "text": [
      "<class 'pandas.core.frame.DataFrame'>\n",
      "RangeIndex: 1150778 entries, 0 to 1150777\n",
      "Data columns (total 8 columns):\n",
      "uid           1150778 non-null int64\n",
      "opp_num       1150778 non-null object\n",
      "opp_head      1150778 non-null object\n",
      "opp_len       1150778 non-null int64\n",
      "start_time    1150778 non-null int64\n",
      "end_time      1150778 non-null int64\n",
      "call_type     1150778 non-null int64\n",
      "in_out        1150778 non-null int64\n",
      "dtypes: int64(6), object(2)\n",
      "memory usage: 70.2+ MB\n"
     ]
    }
   ],
   "source": [
    "train_voice_df.info()"
   ]
  },
  {
   "cell_type": "code",
   "execution_count": 7,
   "metadata": {},
   "outputs": [],
   "source": [
    "def do(x):\n",
    "    start_day = int(x['start_time'] % 100000000 / 1000000)\n",
    "    start_hour = int(x['start_time'] % 1000000 / 10000)\n",
    "    start_min = int(x['start_time'] % 10000 / 100)\n",
    "    start_sec = int(x['start_time'] % 100)\n",
    "    start = (start_day * 24 * 60 + start_hour * 60 + start_min) * 60 + start_sec\n",
    "    \n",
    "    end_day = int(x['end_time'] % 100000000 / 1000000)\n",
    "    end_hour = int(x['end_time'] % 1000000 / 10000)\n",
    "    end_min = int(x['end_time'] % 10000 / 100)\n",
    "    end_sec = int(x['end_time'] % 100)\n",
    "    end = (end_day * 24 * 60 + end_hour * 60 + end_min) * 60 + end_sec\n",
    "    \n",
    "    # duration in seconds\n",
    "    return end - start + 1\n",
    "tmp = train_voice_df\n",
    "train_voice_df.loc[:, 'dura'] = tmp.apply(do, axis = 1)"
   ]
  },
  {
   "cell_type": "code",
   "execution_count": 8,
   "metadata": {},
   "outputs": [
    {
     "name": "stdout",
     "output_type": "stream",
     "text": [
      "          uid                           opp_num opp_head  opp_len  start_time  \\\n",
      "0         113  38D54642A237A11BB18455FC1E505292      132       11    26115956   \n",
      "1         113  38D54642A237A11BB18455FC1E505292      132       11    26115623   \n",
      "2         113  38D54642A237A11BB18455FC1E505292      132       11    26174233   \n",
      "3         113  38D54642A237A11BB18455FC1E505292      132       11    26070423   \n",
      "4        3340  010A66F2AD42C48C44897A3DEC96A2A1      139       11    26201745   \n",
      "5        3340  BC16EA96F7447486FE25AC2BB7A665EF      185       11    26060320   \n",
      "6        3340  EE497EAB9DA2FB0805390237F983D454      100        7    26061046   \n",
      "7        3340  010A66F2AD42C48C44897A3DEC96A2A1      139       11    26192655   \n",
      "8        2016  5D2654B214731E788C5206A96BD6DA59      139       11    26112314   \n",
      "9        2016  084501372689ECABD58FBB3E7FF254B8      131       11    26112217   \n",
      "10       2016  5D2654B214731E788C5206A96BD6DA59      139       11    26094342   \n",
      "11       2016  5D2654B214731E788C5206A96BD6DA59      139       11    26104032   \n",
      "12       2016  BB2956CD2C8D97C7125695BD406BE88F      132       11    26182944   \n",
      "13       2016  5D2654B214731E788C5206A96BD6DA59      139       11    26131919   \n",
      "14        493  9659C513742695A6D1338D24FFD49E4A      166       11    26155722   \n",
      "15        493  D1DE6D77FF45AC7E143522C831111AA8        1        5    26101621   \n",
      "16        493  B6B26776076C73A1608E186E702AAC39      132       11    26144615   \n",
      "17       2255  CA4A2177F52DC7EED16F2DF36EC4CB4F      130       11    26110736   \n",
      "18       2255  371FEE6E47AAB9243C3EB72E8DFDC41A      132       11    26112324   \n",
      "19       2255  05D0CD358DA190ABF19E9E5488770680      135       11    26110859   \n",
      "20       2255  371FEE6E47AAB9243C3EB72E8DFDC41A      132       11    26181453   \n",
      "21       2255  2D8128D73C4F1F33088D9CD47E721C08      130       11    26115250   \n",
      "22       2255  2D8128D73C4F1F33088D9CD47E721C08      130       11    26071131   \n",
      "23       2255  E21DFE81D959519D8BE30A423CFD92D0      132       11    26063525   \n",
      "24       2255  371FEE6E47AAB9243C3EB72E8DFDC41A      132       11    26080751   \n",
      "25       1362  70BEE779ABAD42B7CDF470A841C114BC      138       11    26084126   \n",
      "26       1362  70BEE779ABAD42B7CDF470A841C114BC      138       11    26082818   \n",
      "27       1362  65622E99ADFDAA7350FE0868DD236F35      150       11    26172626   \n",
      "28       1362  65622E99ADFDAA7350FE0868DD236F35      150       11    26180602   \n",
      "29       1362  613877A7D7583778D7ECFFC3A56FC31E      189       11    26110348   \n",
      "...       ...                               ...      ...      ...         ...   \n",
      "1150748  1809  3FE15FCCE26860A91A5007EA4E67B11A      180       11    33080131   \n",
      "1150749  1809  86580292D090C736829D572CE0F6A759      159       11    33092853   \n",
      "1150750  3891  1FFEBE3A5EF89E0C42258A6C5B93B160      177       11    33191734   \n",
      "1150751  3891  AD65192DACD9ECEBA23F08C2D18BA7B1      131       11    33162441   \n",
      "1150752   593  16B3C7FC60BED7141460E2DF8F32C6E5      187       11    33155340   \n",
      "1150753   593  FD55B17289271B4909DC2A8761EC7997      138       11    33170257   \n",
      "1150754  2043  82C2AA1119ADCBF70E2CA0705E5B94DE      159       11    24215837   \n",
      "1150755  2043  82C2AA1119ADCBF70E2CA0705E5B94DE      159       11    24231137   \n",
      "1150756  2043  82C2AA1119ADCBF70E2CA0705E5B94DE      159       11    24162743   \n",
      "1150757  2043  82C2AA1119ADCBF70E2CA0705E5B94DE      159       11    24174704   \n",
      "1150758  2043  9B355340D89F3E27DD2DFB9F3DED7CEE      151       11    24175129   \n",
      "1150759   907  1F627208F3CBD5A124F0883515B020CF      173       11    24175444   \n",
      "1150760   907  D460EA538E92755CD609847D8902D04F      158       11    24154251   \n",
      "1150761   907  E7A4038A1A60937F0897733C2406CF99      186       11    24152120   \n",
      "1150762   907  D9537E96ED32F176354899B52C0BC6A5      180       11    24142550   \n",
      "1150763   907  1252FE04AED0353EC1E21D0CB2833B95      131       11    24100149   \n",
      "1150764  1785  560DA72132C1C79F3F4DE36DB6DD713E      131       11    24194451   \n",
      "1150765  1785  560DA72132C1C79F3F4DE36DB6DD713E      131       11    24195511   \n",
      "1150766  1785  6363F66F966C7EDF7BCF680D415430C8      139       11    24192232   \n",
      "1150767  1785  6363F66F966C7EDF7BCF680D415430C8      139       11    24190731   \n",
      "1150768  1785  549A3BAA09905E189333962E35CE9BCE      151       11    24192820   \n",
      "1150769  1785  28122434F6A5273481E3F898BCEA7D7D      133       11    24165731   \n",
      "1150770  1785  970B788D8D4FF27AA094B634838FA281      189       11    24155025   \n",
      "1150771  3674  CBC97A2178539D05C7FDA96230F38C6C      136       11    24072912   \n",
      "1150772  3674  F39F1F615A64A19E052C6B7EE897B3A6      152       11    24165304   \n",
      "1150773  3674  CBC97A2178539D05C7FDA96230F38C6C      136       11    24200548   \n",
      "1150774  3674  CBC97A2178539D05C7FDA96230F38C6C      136       11    24093130   \n",
      "1150775  3674  CBC97A2178539D05C7FDA96230F38C6C      136       11    24130002   \n",
      "1150776  3674  CBC97A2178539D05C7FDA96230F38C6C      136       11    24182419   \n",
      "1150777  2714  3FB9A382A5587BBF9D4384AEFD318844      150       11    24211933   \n",
      "\n",
      "         end_time  call_type  in_out  dura  \n",
      "0        26120033          1       1    38  \n",
      "1        26115707          1       1    45  \n",
      "2        26174321          1       1    49  \n",
      "3        26070512          1       0    50  \n",
      "4        26201825          1       1    41  \n",
      "5        26060349          1       1    30  \n",
      "6        26061115          1       0    30  \n",
      "7        26193840          1       1   706  \n",
      "8        26112403          1       1    50  \n",
      "9        26112311          1       0    55  \n",
      "10       26094450          1       1    69  \n",
      "11       26104047          2       0    16  \n",
      "12       26183050          1       0    67  \n",
      "13       26132001          2       0    43  \n",
      "14       26155733          3       0    12  \n",
      "15       26101640          1       1    20  \n",
      "16       26144724          1       0    70  \n",
      "17       26110755          1       0    20  \n",
      "18       26112348          1       0    25  \n",
      "19       26110958          1       0    60  \n",
      "20       26181614          1       1    82  \n",
      "21       26115301          1       0    12  \n",
      "22       26071204          1       0    34  \n",
      "23       26063546          1       1    22  \n",
      "24       26080810          1       0    20  \n",
      "25       26084143          1       0    18  \n",
      "26       26082906          1       0    49  \n",
      "27       26172637          1       1    12  \n",
      "28       26180614          1       0    13  \n",
      "29       26110414          1       0    27  \n",
      "...           ...        ...     ...   ...  \n",
      "1150748  33080146          1       1    16  \n",
      "1150749  33092901          1       0     9  \n",
      "1150750  33191927          1       1   114  \n",
      "1150751  33162506          1       0    26  \n",
      "1150752  33155355          1       1    16  \n",
      "1150753  33170310          1       0    14  \n",
      "1150754  24215917          1       1    41  \n",
      "1150755  24231223          1       1    47  \n",
      "1150756  24162759          1       1    17  \n",
      "1150757  24174743          1       1    40  \n",
      "1150758  24175259          1       1    91  \n",
      "1150759  24175541          1       1    58  \n",
      "1150760  24154311          1       0    21  \n",
      "1150761  24152141          3       0    22  \n",
      "1150762  24142617          1       0    28  \n",
      "1150763  24100925          3       0   457  \n",
      "1150764  24194656          1       0   126  \n",
      "1150765  24195536          1       1    26  \n",
      "1150766  24192257          1       0    26  \n",
      "1150767  24190847          1       0    77  \n",
      "1150768  24192919          1       1    60  \n",
      "1150769  24165801          1       1    31  \n",
      "1150770  24155100          1       0    36  \n",
      "1150771  24073114          1       1   123  \n",
      "1150772  24170023          3       0   440  \n",
      "1150773  24200910          1       0   203  \n",
      "1150774  24093416          1       1   167  \n",
      "1150775  24130219          1       1   138  \n",
      "1150776  24182610          1       1   112  \n",
      "1150777  24212009          2       0    37  \n",
      "\n",
      "[1150778 rows x 9 columns]\n"
     ]
    }
   ],
   "source": [
    "print(train_voice_df)"
   ]
  },
  {
   "cell_type": "code",
   "execution_count": 61,
   "metadata": {},
   "outputs": [],
   "source": [
    "train1 = train_voice_df[train_voice_df['in_out'] == 0]\n",
    "train2 = train_voice_df[train_voice_df['in_out'] == 1]\n",
    "\n",
    "tmp1 = train1[train1['uid'] < 4100]\n",
    "tmp2 = train1[train1['uid'] >= 4100]\n",
    "tmp3 = train1[train1['uid'] < 2000]"
   ]
  },
  {
   "cell_type": "code",
   "execution_count": 34,
   "metadata": {},
   "outputs": [],
   "source": [
    "tt1 = tmp1['uid'].value_counts()\n",
    "tt2 = tmp2['uid'].value_counts()\n",
    "tt3 = tmp3['uid'].value_counts()"
   ]
  },
  {
   "cell_type": "code",
   "execution_count": 35,
   "metadata": {},
   "outputs": [
    {
     "data": {
      "text/plain": [
       "count    3946.00000\n",
       "mean      114.16295\n",
       "std       232.97978\n",
       "min         1.00000\n",
       "25%        16.00000\n",
       "50%        53.00000\n",
       "75%       126.00000\n",
       "max      7972.00000\n",
       "Name: uid, dtype: float64"
      ]
     },
     "execution_count": 35,
     "metadata": {},
     "output_type": "execute_result"
    }
   ],
   "source": [
    "tt1.describe()"
   ]
  },
  {
   "cell_type": "code",
   "execution_count": 36,
   "metadata": {},
   "outputs": [
    {
     "data": {
      "text/plain": [
       "count     833.000000\n",
       "mean      167.783914\n",
       "std       345.809674\n",
       "min         1.000000\n",
       "25%         7.000000\n",
       "50%        31.000000\n",
       "75%       135.000000\n",
       "max      4642.000000\n",
       "Name: uid, dtype: float64"
      ]
     },
     "execution_count": 36,
     "metadata": {},
     "output_type": "execute_result"
    }
   ],
   "source": [
    "tt2.describe()"
   ]
  },
  {
   "cell_type": "code",
   "execution_count": 37,
   "metadata": {},
   "outputs": [
    {
     "data": {
      "text/plain": [
       "count    1923.000000\n",
       "mean      109.644306\n",
       "std       165.824366\n",
       "min         1.000000\n",
       "25%        16.000000\n",
       "50%        53.000000\n",
       "75%       128.000000\n",
       "max      2110.000000\n",
       "Name: uid, dtype: float64"
      ]
     },
     "execution_count": 37,
     "metadata": {},
     "output_type": "execute_result"
    }
   ],
   "source": [
    "tt3.describe()"
   ]
  },
  {
   "cell_type": "code",
   "execution_count": 39,
   "metadata": {},
   "outputs": [],
   "source": [
    "tt = train1['uid'].value_counts().sort_index()"
   ]
  },
  {
   "cell_type": "code",
   "execution_count": 40,
   "metadata": {},
   "outputs": [],
   "source": [
    "dict = tt.to_dict()\n",
    "ans = pd.Series(index = range(1, 5000), data = dict)"
   ]
  },
  {
   "cell_type": "code",
   "execution_count": 41,
   "metadata": {},
   "outputs": [],
   "source": [
    "ans = ans.fillna(0)\n",
    "ans = ans.astype('int64')"
   ]
  },
  {
   "cell_type": "code",
   "execution_count": 42,
   "metadata": {
    "scrolled": true
   },
   "outputs": [
    {
     "name": "stdout",
     "output_type": "stream",
     "text": [
      "1        33\n",
      "2         2\n",
      "3         7\n",
      "4       133\n",
      "5       177\n",
      "6         8\n",
      "7        37\n",
      "8       135\n",
      "9        36\n",
      "10       63\n",
      "11      133\n",
      "12      123\n",
      "13        0\n",
      "14       69\n",
      "15        2\n",
      "16      126\n",
      "17       23\n",
      "18       58\n",
      "19      400\n",
      "20      112\n",
      "21        3\n",
      "22        5\n",
      "23        5\n",
      "24      254\n",
      "25      350\n",
      "26      277\n",
      "27      845\n",
      "28      133\n",
      "29        9\n",
      "30       30\n",
      "       ... \n",
      "4970    205\n",
      "4971    197\n",
      "4972    195\n",
      "4973    332\n",
      "4974    125\n",
      "4975    128\n",
      "4976    147\n",
      "4977     59\n",
      "4978     52\n",
      "4979      8\n",
      "4980      3\n",
      "4981      3\n",
      "4982     12\n",
      "4983     25\n",
      "4984      4\n",
      "4985      2\n",
      "4986      0\n",
      "4987      5\n",
      "4988      1\n",
      "4989     62\n",
      "4990    257\n",
      "4991      9\n",
      "4992    153\n",
      "4993      7\n",
      "4994     14\n",
      "4995      5\n",
      "4996     29\n",
      "4997     30\n",
      "4998     11\n",
      "4999     12\n",
      "Length: 4999, dtype: int64\n"
     ]
    }
   ],
   "source": [
    "print(ans)"
   ]
  },
  {
   "cell_type": "code",
   "execution_count": 43,
   "metadata": {},
   "outputs": [],
   "source": [
    "ans.to_csv('../data/train/train_feature_10.csv', index=True)"
   ]
  },
  {
   "cell_type": "code",
   "execution_count": 44,
   "metadata": {},
   "outputs": [],
   "source": [
    "tmp1 = train2[train2['uid'] < 4100]\n",
    "tmp2 = train2[train2['uid'] >= 4100]\n",
    "tmp3 = train2[train2['uid'] < 2000]"
   ]
  },
  {
   "cell_type": "code",
   "execution_count": 45,
   "metadata": {},
   "outputs": [],
   "source": [
    "tt1 = tmp1['uid'].value_counts()\n",
    "tt2 = tmp2['uid'].value_counts()\n",
    "tt3 = tmp3['uid'].value_counts()"
   ]
  },
  {
   "cell_type": "code",
   "execution_count": 46,
   "metadata": {},
   "outputs": [
    {
     "data": {
      "text/plain": [
       "count    3963.000000\n",
       "mean      111.271259\n",
       "std       164.550752\n",
       "min         1.000000\n",
       "25%        19.000000\n",
       "50%        56.000000\n",
       "75%       136.000000\n",
       "max      3051.000000\n",
       "Name: uid, dtype: float64"
      ]
     },
     "execution_count": 46,
     "metadata": {},
     "output_type": "execute_result"
    }
   ],
   "source": [
    "tt1.describe()"
   ]
  },
  {
   "cell_type": "code",
   "execution_count": 47,
   "metadata": {},
   "outputs": [
    {
     "data": {
      "text/plain": [
       "count     807.000000\n",
       "mean      148.152416\n",
       "std       298.383815\n",
       "min         1.000000\n",
       "25%         6.000000\n",
       "50%        25.000000\n",
       "75%       102.000000\n",
       "max      2005.000000\n",
       "Name: uid, dtype: float64"
      ]
     },
     "execution_count": 47,
     "metadata": {},
     "output_type": "execute_result"
    }
   ],
   "source": [
    "tt2.describe()"
   ]
  },
  {
   "cell_type": "code",
   "execution_count": 48,
   "metadata": {},
   "outputs": [
    {
     "data": {
      "text/plain": [
       "count    1926.000000\n",
       "mean      112.058671\n",
       "std       157.776844\n",
       "min         1.000000\n",
       "25%        19.000000\n",
       "50%        58.000000\n",
       "75%       134.750000\n",
       "max      1283.000000\n",
       "Name: uid, dtype: float64"
      ]
     },
     "execution_count": 48,
     "metadata": {},
     "output_type": "execute_result"
    }
   ],
   "source": [
    "tt3.describe()"
   ]
  },
  {
   "cell_type": "code",
   "execution_count": 49,
   "metadata": {},
   "outputs": [],
   "source": [
    "tt = train2['uid'].value_counts().sort_index()"
   ]
  },
  {
   "cell_type": "code",
   "execution_count": 50,
   "metadata": {},
   "outputs": [],
   "source": [
    "dict = tt.to_dict()\n",
    "ans = pd.Series(index = range(1, 5000), data = dict)"
   ]
  },
  {
   "cell_type": "code",
   "execution_count": 51,
   "metadata": {},
   "outputs": [],
   "source": [
    "ans = ans.fillna(0)\n",
    "ans = ans.astype('int64')"
   ]
  },
  {
   "cell_type": "code",
   "execution_count": 52,
   "metadata": {
    "scrolled": true
   },
   "outputs": [
    {
     "name": "stdout",
     "output_type": "stream",
     "text": [
      "1        46\n",
      "2         0\n",
      "3        14\n",
      "4       121\n",
      "5       224\n",
      "6        36\n",
      "7        64\n",
      "8        99\n",
      "9        60\n",
      "10       67\n",
      "11       94\n",
      "12      179\n",
      "13        2\n",
      "14       82\n",
      "15       79\n",
      "16      165\n",
      "17       20\n",
      "18      120\n",
      "19      247\n",
      "20      203\n",
      "21       16\n",
      "22       17\n",
      "23       27\n",
      "24      399\n",
      "25      373\n",
      "26      244\n",
      "27      773\n",
      "28      190\n",
      "29        4\n",
      "30       32\n",
      "       ... \n",
      "4970    210\n",
      "4971     80\n",
      "4972    273\n",
      "4973    153\n",
      "4974     55\n",
      "4975    160\n",
      "4976    115\n",
      "4977     17\n",
      "4978     45\n",
      "4979      0\n",
      "4980      0\n",
      "4981      0\n",
      "4982     23\n",
      "4983      5\n",
      "4984      0\n",
      "4985      1\n",
      "4986      1\n",
      "4987      0\n",
      "4988      0\n",
      "4989     31\n",
      "4990     67\n",
      "4991     51\n",
      "4992    110\n",
      "4993      4\n",
      "4994     11\n",
      "4995     13\n",
      "4996      1\n",
      "4997     24\n",
      "4998      7\n",
      "4999      7\n",
      "Length: 4999, dtype: int64\n"
     ]
    }
   ],
   "source": [
    "print(ans)"
   ]
  },
  {
   "cell_type": "code",
   "execution_count": 53,
   "metadata": {},
   "outputs": [],
   "source": [
    "ans.to_csv('../data/train/train_feature_11.csv', index=True)"
   ]
  },
  {
   "cell_type": "code",
   "execution_count": 62,
   "metadata": {},
   "outputs": [],
   "source": [
    "tmp1 = train1[train1['uid'] < 4100]\n",
    "tmp2 = train1[train1['uid'] >= 4100]\n",
    "tmp3 = train1[train1['uid'] < 2000]"
   ]
  },
  {
   "cell_type": "code",
   "execution_count": 65,
   "metadata": {},
   "outputs": [
    {
     "data": {
      "text/plain": [
       "<matplotlib.axes._subplots.AxesSubplot at 0x19edfa90>"
      ]
     },
     "execution_count": 65,
     "metadata": {},
     "output_type": "execute_result"
    },
    {
     "data": {
      "image/png": "[encoded data removed]",
      "text/plain": [
       "<Figure size 432x288 with 1 Axes>"
      ]
     },
     "metadata": {},
     "output_type": "display_data"
    }
   ],
   "source": [
    "tmp1['dura'].value_counts().sort_index().plot(kind='bar')"
   ]
  },
  {
   "cell_type": "code",
   "execution_count": 66,
   "metadata": {},
   "outputs": [
    {
     "data": {
      "text/plain": [
       "<matplotlib.axes._subplots.AxesSubplot at 0x1a9e2da0>"
      ]
     },
     "execution_count": 66,
     "metadata": {},
     "output_type": "execute_result"
    },
    {
     "data": {
      "image/png": "[encoded data removed]",
      "text/plain": [
       "<Figure size 432x288 with 1 Axes>"
      ]
     },
     "metadata": {},
     "output_type": "display_data"
    }
   ],
   "source": [
    "tmp2['dura'].value_counts().sort_index().plot(kind='bar')"
   ]
  },
  {
   "cell_type": "code",
   "execution_count": 67,
   "metadata": {},
   "outputs": [],
   "source": [
    "tmp1 = train2[train2['uid'] < 4100]\n",
    "tmp2 = train2[train2['uid'] >= 4100]\n",
    "tmp3 = train2[train2['uid'] < 2000]"
   ]
  },
  {
   "cell_type": "code",
   "execution_count": 68,
   "metadata": {},
   "outputs": [
    {
     "data": {
      "text/plain": [
       "<matplotlib.axes._subplots.AxesSubplot at 0x48d5f860>"
      ]
     },
     "execution_count": 68,
     "metadata": {},
     "output_type": "execute_result"
    },
    {
     "data": {
      "image/png": "[encoded data removed]",
      "text/plain": [
       "<Figure size 432x288 with 1 Axes>"
      ]
     },
     "metadata": {},
     "output_type": "display_data"
    }
   ],
   "source": [
    "tmp1['dura'].value_counts().sort_index().plot(kind='bar')"
   ]
  },
  {
   "cell_type": "code",
   "execution_count": 69,
   "metadata": {},
   "outputs": [
    {
     "data": {
      "text/plain": [
       "<matplotlib.axes._subplots.AxesSubplot at 0x1e876cf8>"
      ]
     },
     "execution_count": 69,
     "metadata": {},
     "output_type": "execute_result"
    },
    {
     "data": {
      "image/png": "[encoded data removed]",
      "text/plain": [
       "<Figure size 432x288 with 1 Axes>"
      ]
     },
     "metadata": {},
     "output_type": "display_data"
    }
   ],
   "source": [
    "tmp2['dura'].value_counts().sort_index().plot(kind='bar')"
   ]
  },
  {
   "cell_type": "code",
   "execution_count": 70,
   "metadata": {},
   "outputs": [
    {
     "data": {
      "text/plain": [
       "count    440968.000000\n",
       "mean          2.503420\n",
       "std           3.305711\n",
       "min           1.000000\n",
       "25%           1.000000\n",
       "50%           2.000000\n",
       "75%           2.000000\n",
       "max         126.000000\n",
       "Name: dura, dtype: float64"
      ]
     },
     "execution_count": 70,
     "metadata": {},
     "output_type": "execute_result"
    }
   ],
   "source": [
    "tmp1['dura'].describe()"
   ]
  },
  {
   "cell_type": "code",
   "execution_count": 71,
   "metadata": {},
   "outputs": [
    {
     "data": {
      "text/plain": [
       "count    119559.000000\n",
       "mean          2.029885\n",
       "std           2.397622\n",
       "min           1.000000\n",
       "25%           1.000000\n",
       "50%           2.000000\n",
       "75%           2.000000\n",
       "max         116.000000\n",
       "Name: dura, dtype: float64"
      ]
     },
     "execution_count": 71,
     "metadata": {},
     "output_type": "execute_result"
    }
   ],
   "source": [
    "tmp2['dura'].describe()"
   ]
  },
  {
   "cell_type": "code",
   "execution_count": 72,
   "metadata": {},
   "outputs": [
    {
     "data": {
      "text/plain": [
       "count    215825.000000\n",
       "mean          2.481066\n",
       "std           3.297103\n",
       "min           1.000000\n",
       "25%           1.000000\n",
       "50%           2.000000\n",
       "75%           2.000000\n",
       "max         116.000000\n",
       "Name: dura, dtype: float64"
      ]
     },
     "execution_count": 72,
     "metadata": {},
     "output_type": "execute_result"
    }
   ],
   "source": [
    "tmp3['dura'].describe()"
   ]
  },
  {
   "cell_type": "code",
   "execution_count": 73,
   "metadata": {},
   "outputs": [],
   "source": [
    "tmp1 = train1[train1['uid'] < 4100]\n",
    "tmp2 = train1[train1['uid'] >= 4100]\n",
    "tmp3 = train1[train1['uid'] < 2000]"
   ]
  },
  {
   "cell_type": "code",
   "execution_count": 76,
   "metadata": {},
   "outputs": [
    {
     "name": "stdout",
     "output_type": "stream",
     "text": [
      "1    358754\n",
      "3     57417\n",
      "2     34176\n",
      "5       110\n",
      "4        30\n",
      "Name: call_type, dtype: int64\n",
      "1    124206\n",
      "3     11389\n",
      "2      4156\n",
      "5        13\n",
      "Name: call_type, dtype: int64\n"
     ]
    }
   ],
   "source": [
    "tt1 = tmp1['call_type'].value_counts()\n",
    "tt2 = tmp2['call_type'].value_counts()\n",
    "print(tt1)\n",
    "print(tt2)"
   ]
  },
  {
   "cell_type": "code",
   "execution_count": 87,
   "metadata": {},
   "outputs": [],
   "source": [
    "tt1 = tmp1.groupby('uid').dura.sum()\n",
    "tt2 = tmp2.groupby('uid').dura.sum()\n",
    "tt3 = tmp3.groupby('uid').dura.sum()"
   ]
  },
  {
   "cell_type": "code",
   "execution_count": 83,
   "metadata": {},
   "outputs": [
    {
     "data": {
      "image/png": "[encoded data removed]",
      "text/plain": [
       "<Figure size 432x288 with 1 Axes>"
      ]
     },
     "metadata": {},
     "output_type": "display_data"
    },
    {
     "data": {
      "image/png": "[encoded data removed]",
      "text/plain": [
       "<Figure size 432x288 with 1 Axes>"
      ]
     },
     "metadata": {},
     "output_type": "display_data"
    }
   ],
   "source": [
    "tt1.plot(kind='bar')\n",
    "plt.show()\n",
    "tt2.plot(kind='bar')\n",
    "plt.show()"
   ]
  },
  {
   "cell_type": "code",
   "execution_count": 84,
   "metadata": {},
   "outputs": [
    {
     "data": {
      "text/plain": [
       "count    3946.000000\n",
       "mean      287.979219\n",
       "std       472.291671\n",
       "min         1.000000\n",
       "25%        40.250000\n",
       "50%       140.000000\n",
       "75%       336.000000\n",
       "max      9609.000000\n",
       "Name: dura, dtype: float64"
      ]
     },
     "execution_count": 84,
     "metadata": {},
     "output_type": "execute_result"
    }
   ],
   "source": [
    "tt1.describe()"
   ]
  },
  {
   "cell_type": "code",
   "execution_count": 85,
   "metadata": {},
   "outputs": [
    {
     "data": {
      "text/plain": [
       "count     833.000000\n",
       "mean      356.933974\n",
       "std       634.702555\n",
       "min         1.000000\n",
       "25%        16.000000\n",
       "50%        83.000000\n",
       "75%       362.000000\n",
       "max      6133.000000\n",
       "Name: dura, dtype: float64"
      ]
     },
     "execution_count": 85,
     "metadata": {},
     "output_type": "execute_result"
    }
   ],
   "source": [
    "tt2.describe()"
   ]
  },
  {
   "cell_type": "code",
   "execution_count": 88,
   "metadata": {},
   "outputs": [
    {
     "data": {
      "text/plain": [
       "count    1923.000000\n",
       "mean      275.036921\n",
       "std       379.549462\n",
       "min         1.000000\n",
       "25%        43.000000\n",
       "50%       142.000000\n",
       "75%       334.000000\n",
       "max      3255.000000\n",
       "Name: dura, dtype: float64"
      ]
     },
     "execution_count": 88,
     "metadata": {},
     "output_type": "execute_result"
    }
   ],
   "source": [
    "tt3.describe()"
   ]
  },
  {
   "cell_type": "code",
   "execution_count": 89,
   "metadata": {},
   "outputs": [],
   "source": [
    "tt = train1.groupby('uid').dura.sum()\n",
    "dict = tt.to_dict()\n",
    "ans = pd.Series(index = range(1, 5000), data = dict)"
   ]
  },
  {
   "cell_type": "code",
   "execution_count": 90,
   "metadata": {
    "scrolled": true
   },
   "outputs": [
    {
     "name": "stdout",
     "output_type": "stream",
     "text": [
      "1        103.0\n",
      "2          3.0\n",
      "3         30.0\n",
      "4        625.0\n",
      "5        288.0\n",
      "6         13.0\n",
      "7         91.0\n",
      "8        332.0\n",
      "9        179.0\n",
      "10       383.0\n",
      "11       305.0\n",
      "12       489.0\n",
      "13         NaN\n",
      "14       249.0\n",
      "15         2.0\n",
      "16       394.0\n",
      "17       245.0\n",
      "18       146.0\n",
      "19       959.0\n",
      "20       232.0\n",
      "21         6.0\n",
      "22        12.0\n",
      "23        18.0\n",
      "24       695.0\n",
      "25       900.0\n",
      "26      1540.0\n",
      "27      2366.0\n",
      "28       390.0\n",
      "29        15.0\n",
      "30        78.0\n",
      "         ...  \n",
      "4970     530.0\n",
      "4971     356.0\n",
      "4972     350.0\n",
      "4973     561.0\n",
      "4974     220.0\n",
      "4975     222.0\n",
      "4976     257.0\n",
      "4977      94.0\n",
      "4978      93.0\n",
      "4979      17.0\n",
      "4980       6.0\n",
      "4981       8.0\n",
      "4982      25.0\n",
      "4983      37.0\n",
      "4984       6.0\n",
      "4985      28.0\n",
      "4986       NaN\n",
      "4987      16.0\n",
      "4988       4.0\n",
      "4989     196.0\n",
      "4990     747.0\n",
      "4991      78.0\n",
      "4992     659.0\n",
      "4993      16.0\n",
      "4994      38.0\n",
      "4995      25.0\n",
      "4996      69.0\n",
      "4997      83.0\n",
      "4998      57.0\n",
      "4999      24.0\n",
      "Length: 4999, dtype: float64\n"
     ]
    }
   ],
   "source": [
    "print(ans)"
   ]
  },
  {
   "cell_type": "code",
   "execution_count": 93,
   "metadata": {},
   "outputs": [],
   "source": [
    "ans = ans.fillna(0)\n",
    "ans = ans.astype('int64')"
   ]
  },
  {
   "cell_type": "code",
   "execution_count": 94,
   "metadata": {},
   "outputs": [],
   "source": [
    "ans.to_csv('../data/train/train_feature_12.csv', index=True)"
   ]
  },
  {
   "cell_type": "code",
   "execution_count": 95,
   "metadata": {},
   "outputs": [],
   "source": [
    "tmp1 = train2[train2['uid'] < 4100]\n",
    "tmp2 = train2[train2['uid'] >= 4100]\n",
    "tmp3 = train2[train2['uid'] < 2000]"
   ]
  },
  {
   "cell_type": "code",
   "execution_count": 96,
   "metadata": {},
   "outputs": [],
   "source": [
    "tt1 = tmp1.groupby('uid').dura.sum()\n",
    "tt2 = tmp2.groupby('uid').dura.sum()\n",
    "tt3 = tmp3.groupby('uid').dura.sum()"
   ]
  },
  {
   "cell_type": "code",
   "execution_count": 99,
   "metadata": {},
   "outputs": [
    {
     "data": {
      "text/plain": [
       "count    3963.000000\n",
       "mean      278.558668\n",
       "std       396.938348\n",
       "min         1.000000\n",
       "25%        44.000000\n",
       "50%       141.000000\n",
       "75%       353.000000\n",
       "max      6264.000000\n",
       "Name: dura, dtype: float64"
      ]
     },
     "execution_count": 99,
     "metadata": {},
     "output_type": "execute_result"
    }
   ],
   "source": [
    "tt1.describe()"
   ]
  },
  {
   "cell_type": "code",
   "execution_count": 100,
   "metadata": {},
   "outputs": [
    {
     "data": {
      "text/plain": [
       "count     807.000000\n",
       "mean      300.732342\n",
       "std       571.072043\n",
       "min         1.000000\n",
       "25%        12.000000\n",
       "50%        57.000000\n",
       "75%       243.000000\n",
       "max      3772.000000\n",
       "Name: dura, dtype: float64"
      ]
     },
     "execution_count": 100,
     "metadata": {},
     "output_type": "execute_result"
    }
   ],
   "source": [
    "tt2.describe()"
   ]
  },
  {
   "cell_type": "code",
   "execution_count": 101,
   "metadata": {},
   "outputs": [
    {
     "data": {
      "text/plain": [
       "count    1926.000000\n",
       "mean      278.024922\n",
       "std       377.447722\n",
       "min         1.000000\n",
       "25%        46.000000\n",
       "50%       144.500000\n",
       "75%       358.000000\n",
       "max      3969.000000\n",
       "Name: dura, dtype: float64"
      ]
     },
     "execution_count": 101,
     "metadata": {},
     "output_type": "execute_result"
    }
   ],
   "source": [
    "tt3.describe()"
   ]
  },
  {
   "cell_type": "code",
   "execution_count": 102,
   "metadata": {},
   "outputs": [],
   "source": [
    "tt = train2.groupby('uid').dura.sum()\n",
    "dict = tt.to_dict()\n",
    "ans = pd.Series(index = range(1, 5000), data = dict)"
   ]
  },
  {
   "cell_type": "code",
   "execution_count": 103,
   "metadata": {},
   "outputs": [],
   "source": [
    "ans = ans.fillna(0)\n",
    "ans = ans.astype('int64')"
   ]
  },
  {
   "cell_type": "code",
   "execution_count": 104,
   "metadata": {},
   "outputs": [],
   "source": [
    "ans.to_csv('../data/train/train_feature_13.csv', index=True)"
   ]
  },
  {
   "cell_type": "markdown",
   "metadata": {},
   "source": [
    "统计：主叫次数 / 被叫次数"
   ]
  },
  {
   "cell_type": "code",
   "execution_count": 71,
   "metadata": {},
   "outputs": [],
   "source": [
    "train1 = train_voice_df[train_voice_df['in_out'] == 0]\n",
    "train2 = train_voice_df[train_voice_df['in_out'] == 1]\n",
    "\n",
    "tmp1 = train1[train1['uid'] < 4100]\n",
    "tmp2 = train1[train1['uid'] >= 4100]\n",
    "tmp3 = train1[train1['uid'] < 2000]"
   ]
  },
  {
   "cell_type": "code",
   "execution_count": 72,
   "metadata": {},
   "outputs": [],
   "source": [
    "t1 = train1['uid'].value_counts()\n",
    "t2 = train2['uid'].value_counts()\n",
    "dict = t1.to_dict()\n",
    "tt1 = pd.Series(index = range(1, 5000), data = dict)\n",
    "tt1 = tt1.fillna(0)\n",
    "dict = t2.to_dict()\n",
    "tt2 = pd.Series(index = range(1, 5000), data = dict)\n",
    "tt2 = tt2.fillna(0)\n",
    "tt3 = tt1 / (tt1 + tt2)"
   ]
  },
  {
   "cell_type": "code",
   "execution_count": 73,
   "metadata": {
    "scrolled": true
   },
   "outputs": [
    {
     "name": "stdout",
     "output_type": "stream",
     "text": [
      "1       0.417722\n",
      "2       1.000000\n",
      "3       0.333333\n",
      "4       0.523622\n",
      "5       0.441397\n",
      "6       0.181818\n",
      "7       0.366337\n",
      "8       0.576923\n",
      "9       0.375000\n",
      "10      0.484615\n",
      "11      0.585903\n",
      "12      0.407285\n",
      "13      0.000000\n",
      "14      0.456954\n",
      "15      0.024691\n",
      "16      0.432990\n",
      "17      0.534884\n",
      "18      0.325843\n",
      "19      0.618238\n",
      "20      0.355556\n",
      "21      0.157895\n",
      "22      0.227273\n",
      "23      0.156250\n",
      "24      0.388974\n",
      "25      0.484094\n",
      "26      0.531670\n",
      "27      0.522250\n",
      "28      0.411765\n",
      "29      0.692308\n",
      "30      0.483871\n",
      "          ...   \n",
      "4970    0.493976\n",
      "4971    0.711191\n",
      "4972    0.416667\n",
      "4973    0.684536\n",
      "4974    0.694444\n",
      "4975    0.444444\n",
      "4976    0.561069\n",
      "4977    0.776316\n",
      "4978    0.536082\n",
      "4979    1.000000\n",
      "4980    1.000000\n",
      "4981    1.000000\n",
      "4982    0.342857\n",
      "4983    0.833333\n",
      "4984    1.000000\n",
      "4985    0.666667\n",
      "4986    0.000000\n",
      "4987    1.000000\n",
      "4988    1.000000\n",
      "4989    0.666667\n",
      "4990    0.793210\n",
      "4991    0.150000\n",
      "4992    0.581749\n",
      "4993    0.636364\n",
      "4994    0.560000\n",
      "4995    0.277778\n",
      "4996    0.966667\n",
      "4997    0.555556\n",
      "4998    0.611111\n",
      "4999    0.631579\n",
      "Length: 4999, dtype: float64\n"
     ]
    }
   ],
   "source": [
    "print(tt3)"
   ]
  },
  {
   "cell_type": "code",
   "execution_count": 74,
   "metadata": {},
   "outputs": [],
   "source": [
    "aa1 = tt3[tt3.index < 4100]\n",
    "aa2 = tt3[tt3.index >= 4100]\n",
    "aa3 = tt3[tt3.index < 2000]"
   ]
  },
  {
   "cell_type": "code",
   "execution_count": 75,
   "metadata": {},
   "outputs": [
    {
     "data": {
      "text/plain": [
       "count    4090.000000\n",
       "mean        0.481722\n",
       "std         0.213816\n",
       "min         0.000000\n",
       "25%         0.361764\n",
       "50%         0.482102\n",
       "75%         0.600000\n",
       "max         1.000000\n",
       "dtype: float64"
      ]
     },
     "execution_count": 75,
     "metadata": {},
     "output_type": "execute_result"
    }
   ],
   "source": [
    "aa1.describe()"
   ]
  },
  {
   "cell_type": "code",
   "execution_count": 76,
   "metadata": {},
   "outputs": [
    {
     "data": {
      "text/plain": [
       "count    897.000000\n",
       "mean       0.559358\n",
       "std        0.270759\n",
       "min        0.000000\n",
       "25%        0.405339\n",
       "50%        0.559322\n",
       "75%        0.743363\n",
       "max        1.000000\n",
       "dtype: float64"
      ]
     },
     "execution_count": 76,
     "metadata": {},
     "output_type": "execute_result"
    }
   ],
   "source": [
    "aa2.describe()"
   ]
  },
  {
   "cell_type": "code",
   "execution_count": 77,
   "metadata": {},
   "outputs": [
    {
     "data": {
      "text/plain": [
       "count    1993.000000\n",
       "mean        0.481583\n",
       "std         0.213506\n",
       "min         0.000000\n",
       "25%         0.365385\n",
       "50%         0.479021\n",
       "75%         0.597015\n",
       "max         1.000000\n",
       "dtype: float64"
      ]
     },
     "execution_count": 77,
     "metadata": {},
     "output_type": "execute_result"
    }
   ],
   "source": [
    "aa3.describe()"
   ]
  },
  {
   "cell_type": "code",
   "execution_count": 78,
   "metadata": {},
   "outputs": [
    {
     "name": "stdout",
     "output_type": "stream",
     "text": [
      "354   NaN\n",
      "dtype: float64\n"
     ]
    }
   ],
   "source": [
    "print(tt3[tt3.index == 354])"
   ]
  },
  {
   "cell_type": "code",
   "execution_count": 80,
   "metadata": {},
   "outputs": [],
   "source": [
    "tt3 = tt3.fillna(0.5)"
   ]
  },
  {
   "cell_type": "code",
   "execution_count": 81,
   "metadata": {},
   "outputs": [],
   "source": [
    "tt3.to_csv('../data/train/train_feature_14.csv', index=True)"
   ]
  },
  {
   "cell_type": "code",
   "execution_count": 38,
   "metadata": {},
   "outputs": [],
   "source": [
    "train1 = train_voice_df[train_voice_df['in_out'] == 0]\n",
    "train2 = train_voice_df[train_voice_df['in_out'] == 1]\n",
    "\n",
    "tmp1 = train1[train1['uid'] < 4100]\n",
    "tmp2 = train1[train1['uid'] >= 4100]\n",
    "tmp3 = train1[train1['uid'] < 2000]"
   ]
  },
  {
   "cell_type": "code",
   "execution_count": 49,
   "metadata": {},
   "outputs": [
    {
     "name": "stderr",
     "output_type": "stream",
     "text": [
      "d:\\program files (x86)\\python\\lib\\site-packages\\ipykernel_launcher.py:2: FutureWarning: using a dict on a Series for aggregation\n",
      "is deprecated and will be removed in a future version\n",
      "  \n"
     ]
    }
   ],
   "source": [
    "group = train1.groupby('uid')['opp_num']\n",
    "agg = group.aggregate({'opp_num': lambda x: x.nunique()})"
   ]
  },
  {
   "cell_type": "code",
   "execution_count": 50,
   "metadata": {
    "scrolled": true
   },
   "outputs": [
    {
     "name": "stdout",
     "output_type": "stream",
     "text": [
      "      opp_num\n",
      "uid          \n",
      "1          12\n",
      "2           2\n",
      "3           1\n",
      "4          39\n",
      "5          37\n",
      "6           7\n",
      "7          25\n",
      "8          36\n",
      "9          17\n",
      "10         29\n",
      "11         33\n",
      "12         46\n",
      "14         34\n",
      "15          1\n",
      "16         39\n",
      "17          7\n",
      "18         14\n",
      "19         93\n",
      "20         23\n",
      "21          2\n",
      "22          2\n",
      "23          3\n",
      "24         41\n",
      "25        122\n",
      "26         41\n",
      "27        154\n",
      "28         24\n",
      "29          8\n",
      "30         19\n",
      "31         17\n",
      "...       ...\n",
      "4969       85\n",
      "4970       68\n",
      "4971       98\n",
      "4972       81\n",
      "4973      114\n",
      "4974       62\n",
      "4975       61\n",
      "4976       56\n",
      "4977       18\n",
      "4978       10\n",
      "4979        2\n",
      "4980        2\n",
      "4981        1\n",
      "4982        6\n",
      "4983        9\n",
      "4984        2\n",
      "4985        2\n",
      "4987        1\n",
      "4988        1\n",
      "4989       21\n",
      "4990       81\n",
      "4991        3\n",
      "4992       65\n",
      "4993        5\n",
      "4994        4\n",
      "4995        1\n",
      "4996        9\n",
      "4997       10\n",
      "4998        8\n",
      "4999        5\n",
      "\n",
      "[4779 rows x 1 columns]\n"
     ]
    }
   ],
   "source": [
    "print(agg)"
   ]
  },
  {
   "cell_type": "code",
   "execution_count": 51,
   "metadata": {},
   "outputs": [],
   "source": [
    "agg.rename(columns=lambda x:x.replace('opp_num','opp_cnt'), inplace=True)"
   ]
  },
  {
   "cell_type": "code",
   "execution_count": 52,
   "metadata": {
    "scrolled": true
   },
   "outputs": [
    {
     "name": "stdout",
     "output_type": "stream",
     "text": [
      "      opp_cnt\n",
      "uid          \n",
      "1          12\n",
      "2           2\n",
      "3           1\n",
      "4          39\n",
      "5          37\n",
      "6           7\n",
      "7          25\n",
      "8          36\n",
      "9          17\n",
      "10         29\n",
      "11         33\n",
      "12         46\n",
      "14         34\n",
      "15          1\n",
      "16         39\n",
      "17          7\n",
      "18         14\n",
      "19         93\n",
      "20         23\n",
      "21          2\n",
      "22          2\n",
      "23          3\n",
      "24         41\n",
      "25        122\n",
      "26         41\n",
      "27        154\n",
      "28         24\n",
      "29          8\n",
      "30         19\n",
      "31         17\n",
      "...       ...\n",
      "4969       85\n",
      "4970       68\n",
      "4971       98\n",
      "4972       81\n",
      "4973      114\n",
      "4974       62\n",
      "4975       61\n",
      "4976       56\n",
      "4977       18\n",
      "4978       10\n",
      "4979        2\n",
      "4980        2\n",
      "4981        1\n",
      "4982        6\n",
      "4983        9\n",
      "4984        2\n",
      "4985        2\n",
      "4987        1\n",
      "4988        1\n",
      "4989       21\n",
      "4990       81\n",
      "4991        3\n",
      "4992       65\n",
      "4993        5\n",
      "4994        4\n",
      "4995        1\n",
      "4996        9\n",
      "4997       10\n",
      "4998        8\n",
      "4999        5\n",
      "\n",
      "[4779 rows x 1 columns]\n"
     ]
    }
   ],
   "source": [
    "print(agg)"
   ]
  },
  {
   "cell_type": "code",
   "execution_count": 56,
   "metadata": {},
   "outputs": [],
   "source": [
    "tt1 = agg[agg.index < 4100]\n",
    "tt2 = agg[agg.index >= 4100]\n",
    "tt3 = agg[agg.index < 2000]"
   ]
  },
  {
   "cell_type": "code",
   "execution_count": 57,
   "metadata": {},
   "outputs": [
    {
     "data": {
      "text/html": [
       "<div>\n",
       "<style scoped>\n",
       "    .dataframe tbody tr th:only-of-type {\n",
       "        vertical-align: middle;\n",
       "    }\n",
       "\n",
       "    .dataframe tbody tr th {\n",
       "        vertical-align: top;\n",
       "    }\n",
       "\n",
       "    .dataframe thead th {\n",
       "        text-align: right;\n",
       "    }\n",
       "</style>\n",
       "<table border=\"1\" class=\"dataframe\">\n",
       "  <thead>\n",
       "    <tr style=\"text-align: right;\">\n",
       "      <th></th>\n",
       "      <th>opp_cnt</th>\n",
       "    </tr>\n",
       "  </thead>\n",
       "  <tbody>\n",
       "    <tr>\n",
       "      <th>count</th>\n",
       "      <td>3946.000000</td>\n",
       "    </tr>\n",
       "    <tr>\n",
       "      <th>mean</th>\n",
       "      <td>33.360872</td>\n",
       "    </tr>\n",
       "    <tr>\n",
       "      <th>std</th>\n",
       "      <td>157.866392</td>\n",
       "    </tr>\n",
       "    <tr>\n",
       "      <th>min</th>\n",
       "      <td>1.000000</td>\n",
       "    </tr>\n",
       "    <tr>\n",
       "      <th>25%</th>\n",
       "      <td>6.000000</td>\n",
       "    </tr>\n",
       "    <tr>\n",
       "      <th>50%</th>\n",
       "      <td>15.000000</td>\n",
       "    </tr>\n",
       "    <tr>\n",
       "      <th>75%</th>\n",
       "      <td>31.000000</td>\n",
       "    </tr>\n",
       "    <tr>\n",
       "      <th>max</th>\n",
       "      <td>7920.000000</td>\n",
       "    </tr>\n",
       "  </tbody>\n",
       "</table>\n",
       "</div>"
      ],
      "text/plain": [
       "           opp_cnt\n",
       "count  3946.000000\n",
       "mean     33.360872\n",
       "std     157.866392\n",
       "min       1.000000\n",
       "25%       6.000000\n",
       "50%      15.000000\n",
       "75%      31.000000\n",
       "max    7920.000000"
      ]
     },
     "execution_count": 57,
     "metadata": {},
     "output_type": "execute_result"
    }
   ],
   "source": [
    "tt1.describe()"
   ]
  },
  {
   "cell_type": "code",
   "execution_count": 58,
   "metadata": {},
   "outputs": [
    {
     "data": {
      "text/html": [
       "<div>\n",
       "<style scoped>\n",
       "    .dataframe tbody tr th:only-of-type {\n",
       "        vertical-align: middle;\n",
       "    }\n",
       "\n",
       "    .dataframe tbody tr th {\n",
       "        vertical-align: top;\n",
       "    }\n",
       "\n",
       "    .dataframe thead th {\n",
       "        text-align: right;\n",
       "    }\n",
       "</style>\n",
       "<table border=\"1\" class=\"dataframe\">\n",
       "  <thead>\n",
       "    <tr style=\"text-align: right;\">\n",
       "      <th></th>\n",
       "      <th>opp_cnt</th>\n",
       "    </tr>\n",
       "  </thead>\n",
       "  <tbody>\n",
       "    <tr>\n",
       "      <th>count</th>\n",
       "      <td>833.000000</td>\n",
       "    </tr>\n",
       "    <tr>\n",
       "      <th>mean</th>\n",
       "      <td>46.110444</td>\n",
       "    </tr>\n",
       "    <tr>\n",
       "      <th>std</th>\n",
       "      <td>179.116454</td>\n",
       "    </tr>\n",
       "    <tr>\n",
       "      <th>min</th>\n",
       "      <td>1.000000</td>\n",
       "    </tr>\n",
       "    <tr>\n",
       "      <th>25%</th>\n",
       "      <td>3.000000</td>\n",
       "    </tr>\n",
       "    <tr>\n",
       "      <th>50%</th>\n",
       "      <td>11.000000</td>\n",
       "    </tr>\n",
       "    <tr>\n",
       "      <th>75%</th>\n",
       "      <td>45.000000</td>\n",
       "    </tr>\n",
       "    <tr>\n",
       "      <th>max</th>\n",
       "      <td>4615.000000</td>\n",
       "    </tr>\n",
       "  </tbody>\n",
       "</table>\n",
       "</div>"
      ],
      "text/plain": [
       "           opp_cnt\n",
       "count   833.000000\n",
       "mean     46.110444\n",
       "std     179.116454\n",
       "min       1.000000\n",
       "25%       3.000000\n",
       "50%      11.000000\n",
       "75%      45.000000\n",
       "max    4615.000000"
      ]
     },
     "execution_count": 58,
     "metadata": {},
     "output_type": "execute_result"
    }
   ],
   "source": [
    "tt2.describe()"
   ]
  },
  {
   "cell_type": "code",
   "execution_count": 59,
   "metadata": {},
   "outputs": [
    {
     "data": {
      "text/html": [
       "<div>\n",
       "<style scoped>\n",
       "    .dataframe tbody tr th:only-of-type {\n",
       "        vertical-align: middle;\n",
       "    }\n",
       "\n",
       "    .dataframe tbody tr th {\n",
       "        vertical-align: top;\n",
       "    }\n",
       "\n",
       "    .dataframe thead th {\n",
       "        text-align: right;\n",
       "    }\n",
       "</style>\n",
       "<table border=\"1\" class=\"dataframe\">\n",
       "  <thead>\n",
       "    <tr style=\"text-align: right;\">\n",
       "      <th></th>\n",
       "      <th>opp_cnt</th>\n",
       "    </tr>\n",
       "  </thead>\n",
       "  <tbody>\n",
       "    <tr>\n",
       "      <th>count</th>\n",
       "      <td>1923.000000</td>\n",
       "    </tr>\n",
       "    <tr>\n",
       "      <th>mean</th>\n",
       "      <td>29.978679</td>\n",
       "    </tr>\n",
       "    <tr>\n",
       "      <th>std</th>\n",
       "      <td>67.628361</td>\n",
       "    </tr>\n",
       "    <tr>\n",
       "      <th>min</th>\n",
       "      <td>1.000000</td>\n",
       "    </tr>\n",
       "    <tr>\n",
       "      <th>25%</th>\n",
       "      <td>6.500000</td>\n",
       "    </tr>\n",
       "    <tr>\n",
       "      <th>50%</th>\n",
       "      <td>15.000000</td>\n",
       "    </tr>\n",
       "    <tr>\n",
       "      <th>75%</th>\n",
       "      <td>32.000000</td>\n",
       "    </tr>\n",
       "    <tr>\n",
       "      <th>max</th>\n",
       "      <td>1983.000000</td>\n",
       "    </tr>\n",
       "  </tbody>\n",
       "</table>\n",
       "</div>"
      ],
      "text/plain": [
       "           opp_cnt\n",
       "count  1923.000000\n",
       "mean     29.978679\n",
       "std      67.628361\n",
       "min       1.000000\n",
       "25%       6.500000\n",
       "50%      15.000000\n",
       "75%      32.000000\n",
       "max    1983.000000"
      ]
     },
     "execution_count": 59,
     "metadata": {},
     "output_type": "execute_result"
    }
   ],
   "source": [
    "tt3.describe()"
   ]
  },
  {
   "cell_type": "code",
   "execution_count": 66,
   "metadata": {
    "scrolled": true
   },
   "outputs": [
    {
     "name": "stdout",
     "output_type": "stream",
     "text": [
      "1        12.0\n",
      "2         2.0\n",
      "3         1.0\n",
      "4        39.0\n",
      "5        37.0\n",
      "6         7.0\n",
      "7        25.0\n",
      "8        36.0\n",
      "9        17.0\n",
      "10       29.0\n",
      "11       33.0\n",
      "12       46.0\n",
      "13        NaN\n",
      "14       34.0\n",
      "15        1.0\n",
      "16       39.0\n",
      "17        7.0\n",
      "18       14.0\n",
      "19       93.0\n",
      "20       23.0\n",
      "21        2.0\n",
      "22        2.0\n",
      "23        3.0\n",
      "24       41.0\n",
      "25      122.0\n",
      "26       41.0\n",
      "27      154.0\n",
      "28       24.0\n",
      "29        8.0\n",
      "30       19.0\n",
      "        ...  \n",
      "4970     68.0\n",
      "4971     98.0\n",
      "4972     81.0\n",
      "4973    114.0\n",
      "4974     62.0\n",
      "4975     61.0\n",
      "4976     56.0\n",
      "4977     18.0\n",
      "4978     10.0\n",
      "4979      2.0\n",
      "4980      2.0\n",
      "4981      1.0\n",
      "4982      6.0\n",
      "4983      9.0\n",
      "4984      2.0\n",
      "4985      2.0\n",
      "4986      NaN\n",
      "4987      1.0\n",
      "4988      1.0\n",
      "4989     21.0\n",
      "4990     81.0\n",
      "4991      3.0\n",
      "4992     65.0\n",
      "4993      5.0\n",
      "4994      4.0\n",
      "4995      1.0\n",
      "4996      9.0\n",
      "4997     10.0\n",
      "4998      8.0\n",
      "4999      5.0\n",
      "Length: 4999, dtype: float64\n"
     ]
    }
   ],
   "source": [
    "dict = pd.Series(agg['opp_cnt']).to_dict()\n",
    "tmp = pd.Series(index = range(1, 5000), data = dict)\n",
    "print(tmp)"
   ]
  },
  {
   "cell_type": "code",
   "execution_count": 67,
   "metadata": {},
   "outputs": [],
   "source": [
    "tmp = tmp.fillna(0)\n",
    "tmp = tmp.astype('int64')"
   ]
  },
  {
   "cell_type": "code",
   "execution_count": 68,
   "metadata": {
    "scrolled": true
   },
   "outputs": [
    {
     "name": "stdout",
     "output_type": "stream",
     "text": [
      "1        12\n",
      "2         2\n",
      "3         1\n",
      "4        39\n",
      "5        37\n",
      "6         7\n",
      "7        25\n",
      "8        36\n",
      "9        17\n",
      "10       29\n",
      "11       33\n",
      "12       46\n",
      "13        0\n",
      "14       34\n",
      "15        1\n",
      "16       39\n",
      "17        7\n",
      "18       14\n",
      "19       93\n",
      "20       23\n",
      "21        2\n",
      "22        2\n",
      "23        3\n",
      "24       41\n",
      "25      122\n",
      "26       41\n",
      "27      154\n",
      "28       24\n",
      "29        8\n",
      "30       19\n",
      "       ... \n",
      "4970     68\n",
      "4971     98\n",
      "4972     81\n",
      "4973    114\n",
      "4974     62\n",
      "4975     61\n",
      "4976     56\n",
      "4977     18\n",
      "4978     10\n",
      "4979      2\n",
      "4980      2\n",
      "4981      1\n",
      "4982      6\n",
      "4983      9\n",
      "4984      2\n",
      "4985      2\n",
      "4986      0\n",
      "4987      1\n",
      "4988      1\n",
      "4989     21\n",
      "4990     81\n",
      "4991      3\n",
      "4992     65\n",
      "4993      5\n",
      "4994      4\n",
      "4995      1\n",
      "4996      9\n",
      "4997     10\n",
      "4998      8\n",
      "4999      5\n",
      "Length: 4999, dtype: int64\n"
     ]
    }
   ],
   "source": [
    "print(tmp)"
   ]
  },
  {
   "cell_type": "code",
   "execution_count": 70,
   "metadata": {},
   "outputs": [],
   "source": [
    "tmp.to_csv('../data/train/train_feature_15.csv', index=True)"
   ]
  },
  {
   "cell_type": "code",
   "execution_count": 9,
   "metadata": {},
   "outputs": [],
   "source": [
    "train1 = train_voice_df[train_voice_df['in_out'] == 0]\n",
    "train2 = train_voice_df[train_voice_df['in_out'] == 1]\n",
    "\n",
    "tmp1 = train1[train1['uid'] < 4100]\n",
    "tmp2 = train1[train1['uid'] >= 4100]\n",
    "tmp3 = train1[train1['uid'] < 2000]"
   ]
  },
  {
   "cell_type": "code",
   "execution_count": 10,
   "metadata": {
    "scrolled": true
   },
   "outputs": [
    {
     "name": "stdout",
     "output_type": "stream",
     "text": [
      "uid\n",
      "1       128.181818\n",
      "2        30.500000\n",
      "3       200.428571\n",
      "4       222.894737\n",
      "5        44.864407\n",
      "6        49.625000\n",
      "7        86.297297\n",
      "8        90.177778\n",
      "9       233.138889\n",
      "10      310.412698\n",
      "11       77.676692\n",
      "12      174.666667\n",
      "14      156.188406\n",
      "15       21.000000\n",
      "16      129.666667\n",
      "17      581.826087\n",
      "18       88.637931\n",
      "19       84.025000\n",
      "20       67.473214\n",
      "21       40.666667\n",
      "22       90.400000\n",
      "23      154.200000\n",
      "24      107.271654\n",
      "25       93.928571\n",
      "26      275.696751\n",
      "27      108.815385\n",
      "28      117.120301\n",
      "29       52.666667\n",
      "30       93.666667\n",
      "31       33.081633\n",
      "           ...    \n",
      "4969     43.249110\n",
      "4970     95.624390\n",
      "4971     49.913706\n",
      "4972     48.676923\n",
      "4973     43.346386\n",
      "4974     49.568000\n",
      "4975     47.390625\n",
      "4976     46.585034\n",
      "4977     38.576271\n",
      "4978     48.442308\n",
      "4979     77.250000\n",
      "4980     64.000000\n",
      "4981     92.000000\n",
      "4982     61.000000\n",
      "4983     35.600000\n",
      "4984     22.750000\n",
      "4985    759.500000\n",
      "4987    139.600000\n",
      "4988    166.000000\n",
      "4989    135.387097\n",
      "4990    115.778210\n",
      "4991    459.888889\n",
      "4992    200.320261\n",
      "4993     50.571429\n",
      "4994    107.928571\n",
      "4995    228.600000\n",
      "4996     90.965517\n",
      "4997    106.600000\n",
      "4998    249.454545\n",
      "4999     58.000000\n",
      "Name: dura, Length: 4779, dtype: float64\n"
     ]
    }
   ],
   "source": [
    "group = train1.groupby('uid')['dura']\n",
    "agg = group.mean()\n",
    "print(agg)"
   ]
  },
  {
   "cell_type": "code",
   "execution_count": 11,
   "metadata": {},
   "outputs": [],
   "source": [
    "tt1 = agg[agg.index < 4100]\n",
    "tt2 = agg[agg.index >= 4100]"
   ]
  },
  {
   "cell_type": "code",
   "execution_count": 12,
   "metadata": {},
   "outputs": [
    {
     "data": {
      "text/plain": [
       "count    3946.000000\n",
       "mean      111.031884\n",
       "std       109.588973\n",
       "min         3.000000\n",
       "25%        55.152597\n",
       "50%        81.802795\n",
       "75%       126.961538\n",
       "max      2234.000000\n",
       "Name: dura, dtype: float64"
      ]
     },
     "execution_count": 12,
     "metadata": {},
     "output_type": "execute_result"
    }
   ],
   "source": [
    "tt1.describe()"
   ]
  },
  {
   "cell_type": "code",
   "execution_count": 13,
   "metadata": {},
   "outputs": [
    {
     "data": {
      "text/plain": [
       "count     833.000000\n",
       "mean      102.694668\n",
       "std       114.569179\n",
       "min         3.000000\n",
       "25%        45.481707\n",
       "50%        71.600000\n",
       "75%       115.000000\n",
       "max      1153.750000\n",
       "Name: dura, dtype: float64"
      ]
     },
     "execution_count": 13,
     "metadata": {},
     "output_type": "execute_result"
    }
   ],
   "source": [
    "tt2.describe()"
   ]
  },
  {
   "cell_type": "code",
   "execution_count": 14,
   "metadata": {},
   "outputs": [],
   "source": [
    "dict = agg.to_dict()\n",
    "ans = pd.Series(index = range(1, 5000), data = dict)"
   ]
  },
  {
   "cell_type": "code",
   "execution_count": 15,
   "metadata": {},
   "outputs": [],
   "source": [
    "ans = ans.fillna(0)\n",
    "ans = ans.astype('int64')"
   ]
  },
  {
   "cell_type": "code",
   "execution_count": 16,
   "metadata": {},
   "outputs": [],
   "source": [
    "ans.to_csv('../data/train/train_feature_16.csv', index=True)"
   ]
  },
  {
   "cell_type": "code",
   "execution_count": 100,
   "metadata": {},
   "outputs": [],
   "source": [
    "g = train1[train1['dura'] <= 10]\n",
    "tmp1 = g[g['uid'] < 4100]\n",
    "tmp2 = g[g['uid'] >= 4100]\n",
    "tmp3 = g[g['uid'] < 2000]"
   ]
  },
  {
   "cell_type": "code",
   "execution_count": 101,
   "metadata": {},
   "outputs": [
    {
     "name": "stdout",
     "output_type": "stream",
     "text": [
      "          uid                           opp_num opp_head  opp_len  start_time  \\\n",
      "84        689  80274E44D8F1F1A7935577F04071ECF1      139       11    26070136   \n",
      "107      2313  D3F0EDF30B5A2D1D87BA9969F6222593      151       11    26155947   \n",
      "242      2312  045FA7346A37BE384AD0DEF54443F080      158       11    26150209   \n",
      "243      2312  D8EF674C4B4156E4DCBFB0B277D6D948      138       11    26150720   \n",
      "291      3016  2DC26F1CAD587305336E9C1158484871      150       11    26111325   \n",
      "311      1750  92732999C625678CEEE73FAE853EC99C      131       11    26150704   \n",
      "320      1283  F33261939776F9F37433BD69F88C5C17      130       11    26175702   \n",
      "328      1283  EA7DA49E2161130D1053BC38425C6374      130       11    26164500   \n",
      "329      1283  EA7DA49E2161130D1053BC38425C6374      130       11    26161756   \n",
      "342      1976  014BB799170497735F3012C1D4FCC45D      133       11    26082126   \n",
      "363      2410  32052E021D986D2E4516A8E9CC3AE9ED      173       11    26092431   \n",
      "381      3145  1095EEE66E7640204CFC3825620B34B7      151       11    26203017   \n",
      "684      3850  F8662156AD94330D1E856E1EC0F94FB1      156       11    26105526   \n",
      "685      3850  487A7251CA108F2BFBE7A45AEE1E4CD8      158       11    26193231   \n",
      "698      3194  B7397AAC5142493D96695BB503540541      132       11    26194027   \n",
      "714      2861  CEFA8D163E6AEB296B6B314DF18C72FC      158       11    26191044   \n",
      "782      3250  AD09C08217C297EBD43FC265ABC001C2      132       11    26214218   \n",
      "861      3329  517288BFF3290E643E52241D73639034      187       11    26130118   \n",
      "885      1717  5CD0E2DC0B10544086A953C5E07159B8      131       11    26200524   \n",
      "926       248  760EBAF9E538BBD9EBCE024DA23ADA91      137       11    26074300   \n",
      "930      1129  130D5C2615473D10EAF8F50016643F5A      138       11    26100832   \n",
      "935      1129  D1DE6D77FF45AC7E143522C831111AA8        1        5    26160536   \n",
      "943      3506  B15E4B3F614830A3BF31B218D0D8AF75      151       11    26181330   \n",
      "989      1285  6FA4FFA3CDB0251DB466A3A5EB346686      189       11    26085950   \n",
      "1015     1285  9BD0E787CEF8A7D4A05BCD2E8473E52E      153       11    26190408   \n",
      "1041      524  ADB232AB8988FEB24DE1CD81D8E457B8      137       11    26083541   \n",
      "1059     2925  28B5CA1A8D98BC10406B4F4B85328688      132       11    26181406   \n",
      "1110      940  E3316E5A5EE19012002B0D3CC055580A      176       11    26123007   \n",
      "1115      940  FBF40490F190C10E2AC518969E05E368      151       11    26225009   \n",
      "1248     2570  CDE7C0383145C75D5E53504D56369511      828        8    26172700   \n",
      "...       ...                               ...      ...      ...         ...   \n",
      "1149236   530  6A9C583E4780B9F91CAE170EB96305F5      152       11     4164057   \n",
      "1149374  1401  D72E6A0D294602A50D0A4E9F417D2BDE      135       11     4172949   \n",
      "1149385  3984  E810D66CE01D8A4AA8D51D1128FB3835      139       11     2112415   \n",
      "1149390  3984  412FBC5910F82D4441C1E3BAD98F9C17      157       11     2121715   \n",
      "1149406  3984  E810D66CE01D8A4AA8D51D1128FB3835      139       11     2090340   \n",
      "1149409  3984  58309C5F471B43E32E69A10341F1FF8E      138       11     2152549   \n",
      "1149415  3984  58309C5F471B43E32E69A10341F1FF8E      138       11     2153228   \n",
      "1149419  3984  20FE0BF9D7F63249CE069B9C0681EFB0      139       11     2135927   \n",
      "1149463   780  023958ED530AE9F698D8131570E325E1      132       11     2121330   \n",
      "1149468   780  DD99CBDB3B8BB0B760EC199E4DEFFEC6      137       11     2171458   \n",
      "1149508  2117  9D514EA5DADFA949C9579DD32115A88F      151       11     2111926   \n",
      "1149510  2117  627A7D9641AAC29C087728647E15EE18      180       11     2173742   \n",
      "1149590  1969  89EF3207A33EA25187AC138060720D30      178       11     2164436   \n",
      "1149701   824  7724088E07744E040CE88D22C4AC3ECA      139       11    15163731   \n",
      "1149727   104  A38357A667EA5A2AD558D22893689E97      186       11    15142028   \n",
      "1149770  2245  1BDB213E979DA95BC8ED7FC92040554A      150       11    15184217   \n",
      "1149782  2245  FC22195C5BE801C934E6B119FBAA86E2      130       11    15061124   \n",
      "1149786  2245  69C57A533DD5F69AC4A9AE1E6D83BE59      138       11    15092053   \n",
      "1149981  2819  C0563A63252DC297951EA32DE2E5CC4D      132       11     3181412   \n",
      "1150180  2854  C690E515E8D5E5C7C0F5027134E9E6F0      158       11    26124810   \n",
      "1150246   153  80627A18AFB0BC90BFA2DD6F32C59923      183       11     1123845   \n",
      "1150278  3471  BD7721FEDFD16CCD9FBB4C23D76EEFC2      185       11     1143730   \n",
      "1150330  2655  F5CD3B1C4832BAE621634C3906374B09      137       11    28111526   \n",
      "1150627  1671  C94FB23B54DAE87F0B139404C1D9F2E9      132       11    30155345   \n",
      "1150635   795  6942AA8041EA4E1D74E97C98DE0CAC83      133       11    30171652   \n",
      "1150637   795  2D02203CBF0DBA0769531C1C04EEFA28      139       11    30143736   \n",
      "1150639   795  6942AA8041EA4E1D74E97C98DE0CAC83      133       11    30171316   \n",
      "1150659  2766  8F6752CF628D668B1CA291973EC3B092      131       11    30175817   \n",
      "1150733  1809  B83DD2642407889EF2BD89DEB0EA50EC      136       11    33192203   \n",
      "1150749  1809  86580292D090C736829D572CE0F6A759      159       11    33092853   \n",
      "\n",
      "         end_time  call_type  in_out  dura  \n",
      "84       26070143          1       0     8  \n",
      "107      26155955          1       0     9  \n",
      "242      26150218          2       0    10  \n",
      "243      26150726          1       0     7  \n",
      "291      26111332          1       0     8  \n",
      "311      26150713          1       0    10  \n",
      "320      26175710          1       0     9  \n",
      "328      26164506          1       0     7  \n",
      "329      26161805          1       0    10  \n",
      "342      26082133          1       0     8  \n",
      "363      26092439          1       0     9  \n",
      "381      26203023          1       0     7  \n",
      "684      26105535          1       0    10  \n",
      "685      26193240          1       0    10  \n",
      "698      26194035          1       0     9  \n",
      "714      26191053          1       0    10  \n",
      "782      26214227          1       0    10  \n",
      "861      26130119          2       0     2  \n",
      "885      26200530          1       0     7  \n",
      "926      26074302          2       0     3  \n",
      "930      26100841          1       0    10  \n",
      "935      26160545          1       0    10  \n",
      "943      26181338          1       0     9  \n",
      "989      26085959          1       0    10  \n",
      "1015     26190409          1       0     2  \n",
      "1041     26083550          1       0    10  \n",
      "1059     26181415          1       0    10  \n",
      "1110     26123015          2       0     9  \n",
      "1115     26225010          1       0     2  \n",
      "1248     26172701          1       0     2  \n",
      "...           ...        ...     ...   ...  \n",
      "1149236   4164105          1       0     9  \n",
      "1149374   4172958          1       0    10  \n",
      "1149385   2112424          1       0    10  \n",
      "1149390   2121724          1       0    10  \n",
      "1149406   2090349          1       0    10  \n",
      "1149409   2152558          3       0    10  \n",
      "1149415   2153235          3       0     8  \n",
      "1149419   2135933          1       0     7  \n",
      "1149463   2121335          1       0     6  \n",
      "1149468   2171506          1       0     9  \n",
      "1149508   2111933          3       0     8  \n",
      "1149510   2173748          1       0     7  \n",
      "1149590   2164437          3       0     2  \n",
      "1149701  15163737          1       0     7  \n",
      "1149727  15142037          3       0    10  \n",
      "1149770  15184223          1       0     7  \n",
      "1149782  15061133          1       0    10  \n",
      "1149786  15092102          1       0    10  \n",
      "1149981   3181421          1       0    10  \n",
      "1150180  26124818          1       0     9  \n",
      "1150246   1123852          1       0     8  \n",
      "1150278   1143738          1       0     9  \n",
      "1150330  28111534          1       0     9  \n",
      "1150627  30155351          1       0     7  \n",
      "1150635  30171653          2       0     2  \n",
      "1150637  30143744          1       0     9  \n",
      "1150639  30171317          2       0     2  \n",
      "1150659  30175821          1       0     5  \n",
      "1150733  33192212          1       0    10  \n",
      "1150749  33092901          1       0     9  \n",
      "\n",
      "[27986 rows x 9 columns]\n"
     ]
    }
   ],
   "source": [
    "print(tmp1)"
   ]
  },
  {
   "cell_type": "code",
   "execution_count": 103,
   "metadata": {},
   "outputs": [],
   "source": [
    "ww1 = tmp1['uid'].value_counts()\n",
    "ww2 = tmp2['uid'].value_counts()\n",
    "ww3 = tmp3['uid'].value_counts()"
   ]
  },
  {
   "cell_type": "code",
   "execution_count": 104,
   "metadata": {},
   "outputs": [
    {
     "data": {
      "text/plain": [
       "count    2813.000000\n",
       "mean        9.948809\n",
       "std        72.101430\n",
       "min         1.000000\n",
       "25%         2.000000\n",
       "50%         4.000000\n",
       "75%         8.000000\n",
       "max      3433.000000\n",
       "Name: uid, dtype: float64"
      ]
     },
     "execution_count": 104,
     "metadata": {},
     "output_type": "execute_result"
    }
   ],
   "source": [
    "ww1.describe()"
   ]
  },
  {
   "cell_type": "code",
   "execution_count": 105,
   "metadata": {},
   "outputs": [
    {
     "data": {
      "text/plain": [
       "count     513.000000\n",
       "mean       16.842105\n",
       "std        50.512533\n",
       "min         1.000000\n",
       "25%         2.000000\n",
       "50%         4.000000\n",
       "75%        17.000000\n",
       "max      1005.000000\n",
       "Name: uid, dtype: float64"
      ]
     },
     "execution_count": 105,
     "metadata": {},
     "output_type": "execute_result"
    }
   ],
   "source": [
    "ww2.describe()"
   ]
  },
  {
   "cell_type": "code",
   "execution_count": 106,
   "metadata": {},
   "outputs": [
    {
     "data": {
      "text/plain": [
       "count    1389.000000\n",
       "mean        8.125270\n",
       "std        20.743219\n",
       "min         1.000000\n",
       "25%         2.000000\n",
       "50%         4.000000\n",
       "75%         8.000000\n",
       "max       494.000000\n",
       "Name: uid, dtype: float64"
      ]
     },
     "execution_count": 106,
     "metadata": {},
     "output_type": "execute_result"
    }
   ],
   "source": [
    "ww3.describe()"
   ]
  },
  {
   "cell_type": "code",
   "execution_count": 108,
   "metadata": {},
   "outputs": [],
   "source": [
    "ans = g['uid'].value_counts()"
   ]
  },
  {
   "cell_type": "code",
   "execution_count": 109,
   "metadata": {},
   "outputs": [],
   "source": [
    "dict = ans.to_dict()\n",
    "ans2 = pd.Series(index = range(1, 5000), data = dict)"
   ]
  },
  {
   "cell_type": "code",
   "execution_count": 110,
   "metadata": {},
   "outputs": [],
   "source": [
    "ans2 = ans2.fillna(0)\n",
    "ans2 = ans2.astype('int64')"
   ]
  },
  {
   "cell_type": "code",
   "execution_count": 111,
   "metadata": {
    "scrolled": true
   },
   "outputs": [
    {
     "name": "stdout",
     "output_type": "stream",
     "text": [
      "1        7\n",
      "2        0\n",
      "3        0\n",
      "4        8\n",
      "5        4\n",
      "6        0\n",
      "7        3\n",
      "8        2\n",
      "9        0\n",
      "10       3\n",
      "11       5\n",
      "12       6\n",
      "13       0\n",
      "14       1\n",
      "15       1\n",
      "16       4\n",
      "17       0\n",
      "18       8\n",
      "19      33\n",
      "20       8\n",
      "21       0\n",
      "22       0\n",
      "23       1\n",
      "24       8\n",
      "25      10\n",
      "26       4\n",
      "27      21\n",
      "28       1\n",
      "29       0\n",
      "30       2\n",
      "        ..\n",
      "4970    16\n",
      "4971     4\n",
      "4972     7\n",
      "4973    12\n",
      "4974     8\n",
      "4975     6\n",
      "4976    13\n",
      "4977     8\n",
      "4978     4\n",
      "4979     0\n",
      "4980     0\n",
      "4981     0\n",
      "4982     0\n",
      "4983     2\n",
      "4984     0\n",
      "4985     0\n",
      "4986     0\n",
      "4987     0\n",
      "4988     0\n",
      "4989     3\n",
      "4990    10\n",
      "4991     1\n",
      "4992     5\n",
      "4993     1\n",
      "4994     0\n",
      "4995     0\n",
      "4996     1\n",
      "4997     1\n",
      "4998     0\n",
      "4999     0\n",
      "Length: 4999, dtype: int64\n"
     ]
    }
   ],
   "source": [
    "print(ans2)"
   ]
  },
  {
   "cell_type": "code",
   "execution_count": 114,
   "metadata": {},
   "outputs": [],
   "source": [
    "ans2.to_csv('../data/train/train_feature_17.csv', index=True)"
   ]
  },
  {
   "cell_type": "code",
   "execution_count": 194,
   "metadata": {},
   "outputs": [],
   "source": [
    "g = train1[train1['opp_len'] <= 8]"
   ]
  },
  {
   "cell_type": "code",
   "execution_count": 195,
   "metadata": {},
   "outputs": [],
   "source": [
    "tmp = g['uid'].value_counts()"
   ]
  },
  {
   "cell_type": "code",
   "execution_count": 196,
   "metadata": {},
   "outputs": [],
   "source": [
    "tmp1 = tmp[tmp.index < 4100]\n",
    "tmp2 = tmp[tmp.index >= 4100]\n",
    "tmp3 = tmp[tmp.index < 2000]"
   ]
  },
  {
   "cell_type": "code",
   "execution_count": 197,
   "metadata": {},
   "outputs": [],
   "source": [
    "# tmp1.plot(kind='bar')"
   ]
  },
  {
   "cell_type": "code",
   "execution_count": 198,
   "metadata": {},
   "outputs": [],
   "source": [
    "# tmp2.plot(kind='bar')"
   ]
  },
  {
   "cell_type": "code",
   "execution_count": 199,
   "metadata": {},
   "outputs": [
    {
     "data": {
      "text/plain": [
       "count    2060.000000\n",
       "mean        5.384951\n",
       "std         8.433200\n",
       "min         1.000000\n",
       "25%         1.000000\n",
       "50%         3.000000\n",
       "75%         6.000000\n",
       "max       144.000000\n",
       "Name: uid, dtype: float64"
      ]
     },
     "execution_count": 199,
     "metadata": {},
     "output_type": "execute_result"
    }
   ],
   "source": [
    "tmp1.describe()"
   ]
  },
  {
   "cell_type": "code",
   "execution_count": 200,
   "metadata": {},
   "outputs": [
    {
     "data": {
      "text/plain": [
       "count    419.000000\n",
       "mean       4.386635\n",
       "std        5.679512\n",
       "min        1.000000\n",
       "25%        1.000000\n",
       "50%        3.000000\n",
       "75%        5.000000\n",
       "max       54.000000\n",
       "Name: uid, dtype: float64"
      ]
     },
     "execution_count": 200,
     "metadata": {},
     "output_type": "execute_result"
    }
   ],
   "source": [
    "tmp2.describe()"
   ]
  },
  {
   "cell_type": "code",
   "execution_count": 201,
   "metadata": {},
   "outputs": [
    {
     "data": {
      "text/plain": [
       "count    1002.000000\n",
       "mean        5.575848\n",
       "std         8.528892\n",
       "min         1.000000\n",
       "25%         1.000000\n",
       "50%         3.000000\n",
       "75%         7.000000\n",
       "max       144.000000\n",
       "Name: uid, dtype: float64"
      ]
     },
     "execution_count": 201,
     "metadata": {},
     "output_type": "execute_result"
    }
   ],
   "source": [
    "tmp3.describe()"
   ]
  },
  {
   "cell_type": "code",
   "execution_count": 203,
   "metadata": {},
   "outputs": [],
   "source": [
    "tmp = tmp.sort_index()"
   ]
  },
  {
   "cell_type": "code",
   "execution_count": 204,
   "metadata": {
    "scrolled": true
   },
   "outputs": [
    {
     "name": "stdout",
     "output_type": "stream",
     "text": [
      "1        2\n",
      "4       10\n",
      "5        3\n",
      "8       21\n",
      "10       4\n",
      "11       3\n",
      "12       2\n",
      "14       2\n",
      "16       3\n",
      "18       4\n",
      "19      40\n",
      "20      10\n",
      "24       2\n",
      "25       2\n",
      "27      11\n",
      "28       2\n",
      "30       3\n",
      "31       1\n",
      "32      11\n",
      "33       1\n",
      "34       4\n",
      "35       2\n",
      "37       2\n",
      "40      21\n",
      "41       2\n",
      "42       3\n",
      "43      11\n",
      "44       2\n",
      "45      17\n",
      "46       1\n",
      "        ..\n",
      "4925     1\n",
      "4928     3\n",
      "4929     1\n",
      "4932     7\n",
      "4939     1\n",
      "4946     2\n",
      "4951     4\n",
      "4952     3\n",
      "4953     1\n",
      "4955     6\n",
      "4956     2\n",
      "4957     1\n",
      "4959     1\n",
      "4960     1\n",
      "4961     1\n",
      "4964     2\n",
      "4967     1\n",
      "4968     1\n",
      "4970     4\n",
      "4972     3\n",
      "4973     3\n",
      "4974     1\n",
      "4975     2\n",
      "4977    18\n",
      "4979     6\n",
      "4980     2\n",
      "4981     3\n",
      "4996     2\n",
      "4997     1\n",
      "4999     2\n",
      "Name: uid, Length: 2479, dtype: int64\n"
     ]
    }
   ],
   "source": [
    "print(tmp)"
   ]
  },
  {
   "cell_type": "code",
   "execution_count": 205,
   "metadata": {},
   "outputs": [],
   "source": [
    "dict = tmp.to_dict()\n",
    "ans = pd.Series(index = range(1, 5000), data = dict)"
   ]
  },
  {
   "cell_type": "code",
   "execution_count": 206,
   "metadata": {},
   "outputs": [],
   "source": [
    "ans = ans.fillna(0)"
   ]
  },
  {
   "cell_type": "code",
   "execution_count": 207,
   "metadata": {},
   "outputs": [],
   "source": [
    "ans = ans.astype('int64')"
   ]
  },
  {
   "cell_type": "code",
   "execution_count": 208,
   "metadata": {
    "scrolled": true
   },
   "outputs": [
    {
     "name": "stdout",
     "output_type": "stream",
     "text": [
      "1        2\n",
      "2        0\n",
      "3        0\n",
      "4       10\n",
      "5        3\n",
      "6        0\n",
      "7        0\n",
      "8       21\n",
      "9        0\n",
      "10       4\n",
      "11       3\n",
      "12       2\n",
      "13       0\n",
      "14       2\n",
      "15       0\n",
      "16       3\n",
      "17       0\n",
      "18       4\n",
      "19      40\n",
      "20      10\n",
      "21       0\n",
      "22       0\n",
      "23       0\n",
      "24       2\n",
      "25       2\n",
      "26       0\n",
      "27      11\n",
      "28       2\n",
      "29       0\n",
      "30       3\n",
      "        ..\n",
      "4970     4\n",
      "4971     0\n",
      "4972     3\n",
      "4973     3\n",
      "4974     1\n",
      "4975     2\n",
      "4976     0\n",
      "4977    18\n",
      "4978     0\n",
      "4979     6\n",
      "4980     2\n",
      "4981     3\n",
      "4982     0\n",
      "4983     0\n",
      "4984     0\n",
      "4985     0\n",
      "4986     0\n",
      "4987     0\n",
      "4988     0\n",
      "4989     0\n",
      "4990     0\n",
      "4991     0\n",
      "4992     0\n",
      "4993     0\n",
      "4994     0\n",
      "4995     0\n",
      "4996     2\n",
      "4997     1\n",
      "4998     0\n",
      "4999     2\n",
      "Length: 4999, dtype: int64\n"
     ]
    }
   ],
   "source": [
    "print(ans)"
   ]
  },
  {
   "cell_type": "code",
   "execution_count": 209,
   "metadata": {},
   "outputs": [],
   "source": [
    "ans.to_csv('../data/train/train_feature_18.csv', index=True)"
   ]
  },
  {
   "cell_type": "code",
   "execution_count": 214,
   "metadata": {
    "scrolled": true
   },
   "outputs": [
    {
     "name": "stdout",
     "output_type": "stream",
     "text": [
      "          uid  day\n",
      "0         113   26\n",
      "1         113   26\n",
      "2         113   26\n",
      "3         113   26\n",
      "4        3340   26\n",
      "5        3340   26\n",
      "6        3340   26\n",
      "7        3340   26\n",
      "8        2016   26\n",
      "9        2016   26\n",
      "10       2016   26\n",
      "11       2016   26\n",
      "12       2016   26\n",
      "13       2016   26\n",
      "14        493   26\n",
      "15        493   26\n",
      "16        493   26\n",
      "17       2255   26\n",
      "18       2255   26\n",
      "19       2255   26\n",
      "20       2255   26\n",
      "21       2255   26\n",
      "22       2255   26\n",
      "23       2255   26\n",
      "24       2255   26\n",
      "25       1362   26\n",
      "26       1362   26\n",
      "27       1362   26\n",
      "28       1362   26\n",
      "29       1362   26\n",
      "...       ...  ...\n",
      "1150748  1809   33\n",
      "1150749  1809   33\n",
      "1150750  3891   33\n",
      "1150751  3891   33\n",
      "1150752   593   33\n",
      "1150753   593   33\n",
      "1150754  2043   24\n",
      "1150755  2043   24\n",
      "1150756  2043   24\n",
      "1150757  2043   24\n",
      "1150758  2043   24\n",
      "1150759   907   24\n",
      "1150760   907   24\n",
      "1150761   907   24\n",
      "1150762   907   24\n",
      "1150763   907   24\n",
      "1150764  1785   24\n",
      "1150765  1785   24\n",
      "1150766  1785   24\n",
      "1150767  1785   24\n",
      "1150768  1785   24\n",
      "1150769  1785   24\n",
      "1150770  1785   24\n",
      "1150771  3674   24\n",
      "1150772  3674   24\n",
      "1150773  3674   24\n",
      "1150774  3674   24\n",
      "1150775  3674   24\n",
      "1150776  3674   24\n",
      "1150777  2714   24\n",
      "\n",
      "[1150778 rows x 2 columns]\n"
     ]
    }
   ],
   "source": [
    "def do(x):\n",
    "    return int(x['start_time'] / 1000000)\n",
    "tmp = train_voice_df\n",
    "train_voice_df.loc[:, 'day'] = tmp.apply(do, axis = 1)"
   ]
  },
  {
   "cell_type": "code",
   "execution_count": 215,
   "metadata": {
    "scrolled": true
   },
   "outputs": [
    {
     "name": "stdout",
     "output_type": "stream",
     "text": [
      "          uid  start_time  day\n",
      "0         113    26115956   26\n",
      "1         113    26115623   26\n",
      "2         113    26174233   26\n",
      "3         113    26070423   26\n",
      "4        3340    26201745   26\n",
      "5        3340    26060320   26\n",
      "6        3340    26061046   26\n",
      "7        3340    26192655   26\n",
      "8        2016    26112314   26\n",
      "9        2016    26112217   26\n",
      "10       2016    26094342   26\n",
      "11       2016    26104032   26\n",
      "12       2016    26182944   26\n",
      "13       2016    26131919   26\n",
      "14        493    26155722   26\n",
      "15        493    26101621   26\n",
      "16        493    26144615   26\n",
      "17       2255    26110736   26\n",
      "18       2255    26112324   26\n",
      "19       2255    26110859   26\n",
      "20       2255    26181453   26\n",
      "21       2255    26115250   26\n",
      "22       2255    26071131   26\n",
      "23       2255    26063525   26\n",
      "24       2255    26080751   26\n",
      "25       1362    26084126   26\n",
      "26       1362    26082818   26\n",
      "27       1362    26172626   26\n",
      "28       1362    26180602   26\n",
      "29       1362    26110348   26\n",
      "...       ...         ...  ...\n",
      "1150748  1809    33080131   33\n",
      "1150749  1809    33092853   33\n",
      "1150750  3891    33191734   33\n",
      "1150751  3891    33162441   33\n",
      "1150752   593    33155340   33\n",
      "1150753   593    33170257   33\n",
      "1150754  2043    24215837   24\n",
      "1150755  2043    24231137   24\n",
      "1150756  2043    24162743   24\n",
      "1150757  2043    24174704   24\n",
      "1150758  2043    24175129   24\n",
      "1150759   907    24175444   24\n",
      "1150760   907    24154251   24\n",
      "1150761   907    24152120   24\n",
      "1150762   907    24142550   24\n",
      "1150763   907    24100149   24\n",
      "1150764  1785    24194451   24\n",
      "1150765  1785    24195511   24\n",
      "1150766  1785    24192232   24\n",
      "1150767  1785    24190731   24\n",
      "1150768  1785    24192820   24\n",
      "1150769  1785    24165731   24\n",
      "1150770  1785    24155025   24\n",
      "1150771  3674    24072912   24\n",
      "1150772  3674    24165304   24\n",
      "1150773  3674    24200548   24\n",
      "1150774  3674    24093130   24\n",
      "1150775  3674    24130002   24\n",
      "1150776  3674    24182419   24\n",
      "1150777  2714    24211933   24\n",
      "\n",
      "[1150778 rows x 3 columns]\n"
     ]
    }
   ],
   "source": [
    "print(train_voice_df[['uid', 'start_time', 'day']])"
   ]
  },
  {
   "cell_type": "code",
   "execution_count": 217,
   "metadata": {},
   "outputs": [],
   "source": [
    "train1 = train_voice_df[train_voice_df['in_out'] == 0]\n",
    "train2 = train_voice_df[train_voice_df['in_out'] == 1]"
   ]
  },
  {
   "cell_type": "code",
   "execution_count": 225,
   "metadata": {},
   "outputs": [],
   "source": [
    "group = train1.groupby('uid')\n",
    "item_dict = {}\n",
    "for index,g in group:\n",
    "    tmp = g['day'].value_counts()\n",
    "    item_dict[index] = tmp.std()"
   ]
  },
  {
   "cell_type": "code",
   "execution_count": 230,
   "metadata": {},
   "outputs": [],
   "source": [
    "ans = pd.Series(index = range(1, 5000), data = item_dict)"
   ]
  },
  {
   "cell_type": "code",
   "execution_count": 231,
   "metadata": {
    "scrolled": true
   },
   "outputs": [
    {
     "name": "stdout",
     "output_type": "stream",
     "text": [
      "1        0.859125\n",
      "2        0.000000\n",
      "3        0.000000\n",
      "4        2.962200\n",
      "5        2.474610\n",
      "6        0.000000\n",
      "7        1.392088\n",
      "8        1.913686\n",
      "9        1.005249\n",
      "10       2.060234\n",
      "11       3.931771\n",
      "12       2.174335\n",
      "13            NaN\n",
      "14       3.602849\n",
      "15            NaN\n",
      "16       2.651115\n",
      "17       0.418854\n",
      "18       1.406132\n",
      "19       5.830227\n",
      "20       1.975901\n",
      "21       0.000000\n",
      "22            NaN\n",
      "23       0.000000\n",
      "24       3.333157\n",
      "25       5.230776\n",
      "26       4.190685\n",
      "27       9.428894\n",
      "28       2.713262\n",
      "29       0.487950\n",
      "30       1.702186\n",
      "          ...    \n",
      "4970     6.309479\n",
      "4971     6.384468\n",
      "4972     7.549834\n",
      "4973    12.916582\n",
      "4974     7.403345\n",
      "4975     7.230886\n",
      "4976     6.872348\n",
      "4977     2.768015\n",
      "4978     2.561020\n",
      "4979     1.154701\n",
      "4980     0.707107\n",
      "4981          NaN\n",
      "4982     0.632456\n",
      "4983     1.618080\n",
      "4984     0.577350\n",
      "4985          NaN\n",
      "4986          NaN\n",
      "4987     0.577350\n",
      "4988          NaN\n",
      "4989     7.537209\n",
      "4990    15.394186\n",
      "4991     4.949747\n",
      "4992     4.638349\n",
      "4993     0.408248\n",
      "4994     1.527525\n",
      "4995     0.500000\n",
      "4996     1.739437\n",
      "4997     1.463850\n",
      "4998     0.517549\n",
      "4999     0.951190\n",
      "Length: 4999, dtype: float64\n"
     ]
    }
   ],
   "source": [
    "print(ans)"
   ]
  },
  {
   "cell_type": "code",
   "execution_count": 232,
   "metadata": {},
   "outputs": [],
   "source": [
    "ans = ans.fillna(0)"
   ]
  },
  {
   "cell_type": "code",
   "execution_count": 234,
   "metadata": {},
   "outputs": [],
   "source": [
    "ans.to_csv('../data/train/train_feature_19.csv', index=True)"
   ]
  },
  {
   "cell_type": "code",
   "execution_count": 235,
   "metadata": {},
   "outputs": [],
   "source": [
    "tt1 = ans[ans.index < 4100]\n",
    "tt2 = ans[ans.index >= 4100]\n",
    "tt3 = ans[ans.index < 2000]"
   ]
  },
  {
   "cell_type": "code",
   "execution_count": 236,
   "metadata": {},
   "outputs": [
    {
     "data": {
      "text/plain": [
       "<matplotlib.axes._subplots.AxesSubplot at 0x693dbc18>"
      ]
     },
     "execution_count": 236,
     "metadata": {},
     "output_type": "execute_result"
    },
    {
     "data": {
      "image/png": "[encoded data removed]",
      "text/plain": [
       "<Figure size 432x288 with 1 Axes>"
      ]
     },
     "metadata": {},
     "output_type": "display_data"
    }
   ],
   "source": [
    "tt1.plot(kind='bar')"
   ]
  },
  {
   "cell_type": "code",
   "execution_count": 237,
   "metadata": {},
   "outputs": [
    {
     "data": {
      "text/plain": [
       "<matplotlib.axes._subplots.AxesSubplot at 0x8ad18c18>"
      ]
     },
     "execution_count": 237,
     "metadata": {},
     "output_type": "execute_result"
    },
    {
     "data": {
      "image/png": "[encoded data removed]",
      "text/plain": [
       "<Figure size 432x288 with 1 Axes>"
      ]
     },
     "metadata": {},
     "output_type": "display_data"
    }
   ],
   "source": [
    "tt2.plot(kind='bar')"
   ]
  },
  {
   "cell_type": "markdown",
   "metadata": {},
   "source": [
    "# Feature 34"
   ]
  },
  {
   "cell_type": "code",
   "execution_count": 5,
   "metadata": {},
   "outputs": [
    {
     "name": "stderr",
     "output_type": "stream",
     "text": [
      "d:\\program files (x86)\\python\\lib\\site-packages\\ipykernel_launcher.py:1: FutureWarning: using a dict on a Series for aggregation\n",
      "is deprecated and will be removed in a future version\n",
      "  \"\"\"Entry point for launching an IPython kernel.\n"
     ]
    }
   ],
   "source": [
    "voice_opp_num = train_voice_df.groupby(['uid'])['opp_num'].agg({'unique_count': lambda x: len(pd.unique(x)),'count':'count'}).add_prefix('voice_opp_num_')"
   ]
  },
  {
   "cell_type": "code",
   "execution_count": 6,
   "metadata": {
    "scrolled": true
   },
   "outputs": [
    {
     "name": "stdout",
     "output_type": "stream",
     "text": [
      "      voice_opp_num_count  voice_opp_num_unique_count\n",
      "uid                                                  \n",
      "1                      79                          22\n",
      "2                       2                           2\n",
      "3                      21                          15\n",
      "4                     254                          77\n",
      "5                     401                          55\n",
      "6                      44                          21\n",
      "7                     101                          60\n",
      "8                     234                          71\n",
      "9                      96                          21\n",
      "10                    130                          37\n",
      "11                    227                          41\n",
      "12                    302                         123\n",
      "13                      2                           2\n",
      "14                    151                          48\n",
      "15                     81                          48\n",
      "16                    291                          92\n",
      "17                     43                          19\n",
      "18                    178                          29\n",
      "19                    647                         155\n",
      "20                    315                          56\n",
      "21                     19                           7\n",
      "22                     22                           6\n",
      "23                     32                           4\n",
      "24                    653                         143\n",
      "25                    723                         181\n",
      "26                    521                          61\n",
      "27                   1618                         265\n",
      "28                    323                          42\n",
      "29                     13                          11\n",
      "30                     62                          30\n",
      "...                   ...                         ...\n",
      "4970                  415                          98\n",
      "4971                  277                         102\n",
      "4972                  468                         120\n",
      "4973                  485                         133\n",
      "4974                  180                          71\n",
      "4975                  288                          87\n",
      "4976                  262                          76\n",
      "4977                   76                          20\n",
      "4978                   97                          11\n",
      "4979                    8                           2\n",
      "4980                    3                           2\n",
      "4981                    3                           1\n",
      "4982                   35                          16\n",
      "4983                   30                          13\n",
      "4984                    4                           2\n",
      "4985                    3                           3\n",
      "4986                    1                           1\n",
      "4987                    5                           1\n",
      "4988                    1                           1\n",
      "4989                   93                          23\n",
      "4990                  324                          83\n",
      "4991                   60                          35\n",
      "4992                  263                          77\n",
      "4993                   11                           7\n",
      "4994                   25                           6\n",
      "4995                   18                           6\n",
      "4996                   30                          10\n",
      "4997                   54                          12\n",
      "4998                   18                           9\n",
      "4999                   19                           5\n",
      "\n",
      "[4987 rows x 2 columns]\n"
     ]
    }
   ],
   "source": [
    "print(voice_opp_num)"
   ]
  },
  {
   "cell_type": "markdown",
   "metadata": {},
   "source": [
    "# Feature 35"
   ]
  },
  {
   "cell_type": "code",
   "execution_count": 7,
   "metadata": {},
   "outputs": [
    {
     "name": "stderr",
     "output_type": "stream",
     "text": [
      "d:\\program files (x86)\\python\\lib\\site-packages\\ipykernel_launcher.py:1: FutureWarning: using a dict on a Series for aggregation\n",
      "is deprecated and will be removed in a future version\n",
      "  \"\"\"Entry point for launching an IPython kernel.\n"
     ]
    }
   ],
   "source": [
    "voice_opp_head=train_voice_df.groupby(['uid'])['opp_head'].agg({'unique_count': lambda x: len(pd.unique(x))}).add_prefix('voice_opp_head_')"
   ]
  },
  {
   "cell_type": "code",
   "execution_count": 8,
   "metadata": {
    "scrolled": true
   },
   "outputs": [
    {
     "name": "stdout",
     "output_type": "stream",
     "text": [
      "      voice_opp_head_unique_count\n",
      "uid                              \n",
      "1                              17\n",
      "2                               1\n",
      "3                              10\n",
      "4                              31\n",
      "5                              28\n",
      "6                              15\n",
      "7                              33\n",
      "8                              30\n",
      "9                              21\n",
      "10                             31\n",
      "11                             19\n",
      "12                             38\n",
      "13                              2\n",
      "14                             21\n",
      "15                             32\n",
      "16                             28\n",
      "17                             11\n",
      "18                             17\n",
      "19                             38\n",
      "20                             22\n",
      "21                              6\n",
      "22                              6\n",
      "23                              5\n",
      "24                             37\n",
      "25                             35\n",
      "26                             21\n",
      "27                             44\n",
      "28                             27\n",
      "29                              8\n",
      "30                             21\n",
      "...                           ...\n",
      "4970                           21\n",
      "4971                            4\n",
      "4972                           11\n",
      "4973                            9\n",
      "4974                            9\n",
      "4975                           10\n",
      "4976                            6\n",
      "4977                           16\n",
      "4978                            9\n",
      "4979                            2\n",
      "4980                            2\n",
      "4981                            1\n",
      "4982                           13\n",
      "4983                            6\n",
      "4984                            2\n",
      "4985                            3\n",
      "4986                            1\n",
      "4987                            1\n",
      "4988                            1\n",
      "4989                           16\n",
      "4990                           40\n",
      "4991                           29\n",
      "4992                           29\n",
      "4993                            6\n",
      "4994                            6\n",
      "4995                            5\n",
      "4996                           10\n",
      "4997                           11\n",
      "4998                           10\n",
      "4999                            4\n",
      "\n",
      "[4987 rows x 1 columns]\n"
     ]
    }
   ],
   "source": [
    "print(voice_opp_head)"
   ]
  },
  {
   "cell_type": "markdown",
   "metadata": {},
   "source": [
    "# Feature 36"
   ]
  },
  {
   "cell_type": "code",
   "execution_count": 9,
   "metadata": {},
   "outputs": [],
   "source": [
    "voice_opp_len=train_voice_df.groupby(['uid','opp_len'])['uid'].count().unstack().add_prefix('voice_opp_len_').fillna(0)"
   ]
  },
  {
   "cell_type": "code",
   "execution_count": 10,
   "metadata": {},
   "outputs": [],
   "source": [
    "voice_opp_len.columns.name = None"
   ]
  },
  {
   "cell_type": "code",
   "execution_count": 52,
   "metadata": {},
   "outputs": [],
   "source": [
    "'''\n",
    "ori = voice_opp_len\n",
    "for i in range(0, ori.columns.size):\n",
    "    # print(len(pd.unique(ori.iloc[:, i])))\n",
    "    if len(pd.unique(ori.iloc[:, i])) < 30:\n",
    "        voice_opp_len = voice_opp_len.drop(columns = ori.columns[i], axis=1)\n",
    "'''"
   ]
  },
  {
   "cell_type": "code",
   "execution_count": 11,
   "metadata": {
    "scrolled": true
   },
   "outputs": [
    {
     "name": "stdout",
     "output_type": "stream",
     "text": [
      "      voice_opp_len_3  voice_opp_len_5  voice_opp_len_6  voice_opp_len_7  \\\n",
      "uid                                                                        \n",
      "1                 0.0              3.0              0.0              0.0   \n",
      "2                 0.0              0.0              0.0              0.0   \n",
      "3                 0.0              1.0              0.0              0.0   \n",
      "4                 0.0              1.0              0.0              0.0   \n",
      "5                 0.0              4.0              0.0              0.0   \n",
      "6                 0.0              0.0              0.0              0.0   \n",
      "7                 0.0              0.0              0.0              0.0   \n",
      "8                 0.0              3.0              0.0              0.0   \n",
      "9                 0.0              0.0              0.0              0.0   \n",
      "10                0.0              1.0              0.0              2.0   \n",
      "11                0.0              2.0              0.0              0.0   \n",
      "12                0.0              5.0              0.0              0.0   \n",
      "13                0.0              0.0              0.0              0.0   \n",
      "14                0.0              2.0              0.0              0.0   \n",
      "15                0.0              2.0              0.0              0.0   \n",
      "16                0.0              0.0              0.0              0.0   \n",
      "17                0.0              1.0              0.0              0.0   \n",
      "18                0.0              3.0              0.0              0.0   \n",
      "19                1.0             26.0              0.0              1.0   \n",
      "20                0.0              0.0              0.0              0.0   \n",
      "21                0.0              0.0              0.0              0.0   \n",
      "22                0.0              0.0              0.0              0.0   \n",
      "23                0.0              0.0              0.0              0.0   \n",
      "24                2.0              0.0              0.0              0.0   \n",
      "25                0.0              1.0              0.0              0.0   \n",
      "26                0.0              0.0              0.0              0.0   \n",
      "27                0.0              7.0              0.0              0.0   \n",
      "28                0.0              2.0              0.0              0.0   \n",
      "29                0.0              0.0              0.0              0.0   \n",
      "30                0.0              3.0              0.0              0.0   \n",
      "...               ...              ...              ...              ...   \n",
      "4970              0.0              5.0              0.0              0.0   \n",
      "4971              0.0              0.0              0.0              0.0   \n",
      "4972              0.0              2.0              0.0              0.0   \n",
      "4973              0.0              3.0              0.0              0.0   \n",
      "4974              0.0              1.0              0.0              0.0   \n",
      "4975              0.0              0.0              0.0              0.0   \n",
      "4976              0.0              0.0              0.0              0.0   \n",
      "4977              0.0              6.0              0.0             12.0   \n",
      "4978              0.0              0.0              1.0              0.0   \n",
      "4979              0.0              0.0              0.0              0.0   \n",
      "4980              0.0              2.0              0.0              0.0   \n",
      "4981              0.0              3.0              0.0              0.0   \n",
      "4982              0.0              0.0              0.0              0.0   \n",
      "4983              0.0              0.0              0.0              0.0   \n",
      "4984              0.0              0.0              0.0              0.0   \n",
      "4985              0.0              0.0              0.0              0.0   \n",
      "4986              0.0              0.0              0.0              0.0   \n",
      "4987              0.0              0.0              0.0              0.0   \n",
      "4988              0.0              0.0              0.0              0.0   \n",
      "4989              0.0              0.0              0.0              0.0   \n",
      "4990              0.0              0.0              0.0              0.0   \n",
      "4991              0.0              0.0              0.0              0.0   \n",
      "4992              0.0              0.0              0.0              0.0   \n",
      "4993              0.0              0.0              0.0              0.0   \n",
      "4994              0.0              0.0              0.0              0.0   \n",
      "4995              0.0              0.0              0.0              0.0   \n",
      "4996              0.0              2.0              0.0              0.0   \n",
      "4997              0.0              1.0              0.0              0.0   \n",
      "4998              0.0              0.0              0.0              0.0   \n",
      "4999              0.0              2.0              0.0              0.0   \n",
      "\n",
      "      voice_opp_len_8  voice_opp_len_9  voice_opp_len_10  voice_opp_len_11  \\\n",
      "uid                                                                          \n",
      "1                 0.0              0.0               0.0              74.0   \n",
      "2                 0.0              0.0               0.0               2.0   \n",
      "3                 2.0              0.0               1.0              17.0   \n",
      "4                12.0              0.0               1.0             219.0   \n",
      "5                 0.0              0.0               0.0             397.0   \n",
      "6                 0.0              0.0               0.0              44.0   \n",
      "7                 1.0              0.0               4.0              96.0   \n",
      "8                19.0              0.0               0.0             210.0   \n",
      "9                 0.0              0.0               0.0              96.0   \n",
      "10                1.0              0.0               0.0             126.0   \n",
      "11                3.0              0.0               0.0             222.0   \n",
      "12                2.0              0.0               6.0             284.0   \n",
      "13                1.0              0.0               0.0               1.0   \n",
      "14                1.0              0.0               0.0             144.0   \n",
      "15                1.0              0.0               0.0              76.0   \n",
      "16                3.0              1.0               0.0             268.0   \n",
      "17                0.0              1.0               0.0              29.0   \n",
      "18                1.0              1.0               0.0             156.0   \n",
      "19               14.0              0.0               3.0             481.0   \n",
      "20               10.0              4.0               0.0             274.0   \n",
      "21                0.0              0.0               0.0              17.0   \n",
      "22                0.0              0.0               0.0              21.0   \n",
      "23                0.0              0.0               0.0              30.0   \n",
      "24                1.0              1.0               0.0             613.0   \n",
      "25                1.0              2.0               0.0             698.0   \n",
      "26                0.0              0.0               1.0             517.0   \n",
      "27                8.0              2.0               5.0            1459.0   \n",
      "28                0.0              0.0               1.0             286.0   \n",
      "29                0.0              0.0               1.0              11.0   \n",
      "30                0.0              0.0               3.0              54.0   \n",
      "...               ...              ...               ...               ...   \n",
      "4970              0.0              0.0               0.0             410.0   \n",
      "4971              0.0              0.0               0.0             277.0   \n",
      "4972              1.0              0.0               0.0             465.0   \n",
      "4973              0.0              0.0               4.0             478.0   \n",
      "4974              0.0              0.0               3.0             176.0   \n",
      "4975              2.0              0.0               0.0             286.0   \n",
      "4976              0.0              0.0               0.0             262.0   \n",
      "4977              0.0              0.0               0.0              58.0   \n",
      "4978              0.0              0.0               0.0              94.0   \n",
      "4979              6.0              0.0               0.0               0.0   \n",
      "4980              0.0              0.0               0.0               1.0   \n",
      "4981              0.0              0.0               0.0               0.0   \n",
      "4982              0.0              0.0               0.0              33.0   \n",
      "4983              1.0              0.0               0.0              29.0   \n",
      "4984              0.0              0.0               0.0               4.0   \n",
      "4985              0.0              0.0               0.0               3.0   \n",
      "4986              0.0              0.0               0.0               0.0   \n",
      "4987              0.0              0.0               0.0               5.0   \n",
      "4988              0.0              0.0               0.0               1.0   \n",
      "4989              0.0              1.0               0.0              92.0   \n",
      "4990              0.0              0.0               0.0             322.0   \n",
      "4991              0.0              0.0               0.0              60.0   \n",
      "4992              0.0              0.0               0.0             262.0   \n",
      "4993              0.0              0.0               0.0              10.0   \n",
      "4994              0.0              0.0               0.0              25.0   \n",
      "4995              0.0              0.0               0.0              18.0   \n",
      "4996              0.0              0.0               0.0              28.0   \n",
      "4997              0.0              0.0               0.0              53.0   \n",
      "4998              0.0              0.0               0.0              17.0   \n",
      "4999              0.0              0.0               0.0              17.0   \n",
      "\n",
      "      voice_opp_len_12  voice_opp_len_13  voice_opp_len_14  voice_opp_len_15  \\\n",
      "uid                                                                            \n",
      "1                  2.0               0.0               0.0               0.0   \n",
      "2                  0.0               0.0               0.0               0.0   \n",
      "3                  0.0               0.0               0.0               0.0   \n",
      "4                 21.0               0.0               0.0               0.0   \n",
      "5                  0.0               0.0               0.0               0.0   \n",
      "6                  0.0               0.0               0.0               0.0   \n",
      "7                  0.0               0.0               0.0               0.0   \n",
      "8                  2.0               0.0               0.0               0.0   \n",
      "9                  0.0               0.0               0.0               0.0   \n",
      "10                 0.0               0.0               0.0               0.0   \n",
      "11                 0.0               0.0               0.0               0.0   \n",
      "12                 5.0               0.0               0.0               0.0   \n",
      "13                 0.0               0.0               0.0               0.0   \n",
      "14                 4.0               0.0               0.0               0.0   \n",
      "15                 2.0               0.0               0.0               0.0   \n",
      "16                19.0               0.0               0.0               0.0   \n",
      "17                12.0               0.0               0.0               0.0   \n",
      "18                17.0               0.0               0.0               0.0   \n",
      "19               121.0               0.0               0.0               0.0   \n",
      "20                26.0               1.0               0.0               0.0   \n",
      "21                 2.0               0.0               0.0               0.0   \n",
      "22                 1.0               0.0               0.0               0.0   \n",
      "23                 2.0               0.0               0.0               0.0   \n",
      "24                34.0               2.0               0.0               0.0   \n",
      "25                21.0               0.0               0.0               0.0   \n",
      "26                 3.0               0.0               0.0               0.0   \n",
      "27               137.0               0.0               0.0               0.0   \n",
      "28                34.0               0.0               0.0               0.0   \n",
      "29                 1.0               0.0               0.0               0.0   \n",
      "30                 2.0               0.0               0.0               0.0   \n",
      "...                ...               ...               ...               ...   \n",
      "4970               0.0               0.0               0.0               0.0   \n",
      "4971               0.0               0.0               0.0               0.0   \n",
      "4972               0.0               0.0               0.0               0.0   \n",
      "4973               0.0               0.0               0.0               0.0   \n",
      "4974               0.0               0.0               0.0               0.0   \n",
      "4975               0.0               0.0               0.0               0.0   \n",
      "4976               0.0               0.0               0.0               0.0   \n",
      "4977               0.0               0.0               0.0               0.0   \n",
      "4978               2.0               0.0               0.0               0.0   \n",
      "4979               2.0               0.0               0.0               0.0   \n",
      "4980               0.0               0.0               0.0               0.0   \n",
      "4981               0.0               0.0               0.0               0.0   \n",
      "4982               2.0               0.0               0.0               0.0   \n",
      "4983               0.0               0.0               0.0               0.0   \n",
      "4984               0.0               0.0               0.0               0.0   \n",
      "4985               0.0               0.0               0.0               0.0   \n",
      "4986               1.0               0.0               0.0               0.0   \n",
      "4987               0.0               0.0               0.0               0.0   \n",
      "4988               0.0               0.0               0.0               0.0   \n",
      "4989               0.0               0.0               0.0               0.0   \n",
      "4990               2.0               0.0               0.0               0.0   \n",
      "4991               0.0               0.0               0.0               0.0   \n",
      "4992               1.0               0.0               0.0               0.0   \n",
      "4993               1.0               0.0               0.0               0.0   \n",
      "4994               0.0               0.0               0.0               0.0   \n",
      "4995               0.0               0.0               0.0               0.0   \n",
      "4996               0.0               0.0               0.0               0.0   \n",
      "4997               0.0               0.0               0.0               0.0   \n",
      "4998               1.0               0.0               0.0               0.0   \n",
      "4999               0.0               0.0               0.0               0.0   \n",
      "\n",
      "      voice_opp_len_16  voice_opp_len_17  voice_opp_len_19  voice_opp_len_20  \\\n",
      "uid                                                                            \n",
      "1                  0.0               0.0               0.0               0.0   \n",
      "2                  0.0               0.0               0.0               0.0   \n",
      "3                  0.0               0.0               0.0               0.0   \n",
      "4                  0.0               0.0               0.0               0.0   \n",
      "5                  0.0               0.0               0.0               0.0   \n",
      "6                  0.0               0.0               0.0               0.0   \n",
      "7                  0.0               0.0               0.0               0.0   \n",
      "8                  0.0               0.0               0.0               0.0   \n",
      "9                  0.0               0.0               0.0               0.0   \n",
      "10                 0.0               0.0               0.0               0.0   \n",
      "11                 0.0               0.0               0.0               0.0   \n",
      "12                 0.0               0.0               0.0               0.0   \n",
      "13                 0.0               0.0               0.0               0.0   \n",
      "14                 0.0               0.0               0.0               0.0   \n",
      "15                 0.0               0.0               0.0               0.0   \n",
      "16                 0.0               0.0               0.0               0.0   \n",
      "17                 0.0               0.0               0.0               0.0   \n",
      "18                 0.0               0.0               0.0               0.0   \n",
      "19                 0.0               0.0               0.0               0.0   \n",
      "20                 0.0               0.0               0.0               0.0   \n",
      "21                 0.0               0.0               0.0               0.0   \n",
      "22                 0.0               0.0               0.0               0.0   \n",
      "23                 0.0               0.0               0.0               0.0   \n",
      "24                 0.0               0.0               0.0               0.0   \n",
      "25                 0.0               0.0               0.0               0.0   \n",
      "26                 0.0               0.0               0.0               0.0   \n",
      "27                 0.0               0.0               0.0               0.0   \n",
      "28                 0.0               0.0               0.0               0.0   \n",
      "29                 0.0               0.0               0.0               0.0   \n",
      "30                 0.0               0.0               0.0               0.0   \n",
      "...                ...               ...               ...               ...   \n",
      "4970               0.0               0.0               0.0               0.0   \n",
      "4971               0.0               0.0               0.0               0.0   \n",
      "4972               0.0               0.0               0.0               0.0   \n",
      "4973               0.0               0.0               0.0               0.0   \n",
      "4974               0.0               0.0               0.0               0.0   \n",
      "4975               0.0               0.0               0.0               0.0   \n",
      "4976               0.0               0.0               0.0               0.0   \n",
      "4977               0.0               0.0               0.0               0.0   \n",
      "4978               0.0               0.0               0.0               0.0   \n",
      "4979               0.0               0.0               0.0               0.0   \n",
      "4980               0.0               0.0               0.0               0.0   \n",
      "4981               0.0               0.0               0.0               0.0   \n",
      "4982               0.0               0.0               0.0               0.0   \n",
      "4983               0.0               0.0               0.0               0.0   \n",
      "4984               0.0               0.0               0.0               0.0   \n",
      "4985               0.0               0.0               0.0               0.0   \n",
      "4986               0.0               0.0               0.0               0.0   \n",
      "4987               0.0               0.0               0.0               0.0   \n",
      "4988               0.0               0.0               0.0               0.0   \n",
      "4989               0.0               0.0               0.0               0.0   \n",
      "4990               0.0               0.0               0.0               0.0   \n",
      "4991               0.0               0.0               0.0               0.0   \n",
      "4992               0.0               0.0               0.0               0.0   \n",
      "4993               0.0               0.0               0.0               0.0   \n",
      "4994               0.0               0.0               0.0               0.0   \n",
      "4995               0.0               0.0               0.0               0.0   \n",
      "4996               0.0               0.0               0.0               0.0   \n",
      "4997               0.0               0.0               0.0               0.0   \n",
      "4998               0.0               0.0               0.0               0.0   \n",
      "4999               0.0               0.0               0.0               0.0   \n",
      "\n",
      "      voice_opp_len_21  voice_opp_len_22  \n",
      "uid                                       \n",
      "1                  0.0               0.0  \n",
      "2                  0.0               0.0  \n",
      "3                  0.0               0.0  \n",
      "4                  0.0               0.0  \n",
      "5                  0.0               0.0  \n",
      "6                  0.0               0.0  \n",
      "7                  0.0               0.0  \n",
      "8                  0.0               0.0  \n",
      "9                  0.0               0.0  \n",
      "10                 0.0               0.0  \n",
      "11                 0.0               0.0  \n",
      "12                 0.0               0.0  \n",
      "13                 0.0               0.0  \n",
      "14                 0.0               0.0  \n",
      "15                 0.0               0.0  \n",
      "16                 0.0               0.0  \n",
      "17                 0.0               0.0  \n",
      "18                 0.0               0.0  \n",
      "19                 0.0               0.0  \n",
      "20                 0.0               0.0  \n",
      "21                 0.0               0.0  \n",
      "22                 0.0               0.0  \n",
      "23                 0.0               0.0  \n",
      "24                 0.0               0.0  \n",
      "25                 0.0               0.0  \n",
      "26                 0.0               0.0  \n",
      "27                 0.0               0.0  \n",
      "28                 0.0               0.0  \n",
      "29                 0.0               0.0  \n",
      "30                 0.0               0.0  \n",
      "...                ...               ...  \n",
      "4970               0.0               0.0  \n",
      "4971               0.0               0.0  \n",
      "4972               0.0               0.0  \n",
      "4973               0.0               0.0  \n",
      "4974               0.0               0.0  \n",
      "4975               0.0               0.0  \n",
      "4976               0.0               0.0  \n",
      "4977               0.0               0.0  \n",
      "4978               0.0               0.0  \n",
      "4979               0.0               0.0  \n",
      "4980               0.0               0.0  \n",
      "4981               0.0               0.0  \n",
      "4982               0.0               0.0  \n",
      "4983               0.0               0.0  \n",
      "4984               0.0               0.0  \n",
      "4985               0.0               0.0  \n",
      "4986               0.0               0.0  \n",
      "4987               0.0               0.0  \n",
      "4988               0.0               0.0  \n",
      "4989               0.0               0.0  \n",
      "4990               0.0               0.0  \n",
      "4991               0.0               0.0  \n",
      "4992               0.0               0.0  \n",
      "4993               0.0               0.0  \n",
      "4994               0.0               0.0  \n",
      "4995               0.0               0.0  \n",
      "4996               0.0               0.0  \n",
      "4997               0.0               0.0  \n",
      "4998               0.0               0.0  \n",
      "4999               0.0               0.0  \n",
      "\n",
      "[4987 rows x 18 columns]\n"
     ]
    }
   ],
   "source": [
    "print(voice_opp_len)"
   ]
  },
  {
   "cell_type": "markdown",
   "metadata": {},
   "source": [
    "# Feature 37"
   ]
  },
  {
   "cell_type": "code",
   "execution_count": 12,
   "metadata": {},
   "outputs": [],
   "source": [
    "voice_call_type = train_voice_df.groupby(['uid','call_type'])['uid'].count().unstack().add_prefix('voice_call_type_').fillna(0)"
   ]
  },
  {
   "cell_type": "code",
   "execution_count": 13,
   "metadata": {},
   "outputs": [],
   "source": [
    "voice_call_type.columns.name = None"
   ]
  },
  {
   "cell_type": "code",
   "execution_count": 14,
   "metadata": {},
   "outputs": [
    {
     "name": "stdout",
     "output_type": "stream",
     "text": [
      "      voice_call_type_1  voice_call_type_2  voice_call_type_3  \\\n",
      "uid                                                             \n",
      "1                  79.0                0.0                0.0   \n",
      "2                   2.0                0.0                0.0   \n",
      "3                  21.0                0.0                0.0   \n",
      "4                 218.0                6.0               30.0   \n",
      "5                 398.0                0.0                3.0   \n",
      "6                  39.0                5.0                0.0   \n",
      "7                  98.0                1.0                2.0   \n",
      "8                 234.0                0.0                0.0   \n",
      "9                  81.0                1.0               14.0   \n",
      "10                121.0                0.0                9.0   \n",
      "11                226.0                1.0                0.0   \n",
      "12                247.0               15.0               40.0   \n",
      "13                  2.0                0.0                0.0   \n",
      "14                133.0               16.0                2.0   \n",
      "15                 77.0                0.0                4.0   \n",
      "16                277.0                4.0               10.0   \n",
      "17                 29.0               14.0                0.0   \n",
      "18                166.0               12.0                0.0   \n",
      "19                643.0                0.0                4.0   \n",
      "20                313.0                0.0                2.0   \n",
      "21                 19.0                0.0                0.0   \n",
      "22                  2.0               20.0                0.0   \n",
      "23                 20.0               12.0                0.0   \n",
      "24                615.0               11.0               27.0   \n",
      "25                526.0               81.0              116.0   \n",
      "26                465.0                1.0               55.0   \n",
      "27               1475.0              130.0               13.0   \n",
      "28                219.0               34.0               70.0   \n",
      "29                 10.0                2.0                1.0   \n",
      "30                 48.0               10.0                4.0   \n",
      "...                 ...                ...                ...   \n",
      "4970              379.0                2.0               34.0   \n",
      "4971              277.0                0.0                0.0   \n",
      "4972              465.0                0.0                3.0   \n",
      "4973              481.0                0.0                4.0   \n",
      "4974              177.0                2.0                1.0   \n",
      "4975              284.0                1.0                3.0   \n",
      "4976              261.0                0.0                1.0   \n",
      "4977               74.0                2.0                0.0   \n",
      "4978               71.0               26.0                0.0   \n",
      "4979                8.0                0.0                0.0   \n",
      "4980                3.0                0.0                0.0   \n",
      "4981                3.0                0.0                0.0   \n",
      "4982               35.0                0.0                0.0   \n",
      "4983               30.0                0.0                0.0   \n",
      "4984                4.0                0.0                0.0   \n",
      "4985                2.0                0.0                1.0   \n",
      "4986                1.0                0.0                0.0   \n",
      "4987                0.0                0.0                5.0   \n",
      "4988                0.0                0.0                1.0   \n",
      "4989                0.0                0.0               93.0   \n",
      "4990                0.0                0.0              324.0   \n",
      "4991                1.0                0.0               59.0   \n",
      "4992                0.0                0.0              263.0   \n",
      "4993                0.0                0.0               11.0   \n",
      "4994                0.0                0.0               25.0   \n",
      "4995               13.0                0.0                5.0   \n",
      "4996                9.0                0.0               21.0   \n",
      "4997               38.0                0.0               16.0   \n",
      "4998               11.0                1.0                6.0   \n",
      "4999               19.0                0.0                0.0   \n",
      "\n",
      "      voice_call_type_4  voice_call_type_5  \n",
      "uid                                         \n",
      "1                   0.0                0.0  \n",
      "2                   0.0                0.0  \n",
      "3                   0.0                0.0  \n",
      "4                   0.0                0.0  \n",
      "5                   0.0                0.0  \n",
      "6                   0.0                0.0  \n",
      "7                   0.0                0.0  \n",
      "8                   0.0                0.0  \n",
      "9                   0.0                0.0  \n",
      "10                  0.0                0.0  \n",
      "11                  0.0                0.0  \n",
      "12                  0.0                0.0  \n",
      "13                  0.0                0.0  \n",
      "14                  0.0                0.0  \n",
      "15                  0.0                0.0  \n",
      "16                  0.0                0.0  \n",
      "17                  0.0                0.0  \n",
      "18                  0.0                0.0  \n",
      "19                  0.0                0.0  \n",
      "20                  0.0                0.0  \n",
      "21                  0.0                0.0  \n",
      "22                  0.0                0.0  \n",
      "23                  0.0                0.0  \n",
      "24                  0.0                0.0  \n",
      "25                  0.0                0.0  \n",
      "26                  0.0                0.0  \n",
      "27                  0.0                0.0  \n",
      "28                  0.0                0.0  \n",
      "29                  0.0                0.0  \n",
      "30                  0.0                0.0  \n",
      "...                 ...                ...  \n",
      "4970                0.0                0.0  \n",
      "4971                0.0                0.0  \n",
      "4972                0.0                0.0  \n",
      "4973                0.0                0.0  \n",
      "4974                0.0                0.0  \n",
      "4975                0.0                0.0  \n",
      "4976                0.0                0.0  \n",
      "4977                0.0                0.0  \n",
      "4978                0.0                0.0  \n",
      "4979                0.0                0.0  \n",
      "4980                0.0                0.0  \n",
      "4981                0.0                0.0  \n",
      "4982                0.0                0.0  \n",
      "4983                0.0                0.0  \n",
      "4984                0.0                0.0  \n",
      "4985                0.0                0.0  \n",
      "4986                0.0                0.0  \n",
      "4987                0.0                0.0  \n",
      "4988                0.0                0.0  \n",
      "4989                0.0                0.0  \n",
      "4990                0.0                0.0  \n",
      "4991                0.0                0.0  \n",
      "4992                0.0                0.0  \n",
      "4993                0.0                0.0  \n",
      "4994                0.0                0.0  \n",
      "4995                0.0                0.0  \n",
      "4996                0.0                0.0  \n",
      "4997                0.0                0.0  \n",
      "4998                0.0                0.0  \n",
      "4999                0.0                0.0  \n",
      "\n",
      "[4987 rows x 5 columns]\n"
     ]
    }
   ],
   "source": [
    "print(voice_call_type)"
   ]
  },
  {
   "cell_type": "markdown",
   "metadata": {},
   "source": [
    "# Feature 38"
   ]
  },
  {
   "cell_type": "code",
   "execution_count": 15,
   "metadata": {},
   "outputs": [],
   "source": [
    "voice_in_out = train_voice_df.groupby(['uid','in_out'])['uid'].count().unstack().add_prefix('voice_in_out_').fillna(0)"
   ]
  },
  {
   "cell_type": "code",
   "execution_count": 16,
   "metadata": {},
   "outputs": [],
   "source": [
    "voice_in_out.columns.name = None"
   ]
  },
  {
   "cell_type": "code",
   "execution_count": 17,
   "metadata": {
    "scrolled": true
   },
   "outputs": [
    {
     "name": "stdout",
     "output_type": "stream",
     "text": [
      "      voice_in_out_0  voice_in_out_1\n",
      "uid                                 \n",
      "1               33.0            46.0\n",
      "2                2.0             0.0\n",
      "3                7.0            14.0\n",
      "4              133.0           121.0\n",
      "5              177.0           224.0\n",
      "6                8.0            36.0\n",
      "7               37.0            64.0\n",
      "8              135.0            99.0\n",
      "9               36.0            60.0\n",
      "10              63.0            67.0\n",
      "11             133.0            94.0\n",
      "12             123.0           179.0\n",
      "13               0.0             2.0\n",
      "14              69.0            82.0\n",
      "15               2.0            79.0\n",
      "16             126.0           165.0\n",
      "17              23.0            20.0\n",
      "18              58.0           120.0\n",
      "19             400.0           247.0\n",
      "20             112.0           203.0\n",
      "21               3.0            16.0\n",
      "22               5.0            17.0\n",
      "23               5.0            27.0\n",
      "24             254.0           399.0\n",
      "25             350.0           373.0\n",
      "26             277.0           244.0\n",
      "27             845.0           773.0\n",
      "28             133.0           190.0\n",
      "29               9.0             4.0\n",
      "30              30.0            32.0\n",
      "...              ...             ...\n",
      "4970           205.0           210.0\n",
      "4971           197.0            80.0\n",
      "4972           195.0           273.0\n",
      "4973           332.0           153.0\n",
      "4974           125.0            55.0\n",
      "4975           128.0           160.0\n",
      "4976           147.0           115.0\n",
      "4977            59.0            17.0\n",
      "4978            52.0            45.0\n",
      "4979             8.0             0.0\n",
      "4980             3.0             0.0\n",
      "4981             3.0             0.0\n",
      "4982            12.0            23.0\n",
      "4983            25.0             5.0\n",
      "4984             4.0             0.0\n",
      "4985             2.0             1.0\n",
      "4986             0.0             1.0\n",
      "4987             5.0             0.0\n",
      "4988             1.0             0.0\n",
      "4989            62.0            31.0\n",
      "4990           257.0            67.0\n",
      "4991             9.0            51.0\n",
      "4992           153.0           110.0\n",
      "4993             7.0             4.0\n",
      "4994            14.0            11.0\n",
      "4995             5.0            13.0\n",
      "4996            29.0             1.0\n",
      "4997            30.0            24.0\n",
      "4998            11.0             7.0\n",
      "4999            12.0             7.0\n",
      "\n",
      "[4987 rows x 2 columns]\n"
     ]
    }
   ],
   "source": [
    "print(voice_in_out)"
   ]
  },
  {
   "cell_type": "markdown",
   "metadata": {},
   "source": [
    "# Feature 39"
   ]
  },
  {
   "cell_type": "code",
   "execution_count": 18,
   "metadata": {},
   "outputs": [],
   "source": [
    "train_1 = train_voice_df[train_voice_df['in_out'] == 0]\n",
    "train_2 = train_voice_df[train_voice_df['in_out'] == 1]"
   ]
  },
  {
   "cell_type": "code",
   "execution_count": 20,
   "metadata": {},
   "outputs": [],
   "source": [
    "t1 = train_1['uid'].value_counts()\n",
    "t2 = train_2['uid'].value_counts()\n",
    "dict = t1.to_dict()\n",
    "tt1 = pd.Series(index = range(1, 5000), data = dict)\n",
    "tt1 = tt1.fillna(0)\n",
    "dict = t2.to_dict()\n",
    "tt2 = pd.Series(index = range(1, 5000), data = dict)\n",
    "tt2 = tt2.fillna(0)\n",
    "tt3 = tt1 / (tt1 + tt2)"
   ]
  },
  {
   "cell_type": "code",
   "execution_count": 21,
   "metadata": {
    "scrolled": true
   },
   "outputs": [
    {
     "name": "stdout",
     "output_type": "stream",
     "text": [
      "1       0.417722\n",
      "2       1.000000\n",
      "3       0.333333\n",
      "4       0.523622\n",
      "5       0.441397\n",
      "6       0.181818\n",
      "7       0.366337\n",
      "8       0.576923\n",
      "9       0.375000\n",
      "10      0.484615\n",
      "11      0.585903\n",
      "12      0.407285\n",
      "13      0.000000\n",
      "14      0.456954\n",
      "15      0.024691\n",
      "16      0.432990\n",
      "17      0.534884\n",
      "18      0.325843\n",
      "19      0.618238\n",
      "20      0.355556\n",
      "21      0.157895\n",
      "22      0.227273\n",
      "23      0.156250\n",
      "24      0.388974\n",
      "25      0.484094\n",
      "26      0.531670\n",
      "27      0.522250\n",
      "28      0.411765\n",
      "29      0.692308\n",
      "30      0.483871\n",
      "          ...   \n",
      "4970    0.493976\n",
      "4971    0.711191\n",
      "4972    0.416667\n",
      "4973    0.684536\n",
      "4974    0.694444\n",
      "4975    0.444444\n",
      "4976    0.561069\n",
      "4977    0.776316\n",
      "4978    0.536082\n",
      "4979    1.000000\n",
      "4980    1.000000\n",
      "4981    1.000000\n",
      "4982    0.342857\n",
      "4983    0.833333\n",
      "4984    1.000000\n",
      "4985    0.666667\n",
      "4986    0.000000\n",
      "4987    1.000000\n",
      "4988    1.000000\n",
      "4989    0.666667\n",
      "4990    0.793210\n",
      "4991    0.150000\n",
      "4992    0.581749\n",
      "4993    0.636364\n",
      "4994    0.560000\n",
      "4995    0.277778\n",
      "4996    0.966667\n",
      "4997    0.555556\n",
      "4998    0.611111\n",
      "4999    0.631579\n",
      "Length: 4999, dtype: float64\n"
     ]
    }
   ],
   "source": [
    "print(tt3)"
   ]
  },
  {
   "cell_type": "code",
   "execution_count": 22,
   "metadata": {},
   "outputs": [],
   "source": [
    "tt3 = tt3.fillna(0.5)"
   ]
  },
  {
   "cell_type": "code",
   "execution_count": 23,
   "metadata": {},
   "outputs": [],
   "source": [
    "voice_in_out_rate = pd.DataFrame(tt3)\n",
    "voice_in_out_rate.columns = ['in_out_rate']"
   ]
  },
  {
   "cell_type": "code",
   "execution_count": 24,
   "metadata": {
    "scrolled": true
   },
   "outputs": [
    {
     "name": "stdout",
     "output_type": "stream",
     "text": [
      "      in_out_rate\n",
      "1        0.417722\n",
      "2        1.000000\n",
      "3        0.333333\n",
      "4        0.523622\n",
      "5        0.441397\n",
      "6        0.181818\n",
      "7        0.366337\n",
      "8        0.576923\n",
      "9        0.375000\n",
      "10       0.484615\n",
      "11       0.585903\n",
      "12       0.407285\n",
      "13       0.000000\n",
      "14       0.456954\n",
      "15       0.024691\n",
      "16       0.432990\n",
      "17       0.534884\n",
      "18       0.325843\n",
      "19       0.618238\n",
      "20       0.355556\n",
      "21       0.157895\n",
      "22       0.227273\n",
      "23       0.156250\n",
      "24       0.388974\n",
      "25       0.484094\n",
      "26       0.531670\n",
      "27       0.522250\n",
      "28       0.411765\n",
      "29       0.692308\n",
      "30       0.483871\n",
      "...           ...\n",
      "4970     0.493976\n",
      "4971     0.711191\n",
      "4972     0.416667\n",
      "4973     0.684536\n",
      "4974     0.694444\n",
      "4975     0.444444\n",
      "4976     0.561069\n",
      "4977     0.776316\n",
      "4978     0.536082\n",
      "4979     1.000000\n",
      "4980     1.000000\n",
      "4981     1.000000\n",
      "4982     0.342857\n",
      "4983     0.833333\n",
      "4984     1.000000\n",
      "4985     0.666667\n",
      "4986     0.000000\n",
      "4987     1.000000\n",
      "4988     1.000000\n",
      "4989     0.666667\n",
      "4990     0.793210\n",
      "4991     0.150000\n",
      "4992     0.581749\n",
      "4993     0.636364\n",
      "4994     0.560000\n",
      "4995     0.277778\n",
      "4996     0.966667\n",
      "4997     0.555556\n",
      "4998     0.611111\n",
      "4999     0.631579\n",
      "\n",
      "[4999 rows x 1 columns]\n"
     ]
    }
   ],
   "source": [
    "print(voice_in_out_rate)"
   ]
  },
  {
   "cell_type": "markdown",
   "metadata": {},
   "source": [
    "# Feature 40"
   ]
  },
  {
   "cell_type": "code",
   "execution_count": 25,
   "metadata": {},
   "outputs": [],
   "source": [
    "def do(x):\n",
    "    start_day = int(x['start_time'] % 100000000 / 1000000)\n",
    "    start_hour = int(x['start_time'] % 1000000 / 10000)\n",
    "    start_min = int(x['start_time'] % 10000 / 100)\n",
    "    start_sec = int(x['start_time'] % 100)\n",
    "    start = (start_day * 24 * 60 + start_hour * 60 + start_min) * 60 + start_sec\n",
    "    \n",
    "    end_day = int(x['end_time'] % 100000000 / 1000000)\n",
    "    end_hour = int(x['end_time'] % 1000000 / 10000)\n",
    "    end_min = int(x['end_time'] % 10000 / 100)\n",
    "    end_sec = int(x['end_time'] % 100)\n",
    "    end = (end_day * 24 * 60 + end_hour * 60 + end_min) * 60 + end_sec\n",
    "    \n",
    "    # duration in seconds\n",
    "    return end - start + 1\n",
    "tmp = train_voice_df\n",
    "train_voice_df.loc[:, 'dura_second'] = tmp.apply(do, axis = 1)"
   ]
  },
  {
   "cell_type": "code",
   "execution_count": 26,
   "metadata": {},
   "outputs": [],
   "source": [
    "train_1 = train_voice_df[train_voice_df['in_out'] == 0]\n",
    "train_2 = train_voice_df[train_voice_df['in_out'] == 1]"
   ]
  },
  {
   "cell_type": "code",
   "execution_count": 27,
   "metadata": {},
   "outputs": [],
   "source": [
    "g = train_1[train_1['dura_second'] <= 10]"
   ]
  },
  {
   "cell_type": "code",
   "execution_count": 28,
   "metadata": {},
   "outputs": [],
   "source": [
    "cnt = g['uid'].value_counts().sort_index()"
   ]
  },
  {
   "cell_type": "code",
   "execution_count": 29,
   "metadata": {},
   "outputs": [],
   "source": [
    "cnt.index.name = 'uid'\n",
    "voice_short_dura_count = pd.DataFrame(cnt)\n",
    "voice_short_dura_count.columns = ['voice_short_dura_count']"
   ]
  },
  {
   "cell_type": "code",
   "execution_count": 30,
   "metadata": {
    "scrolled": true
   },
   "outputs": [
    {
     "name": "stdout",
     "output_type": "stream",
     "text": [
      "      voice_short_dura_count\n",
      "uid                         \n",
      "1                          7\n",
      "4                          8\n",
      "5                          4\n",
      "7                          3\n",
      "8                          2\n",
      "10                         3\n",
      "11                         5\n",
      "12                         6\n",
      "14                         1\n",
      "15                         1\n",
      "16                         4\n",
      "18                         8\n",
      "19                        33\n",
      "20                         8\n",
      "23                         1\n",
      "24                         8\n",
      "25                        10\n",
      "26                         4\n",
      "27                        21\n",
      "28                         1\n",
      "30                         2\n",
      "31                        21\n",
      "32                        11\n",
      "33                         5\n",
      "34                        45\n",
      "35                         1\n",
      "37                         1\n",
      "40                         9\n",
      "41                         4\n",
      "42                         3\n",
      "...                      ...\n",
      "4951                      10\n",
      "4952                      29\n",
      "4953                       1\n",
      "4954                       6\n",
      "4959                       1\n",
      "4962                      10\n",
      "4963                       2\n",
      "4964                       8\n",
      "4965                      19\n",
      "4966                      13\n",
      "4967                       4\n",
      "4968                      13\n",
      "4969                       9\n",
      "4970                      16\n",
      "4971                       4\n",
      "4972                       7\n",
      "4973                      12\n",
      "4974                       8\n",
      "4975                       6\n",
      "4976                      13\n",
      "4977                       8\n",
      "4978                       4\n",
      "4983                       2\n",
      "4989                       3\n",
      "4990                      10\n",
      "4991                       1\n",
      "4992                       5\n",
      "4993                       1\n",
      "4996                       1\n",
      "4997                       1\n",
      "\n",
      "[3326 rows x 1 columns]\n"
     ]
    }
   ],
   "source": [
    "print(voice_short_dura_count)"
   ]
  },
  {
   "cell_type": "markdown",
   "metadata": {},
   "source": [
    "# Feature 41"
   ]
  },
  {
   "cell_type": "code",
   "execution_count": 31,
   "metadata": {},
   "outputs": [],
   "source": [
    "def do(x):\n",
    "    return int(x['start_time'] / 1000000)\n",
    "tmp = train_voice_df\n",
    "train_voice_df.loc[:, 'date'] = tmp.apply(do, axis = 1)"
   ]
  },
  {
   "cell_type": "code",
   "execution_count": 32,
   "metadata": {},
   "outputs": [
    {
     "name": "stdout",
     "output_type": "stream",
     "text": [
      "          uid  start_time  date\n",
      "0         113    26115956    26\n",
      "1         113    26115623    26\n",
      "2         113    26174233    26\n",
      "3         113    26070423    26\n",
      "4        3340    26201745    26\n",
      "5        3340    26060320    26\n",
      "6        3340    26061046    26\n",
      "7        3340    26192655    26\n",
      "8        2016    26112314    26\n",
      "9        2016    26112217    26\n",
      "10       2016    26094342    26\n",
      "11       2016    26104032    26\n",
      "12       2016    26182944    26\n",
      "13       2016    26131919    26\n",
      "14        493    26155722    26\n",
      "15        493    26101621    26\n",
      "16        493    26144615    26\n",
      "17       2255    26110736    26\n",
      "18       2255    26112324    26\n",
      "19       2255    26110859    26\n",
      "20       2255    26181453    26\n",
      "21       2255    26115250    26\n",
      "22       2255    26071131    26\n",
      "23       2255    26063525    26\n",
      "24       2255    26080751    26\n",
      "25       1362    26084126    26\n",
      "26       1362    26082818    26\n",
      "27       1362    26172626    26\n",
      "28       1362    26180602    26\n",
      "29       1362    26110348    26\n",
      "...       ...         ...   ...\n",
      "1150748  1809    33080131    33\n",
      "1150749  1809    33092853    33\n",
      "1150750  3891    33191734    33\n",
      "1150751  3891    33162441    33\n",
      "1150752   593    33155340    33\n",
      "1150753   593    33170257    33\n",
      "1150754  2043    24215837    24\n",
      "1150755  2043    24231137    24\n",
      "1150756  2043    24162743    24\n",
      "1150757  2043    24174704    24\n",
      "1150758  2043    24175129    24\n",
      "1150759   907    24175444    24\n",
      "1150760   907    24154251    24\n",
      "1150761   907    24152120    24\n",
      "1150762   907    24142550    24\n",
      "1150763   907    24100149    24\n",
      "1150764  1785    24194451    24\n",
      "1150765  1785    24195511    24\n",
      "1150766  1785    24192232    24\n",
      "1150767  1785    24190731    24\n",
      "1150768  1785    24192820    24\n",
      "1150769  1785    24165731    24\n",
      "1150770  1785    24155025    24\n",
      "1150771  3674    24072912    24\n",
      "1150772  3674    24165304    24\n",
      "1150773  3674    24200548    24\n",
      "1150774  3674    24093130    24\n",
      "1150775  3674    24130002    24\n",
      "1150776  3674    24182419    24\n",
      "1150777  2714    24211933    24\n",
      "\n",
      "[1150778 rows x 3 columns]\n"
     ]
    }
   ],
   "source": [
    "print(train_voice_df[['uid', 'start_time', 'date']])"
   ]
  },
  {
   "cell_type": "code",
   "execution_count": 33,
   "metadata": {},
   "outputs": [],
   "source": [
    "voice_date = train_voice_df.groupby(['uid','date'])['uid'].count().unstack().add_prefix('date_').fillna(0)"
   ]
  },
  {
   "cell_type": "code",
   "execution_count": 34,
   "metadata": {},
   "outputs": [
    {
     "name": "stdout",
     "output_type": "stream",
     "text": [
      "date  date_0  date_1  date_2  date_3  date_4  date_5  date_6  date_7  date_8  \\\n",
      "uid                                                                            \n",
      "1        0.0     0.0     1.0     1.0     1.0     1.0     0.0     1.0     7.0   \n",
      "2        0.0     0.0     0.0     0.0     0.0     0.0     0.0     0.0     0.0   \n",
      "3        0.0     0.0     1.0     0.0     0.0     0.0     0.0     0.0     0.0   \n",
      "4        0.0     5.0     1.0     9.0     6.0     6.0     2.0     2.0     5.0   \n",
      "5        0.0     8.0     3.0     7.0     3.0     9.0     6.0    10.0    12.0   \n",
      "6        0.0     3.0     4.0     1.0     2.0     1.0     0.0     0.0     1.0   \n",
      "7        0.0     1.0     0.0     0.0     6.0     1.0     1.0     2.0     6.0   \n",
      "8        0.0     5.0     6.0     6.0     3.0     0.0    11.0     5.0     5.0   \n",
      "9        0.0     5.0     0.0    11.0     4.0     2.0     1.0     6.0     3.0   \n",
      "10       0.0     1.0     0.0     0.0     0.0     0.0     0.0     0.0     0.0   \n",
      "11       0.0     0.0     1.0     5.0     5.0     3.0     3.0     1.0     1.0   \n",
      "12       0.0     6.0    14.0     0.0    11.0     2.0     2.0     7.0     0.0   \n",
      "13       0.0     0.0     0.0     0.0     0.0     0.0     0.0     0.0     0.0   \n",
      "14       0.0     0.0     0.0     0.0     0.0     0.0     2.0     1.0     6.0   \n",
      "15       0.0     0.0     0.0     0.0     1.0     0.0     0.0     2.0     1.0   \n",
      "16       0.0     4.0    12.0     3.0     1.0     8.0    10.0    20.0     5.0   \n",
      "17       0.0     3.0     3.0     1.0     1.0     0.0     0.0     2.0     0.0   \n",
      "18       0.0     2.0     0.0     1.0    10.0     7.0     4.0     1.0     5.0   \n",
      "19       0.0    18.0    12.0     3.0     2.0    22.0    18.0    17.0    20.0   \n",
      "20       0.0     8.0     3.0     3.0    11.0     5.0     5.0     4.0     3.0   \n",
      "21       0.0     0.0     0.0     0.0     0.0     0.0     0.0     0.0     0.0   \n",
      "22       0.0     0.0     0.0     0.0     0.0     0.0     0.0     0.0     2.0   \n",
      "23       0.0     1.0     0.0     0.0     0.0     0.0     1.0     0.0     1.0   \n",
      "24       0.0    10.0    12.0    10.0    14.0     7.0    24.0    18.0    26.0   \n",
      "25       0.0    25.0    21.0    17.0    25.0    11.0     7.0     5.0    10.0   \n",
      "26       0.0    10.0    19.0     4.0    12.0    20.0    13.0    12.0     5.0   \n",
      "27       0.0    28.0    18.0    11.0    16.0    50.0    28.0    48.0    43.0   \n",
      "28       0.0     9.0    12.0     5.0     6.0     9.0     9.0     6.0     5.0   \n",
      "29       0.0     0.0     0.0     0.0     1.0     0.0     0.0     0.0     0.0   \n",
      "30       0.0     7.0     4.0     6.0     2.0     5.0     2.0     2.0     1.0   \n",
      "...      ...     ...     ...     ...     ...     ...     ...     ...     ...   \n",
      "4970     0.0     0.0     0.0     0.0     0.0     0.0     0.0     0.0     0.0   \n",
      "4971     0.0     0.0     0.0     0.0     0.0     0.0     0.0     0.0     0.0   \n",
      "4972     0.0     0.0     0.0     0.0     0.0     0.0     0.0     0.0     0.0   \n",
      "4973     0.0     0.0     0.0     0.0     0.0     0.0     0.0     0.0     0.0   \n",
      "4974     0.0     0.0     0.0     0.0     0.0     0.0     0.0     0.0     0.0   \n",
      "4975     0.0     0.0     0.0     0.0     0.0     0.0     0.0     0.0     0.0   \n",
      "4976     0.0     0.0     0.0     0.0     0.0     0.0     0.0     0.0     0.0   \n",
      "4977     0.0     3.0     2.0     4.0     0.0     1.0     0.0    10.0     8.0   \n",
      "4978     0.0     1.0     3.0     4.0     1.0     1.0     3.0     1.0     1.0   \n",
      "4979     0.0     0.0     0.0     0.0     0.0     2.0     0.0     0.0     4.0   \n",
      "4980     0.0     0.0     0.0     0.0     0.0     0.0     0.0     0.0     0.0   \n",
      "4981     0.0     0.0     0.0     0.0     0.0     0.0     0.0     0.0     0.0   \n",
      "4982     0.0     1.0     1.0     0.0     0.0     1.0     0.0     0.0     2.0   \n",
      "4983     0.0     0.0     0.0     0.0     0.0     0.0     0.0     0.0     0.0   \n",
      "4984     0.0     0.0     1.0     0.0     2.0     0.0     0.0     0.0     0.0   \n",
      "4985     0.0     3.0     0.0     0.0     0.0     0.0     0.0     0.0     0.0   \n",
      "4986     0.0     0.0     0.0     0.0     0.0     0.0     0.0     0.0     0.0   \n",
      "4987     0.0     0.0     0.0     0.0     0.0     0.0     0.0     0.0     0.0   \n",
      "4988     0.0     0.0     0.0     0.0     0.0     0.0     0.0     0.0     0.0   \n",
      "4989     0.0     0.0     0.0     0.0     0.0     0.0     0.0     0.0     0.0   \n",
      "4990     0.0     0.0     0.0     0.0     0.0     0.0     0.0     0.0     0.0   \n",
      "4991     0.0     0.0     0.0     0.0     0.0     0.0     0.0     0.0     0.0   \n",
      "4992     0.0     0.0     0.0     0.0     0.0     0.0     0.0     0.0     0.0   \n",
      "4993     0.0     0.0     0.0     0.0     0.0     0.0     0.0     0.0     0.0   \n",
      "4994     0.0     0.0     0.0     0.0     0.0     0.0     0.0     0.0     0.0   \n",
      "4995     0.0     0.0     0.0     0.0     0.0     0.0     0.0     0.0     0.0   \n",
      "4996     0.0     0.0     0.0     0.0     0.0     0.0     0.0     0.0     0.0   \n",
      "4997     0.0     0.0     0.0     0.0     0.0     0.0     0.0     0.0     0.0   \n",
      "4998     0.0     0.0     0.0     0.0     0.0     0.0     0.0     0.0     0.0   \n",
      "4999     0.0     1.0     3.0     0.0     1.0     1.0     0.0     0.0     0.0   \n",
      "\n",
      "date  date_9   ...     date_36  date_37  date_38  date_39  date_40  date_41  \\\n",
      "uid            ...                                                            \n",
      "1        5.0   ...         3.0      1.0      0.0      4.0      3.0      2.0   \n",
      "2        0.0   ...         0.0      0.0      0.0      0.0      0.0      0.0   \n",
      "3        1.0   ...         0.0      0.0      0.0      0.0      0.0      0.0   \n",
      "4        7.0   ...         3.0     23.0      8.0     10.0      8.0     14.0   \n",
      "5       10.0   ...         0.0      6.0      5.0     13.0     18.0      7.0   \n",
      "6        1.0   ...         0.0      1.0      0.0      2.0      0.0      2.0   \n",
      "7        7.0   ...         1.0      1.0      3.0      4.0      3.0      0.0   \n",
      "8        6.0   ...         6.0      6.0      6.0      2.0      3.0      4.0   \n",
      "9        4.0   ...         2.0      1.0      1.0      1.0      6.0      0.0   \n",
      "10       1.0   ...         2.0      2.0      6.0      5.0      6.0      5.0   \n",
      "11       0.0   ...         8.0      2.0      5.0      9.0      6.0      5.0   \n",
      "12       7.0   ...         3.0      7.0     11.0      5.0      2.0      6.0   \n",
      "13       1.0   ...         0.0      0.0      0.0      0.0      0.0      0.0   \n",
      "14       5.0   ...         5.0     21.0     12.0      3.0      5.0      2.0   \n",
      "15       4.0   ...         1.0      0.0      0.0      5.0      4.0      0.0   \n",
      "16      15.0   ...         6.0      1.0      9.0      7.0      5.0     10.0   \n",
      "17       0.0   ...         3.0      0.0      1.0      0.0      0.0      1.0   \n",
      "18       0.0   ...         1.0      3.0      2.0      4.0      2.0      7.0   \n",
      "19      31.0   ...         0.0      1.0      2.0     10.0     19.0      7.0   \n",
      "20       7.0   ...         4.0      9.0      0.0     13.0     13.0      8.0   \n",
      "21       1.0   ...         1.0      0.0      1.0      0.0      1.0      1.0   \n",
      "22       0.0   ...         0.0      0.0      0.0      0.0      2.0      0.0   \n",
      "23       1.0   ...         0.0      1.0      0.0      0.0      2.0      3.0   \n",
      "24      22.0   ...        10.0     14.0     21.0     17.0     12.0     12.0   \n",
      "25       8.0   ...         0.0      1.0      8.0      3.0      6.0     36.0   \n",
      "26       6.0   ...        26.0     13.0     10.0      9.0     14.0     12.0   \n",
      "27      30.0   ...         5.0     16.0     10.0     40.0     46.0     66.0   \n",
      "28       7.0   ...         4.0      1.0      3.0      7.0     16.0      7.0   \n",
      "29       1.0   ...         0.0      0.0      0.0      0.0      0.0      0.0   \n",
      "30       3.0   ...         1.0      8.0      0.0      7.0      0.0      1.0   \n",
      "...      ...   ...         ...      ...      ...      ...      ...      ...   \n",
      "4970     0.0   ...        36.0      9.0     13.0     16.0     43.0     25.0   \n",
      "4971     0.0   ...         4.0     19.0     14.0     27.0     15.0     23.0   \n",
      "4972     0.0   ...        40.0     35.0     25.0     26.0     32.0     34.0   \n",
      "4973     0.0   ...        24.0     34.0     19.0     36.0     51.0     54.0   \n",
      "4974     0.0   ...         7.0     33.0     26.0      6.0      2.0      5.0   \n",
      "4975     0.0   ...        12.0     29.0     16.0     43.0     24.0     40.0   \n",
      "4976     0.0   ...        10.0     25.0     15.0     29.0     35.0     23.0   \n",
      "4977     3.0   ...         0.0      0.0      0.0      0.0      0.0      0.0   \n",
      "4978     1.0   ...         0.0      0.0      0.0      0.0      0.0      0.0   \n",
      "4979     0.0   ...         0.0      0.0      0.0      0.0      0.0      0.0   \n",
      "4980     0.0   ...         0.0      0.0      0.0      0.0      0.0      0.0   \n",
      "4981     0.0   ...         0.0      0.0      0.0      0.0      0.0      0.0   \n",
      "4982     1.0   ...         1.0      0.0      1.0      1.0      4.0      0.0   \n",
      "4983     0.0   ...         0.0      0.0      0.0      0.0      0.0      0.0   \n",
      "4984     0.0   ...         0.0      0.0      0.0      0.0      0.0      0.0   \n",
      "4985     0.0   ...         0.0      0.0      0.0      0.0      0.0      0.0   \n",
      "4986     1.0   ...         0.0      0.0      0.0      0.0      0.0      0.0   \n",
      "4987     0.0   ...         0.0      0.0      0.0      0.0      0.0      0.0   \n",
      "4988     0.0   ...         0.0      0.0      0.0      0.0      0.0      0.0   \n",
      "4989     0.0   ...         0.0      0.0      0.0     20.0      2.0      0.0   \n",
      "4990     0.0   ...         0.0      0.0      0.0     25.0      1.0     13.0   \n",
      "4991     0.0   ...         0.0      6.0      2.0     13.0      0.0      7.0   \n",
      "4992     0.0   ...         5.0     13.0     17.0     10.0      2.0      5.0   \n",
      "4993     0.0   ...         0.0      0.0      0.0      0.0      0.0      0.0   \n",
      "4994     0.0   ...         0.0      0.0      0.0      0.0      0.0      4.0   \n",
      "4995     0.0   ...         1.0      0.0      0.0      0.0      0.0      0.0   \n",
      "4996     0.0   ...         1.0      3.0      0.0      2.0      0.0      0.0   \n",
      "4997     0.0   ...         2.0      1.0      0.0      1.0      1.0      4.0   \n",
      "4998     0.0   ...         2.0      2.0      0.0      0.0      0.0      1.0   \n",
      "4999     1.0   ...         1.0      0.0      0.0      0.0      0.0      0.0   \n",
      "\n",
      "date  date_42  date_43  date_44  date_45  \n",
      "uid                                       \n",
      "1         2.0      1.0      0.0      0.0  \n",
      "2         0.0      0.0      1.0      1.0  \n",
      "3         0.0      1.0      1.0      0.0  \n",
      "4        17.0     11.0      5.0      6.0  \n",
      "5         8.0     14.0      4.0     11.0  \n",
      "6         2.0      1.0      0.0      1.0  \n",
      "7         2.0      0.0      1.0      3.0  \n",
      "8         2.0      1.0      6.0      3.0  \n",
      "9         0.0      2.0      0.0      1.0  \n",
      "10        7.0      6.0      3.0      3.0  \n",
      "11        2.0     28.0      9.0     15.0  \n",
      "12        6.0     11.0     19.0      7.0  \n",
      "13        0.0      0.0      0.0      0.0  \n",
      "14        6.0      4.0      3.0      0.0  \n",
      "15        1.0      1.0      0.0      0.0  \n",
      "16       11.0      4.0      2.0      7.0  \n",
      "17        3.0      2.0      1.0      1.0  \n",
      "18       14.0      6.0      1.0      3.0  \n",
      "19       18.0     26.0     16.0      5.0  \n",
      "20        6.0      4.0      8.0      5.0  \n",
      "21        2.0      4.0      2.0      3.0  \n",
      "22        0.0      0.0      1.0      0.0  \n",
      "23        0.0      1.0      2.0      1.0  \n",
      "24       13.0     14.0     12.0      2.0  \n",
      "25       45.0     20.0     23.0     13.0  \n",
      "26       11.0      7.0     10.0     11.0  \n",
      "27       63.0     91.0     76.0     38.0  \n",
      "28       10.0      4.0      8.0      0.0  \n",
      "29        0.0      0.0      0.0      0.0  \n",
      "30        0.0      0.0      0.0      0.0  \n",
      "...       ...      ...      ...      ...  \n",
      "4970     40.0     24.0     37.0     42.0  \n",
      "4971     24.0     30.0     20.0     20.0  \n",
      "4972     34.0     29.0     62.0     40.0  \n",
      "4973     50.0     59.0     43.0     16.0  \n",
      "4974     10.0     19.0     17.0      7.0  \n",
      "4975     10.0     12.0     32.0     17.0  \n",
      "4976      9.0     10.0      2.0     13.0  \n",
      "4977      0.0      0.0      0.0      0.0  \n",
      "4978      0.0      0.0      0.0      0.0  \n",
      "4979      0.0      0.0      0.0      0.0  \n",
      "4980      0.0      0.0      0.0      0.0  \n",
      "4981      0.0      0.0      0.0      0.0  \n",
      "4982      0.0      1.0      1.0      0.0  \n",
      "4983      0.0      0.0      0.0      0.0  \n",
      "4984      0.0      0.0      0.0      0.0  \n",
      "4985      0.0      0.0      0.0      0.0  \n",
      "4986      0.0      0.0      0.0      0.0  \n",
      "4987      0.0      0.0      0.0      0.0  \n",
      "4988      0.0      0.0      0.0      0.0  \n",
      "4989      0.0      0.0      0.0      0.0  \n",
      "4990      5.0      0.0      0.0      6.0  \n",
      "4991      1.0     11.0      0.0      0.0  \n",
      "4992      9.0      7.0     24.0      7.0  \n",
      "4993      0.0      0.0      3.0      1.0  \n",
      "4994      0.0      0.0      1.0      0.0  \n",
      "4995      1.0      0.0      0.0      0.0  \n",
      "4996      0.0      0.0      0.0      0.0  \n",
      "4997      2.0      2.0      6.0      1.0  \n",
      "4998      0.0      0.0      0.0      1.0  \n",
      "4999      1.0      0.0      0.0      0.0  \n",
      "\n",
      "[4987 rows x 46 columns]\n"
     ]
    }
   ],
   "source": [
    "print(voice_date)"
   ]
  },
  {
   "cell_type": "markdown",
   "metadata": {},
   "source": [
    "# Merge Feature 34 to 41"
   ]
  },
  {
   "cell_type": "code",
   "execution_count": 35,
   "metadata": {},
   "outputs": [],
   "source": [
    "agg = voice_opp_num\n",
    "agg = agg.join(voice_opp_len)\n",
    "agg = agg.join(voice_opp_head)\n",
    "agg = agg.join(voice_call_type)\n",
    "agg = agg.join(voice_in_out)\n",
    "agg = agg.join(voice_in_out_rate)\n",
    "agg = agg.join(voice_short_dura_count)\n",
    "agg = agg.join(voice_date)"
   ]
  },
  {
   "cell_type": "code",
   "execution_count": 38,
   "metadata": {},
   "outputs": [],
   "source": [
    "agg = agg.drop('voice_call_type_4', axis = 1)"
   ]
  },
  {
   "cell_type": "code",
   "execution_count": 40,
   "metadata": {},
   "outputs": [],
   "source": [
    "agg = agg.drop(u'date_0', axis = 1)"
   ]
  },
  {
   "cell_type": "code",
   "execution_count": 42,
   "metadata": {},
   "outputs": [
    {
     "name": "stdout",
     "output_type": "stream",
     "text": [
      "      voice_opp_num_count  voice_opp_num_unique_count  voice_opp_len_3  \\\n",
      "uid                                                                      \n",
      "1                      79                          22              0.0   \n",
      "2                       2                           2              0.0   \n",
      "3                      21                          15              0.0   \n",
      "4                     254                          77              0.0   \n",
      "5                     401                          55              0.0   \n",
      "6                      44                          21              0.0   \n",
      "7                     101                          60              0.0   \n",
      "8                     234                          71              0.0   \n",
      "9                      96                          21              0.0   \n",
      "10                    130                          37              0.0   \n",
      "11                    227                          41              0.0   \n",
      "12                    302                         123              0.0   \n",
      "13                      2                           2              0.0   \n",
      "14                    151                          48              0.0   \n",
      "15                     81                          48              0.0   \n",
      "16                    291                          92              0.0   \n",
      "17                     43                          19              0.0   \n",
      "18                    178                          29              0.0   \n",
      "19                    647                         155              1.0   \n",
      "20                    315                          56              0.0   \n",
      "21                     19                           7              0.0   \n",
      "22                     22                           6              0.0   \n",
      "23                     32                           4              0.0   \n",
      "24                    653                         143              2.0   \n",
      "25                    723                         181              0.0   \n",
      "26                    521                          61              0.0   \n",
      "27                   1618                         265              0.0   \n",
      "28                    323                          42              0.0   \n",
      "29                     13                          11              0.0   \n",
      "30                     62                          30              0.0   \n",
      "...                   ...                         ...              ...   \n",
      "4970                  415                          98              0.0   \n",
      "4971                  277                         102              0.0   \n",
      "4972                  468                         120              0.0   \n",
      "4973                  485                         133              0.0   \n",
      "4974                  180                          71              0.0   \n",
      "4975                  288                          87              0.0   \n",
      "4976                  262                          76              0.0   \n",
      "4977                   76                          20              0.0   \n",
      "4978                   97                          11              0.0   \n",
      "4979                    8                           2              0.0   \n",
      "4980                    3                           2              0.0   \n",
      "4981                    3                           1              0.0   \n",
      "4982                   35                          16              0.0   \n",
      "4983                   30                          13              0.0   \n",
      "4984                    4                           2              0.0   \n",
      "4985                    3                           3              0.0   \n",
      "4986                    1                           1              0.0   \n",
      "4987                    5                           1              0.0   \n",
      "4988                    1                           1              0.0   \n",
      "4989                   93                          23              0.0   \n",
      "4990                  324                          83              0.0   \n",
      "4991                   60                          35              0.0   \n",
      "4992                  263                          77              0.0   \n",
      "4993                   11                           7              0.0   \n",
      "4994                   25                           6              0.0   \n",
      "4995                   18                           6              0.0   \n",
      "4996                   30                          10              0.0   \n",
      "4997                   54                          12              0.0   \n",
      "4998                   18                           9              0.0   \n",
      "4999                   19                           5              0.0   \n",
      "\n",
      "      voice_opp_len_5  voice_opp_len_6  voice_opp_len_7  voice_opp_len_8  \\\n",
      "uid                                                                        \n",
      "1                 3.0              0.0              0.0              0.0   \n",
      "2                 0.0              0.0              0.0              0.0   \n",
      "3                 1.0              0.0              0.0              2.0   \n",
      "4                 1.0              0.0              0.0             12.0   \n",
      "5                 4.0              0.0              0.0              0.0   \n",
      "6                 0.0              0.0              0.0              0.0   \n",
      "7                 0.0              0.0              0.0              1.0   \n",
      "8                 3.0              0.0              0.0             19.0   \n",
      "9                 0.0              0.0              0.0              0.0   \n",
      "10                1.0              0.0              2.0              1.0   \n",
      "11                2.0              0.0              0.0              3.0   \n",
      "12                5.0              0.0              0.0              2.0   \n",
      "13                0.0              0.0              0.0              1.0   \n",
      "14                2.0              0.0              0.0              1.0   \n",
      "15                2.0              0.0              0.0              1.0   \n",
      "16                0.0              0.0              0.0              3.0   \n",
      "17                1.0              0.0              0.0              0.0   \n",
      "18                3.0              0.0              0.0              1.0   \n",
      "19               26.0              0.0              1.0             14.0   \n",
      "20                0.0              0.0              0.0             10.0   \n",
      "21                0.0              0.0              0.0              0.0   \n",
      "22                0.0              0.0              0.0              0.0   \n",
      "23                0.0              0.0              0.0              0.0   \n",
      "24                0.0              0.0              0.0              1.0   \n",
      "25                1.0              0.0              0.0              1.0   \n",
      "26                0.0              0.0              0.0              0.0   \n",
      "27                7.0              0.0              0.0              8.0   \n",
      "28                2.0              0.0              0.0              0.0   \n",
      "29                0.0              0.0              0.0              0.0   \n",
      "30                3.0              0.0              0.0              0.0   \n",
      "...               ...              ...              ...              ...   \n",
      "4970              5.0              0.0              0.0              0.0   \n",
      "4971              0.0              0.0              0.0              0.0   \n",
      "4972              2.0              0.0              0.0              1.0   \n",
      "4973              3.0              0.0              0.0              0.0   \n",
      "4974              1.0              0.0              0.0              0.0   \n",
      "4975              0.0              0.0              0.0              2.0   \n",
      "4976              0.0              0.0              0.0              0.0   \n",
      "4977              6.0              0.0             12.0              0.0   \n",
      "4978              0.0              1.0              0.0              0.0   \n",
      "4979              0.0              0.0              0.0              6.0   \n",
      "4980              2.0              0.0              0.0              0.0   \n",
      "4981              3.0              0.0              0.0              0.0   \n",
      "4982              0.0              0.0              0.0              0.0   \n",
      "4983              0.0              0.0              0.0              1.0   \n",
      "4984              0.0              0.0              0.0              0.0   \n",
      "4985              0.0              0.0              0.0              0.0   \n",
      "4986              0.0              0.0              0.0              0.0   \n",
      "4987              0.0              0.0              0.0              0.0   \n",
      "4988              0.0              0.0              0.0              0.0   \n",
      "4989              0.0              0.0              0.0              0.0   \n",
      "4990              0.0              0.0              0.0              0.0   \n",
      "4991              0.0              0.0              0.0              0.0   \n",
      "4992              0.0              0.0              0.0              0.0   \n",
      "4993              0.0              0.0              0.0              0.0   \n",
      "4994              0.0              0.0              0.0              0.0   \n",
      "4995              0.0              0.0              0.0              0.0   \n",
      "4996              2.0              0.0              0.0              0.0   \n",
      "4997              1.0              0.0              0.0              0.0   \n",
      "4998              0.0              0.0              0.0              0.0   \n",
      "4999              2.0              0.0              0.0              0.0   \n",
      "\n",
      "      voice_opp_len_9  voice_opp_len_10  voice_opp_len_11   ...     date_36  \\\n",
      "uid                                                         ...               \n",
      "1                 0.0               0.0              74.0   ...         3.0   \n",
      "2                 0.0               0.0               2.0   ...         0.0   \n",
      "3                 0.0               1.0              17.0   ...         0.0   \n",
      "4                 0.0               1.0             219.0   ...         3.0   \n",
      "5                 0.0               0.0             397.0   ...         0.0   \n",
      "6                 0.0               0.0              44.0   ...         0.0   \n",
      "7                 0.0               4.0              96.0   ...         1.0   \n",
      "8                 0.0               0.0             210.0   ...         6.0   \n",
      "9                 0.0               0.0              96.0   ...         2.0   \n",
      "10                0.0               0.0             126.0   ...         2.0   \n",
      "11                0.0               0.0             222.0   ...         8.0   \n",
      "12                0.0               6.0             284.0   ...         3.0   \n",
      "13                0.0               0.0               1.0   ...         0.0   \n",
      "14                0.0               0.0             144.0   ...         5.0   \n",
      "15                0.0               0.0              76.0   ...         1.0   \n",
      "16                1.0               0.0             268.0   ...         6.0   \n",
      "17                1.0               0.0              29.0   ...         3.0   \n",
      "18                1.0               0.0             156.0   ...         1.0   \n",
      "19                0.0               3.0             481.0   ...         0.0   \n",
      "20                4.0               0.0             274.0   ...         4.0   \n",
      "21                0.0               0.0              17.0   ...         1.0   \n",
      "22                0.0               0.0              21.0   ...         0.0   \n",
      "23                0.0               0.0              30.0   ...         0.0   \n",
      "24                1.0               0.0             613.0   ...        10.0   \n",
      "25                2.0               0.0             698.0   ...         0.0   \n",
      "26                0.0               1.0             517.0   ...        26.0   \n",
      "27                2.0               5.0            1459.0   ...         5.0   \n",
      "28                0.0               1.0             286.0   ...         4.0   \n",
      "29                0.0               1.0              11.0   ...         0.0   \n",
      "30                0.0               3.0              54.0   ...         1.0   \n",
      "...               ...               ...               ...   ...         ...   \n",
      "4970              0.0               0.0             410.0   ...        36.0   \n",
      "4971              0.0               0.0             277.0   ...         4.0   \n",
      "4972              0.0               0.0             465.0   ...        40.0   \n",
      "4973              0.0               4.0             478.0   ...        24.0   \n",
      "4974              0.0               3.0             176.0   ...         7.0   \n",
      "4975              0.0               0.0             286.0   ...        12.0   \n",
      "4976              0.0               0.0             262.0   ...        10.0   \n",
      "4977              0.0               0.0              58.0   ...         0.0   \n",
      "4978              0.0               0.0              94.0   ...         0.0   \n",
      "4979              0.0               0.0               0.0   ...         0.0   \n",
      "4980              0.0               0.0               1.0   ...         0.0   \n",
      "4981              0.0               0.0               0.0   ...         0.0   \n",
      "4982              0.0               0.0              33.0   ...         1.0   \n",
      "4983              0.0               0.0              29.0   ...         0.0   \n",
      "4984              0.0               0.0               4.0   ...         0.0   \n",
      "4985              0.0               0.0               3.0   ...         0.0   \n",
      "4986              0.0               0.0               0.0   ...         0.0   \n",
      "4987              0.0               0.0               5.0   ...         0.0   \n",
      "4988              0.0               0.0               1.0   ...         0.0   \n",
      "4989              1.0               0.0              92.0   ...         0.0   \n",
      "4990              0.0               0.0             322.0   ...         0.0   \n",
      "4991              0.0               0.0              60.0   ...         0.0   \n",
      "4992              0.0               0.0             262.0   ...         5.0   \n",
      "4993              0.0               0.0              10.0   ...         0.0   \n",
      "4994              0.0               0.0              25.0   ...         0.0   \n",
      "4995              0.0               0.0              18.0   ...         1.0   \n",
      "4996              0.0               0.0              28.0   ...         1.0   \n",
      "4997              0.0               0.0              53.0   ...         2.0   \n",
      "4998              0.0               0.0              17.0   ...         2.0   \n",
      "4999              0.0               0.0              17.0   ...         1.0   \n",
      "\n",
      "      date_37  date_38  date_39  date_40  date_41  date_42  date_43  date_44  \\\n",
      "uid                                                                            \n",
      "1         1.0      0.0      4.0      3.0      2.0      2.0      1.0      0.0   \n",
      "2         0.0      0.0      0.0      0.0      0.0      0.0      0.0      1.0   \n",
      "3         0.0      0.0      0.0      0.0      0.0      0.0      1.0      1.0   \n",
      "4        23.0      8.0     10.0      8.0     14.0     17.0     11.0      5.0   \n",
      "5         6.0      5.0     13.0     18.0      7.0      8.0     14.0      4.0   \n",
      "6         1.0      0.0      2.0      0.0      2.0      2.0      1.0      0.0   \n",
      "7         1.0      3.0      4.0      3.0      0.0      2.0      0.0      1.0   \n",
      "8         6.0      6.0      2.0      3.0      4.0      2.0      1.0      6.0   \n",
      "9         1.0      1.0      1.0      6.0      0.0      0.0      2.0      0.0   \n",
      "10        2.0      6.0      5.0      6.0      5.0      7.0      6.0      3.0   \n",
      "11        2.0      5.0      9.0      6.0      5.0      2.0     28.0      9.0   \n",
      "12        7.0     11.0      5.0      2.0      6.0      6.0     11.0     19.0   \n",
      "13        0.0      0.0      0.0      0.0      0.0      0.0      0.0      0.0   \n",
      "14       21.0     12.0      3.0      5.0      2.0      6.0      4.0      3.0   \n",
      "15        0.0      0.0      5.0      4.0      0.0      1.0      1.0      0.0   \n",
      "16        1.0      9.0      7.0      5.0     10.0     11.0      4.0      2.0   \n",
      "17        0.0      1.0      0.0      0.0      1.0      3.0      2.0      1.0   \n",
      "18        3.0      2.0      4.0      2.0      7.0     14.0      6.0      1.0   \n",
      "19        1.0      2.0     10.0     19.0      7.0     18.0     26.0     16.0   \n",
      "20        9.0      0.0     13.0     13.0      8.0      6.0      4.0      8.0   \n",
      "21        0.0      1.0      0.0      1.0      1.0      2.0      4.0      2.0   \n",
      "22        0.0      0.0      0.0      2.0      0.0      0.0      0.0      1.0   \n",
      "23        1.0      0.0      0.0      2.0      3.0      0.0      1.0      2.0   \n",
      "24       14.0     21.0     17.0     12.0     12.0     13.0     14.0     12.0   \n",
      "25        1.0      8.0      3.0      6.0     36.0     45.0     20.0     23.0   \n",
      "26       13.0     10.0      9.0     14.0     12.0     11.0      7.0     10.0   \n",
      "27       16.0     10.0     40.0     46.0     66.0     63.0     91.0     76.0   \n",
      "28        1.0      3.0      7.0     16.0      7.0     10.0      4.0      8.0   \n",
      "29        0.0      0.0      0.0      0.0      0.0      0.0      0.0      0.0   \n",
      "30        8.0      0.0      7.0      0.0      1.0      0.0      0.0      0.0   \n",
      "...       ...      ...      ...      ...      ...      ...      ...      ...   \n",
      "4970      9.0     13.0     16.0     43.0     25.0     40.0     24.0     37.0   \n",
      "4971     19.0     14.0     27.0     15.0     23.0     24.0     30.0     20.0   \n",
      "4972     35.0     25.0     26.0     32.0     34.0     34.0     29.0     62.0   \n",
      "4973     34.0     19.0     36.0     51.0     54.0     50.0     59.0     43.0   \n",
      "4974     33.0     26.0      6.0      2.0      5.0     10.0     19.0     17.0   \n",
      "4975     29.0     16.0     43.0     24.0     40.0     10.0     12.0     32.0   \n",
      "4976     25.0     15.0     29.0     35.0     23.0      9.0     10.0      2.0   \n",
      "4977      0.0      0.0      0.0      0.0      0.0      0.0      0.0      0.0   \n",
      "4978      0.0      0.0      0.0      0.0      0.0      0.0      0.0      0.0   \n",
      "4979      0.0      0.0      0.0      0.0      0.0      0.0      0.0      0.0   \n",
      "4980      0.0      0.0      0.0      0.0      0.0      0.0      0.0      0.0   \n",
      "4981      0.0      0.0      0.0      0.0      0.0      0.0      0.0      0.0   \n",
      "4982      0.0      1.0      1.0      4.0      0.0      0.0      1.0      1.0   \n",
      "4983      0.0      0.0      0.0      0.0      0.0      0.0      0.0      0.0   \n",
      "4984      0.0      0.0      0.0      0.0      0.0      0.0      0.0      0.0   \n",
      "4985      0.0      0.0      0.0      0.0      0.0      0.0      0.0      0.0   \n",
      "4986      0.0      0.0      0.0      0.0      0.0      0.0      0.0      0.0   \n",
      "4987      0.0      0.0      0.0      0.0      0.0      0.0      0.0      0.0   \n",
      "4988      0.0      0.0      0.0      0.0      0.0      0.0      0.0      0.0   \n",
      "4989      0.0      0.0     20.0      2.0      0.0      0.0      0.0      0.0   \n",
      "4990      0.0      0.0     25.0      1.0     13.0      5.0      0.0      0.0   \n",
      "4991      6.0      2.0     13.0      0.0      7.0      1.0     11.0      0.0   \n",
      "4992     13.0     17.0     10.0      2.0      5.0      9.0      7.0     24.0   \n",
      "4993      0.0      0.0      0.0      0.0      0.0      0.0      0.0      3.0   \n",
      "4994      0.0      0.0      0.0      0.0      4.0      0.0      0.0      1.0   \n",
      "4995      0.0      0.0      0.0      0.0      0.0      1.0      0.0      0.0   \n",
      "4996      3.0      0.0      2.0      0.0      0.0      0.0      0.0      0.0   \n",
      "4997      1.0      0.0      1.0      1.0      4.0      2.0      2.0      6.0   \n",
      "4998      2.0      0.0      0.0      0.0      1.0      0.0      0.0      0.0   \n",
      "4999      0.0      0.0      0.0      0.0      0.0      1.0      0.0      0.0   \n",
      "\n",
      "      date_45  \n",
      "uid            \n",
      "1         0.0  \n",
      "2         1.0  \n",
      "3         0.0  \n",
      "4         6.0  \n",
      "5        11.0  \n",
      "6         1.0  \n",
      "7         3.0  \n",
      "8         3.0  \n",
      "9         1.0  \n",
      "10        3.0  \n",
      "11       15.0  \n",
      "12        7.0  \n",
      "13        0.0  \n",
      "14        0.0  \n",
      "15        0.0  \n",
      "16        7.0  \n",
      "17        1.0  \n",
      "18        3.0  \n",
      "19        5.0  \n",
      "20        5.0  \n",
      "21        3.0  \n",
      "22        0.0  \n",
      "23        1.0  \n",
      "24        2.0  \n",
      "25       13.0  \n",
      "26       11.0  \n",
      "27       38.0  \n",
      "28        0.0  \n",
      "29        0.0  \n",
      "30        0.0  \n",
      "...       ...  \n",
      "4970     42.0  \n",
      "4971     20.0  \n",
      "4972     40.0  \n",
      "4973     16.0  \n",
      "4974      7.0  \n",
      "4975     17.0  \n",
      "4976     13.0  \n",
      "4977      0.0  \n",
      "4978      0.0  \n",
      "4979      0.0  \n",
      "4980      0.0  \n",
      "4981      0.0  \n",
      "4982      0.0  \n",
      "4983      0.0  \n",
      "4984      0.0  \n",
      "4985      0.0  \n",
      "4986      0.0  \n",
      "4987      0.0  \n",
      "4988      0.0  \n",
      "4989      0.0  \n",
      "4990      6.0  \n",
      "4991      0.0  \n",
      "4992      7.0  \n",
      "4993      1.0  \n",
      "4994      0.0  \n",
      "4995      0.0  \n",
      "4996      0.0  \n",
      "4997      1.0  \n",
      "4998      1.0  \n",
      "4999      0.0  \n",
      "\n",
      "[4987 rows x 74 columns]\n"
     ]
    }
   ],
   "source": [
    "print(agg)"
   ]
  },
  {
   "cell_type": "code",
   "execution_count": 43,
   "metadata": {},
   "outputs": [],
   "source": [
    "dict = agg.to_dict()\n",
    "agg2 = pd.DataFrame(index = range(1, 5000), data = dict)"
   ]
  },
  {
   "cell_type": "code",
   "execution_count": 44,
   "metadata": {},
   "outputs": [],
   "source": [
    "agg2 = agg2.fillna(0)\n",
    "agg2 = agg2.astype('int64')"
   ]
  },
  {
   "cell_type": "code",
   "execution_count": 46,
   "metadata": {},
   "outputs": [],
   "source": [
    "agg2.to_csv('../data/train/train_feature_34to41.csv', index=True, header=None)"
   ]
  },
  {
   "cell_type": "code",
   "execution_count": null,
   "metadata": {},
   "outputs": [],
   "source": []
  }
 ],
 "metadata": {
  "kernelspec": {
   "display_name": "Python 2",
   "language": "python",
   "name": "python2"
  },
  "language_info": {
   "codemirror_mode": {
    "name": "ipython",
    "version": 2
   },
   "file_extension": ".py",
   "mimetype": "text/x-python",
   "name": "python",
   "nbconvert_exporter": "python",
   "pygments_lexer": "ipython2",
   "version": "2.7.13"
  }
 },
 "nbformat": 4,
 "nbformat_minor": 2
}
