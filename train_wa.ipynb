{
 "cells": [
  {
   "cell_type": "code",
   "execution_count": 1,
   "metadata": {},
   "outputs": [],
   "source": [
    "%matplotlib inline"
   ]
  },
  {
   "cell_type": "code",
   "execution_count": 2,
   "metadata": {},
   "outputs": [],
   "source": [
    "import sys\n",
    "import numpy as np\n",
    "import pandas as pd\n",
    "import re as re\n",
    "import matplotlib.pyplot as plt\n",
    "import xgboost as xgb"
   ]
  },
  {
   "cell_type": "code",
   "execution_count": 3,
   "metadata": {},
   "outputs": [],
   "source": [
    "train_uid_df = pd.read_csv('../data/train/train_uid_df.csv', header = 0)"
   ]
  },
  {
   "cell_type": "code",
   "execution_count": 4,
   "metadata": {},
   "outputs": [
    {
     "name": "stdout",
     "output_type": "stream",
     "text": [
      "   uid  label\n",
      "0    1      0\n",
      "1    2      0\n",
      "2    3      0\n",
      "3    4      0\n",
      "4    5      0\n",
      "5    6      0\n",
      "6    7      0\n",
      "7    8      0\n",
      "8    9      0\n",
      "9   10      0\n"
     ]
    }
   ],
   "source": [
    "print(train_uid_df.head(10))"
   ]
  },
  {
   "cell_type": "code",
   "execution_count": 5,
   "metadata": {},
   "outputs": [
    {
     "name": "stderr",
     "output_type": "stream",
     "text": [
      "d:\\program files (x86)\\python\\lib\\site-packages\\IPython\\core\\interactiveshell.py:2718: DtypeWarning: Columns (2) have mixed types. Specify dtype option on import or set low_memory=False.\n",
      "  interactivity=interactivity, compiler=compiler, result=result)\n"
     ]
    }
   ],
   "source": [
    "train_voice_df = pd.read_csv('../data/train/train_voice_df.csv', header = 0, dtype = {'opp_num':str})"
   ]
  },
  {
   "cell_type": "code",
   "execution_count": 6,
   "metadata": {},
   "outputs": [
    {
     "name": "stdout",
     "output_type": "stream",
     "text": [
      "    uid                           opp_num opp_head  opp_len  start_time  \\\n",
      "0   113  38D54642A237A11BB18455FC1E505292      132       11    26115956   \n",
      "1   113  38D54642A237A11BB18455FC1E505292      132       11    26115623   \n",
      "2   113  38D54642A237A11BB18455FC1E505292      132       11    26174233   \n",
      "3   113  38D54642A237A11BB18455FC1E505292      132       11    26070423   \n",
      "4  3340  010A66F2AD42C48C44897A3DEC96A2A1      139       11    26201745   \n",
      "5  3340  BC16EA96F7447486FE25AC2BB7A665EF      185       11    26060320   \n",
      "6  3340  EE497EAB9DA2FB0805390237F983D454      100        7    26061046   \n",
      "7  3340  010A66F2AD42C48C44897A3DEC96A2A1      139       11    26192655   \n",
      "8  2016  5D2654B214731E788C5206A96BD6DA59      139       11    26112314   \n",
      "9  2016  084501372689ECABD58FBB3E7FF254B8      131       11    26112217   \n",
      "\n",
      "   end_time  call_type  in_out  \n",
      "0  26120033          1       1  \n",
      "1  26115707          1       1  \n",
      "2  26174321          1       1  \n",
      "3  26070512          1       0  \n",
      "4  26201825          1       1  \n",
      "5  26060349          1       1  \n",
      "6  26061115          1       0  \n",
      "7  26193840          1       1  \n",
      "8  26112403          1       1  \n",
      "9  26112311          1       0  \n"
     ]
    }
   ],
   "source": [
    "print(train_voice_df.head(10))"
   ]
  },
  {
   "cell_type": "code",
   "execution_count": 7,
   "metadata": {},
   "outputs": [],
   "source": [
    "train_sms_df = pd.read_csv('../data/train/train_sms_df.csv', header = 0, dtype = {'opp_num':str})"
   ]
  },
  {
   "cell_type": "code",
   "execution_count": 6,
   "metadata": {},
   "outputs": [],
   "source": [
    "train_wa_df = pd.read_csv('../data/train/train_wa_df.csv', header = 0)"
   ]
  },
  {
   "cell_type": "code",
   "execution_count": 7,
   "metadata": {
    "scrolled": true
   },
   "outputs": [
    {
     "ename": "NameError",
     "evalue": "name 'train_sms_df' is not defined",
     "output_type": "error",
     "traceback": [
      "\u001b[1;31m---------------------------------------------------------------------------\u001b[0m",
      "\u001b[1;31mNameError\u001b[0m                                 Traceback (most recent call last)",
      "\u001b[1;32m<ipython-input-7-07e9823d65d2>\u001b[0m in \u001b[0;36m<module>\u001b[1;34m()\u001b[0m\n\u001b[1;32m----> 1\u001b[1;33m \u001b[1;32mprint\u001b[0m\u001b[1;33m(\u001b[0m\u001b[0mtrain_sms_df\u001b[0m\u001b[1;33m.\u001b[0m\u001b[0mhead\u001b[0m\u001b[1;33m(\u001b[0m\u001b[1;36m10\u001b[0m\u001b[1;33m)\u001b[0m\u001b[1;33m)\u001b[0m\u001b[1;33m\u001b[0m\u001b[0m\n\u001b[0m",
      "\u001b[1;31mNameError\u001b[0m: name 'train_sms_df' is not defined"
     ]
    }
   ],
   "source": [
    "print(train_sms_df.head(10))"
   ]
  },
  {
   "cell_type": "code",
   "execution_count": 8,
   "metadata": {
    "scrolled": true
   },
   "outputs": [
    {
     "name": "stdout",
     "output_type": "stream",
     "text": [
      "    uid   wa_name  visit_cnt  visit_dura  up_flow  down_flow  wa_type  date\n",
      "0     1     155导航          5         207      313        457        0    14\n",
      "1     1     155导航          7         396      547        659        0     4\n",
      "2     1     155导航         10        3212      781        941        0    12\n",
      "3     1     155导航         14         723     1094       1318        0    10\n",
      "4     1     155导航         18         990     1406       1694        0    11\n",
      "5     1     360借条          2         105      112        272        1    12\n",
      "6     1     360借条          4        7428     3680       1076        1     9\n",
      "7     1     360借条         10       11419    10535       3434        1     1\n",
      "8     1     360借条         14       10051    13635       4318        1    11\n",
      "9     1     360借条         22       17542    29674       8774        1     4\n",
      "10    1     360借条         24       16316    19319       6324        1    10\n",
      "11    1  360安全中心网          3        2317      558       1250        0    14\n",
      "12    1  360安全中心网          4        6996     8308      21388        0    31\n",
      "13    1  360安全中心网         10       16928     6067      14913        0    12\n",
      "14    1  360安全中心网         23       24669    14371      31732        0     9\n"
     ]
    }
   ],
   "source": [
    "print(train_wa_df.head(15))"
   ]
  },
  {
   "cell_type": "code",
   "execution_count": 11,
   "metadata": {},
   "outputs": [],
   "source": [
    "tmp = train_voice_df['opp_head'].value_counts()"
   ]
  },
  {
   "cell_type": "code",
   "execution_count": 12,
   "metadata": {
    "scrolled": true
   },
   "outputs": [
    {
     "data": {
      "text/plain": [
       "130    185677\n",
       "139     77431\n",
       "138     73586\n",
       "132     46799\n",
       "131     43070\n",
       "137     42624\n",
       "159     38298\n",
       "186     38120\n",
       "151     37005\n",
       "189     34287\n",
       "158     34071\n",
       "152     29480\n",
       "150     27355\n",
       "180     27343\n",
       "136     26138\n",
       "133     24773\n",
       "187     23428\n",
       "153     22950\n",
       "156     22193\n",
       "182     20955\n",
       "135     20600\n",
       "130     20484\n",
       "185     18864\n",
       "51      18105\n",
       "183     16548\n",
       "181     15280\n",
       "188     14124\n",
       "177     13635\n",
       "134     11811\n",
       "173      7651\n",
       "        ...  \n",
       "680         1\n",
       "123         1\n",
       "023         1\n",
       "665         1\n",
       "666         1\n",
       "110         1\n",
       "570         1\n",
       "118         1\n",
       "572         1\n",
       "578         1\n",
       "852         1\n",
       "652         1\n",
       "081         1\n",
       "807         1\n",
       "003         1\n",
       "803         1\n",
       "881         1\n",
       "883         1\n",
       "603         1\n",
       "961         1\n",
       "894         1\n",
       "226         1\n",
       "238         1\n",
       "239         1\n",
       "286         1\n",
       "289         1\n",
       "297         1\n",
       "310         1\n",
       "333         1\n",
       "110         1\n",
       "Name: opp_head, Length: 550, dtype: int64"
      ]
     },
     "execution_count": 12,
     "metadata": {},
     "output_type": "execute_result"
    }
   ],
   "source": [
    "tmp"
   ]
  },
  {
   "cell_type": "code",
   "execution_count": 13,
   "metadata": {
    "scrolled": true
   },
   "outputs": [
    {
     "data": {
      "text/plain": [
       "1         96\n",
       "2         52\n",
       "3         27\n",
       "5         23\n",
       "7         18\n",
       "4         17\n",
       "6         15\n",
       "9         10\n",
       "12        10\n",
       "11         8\n",
       "14         8\n",
       "8          7\n",
       "33         5\n",
       "59         5\n",
       "20         5\n",
       "19         5\n",
       "21         5\n",
       "13         5\n",
       "10         5\n",
       "16         4\n",
       "40         4\n",
       "75         4\n",
       "24         4\n",
       "28         4\n",
       "18         4\n",
       "17         3\n",
       "34         3\n",
       "49         3\n",
       "41         3\n",
       "39         3\n",
       "          ..\n",
       "209        1\n",
       "202        1\n",
       "24773      1\n",
       "1213       1\n",
       "16548      1\n",
       "976        1\n",
       "34071      1\n",
       "293        1\n",
       "1509       1\n",
       "319        1\n",
       "7651       1\n",
       "1505       1\n",
       "20955      1\n",
       "473        1\n",
       "465        1\n",
       "459        1\n",
       "451        1\n",
       "441        1\n",
       "18864      1\n",
       "22950      1\n",
       "38298      1\n",
       "409        1\n",
       "391        1\n",
       "1409       1\n",
       "379        1\n",
       "1401       1\n",
       "337        1\n",
       "185677     1\n",
       "13635      1\n",
       "163        1\n",
       "Name: opp_head, Length: 187, dtype: int64"
      ]
     },
     "execution_count": 13,
     "metadata": {},
     "output_type": "execute_result"
    }
   ],
   "source": [
    "tmp.value_counts()"
   ]
  },
  {
   "cell_type": "code",
   "execution_count": 14,
   "metadata": {
    "scrolled": true
   },
   "outputs": [
    {
     "data": {
      "text/plain": [
       "3902    8129\n",
       "3616    5970\n",
       "4173    4766\n",
       "2341    4734\n",
       "4484    4048\n",
       "4498    3919\n",
       "4488    3677\n",
       "3463    3511\n",
       "4460    3111\n",
       "4472    3058\n",
       "2425    2945\n",
       "4534    2873\n",
       "3709    2789\n",
       "3277    2692\n",
       "4780    2664\n",
       "4476    2614\n",
       "4482    2609\n",
       "4445    2605\n",
       "905     2550\n",
       "4471    2450\n",
       "4510    2423\n",
       "2819    2385\n",
       "3296    2374\n",
       "2146    2357\n",
       "819     2341\n",
       "75      2320\n",
       "4459    2313\n",
       "4495    2266\n",
       "4829    2253\n",
       "4466    2233\n",
       "        ... \n",
       "3367       1\n",
       "4414       1\n",
       "3915       1\n",
       "579        1\n",
       "3822       1\n",
       "559        1\n",
       "4725       1\n",
       "4327       1\n",
       "993        1\n",
       "501        1\n",
       "1742       1\n",
       "3297       1\n",
       "2762       1\n",
       "4383       1\n",
       "3476       1\n",
       "4916       1\n",
       "38         1\n",
       "4917       1\n",
       "989        1\n",
       "4988       1\n",
       "894        1\n",
       "215        1\n",
       "3039       1\n",
       "2974       1\n",
       "4128       1\n",
       "4739       1\n",
       "3519       1\n",
       "4311       1\n",
       "4413       1\n",
       "684        1\n",
       "Name: uid, Length: 4987, dtype: int64"
      ]
     },
     "execution_count": 14,
     "metadata": {},
     "output_type": "execute_result"
    }
   ],
   "source": [
    "train_voice_df['uid'].value_counts()"
   ]
  },
  {
   "cell_type": "code",
   "execution_count": 15,
   "metadata": {},
   "outputs": [
    {
     "data": {
      "text/plain": [
       "0    4099\n",
       "1     900\n",
       "Name: label, dtype: int64"
      ]
     },
     "execution_count": 15,
     "metadata": {},
     "output_type": "execute_result"
    }
   ],
   "source": [
    "train_uid_df.label.value_counts()"
   ]
  },
  {
   "cell_type": "code",
   "execution_count": 16,
   "metadata": {},
   "outputs": [
    {
     "data": {
      "image/png": "[encoded data removed]",
      "text/plain": [
       "<Figure size 432x288 with 1 Axes>"
      ]
     },
     "metadata": {},
     "output_type": "display_data"
    }
   ],
   "source": [
    "plt.scatter(train_uid_df.uid, train_uid_df.label)\n",
    "plt.ylabel(u\"label\")\n",
    "plt.xlabel(u\"uid\")\n",
    "plt.title(u\"label-uid(1:danger)\")\n",
    "plt.show()"
   ]
  },
  {
   "cell_type": "code",
   "execution_count": 18,
   "metadata": {},
   "outputs": [
    {
     "name": "stdout",
     "output_type": "stream",
     "text": [
      "<class 'pandas.core.frame.DataFrame'>\n",
      "RangeIndex: 4807542 entries, 0 to 4807541\n",
      "Data columns (total 8 columns):\n",
      "uid           int64\n",
      "wa_name       object\n",
      "visit_cnt     int64\n",
      "visit_dura    int64\n",
      "up_flow       int64\n",
      "down_flow     int64\n",
      "wa_type       int64\n",
      "date          int64\n",
      "dtypes: int64(7), object(1)\n",
      "memory usage: 293.4+ MB\n",
      "None\n"
     ]
    }
   ],
   "source": [
    "print(train_wa_df.info())"
   ]
  },
  {
   "cell_type": "code",
   "execution_count": 19,
   "metadata": {},
   "outputs": [
    {
     "name": "stdout",
     "output_type": "stream",
     "text": [
      "    uid   wa_name  visit_cnt  visit_dura  up_flow  down_flow  wa_type  date\n",
      "0     1     155导航          5         207      313        457        0    14\n",
      "1     1     155导航          7         396      547        659        0     4\n",
      "2     1     155导航         10        3212      781        941        0    12\n",
      "3     1     155导航         14         723     1094       1318        0    10\n",
      "4     1     155导航         18         990     1406       1694        0    11\n",
      "5     1     360借条          2         105      112        272        1    12\n",
      "6     1     360借条          4        7428     3680       1076        1     9\n",
      "7     1     360借条         10       11419    10535       3434        1     1\n",
      "8     1     360借条         14       10051    13635       4318        1    11\n",
      "9     1     360借条         22       17542    29674       8774        1     4\n",
      "10    1     360借条         24       16316    19319       6324        1    10\n",
      "11    1  360安全中心网          3        2317      558       1250        0    14\n",
      "12    1  360安全中心网          4        6996     8308      21388        0    31\n",
      "13    1  360安全中心网         10       16928     6067      14913        0    12\n",
      "14    1  360安全中心网         23       24669    14371      31732        0     9\n",
      "15    1  360安全中心网        109      105763    71003     127963        0     1\n",
      "16    1  360安全中心网        131      141209    89519     188140        0    11\n",
      "17    1  360安全中心网        207      237612   155229     303205        0    10\n",
      "18    1  360安全中心网        215      301351   216340     425251        0     4\n",
      "19    1   360影视大全          1        1000      485        815        0    14\n"
     ]
    }
   ],
   "source": [
    "print(train_wa_df.head(20))"
   ]
  },
  {
   "cell_type": "code",
   "execution_count": 12,
   "metadata": {
    "scrolled": true
   },
   "outputs": [
    {
     "name": "stdout",
     "output_type": "stream",
     "text": [
      "1       1155\n",
      "2         29\n",
      "3       1167\n",
      "4       1680\n",
      "5        641\n",
      "6        485\n",
      "7       1316\n",
      "8       1068\n",
      "9       1068\n",
      "10        87\n",
      "11      1148\n",
      "12      1655\n",
      "13      1433\n",
      "14      1312\n",
      "15       286\n",
      "16       827\n",
      "17       841\n",
      "18         6\n",
      "19      1230\n",
      "20       883\n",
      "21         1\n",
      "22       548\n",
      "23       385\n",
      "24      1388\n",
      "25       759\n",
      "26      1228\n",
      "27      1865\n",
      "28       714\n",
      "29      2507\n",
      "30      1505\n",
      "        ... \n",
      "4970     230\n",
      "4971     245\n",
      "4972     255\n",
      "4973     285\n",
      "4974     125\n",
      "4975     151\n",
      "4976     279\n",
      "4977     130\n",
      "4978    1380\n",
      "4979      23\n",
      "4980     312\n",
      "4981     511\n",
      "4982    1675\n",
      "4983     955\n",
      "4984     929\n",
      "4985      72\n",
      "4986      20\n",
      "4987      10\n",
      "4988      41\n",
      "4989      89\n",
      "4990     605\n",
      "4991     379\n",
      "4992     225\n",
      "4993     839\n",
      "4994     408\n",
      "4995    1225\n",
      "4996     955\n",
      "4997     832\n",
      "4998     872\n",
      "4999     565\n",
      "Name: uid, Length: 4945, dtype: int64\n"
     ]
    }
   ],
   "source": [
    "tmp = train_wa_df.uid.value_counts()\n",
    "tmp = tmp.sort_index()\n",
    "print(tmp)"
   ]
  },
  {
   "cell_type": "code",
   "execution_count": 13,
   "metadata": {},
   "outputs": [
    {
     "data": {
      "text/plain": [
       "<matplotlib.axes._subplots.AxesSubplot at 0x332934a8>"
      ]
     },
     "execution_count": 13,
     "metadata": {},
     "output_type": "execute_result"
    },
    {
     "data": {
      "image/png": "[encoded data removed]",
      "text/plain": [
       "<Figure size 432x288 with 1 Axes>"
      ]
     },
     "metadata": {},
     "output_type": "display_data"
    }
   ],
   "source": [
    "tmp.plot(kind='bar')"
   ]
  },
  {
   "cell_type": "code",
   "execution_count": 15,
   "metadata": {},
   "outputs": [
    {
     "data": {
      "text/plain": [
       "<matplotlib.axes._subplots.AxesSubplot at 0x202936a0>"
      ]
     },
     "execution_count": 15,
     "metadata": {},
     "output_type": "execute_result"
    },
    {
     "data": {
      "image/png": "[encoded data removed]",
      "text/plain": [
       "<Figure size 432x288 with 1 Axes>"
      ]
     },
     "metadata": {},
     "output_type": "display_data"
    }
   ],
   "source": [
    "tmp[tmp.index >= 4100].plot(kind='bar')"
   ]
  },
  {
   "cell_type": "code",
   "execution_count": 16,
   "metadata": {},
   "outputs": [
    {
     "data": {
      "text/plain": [
       "<matplotlib.axes._subplots.AxesSubplot at 0x3a658cf8>"
      ]
     },
     "execution_count": 16,
     "metadata": {},
     "output_type": "execute_result"
    },
    {
     "data": {
      "image/png": "[encoded data removed]",
      "text/plain": [
       "<Figure size 432x288 with 1 Axes>"
      ]
     },
     "metadata": {},
     "output_type": "display_data"
    }
   ],
   "source": [
    "tmp[tmp.index < 4100].plot(kind='bar')"
   ]
  },
  {
   "cell_type": "code",
   "execution_count": 17,
   "metadata": {},
   "outputs": [],
   "source": [
    "tmp1 = tmp[tmp.index < 4100]\n",
    "tmp2 = tmp[tmp.index >= 4100]"
   ]
  },
  {
   "cell_type": "code",
   "execution_count": 20,
   "metadata": {},
   "outputs": [
    {
     "name": "stdout",
     "output_type": "stream",
     "text": [
      "count    4048.000000\n",
      "mean      925.246789\n",
      "std       872.481519\n",
      "min         1.000000\n",
      "25%       152.000000\n",
      "50%       741.500000\n",
      "75%      1432.000000\n",
      "max      6128.000000\n",
      "Name: uid, dtype: float64\n"
     ]
    }
   ],
   "source": [
    "print(tmp1.describe())"
   ]
  },
  {
   "cell_type": "code",
   "execution_count": 21,
   "metadata": {},
   "outputs": [
    {
     "name": "stdout",
     "output_type": "stream",
     "text": [
      "count     897.000000\n",
      "mean     1184.105909\n",
      "std      1043.490662\n",
      "min         1.000000\n",
      "25%       246.000000\n",
      "50%       934.000000\n",
      "75%      1943.000000\n",
      "max      6037.000000\n",
      "Name: uid, dtype: float64\n"
     ]
    }
   ],
   "source": [
    "print(tmp2.describe())"
   ]
  },
  {
   "cell_type": "code",
   "execution_count": 24,
   "metadata": {},
   "outputs": [],
   "source": [
    "tmp.to_csv('../data/train/train_feature_num_records.csv', index=True)"
   ]
  },
  {
   "cell_type": "code",
   "execution_count": 30,
   "metadata": {},
   "outputs": [],
   "source": [
    "dict = tmp.to_dict()"
   ]
  },
  {
   "cell_type": "code",
   "execution_count": 31,
   "metadata": {},
   "outputs": [
    {
     "name": "stdout",
     "output_type": "stream",
     "text": [
      "{1L: 1155L, 2L: 29L, 3L: 1167L, 4L: 1680L, 5L: 641L, 6L: 485L, 7L: 1316L, 8L: 1068L, 9L: 1068L, 10L: 87L, 11L: 1148L, 12L: 1655L, 13L: 1433L, 14L: 1312L, 15L: 286L, 16L: 827L, 17L: 841L, 18L: 6L, 19L: 1230L, 20L: 883L, 21L: 1L, 22L: 548L, 23L: 385L, 24L: 1388L, 25L: 759L, 26L: 1228L, 27L: 1865L, 28L: 714L, 29L: 2507L, 30L: 1505L, 31L: 2001L, 32L: 2178L, 33L: 768L, 34L: 1366L, 36L: 4L, 37L: 1865L, 38L: 338L, 39L: 475L, 40L: 25L, 41L: 790L, 42L: 1004L, 43L: 1170L, 44L: 1637L, 45L: 2841L, 46L: 30L, 47L: 707L, 48L: 1599L, 49L: 639L, 50L: 1763L, 51L: 1598L, 53L: 1064L, 54L: 581L, 55L: 177L, 56L: 121L, 57L: 1422L, 58L: 846L, 59L: 17L, 60L: 1L, 61L: 22L, 62L: 20L, 63L: 899L, 64L: 310L, 65L: 1118L, 66L: 5L, 67L: 1076L, 68L: 187L, 69L: 2L, 70L: 580L, 71L: 1516L, 72L: 723L, 73L: 38L, 74L: 335L, 75L: 1479L, 76L: 1167L, 77L: 315L, 78L: 1145L, 79L: 2692L, 80L: 1103L, 81L: 607L, 82L: 1752L, 83L: 1671L, 84L: 522L, 85L: 450L, 86L: 137L, 87L: 464L, 88L: 753L, 89L: 129L, 90L: 1L, 91L: 726L, 92L: 792L, 93L: 1122L, 94L: 1061L, 95L: 332L, 96L: 3L, 97L: 1207L, 98L: 1287L, 99L: 2436L, 100L: 661L, 101L: 755L, 102L: 805L, 103L: 238L, 104L: 565L, 105L: 19L, 106L: 816L, 107L: 935L, 108L: 1430L, 109L: 1507L, 110L: 812L, 111L: 640L, 112L: 435L, 113L: 1219L, 114L: 1549L, 115L: 199L, 116L: 1040L, 117L: 1129L, 118L: 1119L, 119L: 2706L, 120L: 713L, 121L: 423L, 122L: 471L, 123L: 290L, 124L: 576L, 125L: 5L, 126L: 2199L, 127L: 520L, 128L: 119L, 129L: 510L, 130L: 1749L, 131L: 279L, 132L: 2212L, 133L: 1095L, 134L: 2482L, 135L: 1146L, 136L: 551L, 137L: 897L, 138L: 1744L, 139L: 1441L, 140L: 3343L, 141L: 949L, 143L: 1798L, 144L: 2618L, 145L: 3171L, 146L: 349L, 147L: 1782L, 148L: 792L, 149L: 999L, 150L: 1168L, 151L: 927L, 152L: 927L, 153L: 2054L, 154L: 908L, 155L: 1022L, 156L: 1071L, 157L: 25L, 158L: 1L, 159L: 222L, 160L: 2243L, 161L: 1724L, 162L: 208L, 163L: 95L, 164L: 324L, 165L: 1774L, 166L: 1483L, 167L: 1162L, 169L: 249L, 170L: 676L, 171L: 510L, 172L: 236L, 173L: 6L, 174L: 866L, 175L: 1797L, 176L: 2022L, 177L: 544L, 178L: 949L, 179L: 1725L, 180L: 1714L, 181L: 764L, 182L: 1921L, 183L: 559L, 184L: 572L, 185L: 778L, 186L: 102L, 187L: 956L, 188L: 225L, 189L: 2483L, 190L: 971L, 191L: 1744L, 192L: 627L, 193L: 892L, 194L: 2510L, 195L: 570L, 196L: 1385L, 197L: 202L, 198L: 1418L, 199L: 335L, 200L: 1262L, 201L: 534L, 202L: 378L, 203L: 452L, 204L: 1645L, 205L: 14L, 206L: 53L, 207L: 1029L, 208L: 4L, 209L: 1415L, 210L: 1383L, 211L: 981L, 212L: 2192L, 213L: 7L, 214L: 1487L, 215L: 68L, 216L: 1759L, 217L: 317L, 218L: 1792L, 219L: 9L, 220L: 22L, 221L: 2503L, 222L: 802L, 223L: 4L, 224L: 1379L, 225L: 889L, 226L: 1997L, 227L: 7L, 228L: 387L, 229L: 1518L, 230L: 1367L, 231L: 2L, 232L: 759L, 233L: 587L, 234L: 1120L, 235L: 808L, 236L: 302L, 237L: 35L, 238L: 2210L, 239L: 1212L, 240L: 1264L, 241L: 1L, 242L: 1181L, 243L: 2573L, 244L: 879L, 245L: 1061L, 246L: 1L, 247L: 1438L, 248L: 3L, 249L: 1L, 250L: 2L, 251L: 6L, 252L: 2172L, 253L: 2208L, 254L: 20L, 255L: 1082L, 256L: 3L, 257L: 1045L, 258L: 510L, 259L: 457L, 260L: 410L, 261L: 86L, 262L: 1559L, 263L: 24L, 264L: 344L, 265L: 1703L, 266L: 303L, 267L: 881L, 268L: 681L, 269L: 14L, 270L: 1104L, 271L: 1446L, 272L: 1019L, 273L: 843L, 274L: 3557L, 275L: 17L, 276L: 1307L, 277L: 8L, 278L: 1633L, 279L: 589L, 280L: 5L, 281L: 42L, 282L: 9L, 283L: 34L, 284L: 180L, 285L: 788L, 286L: 755L, 287L: 8L, 288L: 25L, 289L: 2767L, 290L: 190L, 291L: 802L, 292L: 18L, 293L: 811L, 294L: 878L, 295L: 1443L, 296L: 935L, 297L: 1206L, 298L: 2310L, 299L: 1468L, 300L: 101L, 301L: 1766L, 302L: 573L, 303L: 23L, 304L: 2136L, 305L: 959L, 306L: 225L, 307L: 160L, 308L: 279L, 309L: 725L, 310L: 926L, 311L: 453L, 312L: 73L, 313L: 2544L, 314L: 178L, 315L: 1723L, 316L: 666L, 317L: 1697L, 318L: 133L, 319L: 18L, 320L: 440L, 321L: 984L, 322L: 22L, 323L: 51L, 324L: 4160L, 325L: 1230L, 326L: 337L, 327L: 3404L, 328L: 753L, 329L: 695L, 330L: 2904L, 331L: 1179L, 332L: 227L, 333L: 2464L, 334L: 380L, 335L: 1543L, 336L: 4993L, 337L: 1014L, 338L: 365L, 339L: 1619L, 340L: 341L, 341L: 530L, 342L: 1093L, 343L: 176L, 344L: 2297L, 345L: 626L, 346L: 87L, 347L: 68L, 348L: 292L, 349L: 721L, 350L: 1087L, 351L: 789L, 352L: 885L, 353L: 445L, 354L: 62L, 355L: 1165L, 356L: 80L, 357L: 295L, 358L: 290L, 359L: 2L, 360L: 2467L, 361L: 2429L, 362L: 4L, 363L: 1259L, 364L: 1233L, 365L: 929L, 366L: 321L, 367L: 661L, 368L: 1203L, 369L: 146L, 370L: 1489L, 371L: 1519L, 372L: 147L, 373L: 8L, 374L: 76L, 375L: 16L, 376L: 1225L, 377L: 301L, 378L: 156L, 379L: 1L, 380L: 337L, 381L: 668L, 382L: 2106L, 383L: 1701L, 384L: 77L, 385L: 1164L, 386L: 791L, 387L: 851L, 388L: 253L, 389L: 67L, 390L: 1058L, 391L: 1781L, 392L: 521L, 393L: 4L, 394L: 2906L, 395L: 35L, 396L: 361L, 397L: 655L, 398L: 1641L, 399L: 2061L, 400L: 780L, 401L: 2622L, 402L: 1705L, 403L: 3129L, 404L: 46L, 405L: 759L, 406L: 1319L, 407L: 852L, 408L: 3518L, 409L: 100L, 410L: 311L, 411L: 8L, 412L: 15L, 413L: 1934L, 414L: 788L, 415L: 1304L, 416L: 11L, 417L: 972L, 418L: 2372L, 419L: 734L, 420L: 336L, 421L: 731L, 423L: 844L, 424L: 2255L, 425L: 615L, 426L: 244L, 427L: 166L, 428L: 334L, 429L: 121L, 430L: 9L, 431L: 2605L, 432L: 446L, 433L: 279L, 434L: 311L, 435L: 3L, 436L: 1L, 437L: 130L, 438L: 1446L, 439L: 2055L, 440L: 1746L, 441L: 3L, 442L: 1493L, 443L: 1478L, 444L: 1437L, 445L: 2243L, 446L: 386L, 447L: 1463L, 448L: 361L, 449L: 1840L, 450L: 544L, 451L: 860L, 452L: 172L, 453L: 80L, 454L: 15L, 455L: 909L, 456L: 718L, 457L: 2761L, 459L: 171L, 460L: 994L, 461L: 137L, 462L: 1588L, 463L: 1676L, 464L: 3774L, 465L: 9L, 466L: 2539L, 467L: 6L, 468L: 1616L, 469L: 836L, 470L: 193L, 471L: 2144L, 472L: 347L, 473L: 23L, 474L: 25L, 475L: 2316L, 476L: 29L, 477L: 656L, 478L: 31L, 479L: 1133L, 480L: 977L, 481L: 1930L, 482L: 2091L, 483L: 2187L, 484L: 1974L, 485L: 2L, 486L: 9L, 487L: 2014L, 488L: 46L, 489L: 1900L, 490L: 11L, 491L: 755L, 492L: 58L, 493L: 427L, 494L: 596L, 495L: 791L, 496L: 2L, 497L: 1348L, 498L: 1330L, 499L: 7L, 500L: 47L, 501L: 56L, 502L: 20L, 503L: 34L, 504L: 116L, 505L: 1422L, 506L: 1719L, 507L: 886L, 508L: 860L, 509L: 223L, 510L: 1077L, 511L: 1098L, 512L: 5L, 513L: 47L, 514L: 971L, 515L: 38L, 516L: 869L, 517L: 7L, 518L: 129L, 519L: 2L, 520L: 262L, 521L: 538L, 522L: 823L, 523L: 1213L, 524L: 9L, 525L: 206L, 526L: 103L, 527L: 122L, 528L: 161L, 529L: 502L, 530L: 1453L, 531L: 2076L, 532L: 257L, 533L: 28L, 534L: 31L, 535L: 158L, 536L: 129L, 537L: 1418L, 538L: 979L, 539L: 2206L, 540L: 198L, 541L: 199L, 542L: 90L, 543L: 1074L, 544L: 412L, 545L: 3107L, 546L: 1969L, 547L: 450L, 548L: 2L, 549L: 585L, 550L: 322L, 551L: 846L, 552L: 1L, 553L: 489L, 554L: 1102L, 555L: 199L, 556L: 1747L, 557L: 2572L, 558L: 1220L, 559L: 1403L, 560L: 549L, 561L: 1337L, 562L: 1477L, 563L: 941L, 564L: 26L, 565L: 522L, 566L: 1383L, 567L: 1426L, 568L: 2190L, 569L: 15L, 570L: 1085L, 571L: 1120L, 572L: 852L, 573L: 23L, 574L: 5L, 575L: 1L, 576L: 561L, 577L: 1371L, 578L: 10L, 579L: 1035L, 580L: 1770L, 581L: 2L, 582L: 810L, 583L: 38L, 584L: 1345L, 585L: 506L, 586L: 58L, 587L: 345L, 588L: 728L, 589L: 2824L, 590L: 688L, 591L: 1375L, 593L: 1404L, 594L: 382L, 595L: 2L, 596L: 82L, 597L: 1022L, 598L: 151L, 599L: 21L, 600L: 759L, 601L: 394L, 602L: 467L, 603L: 1511L, 604L: 1049L, 605L: 117L, 606L: 605L, 607L: 259L, 608L: 2988L, 609L: 4L, 610L: 1303L, 611L: 25L, 612L: 817L, 613L: 327L, 614L: 370L, 615L: 8L, 616L: 2174L, 617L: 938L, 618L: 1222L, 619L: 434L, 620L: 2264L, 621L: 90L, 622L: 2L, 623L: 515L, 624L: 5L, 625L: 3L, 626L: 58L, 627L: 48L, 628L: 567L, 629L: 6L, 630L: 17L, 631L: 651L, 632L: 1314L, 633L: 134L, 634L: 1476L, 635L: 2040L, 636L: 442L, 637L: 22L, 638L: 3324L, 639L: 603L, 640L: 832L, 641L: 441L, 642L: 266L, 644L: 485L, 645L: 993L, 646L: 1L, 647L: 993L, 648L: 629L, 649L: 172L, 650L: 161L, 651L: 610L, 652L: 1838L, 653L: 554L, 654L: 2142L, 655L: 1045L, 656L: 664L, 657L: 1648L, 658L: 342L, 659L: 2111L, 660L: 3L, 661L: 231L, 662L: 4283L, 663L: 14L, 664L: 256L, 665L: 902L, 666L: 313L, 667L: 655L, 668L: 394L, 669L: 10L, 670L: 791L, 671L: 1986L, 672L: 1490L, 673L: 1165L, 674L: 418L, 675L: 1031L, 676L: 114L, 677L: 513L, 678L: 1148L, 679L: 245L, 680L: 781L, 681L: 1957L, 682L: 1849L, 683L: 587L, 684L: 18L, 685L: 338L, 686L: 2212L, 687L: 12L, 688L: 126L, 689L: 1650L, 690L: 261L, 691L: 1521L, 692L: 2782L, 693L: 793L, 694L: 3L, 695L: 1570L, 696L: 2105L, 697L: 1099L, 698L: 1294L, 699L: 961L, 700L: 570L, 701L: 1126L, 702L: 411L, 703L: 2544L, 704L: 2616L, 705L: 58L, 706L: 155L, 707L: 11L, 709L: 3204L, 710L: 492L, 711L: 28L, 712L: 373L, 713L: 3L, 714L: 1002L, 715L: 509L, 716L: 816L, 717L: 681L, 718L: 895L, 719L: 1109L, 720L: 1934L, 721L: 3L, 722L: 1358L, 723L: 2701L, 724L: 127L, 725L: 1821L, 726L: 119L, 727L: 224L, 728L: 743L, 729L: 873L, 730L: 1468L, 731L: 854L, 732L: 1447L, 733L: 608L, 734L: 629L, 735L: 552L, 736L: 977L, 737L: 151L, 738L: 746L, 739L: 1022L, 740L: 483L, 741L: 1481L, 742L: 110L, 743L: 3757L, 744L: 1118L, 745L: 1766L, 746L: 2617L, 747L: 542L, 748L: 482L, 749L: 1055L, 750L: 2750L, 751L: 28L, 752L: 530L, 753L: 419L, 754L: 1854L, 755L: 1348L, 756L: 1680L, 757L: 154L, 758L: 52L, 759L: 786L, 760L: 958L, 761L: 3126L, 762L: 2989L, 763L: 371L, 764L: 16L, 765L: 3057L, 767L: 1364L, 768L: 24L, 769L: 613L, 770L: 611L, 771L: 1780L, 772L: 1682L, 773L: 2674L, 774L: 2170L, 775L: 103L, 776L: 12L, 777L: 440L, 778L: 1491L, 779L: 758L, 780L: 18L, 781L: 1698L, 782L: 15L, 783L: 2890L, 784L: 245L, 785L: 1062L, 786L: 155L, 787L: 189L, 788L: 866L, 789L: 801L, 790L: 3L, 791L: 1589L, 792L: 609L, 793L: 2752L, 794L: 1278L, 795L: 518L, 796L: 2486L, 797L: 2023L, 798L: 1767L, 799L: 264L, 800L: 236L, 801L: 550L, 802L: 410L, 803L: 25L, 804L: 682L, 805L: 4792L, 806L: 62L, 807L: 99L, 808L: 1257L, 809L: 1910L, 810L: 5L, 811L: 976L, 812L: 1047L, 813L: 4L, 814L: 339L, 815L: 241L, 816L: 1536L, 817L: 38L, 818L: 1438L, 819L: 2163L, 820L: 117L, 821L: 471L, 822L: 511L, 823L: 1217L, 824L: 1491L, 825L: 1L, 826L: 464L, 827L: 18L, 828L: 25L, 829L: 21L, 830L: 2873L, 831L: 348L, 832L: 2371L, 833L: 304L, 834L: 1380L, 836L: 644L, 837L: 467L, 838L: 88L, 839L: 561L, 840L: 282L, 841L: 1678L, 842L: 1L, 843L: 6L, 844L: 15L, 845L: 1L, 846L: 612L, 847L: 430L, 848L: 897L, 849L: 1265L, 850L: 408L, 851L: 878L, 852L: 1445L, 853L: 565L, 854L: 1604L, 855L: 163L, 856L: 25L, 857L: 334L, 858L: 109L, 859L: 981L, 860L: 576L, 861L: 3032L, 862L: 1754L, 863L: 2260L, 864L: 210L, 865L: 1828L, 866L: 1406L, 867L: 753L, 868L: 1308L, 869L: 2042L, 870L: 193L, 871L: 29L, 872L: 1253L, 873L: 1086L, 874L: 99L, 875L: 1480L, 876L: 45L, 877L: 353L, 878L: 1092L, 879L: 1241L, 880L: 2120L, 881L: 1523L, 882L: 860L, 883L: 1633L, 884L: 1646L, 885L: 1202L, 887L: 2328L, 888L: 879L, 889L: 466L, 890L: 1747L, 891L: 1332L, 892L: 1727L, 893L: 1040L, 894L: 176L, 895L: 576L, 896L: 227L, 897L: 1556L, 898L: 1204L, 899L: 679L, 900L: 887L, 901L: 458L, 902L: 1779L, 903L: 1275L, 904L: 349L, 905L: 1973L, 906L: 1372L, 907L: 2465L, 908L: 1L, 909L: 1607L, 910L: 530L, 911L: 2138L, 912L: 2494L, 913L: 96L, 914L: 88L, 915L: 1225L, 916L: 82L, 917L: 700L, 918L: 1406L, 919L: 1442L, 920L: 447L, 921L: 149L, 922L: 582L, 923L: 1365L, 924L: 3L, 925L: 1L, 926L: 1737L, 927L: 4L, 928L: 589L, 929L: 25L, 930L: 460L, 931L: 2385L, 932L: 168L, 933L: 1250L, 934L: 127L, 935L: 1313L, 936L: 890L, 937L: 1030L, 938L: 679L, 939L: 69L, 940L: 2805L, 941L: 31L, 942L: 51L, 943L: 298L, 944L: 3L, 945L: 438L, 946L: 1142L, 947L: 1432L, 948L: 4L, 949L: 1196L, 950L: 492L, 951L: 268L, 952L: 789L, 953L: 8L, 954L: 67L, 955L: 1271L, 956L: 336L, 957L: 472L, 958L: 362L, 959L: 692L, 960L: 356L, 961L: 1403L, 962L: 1980L, 963L: 473L, 964L: 232L, 965L: 204L, 966L: 1406L, 967L: 138L, 968L: 808L, 969L: 4L, 970L: 17L, 971L: 31L, 972L: 878L, 973L: 2663L, 974L: 2958L, 975L: 3120L, 976L: 351L, 977L: 898L, 978L: 5L, 979L: 803L, 981L: 1430L, 982L: 3122L, 983L: 1278L, 984L: 880L, 985L: 1475L, 986L: 521L, 987L: 1375L, 988L: 1526L, 989L: 2565L, 990L: 2L, 991L: 1445L, 992L: 142L, 994L: 720L, 995L: 2L, 996L: 337L, 997L: 1740L, 998L: 1323L, 999L: 474L, 1000L: 40L, 1001L: 13L, 1002L: 95L, 1003L: 366L, 1004L: 1361L, 1005L: 1885L, 1006L: 53L, 1007L: 3L, 1008L: 53L, 1009L: 1044L, 1010L: 2L, 1011L: 400L, 1012L: 12L, 1013L: 30L, 1014L: 910L, 1015L: 22L, 1016L: 1052L, 1017L: 1239L, 1018L: 600L, 1019L: 2227L, 1020L: 844L, 1021L: 812L, 1022L: 3780L, 1023L: 1759L, 1024L: 1169L, 1025L: 1360L, 1026L: 693L, 1027L: 1665L, 1028L: 282L, 1029L: 1492L, 1030L: 1515L, 1031L: 1260L, 1032L: 5L, 1033L: 784L, 1034L: 1998L, 1035L: 55L, 1036L: 9L, 1037L: 4L, 1038L: 619L, 1039L: 847L, 1040L: 1230L, 1041L: 1914L, 1042L: 550L, 1043L: 80L, 1044L: 751L, 1045L: 544L, 1046L: 26L, 1047L: 80L, 1048L: 89L, 1049L: 2L, 1050L: 989L, 1051L: 28L, 1052L: 2187L, 1053L: 1026L, 1054L: 769L, 1055L: 1026L, 1056L: 1L, 1057L: 887L, 1058L: 273L, 1059L: 440L, 1060L: 577L, 1061L: 1019L, 1062L: 1158L, 1063L: 1465L, 1064L: 110L, 1065L: 1988L, 1066L: 585L, 1067L: 152L, 1068L: 601L, 1069L: 883L, 1070L: 129L, 1071L: 331L, 1072L: 329L, 1073L: 575L, 1074L: 918L, 1075L: 873L, 1076L: 1777L, 1077L: 1069L, 1078L: 1307L, 1079L: 869L, 1080L: 372L, 1081L: 1118L, 1082L: 576L, 1083L: 1718L, 1085L: 1374L, 1086L: 75L, 1087L: 827L, 1088L: 37L, 1089L: 438L, 1090L: 1409L, 1092L: 541L, 1093L: 1605L, 1094L: 97L, 1095L: 1898L, 1096L: 2677L, 1097L: 3L, 1098L: 456L, 1099L: 408L, 1100L: 136L, 1101L: 140L, 1102L: 909L, 1103L: 14L, 1104L: 9L, 1105L: 1708L, 1106L: 1232L, 1107L: 974L, 1108L: 82L, 1109L: 71L, 1110L: 1628L, 1111L: 68L, 1112L: 730L, 1113L: 620L, 1114L: 943L, 1115L: 1106L, 1116L: 985L, 1117L: 1285L, 1118L: 263L, 1119L: 849L, 1120L: 308L, 1121L: 1502L, 1122L: 718L, 1123L: 673L, 1124L: 273L, 1125L: 954L, 1126L: 1097L, 1127L: 787L, 1128L: 170L, 1129L: 2L, 1130L: 879L, 1131L: 232L, 1132L: 45L, 1133L: 34L, 1134L: 6L, 1135L: 8L, 1136L: 20L, 1137L: 2274L, 1138L: 24L, 1139L: 161L, 1140L: 354L, 1141L: 997L, 1142L: 4L, 1143L: 365L, 1144L: 579L, 1145L: 899L, 1146L: 21L, 1147L: 1715L, 1148L: 12L, 1149L: 159L, 1150L: 7L, 1151L: 81L, 1152L: 162L, 1153L: 60L, 1154L: 850L, 1155L: 1961L, 1156L: 147L, 1157L: 2L, 1158L: 9L, 1159L: 1396L, 1160L: 775L, 1161L: 394L, 1162L: 2456L, 1163L: 1L, 1164L: 2020L, 1165L: 571L, 1166L: 28L, 1167L: 1145L, 1168L: 430L, 1169L: 57L, 1170L: 1358L, 1171L: 2735L, 1172L: 2830L, 1173L: 783L, 1174L: 1681L, 1175L: 768L, 1176L: 41L, 1177L: 47L, 1178L: 398L, 1179L: 427L, 1180L: 38L, 1181L: 795L, 1182L: 379L, 1183L: 328L, 1184L: 578L, 1185L: 1898L, 1186L: 136L, 1187L: 1979L, 1188L: 1563L, 1189L: 700L, 1190L: 904L, 1191L: 498L, 1192L: 11L, 1193L: 314L, 1194L: 63L, 1195L: 532L, 1196L: 329L, 1197L: 178L, 1198L: 1005L, 1199L: 444L, 1200L: 2752L, 1201L: 1060L, 1202L: 1601L, 1203L: 2271L, 1204L: 150L, 1205L: 2774L, 1206L: 934L, 1207L: 1426L, 1208L: 2494L, 1209L: 18L, 1210L: 1138L, 1211L: 1886L, 1212L: 9L, 1213L: 646L, 1214L: 1252L, 1215L: 7L, 1216L: 322L, 1217L: 261L, 1218L: 1241L, 1219L: 22L, 1220L: 2457L, 1221L: 1385L, 1222L: 1483L, 1223L: 1643L, 1224L: 1510L, 1225L: 1252L, 1226L: 2090L, 1227L: 1895L, 1228L: 1647L, 1229L: 1L, 1230L: 8L, 1231L: 471L, 1232L: 1920L, 1233L: 996L, 1234L: 13L, 1235L: 1209L, 1236L: 3279L, 1237L: 1686L, 1238L: 3L, 1239L: 2193L, 1241L: 1150L, 1242L: 1964L, 1243L: 68L, 1244L: 65L, 1245L: 1945L, 1246L: 667L, 1247L: 248L, 1248L: 832L, 1249L: 830L, 1250L: 437L, 1251L: 46L, 1252L: 2L, 1253L: 1379L, 1254L: 2023L, 1255L: 1241L, 1256L: 1157L, 1257L: 1834L, 1258L: 207L, 1259L: 227L, 1261L: 2377L, 1262L: 1836L, 1263L: 1613L, 1264L: 172L, 1265L: 1592L, 1266L: 1206L, 1267L: 1202L, 1268L: 636L, 1269L: 32L, 1270L: 51L, 1271L: 105L, 1272L: 796L, 1273L: 1L, 1274L: 2L, 1275L: 1216L, 1276L: 1707L, 1277L: 1428L, 1278L: 67L, 1279L: 736L, 1280L: 1242L, 1281L: 6L, 1282L: 729L, 1283L: 1685L, 1284L: 816L, 1285L: 1173L, 1286L: 2L, 1287L: 8L, 1288L: 547L, 1289L: 561L, 1290L: 1083L, 1291L: 2116L, 1292L: 5L, 1293L: 433L, 1294L: 989L, 1295L: 1244L, 1296L: 44L, 1297L: 812L, 1298L: 189L, 1299L: 25L, 1300L: 50L, 1301L: 1666L, 1302L: 1773L, 1303L: 356L, 1304L: 471L, 1305L: 535L, 1306L: 3249L, 1307L: 1272L, 1308L: 1256L, 1309L: 1377L, 1310L: 3966L, 1311L: 1597L, 1312L: 194L, 1313L: 708L, 1314L: 2775L, 1315L: 2175L, 1316L: 15L, 1317L: 340L, 1318L: 2096L, 1319L: 21L, 1320L: 3056L, 1321L: 1945L, 1322L: 1049L, 1323L: 1L, 1324L: 91L, 1325L: 20L, 1326L: 585L, 1327L: 910L, 1328L: 71L, 1329L: 67L, 1330L: 383L, 1331L: 952L, 1332L: 1489L, 1333L: 718L, 1334L: 3188L, 1335L: 157L, 1336L: 564L, 1337L: 949L, 1338L: 1851L, 1339L: 3930L, 1340L: 1304L, 1341L: 509L, 1342L: 718L, 1343L: 2608L, 1344L: 1178L, 1345L: 1243L, 1346L: 1108L, 1347L: 46L, 1348L: 779L, 1349L: 242L, 1350L: 373L, 1351L: 1057L, 1352L: 425L, 1353L: 1169L, 1354L: 96L, 1355L: 1L, 1356L: 1062L, 1357L: 521L, 1358L: 70L, 1359L: 6L, 1360L: 1285L, 1361L: 5L, 1362L: 36L, 1363L: 59L, 1364L: 672L, 1365L: 338L, 1366L: 2286L, 1367L: 1830L, 1368L: 308L, 1369L: 330L, 1370L: 523L, 1371L: 2494L, 1372L: 12L, 1373L: 392L, 1375L: 937L, 1376L: 243L, 1377L: 1227L, 1378L: 15L, 1379L: 1917L, 1380L: 1861L, 1381L: 679L, 1382L: 3225L, 1383L: 297L, 1384L: 409L, 1385L: 42L, 1386L: 1279L, 1387L: 10L, 1388L: 552L, 1389L: 50L, 1390L: 1743L, 1391L: 398L, 1392L: 2126L, 1393L: 684L, 1394L: 1742L, 1395L: 2L, 1396L: 57L, 1397L: 731L, 1398L: 50L, 1399L: 125L, 1400L: 1017L, 1401L: 896L, 1402L: 1349L, 1403L: 430L, 1404L: 266L, 1405L: 1L, 1406L: 1626L, 1407L: 986L, 1408L: 896L, 1409L: 1634L, 1410L: 28L, 1411L: 1206L, 1412L: 1031L, 1413L: 2098L, 1414L: 2091L, 1415L: 1185L, 1416L: 2307L, 1417L: 1202L, 1418L: 2467L, 1419L: 975L, 1420L: 913L, 1421L: 12L, 1422L: 1103L, 1423L: 81L, 1424L: 1262L, 1425L: 17L, 1426L: 11L, 1427L: 1155L, 1428L: 814L, 1429L: 1312L, 1430L: 168L, 1431L: 117L, 1432L: 587L, 1433L: 385L, 1434L: 1608L, 1435L: 579L, 1436L: 6L, 1437L: 66L, 1438L: 615L, 1439L: 677L, 1440L: 2607L, 1441L: 653L, 1442L: 1957L, 1443L: 191L, 1444L: 1281L, 1445L: 1297L, 1446L: 107L, 1447L: 1292L, 1448L: 1971L, 1449L: 1822L, 1450L: 529L, 1451L: 1349L, 1452L: 485L, 1453L: 1142L, 1454L: 2299L, 1455L: 3793L, 1456L: 266L, 1457L: 837L, 1458L: 416L, 1459L: 793L, 1460L: 2154L, 1461L: 662L, 1462L: 1539L, 1463L: 15L, 1464L: 943L, 1465L: 1176L, 1466L: 3109L, 1467L: 2L, 1468L: 1739L, 1469L: 192L, 1470L: 965L, 1471L: 138L, 1472L: 57L, 1473L: 35L, 1474L: 2411L, 1475L: 494L, 1476L: 596L, 1477L: 1950L, 1478L: 7L, 1479L: 3162L, 1480L: 1178L, 1481L: 1189L, 1482L: 179L, 1483L: 45L, 1484L: 1359L, 1485L: 2070L, 1486L: 655L, 1487L: 2313L, 1488L: 2L, 1489L: 185L, 1490L: 918L, 1491L: 163L, 1492L: 2262L, 1493L: 327L, 1494L: 1391L, 1495L: 2236L, 1496L: 388L, 1497L: 1511L, 1498L: 275L, 1499L: 2922L, 1500L: 11L, 1501L: 1L, 1502L: 7L, 1504L: 186L, 1505L: 54L, 1506L: 10L, 1507L: 1161L, 1509L: 1415L, 1510L: 2246L, 1511L: 1360L, 1512L: 546L, 1513L: 1642L, 1514L: 1444L, 1515L: 860L, 1516L: 1015L, 1517L: 383L, 1518L: 1334L, 1519L: 607L, 1520L: 432L, 1521L: 698L, 1522L: 4L, 1523L: 480L, 1524L: 580L, 1525L: 79L, 1526L: 75L, 1527L: 1009L, 1528L: 609L, 1529L: 2306L, 1530L: 2315L, 1531L: 284L, 1532L: 226L, 1533L: 58L, 1534L: 357L, 1535L: 239L, 1536L: 1879L, 1537L: 11L, 1538L: 55L, 1539L: 89L, 1540L: 2721L, 1541L: 1522L, 1542L: 986L, 1543L: 6L, 1544L: 488L, 1545L: 683L, 1546L: 585L, 1547L: 224L, 1548L: 19L, 1549L: 26L, 1550L: 1L, 1551L: 2055L, 1552L: 486L, 1553L: 8L, 1554L: 35L, 1555L: 567L, 1556L: 94L, 1557L: 11L, 1558L: 62L, 1559L: 3L, 1560L: 2063L, 1561L: 315L, 1562L: 25L, 1563L: 20L, 1564L: 13L, 1566L: 489L, 1567L: 471L, 1568L: 1430L, 1569L: 16L, 1570L: 665L, 1571L: 118L, 1572L: 6L, 1573L: 1056L, 1574L: 21L, 1575L: 146L, 1576L: 16L, 1577L: 1945L, 1578L: 557L, 1579L: 1801L, 1580L: 1435L, 1581L: 56L, 1582L: 803L, 1583L: 1823L, 1584L: 133L, 1585L: 707L, 1586L: 1674L, 1587L: 986L, 1588L: 2190L, 1589L: 983L, 1590L: 237L, 1591L: 1854L, 1592L: 15L, 1593L: 29L, 1594L: 519L, 1595L: 269L, 1596L: 16L, 1597L: 965L, 1598L: 868L, 1599L: 286L, 1600L: 150L, 1601L: 1588L, 1602L: 68L, 1603L: 167L, 1604L: 1879L, 1605L: 151L, 1606L: 1157L, 1607L: 2240L, 1608L: 2004L, 1609L: 1218L, 1610L: 596L, 1611L: 54L, 1612L: 153L, 1613L: 1135L, 1614L: 151L, 1615L: 550L, 1616L: 72L, 1617L: 35L, 1618L: 347L, 1619L: 81L, 1620L: 2503L, 1621L: 4L, 1622L: 1973L, 1623L: 186L, 1624L: 89L, 1625L: 2655L, 1626L: 48L, 1627L: 2078L, 1628L: 73L, 1629L: 4L, 1630L: 1565L, 1631L: 117L, 1632L: 855L, 1633L: 1704L, 1634L: 228L, 1635L: 1302L, 1636L: 10L, 1637L: 24L, 1638L: 1454L, 1639L: 1359L, 1640L: 1022L, 1641L: 549L, 1642L: 438L, 1643L: 3L, 1644L: 1033L, 1645L: 1312L, 1646L: 1111L, 1647L: 29L, 1648L: 2094L, 1649L: 607L, 1650L: 1220L, 1651L: 5L, 1652L: 1326L, 1653L: 2614L, 1654L: 22L, 1655L: 1864L, 1656L: 419L, 1657L: 1227L, 1658L: 2L, 1659L: 3371L, 1660L: 1L, 1661L: 2L, 1662L: 941L, 1663L: 3L, 1664L: 456L, 1665L: 349L, 1666L: 987L, 1667L: 669L, 1668L: 26L, 1669L: 1612L, 1670L: 1004L, 1671L: 1551L, 1672L: 2582L, 1673L: 2L, 1674L: 158L, 1675L: 465L, 1676L: 541L, 1677L: 1361L, 1678L: 1109L, 1679L: 248L, 1680L: 1172L, 1681L: 1311L, 1682L: 526L, 1683L: 314L, 1684L: 817L, 1685L: 1664L, 1686L: 537L, 1687L: 65L, 1688L: 768L, 1689L: 818L, 1690L: 735L, 1691L: 987L, 1692L: 921L, 1693L: 1004L, 1694L: 1544L, 1695L: 55L, 1696L: 2125L, 1697L: 681L, 1698L: 596L, 1699L: 2071L, 1700L: 1440L, 1701L: 788L, 1702L: 1107L, 1703L: 1208L, 1704L: 28L, 1705L: 7L, 1706L: 1L, 1707L: 597L, 1708L: 8L, 1709L: 614L, 1710L: 207L, 1711L: 1634L, 1712L: 1L, 1713L: 1487L, 1714L: 101L, 1715L: 21L, 1716L: 1507L, 1717L: 1683L, 1718L: 471L, 1719L: 7L, 1720L: 1L, 1721L: 257L, 1722L: 1100L, 1723L: 12L, 1724L: 1068L, 1725L: 11L, 1726L: 98L, 1727L: 243L, 1729L: 2605L, 1730L: 744L, 1731L: 23L, 1732L: 15L, 1734L: 901L, 1735L: 752L, 1736L: 1801L, 1737L: 963L, 1738L: 557L, 1739L: 699L, 1740L: 2L, 1741L: 294L, 1742L: 82L, 1743L: 1L, 1744L: 8L, 1745L: 149L, 1746L: 1165L, 1747L: 556L, 1748L: 3L, 1749L: 487L, 1750L: 1126L, 1751L: 1150L, 1752L: 6L, 1753L: 996L, 1754L: 281L, 1755L: 866L, 1756L: 318L, 1757L: 3L, 1758L: 1609L, 1759L: 1116L, 1760L: 547L, 1761L: 1258L, 1762L: 44L, 1763L: 2522L, 1764L: 1581L, 1765L: 299L, 1767L: 1109L, 1768L: 634L, 1769L: 1284L, 1770L: 1017L, 1771L: 46L, 1772L: 15L, 1773L: 4L, 1774L: 1792L, 1775L: 1773L, 1776L: 287L, 1777L: 3010L, 1778L: 14L, 1779L: 248L, 1780L: 390L, 1781L: 2329L, 1782L: 2076L, 1783L: 2055L, 1784L: 1463L, 1785L: 1065L, 1786L: 1076L, 1787L: 45L, 1788L: 1339L, 1789L: 2379L, 1790L: 878L, 1791L: 4L, 1792L: 702L, 1793L: 1306L, 1794L: 974L, 1795L: 38L, 1796L: 3043L, 1797L: 1631L, 1798L: 144L, 1799L: 449L, 1800L: 1575L, 1801L: 3052L, 1802L: 820L, 1803L: 874L, 1804L: 164L, 1805L: 1047L, 1806L: 1152L, 1807L: 106L, 1809L: 1923L, 1810L: 533L, 1811L: 5L, 1812L: 483L, 1813L: 81L, 1814L: 974L, 1815L: 331L, 1816L: 1889L, 1817L: 2330L, 1818L: 970L, 1819L: 624L, 1820L: 576L, 1821L: 332L, 1822L: 901L, 1823L: 309L, 1824L: 2411L, 1825L: 2888L, 1826L: 17L, 1827L: 101L, 1829L: 55L, 1830L: 1715L, 1831L: 36L, 1832L: 319L, 1833L: 60L, 1834L: 272L, 1835L: 394L, 1836L: 931L, 1838L: 207L, 1839L: 249L, 1840L: 371L, 1841L: 1L, 1842L: 1052L, 1843L: 1945L, 1844L: 244L, 1845L: 1291L, 1846L: 711L, 1847L: 1970L, 1848L: 2938L, 1849L: 897L, 1850L: 468L, 1851L: 924L, 1852L: 189L, 1853L: 1085L, 1854L: 47L, 1855L: 2025L, 1856L: 1283L, 1857L: 2L, 1858L: 54L, 1859L: 73L, 1860L: 1293L, 1861L: 847L, 1862L: 80L, 1863L: 1149L, 1864L: 1375L, 1865L: 2528L, 1866L: 167L, 1867L: 1812L, 1868L: 1218L, 1869L: 2001L, 1870L: 21L, 1871L: 302L, 1872L: 5L, 1873L: 745L, 1874L: 23L, 1875L: 279L, 1876L: 238L, 1877L: 446L, 1878L: 1366L, 1879L: 2L, 1880L: 1583L, 1881L: 4L, 1882L: 1413L, 1883L: 1L, 1884L: 588L, 1885L: 3242L, 1886L: 493L, 1887L: 8L, 1888L: 28L, 1889L: 2640L, 1890L: 564L, 1891L: 1462L, 1892L: 124L, 1893L: 113L, 1894L: 27L, 1895L: 187L, 1896L: 723L, 1897L: 1974L, 1898L: 29L, 1899L: 357L, 1900L: 2156L, 1901L: 1900L, 1902L: 6L, 1903L: 9L, 1904L: 26L, 1905L: 2L, 1906L: 239L, 1907L: 1L, 1908L: 4L, 1909L: 264L, 1910L: 36L, 1911L: 521L, 1912L: 1009L, 1913L: 692L, 1914L: 2551L, 1915L: 1153L, 1916L: 410L, 1917L: 22L, 1918L: 13L, 1919L: 500L, 1920L: 11L, 1921L: 255L, 1922L: 1958L, 1923L: 989L, 1924L: 550L, 1925L: 556L, 1927L: 631L, 1928L: 115L, 1929L: 1779L, 1930L: 843L, 1931L: 3L, 1932L: 1554L, 1933L: 374L, 1934L: 6L, 1935L: 710L, 1936L: 1216L, 1937L: 2L, 1939L: 3L, 1940L: 494L, 1941L: 75L, 1942L: 1087L, 1943L: 24L, 1944L: 52L, 1945L: 61L, 1946L: 14L, 1947L: 639L, 1948L: 102L, 1949L: 1228L, 1950L: 1421L, 1951L: 211L, 1952L: 508L, 1953L: 548L, 1954L: 1417L, 1955L: 1433L, 1956L: 83L, 1957L: 71L, 1958L: 994L, 1959L: 53L, 1960L: 4L, 1961L: 1187L, 1962L: 1L, 1963L: 1497L, 1964L: 28L, 1965L: 273L, 1966L: 19L, 1967L: 1235L, 1968L: 1125L, 1969L: 1080L, 1970L: 40L, 1971L: 194L, 1972L: 599L, 1973L: 1237L, 1974L: 1003L, 1975L: 301L, 1976L: 884L, 1977L: 982L, 1978L: 784L, 1979L: 861L, 1980L: 650L, 1981L: 28L, 1982L: 327L, 1983L: 390L, 1984L: 629L, 1985L: 794L, 1986L: 14L, 1987L: 3L, 1988L: 230L, 1989L: 38L, 1990L: 1756L, 1991L: 53L, 1992L: 105L, 1993L: 1729L, 1994L: 6L, 1995L: 1029L, 1996L: 28L, 1997L: 524L, 1998L: 958L, 1999L: 530L, 2000L: 1405L, 2001L: 551L, 2002L: 16L, 2003L: 86L, 2004L: 1446L, 2005L: 61L, 2006L: 1L, 2007L: 3L, 2008L: 1253L, 2009L: 48L, 2010L: 15L, 2011L: 402L, 2012L: 579L, 2013L: 599L, 2014L: 949L, 2015L: 1L, 2016L: 688L, 2017L: 728L, 2018L: 1263L, 2019L: 7L, 2020L: 1864L, 2021L: 187L, 2022L: 3L, 2023L: 3163L, 2024L: 32L, 2025L: 143L, 2026L: 294L, 2027L: 813L, 2028L: 1058L, 2029L: 115L, 2030L: 1100L, 2031L: 7L, 2033L: 637L, 2034L: 1124L, 2035L: 823L, 2036L: 9L, 2037L: 1453L, 2038L: 450L, 2039L: 36L, 2040L: 542L, 2041L: 40L, 2042L: 6L, 2043L: 1132L, 2044L: 531L, 2045L: 17L, 2046L: 56L, 2047L: 1154L, 2048L: 2L, 2049L: 499L, 2050L: 977L, 2051L: 3344L, 2052L: 65L, 2053L: 535L, 2054L: 83L, 2055L: 1502L, 2056L: 983L, 2057L: 5L, 2058L: 85L, 2059L: 11L, 2060L: 843L, 2061L: 1383L, 2062L: 160L, 2063L: 1L, 2064L: 742L, 2065L: 548L, 2066L: 510L, 2067L: 973L, 2068L: 3L, 2069L: 26L, 2070L: 37L, 2071L: 1815L, 2072L: 1L, 2073L: 7L, 2074L: 607L, 2075L: 778L, 2076L: 1248L, 2077L: 1449L, 2078L: 9L, 2079L: 2813L, 2080L: 1341L, 2081L: 56L, 2082L: 1659L, 2083L: 594L, 2084L: 2621L, 2085L: 1214L, 2086L: 1735L, 2087L: 151L, 2088L: 2039L, 2089L: 4L, 2090L: 2571L, 2091L: 649L, 2092L: 1266L, 2093L: 414L, 2094L: 984L, 2095L: 35L, 2096L: 444L, 2097L: 1744L, 2098L: 811L, 2099L: 1642L, 2100L: 141L, 2101L: 1040L, 2102L: 175L, 2103L: 580L, 2104L: 1141L, 2105L: 495L, 2106L: 1296L, 2107L: 1060L, 2108L: 1005L, 2109L: 2253L, 2110L: 2378L, 2111L: 1479L, 2112L: 855L, 2113L: 506L, 2114L: 759L, 2115L: 488L, 2116L: 101L, 2117L: 1L, 2118L: 187L, 2119L: 1134L, 2120L: 340L, 2121L: 864L, 2122L: 1L, 2123L: 1112L, 2124L: 527L, 2125L: 657L, 2126L: 1474L, 2127L: 5L, 2128L: 960L, 2129L: 8L, 2130L: 6L, 2131L: 433L, 2132L: 515L, 2133L: 6L, 2134L: 776L, 2135L: 919L, 2136L: 1789L, 2137L: 916L, 2138L: 1865L, 2139L: 733L, 2140L: 423L, 2141L: 889L, 2142L: 827L, 2143L: 947L, 2144L: 2482L, 2145L: 1766L, 2146L: 1335L, 2147L: 1223L, 2148L: 10L, 2149L: 904L, 2150L: 985L, 2151L: 51L, 2152L: 2149L, 2153L: 1L, 2154L: 191L, 2155L: 1238L, 2156L: 288L, 2157L: 788L, 2158L: 941L, 2159L: 3236L, 2160L: 125L, 2161L: 1015L, 2162L: 201L, 2163L: 341L, 2164L: 1009L, 2165L: 908L, 2166L: 1L, 2167L: 2590L, 2168L: 1839L, 2169L: 1148L, 2170L: 982L, 2171L: 876L, 2172L: 538L, 2173L: 294L, 2174L: 471L, 2175L: 32L, 2176L: 205L, 2177L: 49L, 2178L: 762L, 2179L: 3143L, 2180L: 317L, 2181L: 582L, 2182L: 967L, 2183L: 13L, 2184L: 27L, 2185L: 2054L, 2186L: 1753L, 2187L: 200L, 2188L: 1402L, 2189L: 2054L, 2190L: 861L, 2191L: 1190L, 2192L: 1557L, 2193L: 861L, 2194L: 2803L, 2195L: 539L, 2196L: 3263L, 2197L: 852L, 2198L: 361L, 2199L: 1074L, 2200L: 1715L, 2201L: 2061L, 2203L: 55L, 2204L: 7L, 2205L: 19L, 2206L: 1023L, 2207L: 261L, 2208L: 829L, 2209L: 39L, 2210L: 676L, 2211L: 3L, 2212L: 100L, 2213L: 572L, 2214L: 969L, 2215L: 787L, 2216L: 63L, 2217L: 1278L, 2218L: 619L, 2219L: 720L, 2220L: 1457L, 2221L: 1337L, 2222L: 1162L, 2223L: 1460L, 2224L: 6L, 2225L: 1421L, 2226L: 211L, 2227L: 85L, 2228L: 1343L, 2229L: 833L, 2230L: 1269L, 2231L: 2306L, 2232L: 66L, 2233L: 88L, 2234L: 1492L, 2235L: 764L, 2236L: 345L, 2237L: 11L, 2238L: 399L, 2239L: 98L, 2240L: 1704L, 2241L: 70L, 2242L: 26L, 2243L: 22L, 2244L: 205L, 2245L: 1980L, 2246L: 27L, 2247L: 919L, 2248L: 774L, 2249L: 519L, 2250L: 689L, 2251L: 14L, 2252L: 3298L, 2253L: 444L, 2254L: 772L, 2255L: 445L, 2256L: 947L, 2257L: 6L, 2258L: 941L, 2259L: 6L, 2260L: 875L, 2261L: 494L, 2262L: 1033L, 2263L: 120L, 2264L: 1008L, 2265L: 4405L, 2266L: 1174L, 2267L: 1216L, 2268L: 3483L, 2269L: 54L, 2270L: 737L, 2271L: 608L, 2272L: 885L, 2274L: 533L, 2275L: 50L, 2276L: 1430L, 2277L: 472L, 2278L: 144L, 2279L: 3021L, 2280L: 1456L, 2281L: 123L, 2282L: 1292L, 2283L: 20L, 2284L: 73L, 2285L: 83L, 2286L: 22L, 2287L: 4L, 2288L: 31L, 2289L: 851L, 2290L: 1L, 2291L: 1713L, 2292L: 31L, 2293L: 311L, 2294L: 150L, 2295L: 70L, 2296L: 1261L, 2297L: 732L, 2298L: 2205L, 2299L: 491L, 2300L: 922L, 2301L: 23L, 2302L: 232L, 2303L: 1759L, 2304L: 752L, 2305L: 2419L, 2306L: 1709L, 2307L: 2054L, 2308L: 394L, 2309L: 9L, 2310L: 433L, 2311L: 31L, 2312L: 2L, 2313L: 1229L, 2314L: 11L, 2315L: 967L, 2316L: 1032L, 2317L: 448L, 2318L: 210L, 2319L: 856L, 2320L: 208L, 2321L: 69L, 2322L: 1255L, 2323L: 513L, 2324L: 1L, 2325L: 39L, 2326L: 67L, 2327L: 73L, 2328L: 124L, 2329L: 1583L, 2330L: 125L, 2331L: 2234L, 2332L: 937L, 2333L: 7L, 2334L: 1588L, 2335L: 2314L, 2336L: 15L, 2337L: 11L, 2338L: 40L, 2339L: 2302L, 2340L: 2128L, 2341L: 2162L, 2342L: 1048L, 2343L: 778L, 2344L: 651L, 2345L: 592L, 2346L: 2179L, 2347L: 916L, 2348L: 2099L, 2349L: 1335L, 2350L: 1020L, 2351L: 961L, 2352L: 22L, 2353L: 92L, 2354L: 271L, 2355L: 2606L, 2356L: 569L, 2357L: 38L, 2358L: 93L, 2359L: 1267L, 2360L: 1539L, 2361L: 1332L, 2362L: 2080L, 2363L: 1270L, 2364L: 574L, 2365L: 1173L, 2366L: 352L, 2367L: 683L, 2368L: 1449L, 2369L: 1014L, 2370L: 655L, 2371L: 422L, 2372L: 2405L, 2373L: 351L, 2374L: 1372L, 2375L: 2L, 2376L: 537L, 2377L: 3442L, 2378L: 1604L, 2379L: 114L, 2380L: 2662L, 2381L: 145L, 2382L: 1629L, 2383L: 1782L, 2384L: 867L, 2385L: 3279L, 2386L: 1228L, 2387L: 1939L, 2388L: 957L, 2389L: 190L, 2390L: 548L, 2391L: 2127L, 2392L: 1857L, 2393L: 88L, 2394L: 835L, 2395L: 1894L, 2396L: 1L, 2397L: 785L, 2398L: 14L, 2399L: 853L, 2400L: 2806L, 2401L: 30L, 2402L: 3210L, 2403L: 4L, 2404L: 1707L, 2405L: 5L, 2406L: 2602L, 2407L: 3936L, 2408L: 159L, 2409L: 904L, 2410L: 32L, 2411L: 1161L, 2412L: 495L, 2413L: 4L, 2414L: 3505L, 2415L: 1470L, 2416L: 1468L, 2417L: 2849L, 2418L: 2162L, 2419L: 1573L, 2420L: 3217L, 2421L: 322L, 2422L: 1496L, 2424L: 2507L, 2425L: 11L, 2426L: 540L, 2427L: 839L, 2428L: 1049L, 2429L: 733L, 2430L: 736L, 2431L: 9L, 2432L: 30L, 2433L: 1070L, 2434L: 27L, 2435L: 1188L, 2436L: 380L, 2437L: 99L, 2438L: 905L, 2439L: 1291L, 2440L: 773L, 2441L: 1112L, 2442L: 1380L, 2443L: 212L, 2444L: 1015L, 2445L: 679L, 2446L: 43L, 2447L: 1078L, 2448L: 1710L, 2449L: 2684L, 2450L: 367L, 2451L: 581L, 2452L: 454L, 2453L: 3684L, 2454L: 2726L, 2455L: 67L, 2456L: 11L, 2457L: 96L, 2458L: 1665L, 2459L: 1698L, 2460L: 1054L, 2461L: 997L, 2462L: 1126L, 2463L: 1876L, 2464L: 8L, 2465L: 7L, 2466L: 921L, 2467L: 538L, 2468L: 3021L, 2469L: 1623L, 2470L: 124L, 2471L: 1668L, 2472L: 1901L, 2473L: 420L, 2474L: 748L, 2475L: 1061L, 2476L: 606L, 2477L: 242L, 2478L: 1170L, 2479L: 1388L, 2480L: 902L, 2481L: 876L, 2482L: 1061L, 2483L: 1305L, 2484L: 828L, 2485L: 3L, 2486L: 3L, 2487L: 7L, 2488L: 1814L, 2489L: 1115L, 2490L: 380L, 2491L: 1886L, 2492L: 1444L, 2493L: 1234L, 2494L: 941L, 2495L: 46L, 2496L: 538L, 2497L: 1406L, 2498L: 1248L, 2499L: 37L, 2500L: 3L, 2501L: 396L, 2502L: 1408L, 2503L: 221L, 2504L: 705L, 2505L: 313L, 2506L: 40L, 2507L: 1640L, 2508L: 46L, 2509L: 10L, 2510L: 1787L, 2511L: 1539L, 2512L: 187L, 2513L: 1808L, 2514L: 914L, 2515L: 27L, 2516L: 451L, 2517L: 11L, 2518L: 532L, 2519L: 274L, 2520L: 540L, 2521L: 58L, 2522L: 160L, 2523L: 842L, 2524L: 72L, 2525L: 6L, 2526L: 1728L, 2527L: 1030L, 2528L: 2137L, 2529L: 1468L, 2530L: 10L, 2531L: 4L, 2532L: 10L, 2533L: 422L, 2534L: 2415L, 2535L: 43L, 2536L: 765L, 2537L: 428L, 2538L: 40L, 2539L: 2145L, 2540L: 8L, 2541L: 943L, 2542L: 2003L, 2543L: 182L, 2544L: 72L, 2545L: 12L, 2546L: 377L, 2547L: 270L, 2548L: 150L, 2549L: 1015L, 2550L: 282L, 2551L: 975L, 2552L: 614L, 2553L: 1140L, 2554L: 1466L, 2555L: 931L, 2557L: 1329L, 2558L: 623L, 2559L: 4434L, 2560L: 1516L, 2561L: 43L, 2562L: 459L, 2563L: 88L, 2565L: 1081L, 2566L: 1985L, 2567L: 705L, 2568L: 32L, 2569L: 698L, 2570L: 2268L, 2571L: 603L, 2572L: 616L, 2573L: 1791L, 2574L: 16L, 2575L: 772L, 2576L: 460L, 2577L: 701L, 2578L: 318L, 2579L: 383L, 2580L: 99L, 2581L: 1L, 2582L: 72L, 2583L: 267L, 2584L: 647L, 2585L: 619L, 2586L: 6L, 2587L: 1523L, 2588L: 33L, 2589L: 853L, 2590L: 1716L, 2591L: 1330L, 2592L: 883L, 2594L: 311L, 2595L: 220L, 2596L: 1317L, 2597L: 69L, 2598L: 1363L, 2599L: 1258L, 2600L: 460L, 2601L: 199L, 2602L: 2898L, 2603L: 4L, 2604L: 13L, 2605L: 55L, 2606L: 417L, 2607L: 117L, 2608L: 835L, 2609L: 20L, 2610L: 1378L, 2611L: 870L, 2612L: 298L, 2613L: 450L, 2614L: 1571L, 2615L: 861L, 2616L: 1200L, 2617L: 1415L, 2618L: 1275L, 2619L: 657L, 2620L: 183L, 2621L: 60L, 2622L: 1138L, 2623L: 1L, 2624L: 1618L, 2625L: 14L, 2626L: 17L, 2627L: 44L, 2628L: 75L, 2629L: 457L, 2630L: 1029L, 2631L: 2034L, 2632L: 19L, 2633L: 10L, 2634L: 311L, 2635L: 1L, 2636L: 1033L, 2637L: 376L, 2638L: 496L, 2639L: 1L, 2640L: 148L, 2642L: 2458L, 2643L: 202L, 2644L: 369L, 2645L: 462L, 2646L: 941L, 2647L: 1411L, 2648L: 1551L, 2649L: 1973L, 2650L: 522L, 2651L: 38L, 2652L: 858L, 2653L: 1446L, 2654L: 706L, 2655L: 1145L, 2656L: 1004L, 2657L: 2512L, 2658L: 727L, 2659L: 228L, 2660L: 1317L, 2661L: 53L, 2662L: 30L, 2663L: 6L, 2664L: 637L, 2665L: 941L, 2666L: 1355L, 2667L: 1456L, 2668L: 1950L, 2669L: 1698L, 2670L: 1101L, 2671L: 2735L, 2672L: 8L, 2673L: 1236L, 2674L: 486L, 2675L: 1640L, 2676L: 4L, 2677L: 125L, 2678L: 1755L, 2679L: 1801L, 2680L: 404L, 2681L: 108L, 2682L: 196L, 2683L: 1507L, 2684L: 460L, 2685L: 856L, 2686L: 2405L, 2687L: 1073L, 2688L: 2599L, 2689L: 1494L, 2690L: 102L, 2691L: 2222L, 2692L: 292L, 2693L: 106L, 2694L: 1009L, 2695L: 1110L, 2696L: 61L, 2697L: 706L, 2698L: 276L, 2699L: 582L, 2700L: 1731L, 2701L: 18L, 2702L: 45L, 2703L: 2703L, 2704L: 1835L, 2705L: 1008L, 2706L: 2701L, 2707L: 82L, 2708L: 940L, 2709L: 494L, 2710L: 1131L, 2711L: 693L, 2712L: 22L, 2713L: 2348L, 2714L: 1330L, 2715L: 1885L, 2716L: 1785L, 2717L: 2288L, 2718L: 2538L, 2719L: 1810L, 2720L: 1572L, 2721L: 1139L, 2722L: 116L, 2723L: 2740L, 2724L: 405L, 2725L: 4186L, 2726L: 2735L, 2727L: 120L, 2728L: 23L, 2729L: 2694L, 2730L: 39L, 2731L: 516L, 2732L: 1927L, 2733L: 691L, 2734L: 2715L, 2735L: 295L, 2736L: 1079L, 2737L: 689L, 2738L: 1247L, 2739L: 4L, 2740L: 970L, 2741L: 2171L, 2742L: 30L, 2743L: 2737L, 2744L: 931L, 2745L: 1401L, 2746L: 1305L, 2747L: 1032L, 2748L: 406L, 2749L: 1145L, 2750L: 1779L, 2751L: 1979L, 2752L: 510L, 2753L: 1879L, 2754L: 1377L, 2755L: 20L, 2756L: 576L, 2757L: 2L, 2758L: 211L, 2759L: 1199L, 2760L: 862L, 2761L: 16L, 2762L: 1251L, 2763L: 1855L, 2764L: 2302L, 2765L: 1930L, 2766L: 1516L, 2767L: 323L, 2768L: 1796L, 2769L: 202L, 2770L: 1110L, 2771L: 1255L, 2772L: 729L, 2773L: 991L, 2774L: 1069L, 2775L: 1553L, 2776L: 102L, 2777L: 547L, 2778L: 10L, 2779L: 3337L, 2780L: 1L, 2781L: 15L, 2782L: 699L, 2783L: 125L, 2784L: 27L, 2785L: 2434L, 2786L: 217L, 2787L: 1105L, 2788L: 2L, 2789L: 1373L, 2790L: 1954L, 2791L: 400L, 2792L: 113L, 2793L: 14L, 2794L: 984L, 2795L: 1785L, 2796L: 401L, 2797L: 2161L, 2798L: 524L, 2799L: 2L, 2800L: 2055L, 2801L: 38L, 2802L: 4L, 2803L: 77L, 2804L: 679L, 2805L: 42L, 2806L: 82L, 2807L: 26L, 2808L: 1020L, 2809L: 3L, 2810L: 626L, 2811L: 1930L, 2812L: 61L, 2813L: 7L, 2814L: 402L, 2815L: 2L, 2816L: 4L, 2817L: 1445L, 2818L: 81L, 2819L: 1825L, 2820L: 18L, 2821L: 8L, 2822L: 382L, 2823L: 1L, 2824L: 1143L, 2825L: 2128L, 2826L: 1834L, 2827L: 2038L, 2828L: 244L, 2829L: 875L, 2830L: 12L, 2831L: 823L, 2832L: 36L, 2833L: 473L, 2834L: 2L, 2835L: 17L, 2836L: 1095L, 2837L: 402L, 2838L: 1327L, 2839L: 621L, 2840L: 376L, 2841L: 3058L, 2842L: 6L, 2843L: 20L, 2844L: 1166L, 2845L: 193L, 2846L: 4L, 2847L: 2184L, 2848L: 944L, 2849L: 1859L, 2850L: 416L, 2851L: 3240L, 2852L: 121L, 2853L: 352L, 2854L: 1251L, 2855L: 756L, 2856L: 724L, 2857L: 901L, 2858L: 1832L, 2859L: 72L, 2860L: 1410L, 2861L: 2353L, 2862L: 2065L, 2863L: 37L, 2864L: 1022L, 2865L: 588L, 2866L: 1699L, 2867L: 2037L, 2868L: 334L, 2869L: 2531L, 2870L: 909L, 2871L: 1154L, 2872L: 1064L, 2873L: 568L, 2874L: 2310L, 2875L: 143L, 2876L: 2569L, 2877L: 459L, 2878L: 707L, 2879L: 1544L, 2880L: 1708L, 2881L: 257L, 2882L: 1990L, 2883L: 2126L, 2884L: 96L, 2885L: 269L, 2886L: 782L, 2887L: 154L, 2888L: 380L, 2889L: 42L, 2890L: 416L, 2891L: 674L, 2892L: 555L, 2893L: 1507L, 2894L: 53L, 2895L: 589L, 2896L: 362L, 2897L: 16L, 2898L: 2600L, 2899L: 30L, 2900L: 1012L, 2901L: 1862L, 2902L: 310L, 2903L: 2349L, 2904L: 861L, 2905L: 84L, 2906L: 10L, 2907L: 470L, 2908L: 117L, 2909L: 25L, 2910L: 449L, 2911L: 1122L, 2912L: 1086L, 2913L: 28L, 2914L: 1105L, 2915L: 51L, 2916L: 134L, 2917L: 1434L, 2918L: 4L, 2919L: 1381L, 2920L: 4810L, 2921L: 902L, 2922L: 1773L, 2923L: 1560L, 2924L: 393L, 2925L: 1536L, 2926L: 1391L, 2927L: 46L, 2928L: 6128L, 2929L: 632L, 2930L: 178L, 2931L: 326L, 2932L: 7L, 2933L: 403L, 2934L: 1607L, 2935L: 1466L, 2936L: 280L, 2937L: 1400L, 2938L: 1834L, 2939L: 1404L, 2940L: 228L, 2941L: 554L, 2942L: 2890L, 2943L: 87L, 2944L: 1222L, 2945L: 669L, 2946L: 1442L, 2947L: 1458L, 2948L: 346L, 2949L: 1219L, 2950L: 1177L, 2951L: 951L, 2952L: 1242L, 2953L: 342L, 2954L: 1292L, 2955L: 1103L, 2956L: 4L, 2957L: 2312L, 2958L: 667L, 2959L: 532L, 2960L: 767L, 2961L: 743L, 2962L: 425L, 2963L: 761L, 2964L: 850L, 2966L: 1468L, 2967L: 784L, 2968L: 1626L, 2969L: 1329L, 2970L: 1394L, 2971L: 1649L, 2972L: 222L, 2973L: 964L, 2974L: 2384L, 2975L: 3128L, 2976L: 1330L, 2977L: 33L, 2978L: 562L, 2979L: 10L, 2980L: 4L, 2981L: 4L, 2982L: 349L, 2983L: 782L, 2984L: 1395L, 2985L: 83L, 2986L: 1301L, 2987L: 672L, 2988L: 182L, 2989L: 706L, 2990L: 1799L, 2991L: 1982L, 2992L: 4L, 2993L: 1600L, 2994L: 15L, 2995L: 615L, 2996L: 4L, 2997L: 151L, 2998L: 10L, 2999L: 133L, 3000L: 133L, 3001L: 1118L, 3002L: 75L, 3003L: 1383L, 3004L: 1383L, 3005L: 1626L, 3006L: 1144L, 3007L: 621L, 3008L: 368L, 3009L: 190L, 3010L: 1093L, 3011L: 2L, 3012L: 51L, 3013L: 43L, 3014L: 1308L, 3015L: 27L, 3016L: 134L, 3017L: 1220L, 3018L: 86L, 3019L: 347L, 3020L: 537L, 3021L: 3L, 3022L: 5L, 3023L: 1L, 3024L: 1L, 3025L: 376L, 3026L: 176L, 3027L: 453L, 3029L: 1434L, 3030L: 38L, 3031L: 29L, 3032L: 2631L, 3033L: 32L, 3034L: 125L, 3035L: 1006L, 3036L: 216L, 3037L: 1264L, 3038L: 4L, 3039L: 1097L, 3040L: 659L, 3041L: 234L, 3042L: 578L, 3043L: 255L, 3044L: 1738L, 3045L: 589L, 3046L: 445L, 3047L: 1047L, 3048L: 153L, 3049L: 28L, 3050L: 503L, 3051L: 81L, 3052L: 21L, 3053L: 494L, 3054L: 418L, 3055L: 1531L, 3056L: 28L, 3057L: 1426L, 3058L: 115L, 3059L: 765L, 3060L: 565L, 3061L: 3143L, 3062L: 27L, 3063L: 50L, 3064L: 1572L, 3065L: 25L, 3066L: 2319L, 3067L: 830L, 3069L: 341L, 3070L: 1220L, 3071L: 995L, 3072L: 2877L, 3073L: 1971L, 3074L: 360L, 3075L: 2222L, 3076L: 2206L, 3077L: 33L, 3078L: 632L, 3079L: 532L, 3080L: 3155L, 3081L: 2483L, 3082L: 1702L, 3083L: 2L, 3084L: 859L, 3085L: 158L, 3087L: 434L, 3088L: 284L, 3089L: 3L, 3090L: 524L, 3091L: 31L, 3092L: 823L, 3093L: 1729L, 3094L: 2869L, 3095L: 22L, 3096L: 1296L, 3097L: 25L, 3098L: 603L, 3099L: 1441L, 3100L: 29L, 3101L: 936L, 3102L: 765L, 3103L: 866L, 3104L: 784L, 3105L: 469L, 3106L: 1316L, 3107L: 1370L, 3108L: 1887L, 3109L: 1230L, 3110L: 649L, 3111L: 613L, 3112L: 1064L, 3113L: 564L, 3114L: 3052L, 3115L: 136L, 3116L: 900L, 3117L: 1252L, 3118L: 799L, 3119L: 18L, 3120L: 1853L, 3121L: 766L, 3122L: 926L, 3123L: 2811L, 3124L: 32L, 3125L: 2868L, 3126L: 7L, 3127L: 2593L, 3128L: 2613L, 3129L: 2069L, 3130L: 995L, 3131L: 2043L, 3132L: 1630L, 3133L: 2920L, 3134L: 2565L, 3135L: 1094L, 3136L: 1599L, 3137L: 2601L, 3138L: 1146L, 3139L: 1275L, 3140L: 2611L, 3141L: 633L, 3142L: 1510L, 3143L: 523L, 3144L: 1751L, 3145L: 1350L, 3146L: 2291L, 3147L: 2063L, 3148L: 1134L, 3149L: 1609L, 3150L: 2529L, 3151L: 651L, 3152L: 319L, 3153L: 1558L, 3154L: 5L, 3155L: 2279L, 3156L: 796L, 3157L: 1357L, 3158L: 835L, 3159L: 336L, 3160L: 1389L, 3161L: 1891L, 3162L: 1637L, 3163L: 3024L, 3164L: 1198L, 3165L: 365L, 3166L: 998L, 3167L: 5L, 3168L: 2879L, 3169L: 46L, 3170L: 1798L, 3171L: 774L, 3172L: 14L, 3173L: 2343L, 3174L: 198L, 3175L: 88L, 3176L: 108L, 3177L: 209L, 3178L: 926L, 3179L: 556L, 3180L: 2L, 3181L: 5L, 3182L: 1306L, 3183L: 1814L, 3184L: 1089L, 3185L: 1432L, 3186L: 1178L, 3187L: 87L, 3188L: 29L, 3189L: 47L, 3190L: 952L, 3191L: 196L, 3192L: 428L, 3193L: 887L, 3194L: 1607L, 3195L: 782L, 3196L: 2457L, 3197L: 1211L, 3198L: 60L, 3199L: 96L, 3200L: 2324L, 3201L: 664L, 3202L: 15L, 3203L: 5L, 3204L: 320L, 3205L: 270L, 3206L: 14L, 3207L: 1580L, 3208L: 9L, 3209L: 349L, 3210L: 1108L, 3211L: 853L, 3212L: 1201L, 3214L: 181L, 3215L: 433L, 3216L: 169L, 3217L: 2968L, 3218L: 748L, 3219L: 37L, 3220L: 1155L, 3221L: 895L, 3222L: 2728L, 3223L: 1320L, 3224L: 1658L, 3225L: 1593L, 3226L: 509L, 3227L: 575L, 3228L: 673L, 3229L: 1296L, 3230L: 944L, 3231L: 2038L, 3232L: 105L, 3233L: 818L, 3234L: 1586L, 3235L: 2258L, 3236L: 579L, 3237L: 60L, 3238L: 385L, 3239L: 265L, 3240L: 1126L, 3241L: 21L, 3242L: 769L, 3243L: 287L, 3244L: 8L, 3246L: 332L, 3247L: 12L, 3248L: 229L, 3249L: 20L, 3250L: 1910L, 3251L: 2789L, 3252L: 9L, 3253L: 1729L, 3254L: 609L, 3255L: 312L, 3256L: 95L, 3257L: 280L, 3258L: 100L, 3259L: 980L, 3260L: 149L, 3261L: 1033L, 3262L: 2083L, 3263L: 2234L, 3264L: 1246L, 3265L: 2764L, 3266L: 100L, 3267L: 919L, 3268L: 191L, 3269L: 554L, 3270L: 974L, 3271L: 184L, 3272L: 2253L, 3273L: 2868L, 3274L: 2793L, 3275L: 1554L, 3276L: 427L, 3277L: 43L, 3278L: 17L, 3279L: 1575L, 3280L: 28L, 3281L: 1469L, 3282L: 25L, 3283L: 1094L, 3284L: 1517L, 3285L: 2912L, 3286L: 2086L, 3287L: 2031L, 3288L: 81L, 3289L: 2164L, 3290L: 971L, 3291L: 110L, 3292L: 609L, 3293L: 2209L, 3294L: 2495L, 3295L: 44L, 3296L: 1250L, 3297L: 44L, 3298L: 1301L, 3299L: 2040L, 3300L: 14L, 3301L: 9L, 3302L: 1082L, 3303L: 403L, 3304L: 56L, 3305L: 84L, 3306L: 2064L, 3307L: 776L, 3308L: 12L, 3309L: 1681L, 3310L: 1035L, 3311L: 1680L, 3312L: 481L, 3313L: 287L, 3314L: 199L, 3315L: 322L, 3316L: 71L, 3317L: 37L, 3318L: 17L, 3319L: 1587L, 3320L: 1501L, 3321L: 2260L, 3322L: 15L, 3323L: 1941L, 3324L: 100L, 3325L: 1600L, 3326L: 4142L, 3327L: 1675L, 3328L: 2728L, 3329L: 2908L, 3330L: 221L, 3331L: 403L, 3332L: 1052L, 3334L: 401L, 3335L: 1059L, 3336L: 2872L, 3337L: 852L, 3338L: 1L, 3339L: 165L, 3340L: 6L, 3341L: 630L, 3342L: 12L, 3343L: 844L, 3344L: 21L, 3345L: 1009L, 3346L: 2065L, 3347L: 1598L, 3348L: 962L, 3349L: 2526L, 3350L: 688L, 3351L: 623L, 3352L: 9L, 3353L: 1732L, 3354L: 1016L, 3355L: 878L, 3356L: 214L, 3357L: 556L, 3358L: 496L, 3359L: 293L, 3360L: 2020L, 3361L: 90L, 3362L: 481L, 3363L: 1525L, 3364L: 1861L, 3365L: 2819L, 3366L: 1383L, 3367L: 2153L, 3368L: 311L, 3369L: 2176L, 3370L: 117L, 3371L: 1065L, 3372L: 38L, 3373L: 1166L, 3374L: 256L, 3375L: 432L, 3376L: 2576L, 3377L: 787L, 3378L: 30L, 3379L: 756L, 3380L: 590L, 3381L: 5L, 3382L: 956L, 3383L: 10L, 3384L: 8L, 3385L: 569L, 3386L: 1426L, 3387L: 1456L, 3388L: 1051L, 3389L: 937L, 3390L: 652L, 3391L: 1334L, 3392L: 1582L, 3393L: 31L, 3394L: 2101L, 3395L: 2603L, 3396L: 1269L, 3397L: 1447L, 3398L: 2203L, 3399L: 191L, 3400L: 82L, 3401L: 1513L, 3402L: 128L, 3403L: 364L, 3404L: 1944L, 3405L: 1823L, 3407L: 1587L, 3408L: 1285L, 3409L: 1671L, 3410L: 306L, 3411L: 407L, 3412L: 275L, 3413L: 1086L, 3414L: 628L, 3415L: 1191L, 3416L: 356L, 3417L: 2L, 3418L: 73L, 3419L: 178L, 3420L: 2757L, 3421L: 2550L, 3422L: 31L, 3423L: 2387L, 3424L: 3L, 3425L: 1022L, 3426L: 1341L, 3427L: 817L, 3428L: 1839L, 3429L: 249L, 3430L: 1500L, 3431L: 323L, 3432L: 83L, 3433L: 595L, 3434L: 385L, 3435L: 183L, 3436L: 408L, 3437L: 1393L, 3438L: 51L, 3439L: 33L, 3440L: 952L, 3441L: 972L, 3442L: 754L, 3443L: 5L, 3444L: 43L, 3445L: 1722L, 3446L: 783L, 3447L: 1362L, 3448L: 3226L, 3449L: 1226L, 3450L: 2637L, 3451L: 2245L, 3452L: 35L, 3453L: 1259L, 3454L: 254L, 3455L: 613L, 3456L: 2290L, 3457L: 1510L, 3458L: 690L, 3459L: 15L, 3460L: 381L, 3461L: 11L, 3462L: 2741L, 3463L: 1894L, 3464L: 232L, 3465L: 21L, 3466L: 239L, 3467L: 1140L, 3468L: 1232L, 3469L: 100L, 3470L: 940L, 3471L: 42L, 3472L: 183L, 3473L: 1L, 3474L: 11L, 3475L: 1477L, 3476L: 6L, 3477L: 1484L, 3478L: 2698L, 3479L: 2182L, 3480L: 17L, 3481L: 243L, 3482L: 361L, 3483L: 763L, 3484L: 270L, 3485L: 34L, 3486L: 855L, 3487L: 1577L, 3488L: 1630L, 3489L: 1123L, 3490L: 797L, 3491L: 615L, 3492L: 13L, 3493L: 836L, 3494L: 2680L, 3495L: 815L, 3496L: 1153L, 3497L: 1171L, 3498L: 2144L, 3499L: 1461L, 3500L: 2638L, 3501L: 1298L, 3502L: 925L, 3503L: 1403L, 3504L: 1711L, 3505L: 1265L, 3506L: 185L, 3507L: 38L, 3508L: 852L, 3509L: 767L, 3510L: 2801L, 3511L: 1029L, 3512L: 615L, 3513L: 1031L, 3514L: 526L, 3515L: 755L, 3516L: 83L, 3517L: 209L, 3518L: 4L, 3519L: 15L, 3520L: 151L, 3521L: 1374L, 3522L: 52L, 3523L: 718L, 3524L: 6L, 3525L: 496L, 3526L: 572L, 3527L: 2136L, 3528L: 1382L, 3529L: 1840L, 3530L: 215L, 3531L: 1894L, 3532L: 739L, 3533L: 2344L, 3534L: 12L, 3535L: 75L, 3536L: 369L, 3537L: 1296L, 3538L: 1005L, 3539L: 321L, 3540L: 178L, 3541L: 135L, 3542L: 232L, 3543L: 2400L, 3544L: 5368L, 3545L: 745L, 3546L: 89L, 3547L: 169L, 3548L: 995L, 3549L: 784L, 3550L: 675L, 3551L: 741L, 3552L: 580L, 3553L: 2475L, 3554L: 801L, 3555L: 2914L, 3556L: 2L, 3557L: 237L, 3558L: 952L, 3559L: 498L, 3560L: 1431L, 3561L: 553L, 3562L: 379L, 3563L: 555L, 3564L: 1690L, 3565L: 2181L, 3566L: 161L, 3567L: 465L, 3568L: 1103L, 3569L: 1529L, 3570L: 2749L, 3571L: 2222L, 3572L: 3013L, 3573L: 2218L, 3574L: 1994L, 3575L: 1315L, 3576L: 554L, 3577L: 1106L, 3579L: 2L, 3580L: 466L, 3581L: 1429L, 3582L: 406L, 3583L: 442L, 3584L: 1318L, 3585L: 536L, 3586L: 741L, 3587L: 577L, 3588L: 1191L, 3589L: 207L, 3590L: 705L, 3591L: 1591L, 3592L: 1951L, 3593L: 1112L, 3595L: 1516L, 3596L: 1953L, 3597L: 952L, 3598L: 1330L, 3599L: 2278L, 3600L: 1467L, 3601L: 4464L, 3602L: 1634L, 3603L: 878L, 3604L: 1296L, 3605L: 331L, 3606L: 378L, 3607L: 2396L, 3608L: 1166L, 3609L: 987L, 3610L: 590L, 3611L: 3128L, 3612L: 338L, 3613L: 456L, 3614L: 2065L, 3615L: 67L, 3616L: 1523L, 3617L: 477L, 3618L: 54L, 3619L: 2707L, 3620L: 3030L, 3621L: 1L, 3622L: 302L, 3623L: 633L, 3624L: 742L, 3625L: 555L, 3626L: 261L, 3627L: 598L, 3628L: 2L, 3630L: 2225L, 3631L: 2595L, 3632L: 222L, 3633L: 1738L, 3634L: 3782L, 3635L: 753L, 3636L: 1163L, 3637L: 1645L, 3638L: 442L, 3639L: 1155L, 3640L: 273L, 3641L: 2718L, 3642L: 1733L, 3643L: 2021L, 3644L: 1334L, 3645L: 1115L, 3646L: 3936L, 3647L: 1312L, 3648L: 1L, 3649L: 2477L, 3650L: 898L, 3651L: 274L, 3652L: 40L, 3653L: 1052L, 3654L: 921L, 3655L: 1109L, 3656L: 14L, 3657L: 14L, 3658L: 1326L, 3659L: 73L, 3660L: 883L, 3661L: 266L, 3662L: 217L, 3663L: 1630L, 3664L: 95L, 3665L: 1873L, 3666L: 1625L, 3667L: 1330L, 3668L: 559L, 3669L: 534L, 3670L: 1916L, 3671L: 2293L, 3672L: 1264L, 3673L: 4301L, 3674L: 234L, 3675L: 1785L, 3676L: 1953L, 3677L: 507L, 3678L: 7L, 3679L: 155L, 3680L: 3263L, 3681L: 895L, 3682L: 267L, 3683L: 1179L, 3684L: 900L, 3685L: 12L, 3686L: 896L, 3687L: 144L, 3688L: 1743L, 3689L: 1600L, 3690L: 1252L, 3691L: 2312L, 3692L: 1786L, 3693L: 1385L, 3694L: 1687L, 3695L: 1639L, 3696L: 14L, 3697L: 2451L, 3698L: 1813L, 3699L: 349L, 3700L: 82L, 3701L: 438L, 3702L: 7L, 3703L: 3126L, 3704L: 2728L, 3705L: 928L, 3706L: 70L, 3707L: 818L, 3708L: 320L, 3709L: 619L, 3710L: 2633L, 3711L: 1478L, 3712L: 1195L, 3713L: 1697L, 3714L: 1386L, 3715L: 1512L, 3716L: 3788L, 3717L: 15L, 3718L: 1648L, 3719L: 2149L, 3720L: 1525L, 3721L: 1543L, 3722L: 23L, 3723L: 1442L, 3724L: 1611L, 3725L: 579L, 3726L: 1L, 3727L: 2032L, 3728L: 4946L, 3729L: 373L, 3730L: 853L, 3731L: 203L, 3732L: 1956L, 3733L: 854L, 3734L: 735L, 3735L: 1404L, 3736L: 1513L, 3737L: 1542L, 3738L: 111L, 3739L: 1839L, 3740L: 2157L, 3741L: 10L, 3742L: 1238L, 3743L: 689L, 3744L: 314L, 3745L: 168L, 3746L: 3352L, 3747L: 3719L, 3748L: 1843L, 3749L: 1662L, 3750L: 4485L, 3751L: 805L, 3752L: 1171L, 3753L: 2272L, 3754L: 11L, 3755L: 72L, 3756L: 12L, 3757L: 204L, 3758L: 1066L, 3759L: 630L, 3760L: 1117L, 3761L: 2257L, 3762L: 2706L, 3763L: 1816L, 3764L: 1960L, 3765L: 23L, 3766L: 33L, 3767L: 641L, 3768L: 530L, 3769L: 300L, 3770L: 118L, 3771L: 5L, 3772L: 37L, 3773L: 1L, 3774L: 19L, 3775L: 39L, 3776L: 135L, 3777L: 27L, 3778L: 48L, 3779L: 4L, 3780L: 2343L, 3781L: 45L, 3782L: 222L, 3783L: 4L, 3784L: 213L, 3785L: 2240L, 3786L: 1689L, 3787L: 489L, 3788L: 623L, 3789L: 334L, 3790L: 2254L, 3791L: 7L, 3792L: 1847L, 3793L: 3L, 3794L: 81L, 3795L: 66L, 3796L: 1174L, 3797L: 649L, 3798L: 196L, 3799L: 45L, 3800L: 74L, 3801L: 120L, 3802L: 132L, 3803L: 1946L, 3804L: 462L, 3805L: 144L, 3806L: 76L, 3807L: 1174L, 3808L: 1060L, 3809L: 2L, 3811L: 1989L, 3812L: 1106L, 3813L: 1443L, 3814L: 1052L, 3815L: 3474L, 3816L: 1425L, 3817L: 2335L, 3818L: 30L, 3819L: 3522L, 3820L: 384L, 3821L: 2298L, 3822L: 434L, 3823L: 606L, 3824L: 39L, 3825L: 481L, 3826L: 29L, 3827L: 14L, 3828L: 16L, 3829L: 1900L, 3830L: 25L, 3831L: 1905L, 3832L: 1104L, 3833L: 1057L, 3834L: 12L, 3835L: 2746L, 3836L: 27L, 3837L: 62L, 3838L: 225L, 3839L: 1524L, 3840L: 2L, 3841L: 3473L, 3842L: 1932L, 3843L: 3480L, 3844L: 3872L, 3845L: 1908L, 3846L: 1521L, 3847L: 2L, 3848L: 310L, 3849L: 2734L, 3850L: 3558L, 3851L: 986L, 3852L: 1596L, 3853L: 1620L, 3854L: 922L, 3855L: 2134L, 3856L: 2277L, 3857L: 1122L, 3858L: 2120L, 3859L: 1144L, 3860L: 584L, 3861L: 2853L, 3862L: 9L, 3863L: 1302L, 3864L: 27L, 3865L: 476L, 3866L: 93L, 3867L: 7L, 3868L: 161L, 3869L: 187L, 3870L: 127L, 3871L: 17L, 3872L: 83L, 3873L: 3508L, 3874L: 543L, 3875L: 2843L, 3876L: 3817L, 3877L: 2533L, 3878L: 630L, 3879L: 2475L, 3880L: 1938L, 3881L: 1132L, 3882L: 2177L, 3883L: 2762L, 3884L: 2288L, 3885L: 710L, 3886L: 1328L, 3887L: 1986L, 3888L: 533L, 3889L: 1516L, 3890L: 1170L, 3891L: 669L, 3892L: 3581L, 3893L: 52L, 3894L: 1946L, 3895L: 2178L, 3896L: 3028L, 3897L: 686L, 3898L: 946L, 3899L: 1145L, 3900L: 3134L, 3901L: 1711L, 3902L: 10L, 3903L: 1546L, 3904L: 1622L, 3905L: 159L, 3906L: 1205L, 3907L: 1202L, 3908L: 1431L, 3909L: 2248L, 3910L: 2849L, 3911L: 1541L, 3912L: 221L, 3913L: 2297L, 3914L: 560L, 3915L: 1251L, 3916L: 3187L, 3917L: 1419L, 3918L: 809L, 3919L: 5L, 3920L: 4299L, 3921L: 3032L, 3922L: 1933L, 3923L: 1368L, 3924L: 824L, 3925L: 2703L, 3926L: 3548L, 3927L: 785L, 3928L: 2175L, 3929L: 2954L, 3930L: 1080L, 3931L: 1308L, 3932L: 268L, 3933L: 223L, 3934L: 3228L, 3935L: 1378L, 3936L: 3068L, 3937L: 2695L, 3938L: 11L, 3939L: 1486L, 3940L: 2623L, 3941L: 1122L, 3942L: 1744L, 3943L: 1030L, 3944L: 2433L, 3945L: 443L, 3947L: 56L, 3948L: 22L, 3949L: 232L, 3950L: 85L, 3951L: 2743L, 3952L: 122L, 3953L: 9L, 3954L: 185L, 3955L: 31L, 3956L: 476L, 3957L: 1673L, 3958L: 2304L, 3959L: 1589L, 3960L: 2583L, 3961L: 237L, 3962L: 1545L, 3963L: 1990L, 3964L: 10L, 3965L: 430L, 3966L: 201L, 3967L: 930L, 3968L: 346L, 3969L: 30L, 3970L: 2315L, 3971L: 871L, 3972L: 57L, 3973L: 2875L, 3974L: 1841L, 3975L: 266L, 3976L: 1937L, 3977L: 295L, 3978L: 1232L, 3979L: 2161L, 3980L: 999L, 3981L: 1252L, 3982L: 995L, 3983L: 287L, 3984L: 1787L, 3985L: 632L, 3986L: 2200L, 3987L: 769L, 3988L: 1909L, 3989L: 531L, 3990L: 1807L, 3991L: 716L, 3992L: 47L, 3993L: 84L, 3994L: 338L, 3995L: 1030L, 3996L: 373L, 3997L: 1667L, 3998L: 1L, 3999L: 2610L, 4000L: 770L, 4001L: 2126L, 4002L: 4091L, 4003L: 1669L, 4004L: 752L, 4005L: 3272L, 4006L: 1705L, 4007L: 1210L, 4008L: 24L, 4009L: 2007L, 4010L: 988L, 4011L: 1179L, 4012L: 786L, 4013L: 274L, 4014L: 281L, 4015L: 2L, 4016L: 1361L, 4017L: 3697L, 4018L: 2717L, 4019L: 541L, 4020L: 1680L, 4021L: 2178L, 4022L: 2891L, 4023L: 1349L, 4024L: 106L, 4025L: 1276L, 4026L: 699L, 4027L: 563L, 4028L: 596L, 4029L: 1320L, 4030L: 1337L, 4031L: 1817L, 4032L: 2784L, 4033L: 1167L, 4034L: 2549L, 4035L: 210L, 4036L: 2852L, 4037L: 484L, 4038L: 347L, 4039L: 3047L, 4040L: 1659L, 4041L: 1149L, 4042L: 1164L, 4043L: 2614L, 4044L: 1633L, 4045L: 564L, 4046L: 83L, 4047L: 2305L, 4048L: 1196L, 4049L: 2230L, 4050L: 1551L, 4051L: 2080L, 4052L: 1928L, 4053L: 4L, 4054L: 1529L, 4055L: 761L, 4056L: 1563L, 4057L: 44L, 4058L: 777L, 4059L: 1574L, 4060L: 520L, 4061L: 152L, 4062L: 621L, 4063L: 2443L, 4064L: 1121L, 4065L: 111L, 4066L: 14L, 4067L: 661L, 4068L: 428L, 4069L: 1173L, 4070L: 44L, 4071L: 5L, 4072L: 113L, 4073L: 2571L, 4074L: 1366L, 4075L: 646L, 4076L: 2622L, 4077L: 2588L, 4078L: 2173L, 4079L: 5L, 4080L: 261L, 4081L: 2L, 4082L: 2379L, 4083L: 461L, 4084L: 1763L, 4085L: 1351L, 4086L: 1086L, 4087L: 2893L, 4088L: 1182L, 4089L: 1679L, 4090L: 2266L, 4091L: 1544L, 4092L: 2828L, 4093L: 1516L, 4094L: 1329L, 4095L: 187L, 4096L: 1910L, 4097L: 1596L, 4098L: 1194L, 4099L: 1895L, 4100L: 1312L, 4101L: 2788L, 4102L: 569L, 4103L: 2127L, 4104L: 2529L, 4105L: 50L, 4106L: 2930L, 4107L: 1094L, 4108L: 704L, 4109L: 3550L, 4110L: 2041L, 4111L: 4L, 4112L: 671L, 4113L: 3686L, 4114L: 966L, 4115L: 46L, 4116L: 375L, 4117L: 375L, 4118L: 110L, 4119L: 19L, 4120L: 18L, 4121L: 11L, 4122L: 203L, 4123L: 433L, 4124L: 37L, 4125L: 7L, 4126L: 242L, 4127L: 101L, 4128L: 272L, 4129L: 1063L, 4130L: 2524L, 4131L: 1001L, 4132L: 1840L, 4133L: 1706L, 4134L: 1614L, 4135L: 598L, 4136L: 108L, 4137L: 318L, 4138L: 637L, 4139L: 706L, 4140L: 1232L, 4141L: 926L, 4142L: 692L, 4143L: 3950L, 4144L: 78L, 4145L: 278L, 4146L: 742L, 4147L: 2342L, 4148L: 1477L, 4149L: 1763L, 4150L: 208L, 4151L: 1400L, 4152L: 202L, 4153L: 672L, 4154L: 2223L, 4155L: 868L, 4156L: 1428L, 4157L: 818L, 4158L: 1713L, 4159L: 794L, 4160L: 943L, 4161L: 1727L, 4162L: 1204L, 4163L: 530L, 4164L: 541L, 4165L: 5L, 4166L: 1171L, 4167L: 193L, 4168L: 144L, 4169L: 1145L, 4170L: 974L, 4171L: 367L, 4172L: 763L, 4173L: 20L, 4174L: 1101L, 4175L: 13L, 4176L: 2057L, 4177L: 757L, 4178L: 267L, 4179L: 844L, 4180L: 2210L, 4181L: 450L, 4182L: 736L, 4183L: 1508L, 4184L: 1085L, 4185L: 1174L, 4186L: 828L, 4187L: 554L, 4188L: 1378L, 4189L: 24L, 4190L: 1733L, 4191L: 2554L, 4192L: 523L, 4193L: 2147L, 4194L: 2550L, 4195L: 135L, 4196L: 3071L, 4197L: 1501L, 4198L: 133L, 4199L: 2985L, 4200L: 3555L, 4201L: 2971L, 4202L: 2337L, 4203L: 2473L, 4204L: 158L, 4205L: 94L, 4206L: 233L, 4207L: 45L, 4208L: 1863L, 4209L: 1909L, 4210L: 325L, 4211L: 2811L, 4212L: 328L, 4213L: 2937L, 4214L: 900L, 4215L: 830L, 4216L: 1908L, 4217L: 255L, 4218L: 362L, 4219L: 554L, 4220L: 386L, 4221L: 444L, 4222L: 1222L, 4223L: 1847L, 4224L: 2344L, 4225L: 4086L, 4226L: 1428L, 4227L: 409L, 4228L: 1589L, 4229L: 2769L, 4230L: 116L, 4231L: 868L, 4232L: 1875L, 4233L: 79L, 4234L: 3285L, 4235L: 2264L, 4236L: 3262L, 4237L: 3379L, 4238L: 1790L, 4239L: 1485L, 4240L: 633L, 4241L: 641L, 4242L: 187L, 4243L: 1664L, 4244L: 574L, 4245L: 3754L, 4246L: 2496L, 4247L: 99L, 4248L: 647L, 4249L: 276L, 4250L: 6037L, 4251L: 1287L, 4252L: 214L, 4253L: 2352L, 4254L: 1892L, 4255L: 99L, 4256L: 116L, 4257L: 2646L, 4258L: 2735L, 4259L: 411L, 4260L: 2270L, 4261L: 2047L, 4262L: 1628L, 4263L: 2006L, 4264L: 2315L, 4265L: 2623L, 4266L: 516L, 4267L: 483L, 4268L: 1085L, 4269L: 79L, 4270L: 989L, 4271L: 14L, 4272L: 735L, 4273L: 10L, 4274L: 2910L, 4275L: 1782L, 4276L: 2002L, 4277L: 41L, 4278L: 716L, 4279L: 342L, 4280L: 1740L, 4281L: 1061L, 4282L: 2142L, 4283L: 475L, 4284L: 202L, 4285L: 403L, 4286L: 2096L, 4287L: 2165L, 4288L: 851L, 4289L: 2174L, 4290L: 4716L, 4291L: 1300L, 4292L: 2131L, 4293L: 723L, 4294L: 2792L, 4295L: 825L, 4296L: 472L, 4297L: 71L, 4298L: 2539L, 4299L: 1046L, 4300L: 2967L, 4301L: 1072L, 4302L: 2130L, 4303L: 848L, 4304L: 1648L, 4305L: 2759L, 4306L: 4963L, 4307L: 664L, 4308L: 553L, 4309L: 25L, 4310L: 241L, 4311L: 59L, 4312L: 2190L, 4313L: 1L, 4314L: 2630L, 4315L: 71L, 4316L: 433L, 4317L: 4L, 4318L: 3250L, 4319L: 1940L, 4320L: 1L, 4321L: 3L, 4322L: 2145L, 4323L: 2313L, 4324L: 35L, 4325L: 1238L, 4326L: 2477L, 4327L: 641L, 4328L: 2319L, 4329L: 1147L, 4330L: 1717L, 4331L: 2632L, 4332L: 47L, 4333L: 2144L, 4334L: 2299L, 4335L: 2131L, 4336L: 21L, 4337L: 2345L, 4338L: 3115L, 4339L: 739L, 4340L: 267L, 4341L: 145L, 4342L: 112L, 4343L: 1975L, 4344L: 3831L, 4345L: 3481L, 4346L: 41L, 4347L: 2606L, 4348L: 1773L, 4349L: 431L, 4350L: 321L, 4351L: 2478L, 4352L: 1679L, 4353L: 151L, 4354L: 3260L, 4355L: 1283L, 4356L: 1294L, 4357L: 2481L, 4358L: 2617L, 4359L: 2904L, 4360L: 13L, 4361L: 521L, 4362L: 2212L, 4363L: 2757L, 4364L: 2861L, 4365L: 3208L, 4366L: 2501L, 4367L: 2158L, 4368L: 2440L, 4369L: 819L, 4370L: 2897L, 4371L: 10L, 4372L: 197L, 4373L: 958L, 4374L: 3225L, 4375L: 69L, 4376L: 61L, 4377L: 1372L, 4378L: 2572L, 4379L: 2048L, 4380L: 306L, 4381L: 2327L, 4382L: 1885L, 4383L: 3255L, 4384L: 1443L, 4385L: 2446L, 4386L: 2368L, 4387L: 2304L, 4388L: 9L, 4389L: 1502L, 4390L: 2L, 4391L: 1113L, 4392L: 399L, 4393L: 1002L, 4394L: 2051L, 4395L: 7L, 4396L: 1768L, 4397L: 429L, 4398L: 2075L, 4399L: 2624L, 4400L: 922L, 4401L: 2948L, 4402L: 481L, 4403L: 2224L, 4404L: 201L, 4405L: 2326L, 4406L: 2134L, 4407L: 917L, 4408L: 2179L, 4409L: 34L, 4410L: 3508L, 4411L: 4147L, 4412L: 1868L, 4413L: 823L, 4414L: 1999L, 4415L: 24L, 4416L: 2571L, 4417L: 665L, 4418L: 3049L, 4419L: 2719L, 4420L: 1506L, 4421L: 2512L, 4422L: 1815L, 4423L: 2212L, 4424L: 24L, 4425L: 1084L, 4426L: 430L, 4427L: 2602L, 4428L: 2943L, 4429L: 822L, 4430L: 175L, 4431L: 2536L, 4432L: 3504L, 4433L: 1819L, 4434L: 1045L, 4435L: 3803L, 4436L: 2831L, 4437L: 230L, 4438L: 44L, 4439L: 5L, 4440L: 2121L, 4441L: 1334L, 4442L: 58L, 4443L: 544L, 4444L: 703L, 4445L: 886L, 4446L: 937L, 4447L: 79L, 4448L: 1978L, 4449L: 433L, 4450L: 195L, 4451L: 1244L, 4452L: 3214L, 4453L: 1242L, 4454L: 3L, 4455L: 540L, 4456L: 168L, 4457L: 2235L, 4458L: 3L, 4459L: 1519L, 4460L: 672L, 4461L: 1663L, 4462L: 489L, 4463L: 1882L, 4464L: 1283L, 4465L: 2233L, 4466L: 1698L, 4467L: 337L, 4468L: 1525L, 4469L: 527L, 4470L: 134L, 4471L: 1741L, 4472L: 2159L, 4473L: 1876L, 4474L: 503L, 4475L: 1599L, 4476L: 656L, 4477L: 1800L, 4478L: 1123L, 4479L: 749L, 4480L: 2613L, 4481L: 1085L, 4482L: 478L, 4483L: 1520L, 4484L: 7L, 4485L: 2221L, 4486L: 989L, 4487L: 2928L, 4488L: 24L, 4489L: 977L, 4490L: 268L, 4491L: 2224L, 4492L: 2636L, 4493L: 1061L, 4494L: 2098L, 4495L: 417L, 4496L: 543L, 4497L: 1426L, 4498L: 888L, 4499L: 2975L, 4500L: 354L, 4501L: 1045L, 4502L: 973L, 4503L: 595L, 4504L: 637L, 4505L: 2419L, 4506L: 2280L, 4507L: 1843L, 4508L: 868L, 4509L: 1577L, 4510L: 1L, 4511L: 490L, 4512L: 1064L, 4513L: 1613L, 4514L: 1605L, 4515L: 231L, 4516L: 140L, 4517L: 2429L, 4518L: 2190L, 4519L: 1943L, 4520L: 8L, 4521L: 493L, 4522L: 681L, 4523L: 148L, 4524L: 4470L, 4525L: 3232L, 4526L: 2371L, 4527L: 701L, 4528L: 2L, 4529L: 1549L, 4530L: 225L, 4531L: 2737L, 4532L: 2180L, 4533L: 978L, 4534L: 1639L, 4535L: 1012L, 4536L: 14L, 4537L: 518L, 4538L: 3174L, 4539L: 196L, 4540L: 3286L, 4541L: 2416L, 4542L: 40L, 4543L: 194L, 4544L: 84L, 4545L: 246L, 4546L: 1922L, 4547L: 1702L, 4548L: 2787L, 4549L: 4L, 4550L: 3878L, 4551L: 2934L, 4552L: 1904L, 4553L: 2208L, 4554L: 3768L, 4555L: 4370L, 4556L: 3643L, 4557L: 1437L, 4558L: 3236L, 4559L: 2745L, 4560L: 2084L, 4561L: 223L, 4562L: 1744L, 4563L: 960L, 4564L: 2765L, 4565L: 2701L, 4566L: 1198L, 4567L: 282L, 4568L: 730L, 4569L: 897L, 4570L: 1861L, 4571L: 823L, 4572L: 56L, 4573L: 2435L, 4574L: 972L, 4575L: 233L, 4576L: 2553L, 4577L: 65L, 4578L: 2L, 4579L: 466L, 4580L: 89L, 4581L: 109L, 4582L: 24L, 4583L: 2694L, 4584L: 120L, 4585L: 1373L, 4586L: 75L, 4587L: 2806L, 4588L: 2588L, 4589L: 1904L, 4590L: 1212L, 4591L: 61L, 4592L: 1701L, 4593L: 236L, 4594L: 733L, 4595L: 1793L, 4596L: 666L, 4597L: 10L, 4598L: 1247L, 4599L: 1649L, 4600L: 2092L, 4601L: 336L, 4602L: 10L, 4603L: 2184L, 4604L: 2124L, 4605L: 395L, 4606L: 1459L, 4607L: 2L, 4608L: 63L, 4609L: 1426L, 4610L: 2140L, 4611L: 270L, 4612L: 58L, 4613L: 1471L, 4614L: 221L, 4615L: 1675L, 4616L: 1154L, 4617L: 2401L, 4618L: 2143L, 4619L: 333L, 4620L: 613L, 4621L: 2977L, 4622L: 1315L, 4623L: 10L, 4624L: 2233L, 4625L: 1642L, 4626L: 103L, 4627L: 22L, 4628L: 138L, 4630L: 1389L, 4631L: 1047L, 4632L: 110L, 4633L: 145L, 4634L: 2L, 4635L: 103L, 4636L: 2L, 4637L: 161L, 4638L: 69L, 4639L: 2336L, 4640L: 716L, 4641L: 1415L, 4642L: 896L, 4643L: 73L, 4644L: 2082L, 4645L: 25L, 4646L: 372L, 4647L: 1630L, 4648L: 934L, 4649L: 2448L, 4650L: 1858L, 4651L: 934L, 4652L: 772L, 4653L: 1224L, 4654L: 577L, 4655L: 1006L, 4656L: 840L, 4657L: 1688L, 4658L: 1715L, 4659L: 1814L, 4660L: 670L, 4661L: 957L, 4662L: 512L, 4663L: 1230L, 4664L: 1275L, 4665L: 3661L, 4666L: 1813L, 4667L: 1215L, 4668L: 1351L, 4669L: 1504L, 4670L: 1917L, 4671L: 90L, 4672L: 940L, 4673L: 1701L, 4674L: 87L, 4675L: 1647L, 4676L: 1536L, 4677L: 779L, 4678L: 2171L, 4679L: 54L, 4680L: 1290L, 4681L: 1896L, 4682L: 1132L, 4683L: 1524L, 4684L: 2236L, 4685L: 2129L, 4686L: 462L, 4687L: 2009L, 4688L: 521L, 4689L: 429L, 4690L: 2022L, 4691L: 992L, 4692L: 706L, 4693L: 833L, 4694L: 3181L, 4695L: 2876L, 4696L: 2880L, 4697L: 599L, 4698L: 765L, 4699L: 1442L, 4700L: 517L, 4701L: 279L, 4702L: 341L, 4703L: 1689L, 4704L: 1400L, 4705L: 1528L, 4706L: 1017L, 4707L: 3223L, 4708L: 1307L, 4709L: 2000L, 4710L: 1046L, 4711L: 70L, 4712L: 1409L, 4713L: 1281L, 4714L: 1857L, 4715L: 1921L, 4716L: 1840L, 4717L: 786L, 4718L: 1712L, 4719L: 1410L, 4720L: 21L, 4721L: 1691L, 4722L: 2864L, 4723L: 573L, 4724L: 1338L, 4725L: 1605L, 4726L: 168L, 4727L: 196L, 4728L: 1817L, 4729L: 442L, 4730L: 70L, 4731L: 789L, 4732L: 1645L, 4733L: 781L, 4734L: 738L, 4735L: 2506L, 4736L: 1992L, 4737L: 1016L, 4738L: 809L, 4739L: 420L, 4740L: 3683L, 4741L: 601L, 4742L: 133L, 4743L: 960L, 4744L: 186L, 4745L: 104L, 4746L: 115L, 4747L: 464L, 4748L: 690L, 4749L: 15L, 4750L: 12L, 4751L: 234L, 4752L: 75L, 4753L: 184L, 4754L: 607L, 4755L: 144L, 4756L: 1221L, 4757L: 56L, 4758L: 605L, 4759L: 6L, 4760L: 27L, 4761L: 497L, 4762L: 103L, 4763L: 1002L, 4764L: 1253L, 4765L: 559L, 4766L: 1906L, 4767L: 1010L, 4768L: 769L, 4769L: 10L, 4770L: 196L, 4771L: 808L, 4772L: 1339L, 4773L: 2073L, 4774L: 362L, 4775L: 329L, 4776L: 246L, 4777L: 869L, 4778L: 583L, 4779L: 1488L, 4780L: 121L, 4781L: 111L, 4782L: 752L, 4783L: 294L, 4784L: 695L, 4785L: 974L, 4786L: 146L, 4787L: 113L, 4788L: 483L, 4789L: 144L, 4790L: 1176L, 4791L: 386L, 4792L: 354L, 4793L: 137L, 4794L: 291L, 4796L: 1073L, 4797L: 1154L, 4798L: 1129L, 4799L: 254L, 4800L: 321L, 4801L: 2457L, 4802L: 1692L, 4803L: 1196L, 4804L: 552L, 4805L: 1072L, 4806L: 1750L, 4807L: 2593L, 4808L: 1416L, 4809L: 510L, 4810L: 1198L, 4811L: 2662L, 4812L: 32L, 4813L: 75L, 4814L: 2553L, 4815L: 1419L, 4816L: 590L, 4817L: 115L, 4818L: 1062L, 4819L: 3025L, 4820L: 1750L, 4821L: 111L, 4822L: 322L, 4823L: 2067L, 4824L: 2417L, 4825L: 757L, 4826L: 1553L, 4827L: 65L, 4828L: 512L, 4829L: 1017L, 4830L: 1421L, 4831L: 1042L, 4832L: 2017L, 4833L: 2885L, 4834L: 3382L, 4835L: 208L, 4836L: 1431L, 4837L: 671L, 4838L: 3292L, 4839L: 1012L, 4840L: 2226L, 4841L: 4L, 4842L: 1811L, 4843L: 2074L, 4844L: 225L, 4845L: 1847L, 4846L: 125L, 4847L: 71L, 4848L: 2223L, 4849L: 568L, 4850L: 451L, 4851L: 2029L, 4852L: 1L, 4853L: 1117L, 4854L: 2997L, 4855L: 45L, 4856L: 1680L, 4857L: 779L, 4858L: 2771L, 4859L: 122L, 4860L: 453L, 4861L: 2203L, 4862L: 571L, 4863L: 95L, 4864L: 958L, 4865L: 109L, 4866L: 126L, 4867L: 383L, 4868L: 204L, 4869L: 695L, 4870L: 91L, 4871L: 493L, 4872L: 449L, 4873L: 226L, 4874L: 1065L, 4875L: 28L, 4876L: 79L, 4877L: 2064L, 4878L: 1139L, 4879L: 414L, 4880L: 2443L, 4881L: 2475L, 4882L: 1602L, 4883L: 524L, 4884L: 2583L, 4885L: 365L, 4886L: 15L, 4887L: 319L, 4888L: 557L, 4889L: 203L, 4890L: 537L, 4891L: 135L, 4892L: 459L, 4893L: 913L, 4894L: 3413L, 4895L: 485L, 4896L: 2739L, 4897L: 15L, 4898L: 1500L, 4899L: 15L, 4900L: 102L, 4901L: 378L, 4902L: 150L, 4903L: 314L, 4904L: 105L, 4905L: 2664L, 4906L: 1201L, 4907L: 2847L, 4908L: 2653L, 4909L: 3217L, 4910L: 1152L, 4911L: 5L, 4912L: 44L, 4913L: 475L, 4914L: 115L, 4915L: 8L, 4916L: 100L, 4917L: 94L, 4918L: 1374L, 4919L: 2946L, 4920L: 2264L, 4921L: 49L, 4922L: 2527L, 4923L: 2086L, 4924L: 1997L, 4925L: 10L, 4926L: 2209L, 4927L: 1106L, 4928L: 3944L, 4929L: 3379L, 4930L: 103L, 4931L: 14L, 4932L: 2364L, 4933L: 21L, 4934L: 13L, 4935L: 6L, 4936L: 15L, 4937L: 1514L, 4938L: 704L, 4939L: 306L, 4940L: 324L, 4941L: 68L, 4942L: 532L, 4943L: 45L, 4944L: 787L, 4945L: 855L, 4946L: 357L, 4947L: 213L, 4948L: 266L, 4949L: 305L, 4950L: 417L, 4951L: 2179L, 4952L: 1474L, 4953L: 2380L, 4954L: 4L, 4955L: 20L, 4956L: 23L, 4957L: 14L, 4958L: 193L, 4959L: 1661L, 4960L: 352L, 4961L: 85L, 4962L: 278L, 4964L: 329L, 4965L: 217L, 4966L: 444L, 4967L: 55L, 4968L: 174L, 4969L: 211L, 4970L: 230L, 4971L: 245L, 4972L: 255L, 4973L: 285L, 4974L: 125L, 4975L: 151L, 4976L: 279L, 4977L: 130L, 4978L: 1380L, 4979L: 23L, 4980L: 312L, 4981L: 511L, 4982L: 1675L, 4983L: 955L, 4984L: 929L, 4985L: 72L, 4986L: 20L, 4987L: 10L, 4988L: 41L, 4989L: 89L, 4990L: 605L, 4991L: 379L, 4992L: 225L, 4993L: 839L, 4994L: 408L, 4995L: 1225L, 4996L: 955L, 4997L: 832L, 4998L: 872L, 4999L: 565L}\n"
     ]
    }
   ],
   "source": [
    "print(dict)"
   ]
  },
  {
   "cell_type": "code",
   "execution_count": 42,
   "metadata": {},
   "outputs": [],
   "source": [
    "tmp2 = pd.Series(index = range(1, 5000), data = dict, dtype = np.int)"
   ]
  },
  {
   "cell_type": "code",
   "execution_count": 54,
   "metadata": {},
   "outputs": [],
   "source": [
    "tmp2 = tmp2.fillna(0)"
   ]
  },
  {
   "cell_type": "code",
   "execution_count": 56,
   "metadata": {},
   "outputs": [],
   "source": [
    "tmp2 = tmp2.astype('int')"
   ]
  },
  {
   "cell_type": "code",
   "execution_count": 57,
   "metadata": {
    "scrolled": true
   },
   "outputs": [
    {
     "name": "stdout",
     "output_type": "stream",
     "text": [
      "1       1155\n",
      "2         29\n",
      "3       1167\n",
      "4       1680\n",
      "5        641\n",
      "6        485\n",
      "7       1316\n",
      "8       1068\n",
      "9       1068\n",
      "10        87\n",
      "11      1148\n",
      "12      1655\n",
      "13      1433\n",
      "14      1312\n",
      "15       286\n",
      "16       827\n",
      "17       841\n",
      "18         6\n",
      "19      1230\n",
      "20       883\n",
      "21         1\n",
      "22       548\n",
      "23       385\n",
      "24      1388\n",
      "25       759\n",
      "26      1228\n",
      "27      1865\n",
      "28       714\n",
      "29      2507\n",
      "30      1505\n",
      "        ... \n",
      "4970     230\n",
      "4971     245\n",
      "4972     255\n",
      "4973     285\n",
      "4974     125\n",
      "4975     151\n",
      "4976     279\n",
      "4977     130\n",
      "4978    1380\n",
      "4979      23\n",
      "4980     312\n",
      "4981     511\n",
      "4982    1675\n",
      "4983     955\n",
      "4984     929\n",
      "4985      72\n",
      "4986      20\n",
      "4987      10\n",
      "4988      41\n",
      "4989      89\n",
      "4990     605\n",
      "4991     379\n",
      "4992     225\n",
      "4993     839\n",
      "4994     408\n",
      "4995    1225\n",
      "4996     955\n",
      "4997     832\n",
      "4998     872\n",
      "4999     565\n",
      "Length: 4999, dtype: int32\n"
     ]
    }
   ],
   "source": [
    "print(tmp2)"
   ]
  },
  {
   "cell_type": "code",
   "execution_count": 58,
   "metadata": {},
   "outputs": [],
   "source": [
    "tmp2.to_csv('../data/train/train_feature_num_records.csv', index=True)"
   ]
  },
  {
   "cell_type": "code",
   "execution_count": 59,
   "metadata": {},
   "outputs": [],
   "source": [
    "tmp1 = train_wa_df[train_wa_df['uid'] < 4100]"
   ]
  },
  {
   "cell_type": "code",
   "execution_count": 60,
   "metadata": {},
   "outputs": [],
   "source": [
    "tmp2 = train_wa_df[train_wa_df['uid'] >= 4100]"
   ]
  },
  {
   "cell_type": "code",
   "execution_count": 61,
   "metadata": {},
   "outputs": [
    {
     "name": "stdout",
     "output_type": "stream",
     "text": [
      "<class 'pandas.core.frame.DataFrame'>\n",
      "Int64Index: 3745399 entries, 0 to 4482888\n",
      "Data columns (total 8 columns):\n",
      "uid           int64\n",
      "wa_name       object\n",
      "visit_cnt     int64\n",
      "visit_dura    int64\n",
      "up_flow       int64\n",
      "down_flow     int64\n",
      "wa_type       int64\n",
      "date          int64\n",
      "dtypes: int64(7), object(1)\n",
      "memory usage: 257.2+ MB\n",
      "None\n"
     ]
    }
   ],
   "source": [
    "print(tmp1.info())"
   ]
  },
  {
   "cell_type": "code",
   "execution_count": 70,
   "metadata": {},
   "outputs": [],
   "source": [
    "tmp = train_wa_df[['uid', 'visit_cnt', 'visit_dura', 'up_flow', 'down_flow']].groupby('uid').sum()"
   ]
  },
  {
   "cell_type": "code",
   "execution_count": 76,
   "metadata": {
    "scrolled": true
   },
   "outputs": [
    {
     "name": "stdout",
     "output_type": "stream",
     "text": [
      "     visit_cnt  visit_dura     up_flow    down_flow\n",
      "uid                                                \n",
      "1        97694   111717951   198982664    961584381\n",
      "2          178      441653      128573        94749\n",
      "3        23793    29725658    71003943   1302232575\n",
      "4        56631    68759582   305322754   3498333063\n",
      "5        13835    16348226    40537809    227950020\n",
      "6         7472     8371578    63020129    230621263\n",
      "7        38916    42931191   122874603   1414949738\n",
      "8        28601    33408610    84662263    784702356\n",
      "9        30084    38000355   171232060   2068118894\n",
      "10        6957     7216031     9244460    210398232\n",
      "11       39056    44577754   199550391   1541267930\n",
      "12       48163    63137099   172470193   1033096558\n",
      "13       33466    39840202   122998271    692934170\n",
      "14       30490    38225863   112707809   1930970015\n",
      "15        2871     5675466    14771369     17887307\n",
      "16       13447    17380650    59938844    919469789\n",
      "17       17413    19782279   246482473    453305348\n",
      "18          17       40796       31042        29014\n",
      "19       41003    49739351   111309599   1086070510\n",
      "20       16361    18767708    87926606    498732213\n",
      "21           1        5606        1544         1942\n",
      "22       12656    16682362    50235232    581790399\n",
      "23       11237    17560175    35542700    133881142\n",
      "24       31167    38318274   207540659    789676432\n",
      "25       28095    30547508    70180396    955508270\n",
      "26       29661    37019367   245218777    797607641\n",
      "27       38378    44313514    82002591    512448135\n",
      "28       24141    34598759   513175825   1568408257\n",
      "29      188577   238338524  1000428710  27173242162\n",
      "30       61630    89754284   946988351  21016108083\n",
      "31       35654    42891093   164392085   1245490341\n",
      "32       48475    57090993   230490518   4102291857\n",
      "33       71865   112642693   337446676   2770970985\n",
      "34       41794    49047258   107905148   1896460160\n",
      "36           5         606        3591        43806\n",
      "37       45152    55344914   162883151   1374055237\n",
      "38       12321    15110404   151406842   1288092749\n",
      "39        9072    11577246    22127816    105261820\n",
      "40         223      284938      427431       443523\n",
      "41       12903    17169986    62363944    382485478\n"
     ]
    }
   ],
   "source": [
    "print(tmp.head(40))"
   ]
  },
  {
   "cell_type": "code",
   "execution_count": 83,
   "metadata": {},
   "outputs": [
    {
     "data": {
      "text/html": [
       "<div>\n",
       "<style scoped>\n",
       "    .dataframe tbody tr th:only-of-type {\n",
       "        vertical-align: middle;\n",
       "    }\n",
       "\n",
       "    .dataframe tbody tr th {\n",
       "        vertical-align: top;\n",
       "    }\n",
       "\n",
       "    .dataframe thead th {\n",
       "        text-align: right;\n",
       "    }\n",
       "</style>\n",
       "<table border=\"1\" class=\"dataframe\">\n",
       "  <thead>\n",
       "    <tr style=\"text-align: right;\">\n",
       "      <th></th>\n",
       "      <th>visit_cnt</th>\n",
       "      <th>visit_dura</th>\n",
       "      <th>up_flow</th>\n",
       "      <th>down_flow</th>\n",
       "    </tr>\n",
       "  </thead>\n",
       "  <tbody>\n",
       "    <tr>\n",
       "      <th>count</th>\n",
       "      <td>4048.000000</td>\n",
       "      <td>4.048000e+03</td>\n",
       "      <td>4.048000e+03</td>\n",
       "      <td>4.048000e+03</td>\n",
       "    </tr>\n",
       "    <tr>\n",
       "      <th>mean</th>\n",
       "      <td>36331.184289</td>\n",
       "      <td>4.607508e+07</td>\n",
       "      <td>2.378945e+08</td>\n",
       "      <td>2.936611e+09</td>\n",
       "    </tr>\n",
       "    <tr>\n",
       "      <th>std</th>\n",
       "      <td>51243.930327</td>\n",
       "      <td>6.556163e+07</td>\n",
       "      <td>5.441075e+08</td>\n",
       "      <td>6.653284e+09</td>\n",
       "    </tr>\n",
       "    <tr>\n",
       "      <th>min</th>\n",
       "      <td>1.000000</td>\n",
       "      <td>0.000000e+00</td>\n",
       "      <td>4.000000e+01</td>\n",
       "      <td>0.000000e+00</td>\n",
       "    </tr>\n",
       "    <tr>\n",
       "      <th>25%</th>\n",
       "      <td>2009.000000</td>\n",
       "      <td>2.639848e+06</td>\n",
       "      <td>5.773771e+06</td>\n",
       "      <td>3.839876e+07</td>\n",
       "    </tr>\n",
       "    <tr>\n",
       "      <th>50%</th>\n",
       "      <td>17127.500000</td>\n",
       "      <td>2.159831e+07</td>\n",
       "      <td>6.395515e+07</td>\n",
       "      <td>5.678749e+08</td>\n",
       "    </tr>\n",
       "    <tr>\n",
       "      <th>75%</th>\n",
       "      <td>50185.500000</td>\n",
       "      <td>6.233678e+07</td>\n",
       "      <td>2.382578e+08</td>\n",
       "      <td>2.337112e+09</td>\n",
       "    </tr>\n",
       "    <tr>\n",
       "      <th>max</th>\n",
       "      <td>524144.000000</td>\n",
       "      <td>6.482617e+08</td>\n",
       "      <td>1.251746e+10</td>\n",
       "      <td>1.051268e+11</td>\n",
       "    </tr>\n",
       "  </tbody>\n",
       "</table>\n",
       "</div>"
      ],
      "text/plain": [
       "           visit_cnt    visit_dura       up_flow     down_flow\n",
       "count    4048.000000  4.048000e+03  4.048000e+03  4.048000e+03\n",
       "mean    36331.184289  4.607508e+07  2.378945e+08  2.936611e+09\n",
       "std     51243.930327  6.556163e+07  5.441075e+08  6.653284e+09\n",
       "min         1.000000  0.000000e+00  4.000000e+01  0.000000e+00\n",
       "25%      2009.000000  2.639848e+06  5.773771e+06  3.839876e+07\n",
       "50%     17127.500000  2.159831e+07  6.395515e+07  5.678749e+08\n",
       "75%     50185.500000  6.233678e+07  2.382578e+08  2.337112e+09\n",
       "max    524144.000000  6.482617e+08  1.251746e+10  1.051268e+11"
      ]
     },
     "execution_count": 83,
     "metadata": {},
     "output_type": "execute_result"
    }
   ],
   "source": [
    "tmp[tmp.index < 4100].describe()"
   ]
  },
  {
   "cell_type": "code",
   "execution_count": 82,
   "metadata": {},
   "outputs": [
    {
     "data": {
      "text/html": [
       "<div>\n",
       "<style scoped>\n",
       "    .dataframe tbody tr th:only-of-type {\n",
       "        vertical-align: middle;\n",
       "    }\n",
       "\n",
       "    .dataframe tbody tr th {\n",
       "        vertical-align: top;\n",
       "    }\n",
       "\n",
       "    .dataframe thead th {\n",
       "        text-align: right;\n",
       "    }\n",
       "</style>\n",
       "<table border=\"1\" class=\"dataframe\">\n",
       "  <thead>\n",
       "    <tr style=\"text-align: right;\">\n",
       "      <th></th>\n",
       "      <th>visit_cnt</th>\n",
       "      <th>visit_dura</th>\n",
       "      <th>up_flow</th>\n",
       "      <th>down_flow</th>\n",
       "    </tr>\n",
       "  </thead>\n",
       "  <tbody>\n",
       "    <tr>\n",
       "      <th>count</th>\n",
       "      <td>897.000000</td>\n",
       "      <td>8.970000e+02</td>\n",
       "      <td>8.970000e+02</td>\n",
       "      <td>8.970000e+02</td>\n",
       "    </tr>\n",
       "    <tr>\n",
       "      <th>mean</th>\n",
       "      <td>56120.462653</td>\n",
       "      <td>7.101805e+07</td>\n",
       "      <td>3.968095e+08</td>\n",
       "      <td>5.109441e+09</td>\n",
       "    </tr>\n",
       "    <tr>\n",
       "      <th>std</th>\n",
       "      <td>64044.075217</td>\n",
       "      <td>8.136362e+07</td>\n",
       "      <td>6.323265e+08</td>\n",
       "      <td>8.534771e+09</td>\n",
       "    </tr>\n",
       "    <tr>\n",
       "      <th>min</th>\n",
       "      <td>1.000000</td>\n",
       "      <td>0.000000e+00</td>\n",
       "      <td>0.000000e+00</td>\n",
       "      <td>0.000000e+00</td>\n",
       "    </tr>\n",
       "    <tr>\n",
       "      <th>25%</th>\n",
       "      <td>5781.000000</td>\n",
       "      <td>7.519787e+06</td>\n",
       "      <td>2.030270e+07</td>\n",
       "      <td>1.711921e+08</td>\n",
       "    </tr>\n",
       "    <tr>\n",
       "      <th>50%</th>\n",
       "      <td>35952.000000</td>\n",
       "      <td>4.615938e+07</td>\n",
       "      <td>1.684659e+08</td>\n",
       "      <td>1.512038e+09</td>\n",
       "    </tr>\n",
       "    <tr>\n",
       "      <th>75%</th>\n",
       "      <td>86745.000000</td>\n",
       "      <td>1.113219e+08</td>\n",
       "      <td>5.006677e+08</td>\n",
       "      <td>5.364908e+09</td>\n",
       "    </tr>\n",
       "    <tr>\n",
       "      <th>max</th>\n",
       "      <td>410960.000000</td>\n",
       "      <td>4.959533e+08</td>\n",
       "      <td>6.514391e+09</td>\n",
       "      <td>5.800676e+10</td>\n",
       "    </tr>\n",
       "  </tbody>\n",
       "</table>\n",
       "</div>"
      ],
      "text/plain": [
       "           visit_cnt    visit_dura       up_flow     down_flow\n",
       "count     897.000000  8.970000e+02  8.970000e+02  8.970000e+02\n",
       "mean    56120.462653  7.101805e+07  3.968095e+08  5.109441e+09\n",
       "std     64044.075217  8.136362e+07  6.323265e+08  8.534771e+09\n",
       "min         1.000000  0.000000e+00  0.000000e+00  0.000000e+00\n",
       "25%      5781.000000  7.519787e+06  2.030270e+07  1.711921e+08\n",
       "50%     35952.000000  4.615938e+07  1.684659e+08  1.512038e+09\n",
       "75%     86745.000000  1.113219e+08  5.006677e+08  5.364908e+09\n",
       "max    410960.000000  4.959533e+08  6.514391e+09  5.800676e+10"
      ]
     },
     "execution_count": 82,
     "metadata": {},
     "output_type": "execute_result"
    }
   ],
   "source": [
    "tmp[tmp.index >= 4100].describe()"
   ]
  },
  {
   "cell_type": "code",
   "execution_count": 85,
   "metadata": {},
   "outputs": [],
   "source": [
    "dict = tmp.to_dict()"
   ]
  },
  {
   "cell_type": "code",
   "execution_count": 86,
   "metadata": {},
   "outputs": [
    {
     "name": "stdout",
     "output_type": "stream",
     "text": [
      "{'visit_dura': {1L: 111717951L, 2L: 441653L, 3L: 29725658L, 4L: 68759582L, 5L: 16348226L, 6L: 8371578L, 7L: 42931191L, 8L: 33408610L, 9L: 38000355L, 10L: 7216031L, 11L: 44577754L, 12L: 63137099L, 13L: 39840202L, 14L: 38225863L, 15L: 5675466L, 16L: 17380650L, 17L: 19782279L, 18L: 40796L, 19L: 49739351L, 20L: 18767708L, 21L: 5606L, 22L: 16682362L, 23L: 17560175L, 24L: 38318274L, 25L: 30547508L, 26L: 37019367L, 27L: 44313514L, 28L: 34598759L, 29L: 238338524L, 30L: 89754284L, 31L: 42891093L, 32L: 57090993L, 33L: 112642693L, 34L: 49047258L, 36L: 606L, 37L: 55344914L, 38L: 15110404L, 39L: 11577246L, 40L: 284938L, 41L: 17169986L, 42L: 19965506L, 43L: 45351954L, 44L: 89905571L, 45L: 91593526L, 46L: 31387L, 47L: 15165630L, 48L: 55933012L, 49L: 21731496L, 50L: 61639736L, 51L: 68260098L, 53L: 29033238L, 54L: 9283636L, 55L: 6171394L, 56L: 1156563L, 57L: 78368046L, 58L: 24548009L, 59L: 93562L, 60L: 3212L, 61L: 207524L, 62L: 46149L, 63L: 40945266L, 64L: 3436350L, 65L: 65234582L, 66L: 4250L, 67L: 18877654L, 68L: 1709548L, 69L: 181L, 70L: 7812552L, 71L: 68866950L, 72L: 45716171L, 73L: 371678L, 74L: 3311364L, 75L: 44682988L, 76L: 36567004L, 77L: 2973281L, 78L: 37993884L, 79L: 111287576L, 80L: 20594792L, 81L: 22965707L, 82L: 51821034L, 83L: 97300892L, 84L: 10912365L, 85L: 11071352L, 86L: 1495268L, 87L: 8430313L, 88L: 7820793L, 89L: 3004816L, 90L: 396L, 91L: 21606572L, 92L: 17967158L, 93L: 20513676L, 94L: 36938475L, 95L: 2642827L, 96L: 8320L, 97L: 81844945L, 98L: 53062862L, 99L: 377749098L, 100L: 29375716L, 101L: 13566547L, 102L: 22625477L, 103L: 2872612L, 104L: 23757270L, 105L: 42231L, 106L: 17317491L, 107L: 15767515L, 108L: 72791244L, 109L: 80044975L, 110L: 21670059L, 111L: 22182998L, 112L: 18428650L, 113L: 43494104L, 114L: 48208305L, 115L: 3336024L, 116L: 21055767L, 117L: 33684319L, 118L: 32281082L, 119L: 91668611L, 120L: 8720987L, 121L: 2823721L, 122L: 26399779L, 123L: 24617662L, 124L: 15057781L, 125L: 5570L, 126L: 119397998L, 127L: 22536423L, 128L: 11850820L, 129L: 16449448L, 130L: 54205683L, 131L: 6281208L, 132L: 91631309L, 133L: 51369501L, 134L: 204807246L, 135L: 49492380L, 136L: 18773541L, 137L: 20295722L, 138L: 69663338L, 139L: 41891855L, 140L: 167848638L, 141L: 35118099L, 143L: 88551461L, 144L: 163200365L, 145L: 152581409L, 146L: 7782575L, 147L: 63181954L, 148L: 17780236L, 149L: 32124823L, 150L: 70131520L, 151L: 32682831L, 152L: 17624618L, 153L: 149063253L, 154L: 19652515L, 155L: 67769007L, 156L: 93965883L, 157L: 533163L, 158L: 4829L, 159L: 1458435L, 160L: 171135437L, 161L: 56767096L, 162L: 1203545L, 163L: 1555492L, 164L: 3024945L, 165L: 72720906L, 166L: 93618311L, 167L: 43559655L, 169L: 1200366L, 170L: 12155893L, 171L: 8825094L, 172L: 4627926L, 173L: 15676L, 174L: 31542586L, 175L: 87895949L, 176L: 63354586L, 177L: 7490287L, 178L: 65504547L, 179L: 80209067L, 180L: 106967036L, 181L: 17329010L, 182L: 52997436L, 183L: 4451959L, 184L: 15102183L, 185L: 23556460L, 186L: 1031753L, 187L: 19755468L, 188L: 25726664L, 189L: 58529177L, 190L: 33795283L, 191L: 57028798L, 192L: 13460637L, 193L: 49055700L, 194L: 494421010L, 195L: 9866830L, 196L: 37273010L, 197L: 8706283L, 198L: 50686104L, 199L: 4806940L, 200L: 42180609L, 201L: 12686697L, 202L: 10356566L, 203L: 6098312L, 204L: 80785917L, 205L: 14353L, 206L: 327334L, 207L: 36672080L, 208L: 6389L, 209L: 45048324L, 210L: 40170230L, 211L: 17964926L, 212L: 102406637L, 213L: 32206L, 214L: 67703389L, 215L: 1656037L, 216L: 73747285L, 217L: 4297802L, 218L: 92881389L, 219L: 12614L, 220L: 34793L, 221L: 124529426L, 222L: 28766931L, 223L: 10593L, 224L: 59345545L, 225L: 30212636L, 226L: 167701872L, 227L: 22102L, 228L: 4082156L, 229L: 82175984L, 230L: 29885674L, 231L: 8493L, 232L: 12822481L, 233L: 8616957L, 234L: 23375695L, 235L: 86068202L, 236L: 2628797L, 237L: 1120371L, 238L: 73422354L, 239L: 47634941L, 240L: 37056131L, 241L: 0L, 242L: 27374444L, 243L: 123426923L, 244L: 25314762L, 245L: 40498506L, 246L: 0L, 247L: 109579165L, 248L: 14000L, 249L: 4657L, 250L: 13734L, 251L: 7219L, 252L: 238318480L, 253L: 139716791L, 254L: 68084L, 255L: 14926678L, 256L: 4675L, 257L: 36521005L, 258L: 11622951L, 259L: 6349066L, 260L: 7189555L, 261L: 2423606L, 262L: 82103964L, 263L: 551741L, 264L: 6150176L, 265L: 60631197L, 266L: 4230755L, 267L: 34948251L, 268L: 21739244L, 269L: 25451L, 270L: 57037722L, 271L: 39684749L, 272L: 41760507L, 273L: 16485470L, 274L: 256301440L, 275L: 26594L, 276L: 33786165L, 277L: 18581L, 278L: 51050679L, 279L: 8908800L, 280L: 40973L, 281L: 149360L, 282L: 7251L, 283L: 423572L, 284L: 2463669L, 285L: 18830578L, 286L: 14161015L, 287L: 67183L, 288L: 193277L, 289L: 390954172L, 290L: 1004390L, 291L: 18020003L, 292L: 115193L, 293L: 21594686L, 294L: 24647449L, 295L: 48756560L, 296L: 46716280L, 297L: 31947686L, 298L: 135047869L, 299L: 61735420L, 300L: 831109L, 301L: 47939891L, 302L: 10578007L, 303L: 31355L, 304L: 105852342L, 305L: 37533216L, 306L: 21604587L, 307L: 2610694L, 308L: 10940588L, 309L: 24779538L, 310L: 32961069L, 311L: 4418428L, 312L: 3028563L, 313L: 114621852L, 314L: 862706L, 315L: 103089457L, 316L: 11657432L, 317L: 171226308L, 318L: 634107L, 319L: 59092L, 320L: 32321348L, 321L: 14223759L, 322L: 44895L, 323L: 1445926L, 324L: 240204579L, 325L: 53522623L, 326L: 13347879L, 327L: 209902005L, 328L: 19232117L, 329L: 13205989L, 330L: 175100719L, 331L: 117018525L, 332L: 5857568L, 333L: 193239913L, 334L: 4499849L, 335L: 131020092L, 336L: 648261702L, 337L: 47599868L, 338L: 2848977L, 339L: 136511569L, 340L: 2374857L, 341L: 47947402L, 342L: 31739687L, 343L: 2042942L, 344L: 305616786L, 345L: 10360848L, 346L: 4140501L, 347L: 305107L, 348L: 6575896L, 349L: 42756648L, 350L: 58850376L, 351L: 25167534L, 352L: 17495530L, 353L: 27583612L, 354L: 5116248L, 355L: 47067235L, 356L: 596270L, 357L: 6603094L, 358L: 10889105L, 359L: 827L, 360L: 150092763L, 361L: 166085927L, 362L: 11343L, 363L: 44863518L, 364L: 56718459L, 365L: 76069680L, 366L: 6722776L, 367L: 31626302L, 368L: 38620611L, 369L: 23238919L, 370L: 102057517L, 371L: 55846799L, 372L: 3334388L, 373L: 9761L, 374L: 397526L, 375L: 185129L, 376L: 91054507L, 377L: 7030603L, 378L: 2425863L, 379L: 0L, 380L: 2089200L, 381L: 23215652L, 382L: 176158628L, 383L: 47776384L, 384L: 511100L, 385L: 54995520L, 386L: 71675900L, 387L: 21008411L, 388L: 6228826L, 389L: 219324L, 390L: 44789953L, 391L: 68053386L, 392L: 7622786L, 393L: 3527L, 394L: 124331477L, 395L: 167754L, 396L: 10609285L, 397L: 13701637L, 398L: 100192520L, 399L: 202872242L, 400L: 15930368L, 401L: 114735708L, 402L: 142543904L, 403L: 155732398L, 404L: 278643L, 405L: 11704641L, 406L: 55808455L, 407L: 19166218L, 408L: 419619483L, 409L: 747262L, 410L: 10073444L, 411L: 13684L, 412L: 47507L, 413L: 51930844L, 414L: 11687120L, 415L: 42386269L, 416L: 11003L, 417L: 26564971L, 418L: 162263335L, 419L: 9263405L, 420L: 6286795L, 421L: 28272081L, 423L: 15919806L, 424L: 140429949L, 425L: 7062533L, 426L: 11697182L, 427L: 5548687L, 428L: 2964928L, 429L: 4018132L, 430L: 25451L, 431L: 118524252L, 432L: 4324345L, 433L: 5703483L, 434L: 15248999L, 435L: 842L, 436L: 1521L, 437L: 2552928L, 438L: 99095022L, 439L: 103712704L, 440L: 126841518L, 441L: 3211L, 442L: 99956798L, 443L: 70711952L, 444L: 46003626L, 445L: 156849668L, 446L: 3454755L, 447L: 52126728L, 448L: 16715142L, 449L: 66571829L, 450L: 9770395L, 451L: 80142220L, 452L: 972376L, 453L: 1065719L, 454L: 21598L, 455L: 14295622L, 456L: 10849753L, 457L: 163894188L, 459L: 7643091L, 460L: 24213908L, 461L: 2788176L, 462L: 89803702L, 463L: 96371626L, 464L: 223167618L, 465L: 20841L, 466L: 259901256L, 467L: 20137L, 468L: 74853548L, 469L: 18904626L, 470L: 5595131L, 471L: 112048865L, 472L: 2816479L, 473L: 28074L, 474L: 270716L, 475L: 113369278L, 476L: 186565L, 477L: 30167168L, 478L: 788524L, 479L: 78587912L, 480L: 25640306L, 481L: 169263259L, 482L: 114971455L, 483L: 208007154L, 484L: 155901075L, 485L: 2520L, 486L: 22852L, 487L: 211038531L, 488L: 446633L, 489L: 106792868L, 490L: 31991L, 491L: 60572658L, 492L: 471670L, 493L: 6536950L, 494L: 16384816L, 495L: 19683889L, 496L: 11709L, 497L: 42667739L, 498L: 108722477L, 499L: 20446L, 500L: 652008L, 501L: 1012490L, 502L: 52553L, 503L: 104547L, 504L: 1349728L, 505L: 62439685L, 506L: 115796626L, 507L: 25092059L, 508L: 111097230L, 509L: 16867646L, 510L: 37724916L, 511L: 38365447L, 512L: 23692L, 513L: 1111714L, 514L: 58583648L, 515L: 126694L, 516L: 15395837L, 517L: 31499L, 518L: 1942438L, 519L: 0L, 520L: 9391532L, 521L: 9389492L, 522L: 25102576L, 523L: 31217755L, 524L: 93870L, 525L: 9908908L, 526L: 1578600L, 527L: 4008097L, 528L: 12112263L, 529L: 19641784L, 530L: 35335915L, 531L: 209679374L, 532L: 5244856L, 533L: 405192L, 534L: 209369L, 535L: 2496381L, 536L: 3850574L, 537L: 117098605L, 538L: 70072606L, 539L: 78368814L, 540L: 12203774L, 541L: 12505389L, 542L: 547257L, 543L: 47642015L, 544L: 3724383L, 545L: 170991815L, 546L: 92573174L, 547L: 5696281L, 548L: 636L, 549L: 8399515L, 550L: 8118868L, 551L: 36610014L, 552L: 0L, 553L: 17676585L, 554L: 26743730L, 555L: 3866643L, 556L: 88025931L, 557L: 147004578L, 558L: 34009013L, 559L: 137446965L, 560L: 30603328L, 561L: 35367849L, 562L: 59773849L, 563L: 18158912L, 564L: 160725L, 565L: 24240919L, 566L: 41673877L, 567L: 40859022L, 568L: 108251588L, 569L: 119249L, 570L: 52987067L, 571L: 58667357L, 572L: 24482780L, 573L: 411958L, 574L: 10661L, 575L: 0L, 576L: 20576509L, 577L: 66202915L, 578L: 13683L, 579L: 41309718L, 580L: 48295927L, 581L: 27L, 582L: 22570109L, 583L: 135403L, 584L: 91595234L, 585L: 14983378L, 586L: 2227697L, 587L: 5610554L, 588L: 27326978L, 589L: 188361805L, 590L: 13383481L, 591L: 40659156L, 593L: 58392495L, 594L: 3140325L, 595L: 21892L, 596L: 1941299L, 597L: 46245814L, 598L: 7858345L, 599L: 65290L, 600L: 18539852L, 601L: 6970463L, 602L: 5783295L, 603L: 44969686L, 604L: 57191098L, 605L: 1246544L, 606L: 17586289L, 607L: 5204610L, 608L: 226045263L, 609L: 245L, 610L: 149272848L, 611L: 118313L, 612L: 26112100L, 613L: 19430272L, 614L: 4515199L, 615L: 25145L, 616L: 82976216L, 617L: 17061265L, 618L: 42264420L, 619L: 32389080L, 620L: 254336113L, 621L: 667460L, 622L: 2719L, 623L: 22528052L, 624L: 13269L, 625L: 3898L, 626L: 199819L, 627L: 259259L, 628L: 7949156L, 629L: 8401L, 630L: 231198L, 631L: 13346894L, 632L: 39045872L, 633L: 1312107L, 634L: 59676213L, 635L: 126839791L, 636L: 2748999L, 637L: 482376L, 638L: 217449232L, 639L: 12822062L, 640L: 22629527L, 641L: 10190241L, 642L: 3275220L, 644L: 8754872L, 645L: 23755399L, 646L: 6599L, 647L: 33602963L, 648L: 11969295L, 649L: 4603213L, 650L: 1323817L, 651L: 10374428L, 652L: 190961442L, 653L: 9265090L, 654L: 190551358L, 655L: 39814048L, 656L: 16424018L, 657L: 69742736L, 658L: 11087716L, 659L: 75310498L, 660L: 205037L, 661L: 3495067L, 662L: 499271068L, 663L: 16306L, 664L: 2997944L, 665L: 22222337L, 666L: 3357712L, 667L: 13017959L, 668L: 2948137L, 669L: 31755L, 670L: 16836586L, 671L: 96330239L, 672L: 87713861L, 673L: 54496536L, 674L: 10000325L, 675L: 42501627L, 676L: 9389432L, 677L: 5673946L, 678L: 25597496L, 679L: 6135277L, 680L: 16749429L, 681L: 59216852L, 682L: 85183865L, 683L: 6041736L, 684L: 210936L, 685L: 5000004L, 686L: 75271980L, 687L: 116841L, 688L: 540311L, 689L: 45594006L, 690L: 9685907L, 691L: 92586741L, 692L: 188323273L, 693L: 14683201L, 694L: 0L, 695L: 110188251L, 696L: 140287903L, 697L: 40464725L, 698L: 41747282L, 699L: 45871630L, 700L: 17112663L, 701L: 31975405L, 702L: 30863432L, 703L: 109157796L, 704L: 198410319L, 705L: 789919L, 706L: 4616565L, 707L: 17636L, 709L: 325767405L, 710L: 27764056L, 711L: 113523L, 712L: 38071272L, 713L: 2245L, 714L: 45054007L, 715L: 23305416L, 716L: 31489425L, 717L: 25293798L, 718L: 46334835L, 719L: 86049006L, 720L: 230240263L, 721L: 4000L, 722L: 80786788L, 723L: 210590302L, 724L: 687872L, 725L: 60704402L, 726L: 3390692L, 727L: 35362775L, 728L: 15745626L, 729L: 28857572L, 730L: 34663862L, 731L: 22005777L, 732L: 91903913L, 733L: 10889424L, 734L: 28228582L, 735L: 9288831L, 736L: 45581421L, 737L: 4988171L, 738L: 10446261L, 739L: 127235265L, 740L: 6089874L, 741L: 59910872L, 742L: 2247819L, 743L: 306779785L, 744L: 36844198L, 745L: 90543400L, 746L: 165319599L, 747L: 6406608L, 748L: 6652061L, 749L: 40354525L, 750L: 283583129L, 751L: 131748L, 752L: 12858347L, 753L: 5315537L, 754L: 43480180L, 755L: 61023435L, 756L: 43726938L, 757L: 154745092L, 758L: 2654296L, 759L: 17635839L, 760L: 28790497L, 761L: 567024922L, 762L: 279975492L, 763L: 6125913L, 764L: 30488L, 765L: 179028802L, 767L: 82379995L, 768L: 48601L, 769L: 23523343L, 770L: 9214206L, 771L: 88386227L, 772L: 42971789L, 773L: 119460042L, 774L: 97639135L, 775L: 830715L, 776L: 45914L, 777L: 25365030L, 778L: 76578137L, 779L: 14250213L, 780L: 36932L, 781L: 50749296L, 782L: 347446L, 783L: 320511602L, 784L: 1909553L, 785L: 33042708L, 786L: 1846167L, 787L: 847666L, 788L: 26537695L, 789L: 10020446L, 790L: 28082L, 791L: 76776593L, 792L: 14968108L, 793L: 230412689L, 794L: 74430497L, 795L: 10877010L, 796L: 119185812L, 797L: 120359048L, 798L: 40886895L, 799L: 2543699L, 800L: 5710483L, 801L: 75577220L, 802L: 3558988L, 803L: 205830L, 804L: 10886518L, 805L: 290447185L, 806L: 1173199L, 807L: 2550675L, 808L: 156593624L, 809L: 41842397L, 810L: 2193L, 811L: 39575323L, 812L: 23263366L, 813L: 17797L, 814L: 4613910L, 815L: 6428504L, 816L: 61779388L, 817L: 2069636L, 818L: 35613078L, 819L: 163850188L, 820L: 1792483L, 821L: 7708219L, 822L: 6536806L, 823L: 36772412L, 824L: 61737355L, 825L: 5213L, 826L: 5615020L, 827L: 99359L, 828L: 55301L, 829L: 78879L, 830L: 152418307L, 831L: 1813839L, 832L: 101707716L, 833L: 15198294L, 834L: 77829612L, 836L: 5826949L, 837L: 5019365L, 838L: 2861635L, 839L: 4981001L, 840L: 3503700L, 841L: 109749859L, 842L: 5132L, 843L: 11982L, 844L: 76781L, 845L: 5042L, 846L: 10059614L, 847L: 14644154L, 848L: 47164366L, 849L: 44600946L, 850L: 2805252L, 851L: 23647478L, 852L: 64027185L, 853L: 33271877L, 854L: 47555498L, 855L: 3097717L, 856L: 101690L, 857L: 4151686L, 858L: 3600800L, 859L: 25096328L, 860L: 25081964L, 861L: 141334577L, 862L: 55375238L, 863L: 151357081L, 864L: 4754087L, 865L: 74006237L, 866L: 97162853L, 867L: 9042636L, 868L: 54737848L, 869L: 91779339L, 870L: 16692831L, 871L: 51344L, 872L: 36051262L, 873L: 40950952L, 874L: 1397422L, 875L: 55380529L, 876L: 382119L, 877L: 9730251L, 878L: 27613935L, 879L: 40104548L, 880L: 164593754L, 881L: 71994280L, 882L: 16879048L, 883L: 101706112L, 884L: 137308322L, 885L: 25073970L, 887L: 220333099L, 888L: 19117617L, 889L: 6859054L, 890L: 138363566L, 891L: 57653224L, 892L: 62686161L, 893L: 42621015L, 894L: 3406548L, 895L: 16344393L, 896L: 1433635L, 897L: 164440284L, 898L: 102173131L, 899L: 12665863L, 900L: 29167963L, 901L: 4182732L, 902L: 124514454L, 903L: 66370197L, 904L: 2863530L, 905L: 108287415L, 906L: 87276649L, 907L: 127074967L, 908L: 0L, 909L: 80056484L, 910L: 4351548L, 911L: 117154895L, 912L: 84244148L, 913L: 1976257L, 914L: 2577533L, 915L: 45072885L, 916L: 1490091L, 917L: 13393592L, 918L: 36329075L, 919L: 132317022L, 920L: 41443746L, 921L: 2694146L, 922L: 7674056L, 923L: 56321780L, 924L: 11647L, 925L: 0L, 926L: 58186351L, 927L: 31042L, 928L: 11282530L, 929L: 48967L, 930L: 17078819L, 931L: 137468484L, 932L: 8553751L, 933L: 41575913L, 934L: 602533L, 935L: 50646702L, 936L: 18284318L, 937L: 46618315L, 938L: 111184854L, 939L: 272320L, 940L: 239916777L, 941L: 391950L, 942L: 9991037L, 943L: 2299673L, 944L: 8204L, 945L: 9262588L, 946L: 32389687L, 947L: 57771996L, 948L: 6117L, 949L: 38299441L, 950L: 14398383L, 951L: 1518852L, 952L: 24024531L, 953L: 14156L, 954L: 196823L, 955L: 49315547L, 956L: 5183572L, 957L: 8748821L, 958L: 10003041L, 959L: 15568606L, 960L: 2279798L, 961L: 43577463L, 962L: 198485730L, 963L: 10686063L, 964L: 21094537L, 965L: 1096685L, 966L: 76286346L, 967L: 2149041L, 968L: 38660767L, 969L: 42732L, 970L: 37855L, 971L: 148708L, 972L: 19107767L, 973L: 181966572L, 974L: 420151798L, 975L: 125507614L, 976L: 4287933L, 977L: 15587241L, 978L: 2452L, 979L: 17946057L, 981L: 59758882L, 982L: 393562625L, 983L: 62922951L, 984L: 26715320L, 985L: 100033289L, 986L: 23365017L, 987L: 211283126L, 988L: 56479513L, 989L: 139862013L, 990L: 276L, 991L: 44896495L, 992L: 5249750L, 994L: 43665393L, 995L: 13748L, 996L: 2465200L, 997L: 66855677L, 998L: 75052219L, 999L: 6116324L, 1000L: 386568L, 1001L: 12340L, 1002L: 4498051L, 1003L: 3235642L, 1004L: 193512295L, 1005L: 216834983L, 1006L: 384923L, 1007L: 11887L, 1008L: 228998L, 1009L: 22305979L, 1010L: 2186L, 1011L: 8136919L, 1012L: 21723L, 1013L: 231567L, 1014L: 26213661L, 1015L: 365108L, 1016L: 94707698L, 1017L: 118542564L, 1018L: 7416637L, 1019L: 129938832L, 1020L: 16195985L, 1021L: 124799696L, 1022L: 326018726L, 1023L: 69357802L, 1024L: 21038809L, 1025L: 35571044L, 1026L: 56441626L, 1027L: 102868553L, 1028L: 3326941L, 1029L: 49881571L, 1030L: 65565461L, 1031L: 98762732L, 1032L: 13303L, 1033L: 24001291L, 1034L: 118083668L, 1035L: 2558417L, 1036L: 13018L, 1037L: 28135L, 1038L: 9123518L, 1039L: 22651470L, 1040L: 41980617L, 1041L: 111672566L, 1042L: 12400330L, 1043L: 6021209L, 1044L: 10825665L, 1045L: 14658392L, 1046L: 185834L, 1047L: 1166489L, 1048L: 531078L, 1049L: 10413L, 1050L: 24508094L, 1051L: 141088L, 1052L: 107156671L, 1053L: 25007960L, 1054L: 39344579L, 1055L: 19160602L, 1056L: 7502L, 1057L: 22362324L, 1058L: 2083561L, 1059L: 4959321L, 1060L: 6445491L, 1061L: 65143517L, 1062L: 30542713L, 1063L: 60487825L, 1064L: 1266438L, 1065L: 146104255L, 1066L: 28941614L, 1067L: 958385L, 1068L: 24903445L, 1069L: 22000917L, 1070L: 1115920L, 1071L: 2040922L, 1072L: 8861943L, 1073L: 7364811L, 1074L: 30123368L, 1075L: 18727231L, 1076L: 84722612L, 1077L: 64401968L, 1078L: 170177317L, 1079L: 37708217L, 1080L: 14059604L, 1081L: 25195123L, 1082L: 11451640L, 1083L: 69289722L, 1085L: 51935409L, 1086L: 270728L, 1087L: 19467860L, 1088L: 74458L, 1089L: 5181729L, 1090L: 63789285L, 1092L: 7109809L, 1093L: 35555953L, 1094L: 3487307L, 1095L: 78258312L, 1096L: 316314870L, 1097L: 484L, 1098L: 5315909L, 1099L: 12264612L, 1100L: 1137025L, 1101L: 6085272L, 1102L: 14376615L, 1103L: 371180L, 1104L: 17484L, 1105L: 48565078L, 1106L: 41254774L, 1107L: 29938480L, 1108L: 3863199L, 1109L: 749740L, 1110L: 86863310L, 1111L: 530175L, 1112L: 26950989L, 1113L: 6650822L, 1114L: 30132127L, 1115L: 22174270L, 1116L: 38789020L, 1117L: 77360102L, 1118L: 1731541L, 1119L: 22246338L, 1120L: 4215286L, 1121L: 40569384L, 1122L: 15013322L, 1123L: 13923133L, 1124L: 2578645L, 1125L: 26277605L, 1126L: 39517609L, 1127L: 19435196L, 1128L: 1696332L, 1129L: 8036L, 1130L: 12575310L, 1131L: 9132798L, 1132L: 1998956L, 1133L: 66673L, 1134L: 11856L, 1135L: 3932L, 1136L: 136659L, 1137L: 223682064L, 1138L: 24600L, 1139L: 4095340L, 1140L: 37679048L, 1141L: 22601758L, 1142L: 8878L, 1143L: 8505494L, 1144L: 34149851L, 1145L: 27884016L, 1146L: 82311L, 1147L: 137744615L, 1148L: 49271L, 1149L: 2630913L, 1150L: 20233L, 1151L: 2483871L, 1152L: 3716397L, 1153L: 3255484L, 1154L: 34202627L, 1155L: 186664975L, 1156L: 2375517L, 1157L: 1867L, 1158L: 14623L, 1159L: 56965889L, 1160L: 16934999L, 1161L: 19196602L, 1162L: 237956923L, 1163L: 0L, 1164L: 154758071L, 1165L: 13892268L, 1166L: 45809L, 1167L: 54221271L, 1168L: 4357397L, 1169L: 441297L, 1170L: 43306518L, 1171L: 221113272L, 1172L: 109101501L, 1173L: 18509812L, 1174L: 119802179L, 1175L: 13581839L, 1176L: 133120L, 1177L: 211855L, 1178L: 5362062L, 1179L: 28777750L, 1180L: 255551L, 1181L: 35905534L, 1182L: 14340843L, 1183L: 4199773L, 1184L: 30849147L, 1185L: 82577991L, 1186L: 1532211L, 1187L: 116054246L, 1188L: 225283490L, 1189L: 27831864L, 1190L: 27467495L, 1191L: 5681278L, 1192L: 15541L, 1193L: 10508659L, 1194L: 1262523L, 1195L: 6597183L, 1196L: 8675131L, 1197L: 1063062L, 1198L: 30656663L, 1199L: 7102917L, 1200L: 127222339L, 1201L: 29738592L, 1202L: 107161355L, 1203L: 120655759L, 1204L: 1109869L, 1205L: 152986941L, 1206L: 64048636L, 1207L: 142860752L, 1208L: 192522408L, 1209L: 134477L, 1210L: 38825006L, 1211L: 127504237L, 1212L: 12884L, 1213L: 35046311L, 1214L: 48508179L, 1215L: 15111L, 1216L: 7867283L, 1217L: 3047663L, 1218L: 35338197L, 1219L: 177252L, 1220L: 103780755L, 1221L: 32098311L, 1222L: 164722741L, 1223L: 230041339L, 1224L: 42635518L, 1225L: 50025512L, 1226L: 132979160L, 1227L: 68086112L, 1228L: 74277192L, 1229L: 0L, 1230L: 268534L, 1231L: 6186969L, 1232L: 46550682L, 1233L: 27157604L, 1234L: 9751L, 1235L: 29290859L, 1236L: 182762353L, 1237L: 72814486L, 1238L: 6601L, 1239L: 155688150L, 1241L: 50146670L, 1242L: 96862787L, 1243L: 1862501L, 1244L: 249714L, 1245L: 233277752L, 1246L: 7262894L, 1247L: 4285400L, 1248L: 15871423L, 1249L: 25179163L, 1250L: 6164953L, 1251L: 821518L, 1252L: 2884L, 1253L: 71633924L, 1254L: 77515930L, 1255L: 116132906L, 1256L: 27402454L, 1257L: 84625579L, 1258L: 8392786L, 1259L: 5067684L, 1261L: 195779412L, 1262L: 66486341L, 1263L: 48954607L, 1264L: 2942907L, 1265L: 50567006L, 1266L: 67051959L, 1267L: 33106455L, 1268L: 12980253L, 1269L: 378910L, 1270L: 132978L, 1271L: 697260L, 1272L: 12400472L, 1273L: 0L, 1274L: 5250L, 1275L: 24229127L, 1276L: 48248662L, 1277L: 51209197L, 1278L: 1003455L, 1279L: 16070300L, 1280L: 33088508L, 1281L: 28758L, 1282L: 52381013L, 1283L: 73667031L, 1284L: 25579093L, 1285L: 69445727L, 1286L: 2459L, 1287L: 16168L, 1288L: 22638778L, 1289L: 24585716L, 1290L: 53455872L, 1291L: 106024842L, 1292L: 13001L, 1293L: 10316142L, 1294L: 50730813L, 1295L: 55760758L, 1296L: 196494L, 1297L: 18581193L, 1298L: 10737110L, 1299L: 56907L, 1300L: 601740L, 1301L: 101720000L, 1302L: 52336466L, 1303L: 2399718L, 1304L: 6359645L, 1305L: 6696596L, 1306L: 178892150L, 1307L: 40261369L, 1308L: 84780635L, 1309L: 36847186L, 1310L: 282356339L, 1311L: 80736936L, 1312L: 2204332L, 1313L: 13421998L, 1314L: 129765870L, 1315L: 75081668L, 1316L: 367912L, 1317L: 3157323L, 1318L: 79754083L, 1319L: 56406L, 1320L: 212549241L, 1321L: 69643989L, 1322L: 48729006L, 1323L: 3618L, 1324L: 6777211L, 1325L: 201737L, 1326L: 52384649L, 1327L: 15389931L, 1328L: 351260L, 1329L: 443477L, 1330L: 4617832L, 1331L: 23192092L, 1332L: 33038761L, 1333L: 20010456L, 1334L: 211641602L, 1335L: 4856264L, 1336L: 5599415L, 1337L: 26299618L, 1338L: 49228443L, 1339L: 240733712L, 1340L: 82194497L, 1341L: 8348502L, 1342L: 47000730L, 1343L: 134167280L, 1344L: 27252636L, 1345L: 78325218L, 1346L: 31326801L, 1347L: 175349L, 1348L: 50914170L, 1349L: 22779821L, 1350L: 9289246L, 1351L: 34615425L, 1352L: 6224246L, 1353L: 67739446L, 1354L: 3571951L, 1355L: 8005L, 1356L: 54225879L, 1357L: 21942282L, 1358L: 1037771L, 1359L: 45140L, 1360L: 101672866L, 1361L: 4377L, 1362L: 90019L, 1363L: 251128L, 1364L: 13429307L, 1365L: 2150605L, 1366L: 276822830L, 1367L: 70469966L, 1368L: 13895378L, 1369L: 2267641L, 1370L: 16406634L, 1371L: 92676947L, 1372L: 24888L, 1373L: 8049566L, 1375L: 21891027L, 1376L: 2568213L, 1377L: 29543332L, 1378L: 39706L, 1379L: 137453042L, 1380L: 87340193L, 1381L: 10619520L, 1382L: 157815367L, 1383L: 2381686L, 1384L: 3836998L, 1385L: 1502517L, 1386L: 28671360L, 1387L: 11189L, 1388L: 6315338L, 1389L: 200935L, 1390L: 66519255L, 1391L: 8622455L, 1392L: 129881725L, 1393L: 10745789L, 1394L: 102302773L, 1395L: 3778L, 1396L: 311243L, 1397L: 36074505L, 1398L: 550907L, 1399L: 1090962L, 1400L: 51907658L, 1401L: 19837504L, 1402L: 75967180L, 1403L: 4889128L, 1404L: 3294721L, 1405L: 2L, 1406L: 51431610L, 1407L: 26441913L, 1408L: 24712402L, 1409L: 83579053L, 1410L: 91901L, 1411L: 62130393L, 1412L: 48384584L, 1413L: 114065593L, 1414L: 134261382L, 1415L: 58964805L, 1416L: 124335287L, 1417L: 29748812L, 1418L: 136878694L, 1419L: 46774333L, 1420L: 35548612L, 1421L: 201687L, 1422L: 33769063L, 1423L: 4002569L, 1424L: 35561450L, 1425L: 64668L, 1426L: 37628L, 1427L: 108065843L, 1428L: 46333215L, 1429L: 106583745L, 1430L: 11486895L, 1431L: 772473L, 1432L: 23527139L, 1433L: 19136997L, 1434L: 68629075L, 1435L: 7267133L, 1436L: 60037L, 1437L: 343831L, 1438L: 33179818L, 1439L: 31027319L, 1440L: 183569708L, 1441L: 55031260L, 1442L: 142906104L, 1443L: 25682606L, 1444L: 155084908L, 1445L: 83359797L, 1446L: 1666334L, 1447L: 39682492L, 1448L: 146504317L, 1449L: 126357374L, 1450L: 34067779L, 1451L: 66870874L, 1452L: 10867703L, 1453L: 29557447L, 1454L: 140707309L, 1455L: 399665999L, 1456L: 25864100L, 1457L: 19338226L, 1458L: 7311166L, 1459L: 67488563L, 1460L: 217879183L, 1461L: 15988543L, 1462L: 47935592L, 1463L: 35343L, 1464L: 35100151L, 1465L: 47363856L, 1466L: 346431514L, 1467L: 3108L, 1468L: 71547083L, 1469L: 16601445L, 1470L: 60582327L, 1471L: 4344611L, 1472L: 1360829L, 1473L: 105519L, 1474L: 164657415L, 1475L: 7209327L, 1476L: 16394865L, 1477L: 133429744L, 1478L: 21276L, 1479L: 205945041L, 1480L: 26517930L, 1481L: 26842888L, 1482L: 1704311L, 1483L: 285582L, 1484L: 41066772L, 1485L: 165025075L, 1486L: 42916509L, 1487L: 362179869L, 1488L: 1264L, 1489L: 12720395L, 1490L: 28650954L, 1491L: 27435819L, 1492L: 177475205L, 1493L: 23086529L, 1494L: 30882181L, 1495L: 117981492L, 1496L: 50980485L, 1497L: 41671347L, 1498L: 5172252L, 1499L: 181438252L, 1500L: 38936L, 1501L: 2230L, 1502L: 8574L, 1504L: 1585038L, 1505L: 1019379L, 1506L: 15468L, 1507L: 27587611L, 1509L: 44991942L, 1510L: 75800652L, 1511L: 127777719L, 1512L: 14866384L, 1513L: 55698310L, 1514L: 43471750L, 1515L: 27263231L, 1516L: 56401197L, 1517L: 3409647L, 1518L: 81310378L, 1519L: 8647585L, 1520L: 9950147L, 1521L: 12254070L, 1522L: 14060L, 1523L: 15733494L, 1524L: 8145212L, 1525L: 258330L, 1526L: 1856006L, 1527L: 99500385L, 1528L: 39397636L, 1529L: 80978466L, 1530L: 82950223L, 1531L: 71713985L, 1532L: 2220677L, 1533L: 125217L, 1534L: 5310457L, 1535L: 3243732L, 1536L: 50035846L, 1537L: 24818L, 1538L: 6474408L, 1539L: 3691630L, 1540L: 111453782L, 1541L: 30102775L, 1542L: 40745603L, 1543L: 21697L, 1544L: 34974678L, 1545L: 21635269L, 1546L: 13974540L, 1547L: 3342942L, 1548L: 45071L, 1549L: 52197L, 1550L: 107L, 1551L: 69820028L, 1552L: 5539159L, 1553L: 7870L, 1554L: 170394L, 1555L: 8340580L, 1556L: 1154981L, 1557L: 20837L, 1558L: 166150L, 1559L: 2497L, 1560L: 99482190L, 1561L: 13120422L, 1562L: 63393L, 1563L: 37685L, 1564L: 65772L, 1566L: 3968329L, 1567L: 12085732L, 1568L: 36810913L, 1569L: 117183L, 1570L: 10013068L, 1571L: 11193817L, 1572L: 12950L, 1573L: 22463499L, 1574L: 35327L, 1575L: 2779302L, 1576L: 20947L, 1577L: 63834930L, 1578L: 4895651L, 1579L: 135316624L, 1580L: 47027262L, 1581L: 565190L, 1582L: 28897094L, 1583L: 81664014L, 1584L: 2033402L, 1585L: 25949655L, 1586L: 84261439L, 1587L: 26247874L, 1588L: 86542252L, 1589L: 12894547L, 1590L: 4661965L, 1591L: 59629763L, 1592L: 100038L, 1593L: 173912L, 1594L: 24399309L, 1595L: 19755138L, 1596L: 555299L, 1597L: 65582522L, 1598L: 15648359L, 1599L: 31396626L, 1600L: 6577449L, 1601L: 89833122L, 1602L: 626564L, 1603L: 6410025L, 1604L: 250300512L, 1605L: 2692541L, 1606L: 57406922L, 1607L: 217596469L, 1608L: 215402758L, 1609L: 56059569L, 1610L: 11608081L, 1611L: 461138L, 1612L: 2092382L, 1613L: 128923525L, 1614L: 1449054L, 1615L: 7601742L, 1616L: 2437907L, 1617L: 101733L, 1618L: 13332111L, 1619L: 6887517L, 1620L: 100814582L, 1621L: 1080L, 1622L: 84607759L, 1623L: 3083777L, 1624L: 758617L, 1625L: 346140591L, 1626L: 1324286L, 1627L: 89003440L, 1628L: 555878L, 1629L: 7794L, 1630L: 150466786L, 1631L: 1293775L, 1632L: 15065774L, 1633L: 45197839L, 1634L: 7889221L, 1635L: 119157145L, 1636L: 25976L, 1637L: 339490L, 1638L: 29979935L, 1639L: 86126950L, 1640L: 46216298L, 1641L: 96242441L, 1642L: 5454749L, 1643L: 884L, 1644L: 23820627L, 1645L: 250347228L, 1646L: 48338785L, 1647L: 172414L, 1648L: 83861597L, 1649L: 17606585L, 1650L: 39463611L, 1651L: 9996L, 1652L: 140239595L, 1653L: 86077660L, 1654L: 93877L, 1655L: 44994351L, 1656L: 7741048L, 1657L: 81102651L, 1658L: 11889L, 1659L: 158783530L, 1660L: 21894L, 1661L: 5796L, 1662L: 36392125L, 1663L: 4615L, 1664L: 8622599L, 1665L: 8065910L, 1666L: 30162239L, 1667L: 27126607L, 1668L: 84587L, 1669L: 141020300L, 1670L: 36358516L, 1671L: 42355203L, 1672L: 158547045L, 1673L: 15171L, 1674L: 1675002L, 1675L: 18960847L, 1676L: 16773612L, 1677L: 32776534L, 1678L: 34742529L, 1679L: 30187762L, 1680L: 92839191L, 1681L: 31644134L, 1682L: 8472464L, 1683L: 9536961L, 1684L: 17585118L, 1685L: 93507994L, 1686L: 7366709L, 1687L: 633869L, 1688L: 39174500L, 1689L: 50766141L, 1690L: 13407815L, 1691L: 14400409L, 1692L: 42617984L, 1693L: 39911602L, 1694L: 76529633L, 1695L: 1313584L, 1696L: 58918628L, 1697L: 9704592L, 1698L: 6519046L, 1699L: 72392618L, 1700L: 92183543L, 1701L: 14906374L, 1702L: 31080876L, 1703L: 43274528L, 1704L: 497545L, 1705L: 7318L, 1706L: 5473L, 1707L: 12708795L, 1708L: 16906L, 1709L: 9055142L, 1710L: 6100917L, 1711L: 74226190L, 1712L: 1095L, 1713L: 68014664L, 1714L: 1506220L, 1715L: 46926L, 1716L: 59507340L, 1717L: 39402990L, 1718L: 12339604L, 1719L: 25511L, 1720L: 441L, 1721L: 2609207L, 1722L: 28070548L, 1723L: 33997L, 1724L: 21735369L, 1725L: 31803L, 1726L: 457237L, 1727L: 3520154L, 1729L: 147564976L, 1730L: 17561770L, 1731L: 219952L, 1732L: 34943L, 1734L: 19336363L, 1735L: 24823771L, 1736L: 129260832L, 1737L: 71891138L, 1738L: 61310323L, 1739L: 41928198L, 1740L: 1167L, 1741L: 11864148L, 1742L: 709818L, 1743L: 219L, 1744L: 37924L, 1745L: 6246864L, 1746L: 21404929L, 1747L: 8272024L, 1748L: 3176L, 1749L: 26706355L, 1750L: 18436974L, 1751L: 46640764L, 1752L: 5740L, 1753L: 35097670L, 1754L: 15972545L, 1755L: 30639988L, 1756L: 48385756L, 1757L: 9800L, 1758L: 33850727L, 1759L: 28779598L, 1760L: 7912371L, 1761L: 39751305L, 1762L: 446699L, 1763L: 78923022L, 1764L: 99976562L, 1765L: 6959399L, 1767L: 33539937L, 1768L: 19106302L, 1769L: 60994891L, 1770L: 20873106L, 1771L: 2347892L, 1772L: 32762L, 1773L: 5037L, 1774L: 57577134L, 1775L: 73612407L, 1776L: 20051283L, 1777L: 204354480L, 1778L: 62185L, 1779L: 31139642L, 1780L: 3917138L, 1781L: 111499018L, 1782L: 85568131L, 1783L: 54857322L, 1784L: 49110865L, 1785L: 26072125L, 1786L: 27706863L, 1787L: 113346L, 1788L: 36031776L, 1789L: 115672426L, 1790L: 29716553L, 1791L: 3649L, 1792L: 26196924L, 1793L: 58897596L, 1794L: 27517471L, 1795L: 97130L, 1796L: 376442078L, 1797L: 83775639L, 1798L: 8231188L, 1799L: 6049765L, 1800L: 51710810L, 1801L: 102348168L, 1802L: 24125242L, 1803L: 30736072L, 1804L: 2967104L, 1805L: 77715682L, 1806L: 57248324L, 1807L: 3030210L, 1809L: 114240852L, 1810L: 13518518L, 1811L: 28710L, 1812L: 6416269L, 1813L: 414007L, 1814L: 37296543L, 1815L: 2684010L, 1816L: 71397359L, 1817L: 203671739L, 1818L: 50270883L, 1819L: 70797822L, 1820L: 10847445L, 1821L: 14231759L, 1822L: 15761860L, 1823L: 2322426L, 1824L: 273945117L, 1825L: 268980949L, 1826L: 28224L, 1827L: 1159115L, 1829L: 1221015L, 1830L: 87852629L, 1831L: 65786L, 1832L: 15027587L, 1833L: 244604L, 1834L: 3817178L, 1835L: 6660246L, 1836L: 28529642L, 1838L: 5098656L, 1839L: 2111320L, 1840L: 22578107L, 1841L: 0L, 1842L: 18492861L, 1843L: 79844470L, 1844L: 2723402L, 1845L: 38296277L, 1846L: 26405981L, 1847L: 72707511L, 1848L: 336126846L, 1849L: 16790539L, 1850L: 12805056L, 1851L: 16261234L, 1852L: 4864453L, 1853L: 28012252L, 1854L: 188842L, 1855L: 97753097L, 1856L: 48762049L, 1857L: 29L, 1858L: 182471L, 1859L: 1888072L, 1860L: 33364815L, 1861L: 22828961L, 1862L: 998763L, 1863L: 35468752L, 1864L: 59721189L, 1865L: 94021074L, 1866L: 3880791L, 1867L: 84648977L, 1868L: 42285177L, 1869L: 61925077L, 1870L: 55824L, 1871L: 2014615L, 1872L: 9957L, 1873L: 59737845L, 1874L: 126030L, 1875L: 2365541L, 1876L: 3734283L, 1877L: 19889929L, 1878L: 47326972L, 1879L: 5873L, 1880L: 46102209L, 1881L: 6759L, 1882L: 50344507L, 1883L: 8239L, 1884L: 10469572L, 1885L: 208747545L, 1886L: 11070266L, 1887L: 186412L, 1888L: 286710L, 1889L: 164426340L, 1890L: 30492723L, 1891L: 40745329L, 1892L: 2921987L, 1893L: 5087789L, 1894L: 325157L, 1895L: 6007071L, 1896L: 29952480L, 1897L: 61629874L, 1898L: 3124748L, 1899L: 7864825L, 1900L: 84921356L, 1901L: 92051253L, 1902L: 5855L, 1903L: 45881L, 1904L: 52972L, 1905L: 8959L, 1906L: 2487953L, 1907L: 8021L, 1908L: 5498L, 1909L: 2135059L, 1910L: 236964L, 1911L: 15292096L, 1912L: 94887017L, 1913L: 13020855L, 1914L: 139186543L, 1915L: 45248604L, 1916L: 5152999L, 1917L: 50022L, 1918L: 13117L, 1919L: 12225664L, 1920L: 11874L, 1921L: 1393708L, 1922L: 102179788L, 1923L: 63709118L, 1924L: 12790733L, 1925L: 19162085L, 1927L: 21509501L, 1928L: 2065005L, 1929L: 126288527L, 1930L: 27761936L, 1931L: 51L, 1932L: 43022765L, 1933L: 3651895L, 1934L: 16071L, 1935L: 63693159L, 1936L: 47874618L, 1937L: 2947L, 1939L: 6893L, 1940L: 8057507L, 1941L: 381847L, 1942L: 34504684L, 1943L: 350630L, 1944L: 381699L, 1945L: 3250139L, 1946L: 99289L, 1947L: 18168930L, 1948L: 3130541L, 1949L: 53175737L, 1950L: 37329746L, 1951L: 2100396L, 1952L: 11884075L, 1953L: 24435262L, 1954L: 69198560L, 1955L: 48121459L, 1956L: 3225809L, 1957L: 235234L, 1958L: 63078746L, 1959L: 1483179L, 1960L: 9313L, 1961L: 42951651L, 1962L: 0L, 1963L: 77057370L, 1964L: 209469L, 1965L: 4689863L, 1966L: 417966L, 1967L: 26740645L, 1968L: 47075022L, 1969L: 85723551L, 1970L: 108969L, 1971L: 5484774L, 1972L: 11939969L, 1973L: 35445436L, 1974L: 54000313L, 1975L: 10047097L, 1976L: 20444936L, 1977L: 47298463L, 1978L: 13960137L, 1979L: 23770058L, 1980L: 14502653L, 1981L: 252792L, 1982L: 4933825L, 1983L: 6077514L, 1984L: 17949002L, 1985L: 12287083L, 1986L: 195487L, 1987L: 5173L, 1988L: 13080856L, 1989L: 541909L, 1990L: 37154282L, 1991L: 4519574L, 1992L: 920265L, 1993L: 49307228L, 1994L: 13068L, 1995L: 17851103L, 1996L: 523778L, 1997L: 8074730L, 1998L: 41970964L, 1999L: 14196257L, 2000L: 112226248L, 2001L: 19102496L, 2002L: 331007L, 2003L: 955321L, 2004L: 33993616L, 2005L: 1137412L, 2006L: 7556L, 2007L: 4778L, 2008L: 39447497L, 2009L: 141070L, 2010L: 88589L, 2011L: 14782638L, 2012L: 31155551L, 2013L: 10956906L, 2014L: 18391060L, 2015L: 13422L, 2016L: 8314513L, 2017L: 12517422L, 2018L: 65391357L, 2019L: 12992L, 2020L: 89049784L, 2021L: 2692585L, 2022L: 16642L, 2023L: 239718565L, 2024L: 144733L, 2025L: 4656227L, 2026L: 2412004L, 2027L: 39952442L, 2028L: 39633491L, 2029L: 2979250L, 2030L: 33259412L, 2031L: 14321L, 2033L: 19286897L, 2034L: 50383947L, 2035L: 16789045L, 2036L: 25786L, 2037L: 70879243L, 2038L: 4480782L, 2039L: 190541L, 2040L: 8927007L, 2041L: 187810L, 2042L: 12103L, 2043L: 41844210L, 2044L: 24592712L, 2045L: 18127L, 2046L: 5342304L, 2047L: 35464290L, 2048L: 10538L, 2049L: 12929655L, 2050L: 67285175L, 2051L: 131974128L, 2052L: 2021492L, 2053L: 10415771L, 2054L: 1538766L, 2055L: 52450610L, 2056L: 70998348L, 2057L: 16250L, 2058L: 1077934L, 2059L: 51045L, 2060L: 29488408L, 2061L: 126250322L, 2062L: 2487032L, 2063L: 23L, 2064L: 17377777L, 2065L: 4990697L, 2066L: 4464434L, 2067L: 9937976L, 2068L: 2673L, 2069L: 43774L, 2070L: 71294L, 2071L: 67974237L, 2072L: 0L, 2073L: 283522L, 2074L: 4612826L, 2075L: 20595467L, 2076L: 48621372L, 2077L: 59549259L, 2078L: 19738L, 2079L: 111565162L, 2080L: 38827390L, 2081L: 1451599L, 2082L: 73226784L, 2083L: 30394416L, 2084L: 119803093L, 2085L: 27863163L, 2086L: 55515430L, 2087L: 7115765L, 2088L: 99344371L, 2089L: 2135L, 2090L: 91654254L, 2091L: 17999772L, 2092L: 41292104L, 2093L: 31495122L, 2094L: 16465645L, 2095L: 487554L, 2096L: 10232977L, 2097L: 92058210L, 2098L: 41232935L, 2099L: 73123002L, 2100L: 1544228L, 2101L: 41924138L, 2102L: 13020227L, 2103L: 7085856L, 2104L: 27323205L, 2105L: 54004639L, 2106L: 126088147L, 2107L: 23064039L, 2108L: 21636050L, 2109L: 94753486L, 2110L: 128172997L, 2111L: 66062536L, 2112L: 77620803L, 2113L: 10644265L, 2114L: 56276472L, 2115L: 22265349L, 2116L: 15963570L, 2117L: 822L, 2118L: 1583892L, 2119L: 28238105L, 2120L: 5695818L, 2121L: 24323617L, 2122L: 4427L, 2123L: 50694383L, 2124L: 7725849L, 2125L: 14254256L, 2126L: 249140670L, 2127L: 13796L, 2128L: 31265449L, 2129L: 9055L, 2130L: 4553L, 2131L: 8518188L, 2132L: 14565312L, 2133L: 11514L, 2134L: 19086796L, 2135L: 16927497L, 2136L: 61583055L, 2137L: 24402619L, 2138L: 59643366L, 2139L: 14779411L, 2140L: 17124816L, 2141L: 78626649L, 2142L: 17290576L, 2143L: 60750476L, 2144L: 87592042L, 2145L: 111827826L, 2146L: 79632108L, 2147L: 53046723L, 2148L: 11076L, 2149L: 86270944L, 2150L: 44454562L, 2151L: 448908L, 2152L: 111467027L, 2153L: 1949L, 2154L: 2403862L, 2155L: 35238352L, 2156L: 1597822L, 2157L: 13363027L, 2158L: 44253608L, 2159L: 154153976L, 2160L: 2816325L, 2161L: 32299954L, 2162L: 13097861L, 2163L: 2318741L, 2164L: 41150095L, 2165L: 22876044L, 2166L: 3534L, 2167L: 219654746L, 2168L: 68055907L, 2169L: 80944471L, 2170L: 49074935L, 2171L: 18982156L, 2172L: 26116365L, 2173L: 5492003L, 2174L: 26421101L, 2175L: 136710L, 2176L: 3531563L, 2177L: 1095504L, 2178L: 75696463L, 2179L: 285909898L, 2180L: 5635845L, 2181L: 6995290L, 2182L: 21539608L, 2183L: 32470L, 2184L: 160865L, 2185L: 44785442L, 2186L: 134392884L, 2187L: 12498755L, 2188L: 72417119L, 2189L: 100083406L, 2190L: 38226942L, 2191L: 103088279L, 2192L: 137720970L, 2193L: 71443363L, 2194L: 160848067L, 2195L: 10421618L, 2196L: 196605832L, 2197L: 43293522L, 2198L: 48965023L, 2199L: 27673709L, 2200L: 72454407L, 2201L: 87689017L, 2203L: 2493842L, 2204L: 7448L, 2205L: 44001L, 2206L: 39069864L, 2207L: 5881882L, 2208L: 22591556L, 2209L: 2506219L, 2210L: 12328060L, 2211L: 8424L, 2212L: 1891413L, 2213L: 36898602L, 2214L: 81927971L, 2215L: 18309539L, 2216L: 261753L, 2217L: 33639484L, 2218L: 8531943L, 2219L: 11691249L, 2220L: 37697621L, 2221L: 19832529L, 2222L: 36903537L, 2223L: 73179023L, 2224L: 6035L, 2225L: 45944001L, 2226L: 12893623L, 2227L: 2487225L, 2228L: 52746934L, 2229L: 15123622L, 2230L: 25986693L, 2231L: 144263699L, 2232L: 335025L, 2233L: 1128907L, 2234L: 42523910L, 2235L: 22335222L, 2236L: 2919981L, 2237L: 83356L, 2238L: 4942891L, 2239L: 2630365L, 2240L: 70586279L, 2241L: 8000148L, 2242L: 463509L, 2243L: 161946L, 2244L: 2721593L, 2245L: 66260915L, 2246L: 74795L, 2247L: 71873144L, 2248L: 21928768L, 2249L: 11694485L, 2250L: 21009018L, 2251L: 22908L, 2252L: 259045870L, 2253L: 15919983L, 2254L: 26679501L, 2255L: 5525643L, 2256L: 33033388L, 2257L: 2934L, 2258L: 29461195L, 2259L: 15471L, 2260L: 12886948L, 2261L: 11708489L, 2262L: 37906034L, 2263L: 1187526L, 2264L: 36727817L, 2265L: 382670339L, 2266L: 145588087L, 2267L: 53536783L, 2268L: 318920646L, 2269L: 407568L, 2270L: 21300622L, 2271L: 25638757L, 2272L: 45265184L, 2274L: 5456714L, 2275L: 981628L, 2276L: 58302036L, 2277L: 26414656L, 2278L: 3213307L, 2279L: 159351472L, 2280L: 66566907L, 2281L: 853216L, 2282L: 40412069L, 2283L: 94253L, 2284L: 1161939L, 2285L: 1950433L, 2286L: 59345L, 2287L: 62440L, 2288L: 1431907L, 2289L: 16022563L, 2290L: 5668L, 2291L: 65758932L, 2292L: 214754L, 2293L: 3295686L, 2294L: 715793L, 2295L: 1329431L, 2296L: 30807940L, 2297L: 52990929L, 2298L: 121247176L, 2299L: 32032896L, 2300L: 39016015L, 2301L: 79537L, 2302L: 2324723L, 2303L: 70199470L, 2304L: 23137116L, 2305L: 196481578L, 2306L: 78549336L, 2307L: 178014645L, 2308L: 4124142L, 2309L: 2467L, 2310L: 31359683L, 2311L: 268116L, 2312L: 2088L, 2313L: 37325678L, 2314L: 6221L, 2315L: 31920481L, 2316L: 23537951L, 2317L: 6779444L, 2318L: 10039190L, 2319L: 24896492L, 2320L: 2487952L, 2321L: 259461L, 2322L: 44283758L, 2323L: 10408935L, 2324L: 6238L, 2325L: 709342L, 2326L: 1100168L, 2327L: 2513835L, 2328L: 5692864L, 2329L: 72646337L, 2330L: 5010103L, 2331L: 132155479L, 2332L: 24019698L, 2333L: 21629L, 2334L: 49284224L, 2335L: 171361079L, 2336L: 53265L, 2337L: 450L, 2338L: 12946822L, 2339L: 112247437L, 2340L: 115657870L, 2341L: 168078478L, 2342L: 108124284L, 2343L: 19844559L, 2344L: 20299490L, 2345L: 40018263L, 2346L: 110746415L, 2347L: 27809689L, 2348L: 57311994L, 2349L: 50767980L, 2350L: 35199467L, 2351L: 24765248L, 2352L: 286797L, 2353L: 1058057L, 2354L: 6366348L, 2355L: 165218800L, 2356L: 19604003L, 2357L: 514124L, 2358L: 5795273L, 2359L: 44287790L, 2360L: 47412314L, 2361L: 21541668L, 2362L: 73438672L, 2363L: 54469624L, 2364L: 16144766L, 2365L: 61761661L, 2366L: 5404441L, 2367L: 10159277L, 2368L: 63658742L, 2369L: 26008111L, 2370L: 12045104L, 2371L: 4954437L, 2372L: 89204776L, 2373L: 9799738L, 2374L: 34349609L, 2375L: 1469L, 2376L: 9062003L, 2377L: 277631800L, 2378L: 68442232L, 2379L: 1543361L, 2380L: 149612543L, 2381L: 3774800L, 2382L: 68641145L, 2383L: 44867950L, 2384L: 17155018L, 2385L: 203075102L, 2386L: 111869941L, 2387L: 118285442L, 2388L: 35766029L, 2389L: 5331524L, 2390L: 10423999L, 2391L: 142685815L, 2392L: 54217862L, 2393L: 1113046L, 2394L: 19202784L, 2395L: 112948570L, 2396L: 0L, 2397L: 46466334L, 2398L: 30980L, 2399L: 34545301L, 2400L: 221599134L, 2401L: 1046521L, 2402L: 115652237L, 2403L: 2870L, 2404L: 55965943L, 2405L: 11252L, 2406L: 114924033L, 2407L: 243514941L, 2408L: 1045410L, 2409L: 43302095L, 2410L: 760755L, 2411L: 36390076L, 2412L: 12036822L, 2413L: 7216L, 2414L: 192596611L, 2415L: 45213250L, 2416L: 60311480L, 2417L: 130096826L, 2418L: 71866382L, 2419L: 44006793L, 2420L: 254971973L, 2421L: 10642780L, 2422L: 51264107L, 2424L: 192676476L, 2425L: 22544L, 2426L: 14225593L, 2427L: 52444394L, 2428L: 16976756L, 2429L: 40043521L, 2430L: 12376623L, 2431L: 27472L, 2432L: 318406L, 2433L: 62641374L, 2434L: 905386L, 2435L: 25206049L, 2436L: 10608049L, 2437L: 681032L, 2438L: 31452158L, 2439L: 63744550L, 2440L: 16490586L, 2441L: 29576885L, 2442L: 33256176L, 2443L: 2811024L, 2444L: 91657075L, 2445L: 29406989L, 2446L: 592806L, 2447L: 64120407L, 2448L: 91761632L, 2449L: 127334529L, 2450L: 15027862L, 2451L: 9505050L, 2452L: 18026871L, 2453L: 380473614L, 2454L: 240584435L, 2455L: 330307L, 2456L: 22375L, 2457L: 1654146L, 2458L: 33260820L, 2459L: 98072193L, 2460L: 34918500L, 2461L: 21601927L, 2462L: 32720077L, 2463L: 78944075L, 2464L: 9703L, 2465L: 13972L, 2466L: 26376935L, 2467L: 8451675L, 2468L: 154068661L, 2469L: 147753661L, 2470L: 11509892L, 2471L: 61245058L, 2472L: 203730957L, 2473L: 3539842L, 2474L: 24894079L, 2475L: 26961664L, 2476L: 21590359L, 2477L: 2533678L, 2478L: 47168505L, 2479L: 50386278L, 2480L: 29469996L, 2481L: 40845458L, 2482L: 36949252L, 2483L: 30280260L, 2484L: 34568034L, 2485L: 870L, 2486L: 4780L, 2487L: 2348L, 2488L: 75201382L, 2489L: 23681260L, 2490L: 5217691L, 2491L: 107449244L, 2492L: 108250159L, 2493L: 47086155L, 2494L: 40811344L, 2495L: 128237L, 2496L: 6677824L, 2497L: 85115295L, 2498L: 125084704L, 2499L: 65372L, 2500L: 500L, 2501L: 1892403L, 2502L: 56840327L, 2503L: 1217235L, 2504L: 10914234L, 2505L: 3985258L, 2506L: 141396L, 2507L: 55640468L, 2508L: 270201L, 2509L: 12586L, 2510L: 94027584L, 2511L: 60895020L, 2512L: 8500887L, 2513L: 99064020L, 2514L: 15978054L, 2515L: 40137L, 2516L: 8702073L, 2517L: 13052L, 2518L: 15627815L, 2519L: 9802519L, 2520L: 3578785L, 2521L: 129650L, 2522L: 4285731L, 2523L: 34797152L, 2524L: 225167L, 2525L: 10199L, 2526L: 81565371L, 2527L: 163571583L, 2528L: 198296109L, 2529L: 59612364L, 2530L: 30354L, 2531L: 6602L, 2532L: 14682L, 2533L: 4787082L, 2534L: 234545261L, 2535L: 108482L, 2536L: 34723101L, 2537L: 3603093L, 2538L: 80302L, 2539L: 107796521L, 2540L: 45798L, 2541L: 38412699L, 2542L: 122177327L, 2543L: 5647999L, 2544L: 1025224L, 2545L: 205631L, 2546L: 9184560L, 2547L: 8956642L, 2548L: 1295454L, 2549L: 14937935L, 2550L: 9232224L, 2551L: 35282049L, 2552L: 9603127L, 2553L: 32388278L, 2554L: 61263213L, 2555L: 28142599L, 2557L: 35454773L, 2558L: 28824082L, 2559L: 326584704L, 2560L: 43111488L, 2561L: 797986L, 2562L: 9810037L, 2563L: 4057555L, 2565L: 28704205L, 2566L: 91282269L, 2567L: 7297858L, 2568L: 223843L, 2569L: 14928458L, 2570L: 75360380L, 2571L: 9477212L, 2572L: 8420956L, 2573L: 101020841L, 2574L: 11437L, 2575L: 21838407L, 2576L: 11972215L, 2577L: 9407348L, 2578L: 2869962L, 2579L: 5005122L, 2580L: 1168379L, 2581L: 0L, 2582L: 1171602L, 2583L: 3304548L, 2584L: 17334361L, 2585L: 9518159L, 2586L: 41545L, 2587L: 102224988L, 2588L: 130547L, 2589L: 13142846L, 2590L: 203729540L, 2591L: 88164565L, 2592L: 12472693L, 2594L: 2604812L, 2595L: 6063172L, 2596L: 149972940L, 2597L: 881351L, 2598L: 46838394L, 2599L: 44364497L, 2600L: 5380357L, 2601L: 2113809L, 2602L: 168196751L, 2603L: 3061L, 2604L: 29807L, 2605L: 978514L, 2606L: 7784081L, 2607L: 3662018L, 2608L: 26342368L, 2609L: 175934L, 2610L: 119796741L, 2611L: 65884653L, 2612L: 15823752L, 2613L: 6972200L, 2614L: 66693101L, 2615L: 15913444L, 2616L: 28309107L, 2617L: 55574123L, 2618L: 42620283L, 2619L: 13886027L, 2620L: 1898966L, 2621L: 1096828L, 2622L: 33968798L, 2623L: 804L, 2624L: 53786303L, 2625L: 47641L, 2626L: 79066L, 2627L: 208598L, 2628L: 1254619L, 2629L: 15234893L, 2630L: 38923174L, 2631L: 139563301L, 2632L: 207788L, 2633L: 36728L, 2634L: 7445020L, 2635L: 414L, 2636L: 55419439L, 2637L: 9543826L, 2638L: 4116175L, 2639L: 0L, 2640L: 3601159L, 2642L: 221284616L, 2643L: 34774900L, 2644L: 4994673L, 2645L: 6893448L, 2646L: 47741783L, 2647L: 73279393L, 2648L: 60846542L, 2649L: 62498234L, 2650L: 11732557L, 2651L: 86514L, 2652L: 37688501L, 2653L: 84749456L, 2654L: 68933242L, 2655L: 33648043L, 2656L: 105632740L, 2657L: 135271630L, 2658L: 58910563L, 2659L: 4361370L, 2660L: 43062094L, 2661L: 387665L, 2662L: 896052L, 2663L: 729L, 2664L: 12540102L, 2665L: 20646115L, 2666L: 51945427L, 2667L: 68435781L, 2668L: 121683640L, 2669L: 85623227L, 2670L: 21581439L, 2671L: 161965258L, 2672L: 17842L, 2673L: 75122049L, 2674L: 9342607L, 2675L: 85652417L, 2676L: 3417L, 2677L: 784481L, 2678L: 63667035L, 2679L: 92428055L, 2680L: 10465602L, 2681L: 4503482L, 2682L: 757625L, 2683L: 75537956L, 2684L: 8875670L, 2685L: 29546625L, 2686L: 138508092L, 2687L: 28558781L, 2688L: 273071891L, 2689L: 44797636L, 2690L: 862600L, 2691L: 61109123L, 2692L: 1869606L, 2693L: 832585L, 2694L: 164119903L, 2695L: 51878807L, 2696L: 224128L, 2697L: 10550628L, 2698L: 16838589L, 2699L: 18364598L, 2700L: 67368469L, 2701L: 368999L, 2702L: 5214946L, 2703L: 79139809L, 2704L: 64097856L, 2705L: 27136641L, 2706L: 166540909L, 2707L: 2569115L, 2708L: 69056880L, 2709L: 6057643L, 2710L: 36879780L, 2711L: 22784296L, 2712L: 125016L, 2713L: 103374135L, 2714L: 100155368L, 2715L: 44952113L, 2716L: 117579777L, 2717L: 168155462L, 2718L: 88944619L, 2719L: 82289809L, 2720L: 90906131L, 2721L: 25214897L, 2722L: 1038394L, 2723L: 222466819L, 2724L: 22842886L, 2725L: 471583780L, 2726L: 135263618L, 2727L: 2355305L, 2728L: 91162L, 2729L: 216978945L, 2730L: 480148L, 2731L: 5516765L, 2732L: 141139353L, 2733L: 24103273L, 2734L: 226049760L, 2735L: 4323194L, 2736L: 65428026L, 2737L: 13748573L, 2738L: 20030818L, 2739L: 8360L, 2740L: 85990221L, 2741L: 112197227L, 2742L: 211799L, 2743L: 225298601L, 2744L: 13319589L, 2745L: 55068549L, 2746L: 33642346L, 2747L: 19688030L, 2748L: 4929497L, 2749L: 122701052L, 2750L: 59803132L, 2751L: 43277892L, 2752L: 7788121L, 2753L: 96011152L, 2754L: 38647941L, 2755L: 173476L, 2756L: 5841641L, 2757L: 3793L, 2758L: 3277916L, 2759L: 35246835L, 2760L: 20722350L, 2761L: 103258L, 2762L: 32495771L, 2763L: 78314552L, 2764L: 78261183L, 2765L: 75715744L, 2766L: 59436858L, 2767L: 11376366L, 2768L: 88050504L, 2769L: 6947734L, 2770L: 23477455L, 2771L: 42092042L, 2772L: 31571746L, 2773L: 47233145L, 2774L: 30928622L, 2775L: 65494964L, 2776L: 1133873L, 2777L: 10049555L, 2778L: 17834L, 2779L: 161218427L, 2780L: 0L, 2781L: 111434L, 2782L: 28198107L, 2783L: 3763177L, 2784L: 131808L, 2785L: 92452362L, 2786L: 9349303L, 2787L: 34338805L, 2788L: 28L, 2789L: 32794806L, 2790L: 65033986L, 2791L: 10185183L, 2792L: 2054628L, 2793L: 21302L, 2794L: 20403941L, 2795L: 64349800L, 2796L: 3423703L, 2797L: 121428651L, 2798L: 10899395L, 2799L: 2575L, 2800L: 102625697L, 2801L: 843610L, 2802L: 10222L, 2803L: 1093011L, 2804L: 25892982L, 2805L: 142327L, 2806L: 1198193L, 2807L: 185100L, 2808L: 100833630L, 2809L: 831L, 2810L: 20131317L, 2811L: 158660514L, 2812L: 2386620L, 2813L: 11727L, 2814L: 3719091L, 2815L: 1098L, 2816L: 200L, 2817L: 44994080L, 2818L: 306516L, 2819L: 126367466L, 2820L: 171637L, 2821L: 10097L, 2822L: 16815968L, 2823L: 1751L, 2824L: 91573719L, 2825L: 231866027L, 2826L: 133347789L, 2827L: 102176524L, 2828L: 4746119L, 2829L: 13559389L, 2830L: 32407L, 2831L: 27228452L, 2832L: 3149146L, 2833L: 28854213L, 2834L: 1349L, 2835L: 25883L, 2836L: 43606251L, 2837L: 9043499L, 2838L: 74800885L, 2839L: 27466660L, 2840L: 2506836L, 2841L: 156734527L, 2842L: 13894L, 2843L: 214536L, 2844L: 31556684L, 2845L: 1044802L, 2846L: 14182L, 2847L: 139020693L, 2848L: 25778708L, 2849L: 79565265L, 2850L: 10388095L, 2851L: 192115427L, 2852L: 960481L, 2853L: 28659520L, 2854L: 44208008L, 2855L: 9792660L, 2856L: 12911558L, 2857L: 31854600L, 2858L: 76893376L, 2859L: 104488L, 2860L: 62158819L, 2861L: 148868914L, 2862L: 73812626L, 2863L: 414453L, 2864L: 35807035L, 2865L: 21365277L, 2866L: 320216249L, 2867L: 178491756L, 2868L: 5678191L, 2869L: 96914322L, 2870L: 22874355L, 2871L: 47334193L, 2872L: 47237307L, 2873L: 9875398L, 2874L: 115899454L, 2875L: 3637168L, 2876L: 207670104L, 2877L: 10245001L, 2878L: 41523161L, 2879L: 86170971L, 2880L: 74673682L, 2881L: 7810034L, 2882L: 101879085L, 2883L: 96362546L, 2884L: 3377635L, 2885L: 5784957L, 2886L: 35996975L, 2887L: 4320850L, 2888L: 10661366L, 2889L: 576713L, 2890L: 6847262L, 2891L: 8902132L, 2892L: 14027394L, 2893L: 137869898L, 2894L: 2032060L, 2895L: 4948524L, 2896L: 6144484L, 2897L: 82381L, 2898L: 129386529L, 2899L: 104950L, 2900L: 24812471L, 2901L: 75787519L, 2902L: 2996592L, 2903L: 226050057L, 2904L: 16155883L, 2905L: 329063L, 2906L: 74654L, 2907L: 4408674L, 2908L: 1344999L, 2909L: 301049L, 2910L: 9027065L, 2911L: 82139975L, 2912L: 46858209L, 2913L: 96599L, 2914L: 37735656L, 2915L: 336840L, 2916L: 1736587L, 2917L: 52013734L, 2918L: 3951L, 2919L: 48847983L, 2920L: 644989317L, 2921L: 11863464L, 2922L: 90286048L, 2923L: 175285594L, 2924L: 5877850L, 2925L: 48033945L, 2926L: 84340867L, 2927L: 2016726L, 2928L: 601918473L, 2929L: 26450925L, 2930L: 1082167L, 2931L: 10438261L, 2932L: 6927L, 2933L: 16401549L, 2934L: 123697860L, 2935L: 53270420L, 2936L: 19350534L, 2937L: 55107021L, 2938L: 70394777L, 2939L: 53051076L, 2940L: 33972890L, 2941L: 9690991L, 2942L: 320168550L, 2943L: 2210171L, 2944L: 68993092L, 2945L: 14085788L, 2946L: 56450468L, 2947L: 177557024L, 2948L: 2239608L, 2949L: 120089679L, 2950L: 33025584L, 2951L: 13354386L, 2952L: 55869610L, 2953L: 13727150L, 2954L: 84779381L, 2955L: 39127683L, 2956L: 10434L, 2957L: 171477107L, 2958L: 15376125L, 2959L: 26548562L, 2960L: 11529858L, 2961L: 46004584L, 2962L: 6671035L, 2963L: 14218446L, 2964L: 34817962L, 2966L: 97598746L, 2967L: 28770287L, 2968L: 74854348L, 2969L: 47040096L, 2970L: 62033015L, 2971L: 96602513L, 2972L: 5193609L, 2973L: 42883730L, 2974L: 155500830L, 2975L: 318654366L, 2976L: 40850836L, 2977L: 189722L, 2978L: 12862631L, 2979L: 16490L, 2980L: 10909L, 2981L: 7207L, 2982L: 15518335L, 2983L: 38393959L, 2984L: 53164217L, 2985L: 640593L, 2986L: 58941674L, 2987L: 19162126L, 2988L: 1065136L, 2989L: 9036824L, 2990L: 68187911L, 2991L: 120372928L, 2992L: 5091L, 2993L: 122745877L, 2994L: 75404L, 2995L: 17007745L, 2996L: 8211L, 2997L: 2989221L, 2998L: 122557L, 2999L: 5049059L, 3000L: 6235218L, 3001L: 38361354L, 3002L: 1372517L, 3003L: 40472816L, 3004L: 26582843L, 3005L: 63617920L, 3006L: 33510893L, 3007L: 8111373L, 3008L: 7019500L, 3009L: 2202022L, 3010L: 33049841L, 3011L: 7018L, 3012L: 120131L, 3013L: 984473L, 3014L: 60040249L, 3015L: 86376L, 3016L: 1120944L, 3017L: 59881510L, 3018L: 3133294L, 3019L: 11733572L, 3020L: 9768852L, 3021L: 9319L, 3022L: 8457L, 3023L: 1162L, 3024L: 0L, 3025L: 5921597L, 3026L: 1935272L, 3027L: 5832816L, 3029L: 37929103L, 3030L: 371496L, 3031L: 197883L, 3032L: 125527607L, 3033L: 116466L, 3034L: 10382352L, 3035L: 30802402L, 3036L: 2570414L, 3037L: 42307721L, 3038L: 1344L, 3039L: 70426372L, 3040L: 11619835L, 3041L: 3000049L, 3042L: 6198273L, 3043L: 10316540L, 3044L: 82255920L, 3045L: 9638011L, 3046L: 4920532L, 3047L: 13064452L, 3048L: 2109824L, 3049L: 78463L, 3050L: 11542490L, 3051L: 664843L, 3052L: 65203L, 3053L: 10885614L, 3054L: 14019258L, 3055L: 44272769L, 3056L: 560647L, 3057L: 65879572L, 3058L: 2847809L, 3059L: 9016623L, 3060L: 22099490L, 3061L: 315899233L, 3062L: 118619L, 3063L: 308125L, 3064L: 38065984L, 3065L: 189753L, 3066L: 67971555L, 3067L: 13103981L, 3069L: 9602622L, 3070L: 35780384L, 3071L: 57350796L, 3072L: 241970017L, 3073L: 78078375L, 3074L: 8271928L, 3075L: 97292325L, 3076L: 194394631L, 3077L: 266102L, 3078L: 8260664L, 3079L: 15495169L, 3080L: 230733923L, 3081L: 180632048L, 3082L: 112450689L, 3083L: 3325L, 3084L: 17448823L, 3085L: 3904838L, 3087L: 13175242L, 3088L: 10342482L, 3089L: 1112L, 3090L: 5955136L, 3091L: 1726443L, 3092L: 17538199L, 3093L: 86229640L, 3094L: 249471209L, 3095L: 43940L, 3096L: 50193351L, 3097L: 1269406L, 3098L: 5470674L, 3099L: 65278571L, 3100L: 324911L, 3101L: 21354495L, 3102L: 22784653L, 3103L: 15581815L, 3104L: 14089976L, 3105L: 40514797L, 3106L: 36332165L, 3107L: 65918502L, 3108L: 82056073L, 3109L: 116666215L, 3110L: 20239918L, 3111L: 8606574L, 3112L: 22975982L, 3113L: 15172837L, 3114L: 256876649L, 3115L: 23641701L, 3116L: 34304949L, 3117L: 52562193L, 3118L: 28062779L, 3119L: 115674L, 3120L: 66061137L, 3121L: 16033580L, 3122L: 51213711L, 3123L: 134870990L, 3124L: 645425L, 3125L: 103125403L, 3126L: 29767L, 3127L: 105791780L, 3128L: 120117215L, 3129L: 121433705L, 3130L: 38621538L, 3131L: 135087436L, 3132L: 62963042L, 3133L: 184283247L, 3134L: 187587080L, 3135L: 18873416L, 3136L: 49253843L, 3137L: 182121406L, 3138L: 85409992L, 3139L: 23765191L, 3140L: 96698374L, 3141L: 15775330L, 3142L: 304734131L, 3143L: 36885629L, 3144L: 134881066L, 3145L: 27780884L, 3146L: 103977549L, 3147L: 91646371L, 3148L: 66009621L, 3149L: 157317566L, 3150L: 74732357L, 3151L: 19395847L, 3152L: 5536910L, 3153L: 65704103L, 3154L: 2371L, 3155L: 119873735L, 3156L: 22114835L, 3157L: 50344616L, 3158L: 50091200L, 3159L: 4158507L, 3160L: 60259772L, 3161L: 75217388L, 3162L: 56373462L, 3163L: 193292167L, 3164L: 35544582L, 3165L: 7814850L, 3166L: 29887031L, 3167L: 3079L, 3168L: 203359552L, 3169L: 703599L, 3170L: 176480866L, 3171L: 24089115L, 3172L: 23088L, 3173L: 103474402L, 3174L: 2037524L, 3175L: 3455513L, 3176L: 337155L, 3177L: 4568358L, 3178L: 59889195L, 3179L: 9913744L, 3180L: 3849L, 3181L: 4571L, 3182L: 61174939L, 3183L: 192740177L, 3184L: 37619997L, 3185L: 73991106L, 3186L: 61319067L, 3187L: 1060596L, 3188L: 1206706L, 3189L: 451087L, 3190L: 37836427L, 3191L: 11672172L, 3192L: 11096496L, 3193L: 29836433L, 3194L: 180625975L, 3195L: 46865347L, 3196L: 183787446L, 3197L: 56221540L, 3198L: 397736L, 3199L: 2564263L, 3200L: 136272344L, 3201L: 11954878L, 3202L: 30647L, 3203L: 7275L, 3204L: 6680147L, 3205L: 2451270L, 3206L: 8939L, 3207L: 134775447L, 3208L: 3479L, 3209L: 2806303L, 3210L: 27508490L, 3211L: 20012035L, 3212L: 28490226L, 3214L: 1684770L, 3215L: 5346884L, 3216L: 879220L, 3217L: 367420562L, 3218L: 9453577L, 3219L: 74496L, 3220L: 53403917L, 3221L: 33233475L, 3222L: 119657082L, 3223L: 54153297L, 3224L: 140767328L, 3225L: 87488636L, 3226L: 5288707L, 3227L: 21491895L, 3228L: 27837278L, 3229L: 27649417L, 3230L: 31077438L, 3231L: 79795977L, 3232L: 1451881L, 3233L: 31280028L, 3234L: 39790372L, 3235L: 118377247L, 3236L: 28428700L, 3237L: 189014L, 3238L: 31988360L, 3239L: 5407246L, 3240L: 56684893L, 3241L: 195312L, 3242L: 12202811L, 3243L: 2830112L, 3244L: 14182L, 3246L: 5551886L, 3247L: 15231L, 3248L: 8048102L, 3249L: 96176L, 3250L: 54851125L, 3251L: 133242746L, 3252L: 10522L, 3253L: 140942403L, 3254L: 18014557L, 3255L: 3784183L, 3256L: 21561619L, 3257L: 1554813L, 3258L: 886782L, 3259L: 25194456L, 3260L: 8416713L, 3261L: 24339928L, 3262L: 126402571L, 3263L: 72664732L, 3264L: 37351379L, 3265L: 264230418L, 3266L: 1021720L, 3267L: 20210723L, 3268L: 9499622L, 3269L: 11392651L, 3270L: 48428835L, 3271L: 11817445L, 3272L: 130213028L, 3273L: 172284777L, 3274L: 150127665L, 3275L: 247079240L, 3276L: 22455373L, 3277L: 285534L, 3278L: 74071L, 3279L: 88446651L, 3280L: 107552L, 3281L: 127686595L, 3282L: 66741L, 3283L: 39641244L, 3284L: 88271476L, 3285L: 173343375L, 3286L: 62320179L, 3287L: 84483450L, 3288L: 4831466L, 3289L: 55137879L, 3290L: 92675217L, 3291L: 1601642L, 3292L: 18060897L, 3293L: 81499973L, 3294L: 244829509L, 3295L: 448756L, 3296L: 70914586L, 3297L: 1476317L, 3298L: 54569989L, 3299L: 117967589L, 3300L: 43708L, 3301L: 96779L, 3302L: 32075003L, 3303L: 17219402L, 3304L: 2887060L, 3305L: 1269268L, 3306L: 78078033L, 3307L: 28662107L, 3308L: 128194L, 3309L: 52117044L, 3310L: 44316975L, 3311L: 49873995L, 3312L: 5873794L, 3313L: 1635924L, 3314L: 3516800L, 3315L: 10192557L, 3316L: 320440L, 3317L: 735645L, 3318L: 72740L, 3319L: 140737661L, 3320L: 59153350L, 3321L: 103180174L, 3322L: 32773L, 3323L: 111502915L, 3324L: 5787965L, 3325L: 78350172L, 3326L: 328311869L, 3327L: 81830145L, 3328L: 162791951L, 3329L: 223016446L, 3330L: 3316663L, 3331L: 3471386L, 3332L: 30951074L, 3334L: 3279097L, 3335L: 20176944L, 3336L: 206751584L, 3337L: 27440485L, 3338L: 395L, 3339L: 3318193L, 3340L: 8438L, 3341L: 11233678L, 3342L: 25694L, 3343L: 24721856L, 3344L: 66193L, 3345L: 18923814L, 3346L: 105037394L, 3347L: 48191387L, 3348L: 26163554L, 3349L: 115176730L, 3350L: 45373537L, 3351L: 6934735L, 3352L: 16768L, 3353L: 83102929L, 3354L: 79385569L, 3355L: 19553002L, 3356L: 3773567L, 3357L: 11928392L, 3358L: 21830167L, 3359L: 24973363L, 3360L: 59087080L, 3361L: 2043523L, 3362L: 9085198L, 3363L: 151106144L, 3364L: 62882305L, 3365L: 270619263L, 3366L: 224036090L, 3367L: 135302289L, 3368L: 36393101L, 3369L: 74044020L, 3370L: 892167L, 3371L: 54424643L, 3372L: 79638L, 3373L: 67970506L, 3374L: 2810545L, 3375L: 5614257L, 3376L: 370722986L, 3377L: 11937870L, 3378L: 197820L, 3379L: 18608953L, 3380L: 14033799L, 3381L: 14198L, 3382L: 53607916L, 3383L: 15014L, 3384L: 54915L, 3385L: 36876013L, 3386L: 42214969L, 3387L: 153170167L, 3388L: 37809565L, 3389L: 41309631L, 3390L: 33935636L, 3391L: 71173129L, 3392L: 104756470L, 3393L: 113000L, 3394L: 114931241L, 3395L: 139097838L, 3396L: 48585519L, 3397L: 43727610L, 3398L: 98264569L, 3399L: 7394073L, 3400L: 5234616L, 3401L: 39997190L, 3402L: 890849L, 3403L: 32116526L, 3404L: 131558997L, 3405L: 47441651L, 3407L: 51778387L, 3408L: 50800734L, 3409L: 121636532L, 3410L: 5211878L, 3411L: 10379753L, 3412L: 10773383L, 3413L: 38618186L, 3414L: 23956508L, 3415L: 26293034L, 3416L: 4262655L, 3417L: 2174L, 3418L: 10130103L, 3419L: 3603633L, 3420L: 139018935L, 3421L: 133733297L, 3422L: 108506L, 3423L: 122699030L, 3424L: 10295L, 3425L: 21478630L, 3426L: 36411182L, 3427L: 19173470L, 3428L: 131738425L, 3429L: 4076685L, 3430L: 40689918L, 3431L: 6327394L, 3432L: 2881670L, 3433L: 5095964L, 3434L: 6375082L, 3435L: 2507469L, 3436L: 4684283L, 3437L: 43442818L, 3438L: 271056L, 3439L: 621313L, 3440L: 120138605L, 3441L: 27564769L, 3442L: 9879959L, 3443L: 0L, 3444L: 371010L, 3445L: 149683719L, 3446L: 12872004L, 3447L: 29377576L, 3448L: 247917043L, 3449L: 33936292L, 3450L: 78601138L, 3451L: 118139146L, 3452L: 2341383L, 3453L: 66620181L, 3454L: 4753215L, 3455L: 10642820L, 3456L: 104676832L, 3457L: 68564222L, 3458L: 21484935L, 3459L: 205561L, 3460L: 2158398L, 3461L: 16194L, 3462L: 107238097L, 3463L: 110523704L, 3464L: 18756550L, 3465L: 329146L, 3466L: 4141797L, 3467L: 41430194L, 3468L: 39708547L, 3469L: 982813L, 3470L: 48917484L, 3471L: 1052667L, 3472L: 3232788L, 3473L: 0L, 3474L: 45588L, 3475L: 35228506L, 3476L: 14714L, 3477L: 71900865L, 3478L: 104175099L, 3479L: 155495011L, 3480L: 75681L, 3481L: 1259887L, 3482L: 10192791L, 3483L: 27318464L, 3484L: 6857093L, 3485L: 220892L, 3486L: 28769530L, 3487L: 68594019L, 3488L: 59655844L, 3489L: 39707268L, 3490L: 26212718L, 3491L: 33274906L, 3492L: 45355L, 3493L: 46256558L, 3494L: 99343484L, 3495L: 35796316L, 3496L: 57586215L, 3497L: 49451362L, 3498L: 76999983L, 3499L: 37627042L, 3500L: 69423565L, 3501L: 60205798L, 3502L: 59341241L, 3503L: 45753134L, 3504L: 83105837L, 3505L: 49722521L, 3506L: 1457178L, 3507L: 961623L, 3508L: 34609964L, 3509L: 26213593L, 3510L: 127519257L, 3511L: 28943983L, 3512L: 7554312L, 3513L: 44022204L, 3514L: 17003531L, 3515L: 10926995L, 3516L: 190924L, 3517L: 1107345L, 3518L: 12652L, 3519L: 1162182L, 3520L: 2367676L, 3521L: 72530063L, 3522L: 520396L, 3523L: 32439097L, 3524L: 12708L, 3525L: 8688207L, 3526L: 6432055L, 3527L: 213375359L, 3528L: 39024908L, 3529L: 77675274L, 3530L: 3232869L, 3531L: 78673677L, 3532L: 112029302L, 3533L: 184070079L, 3534L: 7825L, 3535L: 1021026L, 3536L: 12733926L, 3537L: 74023053L, 3538L: 79313945L, 3539L: 19234209L, 3540L: 6580687L, 3541L: 1906452L, 3542L: 9061543L, 3543L: 106417028L, 3544L: 387600642L, 3545L: 35864019L, 3546L: 6183362L, 3547L: 4568890L, 3548L: 146819282L, 3549L: 41993809L, 3550L: 17453848L, 3551L: 69159176L, 3552L: 17490661L, 3553L: 248820994L, 3554L: 13741737L, 3555L: 246667157L, 3556L: 3527L, 3557L: 13508321L, 3558L: 21220121L, 3559L: 6233410L, 3560L: 39255200L, 3561L: 6283739L, 3562L: 6118973L, 3563L: 9715816L, 3564L: 92522515L, 3565L: 176996642L, 3566L: 1161228L, 3567L: 10059519L, 3568L: 23465444L, 3569L: 38106382L, 3570L: 210760984L, 3571L: 172824105L, 3572L: 172706112L, 3573L: 134394239L, 3574L: 88046982L, 3575L: 68001136L, 3576L: 14895426L, 3577L: 36433199L, 3579L: 477L, 3580L: 4945870L, 3581L: 30076531L, 3582L: 4838101L, 3583L: 11143727L, 3584L: 37190015L, 3585L: 29306620L, 3586L: 22781750L, 3587L: 15932697L, 3588L: 48656254L, 3589L: 5235943L, 3590L: 10201085L, 3591L: 60409362L, 3592L: 69120212L, 3593L: 46151938L, 3595L: 62566556L, 3596L: 73922073L, 3597L: 46766568L, 3598L: 40141427L, 3599L: 90013730L, 3600L: 52405770L, 3601L: 336614529L, 3602L: 166425023L, 3603L: 23987806L, 3604L: 27705809L, 3605L: 8101440L, 3606L: 5566868L, 3607L: 100374611L, 3608L: 34661051L, 3609L: 92101576L, 3610L: 18261616L, 3611L: 156390097L, 3612L: 10852387L, 3613L: 15878994L, 3614L: 179997491L, 3615L: 443522L, 3616L: 64675027L, 3617L: 10653795L, 3618L: 645297L, 3619L: 198876562L, 3620L: 217537600L, 3621L: 0L, 3622L: 1871516L, 3623L: 24763632L, 3624L: 16433315L, 3625L: 7780459L, 3626L: 5633172L, 3627L: 16102517L, 3628L: 8866L, 3630L: 276721632L, 3631L: 123254746L, 3632L: 4595605L, 3633L: 45162345L, 3634L: 181941449L, 3635L: 39610206L, 3636L: 51491421L, 3637L: 65008492L, 3638L: 3088230L, 3639L: 45243651L, 3640L: 8994603L, 3641L: 126210870L, 3642L: 107741589L, 3643L: 86904977L, 3644L: 98191849L, 3645L: 70068836L, 3646L: 447875976L, 3647L: 46139380L, 3648L: 539L, 3649L: 271067406L, 3650L: 23113013L, 3651L: 6758241L, 3652L: 123834L, 3653L: 30439795L, 3654L: 57555348L, 3655L: 54709167L, 3656L: 57086L, 3657L: 504054L, 3658L: 32956582L, 3659L: 763518L, 3660L: 37933086L, 3661L: 2846150L, 3662L: 4033408L, 3663L: 59227427L, 3664L: 1613550L, 3665L: 179236829L, 3666L: 116304866L, 3667L: 85103612L, 3668L: 5365014L, 3669L: 10771963L, 3670L: 170392964L, 3671L: 185127871L, 3672L: 52783812L, 3673L: 264237185L, 3674L: 8343425L, 3675L: 67418880L, 3676L: 116414706L, 3677L: 58255643L, 3678L: 45834L, 3679L: 2138404L, 3680L: 255797426L, 3681L: 29770393L, 3682L: 39900070L, 3683L: 39171044L, 3684L: 22285286L, 3685L: 70297L, 3686L: 20097052L, 3687L: 11972286L, 3688L: 140644498L, 3689L: 50813656L, 3690L: 16858620L, 3691L: 160131878L, 3692L: 96095931L, 3693L: 49290567L, 3694L: 50993897L, 3695L: 62742138L, 3696L: 392956L, 3697L: 71646566L, 3698L: 92100971L, 3699L: 11768475L, 3700L: 12343780L, 3701L: 10780573L, 3702L: 9568L, 3703L: 191855522L, 3704L: 126950688L, 3705L: 42087903L, 3706L: 1320393L, 3707L: 17977291L, 3708L: 10778609L, 3709L: 22629113L, 3710L: 115966431L, 3711L: 55739034L, 3712L: 128809903L, 3713L: 62272730L, 3714L: 117291189L, 3715L: 93212338L, 3716L: 218114651L, 3717L: 467934L, 3718L: 68288850L, 3719L: 118677217L, 3720L: 41015070L, 3721L: 57128156L, 3722L: 58553L, 3723L: 56956348L, 3724L: 37832603L, 3725L: 16253665L, 3726L: 4613L, 3727L: 135995570L, 3728L: 340868364L, 3729L: 14850354L, 3730L: 29308439L, 3731L: 3661678L, 3732L: 70554102L, 3733L: 22930281L, 3734L: 18930747L, 3735L: 31632474L, 3736L: 62680228L, 3737L: 72619429L, 3738L: 1113807L, 3739L: 50043264L, 3740L: 127173629L, 3741L: 72898L, 3742L: 24330902L, 3743L: 28677699L, 3744L: 2277986L, 3745L: 28899516L, 3746L: 221329552L, 3747L: 272945025L, 3748L: 112299336L, 3749L: 88053455L, 3750L: 356533846L, 3751L: 26648432L, 3752L: 48606921L, 3753L: 89409588L, 3754L: 6951L, 3755L: 331716L, 3756L: 59967L, 3757L: 5969423L, 3758L: 62651154L, 3759L: 13319564L, 3760L: 30734075L, 3761L: 159816227L, 3762L: 147266409L, 3763L: 133785458L, 3764L: 153754817L, 3765L: 363721L, 3766L: 183214L, 3767L: 80402606L, 3768L: 9206716L, 3769L: 5581037L, 3770L: 1559515L, 3771L: 16628L, 3772L: 126112L, 3773L: 1044L, 3774L: 69766L, 3775L: 103666L, 3776L: 16238787L, 3777L: 52681L, 3778L: 1331666L, 3779L: 20971L, 3780L: 60237270L, 3781L: 1651154L, 3782L: 7315372L, 3783L: 13393L, 3784L: 3225698L, 3785L: 108822670L, 3786L: 67316751L, 3787L: 19236529L, 3788L: 26664319L, 3789L: 11621114L, 3790L: 104763446L, 3791L: 4301L, 3792L: 89898375L, 3793L: 1219L, 3794L: 472132L, 3795L: 3961533L, 3796L: 62442842L, 3797L: 20780648L, 3798L: 13455360L, 3799L: 131351L, 3800L: 706047L, 3801L: 5489310L, 3802L: 9060305L, 3803L: 72894982L, 3804L: 16038723L, 3805L: 1183443L, 3806L: 1206772L, 3807L: 46679979L, 3808L: 34198935L, 3809L: 6440L, 3811L: 181371893L, 3812L: 82860765L, 3813L: 37372813L, 3814L: 24935412L, 3815L: 219710437L, 3816L: 96215996L, 3817L: 125717467L, 3818L: 69223L, 3819L: 217331159L, 3820L: 5511649L, 3821L: 144233265L, 3822L: 8349555L, 3823L: 10723717L, 3824L: 3070560L, 3825L: 26118158L, 3826L: 707443L, 3827L: 91003L, 3828L: 146660L, 3829L: 172188458L, 3830L: 517218L, 3831L: 111616326L, 3832L: 25764100L, 3833L: 30952111L, 3834L: 27222L, 3835L: 144297753L, 3836L: 181753L, 3837L: 1761094L, 3838L: 7874213L, 3839L: 33209544L, 3840L: 2383L, 3841L: 266862424L, 3842L: 105515453L, 3843L: 143851144L, 3844L: 164937174L, 3845L: 131047965L, 3846L: 96454950L, 3847L: 32L, 3848L: 3922865L, 3849L: 125540299L, 3850L: 175453869L, 3851L: 29794524L, 3852L: 58757786L, 3853L: 52621444L, 3854L: 28575602L, 3855L: 343028752L, 3856L: 104559449L, 3857L: 27314171L, 3858L: 111143597L, 3859L: 31522265L, 3860L: 13077748L, 3861L: 172562885L, 3862L: 14080L, 3863L: 30044235L, 3864L: 65244L, 3865L: 18656987L, 3866L: 5104325L, 3867L: 19620L, 3868L: 2179233L, 3869L: 949721L, 3870L: 2708938L, 3871L: 35572L, 3872L: 2689723L, 3873L: 88342316L, 3874L: 7099439L, 3875L: 112362870L, 3876L: 291370065L, 3877L: 142753336L, 3878L: 115579635L, 3879L: 241161927L, 3880L: 193212587L, 3881L: 35091586L, 3882L: 67826723L, 3883L: 171342844L, 3884L: 65035870L, 3885L: 12649524L, 3886L: 49665753L, 3887L: 83362809L, 3888L: 10280916L, 3889L: 61749611L, 3890L: 51527536L, 3891L: 11414826L, 3892L: 335758649L, 3893L: 3885092L, 3894L: 89638153L, 3895L: 163720022L, 3896L: 144361133L, 3897L: 34429355L, 3898L: 36171944L, 3899L: 37253526L, 3900L: 202497084L, 3901L: 61695052L, 3902L: 49012L, 3903L: 39633549L, 3904L: 43779214L, 3905L: 1463816L, 3906L: 29872984L, 3907L: 67210361L, 3908L: 43464275L, 3909L: 112471677L, 3910L: 171650192L, 3911L: 84753846L, 3912L: 5308620L, 3913L: 106404659L, 3914L: 13951933L, 3915L: 34961170L, 3916L: 158018795L, 3917L: 30218420L, 3918L: 11559884L, 3919L: 7828L, 3920L: 160149071L, 3921L: 245200687L, 3922L: 69994427L, 3923L: 101071804L, 3924L: 35493871L, 3925L: 116929110L, 3926L: 132394536L, 3927L: 17368156L, 3928L: 90394346L, 3929L: 100800817L, 3930L: 33968100L, 3931L: 64593773L, 3932L: 16118154L, 3933L: 1589682L, 3934L: 150957121L, 3935L: 66108243L, 3936L: 140683563L, 3937L: 99605165L, 3938L: 325705L, 3939L: 51116284L, 3940L: 121374672L, 3941L: 23211538L, 3942L: 100501786L, 3943L: 25800289L, 3944L: 133742904L, 3945L: 10635308L, 3947L: 913130L, 3948L: 77204L, 3949L: 22092754L, 3950L: 3009590L, 3951L: 147602144L, 3952L: 2473490L, 3953L: 26369L, 3954L: 2469256L, 3955L: 68855L, 3956L: 43107792L, 3957L: 83991471L, 3958L: 151355535L, 3959L: 81234203L, 3960L: 107730550L, 3961L: 5275119L, 3962L: 60966746L, 3963L: 120235995L, 3964L: 20592L, 3965L: 8617127L, 3966L: 12847375L, 3967L: 30307912L, 3968L: 11808674L, 3969L: 908935L, 3970L: 112993415L, 3971L: 22867159L, 3972L: 1193708L, 3973L: 171037839L, 3974L: 66236593L, 3975L: 6119354L, 3976L: 80992034L, 3977L: 18462870L, 3978L: 72135645L, 3979L: 87070932L, 3980L: 28244526L, 3981L: 56164381L, 3982L: 34396311L, 3983L: 4714034L, 3984L: 89155011L, 3985L: 35222855L, 3986L: 132736699L, 3987L: 197257888L, 3988L: 162006184L, 3989L: 13279617L, 3990L: 191156258L, 3991L: 20851634L, 3992L: 239634L, 3993L: 4328542L, 3994L: 16595652L, 3995L: 62441223L, 3996L: 10711104L, 3997L: 96757155L, 3998L: 2963L, 3999L: 149886963L, 4000L: 19441615L, 4001L: 117445100L, 4002L: 204204378L, 4003L: 94230508L, 4004L: 12268716L, 4005L: 142879553L, 4006L: 183040552L, 4007L: 32770260L, 4008L: 149902L, 4009L: 70687843L, 4010L: 128902615L, 4011L: 59054277L, 4012L: 32115322L, 4013L: 11503575L, 4014L: 10187306L, 4015L: 1979L, 4016L: 267993004L, 4017L: 214965122L, 4018L: 261031128L, 4019L: 8370704L, 4020L: 54405206L, 4021L: 103370724L, 4022L: 115727121L, 4023L: 53574787L, 4024L: 1627197L, 4025L: 51291377L, 4026L: 39908010L, 4027L: 15166743L, 4028L: 23335459L, 4029L: 37268396L, 4030L: 65895876L, 4031L: 53307759L, 4032L: 115039345L, 4033L: 30248404L, 4034L: 164243211L, 4035L: 4252652L, 4036L: 125198695L, 4037L: 24713006L, 4038L: 5508913L, 4039L: 165986999L, 4040L: 89969571L, 4041L: 29425456L, 4042L: 33967844L, 4043L: 97994213L, 4044L: 43920777L, 4045L: 11271124L, 4046L: 1474948L, 4047L: 126216038L, 4048L: 64088576L, 4049L: 156764506L, 4050L: 111435989L, 4051L: 231273395L, 4052L: 178959498L, 4053L: 22448L, 4054L: 55764468L, 4055L: 12285050L, 4056L: 107864268L, 4057L: 409713L, 4058L: 17492170L, 4059L: 106254222L, 4060L: 10971170L, 4061L: 1971673L, 4062L: 6170049L, 4063L: 135099688L, 4064L: 38930564L, 4065L: 727211L, 4066L: 67636L, 4067L: 43123551L, 4068L: 12041123L, 4069L: 45140325L, 4070L: 1314285L, 4071L: 23189L, 4072L: 3482591L, 4073L: 152147617L, 4074L: 41380374L, 4075L: 26581718L, 4076L: 179287420L, 4077L: 187726680L, 4078L: 69839336L, 4079L: 1555L, 4080L: 2558063L, 4081L: 5721L, 4082L: 59629681L, 4083L: 9219836L, 4084L: 51435621L, 4085L: 50137552L, 4086L: 47177339L, 4087L: 141472265L, 4088L: 28997347L, 4089L: 38538665L, 4090L: 87518888L, 4091L: 71364587L, 4092L: 167290238L, 4093L: 50741383L, 4094L: 44768654L, 4095L: 1191122L, 4096L: 79219906L, 4097L: 62386599L, 4098L: 63936622L, 4099L: 92681896L, 4100L: 69198786L, 4101L: 95467527L, 4102L: 8646483L, 4103L: 83139272L, 4104L: 121561264L, 4105L: 543604L, 4106L: 275110591L, 4107L: 41352189L, 4108L: 15569798L, 4109L: 258373920L, 4110L: 100737310L, 4111L: 93L, 4112L: 17971943L, 4113L: 275188834L, 4114L: 37581990L, 4115L: 201986L, 4116L: 23559708L, 4117L: 21610688L, 4118L: 2439604L, 4119L: 147175L, 4120L: 84917L, 4121L: 33648L, 4122L: 4994971L, 4123L: 39646391L, 4124L: 162376L, 4125L: 53037L, 4126L: 7547450L, 4127L: 7664944L, 4128L: 6501542L, 4129L: 80358044L, 4130L: 72691474L, 4131L: 49637550L, 4132L: 55613345L, 4133L: 79294736L, 4134L: 29551755L, 4135L: 14197856L, 4136L: 1831738L, 4137L: 21693676L, 4138L: 8077500L, 4139L: 46426340L, 4140L: 31587722L, 4141L: 16622455L, 4142L: 13959591L, 4143L: 184456319L, 4144L: 3483446L, 4145L: 3187532L, 4146L: 23692442L, 4147L: 113010523L, 4148L: 78751084L, 4149L: 45421590L, 4150L: 1443666L, 4151L: 55796833L, 4152L: 1184137L, 4153L: 12350198L, 4154L: 78512534L, 4155L: 15083150L, 4156L: 61864475L, 4157L: 73221431L, 4158L: 75108784L, 4159L: 29328327L, 4160L: 26217805L, 4161L: 68762046L, 4162L: 62270589L, 4163L: 10237608L, 4164L: 20203026L, 4165L: 67005L, 4166L: 33994618L, 4167L: 3411996L, 4168L: 3840902L, 4169L: 44069952L, 4170L: 22826627L, 4171L: 10882154L, 4172L: 31998547L, 4173L: 115106L, 4174L: 48427992L, 4175L: 29003L, 4176L: 109133908L, 4177L: 61609556L, 4178L: 11859338L, 4179L: 31414564L, 4180L: 150104105L, 4181L: 20196197L, 4182L: 52869045L, 4183L: 59946131L, 4184L: 65592115L, 4185L: 46159377L, 4186L: 52980302L, 4187L: 95781401L, 4188L: 45573830L, 4189L: 636106L, 4190L: 53942130L, 4191L: 135341179L, 4192L: 25104300L, 4193L: 70200830L, 4194L: 147107117L, 4195L: 1679587L, 4196L: 112427186L, 4197L: 53698523L, 4198L: 753972L, 4199L: 177847659L, 4200L: 213455748L, 4201L: 153381791L, 4202L: 187420583L, 4203L: 337069215L, 4204L: 1797616L, 4205L: 1053342L, 4206L: 5288845L, 4207L: 500477L, 4208L: 173897980L, 4209L: 118682126L, 4210L: 4351282L, 4211L: 151218949L, 4212L: 3290379L, 4213L: 123735080L, 4214L: 20675865L, 4215L: 30041344L, 4216L: 124719970L, 4217L: 3055626L, 4218L: 2515273L, 4219L: 16958939L, 4220L: 4864522L, 4221L: 8030145L, 4222L: 30135534L, 4223L: 115789778L, 4224L: 170869385L, 4225L: 265722020L, 4226L: 95618103L, 4227L: 8631206L, 4228L: 141970184L, 4229L: 133004026L, 4230L: 833942L, 4231L: 36623702L, 4232L: 79631989L, 4233L: 1488463L, 4234L: 154396289L, 4235L: 122869827L, 4236L: 280041155L, 4237L: 209742775L, 4238L: 116071509L, 4239L: 82607710L, 4240L: 46923644L, 4241L: 64803113L, 4242L: 2811367L, 4243L: 209194537L, 4244L: 24577621L, 4245L: 191948191L, 4246L: 74407831L, 4247L: 411677L, 4248L: 8192985L, 4249L: 20363604L, 4250L: 391487562L, 4251L: 58613056L, 4252L: 12823283L, 4253L: 300863751L, 4254L: 101833612L, 4255L: 2149817L, 4256L: 808545L, 4257L: 151093831L, 4258L: 476843176L, 4259L: 3227818L, 4260L: 159952208L, 4261L: 91569205L, 4262L: 77298848L, 4263L: 85871245L, 4264L: 153369674L, 4265L: 215667867L, 4266L: 25765589L, 4267L: 3293421L, 4268L: 119473921L, 4269L: 554247L, 4270L: 96189588L, 4271L: 37713L, 4272L: 62257196L, 4273L: 27183L, 4274L: 180162978L, 4275L: 87199507L, 4276L: 165198923L, 4277L: 149190L, 4278L: 12506798L, 4279L: 11392816L, 4280L: 100344125L, 4281L: 35765640L, 4282L: 270368886L, 4283L: 83358913L, 4284L: 34971065L, 4285L: 7640736L, 4286L: 174442528L, 4287L: 163795105L, 4288L: 32550393L, 4289L: 224878715L, 4290L: 375184648L, 4291L: 86045035L, 4292L: 105081952L, 4293L: 52195646L, 4294L: 189365908L, 4295L: 74954187L, 4296L: 35968455L, 4297L: 4319061L, 4298L: 148883457L, 4299L: 136981187L, 4300L: 339589975L, 4301L: 126652000L, 4302L: 172401455L, 4303L: 17482379L, 4304L: 60186070L, 4305L: 113258289L, 4306L: 358382428L, 4307L: 23850283L, 4308L: 16784351L, 4309L: 61495L, 4310L: 30868681L, 4311L: 503629L, 4312L: 77505805L, 4313L: 2120L, 4314L: 133300036L, 4315L: 1708859L, 4316L: 15851032L, 4317L: 1881L, 4318L: 252587844L, 4319L: 111878600L, 4320L: 0L, 4321L: 9056L, 4322L: 113801179L, 4323L: 182676794L, 4324L: 167630L, 4325L: 62559040L, 4326L: 148361023L, 4327L: 32398699L, 4328L: 154934211L, 4329L: 56736827L, 4330L: 111949764L, 4331L: 246537479L, 4332L: 13946608L, 4333L: 93997766L, 4334L: 115684591L, 4335L: 134981801L, 4336L: 747529L, 4337L: 125800572L, 4338L: 163021972L, 4339L: 15980241L, 4340L: 1551208L, 4341L: 10041557L, 4342L: 905287L, 4343L: 78738949L, 4344L: 292991215L, 4345L: 218312776L, 4346L: 433988L, 4347L: 125410147L, 4348L: 74828117L, 4349L: 12159450L, 4350L: 22970607L, 4351L: 296180864L, 4352L: 86195028L, 4353L: 1766948L, 4354L: 189346367L, 4355L: 60349596L, 4356L: 36859906L, 4357L: 91925633L, 4358L: 360673218L, 4359L: 171698963L, 4360L: 48523L, 4361L: 43110122L, 4362L: 66311331L, 4363L: 106752024L, 4364L: 112889268L, 4365L: 248148310L, 4366L: 132604255L, 4367L: 103147955L, 4368L: 152065554L, 4369L: 34189554L, 4370L: 143256958L, 4371L: 5210L, 4372L: 2310877L, 4373L: 50608983L, 4374L: 231185544L, 4375L: 2584297L, 4376L: 2178373L, 4377L: 38879073L, 4378L: 161448831L, 4379L: 116049881L, 4380L: 2518256L, 4381L: 137815151L, 4382L: 102297975L, 4383L: 166449252L, 4384L: 93853843L, 4385L: 122505947L, 4386L: 126365921L, 4387L: 178753090L, 4388L: 0L, 4389L: 102851108L, 4390L: 87L, 4391L: 81276154L, 4392L: 10743433L, 4393L: 27983037L, 4394L: 75448856L, 4395L: 29984L, 4396L: 114716723L, 4397L: 14550779L, 4398L: 104191455L, 4399L: 160288358L, 4400L: 28012531L, 4401L: 167815582L, 4402L: 13339430L, 4403L: 205241358L, 4404L: 2631305L, 4405L: 85152295L, 4406L: 78546415L, 4407L: 49687955L, 4408L: 143390045L, 4409L: 349564L, 4410L: 240590506L, 4411L: 245705735L, 4412L: 51628745L, 4413L: 31830933L, 4414L: 107907536L, 4415L: 78959L, 4416L: 170037161L, 4417L: 9304235L, 4418L: 108754063L, 4419L: 144008329L, 4420L: 66743785L, 4421L: 107813705L, 4422L: 55187973L, 4423L: 96833965L, 4424L: 5844285L, 4425L: 46777312L, 4426L: 31183524L, 4427L: 159471284L, 4428L: 150673017L, 4429L: 37627422L, 4430L: 4385885L, 4431L: 124058216L, 4432L: 190566600L, 4433L: 146336684L, 4434L: 29714050L, 4435L: 192573957L, 4436L: 200040951L, 4437L: 4397390L, 4438L: 939447L, 4439L: 6245L, 4440L: 114314827L, 4441L: 104276750L, 4442L: 12226490L, 4443L: 53673276L, 4444L: 23190351L, 4445L: 51604100L, 4446L: 48195819L, 4447L: 2823397L, 4448L: 121401917L, 4449L: 17155808L, 4450L: 2114635L, 4451L: 38619476L, 4452L: 330311029L, 4453L: 45710881L, 4454L: 4128L, 4455L: 10080754L, 4456L: 3491497L, 4457L: 185298851L, 4458L: 5126L, 4459L: 75172217L, 4460L: 28882723L, 4461L: 96206367L, 4462L: 47654610L, 4463L: 67577023L, 4464L: 118804359L, 4465L: 144310627L, 4466L: 66574841L, 4467L: 19794971L, 4468L: 102867955L, 4469L: 16568961L, 4470L: 7389316L, 4471L: 138870122L, 4472L: 143724125L, 4473L: 78038052L, 4474L: 36969783L, 4475L: 95029257L, 4476L: 48808283L, 4477L: 234738085L, 4478L: 61565323L, 4479L: 57892010L, 4480L: 336643489L, 4481L: 88897169L, 4482L: 28015709L, 4483L: 90068736L, 4484L: 30347L, 4485L: 119085401L, 4486L: 36792933L, 4487L: 183029074L, 4488L: 90588L, 4489L: 54213280L, 4490L: 11527310L, 4491L: 151804517L, 4492L: 98945149L, 4493L: 102532916L, 4494L: 158012904L, 4495L: 17720301L, 4496L: 34024157L, 4497L: 101465613L, 4498L: 56692156L, 4499L: 116293979L, 4500L: 8264728L, 4501L: 63240527L, 4502L: 61226659L, 4503L: 23384606L, 4504L: 65232119L, 4505L: 203654275L, 4506L: 131296726L, 4507L: 87314536L, 4508L: 25650208L, 4509L: 67374707L, 4510L: 5795L, 4511L: 17989652L, 4512L: 35567844L, 4513L: 60853043L, 4514L: 55505878L, 4515L: 4894229L, 4516L: 13313804L, 4517L: 141953803L, 4518L: 159048063L, 4519L: 141006411L, 4520L: 6074L, 4521L: 10736668L, 4522L: 19436492L, 4523L: 2329091L, 4524L: 290186208L, 4525L: 154247099L, 4526L: 271643978L, 4527L: 31990509L, 4528L: 539L, 4529L: 131438998L, 4530L: 2279584L, 4531L: 184797408L, 4532L: 144891298L, 4533L: 28688893L, 4534L: 47803169L, 4535L: 69690934L, 4536L: 428803L, 4537L: 21557739L, 4538L: 195921633L, 4539L: 14363158L, 4540L: 202948091L, 4541L: 121176242L, 4542L: 573318L, 4543L: 5645497L, 4544L: 2440509L, 4545L: 13256724L, 4546L: 100987289L, 4547L: 64402808L, 4548L: 141706206L, 4549L: 84937L, 4550L: 218335713L, 4551L: 228792468L, 4552L: 98035404L, 4553L: 120805497L, 4554L: 424246710L, 4555L: 221265973L, 4556L: 255971892L, 4557L: 113523804L, 4558L: 177894043L, 4559L: 218739004L, 4560L: 156359003L, 4561L: 2295709L, 4562L: 85237549L, 4563L: 46443002L, 4564L: 138092196L, 4565L: 138646204L, 4566L: 63646764L, 4567L: 7722353L, 4568L: 13052142L, 4569L: 20354269L, 4570L: 135575397L, 4571L: 20551813L, 4572L: 320513L, 4573L: 100610772L, 4574L: 26548610L, 4575L: 8162694L, 4576L: 116805980L, 4577L: 1004752L, 4578L: 13254L, 4579L: 7383583L, 4580L: 714058L, 4581L: 2184290L, 4582L: 239282L, 4583L: 187307301L, 4584L: 2442903L, 4585L: 20534557L, 4586L: 2284906L, 4587L: 495953278L, 4588L: 195383841L, 4589L: 122913362L, 4590L: 35356364L, 4591L: 399492L, 4592L: 77740129L, 4593L: 7416011L, 4594L: 18362095L, 4595L: 78409592L, 4596L: 13566627L, 4597L: 14335L, 4598L: 74327718L, 4599L: 120593464L, 4600L: 91656709L, 4601L: 27206113L, 4602L: 20925L, 4603L: 105084472L, 4604L: 292588452L, 4605L: 8662083L, 4606L: 85534759L, 4607L: 4680L, 4608L: 633828L, 4609L: 44640017L, 4610L: 166939047L, 4611L: 1714432L, 4612L: 560244L, 4613L: 67016471L, 4614L: 1988021L, 4615L: 181717912L, 4616L: 67671080L, 4617L: 109350736L, 4618L: 141642346L, 4619L: 12812087L, 4620L: 10470654L, 4621L: 299569733L, 4622L: 90793909L, 4623L: 15750L, 4624L: 70642665L, 4625L: 50219010L, 4626L: 1188166L, 4627L: 99596L, 4628L: 3364675L, 4630L: 58936443L, 4631L: 81596665L, 4632L: 2756743L, 4633L: 1910410L, 4634L: 15317L, 4635L: 17280189L, 4636L: 6526L, 4637L: 4865493L, 4638L: 3752826L, 4639L: 290684461L, 4640L: 33509636L, 4641L: 57263186L, 4642L: 33329898L, 4643L: 648625L, 4644L: 77950085L, 4645L: 364629L, 4646L: 6294714L, 4647L: 79365350L, 4648L: 33795825L, 4649L: 171643934L, 4650L: 78887967L, 4651L: 50921719L, 4652L: 20600851L, 4653L: 57609913L, 4654L: 14649042L, 4655L: 38360888L, 4656L: 28149970L, 4657L: 109645884L, 4658L: 125587395L, 4659L: 116733719L, 4660L: 50480884L, 4661L: 35459376L, 4662L: 63842450L, 4663L: 51655477L, 4664L: 112964782L, 4665L: 231996779L, 4666L: 187417891L, 4667L: 77482408L, 4668L: 39229787L, 4669L: 50296235L, 4670L: 117099845L, 4671L: 1812711L, 4672L: 61359974L, 4673L: 144141979L, 4674L: 1546025L, 4675L: 83498550L, 4676L: 43227389L, 4677L: 55364297L, 4678L: 119362380L, 4679L: 286909L, 4680L: 111602688L, 4681L: 217550664L, 4682L: 49038849L, 4683L: 112818111L, 4684L: 155435078L, 4685L: 131930613L, 4686L: 14573504L, 4687L: 68560812L, 4688L: 8282250L, 4689L: 13017446L, 4690L: 74648578L, 4691L: 34533726L, 4692L: 18994252L, 4693L: 36800584L, 4694L: 220015313L, 4695L: 198075865L, 4696L: 268429945L, 4697L: 52806080L, 4698L: 63432153L, 4699L: 87611772L, 4700L: 11899864L, 4701L: 2897335L, 4702L: 20190257L, 4703L: 151411369L, 4704L: 63543911L, 4705L: 45770442L, 4706L: 54732148L, 4707L: 407730611L, 4708L: 55421300L, 4709L: 62649866L, 4710L: 24006293L, 4711L: 1064438L, 4712L: 76024352L, 4713L: 82205003L, 4714L: 113099722L, 4715L: 103321058L, 4716L: 111321945L, 4717L: 61682225L, 4718L: 104169495L, 4719L: 55103486L, 4720L: 140527L, 4721L: 136947866L, 4722L: 144432916L, 4723L: 23586438L, 4724L: 52482898L, 4725L: 53431756L, 4726L: 1416633L, 4727L: 1199064L, 4728L: 121665263L, 4729L: 18016821L, 4730L: 1878248L, 4731L: 11161468L, 4732L: 70882100L, 4733L: 103291975L, 4734L: 25953630L, 4735L: 152813674L, 4736L: 103784468L, 4737L: 36107400L, 4738L: 74184256L, 4739L: 6172300L, 4740L: 277755773L, 4741L: 9951163L, 4742L: 4034258L, 4743L: 73543914L, 4744L: 1775117L, 4745L: 895059L, 4746L: 15358530L, 4747L: 6731353L, 4748L: 30011380L, 4749L: 281892L, 4750L: 30177L, 4751L: 6679715L, 4752L: 2780832L, 4753L: 8622666L, 4754L: 13210897L, 4755L: 3494978L, 4756L: 64399098L, 4757L: 259509L, 4758L: 14149863L, 4759L: 18775L, 4760L: 1115193L, 4761L: 20814641L, 4762L: 2318689L, 4763L: 61274765L, 4764L: 71494894L, 4765L: 41277073L, 4766L: 156988060L, 4767L: 57627914L, 4768L: 66417944L, 4769L: 8098L, 4770L: 11593860L, 4771L: 36316522L, 4772L: 34867637L, 4773L: 200110377L, 4774L: 7957832L, 4775L: 15756193L, 4776L: 8787121L, 4777L: 25839964L, 4778L: 51347269L, 4779L: 61291633L, 4780L: 3977290L, 4781L: 3363394L, 4782L: 33831654L, 4783L: 13022901L, 4784L: 30597483L, 4785L: 31163106L, 4786L: 8994058L, 4787L: 16410345L, 4788L: 39280323L, 4789L: 15698447L, 4790L: 81297339L, 4791L: 15981997L, 4792L: 27502190L, 4793L: 1339384L, 4794L: 2568376L, 4796L: 46285766L, 4797L: 69905723L, 4798L: 55809295L, 4799L: 6568975L, 4800L: 8809237L, 4801L: 103477109L, 4802L: 120132818L, 4803L: 36054740L, 4804L: 8031419L, 4805L: 52969407L, 4806L: 169293958L, 4807L: 149666256L, 4808L: 66517325L, 4809L: 6068785L, 4810L: 47843220L, 4811L: 203072939L, 4812L: 539210L, 4813L: 500500L, 4814L: 136235712L, 4815L: 89899539L, 4816L: 8632965L, 4817L: 3067292L, 4818L: 26009977L, 4819L: 340033056L, 4820L: 122282699L, 4821L: 3363462L, 4822L: 12103212L, 4823L: 197345472L, 4824L: 144080716L, 4825L: 23224627L, 4826L: 33955669L, 4827L: 1929691L, 4828L: 16848273L, 4829L: 74568460L, 4830L: 56653720L, 4831L: 62402008L, 4832L: 171667147L, 4833L: 194284055L, 4834L: 290134083L, 4835L: 4391416L, 4836L: 33315332L, 4837L: 58498660L, 4838L: 259712262L, 4839L: 60432213L, 4840L: 205655294L, 4841L: 13086L, 4842L: 97675445L, 4843L: 51015779L, 4844L: 2649649L, 4845L: 78468942L, 4846L: 3731506L, 4847L: 3325772L, 4848L: 97471987L, 4849L: 12143026L, 4850L: 5433625L, 4851L: 106781811L, 4852L: 4821L, 4853L: 56888263L, 4854L: 207793920L, 4855L: 1199072L, 4856L: 57984369L, 4857L: 31228937L, 4858L: 118612330L, 4859L: 1499607L, 4860L: 13109519L, 4861L: 104645509L, 4862L: 26711578L, 4863L: 1576292L, 4864L: 61626059L, 4865L: 9697648L, 4866L: 3725835L, 4867L: 6704786L, 4868L: 3880433L, 4869L: 29978782L, 4870L: 2406160L, 4871L: 45614415L, 4872L: 12843651L, 4873L: 7238978L, 4874L: 82976695L, 4875L: 587030L, 4876L: 1423634L, 4877L: 109766394L, 4878L: 41267205L, 4879L: 4014985L, 4880L: 99624246L, 4881L: 221033321L, 4882L: 51296136L, 4883L: 27273689L, 4884L: 200611428L, 4885L: 6357292L, 4886L: 49580L, 4887L: 6153604L, 4888L: 7684175L, 4889L: 907337L, 4890L: 16122486L, 4891L: 3065517L, 4892L: 30996674L, 4893L: 87446151L, 4894L: 481108270L, 4895L: 35644688L, 4896L: 269285337L, 4897L: 80190L, 4898L: 92958717L, 4899L: 193406L, 4900L: 2040435L, 4901L: 21489917L, 4902L: 101612747L, 4903L: 2086975L, 4904L: 1623619L, 4905L: 239981782L, 4906L: 24979794L, 4907L: 171139589L, 4908L: 152074151L, 4909L: 141329618L, 4910L: 30736883L, 4911L: 22678L, 4912L: 234872L, 4913L: 8671503L, 4914L: 4414980L, 4915L: 47604L, 4916L: 965164L, 4917L: 3427685L, 4918L: 48559096L, 4919L: 268431829L, 4920L: 139396515L, 4921L: 451021L, 4922L: 146526657L, 4923L: 75833221L, 4924L: 219431830L, 4925L: 23069L, 4926L: 167061057L, 4927L: 56021335L, 4928L: 483389325L, 4929L: 135168934L, 4930L: 458999L, 4931L: 59347L, 4932L: 156381875L, 4933L: 274756L, 4934L: 21024L, 4935L: 2752L, 4936L: 31745L, 4937L: 60867953L, 4938L: 123416730L, 4939L: 10350810L, 4940L: 39178488L, 4941L: 5426424L, 4942L: 41041008L, 4943L: 1162413L, 4944L: 9687392L, 4945L: 24908159L, 4946L: 18487065L, 4947L: 4052119L, 4948L: 14176995L, 4949L: 5066829L, 4950L: 7519787L, 4951L: 83649913L, 4952L: 75034628L, 4953L: 83944219L, 4954L: 5735L, 4955L: 31891L, 4956L: 70513L, 4957L: 33788L, 4958L: 1171907L, 4959L: 121609331L, 4960L: 72140631L, 4961L: 700436L, 4962L: 25706540L, 4964L: 26042648L, 4965L: 16891697L, 4966L: 53648016L, 4967L: 1711150L, 4968L: 9678553L, 4969L: 36661532L, 4970L: 13500543L, 4971L: 4941102L, 4972L: 31610421L, 4973L: 30807437L, 4974L: 9577777L, 4975L: 8941607L, 4976L: 17232184L, 4977L: 4118295L, 4978L: 63003170L, 4979L: 298677L, 4980L: 7321543L, 4981L: 6356111L, 4982L: 64312376L, 4983L: 25019754L, 4984L: 104097051L, 4985L: 2683893L, 4986L: 324920L, 4987L: 213576L, 4988L: 504789L, 4989L: 7687466L, 4990L: 50728813L, 4991L: 116776872L, 4992L: 24163667L, 4993L: 132756839L, 4994L: 67819918L, 4995L: 114238542L, 4996L: 95316416L, 4997L: 148955356L, 4998L: 106770619L, 4999L: 11880193L}, 'down_flow': {1L: 961584381L, 2L: 94749L, 3L: 1302232575L, 4L: 3498333063L, 5L: 227950020L, 6L: 230621263L, 7L: 1414949738L, 8L: 784702356L, 9L: 2068118894L, 10L: 210398232L, 11L: 1541267930L, 12L: 1033096558L, 13L: 692934170L, 14L: 1930970015L, 15L: 17887307L, 16L: 919469789L, 17L: 453305348L, 18L: 29014L, 19L: 1086070510L, 20L: 498732213L, 21L: 1942L, 22L: 581790399L, 23L: 133881142L, 24L: 789676432L, 25L: 955508270L, 26L: 797607641L, 27L: 512448135L, 28L: 1568408257L, 29L: 27173242162L, 30L: 21016108083L, 31L: 1245490341L, 32L: 4102291857L, 33L: 2770970985L, 34L: 1896460160L, 36L: 43806L, 37L: 1374055237L, 38L: 1288092749L, 39L: 105261820L, 40L: 443523L, 41L: 382485478L, 42L: 302384819L, 43L: 1714254004L, 44L: 1571130241L, 45L: 3458336259L, 46L: 17780L, 47L: 130721170L, 48L: 1073988859L, 49L: 146063602L, 50L: 2337046158L, 51L: 9660875060L, 53L: 3005132033L, 54L: 265304643L, 55L: 140585341L, 56L: 1940354L, 57L: 5115571162L, 58L: 1594309978L, 59L: 1900749L, 60L: 52L, 61L: 463564L, 62L: 146493L, 63L: 499889202L, 64L: 36321736L, 65L: 946724031L, 66L: 2273L, 67L: 336189040L, 68L: 24540096L, 69L: 771L, 70L: 356898461L, 71L: 3568599674L, 72L: 1303130485L, 73L: 40722601L, 74L: 82263441L, 75L: 1867581985L, 76L: 1485038587L, 77L: 87139045L, 78L: 314987863L, 79L: 7703793794L, 80L: 920802012L, 81L: 336805268L, 82L: 1467780161L, 83L: 2191673379L, 84L: 122926966L, 85L: 212867695L, 86L: 6453412L, 87L: 669402152L, 88L: 240835714L, 89L: 210571211L, 90L: 470L, 91L: 3085141165L, 92L: 1180270609L, 93L: 360820821L, 94L: 546574962L, 95L: 95263798L, 96L: 1536L, 97L: 1635922896L, 98L: 898048099L, 99L: 57150513949L, 100L: 3455221941L, 101L: 112734015L, 102L: 4473537365L, 103L: 81021857L, 104L: 1248391436L, 105L: 10351L, 106L: 1053968592L, 107L: 443235684L, 108L: 1006355671L, 109L: 2018461457L, 110L: 949688485L, 111L: 3194913644L, 112L: 2072125428L, 113L: 2416430425L, 114L: 3030560055L, 115L: 61336944L, 116L: 359061181L, 117L: 452508062L, 118L: 789131622L, 119L: 1348623816L, 120L: 181191780L, 121L: 377632004L, 122L: 124369917L, 123L: 4144576476L, 124L: 321047228L, 125L: 800L, 126L: 2635701132L, 127L: 1175088256L, 128L: 525418799L, 129L: 78777474L, 130L: 1353913301L, 131L: 27232922L, 132L: 6068501253L, 133L: 1623409678L, 134L: 9404166957L, 135L: 1040713923L, 136L: 98362125L, 137L: 288211527L, 138L: 2115367098L, 139L: 688262307L, 140L: 9910252261L, 141L: 515735648L, 143L: 9841271575L, 144L: 12921162706L, 145L: 19265179522L, 146L: 30635187L, 147L: 4865176575L, 148L: 755150017L, 149L: 1663425561L, 150L: 1063352627L, 151L: 404586383L, 152L: 560787899L, 153L: 5948141289L, 154L: 479155391L, 155L: 2850351854L, 156L: 18926988946L, 157L: 5111365L, 158L: 188L, 159L: 24064510L, 160L: 17762790120L, 161L: 850876914L, 162L: 23789839L, 163L: 11322498L, 164L: 145866892L, 165L: 2956121897L, 166L: 702516704L, 167L: 312705674L, 169L: 40690876L, 170L: 159165637L, 171L: 270864460L, 172L: 175690597L, 173L: 1944L, 174L: 303876955L, 175L: 1557444548L, 176L: 2117931376L, 177L: 307577294L, 178L: 2748779010L, 179L: 2331057242L, 180L: 2604593421L, 181L: 604902630L, 182L: 1588638458L, 183L: 257260861L, 184L: 510434104L, 185L: 227664059L, 186L: 327553111L, 187L: 913363126L, 188L: 2580755623L, 189L: 5023118096L, 190L: 570185458L, 191L: 1401600062L, 192L: 372671836L, 193L: 498476828L, 194L: 3549912008L, 195L: 122962631L, 196L: 2240520297L, 197L: 30397542L, 198L: 920106162L, 199L: 15195528L, 200L: 873161707L, 201L: 86754005L, 202L: 139635433L, 203L: 135864702L, 204L: 1318034331L, 205L: 972L, 206L: 410982L, 207L: 1044373617L, 208L: 2294L, 209L: 2306051486L, 210L: 428860745L, 211L: 662242649L, 212L: 1854087499L, 213L: 88978L, 214L: 1425425043L, 215L: 842613802L, 216L: 5345058393L, 217L: 182027044L, 218L: 1459876672L, 219L: 2142L, 220L: 2598L, 221L: 6655105767L, 222L: 591818371L, 223L: 4228L, 224L: 705003687L, 225L: 2589077830L, 226L: 9394960114L, 227L: 2380L, 228L: 200689988L, 229L: 1766789551L, 230L: 537491818L, 231L: 591L, 232L: 1205082383L, 233L: 387843396L, 234L: 2359708625L, 235L: 296359540L, 236L: 23838491L, 237L: 9591989L, 238L: 11594397672L, 239L: 1309881765L, 240L: 771898179L, 241L: 0L, 242L: 449181473L, 243L: 5975622834L, 244L: 610797986L, 245L: 441730095L, 246L: 353L, 247L: 1301284614L, 248L: 1245L, 249L: 525L, 250L: 607L, 251L: 1752L, 252L: 777449688L, 253L: 4002657027L, 254L: 279940L, 255L: 507089451L, 256L: 1686L, 257L: 864582291L, 258L: 1125140331L, 259L: 99831281L, 260L: 223239291L, 261L: 19027116L, 262L: 2539267906L, 263L: 1483854L, 264L: 104521972L, 265L: 1175214816L, 266L: 129658872L, 267L: 2702989624L, 268L: 926599882L, 269L: 50556L, 270L: 1210879226L, 271L: 720880898L, 272L: 1616065816L, 273L: 141118305L, 274L: 23497581725L, 275L: 13300L, 276L: 2312069643L, 277L: 4075L, 278L: 1168915128L, 279L: 359823977L, 280L: 8122L, 281L: 84740163L, 282L: 9851L, 283L: 53575116L, 284L: 9986976L, 285L: 415682575L, 286L: 2182597533L, 287L: 34946L, 288L: 2089385L, 289L: 39127728017L, 290L: 2151382L, 291L: 378262556L, 292L: 449226L, 293L: 573078279L, 294L: 671622903L, 295L: 1168130241L, 296L: 2410398058L, 297L: 1044734228L, 298L: 10023291413L, 299L: 4129782412L, 300L: 7462193L, 301L: 1241139737L, 302L: 567838643L, 303L: 34167L, 304L: 6939637166L, 305L: 515911873L, 306L: 1786379759L, 307L: 42232186L, 308L: 129245136L, 309L: 640288442L, 310L: 711693308L, 311L: 134324434L, 312L: 43045075L, 313L: 3052448061L, 314L: 10402918L, 315L: 1102811031L, 316L: 1276461255L, 317L: 12905439160L, 318L: 17186225L, 319L: 307363L, 320L: 1325263403L, 321L: 719861790L, 322L: 3221L, 323L: 11903531L, 324L: 27864837643L, 325L: 4685817998L, 326L: 559717510L, 327L: 11448665690L, 328L: 2840459328L, 329L: 104649569L, 330L: 23570218858L, 331L: 2440772394L, 332L: 394961592L, 333L: 9785996128L, 334L: 124070513L, 335L: 14629662903L, 336L: 36398521345L, 337L: 3342506416L, 338L: 63881548L, 339L: 13590242933L, 340L: 50801853L, 341L: 5674794078L, 342L: 775130010L, 343L: 21676092L, 344L: 23070881479L, 345L: 224653826L, 346L: 27263399L, 347L: 100949L, 348L: 1666173975L, 349L: 364687909L, 350L: 979063843L, 351L: 1258051007L, 352L: 247943452L, 353L: 4285617207L, 354L: 434425997L, 355L: 1774219455L, 356L: 11286261L, 357L: 33049960L, 358L: 283443429L, 359L: 7403L, 360L: 4797082227L, 361L: 7843631089L, 362L: 1553806L, 363L: 432415229L, 364L: 2895539491L, 365L: 4753732599L, 366L: 43900917L, 367L: 6715426844L, 368L: 1141645466L, 369L: 2940336018L, 370L: 1075202898L, 371L: 4117966236L, 372L: 22271635L, 373L: 3808L, 374L: 372858L, 375L: 12770596L, 376L: 815125441L, 377L: 36082687L, 378L: 30266702L, 379L: 541L, 380L: 44173068L, 381L: 215733170L, 382L: 11747432377L, 383L: 1524660812L, 384L: 50567163L, 385L: 537002705L, 386L: 4066023316L, 387L: 316545204L, 388L: 418221087L, 389L: 838797L, 390L: 563826492L, 391L: 1379859912L, 392L: 396264047L, 393L: 980L, 394L: 23517469613L, 395L: 1095834L, 396L: 140890465L, 397L: 295745340L, 398L: 7056881893L, 399L: 42991437052L, 400L: 320863875L, 401L: 5701321647L, 402L: 18840008027L, 403L: 10132256168L, 404L: 10470299L, 405L: 274365614L, 406L: 738023416L, 407L: 226394852L, 408L: 5516410549L, 409L: 16291215L, 410L: 151935462L, 411L: 6687L, 412L: 12891L, 413L: 929001391L, 414L: 526881826L, 415L: 578177041L, 416L: 6922L, 417L: 3256624690L, 418L: 30597736176L, 419L: 871332246L, 420L: 546108586L, 421L: 253854191L, 423L: 1206747044L, 424L: 20424367725L, 425L: 25377479L, 426L: 353087406L, 427L: 12491543L, 428L: 207001781L, 429L: 7253648L, 430L: 9781L, 431L: 1212816670L, 432L: 212329425L, 433L: 39742921L, 434L: 5993797902L, 435L: 1998L, 436L: 2082L, 437L: 119854142L, 438L: 9498983014L, 439L: 6022597564L, 440L: 6542127253L, 441L: 6199L, 442L: 8964897350L, 443L: 2525325980L, 444L: 846920878L, 445L: 2295013980L, 446L: 151932045L, 447L: 3732739809L, 448L: 424528706L, 449L: 2745651784L, 450L: 937824680L, 451L: 5524615877L, 452L: 7910675L, 453L: 35944381L, 454L: 4939L, 455L: 1075658387L, 456L: 87793598L, 457L: 33162935986L, 459L: 31204067L, 460L: 1242646455L, 461L: 31909546L, 462L: 6916805832L, 463L: 14235515966L, 464L: 22364495104L, 465L: 12351L, 466L: 16864733294L, 467L: 10820L, 468L: 3181527660L, 469L: 270986950L, 470L: 213637225L, 471L: 2530958715L, 472L: 70624314L, 473L: 12499L, 474L: 1760801L, 475L: 6347991453L, 476L: 2969542L, 477L: 2592470269L, 478L: 925923L, 479L: 3389069818L, 480L: 1991349263L, 481L: 4788893970L, 482L: 5989257281L, 483L: 35225772284L, 484L: 6039352023L, 485L: 1722L, 486L: 2371L, 487L: 3526567100L, 488L: 7176776L, 489L: 6542150334L, 490L: 23152L, 491L: 2725844522L, 492L: 50096L, 493L: 488058382L, 494L: 2316226869L, 495L: 481204333L, 496L: 1242L, 497L: 4020705522L, 498L: 8565972465L, 499L: 113778L, 500L: 82599L, 501L: 2752376L, 502L: 149729L, 503L: 10275L, 504L: 11522996L, 505L: 2406367133L, 506L: 5117833783L, 507L: 1477839089L, 508L: 12846175324L, 509L: 1167875995L, 510L: 884535501L, 511L: 502089859L, 512L: 43126L, 513L: 378603L, 514L: 4820369666L, 515L: 38903L, 516L: 213253620L, 517L: 1411549L, 518L: 122144411L, 519L: 0L, 520L: 10082113L, 521L: 441700490L, 522L: 310099522L, 523L: 2195618068L, 524L: 320698L, 525L: 637758686L, 526L: 3928477L, 527L: 38254382L, 528L: 16661407L, 529L: 3222953924L, 530L: 1997248101L, 531L: 6701689453L, 532L: 310165627L, 533L: 20015620L, 534L: 131373L, 535L: 38412094L, 536L: 769717845L, 537L: 17233095023L, 538L: 2451299149L, 539L: 2094586470L, 540L: 969172632L, 541L: 679535937L, 542L: 16804026L, 543L: 2352337461L, 544L: 152442318L, 545L: 12759786273L, 546L: 1725194973L, 547L: 717774047L, 548L: 351L, 549L: 1242262063L, 550L: 47693142L, 551L: 430844809L, 552L: 0L, 553L: 261613349L, 554L: 1390437707L, 555L: 27988383L, 556L: 559085616L, 557L: 6094226727L, 558L: 311596703L, 559L: 17311495953L, 560L: 1128467788L, 561L: 2137778494L, 562L: 3637960033L, 563L: 1504117899L, 564L: 978037L, 565L: 467161297L, 566L: 2143041257L, 567L: 2211341135L, 568L: 2700590917L, 569L: 259167L, 570L: 15482731600L, 571L: 351238999L, 572L: 1099913387L, 573L: 1911169L, 574L: 1350116L, 575L: 514L, 576L: 2516299984L, 577L: 2065747417L, 578L: 5554L, 579L: 596757116L, 580L: 1555869386L, 581L: 1792L, 582L: 572921055L, 583L: 2584282L, 584L: 27090718380L, 585L: 944647197L, 586L: 13820445L, 587L: 177910169L, 588L: 397850694L, 589L: 7067437364L, 590L: 312437151L, 591L: 811543214L, 593L: 1943037762L, 594L: 98283379L, 595L: 1910L, 596L: 4777696L, 597L: 4862023087L, 598L: 176211637L, 599L: 11363L, 600L: 268392287L, 601L: 129289483L, 602L: 341478157L, 603L: 1260538488L, 604L: 3470816515L, 605L: 2855754L, 606L: 303203494L, 607L: 1984706670L, 608L: 18569011921L, 609L: 1371L, 610L: 3584287005L, 611L: 25526L, 612L: 451643206L, 613L: 200748894L, 614L: 173963187L, 615L: 1851L, 616L: 5070916020L, 617L: 597696720L, 618L: 321790106L, 619L: 2157087601L, 620L: 15673228724L, 621L: 33999434L, 622L: 958L, 623L: 399492669L, 624L: 5410L, 625L: 1486L, 626L: 386013L, 627L: 24094L, 628L: 605500274L, 629L: 220505206L, 630L: 264087L, 631L: 167594935L, 632L: 2824895743L, 633L: 7262246L, 634L: 593474969L, 635L: 7082141813L, 636L: 49772968L, 637L: 82209747L, 638L: 18487823258L, 639L: 236963689L, 640L: 373526980L, 641L: 548176860L, 642L: 19867859L, 644L: 475942608L, 645L: 438369590L, 646L: 45526L, 647L: 486441168L, 648L: 70525709L, 649L: 30609703L, 650L: 19992991L, 651L: 265523193L, 652L: 31061378707L, 653L: 849357602L, 654L: 5545777962L, 655L: 621066439L, 656L: 145806062L, 657L: 778018786L, 658L: 207593281L, 659L: 8930689577L, 660L: 4045380L, 661L: 324067496L, 662L: 10461404611L, 663L: 6193L, 664L: 108750878L, 665L: 329941134L, 666L: 174160976L, 667L: 230661524L, 668L: 111673582L, 669L: 11649L, 670L: 196382068L, 671L: 4507035694L, 672L: 18656496938L, 673L: 2083894854L, 674L: 28356585L, 675L: 471150261L, 676L: 86776528L, 677L: 233197725L, 678L: 374208709L, 679L: 34207251L, 680L: 824845288L, 681L: 976285399L, 682L: 3128511549L, 683L: 229690084L, 684L: 49633159L, 685L: 61423245L, 686L: 2521063002L, 687L: 547959L, 688L: 10240215L, 689L: 1183500262L, 690L: 226058225L, 691L: 7303712417L, 692L: 1408727228L, 693L: 245327598L, 694L: 63796L, 695L: 16640241140L, 696L: 12546545877L, 697L: 398036614L, 698L: 2601409075L, 699L: 1518317257L, 700L: 1836588963L, 701L: 259661782L, 702L: 1612148029L, 703L: 6926529541L, 704L: 8373052432L, 705L: 10899806L, 706L: 59490217L, 707L: 3755L, 709L: 79384711236L, 710L: 317264380L, 711L: 421608L, 712L: 1076274514L, 713L: 4412L, 714L: 367066836L, 715L: 3451127156L, 716L: 814594264L, 717L: 1194352857L, 718L: 1673064232L, 719L: 34848509463L, 720L: 22260296283L, 721L: 1677L, 722L: 1076014436L, 723L: 16714130610L, 724L: 19131728L, 725L: 1073122204L, 726L: 893378L, 727L: 157010160L, 728L: 365943195L, 729L: 206648332L, 730L: 558066300L, 731L: 933891100L, 732L: 1440204498L, 733L: 185438229L, 734L: 734356881L, 735L: 1064689410L, 736L: 2210710799L, 737L: 406710781L, 738L: 73836710L, 739L: 2822764434L, 740L: 317139023L, 741L: 1832016078L, 742L: 9152010L, 743L: 19366954768L, 744L: 652680557L, 745L: 13567946445L, 746L: 16176438638L, 747L: 213124950L, 748L: 454067069L, 749L: 2306509358L, 750L: 13596864933L, 751L: 345081L, 752L: 1050124166L, 753L: 638014617L, 754L: 523761017L, 755L: 1589833433L, 756L: 1300782480L, 757L: 2280486318L, 758L: 79036006L, 759L: 899172322L, 760L: 559521939L, 761L: 81570082412L, 762L: 5266511479L, 763L: 111595340L, 764L: 17184L, 765L: 23650662131L, 767L: 883072980L, 768L: 15373L, 769L: 936535220L, 770L: 145362286L, 771L: 4930402300L, 772L: 494171198L, 773L: 3944616071L, 774L: 7475780427L, 775L: 74230622L, 776L: 49405771L, 777L: 751281211L, 778L: 1704545732L, 779L: 646053230L, 780L: 5865772L, 781L: 1902630778L, 782L: 361352L, 783L: 25343807273L, 784L: 90848529L, 785L: 1127671497L, 786L: 521782557L, 787L: 114434858L, 788L: 556313073L, 789L: 73535142L, 790L: 66048L, 791L: 858778222L, 792L: 311348810L, 793L: 29453299457L, 794L: 4441615589L, 795L: 94822741L, 796L: 3733174041L, 797L: 20315751741L, 798L: 1185021076L, 799L: 402058528L, 800L: 42587687L, 801L: 4812893259L, 802L: 71533811L, 803L: 15064L, 804L: 558091959L, 805L: 7395694749L, 806L: 50750525L, 807L: 938842288L, 808L: 22671143030L, 809L: 1146362158L, 810L: 36527L, 811L: 115643527L, 812L: 173800437L, 813L: 1043L, 814L: 83058830L, 815L: 188802307L, 816L: 3312737208L, 817L: 153736088L, 818L: 2452758472L, 819L: 10041613785L, 820L: 88111313L, 821L: 88567953L, 822L: 178632869L, 823L: 1823246395L, 824L: 736609948L, 825L: 301L, 826L: 436496873L, 827L: 629435L, 828L: 6174L, 829L: 106040L, 830L: 18710658579L, 831L: 27439030L, 832L: 4344317036L, 833L: 192935986L, 834L: 1708655718L, 836L: 178437873L, 837L: 256897571L, 838L: 1361360L, 839L: 89721269L, 840L: 26077497L, 841L: 1194754603L, 842L: 7646L, 843L: 5543535L, 844L: 37313427L, 845L: 560L, 846L: 340681416L, 847L: 847166668L, 848L: 4139122357L, 849L: 490480609L, 850L: 309725646L, 851L: 387617654L, 852L: 6455665143L, 853L: 2045602296L, 854L: 907944643L, 855L: 54451728L, 856L: 1076237L, 857L: 49737116L, 858L: 24208548L, 859L: 988960269L, 860L: 560927045L, 861L: 6960655671L, 862L: 2277009015L, 863L: 14324309523L, 864L: 63392435L, 865L: 5846114825L, 866L: 1519865790L, 867L: 370787099L, 868L: 4221274227L, 869L: 2113198392L, 870L: 2368877338L, 871L: 338274L, 872L: 309745247L, 873L: 914491914L, 874L: 4371906L, 875L: 3423559953L, 876L: 2239078L, 877L: 666400679L, 878L: 1653117095L, 879L: 845233845L, 880L: 3215284264L, 881L: 2932562964L, 882L: 216773319L, 883L: 6626731165L, 884L: 4355455828L, 885L: 485733669L, 887L: 12010651200L, 888L: 156740024L, 889L: 50652979L, 890L: 4561794529L, 891L: 433571957L, 892L: 2091537563L, 893L: 428518707L, 894L: 248381911L, 895L: 30333625L, 896L: 46325887L, 897L: 18243246160L, 898L: 30068548167L, 899L: 141269049L, 900L: 834298073L, 901L: 242607303L, 902L: 1219005031L, 903L: 3391407373L, 904L: 47779266L, 905L: 5358983982L, 906L: 2230271866L, 907L: 10638987657L, 908L: 347L, 909L: 4896485169L, 910L: 198730432L, 911L: 6239805534L, 912L: 1972876254L, 913L: 50731030L, 914L: 1532080L, 915L: 1266144716L, 916L: 1502478L, 917L: 337463620L, 918L: 1144791652L, 919L: 9235472596L, 920L: 1215623577L, 921L: 1747853L, 922L: 903742350L, 923L: 1479064677L, 924L: 17193L, 925L: 6930L, 926L: 2523398786L, 927L: 12958L, 928L: 174358257L, 929L: 20263L, 930L: 94549162L, 931L: 11283522865L, 932L: 140570404L, 933L: 912145409L, 934L: 8769787L, 935L: 1796149024L, 936L: 442330933L, 937L: 348917704L, 938L: 11180536320L, 939L: 5847633L, 940L: 10725759692L, 941L: 3165130L, 942L: 914174873L, 943L: 21999131L, 944L: 191454L, 945L: 1095172836L, 946L: 4431000960L, 947L: 2166640917L, 948L: 7453L, 949L: 456498169L, 950L: 174801112L, 951L: 60363205L, 952L: 2057777679L, 953L: 13803L, 954L: 547332L, 955L: 4147033587L, 956L: 145392240L, 957L: 161272960L, 958L: 255582364L, 959L: 205169794L, 960L: 70167347L, 961L: 901953986L, 962L: 26036694765L, 963L: 638250373L, 964L: 666209783L, 965L: 19032026L, 966L: 1072551373L, 967L: 14101583L, 968L: 895679274L, 969L: 177559L, 970L: 8622L, 971L: 31121L, 972L: 663728577L, 973L: 35591404766L, 974L: 14633681283L, 975L: 1499517928L, 976L: 192062187L, 977L: 503084035L, 978L: 2188L, 979L: 420342863L, 981L: 3371264857L, 982L: 19547421156L, 983L: 10033529921L, 984L: 741497729L, 985L: 3300825405L, 986L: 5572722844L, 987L: 7027071506L, 988L: 2287003798L, 989L: 6968317751L, 990L: 893L, 991L: 640507295L, 992L: 8849909L, 994L: 832982947L, 995L: 434L, 996L: 107974614L, 997L: 4393338972L, 998L: 1703451305L, 999L: 126533704L, 1000L: 5276119L, 1001L: 397029L, 1002L: 31794504L, 1003L: 54693271L, 1004L: 10214451530L, 1005L: 22154618574L, 1006L: 425456L, 1007L: 881L, 1008L: 149458L, 1009L: 1269896885L, 1010L: 3573L, 1011L: 222826201L, 1012L: 15829L, 1013L: 2442381L, 1014L: 412262841L, 1015L: 5418002L, 1016L: 1663194571L, 1017L: 12950332973L, 1018L: 199368382L, 1019L: 2510336359L, 1020L: 776481301L, 1021L: 2602335789L, 1022L: 8589088097L, 1023L: 842565275L, 1024L: 657588873L, 1025L: 1129220018L, 1026L: 2977312280L, 1027L: 1079824661L, 1028L: 182910641L, 1029L: 1532177875L, 1030L: 3071028171L, 1031L: 19023257050L, 1032L: 5123L, 1033L: 291297669L, 1034L: 2336610726L, 1035L: 481917L, 1036L: 5891L, 1037L: 29899L, 1038L: 362392805L, 1039L: 700043929L, 1040L: 726343665L, 1041L: 22972438789L, 1042L: 230056528L, 1043L: 241041962L, 1044L: 209010582L, 1045L: 509272543L, 1046L: 851145L, 1047L: 3179591L, 1048L: 5327170L, 1049L: 734L, 1050L: 399620153L, 1051L: 9535849L, 1052L: 2031174202L, 1053L: 490671675L, 1054L: 427618047L, 1055L: 1044027157L, 1056L: 94L, 1057L: 283293524L, 1058L: 175400459L, 1059L: 236701050L, 1060L: 144576282L, 1061L: 1002369797L, 1062L: 1306579424L, 1063L: 1945044142L, 1064L: 201709236L, 1065L: 37046649436L, 1066L: 529501617L, 1067L: 18118780L, 1068L: 1118301752L, 1069L: 267418513L, 1070L: 3034545L, 1071L: 29511385L, 1072L: 62345854L, 1073L: 105434665L, 1074L: 493925141L, 1075L: 1942982922L, 1076L: 2186502154L, 1077L: 3656636994L, 1078L: 22605194439L, 1079L: 10153031464L, 1080L: 152382820L, 1081L: 713198358L, 1082L: 398222613L, 1083L: 2909101243L, 1085L: 1091105825L, 1086L: 118563L, 1087L: 130884178L, 1088L: 81955L, 1089L: 191436852L, 1090L: 1398443513L, 1092L: 274724653L, 1093L: 1570107882L, 1094L: 29151942L, 1095L: 3397748887L, 1096L: 59150588977L, 1097L: 74694L, 1098L: 56378857L, 1099L: 545088183L, 1100L: 38067198L, 1101L: 2431245L, 1102L: 216065180L, 1103L: 89257255L, 1104L: 30227L, 1105L: 1958701356L, 1106L: 576012186L, 1107L: 156654205L, 1108L: 2718270L, 1109L: 3554293L, 1110L: 3122735805L, 1111L: 8451970L, 1112L: 223303467L, 1113L: 114435619L, 1114L: 1687816126L, 1115L: 1323650825L, 1116L: 1609086236L, 1117L: 3971278748L, 1118L: 35639908L, 1119L: 76993198L, 1120L: 163157031L, 1121L: 1381332667L, 1122L: 174426649L, 1123L: 1969714134L, 1124L: 124249251L, 1125L: 409517729L, 1126L: 604058017L, 1127L: 599092842L, 1128L: 8960789L, 1129L: 591L, 1130L: 177363243L, 1131L: 1282713523L, 1132L: 45067537L, 1133L: 17754L, 1134L: 6168L, 1135L: 8678L, 1136L: 0L, 1137L: 35041658707L, 1138L: 769519L, 1139L: 62617537L, 1140L: 3462353585L, 1141L: 858297286L, 1142L: 2222L, 1143L: 72086233L, 1144L: 184843457L, 1145L: 780934213L, 1146L: 112374L, 1147L: 1530034062L, 1148L: 59011L, 1149L: 92110823L, 1150L: 3238L, 1151L: 566365L, 1152L: 5681923L, 1153L: 136667052L, 1154L: 565362147L, 1155L: 25071182588L, 1156L: 25531725L, 1157L: 618L, 1158L: 4148L, 1159L: 1380547326L, 1160L: 662258799L, 1161L: 343131367L, 1162L: 6858362902L, 1163L: 301L, 1164L: 4856069043L, 1165L: 2254024676L, 1166L: 15828L, 1167L: 2599021189L, 1168L: 69569857L, 1169L: 875573L, 1170L: 359874635L, 1171L: 15539517446L, 1172L: 13367670652L, 1173L: 170172421L, 1174L: 1624427879L, 1175L: 439680168L, 1176L: 43751L, 1177L: 43242L, 1178L: 299105160L, 1179L: 3368460425L, 1180L: 295043L, 1181L: 1150532373L, 1182L: 150555898L, 1183L: 97714335L, 1184L: 1269462024L, 1185L: 2254315203L, 1186L: 39226390L, 1187L: 1960985061L, 1188L: 19671771647L, 1189L: 1900867672L, 1190L: 896062965L, 1191L: 479324576L, 1192L: 16011L, 1193L: 559189283L, 1194L: 6031958L, 1195L: 556835185L, 1196L: 60080477L, 1197L: 41823014L, 1198L: 328218670L, 1199L: 315069269L, 1200L: 1724838371L, 1201L: 297138595L, 1202L: 1158231932L, 1203L: 16320753507L, 1204L: 23245727L, 1205L: 15143740980L, 1206L: 5256580335L, 1207L: 26036197100L, 1208L: 22976697687L, 1209L: 291164L, 1210L: 1033639687L, 1211L: 6354485530L, 1212L: 1795L, 1213L: 604470207L, 1214L: 2487108854L, 1215L: 5508L, 1216L: 44593864L, 1217L: 57917780L, 1218L: 2022921673L, 1219L: 3962559L, 1220L: 3147704811L, 1221L: 1199270960L, 1222L: 17409585614L, 1223L: 4341804055L, 1224L: 824904434L, 1225L: 3901469919L, 1226L: 3201890120L, 1227L: 2023137251L, 1228L: 12029725720L, 1229L: 0L, 1230L: 1917731L, 1231L: 319528069L, 1232L: 1480878316L, 1233L: 419760248L, 1234L: 17342L, 1235L: 2828825922L, 1236L: 27487254490L, 1237L: 1616726651L, 1238L: 1004L, 1239L: 1572601216L, 1241L: 3853554051L, 1242L: 8861830988L, 1243L: 10443250L, 1244L: 75397L, 1245L: 28444238383L, 1246L: 589612110L, 1247L: 76244630L, 1248L: 827071293L, 1249L: 1445231515L, 1250L: 67463257L, 1251L: 2720183L, 1252L: 353L, 1253L: 1517769357L, 1254L: 1138270115L, 1255L: 8637314026L, 1256L: 1234435557L, 1257L: 1381764588L, 1258L: 44212663L, 1259L: 87916979L, 1261L: 10903857036L, 1262L: 539553229L, 1263L: 2483016057L, 1264L: 8912260L, 1265L: 3769534355L, 1266L: 770979393L, 1267L: 1051069813L, 1268L: 512958426L, 1269L: 38458L, 1270L: 145927L, 1271L: 82061822L, 1272L: 812135809L, 1273L: 301L, 1274L: 1313L, 1275L: 3609585178L, 1276L: 2442299261L, 1277L: 818539089L, 1278L: 4043234L, 1279L: 393579952L, 1280L: 686420828L, 1281L: 677203L, 1282L: 1503567622L, 1283L: 719035461L, 1284L: 342858737L, 1285L: 2203527661L, 1286L: 3824L, 1287L: 7296L, 1288L: 1095828223L, 1289L: 57521300L, 1290L: 6742225258L, 1291L: 9671518059L, 1292L: 1144L, 1293L: 2067344242L, 1294L: 1856653897L, 1295L: 3423584391L, 1296L: 1726874L, 1297L: 346722138L, 1298L: 828300685L, 1299L: 11086L, 1300L: 3837918L, 1301L: 3406312504L, 1302L: 1543642985L, 1303L: 180872877L, 1304L: 97717998L, 1305L: 121759561L, 1306L: 24900358441L, 1307L: 490108520L, 1308L: 2801864173L, 1309L: 2208138019L, 1310L: 10947720974L, 1311L: 4133514634L, 1312L: 10765036L, 1313L: 326650979L, 1314L: 5971690235L, 1315L: 6003161020L, 1316L: 430994L, 1317L: 187727531L, 1318L: 4294041130L, 1319L: 544822L, 1320L: 26332899282L, 1321L: 3636221438L, 1322L: 705570643L, 1323L: 1942L, 1324L: 140543613L, 1325L: 967589L, 1326L: 527096399L, 1327L: 462588564L, 1328L: 57066457L, 1329L: 3182942L, 1330L: 290350537L, 1331L: 552573188L, 1332L: 974416489L, 1333L: 459954327L, 1334L: 13675639770L, 1335L: 620007626L, 1336L: 227944143L, 1337L: 1300307062L, 1338L: 1224558253L, 1339L: 20612858089L, 1340L: 3163722883L, 1341L: 118979981L, 1342L: 2236710627L, 1343L: 5562273238L, 1344L: 5156128698L, 1345L: 20235306205L, 1346L: 1594274838L, 1347L: 610119L, 1348L: 434154819L, 1349L: 127680492L, 1350L: 1712412125L, 1351L: 2008071458L, 1352L: 64602086L, 1353L: 906960630L, 1354L: 201425119L, 1355L: 1725L, 1356L: 515737949L, 1357L: 289080023L, 1358L: 334342504L, 1359L: 36196L, 1360L: 15792301028L, 1361L: 2521L, 1362L: 28145L, 1363L: 166653342L, 1364L: 161999881L, 1365L: 131656865L, 1366L: 30637455842L, 1367L: 6624096940L, 1368L: 346470912L, 1369L: 17748749L, 1370L: 338562753L, 1371L: 1765402034L, 1372L: 97231L, 1373L: 330136488L, 1375L: 844971363L, 1376L: 1617438L, 1377L: 721331051L, 1378L: 24995L, 1379L: 26528437868L, 1380L: 7293152635L, 1381L: 1897711192L, 1382L: 13365960826L, 1383L: 123922331L, 1384L: 166023197L, 1385L: 22782428L, 1386L: 347432216L, 1387L: 3442L, 1388L: 183708411L, 1389L: 548018L, 1390L: 2986282593L, 1391L: 296204498L, 1392L: 8112667448L, 1393L: 545564065L, 1394L: 20825892330L, 1395L: 771L, 1396L: 2228718L, 1397L: 1244306228L, 1398L: 1771861L, 1399L: 27497857L, 1400L: 1435418319L, 1401L: 3237201866L, 1402L: 3229029134L, 1403L: 149764797L, 1404L: 34012850L, 1405L: 299L, 1406L: 376497399L, 1407L: 483959490L, 1408L: 938479831L, 1409L: 3983332600L, 1410L: 709026L, 1411L: 866164767L, 1412L: 1403166167L, 1413L: 1693063814L, 1414L: 3580532061L, 1415L: 781036167L, 1416L: 2427336002L, 1417L: 787365701L, 1418L: 2813081557L, 1419L: 820519784L, 1420L: 909572410L, 1421L: 263520L, 1422L: 2422000069L, 1423L: 304129230L, 1424L: 3881500909L, 1425L: 7749592L, 1426L: 35199L, 1427L: 45720939035L, 1428L: 846741202L, 1429L: 1212779764L, 1430L: 229124013L, 1431L: 3321513L, 1432L: 2923096469L, 1433L: 1230404961L, 1434L: 2737819702L, 1435L: 440467608L, 1436L: 25713776L, 1437L: 59460541L, 1438L: 4369698119L, 1439L: 2739625300L, 1440L: 12964018778L, 1441L: 2152488532L, 1442L: 16212025839L, 1443L: 2580264368L, 1444L: 13513764378L, 1445L: 3001715545L, 1446L: 1442956L, 1447L: 2547717622L, 1448L: 7247195106L, 1449L: 12961606299L, 1450L: 422294663L, 1451L: 1303823693L, 1452L: 2430596159L, 1453L: 454423477L, 1454L: 13480692875L, 1455L: 18504009371L, 1456L: 1301338350L, 1457L: 456246667L, 1458L: 208327291L, 1459L: 919423807L, 1460L: 9489333558L, 1461L: 779373125L, 1462L: 2367403594L, 1463L: 711088L, 1464L: 1196634487L, 1465L: 7496380271L, 1466L: 33325650781L, 1467L: 1660L, 1468L: 11975988796L, 1469L: 1411378723L, 1470L: 5671520982L, 1471L: 120726323L, 1472L: 12014513L, 1473L: 464849L, 1474L: 16441187846L, 1475L: 599916366L, 1476L: 119777356L, 1477L: 5541542513L, 1478L: 417948L, 1479L: 55169970621L, 1480L: 647157082L, 1481L: 819365063L, 1482L: 19190392L, 1483L: 48696L, 1484L: 1952883528L, 1485L: 6702423683L, 1486L: 2560760728L, 1487L: 49920354282L, 1488L: 487L, 1489L: 42276001L, 1490L: 547743973L, 1491L: 1307033181L, 1492L: 29092595299L, 1493L: 2336109877L, 1494L: 1540688451L, 1495L: 2765617555L, 1496L: 6593459207L, 1497L: 3664561806L, 1498L: 29864215L, 1499L: 28754019638L, 1500L: 3878L, 1501L: 225L, 1502L: 35253L, 1504L: 3937189L, 1505L: 234687L, 1506L: 9910L, 1507L: 1089757143L, 1509L: 1467824731L, 1510L: 3159475517L, 1511L: 8636522156L, 1512L: 1249083054L, 1513L: 1779162397L, 1514L: 1033754584L, 1515L: 615208285L, 1516L: 982680502L, 1517L: 75688842L, 1518L: 1256323594L, 1519L: 215259227L, 1520L: 194964796L, 1521L: 114675558L, 1522L: 1126L, 1523L: 268576714L, 1524L: 319190143L, 1525L: 792288L, 1526L: 54893442L, 1527L: 2874473644L, 1528L: 3433304379L, 1529L: 2932495394L, 1530L: 3374536181L, 1531L: 21264816957L, 1532L: 185721594L, 1533L: 59181L, 1534L: 30917012L, 1535L: 4723089L, 1536L: 1890306505L, 1537L: 31816L, 1538L: 17041077L, 1539L: 186735714L, 1540L: 5019215417L, 1541L: 1251482369L, 1542L: 1296727491L, 1543L: 8452L, 1544L: 4879997759L, 1545L: 52607242L, 1546L: 302321772L, 1547L: 70714175L, 1548L: 14125L, 1549L: 6961L, 1550L: 95L, 1551L: 2941151010L, 1552L: 397057340L, 1553L: 8112L, 1554L: 7102L, 1555L: 375179731L, 1556L: 13290899L, 1557L: 4170L, 1558L: 2207638L, 1559L: 774L, 1560L: 4437089308L, 1561L: 232161366L, 1562L: 11550L, 1563L: 5184L, 1564L: 294644L, 1566L: 205302073L, 1567L: 439880015L, 1568L: 662395685L, 1569L: 876047L, 1570L: 280716794L, 1571L: 524807392L, 1572L: 1649L, 1573L: 3432056481L, 1574L: 15179L, 1575L: 74728791L, 1576L: 6817L, 1577L: 4260766512L, 1578L: 961960340L, 1579L: 16892016891L, 1580L: 753801587L, 1581L: 11755173L, 1582L: 1701696396L, 1583L: 3454538798L, 1584L: 22468058L, 1585L: 331505935L, 1586L: 1190734752L, 1587L: 1965191726L, 1588L: 1324546359L, 1589L: 133663659L, 1590L: 126834576L, 1591L: 5412651612L, 1592L: 88006L, 1593L: 979834L, 1594L: 1540148532L, 1595L: 106615710L, 1596L: 6966027L, 1597L: 5381295478L, 1598L: 650438871L, 1599L: 663929108L, 1600L: 1118239609L, 1601L: 25786097053L, 1602L: 10564105L, 1603L: 1233119072L, 1604L: 22243406959L, 1605L: 473128750L, 1606L: 8904265715L, 1607L: 20416368035L, 1608L: 18261348510L, 1609L: 1457718454L, 1610L: 125474153L, 1611L: 1420838L, 1612L: 25839775L, 1613L: 1395021225L, 1614L: 8468222L, 1615L: 177465890L, 1616L: 15215261L, 1617L: 221584L, 1618L: 158582919L, 1619L: 36988546L, 1620L: 4955355004L, 1621L: 1234L, 1622L: 6069803094L, 1623L: 240491770L, 1624L: 2709428L, 1625L: 23949063457L, 1626L: 63646568L, 1627L: 16151122778L, 1628L: 3943892L, 1629L: 337567L, 1630L: 12797094301L, 1631L: 19198752L, 1632L: 239414458L, 1633L: 1539617210L, 1634L: 727177152L, 1635L: 1825919702L, 1636L: 6919L, 1637L: 451584L, 1638L: 875617129L, 1639L: 3092969771L, 1640L: 531333778L, 1641L: 13334588029L, 1642L: 260242645L, 1643L: 1471L, 1644L: 594742530L, 1645L: 47357405770L, 1646L: 1715929702L, 1647L: 288157L, 1648L: 4010827390L, 1649L: 183179946L, 1650L: 1519120350L, 1651L: 5455L, 1652L: 2634569390L, 1653L: 4483137844L, 1654L: 9518506L, 1655L: 2234739042L, 1656L: 73512736L, 1657L: 689523767L, 1658L: 37300L, 1659L: 9242004458L, 1660L: 22544L, 1661L: 1348L, 1662L: 601029684L, 1663L: 910L, 1664L: 164594394L, 1665L: 18559445L, 1666L: 788362163L, 1667L: 1075851523L, 1668L: 2522006L, 1669L: 777185154L, 1670L: 4919208121L, 1671L: 2058770842L, 1672L: 13948722685L, 1673L: 23210L, 1674L: 18775847L, 1675L: 76509897L, 1676L: 87899933L, 1677L: 242944968L, 1678L: 1322420117L, 1679L: 157309697L, 1680L: 818599910L, 1681L: 2772099087L, 1682L: 970724081L, 1683L: 28420190L, 1684L: 636494467L, 1685L: 3152942911L, 1686L: 76721312L, 1687L: 5958038L, 1688L: 1085327594L, 1689L: 1393087740L, 1690L: 389650786L, 1691L: 538719547L, 1692L: 466361953L, 1693L: 196861924L, 1694L: 2462315846L, 1695L: 111710960L, 1696L: 2194543040L, 1697L: 661060275L, 1698L: 461241004L, 1699L: 1659518319L, 1700L: 3217767420L, 1701L: 230992396L, 1702L: 551147213L, 1703L: 1958026994L, 1704L: 9191471L, 1705L: 3951L, 1706L: 844L, 1707L: 1042616529L, 1708L: 2157L, 1709L: 192118209L, 1710L: 604381L, 1711L: 1097716979L, 1712L: 176L, 1713L: 2484307203L, 1714L: 648907L, 1715L: 16094L, 1716L: 1545593464L, 1717L: 2849670553L, 1718L: 206839682L, 1719L: 6085L, 1720L: 40L, 1721L: 20900382L, 1722L: 835942977L, 1723L: 6693L, 1724L: 758004570L, 1725L: 13755L, 1726L: 183523L, 1727L: 12611956L, 1729L: 1655968397L, 1730L: 367773327L, 1731L: 59973942L, 1732L: 9403L, 1734L: 1012683524L, 1735L: 1301989717L, 1736L: 5681637794L, 1737L: 740382422L, 1738L: 3576985124L, 1739L: 64308295L, 1740L: 3896L, 1741L: 2184199321L, 1742L: 11189264L, 1743L: 55352L, 1744L: 3777L, 1745L: 6814882L, 1746L: 314004301L, 1747L: 108568635L, 1748L: 2098L, 1749L: 6710288082L, 1750L: 1411448026L, 1751L: 1181227410L, 1752L: 5270L, 1753L: 3620063509L, 1754L: 77241471L, 1755L: 1395743193L, 1756L: 1665956817L, 1757L: 101836L, 1758L: 824321804L, 1759L: 670606073L, 1760L: 140489382L, 1761L: 1589686073L, 1762L: 680532L, 1763L: 4799695411L, 1764L: 2420148483L, 1765L: 176832900L, 1767L: 669708027L, 1768L: 231144247L, 1769L: 2343640054L, 1770L: 1276652882L, 1771L: 32893631L, 1772L: 4249L, 1773L: 1398L, 1774L: 1023483378L, 1775L: 7447490884L, 1776L: 114850498L, 1777L: 2306833401L, 1778L: 787256L, 1779L: 1504798255L, 1780L: 209939733L, 1781L: 3168073319L, 1782L: 3150247863L, 1783L: 1814264399L, 1784L: 2183931804L, 1785L: 289082109L, 1786L: 75614180L, 1787L: 121800L, 1788L: 2604555821L, 1789L: 5671556291L, 1790L: 987095532L, 1791L: 500L, 1792L: 178883936L, 1793L: 2345497640L, 1794L: 1970990793L, 1795L: 24892L, 1796L: 16762657506L, 1797L: 2532887304L, 1798L: 32172872L, 1799L: 119421433L, 1800L: 6415826761L, 1801L: 4599858582L, 1802L: 722891892L, 1803L: 1192812357L, 1804L: 38712347L, 1805L: 11701626830L, 1806L: 1155701319L, 1807L: 46983731L, 1809L: 2641608354L, 1810L: 292079987L, 1811L: 2436L, 1812L: 260150990L, 1813L: 395518L, 1814L: 1974377370L, 1815L: 166747601L, 1816L: 5470874052L, 1817L: 11478435618L, 1818L: 6430163190L, 1819L: 7365512309L, 1820L: 484318949L, 1821L: 545182834L, 1822L: 244640092L, 1823L: 62610556L, 1824L: 16428694133L, 1825L: 21715793957L, 1826L: 7968L, 1827L: 29054362L, 1829L: 44253150L, 1830L: 7169320316L, 1831L: 21878L, 1832L: 314596384L, 1833L: 2175441L, 1834L: 95496148L, 1835L: 393060341L, 1836L: 809392196L, 1838L: 6350106L, 1839L: 17777730L, 1840L: 1015547049L, 1841L: 0L, 1842L: 395118326L, 1843L: 1057855200L, 1844L: 24832608L, 1845L: 1657446445L, 1846L: 1285726125L, 1847L: 5468098058L, 1848L: 44513287706L, 1849L: 714562866L, 1850L: 614094223L, 1851L: 147247387L, 1852L: 19696196L, 1853L: 1112973814L, 1854L: 40124L, 1855L: 4046554884L, 1856L: 551603303L, 1857L: 510L, 1858L: 699188L, 1859L: 141715564L, 1860L: 659816369L, 1861L: 2601583311L, 1862L: 1427292L, 1863L: 1065230860L, 1864L: 29187425483L, 1865L: 3209564298L, 1866L: 25879968L, 1867L: 9703523206L, 1868L: 980244597L, 1869L: 2537280973L, 1870L: 274573L, 1871L: 45789273L, 1872L: 3132L, 1873L: 8025687152L, 1874L: 237531714L, 1875L: 165220916L, 1876L: 8152779L, 1877L: 501096907L, 1878L: 1655539794L, 1879L: 486L, 1880L: 1136778941L, 1881L: 1116L, 1882L: 699695322L, 1883L: 92L, 1884L: 251215626L, 1885L: 37496745886L, 1886L: 310924489L, 1887L: 498502L, 1888L: 1830441L, 1889L: 14359523795L, 1890L: 2822931487L, 1891L: 620307051L, 1892L: 2506694L, 1893L: 151132104L, 1894L: 79102273L, 1895L: 118456619L, 1896L: 872300414L, 1897L: 2086069802L, 1898L: 80893756L, 1899L: 364030222L, 1900L: 3140909176L, 1901L: 2927986672L, 1902L: 2990L, 1903L: 150614L, 1904L: 11667L, 1905L: 671L, 1906L: 161016254L, 1907L: 1984L, 1908L: 2091L, 1909L: 50960134L, 1910L: 24243L, 1911L: 564803662L, 1912L: 18138824738L, 1913L: 224459249L, 1914L: 4037281432L, 1915L: 871068778L, 1916L: 155587531L, 1917L: 22821L, 1918L: 3556L, 1919L: 291359141L, 1920L: 8662L, 1921L: 126255706L, 1922L: 3217953367L, 1923L: 4532845259L, 1924L: 687910368L, 1925L: 2262423169L, 1927L: 2267146853L, 1928L: 9387699L, 1929L: 15842523091L, 1930L: 695937725L, 1931L: 529L, 1932L: 1822507290L, 1933L: 181981348L, 1934L: 3380L, 1935L: 1929562773L, 1936L: 2331654436L, 1937L: 582L, 1939L: 1003L, 1940L: 153920041L, 1941L: 124041L, 1942L: 172734526L, 1943L: 21919L, 1944L: 19014562L, 1945L: 1737373L, 1946L: 134373L, 1947L: 862397946L, 1948L: 526606484L, 1949L: 2564918328L, 1950L: 900328902L, 1951L: 9615876L, 1952L: 1916403407L, 1953L: 1347691490L, 1954L: 1088238445L, 1955L: 1784118334L, 1956L: 45311757L, 1957L: 27708L, 1958L: 12606314294L, 1959L: 2683018L, 1960L: 2942L, 1961L: 5741614525L, 1962L: 0L, 1963L: 784798854L, 1964L: 10787909L, 1965L: 47906160L, 1966L: 38010988L, 1967L: 700168322L, 1968L: 2214576749L, 1969L: 2782865285L, 1970L: 48693L, 1971L: 529127707L, 1972L: 243415085L, 1973L: 578149692L, 1974L: 3754832941L, 1975L: 32720483L, 1976L: 535658659L, 1977L: 2056825443L, 1978L: 274477464L, 1979L: 936367686L, 1980L: 221470423L, 1981L: 3152681L, 1982L: 23385657L, 1983L: 304280541L, 1984L: 465124870L, 1985L: 278389180L, 1986L: 673745L, 1987L: 208L, 1988L: 616186678L, 1989L: 9874363L, 1990L: 1506770699L, 1991L: 111759510L, 1992L: 7770781L, 1993L: 848756192L, 1994L: 28410L, 1995L: 989270978L, 1996L: 294524613L, 1997L: 676776517L, 1998L: 1557288926L, 1999L: 612804841L, 2000L: 2149601440L, 2001L: 596480560L, 2002L: 2168984L, 2003L: 16472828L, 2004L: 1825265576L, 2005L: 5050555L, 2006L: 602L, 2007L: 552826L, 2008L: 1226669868L, 2009L: 582012L, 2010L: 111819646L, 2011L: 553346213L, 2012L: 3970645875L, 2013L: 287251249L, 2014L: 447437161L, 2015L: 264L, 2016L: 276610785L, 2017L: 67919089L, 2018L: 1013355782L, 2019L: 2539L, 2020L: 5147338025L, 2021L: 4813300L, 2022L: 9861L, 2023L: 17996874391L, 2024L: 14352L, 2025L: 20977584L, 2026L: 116716130L, 2027L: 1536260160L, 2028L: 2770135352L, 2029L: 36438986L, 2030L: 553389931L, 2031L: 15138L, 2033L: 839754187L, 2034L: 570042840L, 2035L: 792348513L, 2036L: 6384L, 2037L: 808526081L, 2038L: 7389357L, 2039L: 2032889L, 2040L: 85400891L, 2041L: 73650L, 2042L: 22867L, 2043L: 2041381708L, 2044L: 272302421L, 2045L: 8726L, 2046L: 714836516L, 2047L: 8599912062L, 2048L: 896L, 2049L: 694473969L, 2050L: 16820102394L, 2051L: 9830715293L, 2052L: 16264266L, 2053L: 22710940L, 2054L: 31925537L, 2055L: 4092297492L, 2056L: 797915513L, 2057L: 1148L, 2058L: 13638905L, 2059L: 30173L, 2060L: 2237511707L, 2061L: 6155161294L, 2062L: 27023926L, 2063L: 146L, 2064L: 562806823L, 2065L: 331102743L, 2066L: 334656562L, 2067L: 274634889L, 2068L: 2582L, 2069L: 11493L, 2070L: 76310L, 2071L: 3644205807L, 2072L: 819L, 2073L: 1183892L, 2074L: 178354577L, 2075L: 2013875281L, 2076L: 1216526181L, 2077L: 3633278020L, 2078L: 4068L, 2079L: 2791853131L, 2080L: 976149292L, 2081L: 1102016L, 2082L: 794357965L, 2083L: 551774369L, 2084L: 2994348432L, 2085L: 630020892L, 2086L: 5161191827L, 2087L: 79079491L, 2088L: 4255364433L, 2089L: 1520L, 2090L: 2853817156L, 2091L: 96798579L, 2092L: 2900972315L, 2093L: 945556519L, 2094L: 481181482L, 2095L: 18600860L, 2096L: 224816687L, 2097L: 8271071068L, 2098L: 533256704L, 2099L: 1256944767L, 2100L: 30619416L, 2101L: 1125058424L, 2102L: 1564981984L, 2103L: 859375958L, 2104L: 525640123L, 2105L: 2019329927L, 2106L: 19319508900L, 2107L: 982598532L, 2108L: 570849247L, 2109L: 4640493935L, 2110L: 2664329739L, 2111L: 761995266L, 2112L: 18120757611L, 2113L: 226268603L, 2114L: 3981214916L, 2115L: 132718125L, 2116L: 630927623L, 2117L: 155290L, 2118L: 9199457L, 2119L: 926817990L, 2120L: 168875311L, 2121L: 523781437L, 2122L: 122467L, 2123L: 28600829144L, 2124L: 23786789L, 2125L: 694217230L, 2126L: 2333632819L, 2127L: 2848L, 2128L: 579244067L, 2129L: 3548L, 2130L: 8634L, 2131L: 159839337L, 2132L: 93202980L, 2133L: 11801L, 2134L: 904206735L, 2135L: 1544262015L, 2136L: 2269721137L, 2137L: 1077771936L, 2138L: 5065356379L, 2139L: 283033065L, 2140L: 39186314L, 2141L: 6576780129L, 2142L: 465134645L, 2143L: 911291782L, 2144L: 4242159427L, 2145L: 3627796245L, 2146L: 2408749887L, 2147L: 1544207562L, 2148L: 3951302L, 2149L: 19091716004L, 2150L: 761838079L, 2151L: 5575098L, 2152L: 14266141686L, 2153L: 92L, 2154L: 14883821L, 2155L: 1783328907L, 2156L: 4206317L, 2157L: 468834760L, 2158L: 351068198L, 2159L: 5856078067L, 2160L: 211225338L, 2161L: 3890665055L, 2162L: 1296499444L, 2163L: 41784572L, 2164L: 971566480L, 2165L: 1224601023L, 2166L: 0L, 2167L: 1934700721L, 2168L: 2245611680L, 2169L: 2525944202L, 2170L: 2154421225L, 2171L: 92029122L, 2172L: 81861300L, 2173L: 75885545L, 2174L: 585333438L, 2175L: 18862L, 2176L: 29166459L, 2177L: 587502246L, 2178L: 1437763849L, 2179L: 34068255690L, 2180L: 144693853L, 2181L: 387110955L, 2182L: 1075750490L, 2183L: 5650L, 2184L: 1531069L, 2185L: 1451600929L, 2186L: 8149042803L, 2187L: 21460546L, 2188L: 4337403300L, 2189L: 8324349101L, 2190L: 304837013L, 2191L: 11857602572L, 2192L: 15357059527L, 2193L: 5729217505L, 2194L: 20272215392L, 2195L: 200608192L, 2196L: 16035651869L, 2197L: 27517988772L, 2198L: 1788031091L, 2199L: 240587089L, 2200L: 947469235L, 2201L: 4410721408L, 2203L: 39943885L, 2204L: 2891L, 2205L: 9993L, 2206L: 2787527743L, 2207L: 2053073284L, 2208L: 1147730011L, 2209L: 14524414L, 2210L: 199941583L, 2211L: 3659L, 2212L: 3614053L, 2213L: 6536680410L, 2214L: 1124043150L, 2215L: 680600848L, 2216L: 1491070L, 2217L: 1414038248L, 2218L: 640750795L, 2219L: 226798953L, 2220L: 2326430126L, 2221L: 397579101L, 2222L: 794290229L, 2223L: 824849423L, 2224L: 2187L, 2225L: 1072387396L, 2226L: 39259528L, 2227L: 175503915L, 2228L: 567911246L, 2229L: 412099751L, 2230L: 882672859L, 2231L: 20209826634L, 2232L: 206076L, 2233L: 5525343L, 2234L: 783581933L, 2235L: 558676754L, 2236L: 1484880434L, 2237L: 230575L, 2238L: 305474878L, 2239L: 42929692L, 2240L: 4488040451L, 2241L: 906552928L, 2242L: 6478016L, 2243L: 145364L, 2244L: 59352295L, 2245L: 1807903915L, 2246L: 12607L, 2247L: 2013556706L, 2248L: 296771323L, 2249L: 1622198231L, 2250L: 304003509L, 2251L: 5022L, 2252L: 20894723311L, 2253L: 1006243281L, 2254L: 296941599L, 2255L: 163553848L, 2256L: 879317742L, 2257L: 2695L, 2258L: 992023650L, 2259L: 1721L, 2260L: 709143828L, 2261L: 746011635L, 2262L: 3378967789L, 2263L: 103755L, 2264L: 94195314L, 2265L: 35667940678L, 2266L: 3037312473L, 2267L: 1891297206L, 2268L: 41293384278L, 2269L: 58510870L, 2270L: 1089688764L, 2271L: 572864522L, 2272L: 1194127425L, 2274L: 19276685L, 2275L: 1825170L, 2276L: 473514940L, 2277L: 2471411192L, 2278L: 11850556L, 2279L: 16847901701L, 2280L: 1478876338L, 2281L: 1834693L, 2282L: 700511004L, 2283L: 1209844L, 2284L: 3259494L, 2285L: 19821062L, 2286L: 788021L, 2287L: 27596L, 2288L: 352383512L, 2289L: 1258570585L, 2290L: 1836L, 2291L: 4676148657L, 2292L: 523585L, 2293L: 110357474L, 2294L: 2511786L, 2295L: 42325889L, 2296L: 472926158L, 2297L: 139833751L, 2298L: 4083687441L, 2299L: 149460924L, 2300L: 807593804L, 2301L: 881909L, 2302L: 28820358L, 2303L: 4314544131L, 2304L: 123120589L, 2305L: 8361514472L, 2306L: 3335431870L, 2307L: 6265213634L, 2308L: 93319868L, 2309L: 4260L, 2310L: 194092454L, 2311L: 1362856L, 2312L: 2722L, 2313L: 1072559647L, 2314L: 15510L, 2315L: 302706852L, 2316L: 717348591L, 2317L: 644405511L, 2318L: 291840185L, 2319L: 732680049L, 2320L: 616545216L, 2321L: 5746957L, 2322L: 802945093L, 2323L: 38296147L, 2324L: 92L, 2325L: 8158530L, 2326L: 2399946L, 2327L: 76467227L, 2328L: 37865282L, 2329L: 3748967834L, 2330L: 1751956L, 2331L: 12086288664L, 2332L: 514784365L, 2333L: 6137L, 2334L: 649995964L, 2335L: 4971915962L, 2336L: 13597L, 2337L: 15711L, 2338L: 138124666L, 2339L: 4064453030L, 2340L: 7446869175L, 2341L: 4687286131L, 2342L: 16182237338L, 2343L: 478447788L, 2344L: 4293698089L, 2345L: 1279504093L, 2346L: 2863069622L, 2347L: 456859631L, 2348L: 4080497125L, 2349L: 1645007781L, 2350L: 238276014L, 2351L: 2952085525L, 2352L: 4029360L, 2353L: 30344873L, 2354L: 399339195L, 2355L: 25879426653L, 2356L: 263849023L, 2357L: 510176L, 2358L: 114231382L, 2359L: 927584208L, 2360L: 1534367571L, 2361L: 729699357L, 2362L: 1303416168L, 2363L: 1285795661L, 2364L: 671768939L, 2365L: 1589008332L, 2366L: 103446864L, 2367L: 1291243297L, 2368L: 5243550276L, 2369L: 665236353L, 2370L: 339042977L, 2371L: 369851700L, 2372L: 7520272427L, 2373L: 588694126L, 2374L: 3778446873L, 2375L: 234L, 2376L: 270835881L, 2377L: 20720953432L, 2378L: 3539313899L, 2379L: 8121670L, 2380L: 5103404814L, 2381L: 769926920L, 2382L: 10232445325L, 2383L: 893684129L, 2384L: 156334794L, 2385L: 16934823312L, 2386L: 27360272727L, 2387L: 7016885470L, 2388L: 661430529L, 2389L: 21776153L, 2390L: 169749357L, 2391L: 14385596622L, 2392L: 1772832151L, 2393L: 3118273L, 2394L: 392935245L, 2395L: 4778465849L, 2396L: 774L, 2397L: 2134269538L, 2398L: 264031L, 2399L: 931673109L, 2400L: 25707665732L, 2401L: 54304344L, 2402L: 7533461343L, 2403L: 1756L, 2404L: 1064590940L, 2405L: 4076L, 2406L: 10989382430L, 2407L: 21885554559L, 2408L: 13657148L, 2409L: 3134111741L, 2410L: 9475452L, 2411L: 647757963L, 2412L: 628647003L, 2413L: 1900L, 2414L: 13423266104L, 2415L: 1026580090L, 2416L: 1358020812L, 2417L: 5880613713L, 2418L: 6524304090L, 2419L: 863789446L, 2420L: 26501908989L, 2421L: 779417525L, 2422L: 1220605031L, 2424L: 5648823446L, 2425L: 202667L, 2426L: 1149812697L, 2427L: 14013634006L, 2428L: 520506050L, 2429L: 910276562L, 2430L: 197710673L, 2431L: 1634767L, 2432L: 3253811L, 2433L: 1587857841L, 2434L: 5511813L, 2435L: 795844389L, 2436L: 463759775L, 2437L: 457158L, 2438L: 1350241141L, 2439L: 1565258300L, 2440L: 857077778L, 2441L: 1877239390L, 2442L: 1574676492L, 2443L: 9293463L, 2444L: 5810585893L, 2445L: 688536567L, 2446L: 1582408L, 2447L: 3599054463L, 2448L: 4451286531L, 2449L: 6707807705L, 2450L: 78106261L, 2451L: 614944399L, 2452L: 229252613L, 2453L: 19998667612L, 2454L: 14026230516L, 2455L: 2928570L, 2456L: 23622L, 2457L: 7790279L, 2458L: 785609579L, 2459L: 9367334397L, 2460L: 6957303081L, 2461L: 652519852L, 2462L: 319461163L, 2463L: 1926778875L, 2464L: 8244L, 2465L: 92148L, 2466L: 531500753L, 2467L: 678137814L, 2468L: 17444866556L, 2469L: 3535078167L, 2470L: 1087847667L, 2471L: 2022371842L, 2472L: 4639655167L, 2473L: 84839343L, 2474L: 187207316L, 2475L: 909789707L, 2476L: 455550921L, 2477L: 7502929L, 2478L: 373707738L, 2479L: 1091599243L, 2480L: 399249887L, 2481L: 1287070920L, 2482L: 1173362729L, 2483L: 660097346L, 2484L: 409618739L, 2485L: 1008L, 2486L: 2900L, 2487L: 1560L, 2488L: 2892053383L, 2489L: 1329827904L, 2490L: 111702870L, 2491L: 5113610301L, 2492L: 8775428409L, 2493L: 441687503L, 2494L: 338900992L, 2495L: 44566L, 2496L: 625531440L, 2497L: 4836834025L, 2498L: 8154236527L, 2499L: 35948L, 2500L: 3467L, 2501L: 38031199L, 2502L: 1355413875L, 2503L: 17715010L, 2504L: 145543829L, 2505L: 1406847858L, 2506L: 5534180L, 2507L: 1062429966L, 2508L: 11860176L, 2509L: 199853L, 2510L: 7862122207L, 2511L: 1653495162L, 2512L: 72380094L, 2513L: 3390243530L, 2514L: 247130007L, 2515L: 18109L, 2516L: 131340244L, 2517L: 7840L, 2518L: 721994481L, 2519L: 949715694L, 2520L: 84042238L, 2521L: 102865L, 2522L: 49353471L, 2523L: 443770176L, 2524L: 46026L, 2525L: 1716L, 2526L: 3260118736L, 2527L: 21179455233L, 2528L: 17454781791L, 2529L: 1683401790L, 2530L: 28114L, 2531L: 894L, 2532L: 3260L, 2533L: 385145117L, 2534L: 20473012718L, 2535L: 12033L, 2536L: 537322069L, 2537L: 118266973L, 2538L: 29044L, 2539L: 5541145953L, 2540L: 5260L, 2541L: 2578208071L, 2542L: 7521427167L, 2543L: 156247446L, 2544L: 50121424L, 2545L: 238352L, 2546L: 381832427L, 2547L: 92628264L, 2548L: 11159306L, 2549L: 600107828L, 2550L: 235356530L, 2551L: 323459620L, 2552L: 55778707L, 2553L: 995544871L, 2554L: 726693155L, 2555L: 1089441848L, 2557L: 971744096L, 2558L: 319045136L, 2559L: 20255928154L, 2560L: 849751430L, 2561L: 4263986L, 2562L: 373324044L, 2563L: 2486877836L, 2565L: 649846928L, 2566L: 11580978405L, 2567L: 49253179L, 2568L: 624281L, 2569L: 278055843L, 2570L: 2091672075L, 2571L: 303257880L, 2572L: 499452645L, 2573L: 5748385030L, 2574L: 7044L, 2575L: 399737827L, 2576L: 748854907L, 2577L: 163594554L, 2578L: 144625202L, 2579L: 17457233L, 2580L: 21458894L, 2581L: 459L, 2582L: 138927970L, 2583L: 163261576L, 2584L: 153864369L, 2585L: 375705582L, 2586L: 17529L, 2587L: 3044428640L, 2588L: 12171L, 2589L: 206049235L, 2590L: 9853110333L, 2591L: 1326790430L, 2592L: 229613279L, 2594L: 47714579L, 2595L: 87217129L, 2596L: 9048052153L, 2597L: 6189152L, 2598L: 901047235L, 2599L: 6668642288L, 2600L: 98333103L, 2601L: 30007958L, 2602L: 17167300685L, 2603L: 593L, 2604L: 84170L, 2605L: 7358520L, 2606L: 329395731L, 2607L: 69925097L, 2608L: 495968668L, 2609L: 351005L, 2610L: 12973208488L, 2611L: 517025790L, 2612L: 792150933L, 2613L: 104450149L, 2614L: 790940597L, 2615L: 508974174L, 2616L: 305516179L, 2617L: 849699412L, 2618L: 484367750L, 2619L: 858618291L, 2620L: 57393515L, 2621L: 3933768L, 2622L: 2299255236L, 2623L: 5375L, 2624L: 1227993218L, 2625L: 128316L, 2626L: 4946L, 2627L: 1226310L, 2628L: 10736382L, 2629L: 1337779798L, 2630L: 3224979214L, 2631L: 15241265218L, 2632L: 32741994L, 2633L: 3356L, 2634L: 89785295L, 2635L: 40L, 2636L: 1948343744L, 2637L: 124831202L, 2638L: 108666259L, 2639L: 347L, 2640L: 152182971L, 2642L: 35066912878L, 2643L: 4113634117L, 2644L: 242301011L, 2645L: 449378464L, 2646L: 394450764L, 2647L: 2382094182L, 2648L: 3093808737L, 2649L: 2873812230L, 2650L: 194274617L, 2651L: 73664L, 2652L: 964621598L, 2653L: 3566163647L, 2654L: 2085469746L, 2655L: 810828794L, 2656L: 6452300838L, 2657L: 16029892179L, 2658L: 1322878180L, 2659L: 631103312L, 2660L: 737352536L, 2661L: 957456L, 2662L: 6425187L, 2663L: 2063L, 2664L: 302084529L, 2665L: 293788364L, 2666L: 4061915921L, 2667L: 965238634L, 2668L: 4137246092L, 2669L: 4121829627L, 2670L: 643489532L, 2671L: 9248936377L, 2672L: 2828L, 2673L: 1949912282L, 2674L: 630020026L, 2675L: 13692848829L, 2676L: 1236L, 2677L: 3602998L, 2678L: 349486926L, 2679L: 2730467847L, 2680L: 290471557L, 2681L: 147855849L, 2682L: 26974820L, 2683L: 1626551357L, 2684L: 123601849L, 2685L: 645343519L, 2686L: 4396601112L, 2687L: 317248329L, 2688L: 15930580416L, 2689L: 1523186410L, 2690L: 17913493L, 2691L: 3538961709L, 2692L: 27848636L, 2693L: 431507L, 2694L: 7311171943L, 2695L: 386359956L, 2696L: 50267L, 2697L: 356761130L, 2698L: 176983399L, 2699L: 171576796L, 2700L: 3267324703L, 2701L: 10445399L, 2702L: 72303994L, 2703L: 2067624798L, 2704L: 1158193086L, 2705L: 5203237809L, 2706L: 4115440026L, 2707L: 18390124L, 2708L: 6957170744L, 2709L: 339662227L, 2710L: 702303970L, 2711L: 585050782L, 2712L: 315791L, 2713L: 8868556032L, 2714L: 10808405442L, 2715L: 1028469216L, 2716L: 8688977417L, 2717L: 21328902234L, 2718L: 4916511435L, 2719L: 2840833704L, 2720L: 12224545450L, 2721L: 430413861L, 2722L: 7375920L, 2723L: 22033541502L, 2724L: 376637201L, 2725L: 28235636230L, 2726L: 6609390324L, 2727L: 6895327L, 2728L: 220378L, 2729L: 30811378663L, 2730L: 13857438L, 2731L: 160021203L, 2732L: 15999485423L, 2733L: 602371781L, 2734L: 11940766157L, 2735L: 23820841L, 2736L: 406144810L, 2737L: 384701614L, 2738L: 568167577L, 2739L: 1167L, 2740L: 4189426959L, 2741L: 6278832110L, 2742L: 2763892L, 2743L: 27661556305L, 2744L: 310594016L, 2745L: 981123538L, 2746L: 1580586911L, 2747L: 490445652L, 2748L: 531166643L, 2749L: 3220734050L, 2750L: 2070838504L, 2751L: 1526520630L, 2752L: 109415494L, 2753L: 4881586077L, 2754L: 316869749L, 2755L: 3366375L, 2756L: 346493147L, 2757L: 364L, 2758L: 15847964L, 2759L: 1551182807L, 2760L: 437741805L, 2761L: 222034L, 2762L: 624405779L, 2763L: 755894782L, 2764L: 14218586241L, 2765L: 2237158848L, 2766L: 3231756791L, 2767L: 1242008002L, 2768L: 4760266438L, 2769L: 965056611L, 2770L: 819426725L, 2771L: 5397011215L, 2772L: 344803181L, 2773L: 1940440628L, 2774L: 296251860L, 2775L: 1986459792L, 2776L: 156042251L, 2777L: 948809188L, 2778L: 4150L, 2779L: 15116760114L, 2780L: 0L, 2781L: 30261L, 2782L: 513927224L, 2783L: 29083600L, 2784L: 12873L, 2785L: 3064591823L, 2786L: 387549630L, 2787L: 1800623671L, 2788L: 473L, 2789L: 1306804702L, 2790L: 1174724213L, 2791L: 190307053L, 2792L: 25522689L, 2793L: 9578L, 2794L: 210319913L, 2795L: 5567359233L, 2796L: 294111596L, 2797L: 650804952L, 2798L: 880314691L, 2799L: 883L, 2800L: 1399617045L, 2801L: 136173709L, 2802L: 1647L, 2803L: 2433899L, 2804L: 1339832023L, 2805L: 1773636L, 2806L: 6064012L, 2807L: 817034L, 2808L: 3035633599L, 2809L: 770L, 2810L: 2214594728L, 2811L: 13502483331L, 2812L: 28092902L, 2813L: 166132L, 2814L: 105619825L, 2815L: 595L, 2816L: 136921L, 2817L: 870999141L, 2818L: 55205L, 2819L: 2310612809L, 2820L: 11652L, 2821L: 1152L, 2822L: 196128269L, 2823L: 120L, 2824L: 3309072085L, 2825L: 4321819371L, 2826L: 4765004251L, 2827L: 6071081369L, 2828L: 48876634L, 2829L: 213305023L, 2830L: 10311L, 2831L: 1549176948L, 2832L: 403585750L, 2833L: 6214369398L, 2834L: 50436L, 2835L: 15483L, 2836L: 1125691008L, 2837L: 310391557L, 2838L: 422153878L, 2839L: 1394947222L, 2840L: 94508535L, 2841L: 14570402956L, 2842L: 1480L, 2843L: 907354L, 2844L: 481176862L, 2845L: 6133108L, 2846L: 1696L, 2847L: 14869370147L, 2848L: 292247494L, 2849L: 2810623221L, 2850L: 68888412L, 2851L: 15510664212L, 2852L: 11557193L, 2853L: 843981388L, 2854L: 640413489L, 2855L: 291390426L, 2856L: 1128640221L, 2857L: 30380903369L, 2858L: 1764587894L, 2859L: 42719L, 2860L: 3485620501L, 2861L: 7544914205L, 2862L: 1083092353L, 2863L: 202014025L, 2864L: 1163586279L, 2865L: 717066553L, 2866L: 12518705447L, 2867L: 18676064690L, 2868L: 131289395L, 2869L: 2542004578L, 2870L: 283698635L, 2871L: 785139751L, 2872L: 3275238933L, 2873L: 377069127L, 2874L: 5027048632L, 2875L: 95032395L, 2876L: 105126849733L, 2877L: 206507370L, 2878L: 232968678L, 2879L: 2234563326L, 2880L: 1028202908L, 2881L: 141203327L, 2882L: 531150954L, 2883L: 9811094844L, 2884L: 34382365L, 2885L: 319839027L, 2886L: 995448682L, 2887L: 67538382L, 2888L: 1868422964L, 2889L: 131065L, 2890L: 293810904L, 2891L: 335525723L, 2892L: 286208538L, 2893L: 13354798869L, 2894L: 7147461L, 2895L: 127039475L, 2896L: 81138234L, 2897L: 65736L, 2898L: 21140001222L, 2899L: 5769L, 2900L: 2519354838L, 2901L: 3097570556L, 2902L: 671029715L, 2903L: 22088149137L, 2904L: 120650934L, 2905L: 713017L, 2906L: 97745L, 2907L: 73130120L, 2908L: 168983L, 2909L: 2012811L, 2910L: 600287240L, 2911L: 457312414L, 2912L: 2273622128L, 2913L: 156856L, 2914L: 1077264680L, 2915L: 4253637L, 2916L: 7811301L, 2917L: 587899189L, 2918L: 3597L, 2919L: 1078401283L, 2920L: 59115764244L, 2921L: 181266562L, 2922L: 769591141L, 2923L: 1446188195L, 2924L: 326775547L, 2925L: 684530335L, 2926L: 6128363053L, 2927L: 3481566L, 2928L: 18594792907L, 2929L: 672257214L, 2930L: 9826011L, 2931L: 218842798L, 2932L: 1695L, 2933L: 160538800L, 2934L: 14330997579L, 2935L: 794432312L, 2936L: 2791968431L, 2937L: 209361432L, 2938L: 2644719314L, 2939L: 5376586906L, 2940L: 606204437L, 2941L: 814955079L, 2942L: 18739879971L, 2943L: 125713127L, 2944L: 1967912615L, 2945L: 1102220814L, 2946L: 4240108083L, 2947L: 16883311383L, 2948L: 117812794L, 2949L: 29675087790L, 2950L: 1403194381L, 2951L: 589874079L, 2952L: 883361220L, 2953L: 1184259025L, 2954L: 21424147152L, 2955L: 485918085L, 2956L: 1575L, 2957L: 23435209380L, 2958L: 340990004L, 2959L: 72992207L, 2960L: 145530266L, 2961L: 1360128880L, 2962L: 479459668L, 2963L: 1834326761L, 2964L: 1826151581L, 2966L: 11389954692L, 2967L: 2146637884L, 2968L: 4126009773L, 2969L: 2571469278L, 2970L: 3053753169L, 2971L: 3884729319L, 2972L: 79646288L, 2973L: 1721046236L, 2974L: 11406303329L, 2975L: 11633273010L, 2976L: 1479637478L, 2977L: 7482180L, 2978L: 172116813L, 2979L: 12467L, 2980L: 2736L, 2981L: 13186L, 2982L: 742511203L, 2983L: 1077211658L, 2984L: 2563735858L, 2985L: 3368214L, 2986L: 617356692L, 2987L: 921436631L, 2988L: 52170091L, 2989L: 145207633L, 2990L: 1492405624L, 2991L: 1836779949L, 2992L: 1138L, 2993L: 9782615410L, 2994L: 489658L, 2995L: 640286759L, 2996L: 2961L, 2997L: 98155083L, 2998L: 45346L, 2999L: 316206981L, 3000L: 133960087L, 3001L: 1124934975L, 3002L: 637272L, 3003L: 825586855L, 3004L: 254787100L, 3005L: 979692090L, 3006L: 661166201L, 3007L: 162854740L, 3008L: 15775500L, 3009L: 252972315L, 3010L: 1537095173L, 3011L: 617L, 3012L: 90329L, 3013L: 13981245L, 3014L: 1470667833L, 3015L: 1929265L, 3016L: 207039L, 3017L: 2018673196L, 3018L: 53701666L, 3019L: 400069228L, 3020L: 2297676185L, 3021L: 1880619L, 3022L: 27492L, 3023L: 200L, 3024L: 438L, 3025L: 566638846L, 3026L: 7917301L, 3027L: 893787476L, 3029L: 281062851L, 3030L: 7621859L, 3031L: 1525529L, 3032L: 1226840120L, 3033L: 23163L, 3034L: 2915003320L, 3035L: 594588408L, 3036L: 554185727L, 3037L: 2325909766L, 3038L: 856L, 3039L: 2709828751L, 3040L: 211274952L, 3041L: 33502726L, 3042L: 563097493L, 3043L: 36644408L, 3044L: 5961322087L, 3045L: 312307018L, 3046L: 542251194L, 3047L: 170620912L, 3048L: 6924660L, 3049L: 8204L, 3050L: 794496525L, 3051L: 9850078L, 3052L: 7333L, 3053L: 38358746L, 3054L: 266395941L, 3055L: 956844461L, 3056L: 44715665L, 3057L: 2315370062L, 3058L: 70692144L, 3059L: 303167778L, 3060L: 1349566505L, 3061L: 15937753828L, 3062L: 854273L, 3063L: 24191L, 3064L: 450259463L, 3065L: 731177L, 3066L: 2913126501L, 3067L: 179809489L, 3069L: 379456684L, 3070L: 3648606555L, 3071L: 927752583L, 3072L: 4300856928L, 3073L: 2195018118L, 3074L: 110606265L, 3075L: 3104462707L, 3076L: 7797070487L, 3077L: 2556127L, 3078L: 798547209L, 3079L: 1661982738L, 3080L: 7157199758L, 3081L: 9149649472L, 3082L: 4043113208L, 3083L: 1200L, 3084L: 6817883096L, 3085L: 12089167L, 3087L: 617957668L, 3088L: 1025964898L, 3089L: 120L, 3090L: 317056661L, 3091L: 9771660L, 3092L: 303165381L, 3093L: 1944001184L, 3094L: 26501296997L, 3095L: 65907L, 3096L: 1562515913L, 3097L: 109742656L, 3098L: 49696468L, 3099L: 1604171507L, 3100L: 247227L, 3101L: 639069148L, 3102L: 729408973L, 3103L: 370083323L, 3104L: 2169699473L, 3105L: 3168523708L, 3106L: 426250413L, 3107L: 3568654810L, 3108L: 4626755612L, 3109L: 6308896549L, 3110L: 842873906L, 3111L: 250459241L, 3112L: 521498572L, 3113L: 161083323L, 3114L: 11231284794L, 3115L: 3136181423L, 3116L: 395700708L, 3117L: 1862338607L, 3118L: 942758967L, 3119L: 362047L, 3120L: 3072319979L, 3121L: 188253112L, 3122L: 640843185L, 3123L: 7521523670L, 3124L: 20646880L, 3125L: 13004336479L, 3126L: 39200L, 3127L: 8771324036L, 3128L: 11076133280L, 3129L: 2748648770L, 3130L: 3223699432L, 3131L: 12728421254L, 3132L: 972089557L, 3133L: 2950606315L, 3134L: 21516148337L, 3135L: 486828172L, 3136L: 1817914115L, 3137L: 16789492085L, 3138L: 9591695531L, 3139L: 159407179L, 3140L: 2853777759L, 3141L: 213180616L, 3142L: 11323277635L, 3143L: 3179137366L, 3144L: 24789747714L, 3145L: 1911461800L, 3146L: 6631428681L, 3147L: 2586871657L, 3148L: 1009871536L, 3149L: 1212128696L, 3150L: 3414912285L, 3151L: 1844803125L, 3152L: 448042363L, 3153L: 803792223L, 3154L: 12283L, 3155L: 4950685284L, 3156L: 1837730114L, 3157L: 2755902994L, 3158L: 5773671557L, 3159L: 31592773L, 3160L: 4099503764L, 3161L: 2358555915L, 3162L: 2346751640L, 3163L: 2337309678L, 3164L: 694153828L, 3165L: 58829332L, 3166L: 894499842L, 3167L: 3350L, 3168L: 7205906307L, 3169L: 18464578L, 3170L: 29120589890L, 3171L: 928079695L, 3172L: 9960L, 3173L: 3747804133L, 3174L: 22615509L, 3175L: 908431687L, 3176L: 298734L, 3177L: 197641171L, 3178L: 468835894L, 3179L: 31541316L, 3180L: 2040L, 3181L: 8598L, 3182L: 2232421209L, 3183L: 10308331214L, 3184L: 356237079L, 3185L: 1018852970L, 3186L: 1199399250L, 3187L: 1905580L, 3188L: 19467529L, 3189L: 521717L, 3190L: 2811779089L, 3191L: 223618260L, 3192L: 19299703L, 3193L: 230983178L, 3194L: 2779202872L, 3195L: 11105811098L, 3196L: 14637831398L, 3197L: 1740851201L, 3198L: 2086619L, 3199L: 47440013L, 3200L: 11797773648L, 3201L: 525216805L, 3202L: 33467L, 3203L: 1327L, 3204L: 99391284L, 3205L: 124189485L, 3206L: 4387L, 3207L: 4638247308L, 3208L: 17941L, 3209L: 69911826L, 3210L: 805561730L, 3211L: 810218367L, 3212L: 788211412L, 3214L: 108910008L, 3215L: 414967925L, 3216L: 17892618L, 3217L: 43661077290L, 3218L: 284713564L, 3219L: 41671L, 3220L: 2929997770L, 3221L: 2703985794L, 3222L: 3477191463L, 3223L: 662260377L, 3224L: 16734617164L, 3225L: 14755292551L, 3226L: 70770660L, 3227L: 697661922L, 3228L: 1915061246L, 3229L: 611019407L, 3230L: 589680272L, 3231L: 12620858411L, 3232L: 9752243L, 3233L: 654540934L, 3234L: 2255172193L, 3235L: 3915684996L, 3236L: 422811395L, 3237L: 36035L, 3238L: 2110245659L, 3239L: 59932073L, 3240L: 731268817L, 3241L: 3360318L, 3242L: 238476762L, 3243L: 106310602L, 3244L: 7192L, 3246L: 83939038L, 3247L: 12088L, 3248L: 224963072L, 3249L: 485852L, 3250L: 1564184883L, 3251L: 21918367271L, 3252L: 17712L, 3253L: 14489381873L, 3254L: 153862233L, 3255L: 343663980L, 3256L: 623069322L, 3257L: 12769225L, 3258L: 364742L, 3259L: 1700809239L, 3260L: 55413150L, 3261L: 875860448L, 3262L: 34353913640L, 3263L: 10639647666L, 3264L: 902780842L, 3265L: 8932193150L, 3266L: 4386861L, 3267L: 509624260L, 3268L: 1036977002L, 3269L: 185373042L, 3270L: 1227753440L, 3271L: 37685449L, 3272L: 6154682325L, 3273L: 15044711965L, 3274L: 6698535894L, 3275L: 2446668909L, 3276L: 1407696338L, 3277L: 9100789L, 3278L: 6084L, 3279L: 1394519449L, 3280L: 32725L, 3281L: 4780792415L, 3282L: 19728L, 3283L: 8718251216L, 3284L: 5325484989L, 3285L: 34232787389L, 3286L: 1223127252L, 3287L: 2259090039L, 3288L: 767146992L, 3289L: 2176121715L, 3290L: 1799026403L, 3291L: 108137288L, 3292L: 141708651L, 3293L: 1972384102L, 3294L: 5076508488L, 3295L: 3529485L, 3296L: 883976052L, 3297L: 11266062L, 3298L: 1367973710L, 3299L: 8608366396L, 3300L: 4960L, 3301L: 7958496L, 3302L: 368229396L, 3303L: 1269884372L, 3304L: 79416427L, 3305L: 1731501L, 3306L: 3543795489L, 3307L: 340650929L, 3308L: 126885L, 3309L: 4897394364L, 3310L: 1028217884L, 3311L: 1813698411L, 3312L: 135389033L, 3313L: 22441042L, 3314L: 13010034L, 3315L: 93738377L, 3316L: 11120066L, 3317L: 4924873L, 3318L: 45360L, 3319L: 5557109410L, 3320L: 2133358200L, 3321L: 22012573079L, 3322L: 369789L, 3323L: 3088674012L, 3324L: 83021330L, 3325L: 7495712669L, 3326L: 36818916102L, 3327L: 3300294205L, 3328L: 29355558610L, 3329L: 10214741534L, 3330L: 48401162L, 3331L: 135482692L, 3332L: 1816817767L, 3334L: 205868836L, 3335L: 195773381L, 3336L: 18962742866L, 3337L: 491973395L, 3338L: 977L, 3339L: 57770897L, 3340L: 9275L, 3341L: 243290829L, 3342L: 108364L, 3343L: 1087239011L, 3344L: 149757L, 3345L: 311938148L, 3346L: 3242406919L, 3347L: 896125436L, 3348L: 643162582L, 3349L: 5221290421L, 3350L: 2946894926L, 3351L: 197554409L, 3352L: 22870L, 3353L: 6580662453L, 3354L: 1784038206L, 3355L: 945744241L, 3356L: 322491641L, 3357L: 201861798L, 3358L: 492219793L, 3359L: 396632734L, 3360L: 2925018889L, 3361L: 37540594L, 3362L: 197638459L, 3363L: 19945615780L, 3364L: 1427452584L, 3365L: 12336430114L, 3366L: 8872590740L, 3367L: 7910928244L, 3368L: 4181255316L, 3369L: 583303115L, 3370L: 18656629L, 3371L: 4627152569L, 3372L: 27858L, 3373L: 2531457390L, 3374L: 50890497L, 3375L: 144647387L, 3376L: 16267207815L, 3377L: 787300912L, 3378L: 177843L, 3379L: 1670665089L, 3380L: 152301940L, 3381L: 5344L, 3382L: 3399743616L, 3383L: 9295L, 3384L: 828982L, 3385L: 1987375855L, 3386L: 1477807611L, 3387L: 1234132042L, 3388L: 935983904L, 3389L: 395651179L, 3390L: 7193835002L, 3391L: 5035337456L, 3392L: 5541589350L, 3393L: 1523246L, 3394L: 4174332953L, 3395L: 7589447350L, 3396L: 1048617657L, 3397L: 1478931099L, 3398L: 3057277331L, 3399L: 9269969L, 3400L: 428744672L, 3401L: 955148574L, 3402L: 11191087L, 3403L: 2691405048L, 3404L: 924630866L, 3405L: 1954535170L, 3407L: 887660574L, 3408L: 1611078364L, 3409L: 778819419L, 3410L: 114220490L, 3411L: 43545509L, 3412L: 231492263L, 3413L: 1472973789L, 3414L: 1646646125L, 3415L: 2417274216L, 3416L: 20303081L, 3417L: 51257L, 3418L: 829121616L, 3419L: 54381417L, 3420L: 9250164550L, 3421L: 1561390058L, 3422L: 76314L, 3423L: 4987211562L, 3424L: 3125L, 3425L: 416015284L, 3426L: 2184369117L, 3427L: 722667822L, 3428L: 9970970875L, 3429L: 26204017L, 3430L: 2246209183L, 3431L: 331112090L, 3432L: 33375902L, 3433L: 130478017L, 3434L: 34423030L, 3435L: 12993854L, 3436L: 654433959L, 3437L: 683138900L, 3438L: 24836L, 3439L: 7251487L, 3440L: 22539244956L, 3441L: 543569008L, 3442L: 133532701L, 3443L: 0L, 3444L: 719582L, 3445L: 5794188896L, 3446L: 246970280L, 3447L: 1998998769L, 3448L: 11406726321L, 3449L: 122691152L, 3450L: 4610683805L, 3451L: 9492205924L, 3452L: 238273528L, 3453L: 1516333767L, 3454L: 15426474L, 3455L: 1086082401L, 3456L: 2022564004L, 3457L: 23472555876L, 3458L: 732381940L, 3459L: 178081L, 3460L: 21558245L, 3461L: 38828L, 3462L: 13612760511L, 3463L: 1634686905L, 3464L: 1385176335L, 3465L: 7162604L, 3466L: 206008241L, 3467L: 6453787192L, 3468L: 3430743709L, 3469L: 15712457L, 3470L: 3776045652L, 3471L: 83000730L, 3472L: 24044286L, 3473L: 963L, 3474L: 63738L, 3475L: 281866910L, 3476L: 3606L, 3477L: 1853499015L, 3478L: 9361752185L, 3479L: 9722970573L, 3480L: 277075L, 3481L: 211417510L, 3482L: 127207564L, 3483L: 278096769L, 3484L: 682252229L, 3485L: 741807L, 3486L: 1581253621L, 3487L: 1294783451L, 3488L: 1912707738L, 3489L: 1211433171L, 3490L: 395452463L, 3491L: 673945642L, 3492L: 45720L, 3493L: 199887148L, 3494L: 5358883802L, 3495L: 4606642545L, 3496L: 1006560216L, 3497L: 1613383126L, 3498L: 1834232938L, 3499L: 800766534L, 3500L: 2811175248L, 3501L: 2061224801L, 3502L: 909581117L, 3503L: 383253352L, 3504L: 2306755802L, 3505L: 3444621414L, 3506L: 4308830L, 3507L: 3283356L, 3508L: 6119297373L, 3509L: 402728149L, 3510L: 4686634004L, 3511L: 1418909933L, 3512L: 299363454L, 3513L: 2128262998L, 3514L: 54245911L, 3515L: 348081042L, 3516L: 237509L, 3517L: 30023903L, 3518L: 3117L, 3519L: 40552377L, 3520L: 85766187L, 3521L: 2750687959L, 3522L: 125843925L, 3523L: 137481554L, 3524L: 1640L, 3525L: 254638965L, 3526L: 309646938L, 3527L: 6735540636L, 3528L: 1054906076L, 3529L: 5478242212L, 3530L: 117707986L, 3531L: 2571794662L, 3532L: 15463113974L, 3533L: 29888115868L, 3534L: 2220L, 3535L: 5755182L, 3536L: 70698070L, 3537L: 6342532953L, 3538L: 11933077372L, 3539L: 526481688L, 3540L: 385616568L, 3541L: 7358442L, 3542L: 158966733L, 3543L: 8022621141L, 3544L: 34029538300L, 3545L: 1063874201L, 3546L: 629772982L, 3547L: 23586031L, 3548L: 12550236737L, 3549L: 305758500L, 3550L: 317445141L, 3551L: 1862369147L, 3552L: 569775043L, 3553L: 14714413310L, 3554L: 179804542L, 3555L: 17455583668L, 3556L: 1017L, 3557L: 168928096L, 3558L: 319622242L, 3559L: 306534008L, 3560L: 1132379948L, 3561L: 368399306L, 3562L: 382089973L, 3563L: 975182750L, 3564L: 1771480118L, 3565L: 8516948707L, 3566L: 63716158L, 3567L: 452913845L, 3568L: 802702735L, 3569L: 4041797510L, 3570L: 5392050916L, 3571L: 21182212766L, 3572L: 17452833784L, 3573L: 15798023799L, 3574L: 1457571173L, 3575L: 7666306315L, 3576L: 226552499L, 3577L: 904845637L, 3579L: 14748L, 3580L: 1233100923L, 3581L: 563628799L, 3582L: 24530867L, 3583L: 398301105L, 3584L: 1075660848L, 3585L: 1471674755L, 3586L: 321167939L, 3587L: 3435604334L, 3588L: 1046112099L, 3589L: 16252900L, 3590L: 204519542L, 3591L: 1073620346L, 3592L: 11470352204L, 3593L: 1802960999L, 3595L: 4088598908L, 3596L: 2668828282L, 3597L: 882718219L, 3598L: 975010525L, 3599L: 3030516707L, 3600L: 1904936342L, 3601L: 49175179942L, 3602L: 641939279L, 3603L: 1952648062L, 3604L: 896305511L, 3605L: 121560731L, 3606L: 195827722L, 3607L: 1292964200L, 3608L: 668146923L, 3609L: 5189919797L, 3610L: 358795427L, 3611L: 14251686139L, 3612L: 642890045L, 3613L: 203189014L, 3614L: 26888390816L, 3615L: 17289208L, 3616L: 552971097L, 3617L: 77989112L, 3618L: 3569427L, 3619L: 12129907055L, 3620L: 11331349275L, 3621L: 301L, 3622L: 95614133L, 3623L: 1116619882L, 3624L: 568446525L, 3625L: 180233837L, 3626L: 17072836L, 3627L: 948484824L, 3628L: 353L, 3630L: 2932133373L, 3631L: 16632670294L, 3632L: 240596955L, 3633L: 831594177L, 3634L: 19156573612L, 3635L: 2257078386L, 3636L: 1182575188L, 3637L: 605278350L, 3638L: 84542571L, 3639L: 619388986L, 3640L: 210905518L, 3641L: 5987724700L, 3642L: 6688151519L, 3643L: 1197185688L, 3644L: 18251650799L, 3645L: 3248242993L, 3646L: 81544241786L, 3647L: 1464654633L, 3648L: 1115L, 3649L: 17087819691L, 3650L: 287390143L, 3651L: 265643553L, 3652L: 33076L, 3653L: 1276607646L, 3654L: 7739784188L, 3655L: 4296738620L, 3656L: 123064L, 3657L: 1399377L, 3658L: 3524556141L, 3659L: 2095997L, 3660L: 421854596L, 3661L: 22522310L, 3662L: 282437286L, 3663L: 4425975769L, 3664L: 2266959L, 3665L: 6844209582L, 3666L: 8979045810L, 3667L: 9965628800L, 3668L: 114841623L, 3669L: 400467017L, 3670L: 36147613721L, 3671L: 26710667531L, 3672L: 2241264449L, 3673L: 13528548189L, 3674L: 17132112L, 3675L: 5935030571L, 3676L: 14154918714L, 3677L: 9748129218L, 3678L: 412892L, 3679L: 6310627L, 3680L: 12062794442L, 3681L: 520769463L, 3682L: 209333007L, 3683L: 823219032L, 3684L: 549135190L, 3685L: 481834L, 3686L: 1443853747L, 3687L: 26645589L, 3688L: 13244372864L, 3689L: 7231838281L, 3690L: 151657984L, 3691L: 10317789665L, 3692L: 2943784337L, 3693L: 1570421442L, 3694L: 1356692219L, 3695L: 3633016881L, 3696L: 865831L, 3697L: 4216333303L, 3698L: 2856620602L, 3699L: 197909589L, 3700L: 500581219L, 3701L: 98116067L, 3702L: 1762L, 3703L: 4815983563L, 3704L: 15655213026L, 3705L: 899945906L, 3706L: 491000L, 3707L: 849048780L, 3708L: 63179673L, 3709L: 95014355L, 3710L: 1767336685L, 3711L: 725834459L, 3712L: 12239509305L, 3713L: 3497101804L, 3714L: 1913061781L, 3715L: 1880389108L, 3716L: 21583215719L, 3717L: 372351L, 3718L: 6550032097L, 3719L: 16329713789L, 3720L: 2380318072L, 3721L: 3477515952L, 3722L: 487645L, 3723L: 1056025892L, 3724L: 1089427352L, 3725L: 59395672L, 3726L: 0L, 3727L: 6667052391L, 3728L: 34372996682L, 3729L: 521386612L, 3730L: 509986231L, 3731L: 4148026L, 3732L: 2208997285L, 3733L: 912673287L, 3734L: 153157335L, 3735L: 1279617292L, 3736L: 1170054981L, 3737L: 3010397999L, 3738L: 657266L, 3739L: 1089693417L, 3740L: 9551485298L, 3741L: 168701L, 3742L: 276321326L, 3743L: 835933355L, 3744L: 59981694L, 3745L: 8098860577L, 3746L: 26513238594L, 3747L: 34933891627L, 3748L: 25966205888L, 3749L: 1948727448L, 3750L: 4434203416L, 3751L: 2671259311L, 3752L: 4906678084L, 3753L: 8759245730L, 3754L: 10505L, 3755L: 48212L, 3756L: 36035675L, 3757L: 38929495L, 3758L: 1024922656L, 3759L: 701202282L, 3760L: 906430758L, 3761L: 4149341090L, 3762L: 2910048950L, 3763L: 14454163110L, 3764L: 17761098474L, 3765L: 1449722L, 3766L: 337096L, 3767L: 12680681304L, 3768L: 285255674L, 3769L: 413557701L, 3770L: 7043784L, 3771L: 2298L, 3772L: 38222L, 3773L: 768L, 3774L: 5835L, 3775L: 36039L, 3776L: 203281281L, 3777L: 7072L, 3778L: 2528551L, 3779L: 2758L, 3780L: 2905897059L, 3781L: 34209180L, 3782L: 153335831L, 3783L: 2317L, 3784L: 23783346L, 3785L: 9812746359L, 3786L: 876454417L, 3787L: 3983730866L, 3788L: 1389212429L, 3789L: 313899642L, 3790L: 9597621159L, 3791L: 75928L, 3792L: 8191433105L, 3793L: 2006L, 3794L: 5987201L, 3795L: 63255381L, 3796L: 1094198831L, 3797L: 819805496L, 3798L: 421677755L, 3799L: 25648L, 3800L: 2052567L, 3801L: 96282341L, 3802L: 416992513L, 3803L: 2370703804L, 3804L: 56724162L, 3805L: 127290485L, 3806L: 10155221L, 3807L: 795307917L, 3808L: 1250232618L, 3809L: 490L, 3811L: 16742278682L, 3812L: 17765074971L, 3813L: 338677718L, 3814L: 1627051909L, 3815L: 9696902843L, 3816L: 10035552970L, 3817L: 16443951883L, 3818L: 34813L, 3819L: 10277337288L, 3820L: 39605462L, 3821L: 9643184607L, 3822L: 185629163L, 3823L: 1909448957L, 3824L: 122562132L, 3825L: 2906607281L, 3826L: 4167810L, 3827L: 12336L, 3828L: 297499L, 3829L: 1233230738L, 3830L: 1094397L, 3831L: 11803006151L, 3832L: 1101236595L, 3833L: 478525001L, 3834L: 3445L, 3835L: 12555866369L, 3836L: 365264L, 3837L: 42542142L, 3838L: 16828648L, 3839L: 1013372536L, 3840L: 393L, 3841L: 32017013410L, 3842L: 5545263470L, 3843L: 13113181945L, 3844L: 14287109644L, 3845L: 2782401631L, 3846L: 5389760248L, 3847L: 588L, 3848L: 178148625L, 3849L: 5160052191L, 3850L: 18171589635L, 3851L: 775527937L, 3852L: 1403684273L, 3853L: 1339634856L, 3854L: 610540246L, 3855L: 13445005841L, 3856L: 5544912486L, 3857L: 1672488137L, 3858L: 1770823113L, 3859L: 5433750774L, 3860L: 221326081L, 3861L: 26391864708L, 3862L: 24532L, 3863L: 1333449463L, 3864L: 15238L, 3865L: 498286151L, 3866L: 53214831L, 3867L: 36858L, 3868L: 7235445L, 3869L: 8677543L, 3870L: 1747564L, 3871L: 9563L, 3872L: 30877047L, 3873L: 6133130733L, 3874L: 455850453L, 3875L: 10599913481L, 3876L: 39096904298L, 3877L: 5181354172L, 3878L: 13352983667L, 3879L: 26058087108L, 3880L: 25337453188L, 3881L: 718864266L, 3882L: 2312179702L, 3883L: 5451372172L, 3884L: 2849836430L, 3885L: 446659334L, 3886L: 2252087074L, 3887L: 5022931334L, 3888L: 303912173L, 3889L: 2748683696L, 3890L: 4382513148L, 3891L: 351686411L, 3892L: 16839319953L, 3893L: 258627024L, 3894L: 5505390048L, 3895L: 15773395133L, 3896L: 11766688308L, 3897L: 523101303L, 3898L: 2378733153L, 3899L: 1191120175L, 3900L: 15597775699L, 3901L: 1173334777L, 3902L: 106469602L, 3903L: 631892149L, 3904L: 603732634L, 3905L: 12485912L, 3906L: 373966939L, 3907L: 1133138521L, 3908L: 1558235404L, 3909L: 19779930907L, 3910L: 15150815736L, 3911L: 4993970991L, 3912L: 500591170L, 3913L: 3618652564L, 3914L: 122216391L, 3915L: 4808563610L, 3916L: 19245749813L, 3917L: 666701846L, 3918L: 54623256L, 3919L: 2280L, 3920L: 3232031812L, 3921L: 12046839807L, 3922L: 3255107842L, 3923L: 8505564539L, 3924L: 390587965L, 3925L: 6931341393L, 3926L: 3262019840L, 3927L: 372734050L, 3928L: 2239434695L, 3929L: 3880292975L, 3930L: 1388488571L, 3931L: 438470925L, 3932L: 1289541596L, 3933L: 27733046L, 3934L: 5915906801L, 3935L: 9427481129L, 3936L: 15710749835L, 3937L: 2297407483L, 3938L: 265133L, 3939L: 1483861965L, 3940L: 23597967647L, 3941L: 633383141L, 3942L: 15062718112L, 3943L: 882770711L, 3944L: 7399320190L, 3945L: 231409179L, 3947L: 694015L, 3948L: 12732L, 3949L: 439376624L, 3950L: 21926231L, 3951L: 9801595764L, 3952L: 250466796L, 3953L: 11337L, 3954L: 86255590L, 3955L: 14738L, 3956L: 385433274L, 3957L: 2460125576L, 3958L: 22837589900L, 3959L: 4944502155L, 3960L: 10560930932L, 3961L: 465962922L, 3962L: 4975045220L, 3963L: 10563643285L, 3964L: 4576L, 3965L: 60040208L, 3966L: 165068196L, 3967L: 787596168L, 3968L: 1126297925L, 3969L: 2112973L, 3970L: 5738100739L, 3971L: 345004211L, 3972L: 2074298L, 3973L: 3442242480L, 3974L: 3963255086L, 3975L: 67141317L, 3976L: 1425309646L, 3977L: 1159934862L, 3978L: 961056859L, 3979L: 2938455223L, 3980L: 1798543729L, 3981L: 568697769L, 3982L: 1375455747L, 3983L: 152924994L, 3984L: 8543542312L, 3985L: 725134932L, 3986L: 5918701990L, 3987L: 15633409276L, 3988L: 10513646135L, 3989L: 4360804448L, 3990L: 13490806607L, 3991L: 904270923L, 3992L: 748045L, 3993L: 3302016L, 3994L: 45082517L, 3995L: 5069704865L, 3996L: 423649043L, 3997L: 1408165740L, 3998L: 1402L, 3999L: 2452486417L, 4000L: 500469827L, 4001L: 4371993531L, 4002L: 18938104776L, 4003L: 3491995979L, 4004L: 217075076L, 4005L: 18633079503L, 4006L: 24633952187L, 4007L: 1094005917L, 4008L: 2427438L, 4009L: 8154240503L, 4010L: 8032342433L, 4011L: 1165243952L, 4012L: 246492589L, 4013L: 228181561L, 4014L: 172204892L, 4015L: 582L, 4016L: 20077500296L, 4017L: 32768958493L, 4018L: 27099755874L, 4019L: 143182659L, 4020L: 1048733292L, 4021L: 5062767599L, 4022L: 19163368699L, 4023L: 881567864L, 4024L: 1980775L, 4025L: 881335892L, 4026L: 418359342L, 4027L: 418096497L, 4028L: 356759911L, 4029L: 451147105L, 4030L: 910828847L, 4031L: 670881920L, 4032L: 3435260839L, 4033L: 870805860L, 4034L: 8851854743L, 4035L: 16919842L, 4036L: 5947834342L, 4037L: 2019215728L, 4038L: 109629585L, 4039L: 14346505034L, 4040L: 3904668399L, 4041L: 498314247L, 4042L: 623905005L, 4043L: 4283872616L, 4044L: 1129229857L, 4045L: 293566710L, 4046L: 24141008L, 4047L: 4482169747L, 4048L: 1757552913L, 4049L: 1344664351L, 4050L: 3234517570L, 4051L: 9050278747L, 4052L: 3504539291L, 4053L: 12865L, 4054L: 1150920644L, 4055L: 297515460L, 4056L: 5579510013L, 4057L: 1635153L, 4058L: 1113008004L, 4059L: 11223154568L, 4060L: 642323885L, 4061L: 3999711L, 4062L: 298443626L, 4063L: 2523023226L, 4064L: 584042450L, 4065L: 14880672L, 4066L: 2689307L, 4067L: 347176819L, 4068L: 166134748L, 4069L: 4246403090L, 4070L: 4053008L, 4071L: 164636L, 4072L: 4071930L, 4073L: 5825167670L, 4074L: 542047637L, 4075L: 3155868791L, 4076L: 9551944487L, 4077L: 12551433784L, 4078L: 2119712036L, 4079L: 429306L, 4080L: 117949116L, 4081L: 119485L, 4082L: 2673617533L, 4083L: 118811025L, 4084L: 2380270159L, 4085L: 903360503L, 4086L: 1065714918L, 4087L: 7085368620L, 4088L: 766793041L, 4089L: 722114465L, 4090L: 2423149529L, 4091L: 3485936421L, 4092L: 7944961645L, 4093L: 426126743L, 4094L: 1735942837L, 4095L: 11494240L, 4096L: 14466265702L, 4097L: 4688819609L, 4098L: 2637690994L, 4099L: 2922262601L, 4100L: 1512037641L, 4101L: 2550961330L, 4102L: 927988192L, 4103L: 6627471533L, 4104L: 2571653859L, 4105L: 10359360L, 4106L: 30210631793L, 4107L: 1937192927L, 4108L: 478208196L, 4109L: 29846782865L, 4110L: 5284488867L, 4111L: 6999L, 4112L: 739085632L, 4113L: 13529693785L, 4114L: 693991019L, 4115L: 4612562L, 4116L: 145503303L, 4117L: 1546147022L, 4118L: 131539905L, 4119L: 79512877L, 4120L: 171027167L, 4121L: 31237L, 4122L: 81872117L, 4123L: 5172752703L, 4124L: 170739L, 4125L: 288660L, 4126L: 121706835L, 4127L: 65630283L, 4128L: 412501232L, 4129L: 32427705915L, 4130L: 1443934331L, 4131L: 1060450635L, 4132L: 2570613384L, 4133L: 946355873L, 4134L: 2453606126L, 4135L: 324258208L, 4136L: 134633073L, 4137L: 5105963144L, 4138L: 150834312L, 4139L: 2349161272L, 4140L: 584080344L, 4141L: 550942916L, 4142L: 205716072L, 4143L: 12441345330L, 4144L: 32333552L, 4145L: 35764764L, 4146L: 388812686L, 4147L: 4155158052L, 4148L: 701421559L, 4149L: 1239577211L, 4150L: 52989168L, 4151L: 3219122497L, 4152L: 24781557L, 4153L: 153495448L, 4154L: 4305817523L, 4155L: 284062573L, 4156L: 826902208L, 4157L: 653584125L, 4158L: 2314441858L, 4159L: 1666380939L, 4160L: 1071619064L, 4161L: 1256072188L, 4162L: 1384166168L, 4163L: 333208251L, 4164L: 395013851L, 4165L: 25006L, 4166L: 732772836L, 4167L: 162370970L, 4168L: 65228184L, 4169L: 946706381L, 4170L: 470262312L, 4171L: 80697993L, 4172L: 1078400763L, 4173L: 12816330L, 4174L: 969446779L, 4175L: 8318L, 4176L: 4779886938L, 4177L: 7423665381L, 4178L: 190639785L, 4179L: 1036353041L, 4180L: 3646230119L, 4181L: 589317408L, 4182L: 2925112784L, 4183L: 1942802778L, 4184L: 806273574L, 4185L: 1685040324L, 4186L: 1267693789L, 4187L: 4642772518L, 4188L: 1449322681L, 4189L: 15353312L, 4190L: 1625178477L, 4191L: 2296356505L, 4192L: 1784998855L, 4193L: 4112178537L, 4194L: 10890745103L, 4195L: 25717594L, 4196L: 5235501785L, 4197L: 4930496167L, 4198L: 53038388L, 4199L: 17604139814L, 4200L: 21684641443L, 4201L: 10761921548L, 4202L: 10315312931L, 4203L: 7616772104L, 4204L: 29079589L, 4205L: 158858115L, 4206L: 54196973L, 4207L: 2266278L, 4208L: 21515215833L, 4209L: 9030286333L, 4210L: 19401036L, 4211L: 8213762288L, 4212L: 36921800L, 4213L: 3157683276L, 4214L: 959539995L, 4215L: 1260031609L, 4216L: 7530641307L, 4217L: 51100127L, 4218L: 94585603L, 4219L: 683782315L, 4220L: 410259024L, 4221L: 1006844138L, 4222L: 1880398330L, 4223L: 15129726490L, 4224L: 21302829606L, 4225L: 6552691746L, 4226L: 6924770993L, 4227L: 302532578L, 4228L: 31398162996L, 4229L: 2626497229L, 4230L: 49274977L, 4231L: 856653349L, 4232L: 5215048786L, 4233L: 3747327L, 4234L: 6544463304L, 4235L: 4084771573L, 4236L: 10167339380L, 4237L: 16171314121L, 4238L: 2056775085L, 4239L: 1618727796L, 4240L: 2358370392L, 4241L: 2987629760L, 4242L: 61086327L, 4243L: 35763884513L, 4244L: 1096152665L, 4245L: 12605414191L, 4246L: 3014972854L, 4247L: 3011757L, 4248L: 114199770L, 4249L: 1182073434L, 4250L: 28131909905L, 4251L: 6922316187L, 4252L: 127937024L, 4253L: 19349969957L, 4254L: 10556289534L, 4255L: 4806602L, 4256L: 49991922L, 4257L: 11470786581L, 4258L: 38302167677L, 4259L: 54846599L, 4260L: 40261249484L, 4261L: 1622825265L, 4262L: 2517658688L, 4263L: 3744701571L, 4264L: 8825541337L, 4265L: 32575531953L, 4266L: 816375898L, 4267L: 164686214L, 4268L: 2479170063L, 4269L: 59847L, 4270L: 4461806817L, 4271L: 4990L, 4272L: 29719824668L, 4273L: 17234L, 4274L: 8719315978L, 4275L: 8740135079L, 4276L: 18951707828L, 4277L: 807693L, 4278L: 1183110513L, 4279L: 995858019L, 4280L: 17462805755L, 4281L: 494655312L, 4282L: 33426934646L, 4283L: 33542521423L, 4284L: 4269158573L, 4285L: 263601534L, 4286L: 33483293132L, 4287L: 26031952816L, 4288L: 395400283L, 4289L: 38211660946L, 4290L: 45204536057L, 4291L: 10760776966L, 4292L: 17039608435L, 4293L: 8299059437L, 4294L: 10030152776L, 4295L: 11755504104L, 4296L: 505577535L, 4297L: 758482666L, 4298L: 27418401898L, 4299L: 58006764182L, 4300L: 3827688459L, 4301L: 7243670517L, 4302L: 31904578822L, 4303L: 1375551625L, 4304L: 8546404733L, 4305L: 19913977037L, 4306L: 38055315686L, 4307L: 1078593437L, 4308L: 528512267L, 4309L: 23599L, 4310L: 8583807908L, 4311L: 17438779L, 4312L: 1853816121L, 4313L: 73311L, 4314L: 5766898607L, 4315L: 76357106L, 4316L: 3172040870L, 4317L: 746L, 4318L: 7277764387L, 4319L: 2296712963L, 4320L: 1283L, 4321L: 692L, 4322L: 7084430370L, 4323L: 2289012970L, 4324L: 7490326L, 4325L: 3967355861L, 4326L: 3868962049L, 4327L: 1241597428L, 4328L: 3556810490L, 4329L: 5018016871L, 4330L: 1509013017L, 4331L: 51946574101L, 4332L: 864240888L, 4333L: 4941580504L, 4334L: 3222846066L, 4335L: 16013286710L, 4336L: 4359241L, 4337L: 2900488390L, 4338L: 15818044119L, 4339L: 218920828L, 4340L: 12076478L, 4341L: 416474470L, 4342L: 69049874L, 4343L: 12445298438L, 4344L: 24153418728L, 4345L: 27393206114L, 4346L: 1313880L, 4347L: 7784764475L, 4348L: 2052131429L, 4349L: 60394708L, 4350L: 2693044966L, 4351L: 42171781987L, 4352L: 2596606051L, 4353L: 78723717L, 4354L: 19799976610L, 4355L: 1586918119L, 4356L: 2432902013L, 4357L: 13137674848L, 4358L: 15358741872L, 4359L: 20220434709L, 4360L: 12038L, 4361L: 8228607761L, 4362L: 4544225649L, 4363L: 8590371951L, 4364L: 2049066525L, 4365L: 4638877569L, 4366L: 5995389726L, 4367L: 7627617008L, 4368L: 6062638426L, 4369L: 3774409776L, 4370L: 4064335473L, 4371L: 123885L, 4372L: 71013910L, 4373L: 2358670414L, 4374L: 21633918883L, 4375L: 17218775L, 4376L: 1239468L, 4377L: 2075044585L, 4378L: 4694867730L, 4379L: 18284367134L, 4380L: 110417531L, 4381L: 10933069603L, 4382L: 4992342473L, 4383L: 6479243175L, 4384L: 8226747047L, 4385L: 2608976271L, 4386L: 4990804413L, 4387L: 30037830966L, 4388L: 0L, 4389L: 4597487517L, 4390L: 5767L, 4391L: 4221425414L, 4392L: 1080554559L, 4393L: 433989429L, 4394L: 2215818222L, 4395L: 329276L, 4396L: 2275701511L, 4397L: 2594435309L, 4398L: 5400168045L, 4399L: 7448559283L, 4400L: 859174899L, 4401L: 1612597772L, 4402L: 1054621657L, 4403L: 33095385237L, 4404L: 15666228L, 4405L: 8442439239L, 4406L: 713726525L, 4407L: 1034071592L, 4408L: 21560902082L, 4409L: 4515509L, 4410L: 37473884941L, 4411L: 15217448691L, 4412L: 2987832966L, 4413L: 3618549047L, 4414L: 2510600406L, 4415L: 25513L, 4416L: 5168052601L, 4417L: 199352064L, 4418L: 4595940347L, 4419L: 14985623642L, 4420L: 5364908280L, 4421L: 4604027629L, 4422L: 1689072870L, 4423L: 11134270749L, 4424L: 469399473L, 4425L: 6875018946L, 4426L: 2048751834L, 4427L: 5202575829L, 4428L: 5705203980L, 4429L: 2478677723L, 4430L: 598067832L, 4431L: 3500653706L, 4432L: 16007755513L, 4433L: 11215631178L, 4434L: 1645622440L, 4435L: 6473014708L, 4436L: 8275735464L, 4437L: 17501685L, 4438L: 19795161L, 4439L: 1232L, 4440L: 2286485063L, 4441L: 1617349708L, 4442L: 157189197L, 4443L: 1309602251L, 4444L: 188348956L, 4445L: 5123772644L, 4446L: 729482344L, 4447L: 107808192L, 4448L: 14403543836L, 4449L: 606794522L, 4450L: 29916861L, 4451L: 247195844L, 4452L: 5500184820L, 4453L: 2101460051L, 4454L: 3067L, 4455L: 823778795L, 4456L: 18193703L, 4457L: 18770146517L, 4458L: 3248L, 4459L: 1699254853L, 4460L: 681820193L, 4461L: 924235881L, 4462L: 1631192801L, 4463L: 6078075095L, 4464L: 1877498563L, 4465L: 11799983389L, 4466L: 1341332513L, 4467L: 61548477L, 4468L: 2317331561L, 4469L: 1949703991L, 4470L: 485128455L, 4471L: 7904322675L, 4472L: 2776198419L, 4473L: 1783864064L, 4474L: 2309287737L, 4475L: 2735208649L, 4476L: 213011663L, 4477L: 25002187910L, 4478L: 1258200162L, 4479L: 516079948L, 4480L: 29975448967L, 4481L: 1730419208L, 4482L: 132905847L, 4483L: 3359052620L, 4484L: 7157L, 4485L: 11082971986L, 4486L: 4422998276L, 4487L: 11273294456L, 4488L: 154074L, 4489L: 1888032762L, 4490L: 62758453L, 4491L: 7825009861L, 4492L: 13793211916L, 4493L: 2515033049L, 4494L: 5300048193L, 4495L: 295788631L, 4496L: 1179839985L, 4497L: 2761056786L, 4498L: 891216963L, 4499L: 1988884054L, 4500L: 848209257L, 4501L: 5099615583L, 4502L: 4095291074L, 4503L: 555630009L, 4504L: 1679641047L, 4505L: 3951440032L, 4506L: 4657224859L, 4507L: 2882729802L, 4508L: 262208676L, 4509L: 2494088323L, 4510L: 301L, 4511L: 33512166L, 4512L: 689065123L, 4513L: 1654342270L, 4514L: 1851968087L, 4515L: 452770897L, 4516L: 1070503478L, 4517L: 6135249429L, 4518L: 5950547619L, 4519L: 2275519733L, 4520L: 3398L, 4521L: 498511194L, 4522L: 789976378L, 4523L: 1819262L, 4524L: 18211831140L, 4525L: 12713724013L, 4526L: 44666587804L, 4527L: 127870610L, 4528L: 2069L, 4529L: 2927193311L, 4530L: 76776604L, 4531L: 3854107028L, 4532L: 4483701875L, 4533L: 355950437L, 4534L: 1802575251L, 4535L: 6010974980L, 4536L: 972878L, 4537L: 1791586200L, 4538L: 8796418214L, 4539L: 327444957L, 4540L: 19702247512L, 4541L: 7249228464L, 4542L: 89139684L, 4543L: 634154580L, 4544L: 176320705L, 4545L: 2238681775L, 4546L: 14950350344L, 4547L: 2181153142L, 4548L: 14646681226L, 4549L: 651319L, 4550L: 24176010729L, 4551L: 16101525096L, 4552L: 1234959261L, 4553L: 19596856434L, 4554L: 43459357758L, 4555L: 13375273408L, 4556L: 24775305998L, 4557L: 26127134961L, 4558L: 19701646000L, 4559L: 13270603518L, 4560L: 4635579475L, 4561L: 73703615L, 4562L: 7560470376L, 4563L: 2103226479L, 4564L: 19498768490L, 4565L: 18794757221L, 4566L: 1783216832L, 4567L: 1665053971L, 4568L: 713677339L, 4569L: 296261146L, 4570L: 3094621027L, 4571L: 259195983L, 4572L: 3567294L, 4573L: 4623433266L, 4574L: 708609307L, 4575L: 177050530L, 4576L: 19386390864L, 4577L: 367627L, 4578L: 8361L, 4579L: 117585765L, 4580L: 76771092L, 4581L: 5464880L, 4582L: 1239386L, 4583L: 26129947674L, 4584L: 2299275L, 4585L: 402992166L, 4586L: 13081558L, 4587L: 16015807515L, 4588L: 18284929822L, 4589L: 4178726239L, 4590L: 762253167L, 4591L: 930736L, 4592L: 2142395852L, 4593L: 318323354L, 4594L: 564305160L, 4595L: 4528826163L, 4596L: 438783747L, 4597L: 5390L, 4598L: 3865364627L, 4599L: 8286221968L, 4600L: 4805801478L, 4601L: 452121184L, 4602L: 5864L, 4603L: 15931055768L, 4604L: 1885838575L, 4605L: 424209952L, 4606L: 3929774334L, 4607L: 485L, 4608L: 392486L, 4609L: 3196968863L, 4610L: 24840804637L, 4611L: 112139707L, 4612L: 14252160L, 4613L: 11365349950L, 4614L: 247849384L, 4615L: 1452244523L, 4616L: 4441809188L, 4617L: 5421418098L, 4618L: 17148209162L, 4619L: 1815623341L, 4620L: 875212833L, 4621L: 26656875700L, 4622L: 22785852853L, 4623L: 15188L, 4624L: 3551417172L, 4625L: 4562172960L, 4626L: 595994L, 4627L: 608743L, 4628L: 9462460L, 4630L: 2568215579L, 4631L: 579839629L, 4632L: 2753759L, 4633L: 54571958L, 4634L: 2048665L, 4635L: 76138853L, 4636L: 3140L, 4637L: 6837645L, 4638L: 363696148L, 4639L: 5702927522L, 4640L: 1017421026L, 4641L: 1750088775L, 4642L: 709231430L, 4643L: 7563498L, 4644L: 10034964469L, 4645L: 162068060L, 4646L: 501244770L, 4647L: 8232204521L, 4648L: 2832472377L, 4649L: 14608917647L, 4650L: 8478154160L, 4651L: 8055633838L, 4652L: 173271934L, 4653L: 1494588037L, 4654L: 167979446L, 4655L: 1429635922L, 4656L: 1096451474L, 4657L: 4250490936L, 4658L: 3330462624L, 4659L: 7232441406L, 4660L: 21547632854L, 4661L: 1267179782L, 4662L: 22783634712L, 4663L: 1189592649L, 4664L: 11796064147L, 4665L: 25190509306L, 4666L: 27508045705L, 4667L: 15890991943L, 4668L: 505788092L, 4669L: 3372775455L, 4670L: 9430472032L, 4671L: 670424611L, 4672L: 3531224272L, 4673L: 13097768155L, 4674L: 6046354L, 4675L: 1540030517L, 4676L: 1142963327L, 4677L: 2598399469L, 4678L: 7785462717L, 4679L: 377288L, 4680L: 33759501405L, 4681L: 4858036557L, 4682L: 966520633L, 4683L: 5470291236L, 4684L: 16156707144L, 4685L: 2773683050L, 4686L: 1562523381L, 4687L: 1727044377L, 4688L: 2396571644L, 4689L: 572540141L, 4690L: 8765383546L, 4691L: 1090854351L, 4692L: 594706496L, 4693L: 4571094260L, 4694L: 8399635388L, 4695L: 26567615877L, 4696L: 28353845020L, 4697L: 5656831055L, 4698L: 1108133008L, 4699L: 4356094008L, 4700L: 61377220L, 4701L: 155258181L, 4702L: 327399733L, 4703L: 7904852503L, 4704L: 1331810553L, 4705L: 1411656768L, 4706L: 1210887575L, 4707L: 30018523362L, 4708L: 2422313914L, 4709L: 3133334866L, 4710L: 563804990L, 4711L: 4844213L, 4712L: 2552654785L, 4713L: 2867167852L, 4714L: 3455457395L, 4715L: 5848783089L, 4716L: 5945902354L, 4717L: 2476889953L, 4718L: 7606239296L, 4719L: 10062503266L, 4720L: 22100546L, 4721L: 15464724060L, 4722L: 6877408393L, 4723L: 49183031L, 4724L: 9693426275L, 4725L: 14367087632L, 4726L: 100383068L, 4727L: 19759228L, 4728L: 2199048876L, 4729L: 1706199703L, 4730L: 26277238L, 4731L: 1038199403L, 4732L: 9241808183L, 4733L: 10377488226L, 4734L: 2728972664L, 4735L: 4630631792L, 4736L: 6637252139L, 4737L: 4930700327L, 4738L: 1389100926L, 4739L: 246067630L, 4740L: 13660374008L, 4741L: 124159246L, 4742L: 4311843L, 4743L: 2226817390L, 4744L: 251744148L, 4745L: 13345071L, 4746L: 926716578L, 4747L: 428063831L, 4748L: 2868493509L, 4749L: 114927530L, 4750L: 291545L, 4751L: 59112181L, 4752L: 413218613L, 4753L: 502228305L, 4754L: 824115716L, 4755L: 29081274L, 4756L: 4335321601L, 4757L: 150737997L, 4758L: 1420374730L, 4759L: 123323L, 4760L: 208059277L, 4761L: 1661008099L, 4762L: 55636478L, 4763L: 1502090703L, 4764L: 4048970031L, 4765L: 578568848L, 4766L: 18877496670L, 4767L: 1814734249L, 4768L: 1502164795L, 4769L: 136806L, 4770L: 16439157L, 4771L: 4474265901L, 4772L: 810830661L, 4773L: 4278924283L, 4774L: 130121883L, 4775L: 180011993L, 4776L: 27524877L, 4777L: 281212345L, 4778L: 556854932L, 4779L: 1171855324L, 4780L: 91822401L, 4781L: 102072528L, 4782L: 301151234L, 4783L: 14320809L, 4784L: 1839841007L, 4785L: 1970306122L, 4786L: 6157380L, 4787L: 656585145L, 4788L: 2544594454L, 4789L: 309644611L, 4790L: 3298909975L, 4791L: 676638762L, 4792L: 220751827L, 4793L: 6512769L, 4794L: 51021839L, 4796L: 714616610L, 4797L: 4021579617L, 4798L: 4758205766L, 4799L: 12648457L, 4800L: 114000429L, 4801L: 6251957181L, 4802L: 3163655663L, 4803L: 852045837L, 4804L: 138990905L, 4805L: 2039896554L, 4806L: 2186005977L, 4807L: 2215274574L, 4808L: 4441143180L, 4809L: 240794655L, 4810L: 854148919L, 4811L: 5129020810L, 4812L: 221461L, 4813L: 1841736L, 4814L: 9826529564L, 4815L: 654664400L, 4816L: 167698452L, 4817L: 3427923L, 4818L: 197802022L, 4819L: 34651883130L, 4820L: 3939614157L, 4821L: 3521756L, 4822L: 653428056L, 4823L: 2531139682L, 4824L: 4689662752L, 4825L: 329538543L, 4826L: 1043853458L, 4827L: 39793646L, 4828L: 380946452L, 4829L: 1946421935L, 4830L: 1306799677L, 4831L: 1422450937L, 4832L: 8535820941L, 4833L: 12635826851L, 4834L: 7695695517L, 4835L: 285270818L, 4836L: 3156113665L, 4837L: 241863134L, 4838L: 17940296376L, 4839L: 9761469682L, 4840L: 37448372077L, 4841L: 3588L, 4842L: 3204329838L, 4843L: 1185002213L, 4844L: 2924356L, 4845L: 4438099939L, 4846L: 4830300L, 4847L: 30469046L, 4848L: 4118219432L, 4849L: 86490011L, 4850L: 165051124L, 4851L: 8115636206L, 4852L: 546L, 4853L: 2616841156L, 4854L: 27859098423L, 4855L: 4706038L, 4856L: 1788942225L, 4857L: 657575429L, 4858L: 4688918432L, 4859L: 68257447L, 4860L: 152807081L, 4861L: 1746051800L, 4862L: 1539921371L, 4863L: 1517436L, 4864L: 1497696014L, 4865L: 620172615L, 4866L: 149780172L, 4867L: 380600690L, 4868L: 240877640L, 4869L: 2818514654L, 4870L: 71938029L, 4871L: 467107163L, 4872L: 842602454L, 4873L: 63577651L, 4874L: 489989269L, 4875L: 90874164L, 4876L: 1142822L, 4877L: 4342310247L, 4878L: 543116142L, 4879L: 116991515L, 4880L: 11394557376L, 4881L: 16034310646L, 4882L: 2174174822L, 4883L: 732458594L, 4884L: 6035296833L, 4885L: 784659515L, 4886L: 6116L, 4887L: 160898555L, 4888L: 1101406369L, 4889L: 47073989L, 4890L: 524535025L, 4891L: 297445521L, 4892L: 783078729L, 4893L: 548634631L, 4894L: 19067752003L, 4895L: 3240503451L, 4896L: 20530590369L, 4897L: 36403L, 4898L: 3538336833L, 4899L: 460965L, 4900L: 131758314L, 4901L: 213357697L, 4902L: 20947322521L, 4903L: 460553998L, 4904L: 62893319L, 4905L: 15352318953L, 4906L: 753595462L, 4907L: 11908924595L, 4908L: 21988320070L, 4909L: 2571264496L, 4910L: 421508515L, 4911L: 303527L, 4912L: 15266979L, 4913L: 261533194L, 4914L: 205559101L, 4915L: 192729L, 4916L: 7063535L, 4917L: 411787608L, 4918L: 4969960464L, 4919L: 30067342322L, 4920L: 8997056119L, 4921L: 697072L, 4922L: 19278677145L, 4923L: 8128315170L, 4924L: 35639500496L, 4925L: 12990L, 4926L: 18468011577L, 4927L: 2949935135L, 4928L: 16609039249L, 4929L: 8918426097L, 4930L: 3346370L, 4931L: 172746L, 4932L: 49512453006L, 4933L: 1237080L, 4934L: 8002L, 4935L: 7049L, 4936L: 634565L, 4937L: 5910986475L, 4938L: 20504916621L, 4939L: 282084288L, 4940L: 12036493979L, 4941L: 224017410L, 4942L: 1724868071L, 4943L: 2542389L, 4944L: 302412954L, 4945L: 494894562L, 4946L: 495549457L, 4947L: 252079246L, 4948L: 270617766L, 4949L: 485698999L, 4950L: 621554962L, 4951L: 5739775201L, 4952L: 1648382787L, 4953L: 2516185672L, 4954L: 2178L, 4955L: 13459L, 4956L: 5648L, 4957L: 5584L, 4958L: 270539637L, 4959L: 8164944305L, 4960L: 824492812L, 4961L: 12977353L, 4962L: 797922066L, 4964L: 699525118L, 4965L: 171192089L, 4966L: 2038393774L, 4967L: 15042730L, 4968L: 132452289L, 4969L: 2987458825L, 4970L: 462110208L, 4971L: 78719556L, 4972L: 581326849L, 4973L: 1299484402L, 4974L: 81666890L, 4975L: 155433599L, 4976L: 224805874L, 4977L: 2125975L, 4978L: 2845810396L, 4979L: 953200L, 4980L: 417414254L, 4981L: 230433601L, 4982L: 5030198364L, 4983L: 1870016724L, 4984L: 3763887558L, 4985L: 14653349L, 4986L: 5643043L, 4987L: 66894272L, 4988L: 27128159L, 4989L: 41083077L, 4990L: 467542691L, 4991L: 1403275553L, 4992L: 767951897L, 4993L: 435166466L, 4994L: 374781111L, 4995L: 4387770619L, 4996L: 20095857419L, 4997L: 14457568563L, 4998L: 14500856261L, 4999L: 443718853L}, 'visit_cnt': {1L: 97694L, 2L: 178L, 3L: 23793L, 4L: 56631L, 5L: 13835L, 6L: 7472L, 7L: 38916L, 8L: 28601L, 9L: 30084L, 10L: 6957L, 11L: 39056L, 12L: 48163L, 13L: 33466L, 14L: 30490L, 15L: 2871L, 16L: 13447L, 17L: 17413L, 18L: 17L, 19L: 41003L, 20L: 16361L, 21L: 1L, 22L: 12656L, 23L: 11237L, 24L: 31167L, 25L: 28095L, 26L: 29661L, 27L: 38378L, 28L: 24141L, 29L: 188577L, 30L: 61630L, 31L: 35654L, 32L: 48475L, 33L: 71865L, 34L: 41794L, 36L: 5L, 37L: 45152L, 38L: 12321L, 39L: 9072L, 40L: 223L, 41L: 12903L, 42L: 17595L, 43L: 36297L, 44L: 74566L, 45L: 73637L, 46L: 48L, 47L: 12149L, 48L: 48365L, 49L: 12469L, 50L: 49716L, 51L: 54338L, 53L: 23114L, 54L: 7081L, 55L: 4784L, 56L: 852L, 57L: 56819L, 58L: 16581L, 59L: 91L, 60L: 1L, 61L: 165L, 62L: 40L, 63L: 34706L, 64L: 3179L, 65L: 46879L, 66L: 5L, 67L: 16129L, 68L: 1406L, 69L: 2L, 70L: 6349L, 71L: 53680L, 72L: 36359L, 73L: 332L, 74L: 3925L, 75L: 33584L, 76L: 27276L, 77L: 2448L, 78L: 26391L, 79L: 93894L, 80L: 13994L, 81L: 19345L, 82L: 40497L, 83L: 76251L, 84L: 8341L, 85L: 7255L, 86L: 1046L, 87L: 5756L, 88L: 6147L, 89L: 2039L, 90L: 4L, 91L: 16045L, 92L: 13995L, 93L: 17024L, 94L: 34049L, 95L: 2006L, 96L: 5L, 97L: 68387L, 98L: 45874L, 99L: 295437L, 100L: 20012L, 101L: 13627L, 102L: 16786L, 103L: 1911L, 104L: 18667L, 105L: 29L, 106L: 14884L, 107L: 12715L, 108L: 62226L, 109L: 67437L, 110L: 17546L, 111L: 17074L, 112L: 12911L, 113L: 35667L, 114L: 40311L, 115L: 2299L, 116L: 20242L, 117L: 30024L, 118L: 26482L, 119L: 80754L, 120L: 7105L, 121L: 2198L, 122L: 16645L, 123L: 15417L, 124L: 14402L, 125L: 6L, 126L: 97768L, 127L: 18522L, 128L: 9471L, 129L: 10637L, 130L: 47625L, 131L: 4080L, 132L: 77955L, 133L: 41609L, 134L: 156375L, 135L: 41222L, 136L: 12917L, 137L: 16441L, 138L: 58033L, 139L: 38080L, 140L: 131955L, 141L: 26257L, 143L: 68439L, 144L: 136496L, 145L: 118386L, 146L: 5988L, 147L: 48884L, 148L: 14911L, 149L: 24870L, 150L: 53603L, 151L: 24462L, 152L: 16214L, 153L: 114474L, 154L: 15946L, 155L: 50006L, 156L: 60061L, 157L: 379L, 158L: 1L, 159L: 1289L, 160L: 127889L, 161L: 51235L, 162L: 919L, 163L: 1810L, 164L: 2070L, 165L: 62773L, 166L: 68544L, 167L: 39019L, 169L: 1084L, 170L: 9962L, 171L: 6843L, 172L: 3627L, 173L: 8L, 174L: 25268L, 175L: 79422L, 176L: 56258L, 177L: 6089L, 178L: 47355L, 179L: 65305L, 180L: 97418L, 181L: 14251L, 182L: 42602L, 183L: 3731L, 184L: 10193L, 185L: 20163L, 186L: 752L, 187L: 14493L, 188L: 20119L, 189L: 47129L, 190L: 26819L, 191L: 46587L, 192L: 10632L, 193L: 27607L, 194L: 453004L, 195L: 7996L, 196L: 29323L, 197L: 5411L, 198L: 42356L, 199L: 3540L, 200L: 35149L, 201L: 8077L, 202L: 8975L, 203L: 4385L, 204L: 69844L, 205L: 16L, 206L: 242L, 207L: 26037L, 208L: 4L, 209L: 32081L, 210L: 35610L, 211L: 14066L, 212L: 85903L, 213L: 24L, 214L: 51436L, 215L: 999L, 216L: 57639L, 217L: 3144L, 218L: 81046L, 219L: 10L, 220L: 35L, 221L: 101398L, 222L: 25469L, 223L: 6L, 224L: 48230L, 225L: 22374L, 226L: 135386L, 227L: 7L, 228L: 3231L, 229L: 65529L, 230L: 24759L, 231L: 2L, 232L: 10818L, 233L: 6883L, 234L: 22980L, 235L: 54054L, 236L: 2134L, 237L: 812L, 238L: 58825L, 239L: 40167L, 240L: 32472L, 241L: 1L, 242L: 21765L, 243L: 98695L, 244L: 19736L, 245L: 35279L, 246L: 1L, 247L: 87558L, 248L: 5L, 249L: 1L, 250L: 2L, 251L: 6L, 252L: 204952L, 253L: 123769L, 254L: 53L, 255L: 10748L, 256L: 3L, 257L: 36761L, 258L: 7994L, 259L: 4633L, 260L: 6170L, 261L: 1988L, 262L: 68259L, 263L: 469L, 264L: 4477L, 265L: 50781L, 266L: 3304L, 267L: 26920L, 268L: 15703L, 269L: 30L, 270L: 43606L, 271L: 36867L, 272L: 34651L, 273L: 14431L, 274L: 195947L, 275L: 21L, 276L: 30948L, 277L: 10L, 278L: 38711L, 279L: 6430L, 280L: 16L, 281L: 147L, 282L: 10L, 283L: 373L, 284L: 1680L, 285L: 16630L, 286L: 11712L, 287L: 69L, 288L: 173L, 289L: 311673L, 290L: 618L, 291L: 13192L, 292L: 101L, 293L: 16775L, 294L: 19939L, 295L: 39027L, 296L: 44987L, 297L: 26333L, 298L: 96466L, 299L: 51164L, 300L: 742L, 301L: 37510L, 302L: 8309L, 303L: 49L, 304L: 85415L, 305L: 28595L, 306L: 15750L, 307L: 2067L, 308L: 7840L, 309L: 21034L, 310L: 24737L, 311L: 3332L, 312L: 2365L, 313L: 83542L, 314L: 818L, 315L: 87261L, 316L: 8486L, 317L: 142860L, 318L: 466L, 319L: 31L, 320L: 25980L, 321L: 12768L, 322L: 30L, 323L: 1237L, 324L: 187957L, 325L: 43707L, 326L: 10185L, 327L: 167752L, 328L: 13122L, 329L: 11427L, 330L: 120242L, 331L: 90290L, 332L: 4885L, 333L: 146066L, 334L: 3632L, 335L: 93323L, 336L: 524144L, 337L: 36218L, 338L: 2297L, 339L: 92221L, 340L: 2092L, 341L: 36865L, 342L: 25543L, 343L: 1837L, 344L: 210099L, 345L: 8420L, 346L: 2911L, 347L: 208L, 348L: 4879L, 349L: 27276L, 350L: 44333L, 351L: 21511L, 352L: 14825L, 353L: 18289L, 354L: 3463L, 355L: 34644L, 356L: 486L, 357L: 4305L, 358L: 7661L, 359L: 3L, 360L: 123277L, 361L: 126901L, 362L: 10L, 363L: 43639L, 364L: 45795L, 365L: 61121L, 366L: 3633L, 367L: 23202L, 368L: 31294L, 369L: 18402L, 370L: 70153L, 371L: 45050L, 372L: 2032L, 373L: 9L, 374L: 268L, 375L: 147L, 376L: 78782L, 377L: 4878L, 378L: 1893L, 379L: 1L, 380L: 1660L, 381L: 16071L, 382L: 136702L, 383L: 39171L, 384L: 285L, 385L: 47955L, 386L: 50946L, 387L: 16128L, 388L: 5390L, 389L: 180L, 390L: 36589L, 391L: 53629L, 392L: 5822L, 393L: 4L, 394L: 95738L, 395L: 157L, 396L: 11111L, 397L: 11287L, 398L: 74140L, 399L: 140909L, 400L: 14472L, 401L: 99093L, 402L: 100943L, 403L: 119558L, 404L: 202L, 405L: 9899L, 406L: 49161L, 407L: 16469L, 408L: 298802L, 409L: 584L, 410L: 8239L, 411L: 8L, 412L: 17L, 413L: 43064L, 414L: 11073L, 415L: 34977L, 416L: 14L, 417L: 20110L, 418L: 119994L, 419L: 7398L, 420L: 4368L, 421L: 22908L, 423L: 14202L, 424L: 111505L, 425L: 5886L, 426L: 7993L, 427L: 3742L, 428L: 2160L, 429L: 2735L, 430L: 11L, 431L: 104320L, 432L: 3310L, 433L: 4687L, 434L: 8115L, 435L: 3L, 436L: 4L, 437L: 1802L, 438L: 73264L, 439L: 79382L, 440L: 107830L, 441L: 4L, 442L: 74480L, 443L: 49278L, 444L: 30643L, 445L: 148859L, 446L: 2916L, 447L: 49128L, 448L: 11237L, 449L: 52689L, 450L: 8157L, 451L: 68203L, 452L: 779L, 453L: 785L, 454L: 16L, 455L: 12615L, 456L: 9708L, 457L: 122293L, 459L: 6032L, 460L: 19459L, 461L: 3050L, 462L: 71961L, 463L: 73788L, 464L: 187012L, 465L: 16L, 466L: 204607L, 467L: 9L, 468L: 55112L, 469L: 15513L, 470L: 5128L, 471L: 91787L, 472L: 2270L, 473L: 30L, 474L: 223L, 475L: 85220L, 476L: 144L, 477L: 20536L, 478L: 431L, 479L: 59649L, 480L: 18658L, 481L: 140565L, 482L: 86341L, 483L: 190502L, 484L: 131772L, 485L: 4L, 486L: 11L, 487L: 173986L, 488L: 284L, 489L: 78976L, 490L: 18L, 491L: 51932L, 492L: 249L, 493L: 4922L, 494L: 12801L, 495L: 14021L, 496L: 4L, 497L: 32083L, 498L: 76744L, 499L: 17L, 500L: 304L, 501L: 735L, 502L: 37L, 503L: 70L, 504L: 969L, 505L: 48901L, 506L: 101590L, 507L: 18654L, 508L: 79629L, 509L: 14265L, 510L: 32476L, 511L: 30539L, 512L: 5L, 513L: 873L, 514L: 40038L, 515L: 46L, 516L: 12930L, 517L: 31L, 518L: 1389L, 519L: 2L, 520L: 5909L, 521L: 7428L, 522L: 19729L, 523L: 26132L, 524L: 66L, 525L: 7775L, 526L: 1242L, 527L: 3293L, 528L: 6044L, 529L: 14404L, 530L: 28238L, 531L: 163652L, 532L: 3832L, 533L: 280L, 534L: 104L, 535L: 2881L, 536L: 3252L, 537L: 81984L, 538L: 54170L, 539L: 74123L, 540L: 9313L, 541L: 9842L, 542L: 585L, 543L: 38116L, 544L: 2938L, 545L: 136368L, 546L: 74618L, 547L: 3941L, 548L: 2L, 549L: 6408L, 550L: 6034L, 551L: 27743L, 552L: 1L, 553L: 15770L, 554L: 18241L, 555L: 3488L, 556L: 77212L, 557L: 107089L, 558L: 31954L, 559L: 86589L, 560L: 24243L, 561L: 28681L, 562L: 43053L, 563L: 14118L, 564L: 153L, 565L: 20222L, 566L: 36258L, 567L: 36265L, 568L: 84143L, 569L: 77L, 570L: 37329L, 571L: 52656L, 572L: 18546L, 573L: 288L, 574L: 10L, 575L: 1L, 576L: 15152L, 577L: 54052L, 578L: 10L, 579L: 34209L, 580L: 33602L, 581L: 3L, 582L: 18835L, 583L: 136L, 584L: 61835L, 585L: 10008L, 586L: 1768L, 587L: 3996L, 588L: 21823L, 589L: 146860L, 590L: 11829L, 591L: 32498L, 593L: 46151L, 594L: 2510L, 595L: 4L, 596L: 1139L, 597L: 34418L, 598L: 6393L, 599L: 28L, 600L: 14645L, 601L: 5257L, 602L: 4529L, 603L: 34789L, 604L: 43078L, 605L: 734L, 606L: 15276L, 607L: 4159L, 608L: 162556L, 609L: 4L, 610L: 121204L, 611L: 67L, 612L: 17649L, 613L: 13680L, 614L: 3604L, 615L: 8L, 616L: 66464L, 617L: 14373L, 618L: 35701L, 619L: 23240L, 620L: 199467L, 621L: 520L, 622L: 2L, 623L: 17392L, 624L: 6L, 625L: 3L, 626L: 149L, 627L: 93L, 628L: 5902L, 629L: 9L, 630L: 148L, 631L: 11633L, 632L: 33653L, 633L: 931L, 634L: 44805L, 635L: 102290L, 636L: 2135L, 637L: 296L, 638L: 165152L, 639L: 8589L, 640L: 18356L, 641L: 7981L, 642L: 2715L, 644L: 7768L, 645L: 21781L, 646L: 2L, 647L: 22444L, 648L: 10452L, 649L: 3124L, 650L: 996L, 651L: 8055L, 652L: 115457L, 653L: 6804L, 654L: 146167L, 655L: 37816L, 656L: 12456L, 657L: 63293L, 658L: 9004L, 659L: 62255L, 660L: 151L, 661L: 2577L, 662L: 376130L, 663L: 14L, 664L: 2128L, 665L: 18778L, 666L: 2345L, 667L: 10861L, 668L: 2374L, 669L: 15L, 670L: 13757L, 671L: 81531L, 672L: 60548L, 673L: 47788L, 674L: 6579L, 675L: 36097L, 676L: 8419L, 677L: 4478L, 678L: 21181L, 679L: 5575L, 680L: 13651L, 681L: 49185L, 682L: 70427L, 683L: 5079L, 684L: 148L, 685L: 4124L, 686L: 63359L, 687L: 65L, 688L: 448L, 689L: 37083L, 690L: 8646L, 691L: 76285L, 692L: 172241L, 693L: 13470L, 694L: 3L, 695L: 82706L, 696L: 99711L, 697L: 28048L, 698L: 33953L, 699L: 46066L, 700L: 11497L, 701L: 26499L, 702L: 23512L, 703L: 78972L, 704L: 157627L, 705L: 554L, 706L: 3745L, 707L: 11L, 709L: 237646L, 710L: 22667L, 711L: 68L, 712L: 31580L, 713L: 4L, 714L: 31935L, 715L: 18282L, 716L: 28075L, 717L: 21922L, 718L: 40351L, 719L: 46300L, 720L: 170910L, 721L: 3L, 722L: 68221L, 723L: 154965L, 724L: 644L, 725L: 55841L, 726L: 2579L, 727L: 20798L, 728L: 14111L, 729L: 25722L, 730L: 28914L, 731L: 16803L, 732L: 73540L, 733L: 9211L, 734L: 21699L, 735L: 6495L, 736L: 37269L, 737L: 3909L, 738L: 9732L, 739L: 88911L, 740L: 4785L, 741L: 52400L, 742L: 1647L, 743L: 256561L, 744L: 33704L, 745L: 70928L, 746L: 132076L, 747L: 5629L, 748L: 6054L, 749L: 32162L, 750L: 226707L, 751L: 106L, 752L: 10117L, 753L: 3747L, 754L: 39955L, 755L: 48424L, 756L: 37751L, 757L: 100460L, 758L: 2075L, 759L: 14199L, 760L: 22875L, 761L: 386316L, 762L: 213786L, 763L: 4819L, 764L: 23L, 765L: 137436L, 767L: 66509L, 768L: 30L, 769L: 17218L, 770L: 7667L, 771L: 64433L, 772L: 36941L, 773L: 100796L, 774L: 79921L, 775L: 645L, 776L: 36L, 777L: 17998L, 778L: 60289L, 779L: 11377L, 780L: 41L, 781L: 42912L, 782L: 266L, 783L: 270347L, 784L: 1633L, 785L: 25190L, 786L: 1417L, 787L: 751L, 788L: 21280L, 789L: 7949L, 790L: 15L, 791L: 64170L, 792L: 10955L, 793L: 175600L, 794L: 58531L, 795L: 8531L, 796L: 96375L, 797L: 86756L, 798L: 34529L, 799L: 1808L, 800L: 6005L, 801L: 59232L, 802L: 2709L, 803L: 75L, 804L: 8901L, 805L: 248182L, 806L: 833L, 807L: 1799L, 808L: 129202L, 809L: 35063L, 810L: 10L, 811L: 26004L, 812L: 23363L, 813L: 5L, 814L: 3313L, 815L: 5004L, 816L: 53557L, 817L: 1423L, 818L: 27817L, 819L: 130573L, 820L: 1280L, 821L: 6900L, 822L: 5169L, 823L: 31140L, 824L: 49264L, 825L: 1L, 826L: 4404L, 827L: 72L, 828L: 35L, 829L: 66L, 830L: 115660L, 831L: 1504L, 832L: 84789L, 833L: 12113L, 834L: 55157L, 836L: 4784L, 837L: 3804L, 838L: 1204L, 839L: 4308L, 840L: 3083L, 841L: 78024L, 842L: 7L, 843L: 10L, 844L: 52L, 845L: 1L, 846L: 8509L, 847L: 14034L, 848L: 36716L, 849L: 40078L, 850L: 2258L, 851L: 19542L, 852L: 48839L, 853L: 25901L, 854L: 39518L, 855L: 2204L, 856L: 80L, 857L: 3892L, 858L: 3100L, 859L: 19998L, 860L: 19661L, 861L: 118461L, 862L: 44044L, 863L: 110864L, 864L: 4318L, 865L: 62294L, 866L: 95402L, 867L: 7402L, 868L: 44232L, 869L: 77381L, 870L: 12320L, 871L: 39L, 872L: 31345L, 873L: 34456L, 874L: 1108L, 875L: 43732L, 876L: 263L, 877L: 7559L, 878L: 22537L, 879L: 36387L, 880L: 137811L, 881L: 55642L, 882L: 13975L, 883L: 78069L, 884L: 105848L, 885L: 21920L, 887L: 200159L, 888L: 17551L, 889L: 4856L, 890L: 100322L, 891L: 41444L, 892L: 50837L, 893L: 32823L, 894L: 2264L, 895L: 8914L, 896L: 1244L, 897L: 107535L, 898L: 52297L, 899L: 9807L, 900L: 25813L, 901L: 3478L, 902L: 101405L, 903L: 54227L, 904L: 2297L, 905L: 88948L, 906L: 74534L, 907L: 100159L, 908L: 1L, 909L: 60151L, 910L: 3476L, 911L: 97505L, 912L: 67286L, 913L: 1590L, 914L: 1653L, 915L: 33162L, 916L: 788L, 917L: 12458L, 918L: 28144L, 919L: 104160L, 920L: 32551L, 921L: 1501L, 922L: 6062L, 923L: 39607L, 924L: 3L, 925L: 2L, 926L: 50843L, 927L: 17L, 928L: 9915L, 929L: 61L, 930L: 12943L, 931L: 114998L, 932L: 6731L, 933L: 35331L, 934L: 621L, 935L: 45698L, 936L: 16709L, 937L: 35624L, 938L: 78837L, 939L: 223L, 940L: 199224L, 941L: 452L, 942L: 4940L, 943L: 1801L, 944L: 7L, 945L: 6424L, 946L: 25639L, 947L: 50336L, 948L: 6L, 949L: 35038L, 950L: 11875L, 951L: 1217L, 952L: 16278L, 953L: 9L, 954L: 162L, 955L: 39860L, 956L: 3611L, 957L: 7466L, 958L: 7516L, 959L: 12779L, 960L: 1975L, 961L: 37439L, 962L: 145148L, 963L: 9074L, 964L: 15287L, 965L: 927L, 966L: 67921L, 967L: 1507L, 968L: 30263L, 969L: 39L, 970L: 20L, 971L: 68L, 972L: 14290L, 973L: 125829L, 974L: 361440L, 975L: 105582L, 976L: 2918L, 977L: 12126L, 978L: 5L, 979L: 13416L, 981L: 44793L, 982L: 323606L, 983L: 51112L, 984L: 23540L, 985L: 73450L, 986L: 20225L, 987L: 138005L, 988L: 45541L, 989L: 118277L, 990L: 2L, 991L: 38322L, 992L: 3267L, 994L: 30915L, 995L: 2L, 996L: 1831L, 997L: 56159L, 998L: 64136L, 999L: 5927L, 1000L: 339L, 1001L: 14L, 1002L: 4321L, 1003L: 2517L, 1004L: 134644L, 1005L: 149143L, 1006L: 264L, 1007L: 4L, 1008L: 94L, 1009L: 18494L, 1010L: 5L, 1011L: 6207L, 1012L: 13L, 1013L: 219L, 1014L: 22304L, 1015L: 295L, 1016L: 65118L, 1017L: 92503L, 1018L: 6282L, 1019L: 108235L, 1020L: 12667L, 1021L: 114197L, 1022L: 310933L, 1023L: 61240L, 1024L: 20008L, 1025L: 29818L, 1026L: 46709L, 1027L: 90793L, 1028L: 2234L, 1029L: 38680L, 1030L: 42928L, 1031L: 71195L, 1032L: 5L, 1033L: 19476L, 1034L: 94032L, 1035L: 1618L, 1036L: 13L, 1037L: 15L, 1038L: 6685L, 1039L: 17706L, 1040L: 39920L, 1041L: 81635L, 1042L: 9610L, 1043L: 5563L, 1044L: 9347L, 1045L: 13905L, 1046L: 216L, 1047L: 954L, 1048L: 305L, 1049L: 2L, 1050L: 22948L, 1051L: 135L, 1052L: 87322L, 1053L: 21296L, 1054L: 29749L, 1055L: 17456L, 1056L: 1L, 1057L: 19661L, 1058L: 1642L, 1059L: 3478L, 1060L: 5638L, 1061L: 52433L, 1062L: 26418L, 1063L: 51495L, 1064L: 1072L, 1065L: 97949L, 1066L: 20976L, 1067L: 774L, 1068L: 19997L, 1069L: 16950L, 1070L: 914L, 1071L: 2048L, 1072L: 7943L, 1073L: 6487L, 1074L: 24513L, 1075L: 15846L, 1076L: 63794L, 1077L: 51670L, 1078L: 117574L, 1079L: 29576L, 1080L: 10042L, 1081L: 22239L, 1082L: 7946L, 1083L: 55083L, 1085L: 43537L, 1086L: 199L, 1087L: 16583L, 1088L: 62L, 1089L: 4193L, 1090L: 54258L, 1092L: 5220L, 1093L: 30004L, 1094L: 2952L, 1095L: 55881L, 1096L: 232666L, 1097L: 4L, 1098L: 4386L, 1099L: 7612L, 1100L: 930L, 1101L: 2372L, 1102L: 11250L, 1103L: 209L, 1104L: 16L, 1105L: 41748L, 1106L: 34101L, 1107L: 24776L, 1108L: 1715L, 1109L: 651L, 1110L: 69228L, 1111L: 407L, 1112L: 20151L, 1113L: 5911L, 1114L: 23072L, 1115L: 17503L, 1116L: 30811L, 1117L: 52726L, 1118L: 1420L, 1119L: 15498L, 1120L: 2916L, 1121L: 34113L, 1122L: 13350L, 1123L: 10945L, 1124L: 2105L, 1125L: 27153L, 1126L: 30222L, 1127L: 14758L, 1128L: 1454L, 1129L: 2L, 1130L: 11111L, 1131L: 7138L, 1132L: 1583L, 1133L: 55L, 1134L: 6L, 1135L: 8L, 1136L: 118L, 1137L: 146852L, 1138L: 39L, 1139L: 2889L, 1140L: 29781L, 1141L: 17402L, 1142L: 4L, 1143L: 7824L, 1144L: 32230L, 1145L: 23916L, 1146L: 66L, 1147L: 103626L, 1148L: 23L, 1149L: 2218L, 1150L: 9L, 1151L: 1201L, 1152L: 3169L, 1153L: 2959L, 1154L: 24797L, 1155L: 131092L, 1156L: 1980L, 1157L: 2L, 1158L: 9L, 1159L: 50229L, 1160L: 13762L, 1161L: 16075L, 1162L: 186226L, 1163L: 1L, 1164L: 121857L, 1165L: 11357L, 1166L: 50L, 1167L: 44641L, 1168L: 3651L, 1169L: 337L, 1170L: 39213L, 1171L: 169791L, 1172L: 85517L, 1173L: 11873L, 1174L: 109321L, 1175L: 10564L, 1176L: 63L, 1177L: 174L, 1178L: 4320L, 1179L: 20803L, 1180L: 146L, 1181L: 29443L, 1182L: 9894L, 1183L: 4936L, 1184L: 19198L, 1185L: 67001L, 1186L: 1188L, 1187L: 88943L, 1188L: 162180L, 1189L: 24953L, 1190L: 23070L, 1191L: 4204L, 1192L: 11L, 1193L: 7910L, 1194L: 740L, 1195L: 5071L, 1196L: 7105L, 1197L: 757L, 1198L: 28812L, 1199L: 6194L, 1200L: 109199L, 1201L: 28583L, 1202L: 94750L, 1203L: 106024L, 1204L: 805L, 1205L: 132700L, 1206L: 51658L, 1207L: 100683L, 1208L: 154266L, 1209L: 109L, 1210L: 32471L, 1211L: 100179L, 1212L: 12L, 1213L: 24514L, 1214L: 39199L, 1215L: 11L, 1216L: 6797L, 1217L: 2838L, 1218L: 30204L, 1219L: 126L, 1220L: 86201L, 1221L: 26971L, 1222L: 123518L, 1223L: 155148L, 1224L: 37419L, 1225L: 40092L, 1226L: 101221L, 1227L: 48585L, 1228L: 59367L, 1229L: 1L, 1230L: 286L, 1231L: 4684L, 1232L: 38236L, 1233L: 23274L, 1234L: 21L, 1235L: 23526L, 1236L: 146863L, 1237L: 58571L, 1238L: 3L, 1239L: 126853L, 1241L: 37219L, 1242L: 80686L, 1243L: 1239L, 1244L: 157L, 1245L: 179695L, 1246L: 5847L, 1247L: 2737L, 1248L: 12139L, 1249L: 17340L, 1250L: 4837L, 1251L: 531L, 1252L: 2L, 1253L: 55318L, 1254L: 66893L, 1255L: 93860L, 1256L: 21479L, 1257L: 70548L, 1258L: 5549L, 1259L: 3932L, 1261L: 144961L, 1262L: 59094L, 1263L: 43401L, 1264L: 1708L, 1265L: 40056L, 1266L: 51945L, 1267L: 25854L, 1268L: 9882L, 1269L: 150L, 1270L: 128L, 1271L: 459L, 1272L: 9325L, 1273L: 1L, 1274L: 2L, 1275L: 23949L, 1276L: 38484L, 1277L: 40305L, 1278L: 635L, 1279L: 12052L, 1280L: 25660L, 1281L: 9L, 1282L: 40751L, 1283L: 60293L, 1284L: 22303L, 1285L: 58082L, 1286L: 2L, 1287L: 10L, 1288L: 19844L, 1289L: 15929L, 1290L: 41761L, 1291L: 82004L, 1292L: 8L, 1293L: 9622L, 1294L: 45884L, 1295L: 42734L, 1296L: 134L, 1297L: 16208L, 1298L: 9253L, 1299L: 34L, 1300L: 509L, 1301L: 84612L, 1302L: 46445L, 1303L: 2388L, 1304L: 5230L, 1305L: 4953L, 1306L: 148407L, 1307L: 39210L, 1308L: 77647L, 1309L: 32453L, 1310L: 227709L, 1311L: 64639L, 1312L: 1857L, 1313L: 11539L, 1314L: 102697L, 1315L: 55171L, 1316L: 262L, 1317L: 2366L, 1318L: 62535L, 1319L: 41L, 1320L: 165035L, 1321L: 54244L, 1322L: 44377L, 1323L: 1L, 1324L: 5582L, 1325L: 174L, 1326L: 34481L, 1327L: 13338L, 1328L: 259L, 1329L: 399L, 1330L: 3692L, 1331L: 18323L, 1332L: 26275L, 1333L: 16854L, 1334L: 166791L, 1335L: 3666L, 1336L: 4516L, 1337L: 21367L, 1338L: 38735L, 1339L: 198482L, 1340L: 72782L, 1341L: 7546L, 1342L: 31782L, 1343L: 109278L, 1344L: 22729L, 1345L: 55466L, 1346L: 24321L, 1347L: 165L, 1348L: 43816L, 1349L: 13694L, 1350L: 6955L, 1351L: 26110L, 1352L: 4700L, 1353L: 56190L, 1354L: 2470L, 1355L: 2L, 1356L: 37202L, 1357L: 18641L, 1358L: 853L, 1359L: 20L, 1360L: 83508L, 1361L: 6L, 1362L: 50L, 1363L: 172L, 1364L: 10812L, 1365L: 1838L, 1366L: 205745L, 1367L: 54669L, 1368L: 8583L, 1369L: 1641L, 1370L: 12732L, 1371L: 72401L, 1372L: 21L, 1373L: 6355L, 1375L: 18507L, 1376L: 1638L, 1377L: 24898L, 1378L: 36L, 1379L: 98566L, 1380L: 73762L, 1381L: 8426L, 1382L: 126156L, 1383L: 1820L, 1384L: 2896L, 1385L: 1093L, 1386L: 24374L, 1387L: 12L, 1388L: 5168L, 1389L: 205L, 1390L: 52693L, 1391L: 8047L, 1392L: 96323L, 1393L: 8195L, 1394L: 73219L, 1395L: 2L, 1396L: 338L, 1397L: 26426L, 1398L: 360L, 1399L: 757L, 1400L: 42957L, 1401L: 13981L, 1402L: 56283L, 1403L: 3932L, 1404L: 2840L, 1405L: 1L, 1406L: 46122L, 1407L: 23941L, 1408L: 23708L, 1409L: 72398L, 1410L: 42L, 1411L: 52473L, 1412L: 37754L, 1413L: 102108L, 1414L: 105656L, 1415L: 46689L, 1416L: 117288L, 1417L: 21832L, 1418L: 115644L, 1419L: 36334L, 1420L: 29161L, 1421L: 74L, 1422L: 26304L, 1423L: 3099L, 1424L: 26061L, 1425L: 37L, 1426L: 13L, 1427L: 63847L, 1428L: 37236L, 1429L: 116957L, 1430L: 9437L, 1431L: 504L, 1432L: 18244L, 1433L: 15151L, 1434L: 59480L, 1435L: 6116L, 1436L: 47L, 1437L: 216L, 1438L: 26399L, 1439L: 21234L, 1440L: 154221L, 1441L: 41522L, 1442L: 104154L, 1443L: 17567L, 1444L: 120288L, 1445L: 59873L, 1446L: 913L, 1447L: 28137L, 1448L: 108056L, 1449L: 94002L, 1450L: 29170L, 1451L: 50294L, 1452L: 8633L, 1453L: 23346L, 1454L: 95721L, 1455L: 338103L, 1456L: 21471L, 1457L: 16606L, 1458L: 5623L, 1459L: 53378L, 1460L: 139072L, 1461L: 11668L, 1462L: 36269L, 1463L: 40L, 1464L: 28455L, 1465L: 33067L, 1466L: 233914L, 1467L: 2L, 1468L: 52488L, 1469L: 9422L, 1470L: 48830L, 1471L: 3535L, 1472L: 856L, 1473L: 86L, 1474L: 125137L, 1475L: 6208L, 1476L: 13587L, 1477L: 109867L, 1478L: 9L, 1479L: 158653L, 1480L: 24673L, 1481L: 22654L, 1482L: 1393L, 1483L: 182L, 1484L: 33288L, 1485L: 115652L, 1486L: 37505L, 1487L: 242520L, 1488L: 2L, 1489L: 8515L, 1490L: 22873L, 1491L: 19798L, 1492L: 136542L, 1493L: 18148L, 1494L: 26610L, 1495L: 97539L, 1496L: 29437L, 1497L: 28757L, 1498L: 3505L, 1499L: 133665L, 1500L: 13L, 1501L: 2L, 1502L: 14L, 1504L: 1222L, 1505L: 741L, 1506L: 13L, 1507L: 22217L, 1509L: 35150L, 1510L: 57406L, 1511L: 95111L, 1512L: 11099L, 1513L: 42933L, 1514L: 36392L, 1515L: 23455L, 1516L: 47904L, 1517L: 2804L, 1518L: 64851L, 1519L: 6207L, 1520L: 7512L, 1521L: 10677L, 1522L: 4L, 1523L: 14442L, 1524L: 6481L, 1525L: 153L, 1526L: 1305L, 1527L: 61528L, 1528L: 31780L, 1529L: 62133L, 1530L: 64815L, 1531L: 45072L, 1532L: 1753L, 1533L: 120L, 1534L: 3073L, 1535L: 2297L, 1536L: 42090L, 1537L: 26L, 1538L: 5418L, 1539L: 2829L, 1540L: 88552L, 1541L: 25128L, 1542L: 29619L, 1543L: 6L, 1544L: 27579L, 1545L: 15168L, 1546L: 11855L, 1547L: 2487L, 1548L: 42L, 1549L: 38L, 1550L: 1L, 1551L: 56666L, 1552L: 4262L, 1553L: 8L, 1554L: 44L, 1555L: 7913L, 1556L: 875L, 1557L: 12L, 1558L: 140L, 1559L: 4L, 1560L: 81970L, 1561L: 8823L, 1562L: 47L, 1563L: 31L, 1564L: 55L, 1566L: 2923L, 1567L: 8850L, 1568L: 35255L, 1569L: 108L, 1570L: 8260L, 1571L: 6745L, 1572L: 6L, 1573L: 18690L, 1574L: 29L, 1575L: 1900L, 1576L: 17L, 1577L: 50577L, 1578L: 3790L, 1579L: 104212L, 1580L: 41421L, 1581L: 431L, 1582L: 23263L, 1583L: 59968L, 1584L: 1784L, 1585L: 21820L, 1586L: 63438L, 1587L: 18136L, 1588L: 71734L, 1589L: 10894L, 1590L: 3209L, 1591L: 43212L, 1592L: 104L, 1593L: 121L, 1594L: 19110L, 1595L: 12633L, 1596L: 392L, 1597L: 45289L, 1598L: 12274L, 1599L: 26280L, 1600L: 5067L, 1601L: 70953L, 1602L: 508L, 1603L: 4909L, 1604L: 189971L, 1605L: 2060L, 1606L: 44939L, 1607L: 175750L, 1608L: 153174L, 1609L: 47521L, 1610L: 9504L, 1611L: 273L, 1612L: 1613L, 1613L: 115014L, 1614L: 1047L, 1615L: 6351L, 1616L: 1426L, 1617L: 61L, 1618L: 8454L, 1619L: 5755L, 1620L: 73185L, 1621L: 4L, 1622L: 67773L, 1623L: 2450L, 1624L: 505L, 1625L: 298582L, 1626L: 1040L, 1627L: 66454L, 1628L: 555L, 1629L: 4L, 1630L: 112920L, 1631L: 1068L, 1632L: 12819L, 1633L: 38089L, 1634L: 6338L, 1635L: 145759L, 1636L: 12L, 1637L: 198L, 1638L: 22997L, 1639L: 74220L, 1640L: 36202L, 1641L: 71268L, 1642L: 4499L, 1643L: 3L, 1644L: 20843L, 1645L: 135106L, 1646L: 39578L, 1647L: 110L, 1648L: 68224L, 1649L: 11363L, 1650L: 32751L, 1651L: 6L, 1652L: 109247L, 1653L: 75179L, 1654L: 97L, 1655L: 36703L, 1656L: 4596L, 1657L: 72266L, 1658L: 3L, 1659L: 126555L, 1660L: 20L, 1661L: 4L, 1662L: 26573L, 1663L: 4L, 1664L: 7525L, 1665L: 8004L, 1666L: 27247L, 1667L: 22121L, 1668L: 75L, 1669L: 125729L, 1670L: 29855L, 1671L: 34236L, 1672L: 121927L, 1673L: 6L, 1674L: 1262L, 1675L: 13167L, 1676L: 17289L, 1677L: 28637L, 1678L: 26813L, 1679L: 20997L, 1680L: 73152L, 1681L: 28922L, 1682L: 6118L, 1683L: 7118L, 1684L: 14729L, 1685L: 82560L, 1686L: 7426L, 1687L: 514L, 1688L: 32263L, 1689L: 39472L, 1690L: 11456L, 1691L: 10939L, 1692L: 40657L, 1693L: 33649L, 1694L: 72729L, 1695L: 770L, 1696L: 49013L, 1697L: 7755L, 1698L: 5471L, 1699L: 61688L, 1700L: 81854L, 1701L: 15536L, 1702L: 26081L, 1703L: 32762L, 1704L: 287L, 1705L: 7L, 1706L: 1L, 1707L: 8993L, 1708L: 9L, 1709L: 6600L, 1710L: 3174L, 1711L: 61586L, 1712L: 1L, 1713L: 52435L, 1714L: 1015L, 1715L: 39L, 1716L: 49102L, 1717L: 32148L, 1718L: 8607L, 1719L: 9L, 1720L: 1L, 1721L: 1792L, 1722L: 24666L, 1723L: 13L, 1724L: 18341L, 1725L: 27L, 1726L: 315L, 1727L: 2754L, 1729L: 138001L, 1730L: 12486L, 1731L: 123L, 1732L: 17L, 1734L: 14873L, 1735L: 19660L, 1736L: 101931L, 1737L: 47998L, 1738L: 48506L, 1739L: 25236L, 1740L: 3L, 1741L: 8631L, 1742L: 636L, 1743L: 1L, 1744L: 10L, 1745L: 4393L, 1746L: 16631L, 1747L: 6388L, 1748L: 3L, 1749L: 16013L, 1750L: 14517L, 1751L: 37233L, 1752L: 7L, 1753L: 23813L, 1754L: 9165L, 1755L: 24265L, 1756L: 37597L, 1757L: 3L, 1758L: 26958L, 1759L: 26198L, 1760L: 6320L, 1761L: 29889L, 1762L: 330L, 1763L: 75993L, 1764L: 74833L, 1765L: 5898L, 1767L: 25433L, 1768L: 15759L, 1769L: 47986L, 1770L: 17061L, 1771L: 1701L, 1772L: 16L, 1773L: 4L, 1774L: 49028L, 1775L: 59350L, 1776L: 12628L, 1777L: 162151L, 1778L: 26L, 1779L: 25442L, 1780L: 3378L, 1781L: 114695L, 1782L: 67622L, 1783L: 45871L, 1784L: 38649L, 1785L: 21511L, 1786L: 23261L, 1787L: 126L, 1788L: 29502L, 1789L: 97009L, 1790L: 26787L, 1791L: 5L, 1792L: 18432L, 1793L: 43178L, 1794L: 21815L, 1795L: 85L, 1796L: 286322L, 1797L: 65723L, 1798L: 5597L, 1799L: 4227L, 1800L: 45333L, 1801L: 89415L, 1802L: 19787L, 1803L: 26687L, 1804L: 2352L, 1805L: 64437L, 1806L: 42832L, 1807L: 2417L, 1809L: 82351L, 1810L: 10310L, 1811L: 11L, 1812L: 5136L, 1813L: 492L, 1814L: 29899L, 1815L: 2070L, 1816L: 59985L, 1817L: 152637L, 1818L: 33440L, 1819L: 43769L, 1820L: 8415L, 1821L: 11663L, 1822L: 12292L, 1823L: 1771L, 1824L: 193885L, 1825L: 215988L, 1826L: 21L, 1827L: 845L, 1829L: 914L, 1830L: 64654L, 1831L: 50L, 1832L: 11630L, 1833L: 200L, 1834L: 3206L, 1835L: 5151L, 1836L: 21781L, 1838L: 4289L, 1839L: 1931L, 1840L: 15620L, 1841L: 1L, 1842L: 18496L, 1843L: 66511L, 1844L: 2407L, 1845L: 32646L, 1846L: 20630L, 1847L: 48545L, 1848L: 249564L, 1849L: 12375L, 1850L: 12112L, 1851L: 14136L, 1852L: 3152L, 1853L: 22705L, 1854L: 86L, 1855L: 77030L, 1856L: 40156L, 1857L: 2L, 1858L: 137L, 1859L: 1408L, 1860L: 31212L, 1861L: 17702L, 1862L: 787L, 1863L: 29805L, 1864L: 46488L, 1865L: 73342L, 1866L: 3415L, 1867L: 65783L, 1868L: 33953L, 1869L: 50844L, 1870L: 36L, 1871L: 1609L, 1872L: 5L, 1873L: 45523L, 1874L: 39L, 1875L: 2121L, 1876L: 2738L, 1877L: 14120L, 1878L: 42656L, 1879L: 2L, 1880L: 38405L, 1881L: 4L, 1882L: 38930L, 1883L: 1L, 1884L: 8596L, 1885L: 169960L, 1886L: 8704L, 1887L: 112L, 1888L: 247L, 1889L: 123287L, 1890L: 23300L, 1891L: 31954L, 1892L: 1568L, 1893L: 4344L, 1894L: 238L, 1895L: 4232L, 1896L: 20684L, 1897L: 51942L, 1898L: 2424L, 1899L: 4833L, 1900L: 66897L, 1901L: 75407L, 1902L: 6L, 1903L: 22L, 1904L: 35L, 1905L: 2L, 1906L: 1932L, 1907L: 1L, 1908L: 4L, 1909L: 2111L, 1910L: 79L, 1911L: 11260L, 1912L: 58309L, 1913L: 10822L, 1914L: 116679L, 1915L: 33921L, 1916L: 4147L, 1917L: 44L, 1918L: 14L, 1919L: 8024L, 1920L: 14L, 1921L: 1129L, 1922L: 86489L, 1923L: 51055L, 1924L: 9645L, 1925L: 19004L, 1927L: 17493L, 1928L: 1497L, 1929L: 91801L, 1930L: 19963L, 1931L: 3L, 1932L: 32747L, 1933L: 2662L, 1934L: 6L, 1935L: 49905L, 1936L: 34637L, 1937L: 2L, 1939L: 3L, 1940L: 5823L, 1941L: 213L, 1942L: 33453L, 1943L: 155L, 1944L: 258L, 1945L: 1812L, 1946L: 58L, 1947L: 14836L, 1948L: 2231L, 1949L: 38416L, 1950L: 29361L, 1951L: 1223L, 1952L: 7222L, 1953L: 20889L, 1954L: 57826L, 1955L: 37228L, 1956L: 2516L, 1957L: 129L, 1958L: 38815L, 1959L: 805L, 1960L: 6L, 1961L: 33641L, 1962L: 2L, 1963L: 66144L, 1964L: 159L, 1965L: 4073L, 1966L: 331L, 1967L: 22681L, 1968L: 34412L, 1969L: 65547L, 1970L: 105L, 1971L: 5137L, 1972L: 9726L, 1973L: 34255L, 1974L: 43761L, 1975L: 5904L, 1976L: 17200L, 1977L: 38780L, 1978L: 12756L, 1979L: 19020L, 1980L: 12313L, 1981L: 190L, 1982L: 4139L, 1983L: 4732L, 1984L: 14753L, 1985L: 10602L, 1986L: 157L, 1987L: 3L, 1988L: 8593L, 1989L: 407L, 1990L: 30758L, 1991L: 3730L, 1992L: 814L, 1993L: 49947L, 1994L: 11L, 1995L: 15003L, 1996L: 354L, 1997L: 6434L, 1998L: 30668L, 1999L: 11923L, 2000L: 88149L, 2001L: 14105L, 2002L: 206L, 2003L: 624L, 2004L: 28650L, 2005L: 802L, 2006L: 1L, 2007L: 4L, 2008L: 35474L, 2009L: 81L, 2010L: 64L, 2011L: 12196L, 2012L: 24663L, 2013L: 9292L, 2014L: 15246L, 2015L: 2L, 2016L: 7142L, 2017L: 8913L, 2018L: 50495L, 2019L: 7L, 2020L: 68504L, 2021L: 2464L, 2022L: 8L, 2023L: 185525L, 2024L: 49L, 2025L: 2984L, 2026L: 1815L, 2027L: 27628L, 2028L: 36285L, 2029L: 2010L, 2030L: 24671L, 2031L: 14L, 2033L: 13737L, 2034L: 44109L, 2035L: 13891L, 2036L: 9L, 2037L: 55561L, 2038L: 3306L, 2039L: 122L, 2040L: 7094L, 2041L: 144L, 2042L: 8L, 2043L: 32275L, 2044L: 21347L, 2045L: 19L, 2046L: 3544L, 2047L: 21900L, 2048L: 3L, 2049L: 9962L, 2050L: 45963L, 2051L: 109857L, 2052L: 1584L, 2053L: 6763L, 2054L: 1275L, 2055L: 38761L, 2056L: 30174L, 2057L: 5L, 2058L: 733L, 2059L: 30L, 2060L: 22913L, 2061L: 132002L, 2062L: 2000L, 2063L: 1L, 2064L: 13636L, 2065L: 3814L, 2066L: 3385L, 2067L: 8316L, 2068L: 5L, 2069L: 53L, 2070L: 66L, 2071L: 45012L, 2072L: 1L, 2073L: 261L, 2074L: 3725L, 2075L: 15959L, 2076L: 41492L, 2077L: 48035L, 2078L: 14L, 2079L: 95959L, 2080L: 32371L, 2081L: 662L, 2082L: 61816L, 2083L: 23374L, 2084L: 103342L, 2085L: 22542L, 2086L: 46516L, 2087L: 5361L, 2088L: 80575L, 2089L: 4L, 2090L: 78067L, 2091L: 14976L, 2092L: 33996L, 2093L: 23057L, 2094L: 12818L, 2095L: 434L, 2096L: 7760L, 2097L: 73147L, 2098L: 31824L, 2099L: 60379L, 2100L: 1711L, 2101L: 33709L, 2102L: 9390L, 2103L: 5607L, 2104L: 22260L, 2105L: 42531L, 2106L: 99248L, 2107L: 19917L, 2108L: 17978L, 2109L: 76768L, 2110L: 108642L, 2111L: 62194L, 2112L: 58608L, 2113L: 7020L, 2114L: 42238L, 2115L: 14814L, 2116L: 10839L, 2117L: 1L, 2118L: 1173L, 2119L: 24029L, 2120L: 4579L, 2121L: 19859L, 2122L: 1L, 2123L: 37735L, 2124L: 5598L, 2125L: 11333L, 2126L: 224072L, 2127L: 5L, 2128L: 27348L, 2129L: 8L, 2130L: 7L, 2131L: 7433L, 2132L: 13462L, 2133L: 10L, 2134L: 18010L, 2135L: 13311L, 2136L: 55110L, 2137L: 19214L, 2138L: 50979L, 2139L: 12508L, 2140L: 12472L, 2141L: 58396L, 2142L: 15948L, 2143L: 47533L, 2144L: 69781L, 2145L: 71036L, 2146L: 50171L, 2147L: 40646L, 2148L: 16L, 2149L: 56503L, 2150L: 37956L, 2151L: 362L, 2152L: 81464L, 2153L: 1L, 2154L: 1720L, 2155L: 28792L, 2156L: 1352L, 2157L: 11431L, 2158L: 39017L, 2159L: 123344L, 2160L: 2623L, 2161L: 27230L, 2162L: 10254L, 2163L: 1972L, 2164L: 31808L, 2165L: 19129L, 2166L: 1L, 2167L: 217715L, 2168L: 55053L, 2169L: 61265L, 2170L: 35458L, 2171L: 18113L, 2172L: 17543L, 2173L: 4017L, 2174L: 15744L, 2175L: 57L, 2176L: 3228L, 2177L: 762L, 2178L: 54964L, 2179L: 208808L, 2180L: 3755L, 2181L: 5841L, 2182L: 17287L, 2183L: 16L, 2184L: 46L, 2185L: 38692L, 2186L: 105845L, 2187L: 8084L, 2188L: 61865L, 2189L: 80896L, 2190L: 28090L, 2191L: 70152L, 2192L: 97393L, 2193L: 51316L, 2194L: 131312L, 2195L: 8805L, 2196L: 148088L, 2197L: 25376L, 2198L: 29976L, 2199L: 23805L, 2200L: 57205L, 2201L: 68874L, 2203L: 1687L, 2204L: 7L, 2205L: 25L, 2206L: 31113L, 2207L: 4315L, 2208L: 19752L, 2209L: 1339L, 2210L: 9779L, 2211L: 4L, 2212L: 1202L, 2213L: 29162L, 2214L: 58772L, 2215L: 16109L, 2216L: 190L, 2217L: 31125L, 2218L: 6523L, 2219L: 10939L, 2220L: 26448L, 2221L: 16830L, 2222L: 28038L, 2223L: 62045L, 2224L: 7L, 2225L: 38025L, 2226L: 8825L, 2227L: 1836L, 2228L: 45366L, 2229L: 12484L, 2230L: 21072L, 2231L: 113045L, 2232L: 183L, 2233L: 854L, 2234L: 37212L, 2235L: 16450L, 2236L: 2164L, 2237L: 76L, 2238L: 4289L, 2239L: 2082L, 2240L: 64996L, 2241L: 5002L, 2242L: 295L, 2243L: 123L, 2244L: 1878L, 2245L: 53494L, 2246L: 36L, 2247L: 55618L, 2248L: 18242L, 2249L: 8302L, 2250L: 17938L, 2251L: 15L, 2252L: 199906L, 2253L: 11669L, 2254L: 21722L, 2255L: 3937L, 2256L: 27069L, 2257L: 6L, 2258L: 24035L, 2259L: 6L, 2260L: 9207L, 2261L: 9029L, 2262L: 32495L, 2263L: 399L, 2264L: 34822L, 2265L: 304724L, 2266L: 100037L, 2267L: 41923L, 2268L: 239971L, 2269L: 208L, 2270L: 19578L, 2271L: 19127L, 2272L: 35427L, 2274L: 4440L, 2275L: 603L, 2276L: 40871L, 2277L: 21925L, 2278L: 2425L, 2279L: 130353L, 2280L: 49813L, 2281L: 800L, 2282L: 32686L, 2283L: 71L, 2284L: 950L, 2285L: 1513L, 2286L: 46L, 2287L: 32L, 2288L: 862L, 2289L: 11883L, 2290L: 2L, 2291L: 51149L, 2292L: 110L, 2293L: 2420L, 2294L: 628L, 2295L: 987L, 2296L: 26063L, 2297L: 35413L, 2298L: 99191L, 2299L: 17313L, 2300L: 31735L, 2301L: 63L, 2302L: 1938L, 2303L: 56484L, 2304L: 14663L, 2305L: 161274L, 2306L: 61260L, 2307L: 128788L, 2308L: 3073L, 2309L: 9L, 2310L: 18553L, 2311L: 217L, 2312L: 6L, 2313L: 28935L, 2314L: 12L, 2315L: 29839L, 2316L: 18882L, 2317L: 4371L, 2318L: 8201L, 2319L: 20597L, 2320L: 1851L, 2321L: 214L, 2322L: 36977L, 2323L: 7690L, 2324L: 1L, 2325L: 617L, 2326L: 759L, 2327L: 2224L, 2328L: 3265L, 2329L: 58600L, 2330L: 2954L, 2331L: 96502L, 2332L: 18629L, 2333L: 13L, 2334L: 41058L, 2335L: 138208L, 2336L: 28L, 2337L: 11L, 2338L: 5752L, 2339L: 94689L, 2340L: 86090L, 2341L: 149377L, 2342L: 80031L, 2343L: 16935L, 2344L: 16012L, 2345L: 34700L, 2346L: 90902L, 2347L: 22688L, 2348L: 48374L, 2349L: 51306L, 2350L: 23062L, 2351L: 18924L, 2352L: 279L, 2353L: 1014L, 2354L: 5355L, 2355L: 128179L, 2356L: 18380L, 2357L: 305L, 2358L: 5432L, 2359L: 36538L, 2360L: 45222L, 2361L: 19147L, 2362L: 54909L, 2363L: 44874L, 2364L: 12606L, 2365L: 50573L, 2366L: 3779L, 2367L: 7672L, 2368L: 52302L, 2369L: 22103L, 2370L: 9454L, 2371L: 3538L, 2372L: 74797L, 2373L: 7132L, 2374L: 28163L, 2375L: 3L, 2376L: 7513L, 2377L: 212369L, 2378L: 55040L, 2379L: 1209L, 2380L: 123753L, 2381L: 2114L, 2382L: 51224L, 2383L: 35200L, 2384L: 16829L, 2385L: 142981L, 2386L: 74533L, 2387L: 89815L, 2388L: 28274L, 2389L: 3332L, 2390L: 10425L, 2391L: 102659L, 2392L: 44114L, 2393L: 683L, 2394L: 15224L, 2395L: 84953L, 2396L: 1L, 2397L: 40362L, 2398L: 14L, 2399L: 27504L, 2400L: 184363L, 2401L: 654L, 2402L: 91502L, 2403L: 4L, 2404L: 42935L, 2405L: 6L, 2406L: 91442L, 2407L: 193055L, 2408L: 946L, 2409L: 34152L, 2410L: 653L, 2411L: 32316L, 2412L: 9581L, 2413L: 4L, 2414L: 150262L, 2415L: 36135L, 2416L: 49600L, 2417L: 102768L, 2418L: 57253L, 2419L: 36239L, 2420L: 192870L, 2421L: 9648L, 2422L: 44643L, 2424L: 166282L, 2425L: 16L, 2426L: 9538L, 2427L: 39596L, 2428L: 13125L, 2429L: 31594L, 2430L: 10747L, 2431L: 22L, 2432L: 344L, 2433L: 55610L, 2434L: 688L, 2435L: 20547L, 2436L: 7862L, 2437L: 709L, 2438L: 27210L, 2439L: 55540L, 2440L: 12774L, 2441L: 24970L, 2442L: 29726L, 2443L: 2652L, 2444L: 68423L, 2445L: 22203L, 2446L: 364L, 2447L: 47314L, 2448L: 77236L, 2449L: 92427L, 2450L: 9316L, 2451L: 7351L, 2452L: 17340L, 2453L: 305269L, 2454L: 202476L, 2455L: 246L, 2456L: 13L, 2457L: 1470L, 2458L: 27962L, 2459L: 73703L, 2460L: 26551L, 2461L: 18031L, 2462L: 29625L, 2463L: 69932L, 2464L: 9L, 2465L: 25L, 2466L: 23269L, 2467L: 7676L, 2468L: 118275L, 2469L: 121439L, 2470L: 9322L, 2471L: 52859L, 2472L: 182589L, 2473L: 2895L, 2474L: 16302L, 2475L: 21012L, 2476L: 22052L, 2477L: 1617L, 2478L: 41631L, 2479L: 44188L, 2480L: 21423L, 2481L: 33805L, 2482L: 30739L, 2483L: 25006L, 2484L: 23805L, 2485L: 3L, 2486L: 3L, 2487L: 12L, 2488L: 57725L, 2489L: 19523L, 2490L: 3928L, 2491L: 76285L, 2492L: 82658L, 2493L: 39624L, 2494L: 30296L, 2495L: 122L, 2496L: 4479L, 2497L: 59143L, 2498L: 100196L, 2499L: 113L, 2500L: 3L, 2501L: 1433L, 2502L: 50891L, 2503L: 1007L, 2504L: 8808L, 2505L: 3549L, 2506L: 125L, 2507L: 42595L, 2508L: 211L, 2509L: 12L, 2510L: 74839L, 2511L: 45854L, 2512L: 9321L, 2513L: 64859L, 2514L: 13705L, 2515L: 36L, 2516L: 6405L, 2517L: 13L, 2518L: 12965L, 2519L: 7365L, 2520L: 2707L, 2521L: 98L, 2522L: 3029L, 2523L: 27870L, 2524L: 150L, 2525L: 6L, 2526L: 63092L, 2527L: 116928L, 2528L: 129026L, 2529L: 51594L, 2530L: 32L, 2531L: 4L, 2532L: 12L, 2533L: 3545L, 2534L: 154859L, 2535L: 68L, 2536L: 32560L, 2537L: 2760L, 2538L: 60L, 2539L: 86356L, 2540L: 15L, 2541L: 27967L, 2542L: 90256L, 2543L: 4779L, 2544L: 652L, 2545L: 96L, 2546L: 7299L, 2547L: 6206L, 2548L: 1106L, 2549L: 12324L, 2550L: 8279L, 2551L: 28056L, 2552L: 7970L, 2553L: 28244L, 2554L: 50859L, 2555L: 22707L, 2557L: 33105L, 2558L: 19484L, 2559L: 287733L, 2560L: 33508L, 2561L: 730L, 2562L: 8218L, 2563L: 2709L, 2565L: 24242L, 2566L: 69146L, 2567L: 14374L, 2568L: 183L, 2569L: 12004L, 2570L: 62980L, 2571L: 7325L, 2572L: 6813L, 2573L: 69974L, 2574L: 18L, 2575L: 17800L, 2576L: 8817L, 2577L: 8090L, 2578L: 1977L, 2579L: 4051L, 2580L: 924L, 2581L: 1L, 2582L: 909L, 2583L: 2456L, 2584L: 13656L, 2585L: 8330L, 2586L: 34L, 2587L: 78286L, 2588L: 44L, 2589L: 11275L, 2590L: 164284L, 2591L: 73323L, 2592L: 11221L, 2594L: 1959L, 2595L: 5142L, 2596L: 98480L, 2597L: 638L, 2598L: 33962L, 2599L: 33964L, 2600L: 4780L, 2601L: 1894L, 2602L: 131181L, 2603L: 4L, 2604L: 41L, 2605L: 681L, 2606L: 4828L, 2607L: 2293L, 2608L: 21258L, 2609L: 199L, 2610L: 88906L, 2611L: 47515L, 2612L: 13098L, 2613L: 4915L, 2614L: 52294L, 2615L: 11991L, 2616L: 20633L, 2617L: 46590L, 2618L: 35164L, 2619L: 10519L, 2620L: 1631L, 2621L: 887L, 2622L: 27749L, 2623L: 3L, 2624L: 41479L, 2625L: 41L, 2626L: 17L, 2627L: 149L, 2628L: 1066L, 2629L: 12095L, 2630L: 27425L, 2631L: 102502L, 2632L: 124L, 2633L: 10L, 2634L: 6007L, 2635L: 1L, 2636L: 52151L, 2637L: 6470L, 2638L: 3782L, 2639L: 1L, 2640L: 2353L, 2642L: 169946L, 2643L: 25744L, 2644L: 4118L, 2645L: 5553L, 2646L: 32508L, 2647L: 63753L, 2648L: 52164L, 2649L: 47507L, 2650L: 11481L, 2651L: 64L, 2652L: 25717L, 2653L: 68540L, 2654L: 52719L, 2655L: 29199L, 2656L: 66572L, 2657L: 108195L, 2658L: 45343L, 2659L: 2919L, 2660L: 37411L, 2661L: 390L, 2662L: 547L, 2663L: 6L, 2664L: 10047L, 2665L: 16375L, 2666L: 39481L, 2667L: 58232L, 2668L: 102603L, 2669L: 65364L, 2670L: 17457L, 2671L: 124343L, 2672L: 10L, 2673L: 51514L, 2674L: 6905L, 2675L: 65894L, 2676L: 4L, 2677L: 533L, 2678L: 59314L, 2679L: 72319L, 2680L: 8898L, 2681L: 2844L, 2682L: 639L, 2683L: 64263L, 2684L: 7601L, 2685L: 25601L, 2686L: 118990L, 2687L: 26780L, 2688L: 218510L, 2689L: 38512L, 2690L: 655L, 2691L: 49397L, 2692L: 1472L, 2693L: 571L, 2694L: 118351L, 2695L: 31025L, 2696L: 134L, 2697L: 8198L, 2698L: 14491L, 2699L: 11359L, 2700L: 54299L, 2701L: 230L, 2702L: 4197L, 2703L: 62686L, 2704L: 58044L, 2705L: 17117L, 2706L: 131984L, 2707L: 2303L, 2708L: 52028L, 2709L: 4432L, 2710L: 30767L, 2711L: 18352L, 2712L: 102L, 2713L: 85054L, 2714L: 84266L, 2715L: 36621L, 2716L: 93340L, 2717L: 134149L, 2718L: 74038L, 2719L: 71503L, 2720L: 70197L, 2721L: 22117L, 2722L: 825L, 2723L: 162113L, 2724L: 21656L, 2725L: 396038L, 2726L: 110787L, 2727L: 2109L, 2728L: 87L, 2729L: 153112L, 2730L: 404L, 2731L: 4346L, 2732L: 113764L, 2733L: 21906L, 2734L: 173479L, 2735L: 5318L, 2736L: 49110L, 2737L: 17843L, 2738L: 15948L, 2739L: 4L, 2740L: 69493L, 2741L: 90873L, 2742L: 180L, 2743L: 178174L, 2744L: 13210L, 2745L: 45520L, 2746L: 26940L, 2747L: 17806L, 2748L: 4016L, 2749L: 81320L, 2750L: 47515L, 2751L: 34092L, 2752L: 6449L, 2753L: 74684L, 2754L: 33875L, 2755L: 139L, 2756L: 4785L, 2757L: 2L, 2758L: 2301L, 2759L: 26216L, 2760L: 17264L, 2761L: 73L, 2762L: 26281L, 2763L: 75055L, 2764L: 55694L, 2765L: 55723L, 2766L: 43213L, 2767L: 9610L, 2768L: 69006L, 2769L: 5095L, 2770L: 20052L, 2771L: 34033L, 2772L: 23014L, 2773L: 40638L, 2774L: 27798L, 2775L: 53491L, 2776L: 910L, 2777L: 7410L, 2778L: 11L, 2779L: 109273L, 2780L: 1L, 2781L: 56L, 2782L: 22223L, 2783L: 1683L, 2784L: 48L, 2785L: 73299L, 2786L: 7534L, 2787L: 26797L, 2788L: 2L, 2789L: 26243L, 2790L: 58252L, 2791L: 7921L, 2792L: 1529L, 2793L: 20L, 2794L: 17875L, 2795L: 49886L, 2796L: 2588L, 2797L: 97798L, 2798L: 7553L, 2799L: 2L, 2800L: 82446L, 2801L: 443L, 2802L: 4L, 2803L: 642L, 2804L: 20918L, 2805L: 77L, 2806L: 723L, 2807L: 160L, 2808L: 76632L, 2809L: 3L, 2810L: 15118L, 2811L: 128363L, 2812L: 2172L, 2813L: 7L, 2814L: 2892L, 2815L: 2L, 2816L: 4L, 2817L: 35100L, 2818L: 146L, 2819L: 100043L, 2820L: 105L, 2821L: 10L, 2822L: 13349L, 2823L: 1L, 2824L: 74591L, 2825L: 183159L, 2826L: 108464L, 2827L: 78743L, 2828L: 3293L, 2829L: 10738L, 2830L: 21L, 2831L: 21087L, 2832L: 2327L, 2833L: 22617L, 2834L: 5L, 2835L: 19L, 2836L: 33842L, 2837L: 7338L, 2838L: 54200L, 2839L: 17138L, 2840L: 1922L, 2841L: 120901L, 2842L: 6L, 2843L: 196L, 2844L: 27235L, 2845L: 848L, 2846L: 5L, 2847L: 106856L, 2848L: 22645L, 2849L: 69154L, 2850L: 8949L, 2851L: 143046L, 2852L: 795L, 2853L: 24291L, 2854L: 36796L, 2855L: 8778L, 2856L: 9423L, 2857L: 19972L, 2858L: 64373L, 2859L: 102L, 2860L: 48850L, 2861L: 102127L, 2862L: 63673L, 2863L: 339L, 2864L: 28645L, 2865L: 20538L, 2866L: 195308L, 2867L: 140015L, 2868L: 5464L, 2869L: 76856L, 2870L: 19596L, 2871L: 37335L, 2872L: 37518L, 2873L: 7453L, 2874L: 99836L, 2875L: 3214L, 2876L: 144189L, 2877L: 8241L, 2878L: 33737L, 2879L: 68898L, 2880L: 66984L, 2881L: 7138L, 2882L: 82562L, 2883L: 77463L, 2884L: 2784L, 2885L: 4973L, 2886L: 29274L, 2887L: 3030L, 2888L: 6889L, 2889L: 353L, 2890L: 4964L, 2891L: 6884L, 2892L: 11880L, 2893L: 113264L, 2894L: 1713L, 2895L: 3913L, 2896L: 4662L, 2897L: 72L, 2898L: 98711L, 2899L: 33L, 2900L: 18250L, 2901L: 59877L, 2902L: 2384L, 2903L: 175414L, 2904L: 14121L, 2905L: 219L, 2906L: 68L, 2907L: 3806L, 2908L: 482L, 2909L: 203L, 2910L: 5573L, 2911L: 48642L, 2912L: 36357L, 2913L: 87L, 2914L: 30046L, 2915L: 271L, 2916L: 1174L, 2917L: 39972L, 2918L: 8L, 2919L: 38907L, 2920L: 470269L, 2921L: 8126L, 2922L: 76723L, 2923L: 125908L, 2924L: 3926L, 2925L: 47078L, 2926L: 60524L, 2927L: 1450L, 2928L: 446747L, 2929L: 22212L, 2930L: 780L, 2931L: 9639L, 2932L: 7L, 2933L: 11349L, 2934L: 85541L, 2935L: 45327L, 2936L: 13152L, 2937L: 47364L, 2938L: 67423L, 2939L: 43429L, 2940L: 25131L, 2941L: 6742L, 2942L: 244413L, 2943L: 1384L, 2944L: 49239L, 2945L: 11044L, 2946L: 46079L, 2947L: 122408L, 2948L: 1776L, 2949L: 64127L, 2950L: 25824L, 2951L: 10380L, 2952L: 47644L, 2953L: 10732L, 2954L: 54513L, 2955L: 31709L, 2956L: 9L, 2957L: 122826L, 2958L: 12381L, 2959L: 15012L, 2960L: 9812L, 2961L: 37131L, 2962L: 4473L, 2963L: 10174L, 2964L: 30148L, 2966L: 74235L, 2967L: 23288L, 2968L: 55965L, 2969L: 38028L, 2970L: 52958L, 2971L: 76631L, 2972L: 4065L, 2973L: 35529L, 2974L: 121048L, 2975L: 254575L, 2976L: 29852L, 2977L: 198L, 2978L: 9637L, 2979L: 14L, 2980L: 4L, 2981L: 4L, 2982L: 11837L, 2983L: 26847L, 2984L: 45549L, 2985L: 457L, 2986L: 52163L, 2987L: 15438L, 2988L: 769L, 2989L: 7558L, 2990L: 53171L, 2991L: 98700L, 2992L: 4L, 2993L: 90166L, 2994L: 66L, 2995L: 16112L, 2996L: 4L, 2997L: 2450L, 2998L: 87L, 2999L: 4051L, 3000L: 4569L, 3001L: 33186L, 3002L: 731L, 3003L: 31735L, 3004L: 21590L, 3005L: 60490L, 3006L: 27872L, 3007L: 8446L, 3008L: 4410L, 3009L: 1587L, 3010L: 26675L, 3011L: 2L, 3012L: 86L, 3013L: 431L, 3014L: 48638L, 3015L: 85L, 3016L: 396L, 3017L: 48017L, 3018L: 2497L, 3019L: 8838L, 3020L: 7581L, 3021L: 3L, 3022L: 6L, 3023L: 1L, 3024L: 1L, 3025L: 3927L, 3026L: 1143L, 3027L: 4145L, 3029L: 31815L, 3030L: 341L, 3031L: 129L, 3032L: 106342L, 3033L: 39L, 3034L: 5108L, 3035L: 24847L, 3036L: 1848L, 3037L: 34090L, 3038L: 4L, 3039L: 59424L, 3040L: 9532L, 3041L: 2334L, 3042L: 4473L, 3043L: 6721L, 3044L: 65278L, 3045L: 7439L, 3046L: 3914L, 3047L: 11671L, 3048L: 1397L, 3049L: 52L, 3050L: 8655L, 3051L: 492L, 3052L: 23L, 3053L: 7836L, 3054L: 10644L, 3055L: 40107L, 3056L: 445L, 3057L: 50639L, 3058L: 2329L, 3059L: 7357L, 3060L: 17699L, 3061L: 234433L, 3062L: 41L, 3063L: 88L, 3064L: 33381L, 3065L: 118L, 3066L: 56914L, 3067L: 10771L, 3069L: 6818L, 3070L: 29841L, 3071L: 42610L, 3072L: 224707L, 3073L: 64592L, 3074L: 6615L, 3075L: 79264L, 3076L: 167506L, 3077L: 152L, 3078L: 7002L, 3079L: 11151L, 3080L: 174838L, 3081L: 130553L, 3082L: 86613L, 3083L: 3L, 3084L: 11876L, 3085L: 2377L, 3087L: 9659L, 3088L: 7159L, 3089L: 3L, 3090L: 4158L, 3091L: 1262L, 3092L: 13697L, 3093L: 64765L, 3094L: 196527L, 3095L: 35L, 3096L: 40602L, 3097L: 972L, 3098L: 4845L, 3099L: 62555L, 3100L: 170L, 3101L: 17432L, 3102L: 17246L, 3103L: 13281L, 3104L: 11280L, 3105L: 31882L, 3106L: 32898L, 3107L: 49757L, 3108L: 64082L, 3109L: 85434L, 3110L: 13761L, 3111L: 6709L, 3112L: 19426L, 3113L: 13005L, 3114L: 195953L, 3115L: 21115L, 3116L: 29691L, 3117L: 41952L, 3118L: 21035L, 3119L: 73L, 3120L: 57494L, 3121L: 14079L, 3122L: 40796L, 3123L: 105833L, 3124L: 474L, 3125L: 80319L, 3126L: 21L, 3127L: 81110L, 3128L: 95932L, 3129L: 105543L, 3130L: 29025L, 3131L: 100453L, 3132L: 55799L, 3133L: 161734L, 3134L: 151762L, 3135L: 15391L, 3136L: 42234L, 3137L: 146996L, 3138L: 67522L, 3139L: 24102L, 3140L: 81391L, 3141L: 12313L, 3142L: 240027L, 3143L: 27574L, 3144L: 102488L, 3145L: 24613L, 3146L: 90476L, 3147L: 71236L, 3148L: 53667L, 3149L: 111609L, 3150L: 60145L, 3151L: 15928L, 3152L: 4705L, 3153L: 57112L, 3154L: 11L, 3155L: 86041L, 3156L: 17599L, 3157L: 40223L, 3158L: 39184L, 3159L: 3354L, 3160L: 43004L, 3161L: 58828L, 3162L: 44121L, 3163L: 159282L, 3164L: 27491L, 3165L: 4846L, 3166L: 24593L, 3167L: 5L, 3168L: 181318L, 3169L: 440L, 3170L: 132881L, 3171L: 20692L, 3172L: 18L, 3173L: 90913L, 3174L: 1659L, 3175L: 2256L, 3176L: 646L, 3177L: 3452L, 3178L: 53015L, 3179L: 7380L, 3180L: 3L, 3181L: 8L, 3182L: 52563L, 3183L: 141797L, 3184L: 34541L, 3185L: 63241L, 3186L: 50840L, 3187L: 897L, 3188L: 835L, 3189L: 263L, 3190L: 27069L, 3191L: 9798L, 3192L: 7478L, 3193L: 22493L, 3194L: 145217L, 3195L: 35420L, 3196L: 126218L, 3197L: 38613L, 3198L: 297L, 3199L: 1698L, 3200L: 107990L, 3201L: 9973L, 3202L: 43L, 3203L: 5L, 3204L: 5366L, 3205L: 1752L, 3206L: 30L, 3207L: 111295L, 3208L: 16L, 3209L: 2449L, 3210L: 24083L, 3211L: 15603L, 3212L: 23451L, 3214L: 1304L, 3215L: 4339L, 3216L: 812L, 3217L: 274544L, 3218L: 7800L, 3219L: 56L, 3220L: 40407L, 3221L: 23599L, 3222L: 98125L, 3223L: 44594L, 3224L: 91526L, 3225L: 69687L, 3226L: 4292L, 3227L: 15669L, 3228L: 18132L, 3229L: 33396L, 3230L: 25770L, 3231L: 66573L, 3232L: 952L, 3233L: 25219L, 3234L: 31033L, 3235L: 103421L, 3236L: 23084L, 3237L: 95L, 3238L: 26629L, 3239L: 4012L, 3240L: 54371L, 3241L: 159L, 3242L: 11281L, 3243L: 2210L, 3244L: 11L, 3246L: 4201L, 3247L: 13L, 3248L: 6188L, 3249L: 39L, 3250L: 42934L, 3251L: 106722L, 3252L: 13L, 3253L: 111086L, 3254L: 14086L, 3255L: 2654L, 3256L: 16155L, 3257L: 1308L, 3258L: 604L, 3259L: 15431L, 3260L: 6693L, 3261L: 19806L, 3262L: 90363L, 3263L: 57030L, 3264L: 31701L, 3265L: 212255L, 3266L: 658L, 3267L: 16406L, 3268L: 7102L, 3269L: 9040L, 3270L: 40414L, 3271L: 6732L, 3272L: 100558L, 3273L: 139793L, 3274L: 124479L, 3275L: 234864L, 3276L: 18620L, 3277L: 228L, 3278L: 53L, 3279L: 75084L, 3280L: 55L, 3281L: 85666L, 3282L: 41L, 3283L: 25153L, 3284L: 64358L, 3285L: 134102L, 3286L: 52714L, 3287L: 71695L, 3288L: 3686L, 3289L: 47877L, 3290L: 76809L, 3291L: 1081L, 3292L: 16006L, 3293L: 61824L, 3294L: 204385L, 3295L: 280L, 3296L: 57717L, 3297L: 1044L, 3298L: 48136L, 3299L: 92656L, 3300L: 18L, 3301L: 44L, 3302L: 25488L, 3303L: 12197L, 3304L: 2616L, 3305L: 787L, 3306L: 61011L, 3307L: 23036L, 3308L: 121L, 3309L: 41549L, 3310L: 36077L, 3311L: 43548L, 3312L: 4669L, 3313L: 1259L, 3314L: 3002L, 3315L: 8691L, 3316L: 270L, 3317L: 524L, 3318L: 42L, 3319L: 101136L, 3320L: 49372L, 3321L: 77909L, 3322L: 23L, 3323L: 91955L, 3324L: 3853L, 3325L: 57198L, 3326L: 255479L, 3327L: 70332L, 3328L: 132460L, 3329L: 177521L, 3330L: 3741L, 3331L: 2528L, 3332L: 23158L, 3334L: 2838L, 3335L: 16237L, 3336L: 149383L, 3337L: 24317L, 3338L: 1L, 3339L: 2746L, 3340L: 10L, 3341L: 9387L, 3342L: 34L, 3343L: 20871L, 3344L: 70L, 3345L: 16333L, 3346L: 86409L, 3347L: 41453L, 3348L: 20062L, 3349L: 85866L, 3350L: 39191L, 3351L: 4955L, 3352L: 11L, 3353L: 61979L, 3354L: 57479L, 3355L: 14809L, 3356L: 2645L, 3357L: 9337L, 3358L: 16832L, 3359L: 15949L, 3360L: 47045L, 3361L: 1356L, 3362L: 7209L, 3363L: 103257L, 3364L: 50703L, 3365L: 217661L, 3366L: 192024L, 3367L: 124676L, 3368L: 22855L, 3369L: 62688L, 3370L: 624L, 3371L: 37686L, 3372L: 48L, 3373L: 53514L, 3374L: 2053L, 3375L: 4831L, 3376L: 246142L, 3377L: 8835L, 3378L: 120L, 3379L: 14958L, 3380L: 9540L, 3381L: 9L, 3382L: 45368L, 3383L: 12L, 3384L: 65L, 3385L: 29038L, 3386L: 33006L, 3387L: 120469L, 3388L: 31266L, 3389L: 35059L, 3390L: 24199L, 3391L: 50724L, 3392L: 82662L, 3393L: 57L, 3394L: 91785L, 3395L: 108327L, 3396L: 43635L, 3397L: 38406L, 3398L: 74812L, 3399L: 4424L, 3400L: 4011L, 3401L: 35510L, 3402L: 682L, 3403L: 22889L, 3404L: 97504L, 3405L: 37711L, 3407L: 40943L, 3408L: 37840L, 3409L: 84295L, 3410L: 4060L, 3411L: 7073L, 3412L: 9183L, 3413L: 31529L, 3414L: 16425L, 3415L: 21627L, 3416L: 3084L, 3417L: 2L, 3418L: 7539L, 3419L: 2721L, 3420L: 110831L, 3421L: 112352L, 3422L: 65L, 3423L: 98524L, 3424L: 6L, 3425L: 17235L, 3426L: 28521L, 3427L: 15862L, 3428L: 100954L, 3429L: 2761L, 3430L: 32239L, 3431L: 5069L, 3432L: 2500L, 3433L: 4143L, 3434L: 4721L, 3435L: 1952L, 3436L: 3381L, 3437L: 39002L, 3438L: 110L, 3439L: 406L, 3440L: 87549L, 3441L: 22275L, 3442L: 8811L, 3443L: 10L, 3444L: 759L, 3445L: 119904L, 3446L: 9953L, 3447L: 23655L, 3448L: 196029L, 3449L: 24656L, 3450L: 64855L, 3451L: 96068L, 3452L: 882L, 3453L: 50124L, 3454L: 3115L, 3455L: 8919L, 3456L: 91132L, 3457L: 52388L, 3458L: 17944L, 3459L: 178L, 3460L: 1628L, 3461L: 15L, 3462L: 87701L, 3463L: 96641L, 3464L: 15327L, 3465L: 256L, 3466L: 3568L, 3467L: 29206L, 3468L: 35109L, 3469L: 858L, 3470L: 36470L, 3471L: 745L, 3472L: 2899L, 3473L: 1L, 3474L: 34L, 3475L: 32596L, 3476L: 7L, 3477L: 61238L, 3478L: 82611L, 3479L: 132382L, 3480L: 70L, 3481L: 926L, 3482L: 7867L, 3483L: 17095L, 3484L: 5638L, 3485L: 160L, 3486L: 27156L, 3487L: 57268L, 3488L: 49298L, 3489L: 29743L, 3490L: 20892L, 3491L: 26526L, 3492L: 22L, 3493L: 38500L, 3494L: 80033L, 3495L: 24738L, 3496L: 46227L, 3497L: 37491L, 3498L: 72935L, 3499L: 33297L, 3500L: 63196L, 3501L: 50473L, 3502L: 37192L, 3503L: 39369L, 3504L: 71631L, 3505L: 41934L, 3506L: 1004L, 3507L: 934L, 3508L: 27165L, 3509L: 21927L, 3510L: 102243L, 3511L: 22328L, 3512L: 6362L, 3513L: 32795L, 3514L: 10374L, 3515L: 8865L, 3516L: 136L, 3517L: 878L, 3518L: 7L, 3519L: 925L, 3520L: 1678L, 3521L: 54480L, 3522L: 392L, 3523L: 31207L, 3524L: 6L, 3525L: 7475L, 3526L: 4941L, 3527L: 169094L, 3528L: 31588L, 3529L: 60587L, 3530L: 2567L, 3531L: 72614L, 3532L: 72528L, 3533L: 146278L, 3534L: 14L, 3535L: 772L, 3536L: 8146L, 3537L: 51916L, 3538L: 48548L, 3539L: 13145L, 3540L: 4676L, 3541L: 1683L, 3542L: 9012L, 3543L: 84190L, 3544L: 267120L, 3545L: 27147L, 3546L: 5820L, 3547L: 3379L, 3548L: 96655L, 3549L: 24480L, 3550L: 14122L, 3551L: 53245L, 3552L: 13312L, 3553L: 173571L, 3554L: 11705L, 3555L: 205889L, 3556L: 3L, 3557L: 8527L, 3558L: 17553L, 3559L: 5006L, 3560L: 27619L, 3561L: 5606L, 3562L: 5155L, 3563L: 7799L, 3564L: 70235L, 3565L: 162150L, 3566L: 833L, 3567L: 8054L, 3568L: 19051L, 3569L: 29701L, 3570L: 176086L, 3571L: 138583L, 3572L: 145806L, 3573L: 107699L, 3574L: 72871L, 3575L: 49900L, 3576L: 10577L, 3577L: 28533L, 3579L: 2L, 3580L: 3411L, 3581L: 26026L, 3582L: 4219L, 3583L: 8828L, 3584L: 29294L, 3585L: 22086L, 3586L: 20266L, 3587L: 10192L, 3588L: 42674L, 3589L: 4466L, 3590L: 8519L, 3591L: 49475L, 3592L: 54693L, 3593L: 39440L, 3595L: 47769L, 3596L: 58293L, 3597L: 38000L, 3598L: 34388L, 3599L: 72570L, 3600L: 42621L, 3601L: 245320L, 3602L: 145195L, 3603L: 18750L, 3604L: 23881L, 3605L: 6731L, 3606L: 4972L, 3607L: 92160L, 3608L: 28346L, 3609L: 83038L, 3610L: 14135L, 3611L: 120742L, 3612L: 8329L, 3613L: 15283L, 3614L: 133198L, 3615L: 356L, 3616L: 51237L, 3617L: 10023L, 3618L: 453L, 3619L: 147889L, 3620L: 173042L, 3621L: 1L, 3622L: 1503L, 3623L: 19698L, 3624L: 13237L, 3625L: 5609L, 3626L: 3651L, 3627L: 12280L, 3628L: 2L, 3630L: 223822L, 3631L: 91375L, 3632L: 3740L, 3633L: 36621L, 3634L: 144442L, 3635L: 33194L, 3636L: 39868L, 3637L: 56396L, 3638L: 2556L, 3639L: 31962L, 3640L: 7143L, 3641L: 102295L, 3642L: 79959L, 3643L: 73730L, 3644L: 61468L, 3645L: 57181L, 3646L: 348502L, 3647L: 34843L, 3648L: 1L, 3649L: 221605L, 3650L: 19666L, 3651L: 5287L, 3652L: 60L, 3653L: 24879L, 3654L: 41982L, 3655L: 41486L, 3656L: 65L, 3657L: 346L, 3658L: 24732L, 3659L: 519L, 3660L: 28335L, 3661L: 2603L, 3662L: 2612L, 3663L: 43566L, 3664L: 1159L, 3665L: 156953L, 3666L: 89431L, 3667L: 68039L, 3668L: 4715L, 3669L: 7771L, 3670L: 112191L, 3671L: 147227L, 3672L: 42632L, 3673L: 204133L, 3674L: 4587L, 3675L: 53257L, 3676L: 96022L, 3677L: 44083L, 3678L: 47L, 3679L: 1537L, 3680L: 203096L, 3681L: 24151L, 3682L: 24981L, 3683L: 32124L, 3684L: 19021L, 3685L: 29L, 3686L: 17227L, 3687L: 5532L, 3688L: 118522L, 3689L: 42915L, 3690L: 14826L, 3691L: 115231L, 3692L: 76084L, 3693L: 39559L, 3694L: 44607L, 3695L: 47703L, 3696L: 253L, 3697L: 57787L, 3698L: 76490L, 3699L: 10130L, 3700L: 8221L, 3701L: 9724L, 3702L: 7L, 3703L: 160968L, 3704L: 97632L, 3705L: 31828L, 3706L: 565L, 3707L: 12752L, 3708L: 9962L, 3709L: 19392L, 3710L: 102704L, 3711L: 46800L, 3712L: 87682L, 3713L: 50655L, 3714L: 84974L, 3715L: 77558L, 3716L: 160620L, 3717L: 307L, 3718L: 55845L, 3719L: 92285L, 3720L: 32911L, 3721L: 45646L, 3722L: 49L, 3723L: 47480L, 3724L: 31088L, 3725L: 17543L, 3726L: 1L, 3727L: 111324L, 3728L: 255560L, 3729L: 10734L, 3730L: 20260L, 3731L: 2311L, 3732L: 57485L, 3733L: 17079L, 3734L: 15171L, 3735L: 27649L, 3736L: 56777L, 3737L: 59490L, 3738L: 679L, 3739L: 44320L, 3740L: 101166L, 3741L: 49L, 3742L: 22234L, 3743L: 23294L, 3744L: 1743L, 3745L: 16969L, 3746L: 180244L, 3747L: 211104L, 3748L: 79199L, 3749L: 68177L, 3750L: 288376L, 3751L: 21837L, 3752L: 35790L, 3753L: 70497L, 3754L: 13L, 3755L: 166L, 3756L: 33L, 3757L: 3907L, 3758L: 53050L, 3759L: 10297L, 3760L: 28579L, 3761L: 140306L, 3762L: 129557L, 3763L: 106063L, 3764L: 104405L, 3765L: 214L, 3766L: 173L, 3767L: 59191L, 3768L: 8256L, 3769L: 4787L, 3770L: 1091L, 3771L: 7L, 3772L: 70L, 3773L: 1L, 3774L: 21L, 3775L: 62L, 3776L: 9975L, 3777L: 42L, 3778L: 921L, 3779L: 4L, 3780L: 47237L, 3781L: 1223L, 3782L: 5782L, 3783L: 4L, 3784L: 1793L, 3785L: 85686L, 3786L: 54287L, 3787L: 14428L, 3788L: 20294L, 3789L: 10999L, 3790L: 84469L, 3791L: 25L, 3792L: 77588L, 3793L: 3L, 3794L: 446L, 3795L: 2815L, 3796L: 50845L, 3797L: 15457L, 3798L: 9301L, 3799L: 69L, 3800L: 459L, 3801L: 4787L, 3802L: 6421L, 3803L: 59211L, 3804L: 12594L, 3805L: 1053L, 3806L: 773L, 3807L: 40416L, 3808L: 28389L, 3809L: 2L, 3811L: 127389L, 3812L: 52998L, 3813L: 36356L, 3814L: 19281L, 3815L: 180799L, 3816L: 74021L, 3817L: 103550L, 3818L: 50L, 3819L: 175567L, 3820L: 4536L, 3821L: 122662L, 3822L: 6256L, 3823L: 8730L, 3824L: 1976L, 3825L: 21099L, 3826L: 512L, 3827L: 41L, 3828L: 128L, 3829L: 117663L, 3830L: 330L, 3831L: 88261L, 3832L: 21720L, 3833L: 24354L, 3834L: 14L, 3835L: 122403L, 3836L: 115L, 3837L: 1454L, 3838L: 7303L, 3839L: 27202L, 3840L: 2L, 3841L: 200719L, 3842L: 83795L, 3843L: 116698L, 3844L: 129126L, 3845L: 98068L, 3846L: 78075L, 3847L: 2L, 3848L: 2716L, 3849L: 99114L, 3850L: 135700L, 3851L: 24322L, 3852L: 51586L, 3853L: 43245L, 3854L: 22625L, 3855L: 261019L, 3856L: 88890L, 3857L: 21400L, 3858L: 92767L, 3859L: 24566L, 3860L: 8871L, 3861L: 121170L, 3862L: 10L, 3863L: 25621L, 3864L: 34L, 3865L: 14446L, 3866L: 2905L, 3867L: 21L, 3868L: 2022L, 3869L: 1003L, 3870L: 1408L, 3871L: 19L, 3872L: 2145L, 3873L: 97344L, 3874L: 5563L, 3875L: 89401L, 3876L: 220400L, 3877L: 130904L, 3878L: 89144L, 3879L: 187921L, 3880L: 142077L, 3881L: 29729L, 3882L: 54807L, 3883L: 138795L, 3884L: 55478L, 3885L: 10282L, 3886L: 42626L, 3887L: 60545L, 3888L: 6746L, 3889L: 58729L, 3890L: 40439L, 3891L: 8938L, 3892L: 274002L, 3893L: 2102L, 3894L: 73178L, 3895L: 126249L, 3896L: 114579L, 3897L: 23458L, 3898L: 28987L, 3899L: 30999L, 3900L: 165325L, 3901L: 58674L, 3902L: 47L, 3903L: 35749L, 3904L: 35072L, 3905L: 1297L, 3906L: 22914L, 3907L: 51924L, 3908L: 33754L, 3909L: 79464L, 3910L: 132368L, 3911L: 67883L, 3912L: 4612L, 3913L: 85469L, 3914L: 10215L, 3915L: 28953L, 3916L: 119571L, 3917L: 23215L, 3918L: 11887L, 3919L: 5L, 3920L: 134863L, 3921L: 190393L, 3922L: 54718L, 3923L: 81468L, 3924L: 26553L, 3925L: 95751L, 3926L: 107676L, 3927L: 14614L, 3928L: 77127L, 3929L: 83659L, 3930L: 26993L, 3931L: 63511L, 3932L: 12041L, 3933L: 1506L, 3934L: 129902L, 3935L: 57467L, 3936L: 118931L, 3937L: 82466L, 3938L: 287L, 3939L: 41423L, 3940L: 94508L, 3941L: 19597L, 3942L: 78375L, 3943L: 20467L, 3944L: 100572L, 3945L: 7284L, 3947L: 407L, 3948L: 27L, 3949L: 17724L, 3950L: 1607L, 3951L: 107105L, 3952L: 1935L, 3953L: 13L, 3954L: 2166L, 3955L: 49L, 3956L: 27529L, 3957L: 64316L, 3958L: 111407L, 3959L: 63857L, 3960L: 86838L, 3961L: 3962L, 3962L: 51411L, 3963L: 84310L, 3964L: 10L, 3965L: 5666L, 3966L: 9379L, 3967L: 24668L, 3968L: 9709L, 3969L: 734L, 3970L: 78887L, 3971L: 20807L, 3972L: 775L, 3973L: 144629L, 3974L: 57772L, 3975L: 5477L, 3976L: 72876L, 3977L: 14706L, 3978L: 62010L, 3979L: 66084L, 3980L: 21539L, 3981L: 46487L, 3982L: 23665L, 3983L: 3712L, 3984L: 71109L, 3985L: 26571L, 3986L: 108391L, 3987L: 121663L, 3988L: 119129L, 3989L: 11611L, 3990L: 138221L, 3991L: 15298L, 3992L: 272L, 3993L: 2622L, 3994L: 18798L, 3995L: 47978L, 3996L: 8827L, 3997L: 72533L, 3998L: 10L, 3999L: 109872L, 4000L: 14327L, 4001L: 91832L, 4002L: 162669L, 4003L: 71658L, 4004L: 10002L, 4005L: 114960L, 4006L: 135808L, 4007L: 28095L, 4008L: 119L, 4009L: 57215L, 4010L: 98265L, 4011L: 50016L, 4012L: 19130L, 4013L: 9138L, 4014L: 8628L, 4015L: 2L, 4016L: 163619L, 4017L: 154908L, 4018L: 191740L, 4019L: 6933L, 4020L: 49466L, 4021L: 78972L, 4022L: 81998L, 4023L: 46295L, 4024L: 921L, 4025L: 42624L, 4026L: 30226L, 4027L: 10707L, 4028L: 21326L, 4029L: 32411L, 4030L: 58034L, 4031L: 45049L, 4032L: 92771L, 4033L: 24658L, 4034L: 123039L, 4035L: 5335L, 4036L: 98448L, 4037L: 18855L, 4038L: 3994L, 4039L: 131383L, 4040L: 70665L, 4041L: 21915L, 4042L: 28057L, 4043L: 79169L, 4044L: 34665L, 4045L: 12338L, 4046L: 1175L, 4047L: 107869L, 4048L: 41732L, 4049L: 137747L, 4050L: 87057L, 4051L: 177578L, 4052L: 109422L, 4053L: 16L, 4054L: 49882L, 4055L: 9775L, 4056L: 72559L, 4057L: 409L, 4058L: 14597L, 4059L: 78575L, 4060L: 7988L, 4061L: 1896L, 4062L: 5029L, 4063L: 113656L, 4064L: 33879L, 4065L: 704L, 4066L: 29L, 4067L: 32035L, 4068L: 9875L, 4069L: 36713L, 4070L: 537L, 4071L: 6L, 4072L: 1810L, 4073L: 114762L, 4074L: 39318L, 4075L: 19730L, 4076L: 142930L, 4077L: 145872L, 4078L: 56164L, 4079L: 8L, 4080L: 1977L, 4081L: 2L, 4082L: 52649L, 4083L: 6992L, 4084L: 42741L, 4085L: 45247L, 4086L: 38513L, 4087L: 109615L, 4088L: 25588L, 4089L: 32604L, 4090L: 76215L, 4091L: 52497L, 4092L: 124802L, 4093L: 45558L, 4094L: 38875L, 4095L: 909L, 4096L: 65071L, 4097L: 51148L, 4098L: 41828L, 4099L: 69713L, 4100L: 54561L, 4101L: 76841L, 4102L: 7045L, 4103L: 70667L, 4104L: 84618L, 4105L: 416L, 4106L: 205431L, 4107L: 34636L, 4108L: 12821L, 4109L: 184261L, 4110L: 81195L, 4111L: 5L, 4112L: 16072L, 4113L: 224353L, 4114L: 34217L, 4115L: 193L, 4116L: 16905L, 4117L: 15271L, 4118L: 1822L, 4119L: 111L, 4120L: 87L, 4121L: 36L, 4122L: 4334L, 4123L: 28012L, 4124L: 154L, 4125L: 40L, 4126L: 5617L, 4127L: 5771L, 4128L: 5502L, 4129L: 34264L, 4130L: 53935L, 4131L: 39484L, 4132L: 49071L, 4133L: 71871L, 4134L: 27268L, 4135L: 11117L, 4136L: 1049L, 4137L: 15879L, 4138L: 7261L, 4139L: 36618L, 4140L: 27995L, 4141L: 15676L, 4142L: 10723L, 4143L: 150839L, 4144L: 2547L, 4145L: 2763L, 4146L: 18394L, 4147L: 88558L, 4148L: 64699L, 4149L: 35271L, 4150L: 1209L, 4151L: 42383L, 4152L: 812L, 4153L: 10825L, 4154L: 58640L, 4155L: 12610L, 4156L: 54062L, 4157L: 49674L, 4158L: 64253L, 4159L: 23999L, 4160L: 22641L, 4161L: 61643L, 4162L: 51022L, 4163L: 7818L, 4164L: 16338L, 4165L: 25L, 4166L: 29015L, 4167L: 2698L, 4168L: 3146L, 4169L: 37264L, 4170L: 18729L, 4171L: 9624L, 4172L: 22381L, 4173L: 83L, 4174L: 37477L, 4175L: 25L, 4176L: 87555L, 4177L: 43827L, 4178L: 10341L, 4179L: 20096L, 4180L: 127873L, 4181L: 12950L, 4182L: 42295L, 4183L: 50890L, 4184L: 44618L, 4185L: 42213L, 4186L: 44744L, 4187L: 71339L, 4188L: 39560L, 4189L: 373L, 4190L: 45568L, 4191L: 113026L, 4192L: 17477L, 4193L: 55205L, 4194L: 119177L, 4195L: 1458L, 4196L: 91391L, 4197L: 41903L, 4198L: 550L, 4199L: 144744L, 4200L: 168481L, 4201L: 111868L, 4202L: 151205L, 4203L: 262619L, 4204L: 1367L, 4205L: 1049L, 4206L: 4118L, 4207L: 446L, 4208L: 132179L, 4209L: 86414L, 4210L: 2914L, 4211L: 121985L, 4212L: 2491L, 4213L: 106388L, 4214L: 17434L, 4215L: 25061L, 4216L: 95411L, 4217L: 2817L, 4218L: 2018L, 4219L: 13214L, 4220L: 4171L, 4221L: 5536L, 4222L: 20952L, 4223L: 77792L, 4224L: 142980L, 4225L: 202693L, 4226L: 68655L, 4227L: 7097L, 4228L: 96802L, 4229L: 110660L, 4230L: 749L, 4231L: 30009L, 4232L: 71669L, 4233L: 1205L, 4234L: 129436L, 4235L: 103464L, 4236L: 219585L, 4237L: 164593L, 4238L: 122911L, 4239L: 67321L, 4240L: 37412L, 4241L: 48985L, 4242L: 2387L, 4243L: 122644L, 4244L: 19141L, 4245L: 149414L, 4246L: 53400L, 4247L: 395L, 4248L: 7020L, 4249L: 14854L, 4250L: 313690L, 4251L: 44160L, 4252L: 10178L, 4253L: 220900L, 4254L: 77734L, 4255L: 1364L, 4256L: 604L, 4257L: 126208L, 4258L: 359639L, 4259L: 2462L, 4260L: 122813L, 4261L: 79893L, 4262L: 68543L, 4263L: 64702L, 4264L: 116753L, 4265L: 157080L, 4266L: 18993L, 4267L: 2682L, 4268L: 93534L, 4269L: 168L, 4270L: 76626L, 4271L: 17L, 4272L: 45253L, 4273L: 13L, 4274L: 138860L, 4275L: 63930L, 4276L: 133217L, 4277L: 67L, 4278L: 9068L, 4279L: 8956L, 4280L: 80112L, 4281L: 28213L, 4282L: 200646L, 4283L: 65097L, 4284L: 24794L, 4285L: 6436L, 4286L: 120564L, 4287L: 126238L, 4288L: 24231L, 4289L: 169121L, 4290L: 282414L, 4291L: 72286L, 4292L: 79501L, 4293L: 41702L, 4294L: 144141L, 4295L: 65190L, 4296L: 28872L, 4297L: 2817L, 4298L: 113654L, 4299L: 87676L, 4300L: 289318L, 4301L: 100298L, 4302L: 140578L, 4303L: 14399L, 4304L: 45381L, 4305L: 88789L, 4306L: 284666L, 4307L: 17865L, 4308L: 13436L, 4309L: 63L, 4310L: 17048L, 4311L: 406L, 4312L: 68584L, 4313L: 2L, 4314L: 118392L, 4315L: 1681L, 4316L: 16980L, 4317L: 4L, 4318L: 192067L, 4319L: 93000L, 4320L: 1L, 4321L: 4L, 4322L: 93402L, 4323L: 137178L, 4324L: 127L, 4325L: 48919L, 4326L: 130932L, 4327L: 27250L, 4328L: 133547L, 4329L: 45894L, 4330L: 91334L, 4331L: 175752L, 4332L: 8067L, 4333L: 68302L, 4334L: 95256L, 4335L: 105949L, 4336L: 365L, 4337L: 99438L, 4338L: 123023L, 4339L: 14166L, 4340L: 1583L, 4341L: 8003L, 4342L: 689L, 4343L: 60472L, 4344L: 219569L, 4345L: 176236L, 4346L: 412L, 4347L: 99361L, 4348L: 59252L, 4349L: 11128L, 4350L: 14636L, 4351L: 213425L, 4352L: 55464L, 4353L: 1328L, 4354L: 150008L, 4355L: 55051L, 4356L: 33209L, 4357L: 65944L, 4358L: 275464L, 4359L: 119432L, 4360L: 29L, 4361L: 29882L, 4362L: 53977L, 4363L: 85695L, 4364L: 100048L, 4365L: 203301L, 4366L: 107022L, 4367L: 77184L, 4368L: 119125L, 4369L: 25301L, 4370L: 111538L, 4371L: 13L, 4372L: 1718L, 4373L: 42338L, 4374L: 167749L, 4375L: 917L, 4376L: 1119L, 4377L: 29479L, 4378L: 141634L, 4379L: 83721L, 4380L: 1724L, 4381L: 108923L, 4382L: 92202L, 4383L: 173785L, 4384L: 74495L, 4385L: 103272L, 4386L: 104456L, 4387L: 131875L, 4388L: 110L, 4389L: 83333L, 4390L: 3L, 4391L: 70205L, 4392L: 6822L, 4393L: 19883L, 4394L: 61288L, 4395L: 23L, 4396L: 90067L, 4397L: 11552L, 4398L: 87793L, 4399L: 126102L, 4400L: 25580L, 4401L: 133797L, 4402L: 10648L, 4403L: 142883L, 4404L: 3137L, 4405L: 70161L, 4406L: 65887L, 4407L: 42205L, 4408L: 99230L, 4409L: 384L, 4410L: 184200L, 4411L: 195287L, 4412L: 45683L, 4413L: 25214L, 4414L: 114037L, 4415L: 80L, 4416L: 144968L, 4417L: 7773L, 4418L: 84229L, 4419L: 112574L, 4420L: 53403L, 4421L: 94104L, 4422L: 47222L, 4423L: 75301L, 4424L: 3398L, 4425L: 33031L, 4426L: 21486L, 4427L: 129695L, 4428L: 132950L, 4429L: 26260L, 4430L: 3380L, 4431L: 101859L, 4432L: 151551L, 4433L: 111738L, 4434L: 24035L, 4435L: 150700L, 4436L: 172421L, 4437L: 3290L, 4438L: 675L, 4439L: 6L, 4440L: 82689L, 4441L: 85060L, 4442L: 9514L, 4443L: 41297L, 4444L: 17939L, 4445L: 34014L, 4446L: 39485L, 4447L: 2430L, 4448L: 92490L, 4449L: 14536L, 4450L: 1579L, 4451L: 33226L, 4452L: 260883L, 4453L: 38926L, 4454L: 3L, 4455L: 7491L, 4456L: 2419L, 4457L: 150134L, 4458L: 4L, 4459L: 60429L, 4460L: 23689L, 4461L: 86807L, 4462L: 35952L, 4463L: 54746L, 4464L: 99156L, 4465L: 118208L, 4466L: 54509L, 4467L: 12413L, 4468L: 89313L, 4469L: 13805L, 4470L: 6362L, 4471L: 113975L, 4472L: 114368L, 4473L: 67817L, 4474L: 30612L, 4475L: 76048L, 4476L: 30358L, 4477L: 181805L, 4478L: 44748L, 4479L: 37155L, 4480L: 245165L, 4481L: 79324L, 4482L: 17776L, 4483L: 78001L, 4484L: 8L, 4485L: 102820L, 4486L: 29936L, 4487L: 136687L, 4488L: 74L, 4489L: 44711L, 4490L: 6866L, 4491L: 116885L, 4492L: 74959L, 4493L: 82582L, 4494L: 126698L, 4495L: 15162L, 4496L: 25803L, 4497L: 83335L, 4498L: 49855L, 4499L: 101131L, 4500L: 6972L, 4501L: 57367L, 4502L: 53245L, 4503L: 18058L, 4504L: 52266L, 4505L: 169278L, 4506L: 108338L, 4507L: 76559L, 4508L: 16346L, 4509L: 58710L, 4510L: 1L, 4511L: 11442L, 4512L: 28813L, 4513L: 53664L, 4514L: 48120L, 4515L: 3629L, 4516L: 9543L, 4517L: 113151L, 4518L: 119426L, 4519L: 108265L, 4520L: 11L, 4521L: 8383L, 4522L: 15212L, 4523L: 1351L, 4524L: 243807L, 4525L: 128007L, 4526L: 210608L, 4527L: 22952L, 4528L: 2L, 4529L: 98047L, 4530L: 1902L, 4531L: 158053L, 4532L: 116195L, 4533L: 26514L, 4534L: 38875L, 4535L: 55061L, 4536L: 296L, 4537L: 17581L, 4538L: 166883L, 4539L: 11847L, 4540L: 186297L, 4541L: 99128L, 4542L: 394L, 4543L: 4448L, 4544L: 1919L, 4545L: 9853L, 4546L: 81807L, 4547L: 53270L, 4548L: 112807L, 4549L: 62L, 4550L: 172695L, 4551L: 166446L, 4552L: 77358L, 4553L: 107916L, 4554L: 317195L, 4555L: 197309L, 4556L: 203386L, 4557L: 92099L, 4558L: 139062L, 4559L: 199362L, 4560L: 128198L, 4561L: 1786L, 4562L: 61862L, 4563L: 39124L, 4564L: 111198L, 4565L: 104677L, 4566L: 52841L, 4567L: 6522L, 4568L: 11101L, 4569L: 15650L, 4570L: 97111L, 4571L: 17998L, 4572L: 266L, 4573L: 96502L, 4574L: 24351L, 4575L: 6468L, 4576L: 88210L, 4577L: 496L, 4578L: 5L, 4579L: 5119L, 4580L: 1281L, 4581L: 1227L, 4582L: 272L, 4583L: 152978L, 4584L: 1370L, 4585L: 17806L, 4586L: 1206L, 4587L: 399394L, 4588L: 150343L, 4589L: 96669L, 4590L: 27599L, 4591L: 301L, 4592L: 63529L, 4593L: 6034L, 4594L: 14613L, 4595L: 68293L, 4596L: 10384L, 4597L: 15L, 4598L: 61027L, 4599L: 78606L, 4600L: 73968L, 4601L: 24838L, 4602L: 12L, 4603L: 71630L, 4604L: 269563L, 4605L: 7084L, 4606L: 61777L, 4607L: 2L, 4608L: 328L, 4609L: 39061L, 4610L: 112643L, 4611L: 1399L, 4612L: 393L, 4613L: 46218L, 4614L: 1846L, 4615L: 159198L, 4616L: 58998L, 4617L: 92262L, 4618L: 123339L, 4619L: 11827L, 4620L: 9158L, 4621L: 221713L, 4622L: 55699L, 4623L: 10L, 4624L: 58070L, 4625L: 36652L, 4626L: 625L, 4627L: 34L, 4628L: 1951L, 4630L: 47621L, 4631L: 67016L, 4632L: 1465L, 4633L: 1760L, 4634L: 5L, 4635L: 11913L, 4636L: 3L, 4637L: 2923L, 4638L: 2750L, 4639L: 253396L, 4640L: 26339L, 4641L: 46002L, 4642L: 28037L, 4643L: 455L, 4644L: 67138L, 4645L: 254L, 4646L: 5058L, 4647L: 64005L, 4648L: 27626L, 4649L: 128670L, 4650L: 64589L, 4651L: 41240L, 4652L: 13743L, 4653L: 49492L, 4654L: 12662L, 4655L: 32002L, 4656L: 23018L, 4657L: 86745L, 4658L: 89077L, 4659L: 97987L, 4660L: 31738L, 4661L: 31246L, 4662L: 28613L, 4663L: 42991L, 4664L: 81962L, 4665L: 183241L, 4666L: 145449L, 4667L: 56451L, 4668L: 35518L, 4669L: 42488L, 4670L: 101766L, 4671L: 1526L, 4672L: 41402L, 4673L: 124293L, 4674L: 888L, 4675L: 64279L, 4676L: 38399L, 4677L: 43448L, 4678L: 95194L, 4679L: 189L, 4680L: 69472L, 4681L: 199589L, 4682L: 44806L, 4683L: 107465L, 4684L: 110113L, 4685L: 103139L, 4686L: 11159L, 4687L: 53324L, 4688L: 7560L, 4689L: 10513L, 4690L: 61493L, 4691L: 30071L, 4692L: 17191L, 4693L: 28664L, 4694L: 194474L, 4695L: 152491L, 4696L: 187357L, 4697L: 36165L, 4698L: 47511L, 4699L: 68882L, 4700L: 8610L, 4701L: 2188L, 4702L: 15952L, 4703L: 113854L, 4704L: 52996L, 4705L: 38995L, 4706L: 44058L, 4707L: 304480L, 4708L: 46274L, 4709L: 53022L, 4710L: 22242L, 4711L: 509L, 4712L: 54172L, 4713L: 73439L, 4714L: 84803L, 4715L: 90651L, 4716L: 96326L, 4717L: 59908L, 4718L: 85256L, 4719L: 43885L, 4720L: 143L, 4721L: 105720L, 4722L: 113899L, 4723L: 15322L, 4724L: 42157L, 4725L: 43639L, 4726L: 1080L, 4727L: 965L, 4728L: 112218L, 4729L: 14153L, 4730L: 1570L, 4731L: 9501L, 4732L: 54517L, 4733L: 76243L, 4734L: 18536L, 4735L: 126768L, 4736L: 79228L, 4737L: 28826L, 4738L: 56700L, 4739L: 5486L, 4740L: 209188L, 4741L: 7558L, 4742L: 2181L, 4743L: 57149L, 4744L: 1466L, 4745L: 802L, 4746L: 12296L, 4747L: 5276L, 4748L: 27491L, 4749L: 226L, 4750L: 40L, 4751L: 4345L, 4752L: 2358L, 4753L: 7390L, 4754L: 10415L, 4755L: 2794L, 4756L: 55017L, 4757L: 230L, 4758L: 10711L, 4759L: 13L, 4760L: 830L, 4761L: 14871L, 4762L: 2031L, 4763L: 50454L, 4764L: 54992L, 4765L: 32749L, 4766L: 133061L, 4767L: 57288L, 4768L: 53061L, 4769L: 10L, 4770L: 7719L, 4771L: 27631L, 4772L: 31038L, 4773L: 161545L, 4774L: 6666L, 4775L: 14201L, 4776L: 5781L, 4777L: 21565L, 4778L: 40976L, 4779L: 52324L, 4780L: 3369L, 4781L: 2585L, 4782L: 31552L, 4783L: 8986L, 4784L: 26485L, 4785L: 25721L, 4786L: 6860L, 4787L: 14796L, 4788L: 30982L, 4789L: 10507L, 4790L: 69556L, 4791L: 13428L, 4792L: 25037L, 4793L: 1050L, 4794L: 2143L, 4796L: 41390L, 4797L: 55158L, 4798L: 43949L, 4799L: 4286L, 4800L: 7194L, 4801L: 84825L, 4802L: 96011L, 4803L: 29018L, 4804L: 6679L, 4805L: 36915L, 4806L: 134992L, 4807L: 126051L, 4808L: 49713L, 4809L: 5623L, 4810L: 38221L, 4811L: 157492L, 4812L: 267L, 4813L: 317L, 4814L: 109970L, 4815L: 72612L, 4816L: 6218L, 4817L: 1550L, 4818L: 23421L, 4819L: 253737L, 4820L: 92268L, 4821L: 1848L, 4822L: 10768L, 4823L: 150837L, 4824L: 107874L, 4825L: 19191L, 4826L: 28188L, 4827L: 1321L, 4828L: 13035L, 4829L: 53518L, 4830L: 46617L, 4831L: 45971L, 4832L: 136808L, 4833L: 150307L, 4834L: 207824L, 4835L: 3070L, 4836L: 31126L, 4837L: 40227L, 4838L: 201076L, 4839L: 40669L, 4840L: 171523L, 4841L: 6L, 4842L: 83623L, 4843L: 44132L, 4844L: 2835L, 4845L: 60786L, 4846L: 1981L, 4847L: 2725L, 4848L: 83116L, 4849L: 10059L, 4850L: 5073L, 4851L: 82853L, 4852L: 1L, 4853L: 43254L, 4854L: 150141L, 4855L: 738L, 4856L: 46377L, 4857L: 22771L, 4858L: 97978L, 4859L: 996L, 4860L: 10509L, 4861L: 79921L, 4862L: 22365L, 4863L: 834L, 4864L: 44184L, 4865L: 6997L, 4866L: 3484L, 4867L: 4853L, 4868L: 2859L, 4869L: 24861L, 4870L: 1724L, 4871L: 38925L, 4872L: 10978L, 4873L: 5782L, 4874L: 52004L, 4875L: 381L, 4876L: 797L, 4877L: 88853L, 4878L: 34255L, 4879L: 3616L, 4880L: 74974L, 4881L: 196469L, 4882L: 42674L, 4883L: 20441L, 4884L: 155933L, 4885L: 4953L, 4886L: 16L, 4887L: 4817L, 4888L: 5100L, 4889L: 728L, 4890L: 13403L, 4891L: 1986L, 4892L: 26465L, 4893L: 88207L, 4894L: 352025L, 4895L: 27202L, 4896L: 214699L, 4897L: 55L, 4898L: 69282L, 4899L: 172L, 4900L: 1497L, 4901L: 17535L, 4902L: 68168L, 4903L: 1642L, 4904L: 1416L, 4905L: 185160L, 4906L: 22378L, 4907L: 120052L, 4908L: 109696L, 4909L: 166412L, 4910L: 23856L, 4911L: 20L, 4912L: 164L, 4913L: 6625L, 4914L: 3368L, 4915L: 30L, 4916L: 731L, 4917L: 2012L, 4918L: 36421L, 4919L: 195424L, 4920L: 122594L, 4921L: 549L, 4922L: 121050L, 4923L: 58549L, 4924L: 150497L, 4925L: 14L, 4926L: 117192L, 4927L: 47479L, 4928L: 410960L, 4929L: 107234L, 4930L: 428L, 4931L: 39L, 4932L: 119498L, 4933L: 196L, 4934L: 21L, 4935L: 6L, 4936L: 34L, 4937L: 39773L, 4938L: 81141L, 4939L: 7947L, 4940L: 29484L, 4941L: 4525L, 4942L: 34766L, 4943L: 1176L, 4944L: 7925L, 4945L: 20127L, 4946L: 14246L, 4947L: 2889L, 4948L: 9932L, 4949L: 4478L, 4950L: 6037L, 4951L: 59503L, 4952L: 56592L, 4953L: 75714L, 4954L: 5L, 4955L: 25L, 4956L: 29L, 4957L: 20L, 4958L: 808L, 4959L: 109296L, 4960L: 54357L, 4961L: 498L, 4962L: 20919L, 4964L: 20549L, 4965L: 14631L, 4966L: 40790L, 4967L: 1063L, 4968L: 7512L, 4969L: 27799L, 4970L: 10652L, 4971L: 3910L, 4972L: 25937L, 4973L: 24002L, 4974L: 6629L, 4975L: 6642L, 4976L: 13685L, 4977L: 2558L, 4978L: 50680L, 4979L: 234L, 4980L: 6329L, 4981L: 6615L, 4982L: 50951L, 4983L: 18631L, 4984L: 80654L, 4985L: 2154L, 4986L: 243L, 4987L: 181L, 4988L: 391L, 4989L: 5097L, 4990L: 30292L, 4991L: 60754L, 4992L: 14913L, 4993L: 82907L, 4994L: 41142L, 4995L: 81772L, 4996L: 69381L, 4997L: 99862L, 4998L: 79255L, 4999L: 10341L}, 'up_flow': {1L: 198982664L, 2L: 128573L, 3L: 71003943L, 4L: 305322754L, 5L: 40537809L, 6L: 63020129L, 7L: 122874603L, 8L: 84662263L, 9L: 171232060L, 10L: 9244460L, 11L: 199550391L, 12L: 172470193L, 13L: 122998271L, 14L: 112707809L, 15L: 14771369L, 16L: 59938844L, 17L: 246482473L, 18L: 31042L, 19L: 111309599L, 20L: 87926606L, 21L: 1544L, 22L: 50235232L, 23L: 35542700L, 24L: 207540659L, 25L: 70180396L, 26L: 245218777L, 27L: 82002591L, 28L: 513175825L, 29L: 1000428710L, 30L: 946988351L, 31L: 164392085L, 32L: 230490518L, 33L: 337446676L, 34L: 107905148L, 36L: 3591L, 37L: 162883151L, 38L: 151406842L, 39L: 22127816L, 40L: 427431L, 41L: 62363944L, 42L: 58499329L, 43L: 229260678L, 44L: 273951008L, 45L: 401460295L, 46L: 29407L, 47L: 31393228L, 48L: 150877575L, 49L: 40996707L, 50L: 781103816L, 51L: 278758284L, 53L: 161148967L, 54L: 20455299L, 55L: 40378998L, 56L: 1410245L, 57L: 334117036L, 58L: 314327322L, 59L: 151817L, 60L: 102L, 61L: 323423L, 62L: 36077L, 63L: 84318135L, 64L: 10293314L, 65L: 141768001L, 66L: 1325L, 67L: 38758590L, 68L: 4413745L, 69L: 1090L, 70L: 56072109L, 71L: 302287768L, 72L: 124565011L, 73L: 1465324L, 74L: 6678472L, 75L: 460721980L, 76L: 332468556L, 77L: 16915220L, 78L: 45762334L, 79L: 537830872L, 80L: 61889250L, 81L: 42375636L, 82L: 166112521L, 83L: 367232444L, 84L: 23847549L, 85L: 39162027L, 86L: 1597195L, 87L: 75225136L, 88L: 31723026L, 89L: 7375237L, 90L: 306L, 91L: 121396147L, 92L: 157820991L, 93L: 48324567L, 94L: 75290208L, 95L: 3982555L, 96L: 7587L, 97L: 302487098L, 98L: 120812650L, 99L: 2571859154L, 100L: 269795454L, 101L: 31262122L, 102L: 226652815L, 103L: 9645530L, 104L: 215595592L, 105L: 17266L, 106L: 44419286L, 107L: 51177481L, 108L: 143653258L, 109L: 210526382L, 110L: 70394322L, 111L: 106287080L, 112L: 61248861L, 113L: 308451480L, 114L: 879627616L, 115L: 6255116L, 116L: 35145892L, 117L: 68806725L, 118L: 101584960L, 119L: 218357933L, 120L: 13618453L, 121L: 10526557L, 122L: 51810736L, 123L: 121026612L, 124L: 35287436L, 125L: 493L, 126L: 278785564L, 127L: 91721243L, 128L: 62924010L, 129L: 33149971L, 130L: 175727380L, 131L: 9528653L, 132L: 406857765L, 133L: 290033001L, 134L: 1205085667L, 135L: 98328245L, 136L: 44064039L, 137L: 38437077L, 138L: 720586996L, 139L: 117327883L, 140L: 1006099902L, 141L: 50965322L, 143L: 802004308L, 144L: 662550061L, 145L: 1095112520L, 146L: 9412467L, 147L: 239757969L, 148L: 79999260L, 149L: 247641345L, 150L: 147623807L, 151L: 68280839L, 152L: 50623116L, 153L: 382862840L, 154L: 31155424L, 155L: 317507076L, 156L: 662199583L, 157L: 1016606L, 158L: 294L, 159L: 3411086L, 160L: 859452941L, 161L: 115242154L, 162L: 9876657L, 163L: 1864975L, 164L: 11822532L, 165L: 200990025L, 166L: 169664343L, 167L: 122638879L, 169L: 6492387L, 170L: 18840659L, 171L: 17224137L, 172L: 40519030L, 173L: 3564L, 174L: 61520085L, 175L: 185705817L, 176L: 217831501L, 177L: 102708339L, 178L: 616322168L, 179L: 187952884L, 180L: 304382832L, 181L: 57895773L, 182L: 157124487L, 183L: 14378455L, 184L: 43305037L, 185L: 35766961L, 186L: 7431006L, 187L: 81536403L, 188L: 183042223L, 189L: 238823864L, 190L: 101611345L, 191L: 219400268L, 192L: 54723364L, 193L: 133655022L, 194L: 856406559L, 195L: 17630042L, 196L: 127424176L, 197L: 14126248L, 198L: 158462750L, 199L: 5317090L, 200L: 88534582L, 201L: 21187185L, 202L: 16350079L, 203L: 14279770L, 204L: 138726843L, 205L: 3042L, 206L: 317175L, 207L: 89128339L, 208L: 2417L, 209L: 210510343L, 210L: 78151454L, 211L: 73135323L, 212L: 236553235L, 213L: 47606L, 214L: 344196126L, 215L: 13837800L, 216L: 348220944L, 217L: 16033635L, 218L: 122107639L, 219L: 3799L, 220L: 7416L, 221L: 561029502L, 222L: 60191646L, 223L: 3380L, 224L: 112563038L, 225L: 110084743L, 226L: 656230071L, 227L: 2477L, 228L: 12945207L, 229L: 364377461L, 230L: 84852914L, 231L: 1013L, 232L: 41611495L, 233L: 46543201L, 234L: 86543629L, 235L: 181503611L, 236L: 4924328L, 237L: 2867889L, 238L: 476171947L, 239L: 199838022L, 240L: 73979836L, 241L: 134L, 242L: 120574837L, 243L: 603245131L, 244L: 61560529L, 245L: 408428068L, 246L: 829L, 247L: 267771538L, 248L: 1494L, 249L: 1358L, 250L: 507L, 251L: 2796L, 252L: 261157784L, 253L: 253679139L, 254L: 52138L, 255L: 45145259L, 256L: 769L, 257L: 59647763L, 258L: 53718928L, 259L: 22696692L, 260L: 11006185L, 261L: 4158803L, 262L: 217842823L, 263L: 845319L, 264L: 8653867L, 265L: 116546163L, 266L: 12186630L, 267L: 147586425L, 268L: 42035105L, 269L: 35037L, 270L: 135974688L, 271L: 91458698L, 272L: 96650729L, 273L: 29383192L, 274L: 2980521057L, 275L: 10273L, 276L: 106099992L, 277L: 6182L, 278L: 101801328L, 279L: 27611504L, 280L: 13473L, 281L: 1543889L, 282L: 6700L, 283L: 2296845L, 284L: 3472538L, 285L: 36172568L, 286L: 61373890L, 287L: 49912L, 288L: 337370L, 289L: 2120251586L, 290L: 712369L, 291L: 63784187L, 292L: 154971L, 293L: 62243548L, 294L: 68421346L, 295L: 404896560L, 296L: 228836587L, 297L: 193408963L, 298L: 1126921287L, 299L: 231525215L, 300L: 930274L, 301L: 378150219L, 302L: 47234188L, 303L: 23641L, 304L: 462963818L, 305L: 138127065L, 306L: 94315906L, 307L: 10643855L, 308L: 13037189L, 309L: 68449938L, 310L: 66446483L, 311L: 8816638L, 312L: 4972578L, 313L: 622529274L, 314L: 3959452L, 315L: 189491845L, 316L: 74670085L, 317L: 2191588635L, 318L: 1368098L, 319L: 399562L, 320L: 193024391L, 321L: 40088965L, 322L: 7426L, 323L: 2548353L, 324L: 1627041276L, 325L: 301062854L, 326L: 94053681L, 327L: 865883627L, 328L: 128696734L, 329L: 27628181L, 330L: 1464675319L, 331L: 338561321L, 332L: 61297124L, 333L: 460822046L, 334L: 10797244L, 335L: 682106084L, 336L: 3903066947L, 337L: 149163503L, 338L: 9798893L, 339L: 342481232L, 340L: 4208424L, 341L: 223565158L, 342L: 158583405L, 343L: 3860797L, 344L: 1160055466L, 345L: 24514588L, 346L: 7074967L, 347L: 99406L, 348L: 74606534L, 349L: 64463739L, 350L: 98462048L, 351L: 103451636L, 352L: 28882129L, 353L: 293596446L, 354L: 366273972L, 355L: 155038157L, 356L: 960714L, 357L: 6325813L, 358L: 74987349L, 359L: 940L, 360L: 502797294L, 361L: 596039955L, 362L: 115009L, 363L: 128918857L, 364L: 155244827L, 365L: 566691083L, 366L: 18992889L, 367L: 229309827L, 368L: 105913349L, 369L: 88784560L, 370L: 156029012L, 371L: 220125377L, 372L: 4564888L, 373L: 2134L, 374L: 2447035L, 375L: 881990L, 376L: 197597374L, 377L: 8666877L, 378L: 3280600L, 379L: 942L, 380L: 4939114L, 381L: 49856270L, 382L: 1153198148L, 383L: 134367366L, 384L: 1301386L, 385L: 151852744L, 386L: 280782292L, 387L: 90088742L, 388L: 53023024L, 389L: 125832L, 390L: 133855629L, 391L: 167870955L, 392L: 20931911L, 393L: 1716L, 394L: 991789681L, 395L: 153437L, 396L: 15120345L, 397L: 29418622L, 398L: 1183699016L, 399L: 1506691847L, 400L: 29649002L, 401L: 350285473L, 402L: 893711662L, 403L: 797132169L, 404L: 1234316L, 405L: 27870846L, 406L: 149718315L, 407L: 49103188L, 408L: 735461034L, 409L: 1016257L, 410L: 14616635L, 411L: 1708L, 412L: 5730L, 413L: 214830722L, 414L: 42259773L, 415L: 100500422L, 416L: 12296L, 417L: 162506090L, 418L: 1233773296L, 419L: 123393419L, 420L: 38007619L, 421L: 59103622L, 423L: 54179749L, 424L: 1011107162L, 425L: 15712300L, 426L: 56925341L, 427L: 7137939L, 428L: 13748979L, 429L: 3527204L, 430L: 7324L, 431L: 392273609L, 432L: 5144807L, 433L: 7783612L, 434L: 158606075L, 435L: 2318L, 436L: 1855L, 437L: 5242188L, 438L: 1990263629L, 439L: 408201310L, 440L: 781439735L, 441L: 1320L, 442L: 500010132L, 443L: 204053869L, 444L: 101387997L, 445L: 500932948L, 446L: 8920746L, 447L: 297436146L, 448L: 34512319L, 449L: 387983206L, 450L: 71748066L, 451L: 213669924L, 452L: 1485838L, 453L: 3123826L, 454L: 7948L, 455L: 49718028L, 456L: 19804182L, 457L: 1839908115L, 459L: 9438473L, 460L: 65088150L, 461L: 10109369L, 462L: 253282367L, 463L: 438844763L, 464L: 1070865395L, 465L: 10733L, 466L: 2052943096L, 467L: 9147L, 468L: 257841961L, 469L: 51432189L, 470L: 34895529L, 471L: 256839923L, 472L: 12055302L, 473L: 15220L, 474L: 585185L, 475L: 506038947L, 476L: 477858L, 477L: 135036390L, 478L: 649002L, 479L: 268919983L, 480L: 178678795L, 481L: 580351410L, 482L: 460747061L, 483L: 1256720588L, 484L: 611128308L, 485L: 1504L, 486L: 5760L, 487L: 285484280L, 488L: 848943L, 489L: 1514019710L, 490L: 15858L, 491L: 745824810L, 492L: 66098L, 493L: 21767842L, 494L: 65683340L, 495L: 101988658L, 496L: 2290L, 497L: 244159021L, 498L: 484155520L, 499L: 28258L, 500L: 82497L, 501L: 1237905L, 502L: 19279L, 503L: 15247L, 504L: 1925278L, 505L: 148595793L, 506L: 742282464L, 507L: 66995221L, 508L: 628180196L, 509L: 72584379L, 510L: 185359557L, 511L: 89824791L, 512L: 3860L, 513L: 1017859L, 514L: 170722438L, 515L: 127394L, 516L: 39338148L, 517L: 310744L, 518L: 6496595L, 519L: 220L, 520L: 6568324L, 521L: 27591986L, 522L: 73642409L, 523L: 127958997L, 524L: 80313L, 525L: 33805438L, 526L: 1062092L, 527L: 5016628L, 528L: 10908571L, 529L: 123852264L, 530L: 257162619L, 531L: 923794324L, 532L: 20749569L, 533L: 632678L, 534L: 441662L, 535L: 4043337L, 536L: 16789527L, 537L: 936260563L, 538L: 570228203L, 539L: 157794650L, 540L: 50835887L, 541L: 59946581L, 542L: 3082862L, 543L: 112010464L, 544L: 10726241L, 545L: 2044216045L, 546L: 220251466L, 547L: 26522310L, 548L: 739L, 549L: 42854336L, 550L: 10053686L, 551L: 41856323L, 552L: 41L, 553L: 43405388L, 554L: 119135403L, 555L: 4102327L, 556L: 123051467L, 557L: 448221676L, 558L: 57049343L, 559L: 1199290374L, 560L: 120804515L, 561L: 146044141L, 562L: 338969353L, 563L: 75403101L, 564L: 103597L, 565L: 40389160L, 566L: 133428417L, 567L: 97296591L, 568L: 240224455L, 569L: 130785L, 570L: 1213606768L, 571L: 117980458L, 572L: 75557611L, 573L: 377199L, 574L: 40028L, 575L: 679L, 576L: 85537996L, 577L: 176981649L, 578L: 7069L, 579L: 998278321L, 580L: 148856517L, 581L: 1770L, 582L: 49155455L, 583L: 181479L, 584L: 511316849L, 585L: 144880534L, 586L: 7137834L, 587L: 29377073L, 588L: 44046583L, 589L: 666812262L, 590L: 39782075L, 591L: 79066104L, 593L: 281691839L, 594L: 15059448L, 595L: 2498L, 596L: 724198L, 597L: 756617296L, 598L: 12078115L, 599L: 13624L, 600L: 37411133L, 601L: 21098896L, 602L: 41794798L, 603L: 197431503L, 604L: 293969413L, 605L: 650177L, 606L: 92949530L, 607L: 42257943L, 608L: 998549182L, 609L: 1884L, 610L: 418696282L, 611L: 49977L, 612L: 63818180L, 613L: 49878742L, 614L: 9024363L, 615L: 2014L, 616L: 363348424L, 617L: 45389166L, 618L: 68580771L, 619L: 138408439L, 620L: 1573000978L, 621L: 2218334L, 622L: 1266L, 623L: 98450088L, 624L: 2047L, 625L: 1929L, 626L: 141823L, 627L: 22862L, 628L: 20859453L, 629L: 607353L, 630L: 313311L, 631L: 31094140L, 632L: 138944537L, 633L: 2074107L, 634L: 162628428L, 635L: 561351741L, 636L: 8934781L, 637L: 1932624L, 638L: 1253349858L, 639L: 49566390L, 640L: 51718781L, 641L: 32923260L, 642L: 5076041L, 644L: 20463430L, 645L: 47850112L, 646L: 2468L, 647L: 66055841L, 648L: 10857376L, 649L: 5964773L, 650L: 1836281L, 651L: 36036719L, 652L: 1272792773L, 653L: 54020039L, 654L: 2053039170L, 655L: 103925258L, 656L: 31519696L, 657L: 139620720L, 658L: 16151963L, 659L: 214895404L, 660L: 721841L, 661L: 8631748L, 662L: 2118669705L, 663L: 8422L, 664L: 9582431L, 665L: 55488784L, 666L: 7645303L, 667L: 26766426L, 668L: 5823847L, 669L: 10813L, 670L: 21210876L, 671L: 238633663L, 672L: 662533252L, 673L: 148008412L, 674L: 10507335L, 675L: 168025014L, 676L: 13278944L, 677L: 34948399L, 678L: 66181480L, 679L: 10349821L, 680L: 46570521L, 681L: 114127384L, 682L: 260761853L, 683L: 10300146L, 684L: 2659635L, 685L: 13429692L, 686L: 241726684L, 687L: 205353L, 688L: 798580L, 689L: 93538072L, 690L: 18763400L, 691L: 254757343L, 692L: 363750165L, 693L: 28335482L, 694L: 3018L, 695L: 1170032519L, 696L: 751674532L, 697L: 86525672L, 698L: 187582402L, 699L: 93172291L, 700L: 297291865L, 701L: 60599714L, 702L: 418030594L, 703L: 2520043170L, 704L: 656475076L, 705L: 1882770L, 706L: 13011231L, 707L: 4191L, 709L: 3242194257L, 710L: 75416244L, 711L: 174084L, 712L: 133599325L, 713L: 1799L, 714L: 121306026L, 715L: 133017074L, 716L: 70948977L, 717L: 63826454L, 718L: 121235001L, 719L: 475599572L, 720L: 1322958697L, 721L: 2001L, 722L: 178672641L, 723L: 689918210L, 724L: 1974314L, 725L: 105743071L, 726L: 713766L, 727L: 66207391L, 728L: 45493202L, 729L: 57256259L, 730L: 51602269L, 731L: 94833463L, 732L: 205247529L, 733L: 17797457L, 734L: 70830275L, 735L: 43731218L, 736L: 149558495L, 737L: 29676591L, 738L: 25871018L, 739L: 249307640L, 740L: 72426748L, 741L: 131254870L, 742L: 1360399L, 743L: 1405956473L, 744L: 85422603L, 745L: 501259350L, 746L: 631306410L, 747L: 29852024L, 748L: 41279612L, 749L: 292251257L, 750L: 997301375L, 751L: 120742L, 752L: 41586252L, 753L: 24937246L, 754L: 100989720L, 755L: 188077020L, 756L: 132125764L, 757L: 444573815L, 758L: 6116850L, 759L: 164030955L, 760L: 63453838L, 761L: 5094518645L, 762L: 1608408702L, 763L: 19339581L, 764L: 11310L, 765L: 3923558622L, 767L: 139046521L, 768L: 24568L, 769L: 88228393L, 770L: 18093001L, 771L: 424917528L, 772L: 68081444L, 773L: 530477126L, 774L: 542320972L, 775L: 193191210L, 776L: 1914972L, 777L: 68674382L, 778L: 181058228L, 779L: 66259732L, 780L: 464846L, 781L: 134715635L, 782L: 349915L, 783L: 1796434928L, 784L: 8095449L, 785L: 76010559L, 786L: 9301929L, 787L: 46783414L, 788L: 60785779L, 789L: 11690190L, 790L: 60879L, 791L: 140910618L, 792L: 29044231L, 793L: 1892011576L, 794L: 229811287L, 795L: 18179026L, 796L: 405886352L, 797L: 806070096L, 798L: 236883257L, 799L: 10892673L, 800L: 18964844L, 801L: 822117699L, 802L: 7005784L, 803L: 21554L, 804L: 21446393L, 805L: 708524234L, 806L: 2765789L, 807L: 22068799L, 808L: 673687016L, 809L: 142392312L, 810L: 3167L, 811L: 59053570L, 812L: 35263747L, 813L: 1572L, 814L: 18951529L, 815L: 12617599L, 816L: 305722508L, 817L: 9313782L, 818L: 154924817L, 819L: 962864341L, 820L: 3242135L, 821L: 18111245L, 822L: 14467210L, 823L: 228410136L, 824L: 110412144L, 825L: 613L, 826L: 28481734L, 827L: 207482L, 828L: 12861L, 829L: 124639L, 830L: 674123030L, 831L: 3652979L, 832L: 304486030L, 833L: 19488653L, 834L: 196492538L, 836L: 49316913L, 837L: 88408577L, 838L: 830734L, 839L: 16649624L, 840L: 4183559L, 841L: 315707517L, 842L: 10189L, 843L: 111629L, 844L: 741234L, 845L: 446L, 846L: 18253190L, 847L: 37793652L, 848L: 348558532L, 849L: 66603146L, 850L: 10133911L, 851L: 61607373L, 852L: 456544631L, 853L: 164565029L, 854L: 121068685L, 855L: 10784930L, 856L: 112651L, 857L: 9289840L, 858L: 8027717L, 859L: 85944301L, 860L: 99067501L, 861L: 505106447L, 862L: 324428402L, 863L: 1016678957L, 864L: 4018729L, 865L: 478350334L, 866L: 144667575L, 867L: 30115043L, 868L: 1181835940L, 869L: 280904764L, 870L: 83058113L, 871L: 183467L, 872L: 67060664L, 873L: 96120920L, 874L: 2266597L, 875L: 331612763L, 876L: 343191L, 877L: 35033116L, 878L: 57703672L, 879L: 120283140L, 880L: 393741020L, 881L: 266829457L, 882L: 44725668L, 883L: 290781433L, 884L: 361086305L, 885L: 65441899L, 887L: 602337424L, 888L: 29349992L, 889L: 15025851L, 890L: 486431670L, 891L: 149077635L, 892L: 135138432L, 893L: 77042338L, 894L: 10289417L, 895L: 20648044L, 896L: 2452451L, 897L: 730112443L, 898L: 1002971374L, 899L: 23358011L, 900L: 111862544L, 901L: 10556360L, 902L: 242472475L, 903L: 306689171L, 904L: 9633184L, 905L: 680000707L, 906L: 292307400L, 907L: 2117908785L, 908L: 608L, 909L: 469476850L, 910L: 8808503L, 911L: 633281692L, 912L: 498931802L, 913L: 4317945L, 914L: 1398472L, 915L: 170782324L, 916L: 1658746L, 917L: 47747100L, 918L: 77896372L, 919L: 566322929L, 920L: 529492090L, 921L: 1811808L, 922L: 35278153L, 923L: 151358596L, 924L: 568589L, 925L: 3312L, 926L: 187487738L, 927L: 10799L, 928L: 32831162L, 929L: 22746L, 930L: 22400641L, 931L: 703382335L, 932L: 31137685L, 933L: 146021454L, 934L: 1280344L, 935L: 87092102L, 936L: 37936964L, 937L: 141715548L, 938L: 422159111L, 939L: 4363575L, 940L: 2115232293L, 941L: 578416L, 942L: 45912792L, 943L: 2871791L, 944L: 15338L, 945L: 40001980L, 946L: 183111501L, 947L: 133454995L, 948L: 4565L, 949L: 127345365L, 950L: 15371149L, 951L: 5466061L, 952L: 248920272L, 953L: 4259L, 954L: 137040L, 955L: 331810836L, 956L: 41929732L, 957L: 16897340L, 958L: 22548596L, 959L: 32711004L, 960L: 4208924L, 961L: 413046722L, 962L: 1115292799L, 963L: 43867623L, 964L: 38853159L, 965L: 1518361L, 966L: 185280186L, 967L: 4034956L, 968L: 54779112L, 969L: 72220L, 970L: 10396L, 971L: 61114L, 972L: 56368913L, 973L: 1658644289L, 974L: 1698309845L, 975L: 217219333L, 976L: 11428412L, 977L: 34293002L, 978L: 3747L, 979L: 90548244L, 981L: 258722299L, 982L: 1334594698L, 983L: 334473847L, 984L: 80643150L, 985L: 690394712L, 986L: 169468125L, 987L: 3815814055L, 988L: 127908704L, 989L: 436691694L, 990L: 952L, 991L: 84914602L, 992L: 6519028L, 994L: 125407479L, 995L: 489L, 996L: 8670323L, 997L: 226732575L, 998L: 204099906L, 999L: 36787712L, 1000L: 575771L, 1001L: 17444L, 1002L: 14192124L, 1003L: 5424297L, 1004L: 634064439L, 1005L: 1214954227L, 1006L: 414227L, 1007L: 1358L, 1008L: 80646L, 1009L: 66150997L, 1010L: 4515L, 1011L: 20455071L, 1012L: 7813L, 1013L: 537784L, 1014L: 81902256L, 1015L: 788027L, 1016L: 267971171L, 1017L: 428607423L, 1018L: 25403452L, 1019L: 316450517L, 1020L: 43022944L, 1021L: 843102246L, 1022L: 2783083128L, 1023L: 154718514L, 1024L: 52437271L, 1025L: 71405101L, 1026L: 196131331L, 1027L: 159114747L, 1028L: 11340419L, 1029L: 156758154L, 1030L: 154981447L, 1031L: 670293850L, 1032L: 13104L, 1033L: 31202161L, 1034L: 267967773L, 1035L: 908387L, 1036L: 6015L, 1037L: 8634L, 1038L: 21520982L, 1039L: 96617765L, 1040L: 223334552L, 1041L: 553467848L, 1042L: 28602587L, 1043L: 37957093L, 1044L: 37139364L, 1045L: 40149520L, 1046L: 297347L, 1047L: 1221267L, 1048L: 649529L, 1049L: 673L, 1050L: 56340261L, 1051L: 252543L, 1052L: 331752306L, 1053L: 87229287L, 1054L: 104920713L, 1055L: 65584598L, 1056L: 614L, 1057L: 58147462L, 1058L: 9063905L, 1059L: 24214402L, 1060L: 12359311L, 1061L: 102088043L, 1062L: 92474732L, 1063L: 94596227L, 1064L: 4168277L, 1065L: 1193329356L, 1066L: 52075360L, 1067L: 5144124L, 1068L: 83468056L, 1069L: 87563066L, 1070L: 1241325L, 1071L: 4093067L, 1072L: 13246632L, 1073L: 14158950L, 1074L: 164992576L, 1075L: 104701452L, 1076L: 395832328L, 1077L: 803329082L, 1078L: 1025453883L, 1079L: 575730525L, 1080L: 29325963L, 1081L: 149575421L, 1082L: 29334458L, 1083L: 178030540L, 1085L: 79142412L, 1086L: 95707L, 1087L: 26516830L, 1088L: 45648L, 1089L: 65084918L, 1090L: 154292624L, 1092L: 33685979L, 1093L: 101157833L, 1094L: 6216802L, 1095L: 344942509L, 1096L: 1495063804L, 1097L: 6652L, 1098L: 8418280L, 1099L: 39723809L, 1100L: 3100894L, 1101L: 1178041L, 1102L: 357795372L, 1103L: 1518605L, 1104L: 11179L, 1105L: 164594480L, 1106L: 89312000L, 1107L: 64484356L, 1108L: 1202771L, 1109L: 1052993L, 1110L: 453010719L, 1111L: 1198041L, 1112L: 36898295L, 1113L: 21938257L, 1114L: 111482227L, 1115L: 353929944L, 1116L: 170501592L, 1117L: 796659888L, 1118L: 2534282L, 1119L: 39917976L, 1120L: 29195145L, 1121L: 155367702L, 1122L: 29399148L, 1123L: 135234408L, 1124L: 6889532L, 1125L: 91615447L, 1126L: 203531977L, 1127L: 28685163L, 1128L: 4584604L, 1129L: 457L, 1130L: 30594373L, 1131L: 58791033L, 1132L: 5714199L, 1133L: 21729L, 1134L: 3450L, 1135L: 4913L, 1136L: 77629L, 1137L: 1109503871L, 1138L: 42940L, 1139L: 30904931L, 1140L: 207491132L, 1141L: 111066647L, 1142L: 1252L, 1143L: 33288171L, 1144L: 40533632L, 1145L: 75048893L, 1146L: 63485L, 1147L: 374910489L, 1148L: 24040L, 1149L: 6343360L, 1150L: 4081L, 1151L: 741235L, 1152L: 4386341L, 1153L: 17886122L, 1154L: 262639944L, 1155L: 1089583907L, 1156L: 9556388L, 1157L: 536L, 1158L: 5475L, 1159L: 95947075L, 1160L: 39423745L, 1161L: 113665112L, 1162L: 1396148159L, 1163L: 704L, 1164L: 590915554L, 1165L: 57494418L, 1166L: 30938L, 1167L: 234145419L, 1168L: 5699268L, 1169L: 266794L, 1170L: 124875035L, 1171L: 1439658699L, 1172L: 1200837712L, 1173L: 29853906L, 1174L: 342293524L, 1175L: 63094184L, 1176L: 67668L, 1177L: 44989L, 1178L: 138834205L, 1179L: 154403509L, 1180L: 349378L, 1181L: 77870730L, 1182L: 18443307L, 1183L: 8302987L, 1184L: 193071199L, 1185L: 436161959L, 1186L: 3894528L, 1187L: 412292254L, 1188L: 2346673110L, 1189L: 191887311L, 1190L: 57526423L, 1191L: 36443139L, 1192L: 8726L, 1193L: 30596938L, 1194L: 2815289L, 1195L: 18215526L, 1196L: 15480898L, 1197L: 13611592L, 1198L: 46436929L, 1199L: 32436258L, 1200L: 271988299L, 1201L: 42298727L, 1202L: 317585366L, 1203L: 641608637L, 1204L: 2054561L, 1205L: 1011063370L, 1206L: 374572817L, 1207L: 792179849L, 1208L: 2032751165L, 1209L: 146864L, 1210L: 99280839L, 1211L: 488983874L, 1212L: 2724L, 1213L: 85819588L, 1214L: 112717101L, 1215L: 6429L, 1216L: 8734040L, 1217L: 42524243L, 1218L: 78361145L, 1219L: 447283L, 1220L: 613923154L, 1221L: 123718162L, 1222L: 1242554929L, 1223L: 609912788L, 1224L: 482349867L, 1225L: 181639324L, 1226L: 369612711L, 1227L: 274766921L, 1228L: 205272057L, 1229L: 120L, 1230L: 288871L, 1231L: 54243171L, 1232L: 144645466L, 1233L: 69935082L, 1234L: 34317L, 1235L: 143998690L, 1236L: 1070578240L, 1237L: 457359184L, 1238L: 1175L, 1239L: 354625860L, 1241L: 193339600L, 1242L: 346959152L, 1243L: 1956131L, 1244L: 77513L, 1245L: 1280577165L, 1246L: 26167082L, 1247L: 17683316L, 1248L: 52797847L, 1249L: 228410076L, 1250L: 14412702L, 1251L: 1175991L, 1252L: 1032L, 1253L: 147985514L, 1254L: 159209617L, 1255L: 441085739L, 1256L: 90221758L, 1257L: 323378405L, 1258L: 10149992L, 1259L: 11846667L, 1261L: 838054716L, 1262L: 116530814L, 1263L: 464962822L, 1264L: 5345669L, 1265L: 154290378L, 1266L: 117356305L, 1267L: 107671037L, 1268L: 34083663L, 1269L: 66800L, 1270L: 113032L, 1271L: 1546518L, 1272L: 45150340L, 1273L: 618L, 1274L: 1591L, 1275L: 165826207L, 1276L: 191402910L, 1277L: 110512240L, 1278L: 1075327L, 1279L: 69862820L, 1280L: 144956544L, 1281L: 21520L, 1282L: 113451464L, 1283L: 121438571L, 1284L: 39052895L, 1285L: 234673722L, 1286L: 1200L, 1287L: 9155L, 1288L: 57047902L, 1289L: 39326531L, 1290L: 313040973L, 1291L: 561200229L, 1292L: 2065L, 1293L: 44578289L, 1294L: 216679014L, 1295L: 175177178L, 1296L: 259424L, 1297L: 51949451L, 1298L: 37822654L, 1299L: 9446L, 1300L: 696957L, 1301L: 138179284L, 1302L: 136921951L, 1303L: 9787465L, 1304L: 78897075L, 1305L: 20725252L, 1306L: 2606946351L, 1307L: 89785281L, 1308L: 206465139L, 1309L: 119049071L, 1310L: 747407788L, 1311L: 306623284L, 1312L: 2044875L, 1313L: 36477712L, 1314L: 557139885L, 1315L: 291835900L, 1316L: 301738L, 1317L: 14644172L, 1318L: 372548577L, 1319L: 283042L, 1320L: 1127263246L, 1321L: 274980488L, 1322L: 342101254L, 1323L: 1460L, 1324L: 19950025L, 1325L: 470808L, 1326L: 123519076L, 1327L: 51409959L, 1328L: 1884638L, 1329L: 1034606L, 1330L: 15891913L, 1331L: 48464058L, 1332L: 637987110L, 1333L: 33304859L, 1334L: 1935628994L, 1335L: 24599758L, 1336L: 14054354L, 1337L: 118946609L, 1338L: 162901011L, 1339L: 1670381047L, 1340L: 288973498L, 1341L: 12526933L, 1342L: 113702320L, 1343L: 1316752751L, 1344L: 162913523L, 1345L: 638552052L, 1346L: 139430492L, 1347L: 728066L, 1348L: 65482117L, 1349L: 40448634L, 1350L: 57865389L, 1351L: 75620836L, 1352L: 12615543L, 1353L: 109258494L, 1354L: 8458611L, 1355L: 1613L, 1356L: 84536048L, 1357L: 79049488L, 1358L: 3129537L, 1359L: 28005L, 1360L: 579496860L, 1361L: 2187L, 1362L: 39158L, 1363L: 1601218L, 1364L: 149039171L, 1365L: 7174861L, 1366L: 857782845L, 1367L: 415080551L, 1368L: 31458621L, 1369L: 2138923L, 1370L: 74823170L, 1371L: 366592096L, 1372L: 12318L, 1373L: 18685615L, 1375L: 44741293L, 1376L: 824501L, 1377L: 73978124L, 1378L: 36461L, 1379L: 987535595L, 1380L: 537246178L, 1381L: 67142405L, 1382L: 1007283132L, 1383L: 4256723L, 1384L: 8248445L, 1385L: 3371405L, 1386L: 40924982L, 1387L: 3684L, 1388L: 10253447L, 1389L: 128094L, 1390L: 188475408L, 1391L: 27254247L, 1392L: 410790007L, 1393L: 38963810L, 1394L: 518382804L, 1395L: 1000L, 1396L: 577449L, 1397L: 254470852L, 1398L: 817715L, 1399L: 10366881L, 1400L: 156717713L, 1401L: 201442362L, 1402L: 538451826L, 1403L: 22248830L, 1404L: 20124084L, 1405L: 320L, 1406L: 93435540L, 1407L: 53018918L, 1408L: 58832259L, 1409L: 252105043L, 1410L: 56613L, 1411L: 252234383L, 1412L: 185788632L, 1413L: 300628090L, 1414L: 412239022L, 1415L: 220722564L, 1416L: 208648755L, 1417L: 71018279L, 1418L: 279453365L, 1419L: 268715017L, 1420L: 144397879L, 1421L: 122352L, 1422L: 158905839L, 1423L: 9269622L, 1424L: 117401688L, 1425L: 445394L, 1426L: 5505L, 1427L: 639260855L, 1428L: 73100896L, 1429L: 136141692L, 1430L: 47834369L, 1431L: 1045209L, 1432L: 139318274L, 1433L: 104087843L, 1434L: 258930276L, 1435L: 25382082L, 1436L: 689391L, 1437L: 1126091L, 1438L: 202334183L, 1439L: 152000509L, 1440L: 516226840L, 1441L: 183163203L, 1442L: 907294671L, 1443L: 46907040L, 1444L: 757058877L, 1445L: 312362470L, 1446L: 1363306L, 1447L: 227504619L, 1448L: 919398333L, 1449L: 600979901L, 1450L: 79786019L, 1451L: 224953349L, 1452L: 83518644L, 1453L: 46243576L, 1454L: 1068999135L, 1455L: 1466285115L, 1456L: 217108442L, 1457L: 52202982L, 1458L: 13542174L, 1459L: 201068888L, 1460L: 4911048724L, 1461L: 380000931L, 1462L: 168161447L, 1463L: 88162L, 1464L: 191413394L, 1465L: 296639086L, 1466L: 1967841255L, 1467L: 1150L, 1468L: 314440975L, 1469L: 40217778L, 1470L: 336348855L, 1471L: 17938493L, 1472L: 2784985L, 1473L: 109745L, 1474L: 1776411048L, 1475L: 27553932L, 1476L: 34082202L, 1477L: 886471414L, 1478L: 26083L, 1479L: 3775195656L, 1480L: 60773349L, 1481L: 74799267L, 1482L: 3276740L, 1483L: 50301L, 1484L: 287654284L, 1485L: 1057011082L, 1486L: 330197529L, 1487L: 1841998034L, 1488L: 530L, 1489L: 15444460L, 1490L: 88384270L, 1491L: 162576568L, 1492L: 861750475L, 1493L: 163335604L, 1494L: 110097719L, 1495L: 253761618L, 1496L: 323767344L, 1497L: 221860113L, 1498L: 4703012L, 1499L: 1500815247L, 1500L: 5613L, 1501L: 877L, 1502L: 32007L, 1504L: 1307218L, 1505L: 358002L, 1506L: 9067L, 1507L: 91286211L, 1509L: 165554915L, 1510L: 515847448L, 1511L: 451037223L, 1512L: 55368666L, 1513L: 229936646L, 1514L: 147844470L, 1515L: 52113318L, 1516L: 161606452L, 1517L: 5674270L, 1518L: 228777269L, 1519L: 63614360L, 1520L: 21199057L, 1521L: 19841543L, 1522L: 1911L, 1523L: 33123301L, 1524L: 28806435L, 1525L: 129740L, 1526L: 9285103L, 1527L: 168375491L, 1528L: 214171870L, 1529L: 383334552L, 1530L: 2398899844L, 1531L: 526523314L, 1532L: 8080975L, 1533L: 68723L, 1534L: 3763873L, 1535L: 2460117L, 1536L: 149266228L, 1537L: 23450L, 1538L: 6797112L, 1539L: 11034786L, 1540L: 344681535L, 1541L: 194194891L, 1542L: 175613236L, 1543L: 5592L, 1544L: 145719891L, 1545L: 32537156L, 1546L: 33615339L, 1547L: 8450987L, 1548L: 13785L, 1549L: 11096L, 1550L: 65L, 1551L: 514650394L, 1552L: 25713412L, 1553L: 4199L, 1554L: 14650L, 1555L: 22270627L, 1556L: 4137850L, 1557L: 7469L, 1558L: 214054L, 1559L: 1001L, 1560L: 368006942L, 1561L: 28830891L, 1562L: 12380L, 1563L: 7872L, 1564L: 100739L, 1566L: 34691777L, 1567L: 54259591L, 1568L: 58453366L, 1569L: 156010L, 1570L: 105857276L, 1571L: 53273309L, 1572L: 1404L, 1573L: 95731854L, 1574L: 18534L, 1575L: 4748906L, 1576L: 11797L, 1577L: 344277720L, 1578L: 26628030L, 1579L: 701774647L, 1580L: 110803513L, 1581L: 776816L, 1582L: 91565383L, 1583L: 377338118L, 1584L: 3894963L, 1585L: 86102318L, 1586L: 259982656L, 1587L: 121114171L, 1588L: 365700093L, 1589L: 22047441L, 1590L: 10495561L, 1591L: 352324665L, 1592L: 62491L, 1593L: 168310L, 1594L: 99868147L, 1595L: 38030330L, 1596L: 1116280L, 1597L: 619191388L, 1598L: 53077314L, 1599L: 81144798L, 1600L: 17677838L, 1601L: 610230504L, 1602L: 825591L, 1603L: 54933508L, 1604L: 2209888781L, 1605L: 44732412L, 1606L: 312787501L, 1607L: 691524422L, 1608L: 1037401912L, 1609L: 112070626L, 1610L: 20852744L, 1611L: 1161110L, 1612L: 6541822L, 1613L: 152549239L, 1614L: 7274269L, 1615L: 17686394L, 1616L: 3624382L, 1617L: 44590L, 1618L: 15021303L, 1619L: 11934272L, 1620L: 437205865L, 1621L: 942L, 1622L: 1237958109L, 1623L: 24940303L, 1624L: 4373126L, 1625L: 2770779493L, 1626L: 2509598L, 1627L: 2185394454L, 1628L: 676181L, 1629L: 8659L, 1630L: 8870714882L, 1631L: 2719268L, 1632L: 22052879L, 1633L: 125159556L, 1634L: 33639486L, 1635L: 296784956L, 1636L: 6684L, 1637L: 267692L, 1638L: 146325476L, 1639L: 297600350L, 1640L: 132664448L, 1641L: 515212595L, 1642L: 23788128L, 1643L: 1501L, 1644L: 45070971L, 1645L: 1237711885L, 1646L: 185046051L, 1647L: 174041L, 1648L: 367422788L, 1649L: 52941604L, 1650L: 146316523L, 1651L: 6345L, 1652L: 525778709L, 1653L: 250634753L, 1654L: 373307L, 1655L: 173163889L, 1656L: 9123273L, 1657L: 152717466L, 1658L: 2063L, 1659L: 810252658L, 1660L: 7607L, 1661L: 2601L, 1662L: 61677133L, 1663L: 1262L, 1664L: 29952813L, 1665L: 6819093L, 1666L: 58831963L, 1667L: 82990934L, 1668L: 152859L, 1669L: 203021644L, 1670L: 212414069L, 1671L: 232696436L, 1672L: 896603689L, 1673L: 7008L, 1674L: 9932972L, 1675L: 25273985L, 1676L: 18425218L, 1677L: 69214001L, 1678L: 86455232L, 1679L: 39343241L, 1680L: 231582986L, 1681L: 134659790L, 1682L: 37426480L, 1683L: 15563567L, 1684L: 53570089L, 1685L: 191516579L, 1686L: 18119088L, 1687L: 789507L, 1688L: 153976698L, 1689L: 138441327L, 1690L: 49831711L, 1691L: 31954634L, 1692L: 64083851L, 1693L: 85519077L, 1694L: 323913628L, 1695L: 3837610L, 1696L: 331411921L, 1697L: 38209063L, 1698L: 22058846L, 1699L: 260126800L, 1700L: 160144475L, 1701L: 22590809L, 1702L: 63091462L, 1703L: 134477315L, 1704L: 758543L, 1705L: 3969L, 1706L: 764L, 1707L: 72989450L, 1708L: 2998L, 1709L: 43864462L, 1710L: 804286L, 1711L: 153082192L, 1712L: 73L, 1713L: 200609706L, 1714L: 1340644L, 1715L: 15143L, 1716L: 148527371L, 1717L: 137764330L, 1718L: 40840056L, 1719L: 3380L, 1720L: 40L, 1721L: 4359171L, 1722L: 69976461L, 1723L: 8172L, 1724L: 54962163L, 1725L: 15085L, 1726L: 175576L, 1727L: 4382688L, 1729L: 426491151L, 1730L: 59962942L, 1731L: 1845356L, 1732L: 12630L, 1734L: 66202456L, 1735L: 70023783L, 1736L: 435912028L, 1737L: 143213497L, 1738L: 169797314L, 1739L: 33634809L, 1740L: 1277L, 1741L: 76199830L, 1742L: 1393769L, 1743L: 2106L, 1744L: 3326L, 1745L: 4862355L, 1746L: 38284780L, 1747L: 57965310L, 1748L: 1769L, 1749L: 83428904L, 1750L: 118930862L, 1751L: 96951322L, 1752L: 2028L, 1753L: 283726606L, 1754L: 29088460L, 1755L: 140460224L, 1756L: 85254488L, 1757L: 5054L, 1758L: 127918480L, 1759L: 76452285L, 1760L: 25520665L, 1761L: 110766761L, 1762L: 312506L, 1763L: 449540207L, 1764L: 190933447L, 1765L: 22473497L, 1767L: 195312946L, 1768L: 41717328L, 1769L: 308734383L, 1770L: 69272465L, 1771L: 8206808L, 1772L: 7111L, 1773L: 2053L, 1774L: 184105186L, 1775L: 353029382L, 1776L: 45960458L, 1777L: 607757171L, 1778L: 41743L, 1779L: 261019784L, 1780L: 16742213L, 1781L: 337831459L, 1782L: 308430503L, 1783L: 216474815L, 1784L: 177316993L, 1785L: 33801336L, 1786L: 32155024L, 1787L: 96455L, 1788L: 209421146L, 1789L: 408465194L, 1790L: 148235356L, 1791L: 779L, 1792L: 41142541L, 1793L: 120608432L, 1794L: 102503316L, 1795L: 22751L, 1796L: 1464564853L, 1797L: 369087329L, 1798L: 12327359L, 1799L: 17812334L, 1800L: 190822893L, 1801L: 405896794L, 1802L: 33655504L, 1803L: 68909352L, 1804L: 38554280L, 1805L: 713921111L, 1806L: 151257792L, 1807L: 4908377L, 1809L: 340964553L, 1810L: 39398853L, 1811L: 3700L, 1812L: 29233555L, 1813L: 283289L, 1814L: 125786953L, 1815L: 47649044L, 1816L: 392512338L, 1817L: 1786988945L, 1818L: 189363071L, 1819L: 1141950835L, 1820L: 32643640L, 1821L: 80876195L, 1822L: 25006346L, 1823L: 3827720L, 1824L: 830357441L, 1825L: 1607447169L, 1826L: 4849L, 1827L: 4752913L, 1829L: 2488094L, 1830L: 345095236L, 1831L: 17470L, 1832L: 33012721L, 1833L: 2081155L, 1834L: 26522847L, 1835L: 41924835L, 1836L: 97330108L, 1838L: 3250555L, 1839L: 4543962L, 1840L: 313766418L, 1841L: 69L, 1842L: 33786828L, 1843L: 224650332L, 1844L: 3089323L, 1845L: 94655724L, 1846L: 70217166L, 1847L: 312031371L, 1848L: 4694449730L, 1849L: 44463878L, 1850L: 77730455L, 1851L: 21028615L, 1852L: 9437757L, 1853L: 154492140L, 1854L: 46362L, 1855L: 238516379L, 1856L: 65605146L, 1857L: 563L, 1858L: 506924L, 1859L: 8357023L, 1860L: 70896528L, 1861L: 95491820L, 1862L: 704291L, 1863L: 99578939L, 1864L: 1153008419L, 1865L: 519606939L, 1866L: 5871796L, 1867L: 576697404L, 1868L: 142951511L, 1869L: 270977823L, 1870L: 34481L, 1871L: 6069776L, 1872L: 5001L, 1873L: 235896505L, 1874L: 6124879L, 1875L: 7944196L, 1876L: 18947674L, 1877L: 39294114L, 1878L: 131258243L, 1879L: 712L, 1880L: 164853331L, 1881L: 1854L, 1882L: 84373162L, 1883L: 520L, 1884L: 51868110L, 1885L: 1862358757L, 1886L: 31585414L, 1887L: 143507L, 1888L: 994337L, 1889L: 1720533075L, 1890L: 224836061L, 1891L: 110804057L, 1892L: 2392150L, 1893L: 29019952L, 1894L: 2270484L, 1895L: 13997388L, 1896L: 79962986L, 1897L: 291586598L, 1898L: 5305987L, 1899L: 23587114L, 1900L: 381473816L, 1901L: 280841806L, 1902L: 2909L, 1903L: 35677L, 1904L: 19984L, 1905L: 490L, 1906L: 7018616L, 1907L: 1411L, 1908L: 9345L, 1909L: 3722911L, 1910L: 19985L, 1911L: 72719596L, 1912L: 785994962L, 1913L: 34426682L, 1914L: 434213732L, 1915L: 126328372L, 1916L: 19557256L, 1917L: 42730L, 1918L: 4141L, 1919L: 26205674L, 1920L: 6461L, 1921L: 3824594L, 1922L: 237646073L, 1923L: 884350988L, 1924L: 74364433L, 1925L: 80965662L, 1927L: 74029865L, 1928L: 1600956L, 1929L: 990077801L, 1930L: 247112212L, 1931L: 805L, 1932L: 147426538L, 1933L: 11841035L, 1934L: 1239L, 1935L: 251105343L, 1936L: 205963719L, 1937L: 979L, 1939L: 938L, 1940L: 24410767L, 1941L: 102376L, 1942L: 42557388L, 1943L: 35922L, 1944L: 586309L, 1945L: 1524054L, 1946L: 67005L, 1947L: 361378967L, 1948L: 55441043L, 1949L: 107768368L, 1950L: 62022472L, 1951L: 3066279L, 1952L: 53040457L, 1953L: 84924772L, 1954L: 130972044L, 1955L: 180442029L, 1956L: 8087532L, 1957L: 47114L, 1958L: 421119212L, 1959L: 1480276L, 1960L: 2804L, 1961L: 283979835L, 1962L: 166L, 1963L: 128077705L, 1964L: 512192L, 1965L: 9877594L, 1966L: 1477662L, 1967L: 66262708L, 1968L: 200853684L, 1969L: 329968725L, 1970L: 70624L, 1971L: 18265361L, 1972L: 31626978L, 1973L: 46609472L, 1974L: 145084301L, 1975L: 13442701L, 1976L: 45353006L, 1977L: 194666222L, 1978L: 29235101L, 1979L: 98061258L, 1980L: 25366574L, 1981L: 527895L, 1982L: 2212352L, 1983L: 84749692L, 1984L: 46249114L, 1985L: 20046539L, 1986L: 420569L, 1987L: 1666L, 1988L: 45069866L, 1989L: 557745L, 1990L: 150768201L, 1991L: 39107524L, 1992L: 1696355L, 1993L: 130076474L, 1994L: 19236L, 1995L: 77059569L, 1996L: 5064863L, 1997L: 43180539L, 1998L: 348632463L, 1999L: 32087437L, 2000L: 867700610L, 2001L: 88124612L, 2002L: 612268L, 2003L: 961648L, 2004L: 168439502L, 2005L: 2453165L, 2006L: 1260L, 2007L: 15276L, 2008L: 223109370L, 2009L: 111604L, 2010L: 631174L, 2011L: 91442088L, 2012L: 151441158L, 2013L: 21773529L, 2014L: 30623352L, 2015L: 3884L, 2016L: 27215832L, 2017L: 17878595L, 2018L: 286122150L, 2019L: 4033L, 2020L: 1543274344L, 2021L: 2070332L, 2022L: 7373L, 2023L: 1005418450L, 2024L: 15986L, 2025L: 5628663L, 2026L: 6049088L, 2027L: 243218021L, 2028L: 252930166L, 2029L: 8825085L, 2030L: 76328890L, 2031L: 8489L, 2033L: 136941385L, 2034L: 107951247L, 2035L: 42018151L, 2036L: 8139L, 2037L: 142773231L, 2038L: 5399034L, 2039L: 312534L, 2040L: 12359142L, 2041L: 66106L, 2042L: 18574L, 2043L: 190706674L, 2044L: 73587944L, 2045L: 5085L, 2046L: 106110092L, 2047L: 146755982L, 2048L: 1257L, 2049L: 55390916L, 2050L: 354618807L, 2051L: 615032395L, 2052L: 8290532L, 2053L: 25973806L, 2054L: 2514498L, 2055L: 243323858L, 2056L: 101837157L, 2057L: 2545L, 2058L: 1495762L, 2059L: 31468L, 2060L: 100878833L, 2061L: 527158213L, 2062L: 6674671L, 2063L: 128L, 2064L: 59239719L, 2065L: 19656681L, 2066L: 59339622L, 2067L: 41993827L, 2068L: 2837L, 2069L: 20820L, 2070L: 69588L, 2071L: 208898729L, 2072L: 1570L, 2073L: 270400L, 2074L: 7494355L, 2075L: 154081127L, 2076L: 155693885L, 2077L: 688158676L, 2078L: 4389L, 2079L: 311260831L, 2080L: 94148058L, 2081L: 701357L, 2082L: 111398188L, 2083L: 80027226L, 2084L: 299328035L, 2085L: 47200597L, 2086L: 206771402L, 2087L: 24571942L, 2088L: 270387477L, 2089L: 856L, 2090L: 261340685L, 2091L: 20071957L, 2092L: 167820930L, 2093L: 116220393L, 2094L: 179173432L, 2095L: 1157773L, 2096L: 23800443L, 2097L: 304593795L, 2098L: 172596379L, 2099L: 391936100L, 2100L: 2681499L, 2101L: 121302533L, 2102L: 66271431L, 2103L: 24890567L, 2104L: 91736331L, 2105L: 693614281L, 2106L: 782119427L, 2107L: 68994780L, 2108L: 116733022L, 2109L: 506829484L, 2110L: 440717579L, 2111L: 125002727L, 2112L: 867505317L, 2113L: 17106459L, 2114L: 189410371L, 2115L: 26142609L, 2116L: 100664063L, 2117L: 5339L, 2118L: 3500950L, 2119L: 122912111L, 2120L: 28564241L, 2121L: 73205104L, 2122L: 4458L, 2123L: 350385608L, 2124L: 8869079L, 2125L: 50126849L, 2126L: 616735728L, 2127L: 1592L, 2128L: 150094203L, 2129L: 3661L, 2130L: 5493L, 2131L: 13289772L, 2132L: 22542909L, 2133L: 8371L, 2134L: 59797839L, 2135L: 61170446L, 2136L: 211244342L, 2137L: 105831475L, 2138L: 415048606L, 2139L: 29164088L, 2140L: 16494619L, 2141L: 372922111L, 2142L: 38312587L, 2143L: 256976453L, 2144L: 1280197752L, 2145L: 362367619L, 2146L: 287590180L, 2147L: 332473521L, 2148L: 61558L, 2149L: 421970020L, 2150L: 88618753L, 2151L: 1153944L, 2152L: 594357837L, 2153L: 509L, 2154L: 2296122L, 2155L: 109009049L, 2156L: 1479137L, 2157L: 46128911L, 2158L: 89059843L, 2159L: 592164456L, 2160L: 15136953L, 2161L: 96052985L, 2162L: 157961986L, 2163L: 7456916L, 2164L: 415268181L, 2165L: 69180879L, 2166L: 186316L, 2167L: 351571085L, 2168L: 384062188L, 2169L: 329018783L, 2170L: 205471812L, 2171L: 20915787L, 2172L: 23967562L, 2173L: 11944556L, 2174L: 59156176L, 2175L: 24060L, 2176L: 3680454L, 2177L: 17871410L, 2178L: 137821406L, 2179L: 2158263020L, 2180L: 9745379L, 2181L: 23118123L, 2182L: 42192655L, 2183L: 10445L, 2184L: 79739L, 2185L: 127694125L, 2186L: 5200563569L, 2187L: 16900039L, 2188L: 316554412L, 2189L: 443841190L, 2190L: 116347977L, 2191L: 833264298L, 2192L: 730531694L, 2193L: 289514968L, 2194L: 1659545800L, 2195L: 48060072L, 2196L: 692624508L, 2197L: 275092371L, 2198L: 118436200L, 2199L: 64855268L, 2200L: 163900808L, 2201L: 344111398L, 2203L: 4324478L, 2204L: 4519L, 2205L: 7938L, 2206L: 123708661L, 2207L: 58451804L, 2208L: 57940081L, 2209L: 6073716L, 2210L: 69209782L, 2211L: 2669L, 2212L: 2548569L, 2213L: 232900810L, 2214L: 171435568L, 2215L: 44872939L, 2216L: 377334L, 2217L: 96004728L, 2218L: 79025231L, 2219L: 27012587L, 2220L: 138731203L, 2221L: 95180151L, 2222L: 214735762L, 2223L: 224133237L, 2224L: 3624L, 2225L: 79993580L, 2226L: 19092708L, 2227L: 8962000L, 2228L: 73670597L, 2229L: 31633835L, 2230L: 161625161L, 2231L: 946071328L, 2232L: 213612L, 2233L: 1365749L, 2234L: 69304097L, 2235L: 141300434L, 2236L: 33812043L, 2237L: 241787L, 2238L: 17680260L, 2239L: 5418213L, 2240L: 245939495L, 2241L: 28753698L, 2242L: 1038653L, 2243L: 97807L, 2244L: 21436040L, 2245L: 218562599L, 2246L: 20055L, 2247L: 220586086L, 2248L: 56296446L, 2249L: 51699628L, 2250L: 38177925L, 2251L: 8292L, 2252L: 2052094912L, 2253L: 95812906L, 2254L: 40207066L, 2255L: 19372980L, 2256L: 65673937L, 2257L: 4516L, 2258L: 91547960L, 2259L: 2819L, 2260L: 32481034L, 2261L: 47012406L, 2262L: 277296599L, 2263L: 203469L, 2264L: 38500515L, 2265L: 1765964445L, 2266L: 909672661L, 2267L: 136349291L, 2268L: 1995642322L, 2269L: 32702297L, 2270L: 48407786L, 2271L: 62148449L, 2272L: 221693740L, 2274L: 7469722L, 2275L: 1924502L, 2276L: 111349152L, 2277L: 214076543L, 2278L: 3485521L, 2279L: 699244589L, 2280L: 163161890L, 2281L: 987893L, 2282L: 110872928L, 2283L: 170596L, 2284L: 778694L, 2285L: 2371800L, 2286L: 93048L, 2287L: 24361L, 2288L: 11060042L, 2289L: 69965136L, 2290L: 582L, 2291L: 470490617L, 2292L: 381684L, 2293L: 10850531L, 2294L: 1744204L, 2295L: 2147212L, 2296L: 46255951L, 2297L: 69424082L, 2298L: 490309840L, 2299L: 58914616L, 2300L: 91845376L, 2301L: 396740L, 2302L: 4990423L, 2303L: 214947311L, 2304L: 48474453L, 2305L: 938839523L, 2306L: 532629168L, 2307L: 439530561L, 2308L: 11860522L, 2309L: 6281L, 2310L: 50406447L, 2311L: 522760L, 2312L: 4518L, 2313L: 119403703L, 2314L: 7762L, 2315L: 44858709L, 2316L: 57397746L, 2317L: 25591259L, 2318L: 44553594L, 2319L: 71463530L, 2320L: 25175283L, 2321L: 900757L, 2322L: 174091818L, 2323L: 9213110L, 2324L: 321L, 2325L: 3689649L, 2326L: 1617207L, 2327L: 12594230L, 2328L: 5823955L, 2329L: 315249497L, 2330L: 2045787L, 2331L: 1230126083L, 2332L: 82999800L, 2333L: 3013L, 2334L: 280888483L, 2335L: 1794681881L, 2336L: 20366L, 2337L: 7753L, 2338L: 28974750L, 2339L: 489157071L, 2340L: 807883925L, 2341L: 648577059L, 2342L: 380837526L, 2343L: 89367422L, 2344L: 213987976L, 2345L: 104612963L, 2346L: 304315472L, 2347L: 62319789L, 2348L: 732319633L, 2349L: 122993476L, 2350L: 59252811L, 2351L: 156193052L, 2352L: 600233L, 2353L: 2529644L, 2354L: 77817117L, 2355L: 998586288L, 2356L: 37192625L, 2357L: 424513L, 2358L: 8166091L, 2359L: 75079953L, 2360L: 121271975L, 2361L: 107264659L, 2362L: 203324849L, 2363L: 164447978L, 2364L: 55644770L, 2365L: 110517529L, 2366L: 15204948L, 2367L: 35832008L, 2368L: 252854781L, 2369L: 44740699L, 2370L: 56100547L, 2371L: 35451639L, 2372L: 509749420L, 2373L: 27545212L, 2374L: 180929911L, 2375L: 186L, 2376L: 149409908L, 2377L: 873196987L, 2378L: 264721606L, 2379L: 1670742L, 2380L: 474025344L, 2381L: 22835814L, 2382L: 325911604L, 2383L: 113966185L, 2384L: 23467978L, 2385L: 971821059L, 2386L: 571857578L, 2387L: 453097394L, 2388L: 73426012L, 2389L: 5546153L, 2390L: 20081921L, 2391L: 526562590L, 2392L: 240653902L, 2393L: 1473384L, 2394L: 36771989L, 2395L: 274158340L, 2396L: 472L, 2397L: 107269103L, 2398L: 12246L, 2399L: 114139677L, 2400L: 888309124L, 2401L: 4836034L, 2402L: 797857646L, 2403L: 2779L, 2404L: 150454965L, 2405L: 4548L, 2406L: 715173638L, 2407L: 2379344795L, 2408L: 2179389L, 2409L: 148001531L, 2410L: 2396492L, 2411L: 135430486L, 2412L: 29359595L, 2413L: 1460L, 2414L: 1203268871L, 2415L: 89368739L, 2416L: 155388853L, 2417L: 1769581391L, 2418L: 804207013L, 2419L: 197956838L, 2420L: 1257597730L, 2421L: 46812627L, 2422L: 181672506L, 2424L: 552362915L, 2425L: 81186L, 2426L: 91180022L, 2427L: 534414655L, 2428L: 65699463L, 2429L: 171030055L, 2430L: 32423591L, 2431L: 56184L, 2432L: 274858L, 2433L: 93162540L, 2434L: 840170L, 2435L: 103905351L, 2436L: 59966133L, 2437L: 230811L, 2438L: 100727954L, 2439L: 155344404L, 2440L: 45096069L, 2441L: 59888960L, 2442L: 153987753L, 2443L: 3289813L, 2444L: 815370041L, 2445L: 54315836L, 2446L: 1414244L, 2447L: 254121550L, 2448L: 597256179L, 2449L: 1345996522L, 2450L: 19387689L, 2451L: 21435691L, 2452L: 31927849L, 2453L: 897549490L, 2454L: 611795487L, 2455L: 664472L, 2456L: 6842L, 2457L: 2240973L, 2458L: 70027929L, 2459L: 621566290L, 2460L: 294405579L, 2461L: 247947370L, 2462L: 49961921L, 2463L: 224522195L, 2464L: 10350L, 2465L: 72512L, 2466L: 89426401L, 2467L: 33093390L, 2468L: 1049930963L, 2469L: 284003737L, 2470L: 43044418L, 2471L: 156552422L, 2472L: 734632962L, 2473L: 23366412L, 2474L: 38505667L, 2475L: 157890334L, 2476L: 67999325L, 2477L: 3124634L, 2478L: 56959204L, 2479L: 91021093L, 2480L: 78378282L, 2481L: 96384468L, 2482L: 356813633L, 2483L: 99335467L, 2484L: 66387649L, 2485L: 1706L, 2486L: 4890L, 2487L: 1679L, 2488L: 921073632L, 2489L: 142783567L, 2490L: 9321785L, 2491L: 405798217L, 2492L: 404168254L, 2493L: 79337344L, 2494L: 67036687L, 2495L: 77084L, 2496L: 107002716L, 2497L: 303522241L, 2498L: 542364980L, 2499L: 32852L, 2500L: 1148L, 2501L: 3106691L, 2502L: 685543323L, 2503L: 8411724L, 2504L: 15581348L, 2505L: 34925952L, 2506L: 396760L, 2507L: 116968170L, 2508L: 558075L, 2509L: 15209L, 2510L: 263581155L, 2511L: 159171698L, 2512L: 14529600L, 2513L: 306522769L, 2514L: 40790009L, 2515L: 15349L, 2516L: 22488127L, 2517L: 7996L, 2518L: 86948221L, 2519L: 126180190L, 2520L: 14361078L, 2521L: 83116L, 2522L: 9060458L, 2523L: 70966162L, 2524L: 51508L, 2525L: 2866L, 2526L: 940178753L, 2527L: 3085138081L, 2528L: 1723664451L, 2529L: 147808506L, 2530L: 40903L, 2531L: 757L, 2532L: 3217L, 2533L: 24747243L, 2534L: 870766275L, 2535L: 16781L, 2536L: 42482898L, 2537L: 5360222L, 2538L: 42708L, 2539L: 648443411L, 2540L: 6632L, 2541L: 193270725L, 2542L: 796998835L, 2543L: 30499469L, 2544L: 2210339L, 2545L: 226892L, 2546L: 25623997L, 2547L: 20966522L, 2548L: 2710772L, 2549L: 31348430L, 2550L: 28622372L, 2551L: 91317269L, 2552L: 14619292L, 2553L: 75348059L, 2554L: 102400445L, 2555L: 75353046L, 2557L: 103688206L, 2558L: 59451694L, 2559L: 2127269216L, 2560L: 118891389L, 2561L: 797608L, 2562L: 34610809L, 2563L: 48217325L, 2565L: 88544096L, 2566L: 704638955L, 2567L: 9189027L, 2568L: 272928L, 2569L: 48233611L, 2570L: 280535125L, 2571L: 21805759L, 2572L: 34097764L, 2573L: 256831426L, 2574L: 6031L, 2575L: 55648482L, 2576L: 34785536L, 2577L: 30032677L, 2578L: 8551712L, 2579L: 39653883L, 2580L: 2103839L, 2581L: 612L, 2582L: 4768423L, 2583L: 15325002L, 2584L: 24928857L, 2585L: 23604034L, 2586L: 19687L, 2587L: 390960625L, 2588L: 16672L, 2589L: 20768317L, 2590L: 751452288L, 2591L: 230466630L, 2592L: 38333448L, 2594L: 5269379L, 2595L: 12430376L, 2596L: 486316532L, 2597L: 1369020L, 2598L: 107777038L, 2599L: 316126148L, 2600L: 14031452L, 2601L: 4120666L, 2602L: 2042208550L, 2603L: 1610L, 2604L: 56343L, 2605L: 989242L, 2606L: 20287428L, 2607L: 11676907L, 2608L: 97296740L, 2609L: 213785L, 2610L: 608579217L, 2611L: 134662342L, 2612L: 50773030L, 2613L: 29604948L, 2614L: 152814258L, 2615L: 31817285L, 2616L: 42877979L, 2617L: 184255294L, 2618L: 64959931L, 2619L: 50804438L, 2620L: 3992099L, 2621L: 1478816L, 2622L: 117945938L, 2623L: 3715L, 2624L: 344066415L, 2625L: 57723L, 2626L: 8137L, 2627L: 338016L, 2628L: 1942654L, 2629L: 57135891L, 2630L: 150774821L, 2631L: 700794395L, 2632L: 457352L, 2633L: 3611L, 2634L: 34114170L, 2635L: 41L, 2636L: 170499497L, 2637L: 33448339L, 2638L: 9542401L, 2639L: 604L, 2640L: 18387829L, 2642L: 1178041522L, 2643L: 264637699L, 2644L: 31690479L, 2645L: 23612925L, 2646L: 73082733L, 2647L: 315758530L, 2648L: 243231735L, 2649L: 491913628L, 2650L: 29307575L, 2651L: 40780L, 2652L: 125505052L, 2653L: 301343491L, 2654L: 272670182L, 2655L: 78987195L, 2656L: 233499200L, 2657L: 798536931L, 2658L: 114619291L, 2659L: 22995831L, 2660L: 80988236L, 2661L: 257222L, 2662L: 1646011L, 2663L: 3812L, 2664L: 26505611L, 2665L: 42212935L, 2666L: 217244146L, 2667L: 199018138L, 2668L: 391272363L, 2669L: 394857609L, 2670L: 430094921L, 2671L: 1136288224L, 2672L: 4380L, 2673L: 317232029L, 2674L: 51085640L, 2675L: 397102268L, 2676L: 1541L, 2677L: 873009L, 2678L: 64868201L, 2679L: 474046462L, 2680L: 19978539L, 2681L: 8846608L, 2682L: 1504752L, 2683L: 175555698L, 2684L: 11622325L, 2685L: 59284909L, 2686L: 317420076L, 2687L: 62724699L, 2688L: 1622929912L, 2689L: 159406134L, 2690L: 2085858L, 2691L: 360382414L, 2692L: 4494052L, 2693L: 306761L, 2694L: 487079256L, 2695L: 116047294L, 2696L: 73435L, 2697L: 35563711L, 2698L: 40841291L, 2699L: 49407649L, 2700L: 447745810L, 2701L: 1205602L, 2702L: 10960842L, 2703L: 184513002L, 2704L: 426139631L, 2705L: 75319882L, 2706L: 479452090L, 2707L: 5880459L, 2708L: 337245993L, 2709L: 18073969L, 2710L: 136264441L, 2711L: 27586653L, 2712L: 134352L, 2713L: 601055914L, 2714L: 410730947L, 2715L: 179203760L, 2716L: 549664276L, 2717L: 1638756479L, 2718L: 398791705L, 2719L: 259364717L, 2720L: 2203260491L, 2721L: 57956081L, 2722L: 2318170L, 2723L: 994012734L, 2724L: 67289271L, 2725L: 2687002087L, 2726L: 702459337L, 2727L: 2352460L, 2728L: 118031L, 2729L: 1303527122L, 2730L: 1643203L, 2731L: 13419726L, 2732L: 1140291832L, 2733L: 63624947L, 2734L: 808741546L, 2735L: 4709877L, 2736L: 123443930L, 2737L: 37039506L, 2738L: 74657251L, 2739L: 1909L, 2740L: 392600360L, 2741L: 385069213L, 2742L: 551119L, 2743L: 1037102903L, 2744L: 31387943L, 2745L: 117606891L, 2746L: 238172643L, 2747L: 53731779L, 2748L: 56583732L, 2749L: 316762306L, 2750L: 229915763L, 2751L: 402424575L, 2752L: 8842313L, 2753L: 812301063L, 2754L: 79817361L, 2755L: 184710L, 2756L: 14200011L, 2757L: 718L, 2758L: 5340666L, 2759L: 91818140L, 2760L: 27238381L, 2761L: 168666L, 2762L: 130993991L, 2763L: 130955193L, 2764L: 353890649L, 2765L: 204821989L, 2766L: 145665154L, 2767L: 79079562L, 2768L: 423768289L, 2769L: 37512686L, 2770L: 324304713L, 2771L: 168659888L, 2772L: 56387470L, 2773L: 358778467L, 2774L: 46354996L, 2775L: 289075200L, 2776L: 6535695L, 2777L: 36718303L, 2778L: 7614L, 2779L: 1147038779L, 2780L: 120L, 2781L: 15777L, 2782L: 56571110L, 2783L: 10009336L, 2784L: 12294L, 2785L: 366269565L, 2786L: 27323837L, 2787L: 140748153L, 2788L: 743L, 2789L: 80779059L, 2790L: 185997908L, 2791L: 18977511L, 2792L: 7034567L, 2793L: 15213L, 2794L: 38511118L, 2795L: 246144094L, 2796L: 17092917L, 2797L: 160149069L, 2798L: 36645569L, 2799L: 1035L, 2800L: 311422073L, 2801L: 2967565L, 2802L: 2553L, 2803L: 1192639L, 2804L: 98434889L, 2805L: 80095L, 2806L: 2927350L, 2807L: 254194L, 2808L: 392128622L, 2809L: 1131L, 2810L: 78554683L, 2811L: 818103065L, 2812L: 6331889L, 2813L: 6815L, 2814L: 10465402L, 2815L: 960L, 2816L: 6383L, 2817L: 119081312L, 2818L: 106352L, 2819L: 387549981L, 2820L: 20327L, 2821L: 3612L, 2822L: 22334804L, 2823L: 60L, 2824L: 359084315L, 2825L: 732153687L, 2826L: 339565412L, 2827L: 426428233L, 2828L: 9166487L, 2829L: 27547319L, 2830L: 6144L, 2831L: 138261275L, 2832L: 36923407L, 2833L: 252357600L, 2834L: 3630L, 2835L: 13896L, 2836L: 96427334L, 2837L: 22729886L, 2838L: 158528791L, 2839L: 114602759L, 2840L: 6795882L, 2841L: 767590753L, 2842L: 2049L, 2843L: 425443L, 2844L: 120241295L, 2845L: 2240207L, 2846L: 2639L, 2847L: 3139995325L, 2848L: 55291572L, 2849L: 482481211L, 2850L: 17438662L, 2851L: 1037723496L, 2852L: 1622784L, 2853L: 152880032L, 2854L: 142565546L, 2855L: 78202218L, 2856L: 41148094L, 2857L: 346173614L, 2858L: 667528685L, 2859L: 127494L, 2860L: 224686464L, 2861L: 1099824145L, 2862L: 131126190L, 2863L: 4950384L, 2864L: 119090541L, 2865L: 127971324L, 2866L: 1117831058L, 2867L: 575740292L, 2868L: 14320218L, 2869L: 925952323L, 2870L: 57345612L, 2871L: 81715826L, 2872L: 209635339L, 2873L: 23159407L, 2874L: 1308043062L, 2875L: 6268365L, 2876L: 2003974218L, 2877L: 25587531L, 2878L: 64978600L, 2879L: 242365678L, 2880L: 250949122L, 2881L: 15276975L, 2882L: 130683406L, 2883L: 426769618L, 2884L: 5982457L, 2885L: 20639785L, 2886L: 119331895L, 2887L: 10817452L, 2888L: 77000233L, 2889L: 141658L, 2890L: 24280482L, 2891L: 33405831L, 2892L: 25741685L, 2893L: 669349261L, 2894L: 2730095L, 2895L: 14324686L, 2896L: 8591746L, 2897L: 60717L, 2898L: 1433662341L, 2899L: 11797L, 2900L: 80066769L, 2901L: 168554173L, 2902L: 9682233L, 2903L: 1050195702L, 2904L: 23555873L, 2905L: 352061L, 2906L: 82512L, 2907L: 36609847L, 2908L: 208046L, 2909L: 503372L, 2910L: 35357224L, 2911L: 156454029L, 2912L: 133855899L, 2913L: 69747L, 2914L: 99472466L, 2915L: 504294L, 2916L: 3866721L, 2917L: 124951735L, 2918L: 5814L, 2919L: 174575563L, 2920L: 2389590879L, 2921L: 25063610L, 2922L: 166818779L, 2923L: 322756353L, 2924L: 13438285L, 2925L: 59123649L, 2926L: 333085414L, 2927L: 1526407L, 2928L: 1610468756L, 2929L: 70807680L, 2930L: 1225245L, 2931L: 71669977L, 2932L: 3006L, 2933L: 28272848L, 2934L: 440852951L, 2935L: 75443066L, 2936L: 113081448L, 2937L: 65933951L, 2938L: 286310204L, 2939L: 200521790L, 2940L: 79594222L, 2941L: 43674465L, 2942L: 1961606289L, 2943L: 6173738L, 2944L: 386667434L, 2945L: 73975488L, 2946L: 185075392L, 2947L: 664700886L, 2948L: 8572822L, 2949L: 672486995L, 2950L: 368435072L, 2951L: 36428101L, 2952L: 124072695L, 2953L: 38801075L, 2954L: 499094951L, 2955L: 103790478L, 2956L: 4700L, 2957L: 1025586480L, 2958L: 34437874L, 2959L: 53122526L, 2960L: 15554324L, 2961L: 109607505L, 2962L: 35397932L, 2963L: 227973912L, 2964L: 65311905L, 2966L: 766426591L, 2967L: 155843435L, 2968L: 732434605L, 2969L: 179170883L, 2970L: 213254085L, 2971L: 404536234L, 2972L: 7045232L, 2973L: 153188334L, 2974L: 502680039L, 2975L: 1052606627L, 2976L: 122230574L, 2977L: 518376L, 2978L: 24313421L, 2979L: 8949L, 2980L: 3447L, 2981L: 3095L, 2982L: 64736932L, 2983L: 68291542L, 2984L: 257846513L, 2985L: 742594L, 2986L: 71627471L, 2987L: 176148084L, 2988L: 2301519L, 2989L: 37550091L, 2990L: 177529890L, 2991L: 307232548L, 2992L: 1834L, 2993L: 518776945L, 2994L: 129966L, 2995L: 84774115L, 2996L: 114130L, 2997L: 6467585L, 2998L: 35795L, 2999L: 15140432L, 3000L: 17987482L, 3001L: 124292025L, 3002L: 496781L, 3003L: 126226387L, 3004L: 43254662L, 3005L: 127675794L, 3006L: 86923572L, 3007L: 13162811L, 3008L: 4845050L, 3009L: 40172309L, 3010L: 367498821L, 3011L: 472L, 3012L: 80881L, 3013L: 1012273L, 3014L: 116020472L, 3015L: 249566L, 3016L: 208689L, 3017L: 161081359L, 3018L: 7756657L, 3019L: 216754003L, 3020L: 84612811L, 3021L: 62483L, 3022L: 4451L, 3023L: 172L, 3024L: 766L, 3025L: 23020278L, 3026L: 2296320L, 3027L: 37247789L, 3029L: 85462461L, 3030L: 773830L, 3031L: 234652L, 3032L: 267009304L, 3033L: 68292L, 3034L: 33180560L, 3035L: 164276096L, 3036L: 16654269L, 3037L: 138146355L, 3038L: 1161L, 3039L: 151501566L, 3040L: 29409757L, 3041L: 8242316L, 3042L: 27096833L, 3043L: 23227434L, 3044L: 293039379L, 3045L: 24337913L, 3046L: 32830424L, 3047L: 28841473L, 3048L: 1377436L, 3049L: 18188L, 3050L: 53172351L, 3051L: 1590017L, 3052L: 9077L, 3053L: 20568890L, 3054L: 36886760L, 3055L: 102921349L, 3056L: 1918408L, 3057L: 290933527L, 3058L: 4588627L, 3059L: 37687110L, 3060L: 233138235L, 3061L: 828891401L, 3062L: 98265L, 3063L: 48173L, 3064L: 86449440L, 3065L: 197457L, 3066L: 271883526L, 3067L: 33025243L, 3069L: 28427377L, 3070L: 144809861L, 3071L: 107087980L, 3072L: 652626554L, 3073L: 375432117L, 3074L: 7443335L, 3075L: 322641921L, 3076L: 665273171L, 3077L: 225556L, 3078L: 127485729L, 3079L: 58570039L, 3080L: 864516958L, 3081L: 2816692236L, 3082L: 338319719L, 3083L: 1430L, 3084L: 1854045361L, 3085L: 4394095L, 3087L: 40171785L, 3088L: 50058921L, 3089L: 200L, 3090L: 22548122L, 3091L: 2026429L, 3092L: 62341652L, 3093L: 146922106L, 3094L: 1218707320L, 3095L: 32714L, 3096L: 283660838L, 3097L: 3474153L, 3098L: 9881723L, 3099L: 123202123L, 3100L: 199322L, 3101L: 149489124L, 3102L: 52087996L, 3103L: 37094255L, 3104L: 56957500L, 3105L: 341662191L, 3106L: 108189785L, 3107L: 332404680L, 3108L: 198951710L, 3109L: 418828195L, 3110L: 83925506L, 3111L: 88895456L, 3112L: 51535620L, 3113L: 21633428L, 3114L: 779485739L, 3115L: 121211515L, 3116L: 46818985L, 3117L: 254567354L, 3118L: 201501329L, 3119L: 136530L, 3120L: 355838703L, 3121L: 36034419L, 3122L: 94562030L, 3123L: 751797958L, 3124L: 1185331L, 3125L: 695797739L, 3126L: 15552L, 3127L: 568484319L, 3128L: 1092644128L, 3129L: 280983722L, 3130L: 196372932L, 3131L: 1187252384L, 3132L: 213894028L, 3133L: 361449670L, 3134L: 1461740278L, 3135L: 67927162L, 3136L: 160191781L, 3137L: 908393544L, 3138L: 468251396L, 3139L: 33387465L, 3140L: 327052345L, 3141L: 62306154L, 3142L: 953010046L, 3143L: 253749321L, 3144L: 1428291004L, 3145L: 238130333L, 3146L: 718704381L, 3147L: 308901709L, 3148L: 393679271L, 3149L: 192110765L, 3150L: 336352846L, 3151L: 89077546L, 3152L: 25906303L, 3153L: 97823294L, 3154L: 11586L, 3155L: 644582440L, 3156L: 75108020L, 3157L: 131786205L, 3158L: 374338373L, 3159L: 4712140L, 3160L: 332529807L, 3161L: 247181578L, 3162L: 523131810L, 3163L: 446319974L, 3164L: 162591260L, 3165L: 13844325L, 3166L: 65472257L, 3167L: 1385L, 3168L: 1469510573L, 3169L: 1717909L, 3170L: 907740903L, 3171L: 87616302L, 3172L: 10636L, 3173L: 295827376L, 3174L: 4566614L, 3175L: 11839643L, 3176L: 214381L, 3177L: 13867174L, 3178L: 68952055L, 3179L: 9976100L, 3180L: 2898L, 3181L: 9447L, 3182L: 170260042L, 3183L: 1516372700L, 3184L: 113063449L, 3185L: 106859823L, 3186L: 113118456L, 3187L: 948190L, 3188L: 1793575L, 3189L: 679981L, 3190L: 287150443L, 3191L: 23062273L, 3192L: 10304288L, 3193L: 98758663L, 3194L: 330211578L, 3195L: 574454952L, 3196L: 940951326L, 3197L: 126765089L, 3198L: 679540L, 3199L: 6189846L, 3200L: 1346022274L, 3201L: 40065162L, 3202L: 40075L, 3203L: 1912L, 3204L: 16736566L, 3205L: 4817291L, 3206L: 84L, 3207L: 495098101L, 3208L: 4276L, 3209L: 5641442L, 3210L: 144199431L, 3211L: 53875791L, 3212L: 86268047L, 3214L: 4051357L, 3215L: 27233176L, 3216L: 1658523L, 3217L: 1734501184L, 3218L: 150736307L, 3219L: 33508L, 3220L: 165360799L, 3221L: 130262454L, 3222L: 2210058899L, 3223L: 142239604L, 3224L: 451334779L, 3225L: 546853286L, 3226L: 8271920L, 3227L: 73599178L, 3228L: 153542167L, 3229L: 199536080L, 3230L: 62628025L, 3231L: 279371368L, 3232L: 2265114L, 3233L: 237874713L, 3234L: 293386536L, 3235L: 298628053L, 3236L: 217858132L, 3237L: 66226L, 3238L: 136690100L, 3239L: 7905239L, 3240L: 99154298L, 3241L: 579043L, 3242L: 96331067L, 3243L: 9035004L, 3244L: 3126L, 3246L: 13942245L, 3247L: 14950L, 3248L: 23652746L, 3249L: 574458L, 3250L: 161525294L, 3251L: 2270223101L, 3252L: 7350L, 3253L: 2424021603L, 3254L: 43059959L, 3255L: 21037620L, 3256L: 48623194L, 3257L: 2221382L, 3258L: 309504L, 3259L: 83240480L, 3260L: 13274365L, 3261L: 173304792L, 3262L: 1213069965L, 3263L: 345439431L, 3264L: 128674306L, 3265L: 482194254L, 3266L: 1411316L, 3267L: 46813701L, 3268L: 297722570L, 3269L: 18747870L, 3270L: 224737794L, 3271L: 19672011L, 3272L: 580868584L, 3273L: 748818066L, 3274L: 549639698L, 3275L: 453193900L, 3276L: 81128544L, 3277L: 9387468L, 3278L: 10066L, 3279L: 290925767L, 3280L: 59619L, 3281L: 615335938L, 3282L: 28705L, 3283L: 284357216L, 3284L: 371199325L, 3285L: 2253809376L, 3286L: 418707923L, 3287L: 293920668L, 3288L: 40636421L, 3289L: 362360821L, 3290L: 232603132L, 3291L: 6167364L, 3292L: 39267378L, 3293L: 355672456L, 3294L: 1329048829L, 3295L: 1328924L, 3296L: 174491636L, 3297L: 2185017L, 3298L: 227224978L, 3299L: 484312399L, 3300L: 3862L, 3301L: 212916L, 3302L: 81291273L, 3303L: 76655813L, 3304L: 7294070L, 3305L: 883230L, 3306L: 311367159L, 3307L: 55034700L, 3308L: 179040L, 3309L: 335687593L, 3310L: 114649191L, 3311L: 203808278L, 3312L: 27357125L, 3313L: 5141399L, 3314L: 2867707L, 3315L: 18022630L, 3316L: 552949L, 3317L: 1627668L, 3318L: 54587L, 3319L: 671200143L, 3320L: 357904797L, 3321L: 867297456L, 3322L: 16994L, 3323L: 229688287L, 3324L: 10483248L, 3325L: 541844627L, 3326L: 1711886292L, 3327L: 260023428L, 3328L: 1201280531L, 3329L: 1047804312L, 3330L: 4850559L, 3331L: 9214385L, 3332L: 90059345L, 3334L: 58555969L, 3335L: 41181338L, 3336L: 729697781L, 3337L: 73364852L, 3338L: 797L, 3339L: 3408393L, 3340L: 4551L, 3341L: 28530023L, 3342L: 44633L, 3343L: 113844900L, 3344L: 59902L, 3345L: 59791987L, 3346L: 287456198L, 3347L: 90640314L, 3348L: 35835162L, 3349L: 634409633L, 3350L: 137943231L, 3351L: 29687837L, 3352L: 7558L, 3353L: 347204546L, 3354L: 342965611L, 3355L: 165110516L, 3356L: 8829998L, 3357L: 19787642L, 3358L: 58532937L, 3359L: 84122827L, 3360L: 250046723L, 3361L: 3961554L, 3362L: 41021257L, 3363L: 603118980L, 3364L: 538336387L, 3365L: 552696140L, 3366L: 2273846428L, 3367L: 457978006L, 3368L: 244640463L, 3369L: 126663681L, 3370L: 2349506L, 3371L: 265754355L, 3372L: 29464L, 3373L: 296660140L, 3374L: 7444476L, 3375L: 13928215L, 3376L: 1224243360L, 3377L: 55286668L, 3378L: 138694L, 3379L: 81312562L, 3380L: 27768451L, 3381L: 4160L, 3382L: 144890792L, 3383L: 6515L, 3384L: 156696L, 3385L: 313797767L, 3386L: 108403328L, 3387L: 165204241L, 3388L: 120652604L, 3389L: 79568725L, 3390L: 217406740L, 3391L: 166124472L, 3392L: 285568568L, 3393L: 74542L, 3394L: 439704010L, 3395L: 994325408L, 3396L: 85956893L, 3397L: 198336916L, 3398L: 762935029L, 3399L: 6028527L, 3400L: 38019600L, 3401L: 92674338L, 3402L: 3574070L, 3403L: 215447667L, 3404L: 308212595L, 3405L: 244093512L, 3407L: 100557155L, 3408L: 133569807L, 3409L: 168575948L, 3410L: 11127975L, 3411L: 10417574L, 3412L: 30131182L, 3413L: 121434482L, 3414L: 74770778L, 3415L: 196735670L, 3416L: 2783253L, 3417L: 2429L, 3418L: 30517910L, 3419L: 10264007L, 3420L: 454199880L, 3421L: 277665029L, 3422L: 75133L, 3423L: 1168366386L, 3424L: 4181L, 3425L: 38419358L, 3426L: 124191354L, 3427L: 86546460L, 3428L: 662697526L, 3429L: 8844239L, 3430L: 137665993L, 3431L: 31473850L, 3432L: 9722283L, 3433L: 15233364L, 3434L: 14691979L, 3435L: 2914727L, 3436L: 26297671L, 3437L: 127755877L, 3438L: 39764L, 3439L: 1405006L, 3440L: 684184125L, 3441L: 54363421L, 3442L: 18610791L, 3443L: 762L, 3444L: 200684L, 3445L: 675070732L, 3446L: 38990189L, 3447L: 151825254L, 3448L: 1323325607L, 3449L: 46858075L, 3450L: 261145420L, 3451L: 423224420L, 3452L: 9722743L, 3453L: 347371991L, 3454L: 3924247L, 3455L: 35763819L, 3456L: 272252192L, 3457L: 729305381L, 3458L: 69689354L, 3459L: 85911L, 3460L: 3788149L, 3461L: 9248L, 3462L: 721701249L, 3463L: 253969276L, 3464L: 258646803L, 3465L: 1109630L, 3466L: 46146653L, 3467L: 280027904L, 3468L: 192621027L, 3469L: 1866466L, 3470L: 127497654L, 3471L: 3256453L, 3472L: 6380860L, 3473L: 981L, 3474L: 39431L, 3475L: 37772079L, 3476L: 2499L, 3477L: 213121457L, 3478L: 632228569L, 3479L: 1523302651L, 3480L: 108321L, 3481L: 6896653L, 3482L: 20520066L, 3483L: 52183326L, 3484L: 18266309L, 3485L: 305481L, 3486L: 60457920L, 3487L: 115205125L, 3488L: 192184997L, 3489L: 109965772L, 3490L: 58021443L, 3491L: 92006784L, 3492L: 44400L, 3493L: 43205544L, 3494L: 596594419L, 3495L: 250079424L, 3496L: 189418017L, 3497L: 929145403L, 3498L: 335883772L, 3499L: 92386274L, 3500L: 283441702L, 3501L: 210768653L, 3502L: 139298842L, 3503L: 92440240L, 3504L: 247641805L, 3505L: 212163329L, 3506L: 904203L, 3507L: 1097149L, 3508L: 161672030L, 3509L: 46188511L, 3510L: 490415333L, 3511L: 120910149L, 3512L: 23928910L, 3513L: 467554606L, 3514L: 29285003L, 3515L: 32482830L, 3516L: 258497L, 3517L: 1694354L, 3518L: 3401L, 3519L: 2930199L, 3520L: 4318717L, 3521L: 168112907L, 3522L: 3366895L, 3523L: 40123190L, 3524L: 2795L, 3525L: 67656339L, 3526L: 22649271L, 3527L: 852024636L, 3528L: 136480524L, 3529L: 1169254669L, 3530L: 21415298L, 3531L: 151194951L, 3532L: 7583034887L, 3533L: 1033493488L, 3534L: 2937L, 3535L: 1001514L, 3536L: 12275625L, 3537L: 928026043L, 3538L: 245536129L, 3539L: 132425576L, 3540L: 20687154L, 3541L: 2910439L, 3542L: 69379486L, 3543L: 803056592L, 3544L: 2650366720L, 3545L: 90687125L, 3546L: 21592378L, 3547L: 5128071L, 3548L: 1133299023L, 3549L: 87268908L, 3550L: 52287872L, 3551L: 126245356L, 3552L: 379426058L, 3553L: 652285041L, 3554L: 16766580L, 3555L: 1121867573L, 3556L: 1156L, 3557L: 20722730L, 3558L: 59037981L, 3559L: 23853615L, 3560L: 128910800L, 3561L: 17814623L, 3562L: 26501385L, 3563L: 56924251L, 3564L: 238513361L, 3565L: 596359655L, 3566L: 6659424L, 3567L: 35005293L, 3568L: 143732022L, 3569L: 222805414L, 3570L: 645620374L, 3571L: 951901856L, 3572L: 971264516L, 3573L: 673921594L, 3574L: 201958636L, 3575L: 718861092L, 3576L: 131754681L, 3577L: 250181326L, 3579L: 930L, 3580L: 25580354L, 3581L: 74224864L, 3582L: 6753471L, 3583L: 44821543L, 3584L: 99399648L, 3585L: 445963248L, 3586L: 92438320L, 3587L: 108085817L, 3588L: 234639202L, 3589L: 5266345L, 3590L: 38369335L, 3591L: 75111391L, 3592L: 471158212L, 3593L: 137714882L, 3595L: 235708983L, 3596L: 257638830L, 3597L: 272198857L, 3598L: 107804863L, 3599L: 741430735L, 3600L: 160208479L, 3601L: 2339696123L, 3602L: 195830486L, 3603L: 98734225L, 3604L: 83567993L, 3605L: 17446974L, 3606L: 14815957L, 3607L: 216295708L, 3608L: 64372592L, 3609L: 480783218L, 3610L: 44094659L, 3611L: 1455713752L, 3612L: 27057480L, 3613L: 88302392L, 3614L: 1149416767L, 3615L: 10072546L, 3616L: 91267333L, 3617L: 17507032L, 3618L: 945461L, 3619L: 746468016L, 3620L: 1376330294L, 3621L: 618L, 3622L: 4965016L, 3623L: 85767592L, 3624L: 84815852L, 3625L: 30712245L, 3626L: 10351137L, 3627L: 31349575L, 3628L: 687L, 3630L: 522161961L, 3631L: 2043257863L, 3632L: 16334511L, 3633L: 510577960L, 3634L: 1461590574L, 3635L: 145775794L, 3636L: 369056736L, 3637L: 141993208L, 3638L: 5664998L, 3639L: 167243652L, 3640L: 30149339L, 3641L: 769116172L, 3642L: 603598720L, 3643L: 177728355L, 3644L: 782160836L, 3645L: 259047692L, 3646L: 2706079259L, 3647L: 143920486L, 3648L: 729L, 3649L: 810068193L, 3650L: 29857605L, 3651L: 28062735L, 3652L: 32539L, 3653L: 99573441L, 3654L: 338601373L, 3655L: 124530400L, 3656L: 114777L, 3657L: 799271L, 3658L: 145278209L, 3659L: 320141L, 3660L: 75621079L, 3661L: 6155658L, 3662L: 16018338L, 3663L: 562393997L, 3664L: 779797L, 3665L: 582272207L, 3666L: 439082333L, 3667L: 466119947L, 3668L: 48262475L, 3669L: 31055498L, 3670L: 1200297265L, 3671L: 1107462462L, 3672L: 259141945L, 3673L: 970015823L, 3674L: 5793628L, 3675L: 755888253L, 3676L: 566901129L, 3677L: 443433632L, 3678L: 496222L, 3679L: 3012294L, 3680L: 1125129930L, 3681L: 55420317L, 3682L: 58250984L, 3683L: 133741667L, 3684L: 49115968L, 3685L: 65152L, 3686L: 110760477L, 3687L: 21434231L, 3688L: 1497199286L, 3689L: 253829097L, 3690L: 42298422L, 3691L: 649045684L, 3692L: 296591531L, 3693L: 197513580L, 3694L: 166967591L, 3695L: 192568715L, 3696L: 362345L, 3697L: 312757438L, 3698L: 287380862L, 3699L: 38262787L, 3700L: 30937098L, 3701L: 29981239L, 3702L: 1944L, 3703L: 786198823L, 3704L: 975699020L, 3705L: 64491882L, 3706L: 896779L, 3707L: 57805533L, 3708L: 17967150L, 3709L: 25261212L, 3710L: 495999052L, 3711L: 114079149L, 3712L: 357977439L, 3713L: 1160381281L, 3714L: 255789000L, 3715L: 241451506L, 3716L: 1046636942L, 3717L: 218591L, 3718L: 268593292L, 3719L: 500502471L, 3720L: 163163609L, 3721L: 376343091L, 3722L: 41178L, 3723L: 139966357L, 3724L: 132319051L, 3725L: 16659784L, 3726L: 134L, 3727L: 497500497L, 3728L: 2668894011L, 3729L: 29437878L, 3730L: 113704344L, 3731L: 2496906L, 3732L: 210254275L, 3733L: 83166491L, 3734L: 32178658L, 3735L: 93435791L, 3736L: 154794779L, 3737L: 377463168L, 3738L: 677660L, 3739L: 132321578L, 3740L: 749042506L, 3741L: 91027L, 3742L: 45745025L, 3743L: 129399537L, 3744L: 4663661L, 3745L: 233224584L, 3746L: 1588227030L, 3747L: 3800825562L, 3748L: 703681485L, 3749L: 310119301L, 3750L: 991586487L, 3751L: 45030023L, 3752L: 292229257L, 3753L: 469220828L, 3754L: 7856L, 3755L: 90037L, 3756L: 1348865L, 3757L: 19067346L, 3758L: 188989581L, 3759L: 113700252L, 3760L: 83612125L, 3761L: 1164280072L, 3762L: 440718670L, 3763L: 3065503264L, 3764L: 741780648L, 3765L: 420194L, 3766L: 65684L, 3767L: 1190880993L, 3768L: 32918805L, 3769L: 18482332L, 3770L: 2088785L, 3771L: 2870L, 3772L: 40927L, 3773L: 1042L, 3774L: 8237L, 3775L: 37078L, 3776L: 46230446L, 3777L: 13398L, 3778L: 1646844L, 3779L: 2563L, 3780L: 224508012L, 3781L: 3505474L, 3782L: 24614460L, 3783L: 2919L, 3784L: 6658682L, 3785L: 476590813L, 3786L: 131307904L, 3787L: 104315586L, 3788L: 437475376L, 3789L: 40227298L, 3790L: 635503436L, 3791L: 33930L, 3792L: 442064946L, 3793L: 3168L, 3794L: 636905L, 3795L: 19510504L, 3796L: 197056069L, 3797L: 72654340L, 3798L: 40408751L, 3799L: 33292L, 3800L: 1290656L, 3801L: 6133010L, 3802L: 26185056L, 3803L: 192309149L, 3804L: 24917534L, 3805L: 2683110L, 3806L: 2052200L, 3807L: 113684762L, 3808L: 84224712L, 3809L: 868L, 3811L: 862461899L, 3812L: 292172140L, 3813L: 63729546L, 3814L: 121808444L, 3815L: 796643815L, 3816L: 637217683L, 3817L: 368165633L, 3818L: 51500L, 3819L: 986524212L, 3820L: 7320127L, 3821L: 836977717L, 3822L: 45177194L, 3823L: 83508797L, 3824L: 16938439L, 3825L: 145138120L, 3826L: 1162440L, 3827L: 16014L, 3828L: 89676L, 3829L: 308315445L, 3830L: 583322L, 3831L: 1035785603L, 3832L: 262581709L, 3833L: 49801956L, 3834L: 2669L, 3835L: 1017283551L, 3836L: 163945L, 3837L: 7205173L, 3838L: 11758903L, 3839L: 152276762L, 3840L: 1112L, 3841L: 12517459562L, 3842L: 481891294L, 3843L: 1224026800L, 3844L: 1249222561L, 3845L: 308597667L, 3846L: 463125935L, 3847L: 938L, 3848L: 25329394L, 3849L: 626758876L, 3850L: 915887872L, 3851L: 103293450L, 3852L: 118476811L, 3853L: 181752208L, 3854L: 83176799L, 3855L: 1626428968L, 3856L: 625696833L, 3857L: 304270932L, 3858L: 220770680L, 3859L: 288579065L, 3860L: 70823022L, 3861L: 1797077006L, 3862L: 8745L, 3863L: 117818570L, 3864L: 21696L, 3865L: 33862589L, 3866L: 8549224L, 3867L: 9969L, 3868L: 1900000L, 3869L: 1383916L, 3870L: 1824047L, 3871L: 6908L, 3872L: 5420663L, 3873L: 1097150694L, 3874L: 28621431L, 3875L: 618167282L, 3876L: 1955012001L, 3877L: 779534589L, 3878L: 983657617L, 3879L: 894476667L, 3880L: 3412974530L, 3881L: 125145788L, 3882L: 364083204L, 3883L: 733343354L, 3884L: 636333856L, 3885L: 55304538L, 3886L: 131030620L, 3887L: 331072807L, 3888L: 27767692L, 3889L: 243588048L, 3890L: 267742939L, 3891L: 23851351L, 3892L: 965608211L, 3893L: 18531241L, 3894L: 438472960L, 3895L: 857007823L, 3896L: 710313333L, 3897L: 61854306L, 3898L: 176389361L, 3899L: 400615419L, 3900L: 1367939615L, 3901L: 156875266L, 3902L: 1073708L, 3903L: 119720176L, 3904L: 103048630L, 3905L: 1583897L, 3906L: 59700634L, 3907L: 195524351L, 3908L: 861029284L, 3909L: 1315966035L, 3910L: 1779533325L, 3911L: 366955579L, 3912L: 16512243L, 3913L: 410242130L, 3914L: 26739122L, 3915L: 198423204L, 3916L: 1382676048L, 3917L: 94378363L, 3918L: 19283238L, 3919L: 3651L, 3920L: 600739861L, 3921L: 774470504L, 3922L: 515553645L, 3923L: 2313419839L, 3924L: 86749760L, 3925L: 498964120L, 3926L: 719512926L, 3927L: 67706878L, 3928L: 215796150L, 3929L: 328589119L, 3930L: 167294763L, 3931L: 145305879L, 3932L: 131514002L, 3933L: 1974133L, 3934L: 460803045L, 3935L: 669383036L, 3936L: 543260548L, 3937L: 339973067L, 3938L: 215357L, 3939L: 242176451L, 3940L: 1395568397L, 3941L: 40285050L, 3942L: 864673588L, 3943L: 75168048L, 3944L: 978687673L, 3945L: 17126605L, 3947L: 928140L, 3948L: 15671L, 3949L: 34132799L, 3950L: 2093936L, 3951L: 519123355L, 3952L: 13790419L, 3953L: 14888L, 3954L: 7242049L, 3955L: 27711L, 3956L: 132741486L, 3957L: 446467278L, 3958L: 1034701904L, 3959L: 219372898L, 3960L: 590457893L, 3961L: 18148662L, 3962L: 461575415L, 3963L: 499257537L, 3964L: 7508L, 3965L: 10896853L, 3966L: 36477712L, 3967L: 222150348L, 3968L: 43612243L, 3969L: 943762L, 3970L: 1056072050L, 3971L: 32137825L, 3972L: 1237194L, 3973L: 451789793L, 3974L: 266982851L, 3975L: 9197922L, 3976L: 348008579L, 3977L: 105892742L, 3978L: 201422426L, 3979L: 390411481L, 3980L: 1158094168L, 3981L: 187153222L, 3982L: 170321108L, 3983L: 21356704L, 3984L: 524580637L, 3985L: 105471776L, 3986L: 438097720L, 3987L: 1010934813L, 3988L: 563448967L, 3989L: 136480835L, 3990L: 781487023L, 3991L: 94719257L, 3992L: 173645L, 3993L: 1905979L, 3994L: 18146226L, 3995L: 204398854L, 3996L: 38305627L, 3997L: 233724210L, 3998L: 672L, 3999L: 392131094L, 4000L: 53034519L, 4001L: 489380488L, 4002L: 1768852179L, 4003L: 948102924L, 4004L: 173068887L, 4005L: 940182829L, 4006L: 620529001L, 4007L: 131319630L, 4008L: 243034L, 4009L: 554275812L, 4010L: 629152378L, 4011L: 214407835L, 4012L: 44388635L, 4013L: 25723119L, 4014L: 23211220L, 4015L: 938L, 4016L: 1059350275L, 4017L: 1427980218L, 4018L: 770550325L, 4019L: 23365294L, 4020L: 138689391L, 4021L: 598453736L, 4022L: 859835461L, 4023L: 120695045L, 4024L: 2573436L, 4025L: 125148379L, 4026L: 86936192L, 4027L: 34605608L, 4028L: 55628372L, 4029L: 56989108L, 4030L: 160567742L, 4031L: 124071061L, 4032L: 2369032840L, 4033L: 63673418L, 4034L: 1548667895L, 4035L: 3432173L, 4036L: 540543183L, 4037L: 182118576L, 4038L: 18047576L, 4039L: 809835844L, 4040L: 351728746L, 4041L: 80578216L, 4042L: 104083669L, 4043L: 502998459L, 4044L: 160057454L, 4045L: 182224967L, 4046L: 2465363L, 4047L: 315903015L, 4048L: 255064577L, 4049L: 297545478L, 4050L: 498037800L, 4051L: 11425512297L, 4052L: 2358562622L, 4053L: 17049L, 4054L: 103406721L, 4055L: 40820701L, 4056L: 565521610L, 4057L: 611551L, 4058L: 133340880L, 4059L: 442118734L, 4060L: 42577193L, 4061L: 1660691L, 4062L: 26874973L, 4063L: 363970495L, 4064L: 1340318514L, 4065L: 1586948L, 4066L: 103493L, 4067L: 68174986L, 4068L: 74787786L, 4069L: 1243867263L, 4070L: 869031L, 4071L: 6251L, 4072L: 4401065L, 4073L: 1141573726L, 4074L: 103993140L, 4075L: 212045025L, 4076L: 989188184L, 4077L: 746767508L, 4078L: 196915522L, 4079L: 17883L, 4080L: 9127433L, 4081L: 4352L, 4082L: 190573708L, 4083L: 15885363L, 4084L: 250103413L, 4085L: 98753527L, 4086L: 289437101L, 4087L: 705065885L, 4088L: 64742895L, 4089L: 186764847L, 4090L: 623094119L, 4091L: 204250094L, 4092L: 553513466L, 4093L: 76321992L, 4094L: 151890687L, 4095L: 4056891L, 4096L: 519633161L, 4097L: 229444960L, 4098L: 416326171L, 4099L: 752143679L, 4100L: 180737380L, 4101L: 334122329L, 4102L: 29655535L, 4103L: 1604757990L, 4104L: 524308520L, 4105L: 1723629L, 4106L: 5565545275L, 4107L: 103441637L, 4108L: 74666395L, 4109L: 868716743L, 4110L: 270791334L, 4111L: 4751L, 4112L: 60535449L, 4113L: 1149556075L, 4114L: 48805659L, 4115L: 344080L, 4116L: 21300011L, 4117L: 94600677L, 4118L: 7743593L, 4119L: 951446L, 4120L: 1510316L, 4121L: 14774L, 4122L: 9818859L, 4123L: 520197738L, 4124L: 92926L, 4125L: 111874L, 4126L: 15057308L, 4127L: 14180889L, 4128L: 25049494L, 4129L: 425992391L, 4130L: 431251974L, 4131L: 154926889L, 4132L: 242699312L, 4133L: 196159933L, 4134L: 101576185L, 4135L: 29257674L, 4136L: 4652317L, 4137L: 135274946L, 4138L: 19903823L, 4139L: 156199432L, 4140L: 59111325L, 4141L: 48361059L, 4142L: 29151154L, 4143L: 899977925L, 4144L: 18722237L, 4145L: 8779208L, 4146L: 73925887L, 4147L: 581123523L, 4148L: 142783212L, 4149L: 90358456L, 4150L: 8413739L, 4151L: 324542356L, 4152L: 3190692L, 4153L: 17463074L, 4154L: 359227852L, 4155L: 43241762L, 4156L: 141063446L, 4157L: 85782460L, 4158L: 157810876L, 4159L: 675470443L, 4160L: 70193928L, 4161L: 157572766L, 4162L: 314615857L, 4163L: 16265357L, 4164L: 47920816L, 4165L: 146455L, 4166L: 69473273L, 4167L: 6560023L, 4168L: 7469347L, 4169L: 146759593L, 4170L: 128096094L, 4171L: 11656708L, 4172L: 105262572L, 4173L: 368424L, 4174L: 222197282L, 4175L: 10245L, 4176L: 337426570L, 4177L: 1964769321L, 4178L: 24963559L, 4179L: 69606145L, 4180L: 657524208L, 4181L: 42966963L, 4182L: 460100648L, 4183L: 298780406L, 4184L: 528586950L, 4185L: 185543292L, 4186L: 134166855L, 4187L: 413014925L, 4188L: 161783538L, 4189L: 2953238L, 4190L: 285978489L, 4191L: 316752534L, 4192L: 77609543L, 4193L: 419184963L, 4194L: 1244105640L, 4195L: 19921605L, 4196L: 670792611L, 4197L: 298075821L, 4198L: 27546155L, 4199L: 776683399L, 4200L: 1175039858L, 4201L: 1122318972L, 4202L: 1299143864L, 4203L: 1328613440L, 4204L: 4612036L, 4205L: 5780397L, 4206L: 6796439L, 4207L: 652552L, 4208L: 822478480L, 4209L: 2071205184L, 4210L: 9069646L, 4211L: 2640227970L, 4212L: 9482883L, 4213L: 639395310L, 4214L: 101090002L, 4215L: 99456401L, 4216L: 517951844L, 4217L: 4204927L, 4218L: 6036271L, 4219L: 41738282L, 4220L: 57551498L, 4221L: 137679144L, 4222L: 128271953L, 4223L: 1567975191L, 4224L: 933106748L, 4225L: 697234998L, 4226L: 410889272L, 4227L: 24879680L, 4228L: 1663466336L, 4229L: 344872008L, 4230L: 2593204L, 4231L: 107560518L, 4232L: 437783632L, 4233L: 1206541L, 4234L: 768615679L, 4235L: 594016878L, 4236L: 949753202L, 4237L: 1467381937L, 4238L: 457455890L, 4239L: 279462859L, 4240L: 174761483L, 4241L: 413021349L, 4242L: 4670467L, 4243L: 1229669940L, 4244L: 58152053L, 4245L: 1959014000L, 4246L: 378235779L, 4247L: 1228305L, 4248L: 36583428L, 4249L: 53532451L, 4250L: 1814916816L, 4251L: 278287186L, 4252L: 17600539L, 4253L: 1901119851L, 4254L: 451398199L, 4255L: 1808880L, 4256L: 2396485L, 4257L: 1013245530L, 4258L: 3680708919L, 4259L: 44907604L, 4260L: 1116916750L, 4261L: 206723879L, 4262L: 265727690L, 4263L: 2393710935L, 4264L: 627261580L, 4265L: 1156751666L, 4266L: 94962315L, 4267L: 8493153L, 4268L: 272464542L, 4269L: 75321L, 4270L: 357475524L, 4271L: 6828L, 4272L: 567620413L, 4273L: 4198L, 4274L: 771584452L, 4275L: 552172410L, 4276L: 932146923L, 4277L: 382808L, 4278L: 56674314L, 4279L: 80379420L, 4280L: 964428227L, 4281L: 118816526L, 4282L: 1676887414L, 4283L: 838850379L, 4284L: 251304487L, 4285L: 17012831L, 4286L: 1019896981L, 4287L: 1193997993L, 4288L: 64949074L, 4289L: 1507449167L, 4290L: 1780865607L, 4291L: 1165957664L, 4292L: 648501138L, 4293L: 380560833L, 4294L: 744998373L, 4295L: 2430981694L, 4296L: 89073654L, 4297L: 58177639L, 4298L: 2395019522L, 4299L: 1873950504L, 4300L: 872264306L, 4301L: 483651946L, 4302L: 1046672519L, 4303L: 45400660L, 4304L: 282934848L, 4305L: 932935350L, 4306L: 3331798588L, 4307L: 371992397L, 4308L: 39089221L, 4309L: 39087L, 4310L: 468780417L, 4311L: 875747L, 4312L: 619295342L, 4313L: 3140L, 4314L: 505639412L, 4315L: 1853220L, 4316L: 107663665L, 4317L: 732L, 4318L: 800937976L, 4319L: 553435025L, 4320L: 2355L, 4321L: 903L, 4322L: 588831132L, 4323L: 517740928L, 4324L: 525489L, 4325L: 121097922L, 4326L: 403119730L, 4327L: 111084473L, 4328L: 581683277L, 4329L: 491368544L, 4330L: 479223702L, 4331L: 2310819623L, 4332L: 135882406L, 4333L: 458477944L, 4334L: 271283864L, 4335L: 674200419L, 4336L: 568457L, 4337L: 334687494L, 4338L: 949884609L, 4339L: 43340348L, 4340L: 1671069L, 4341L: 40278984L, 4342L: 2693188L, 4343L: 479784177L, 4344L: 1508745724L, 4345L: 1198559466L, 4346L: 718747L, 4347L: 448453806L, 4348L: 271031530L, 4349L: 22416525L, 4350L: 126407408L, 4351L: 2688940729L, 4352L: 350884505L, 4353L: 7318259L, 4354L: 1092306930L, 4355L: 225472848L, 4356L: 164822111L, 4357L: 588363769L, 4358L: 1266594223L, 4359L: 1235812639L, 4360L: 10411L, 4361L: 259573511L, 4362L: 462851391L, 4363L: 908421259L, 4364L: 265185635L, 4365L: 938304170L, 4366L: 411220378L, 4367L: 385145964L, 4368L: 774094473L, 4369L: 255461857L, 4370L: 389807590L, 4371L: 40986L, 4372L: 2975420L, 4373L: 276034768L, 4374L: 1336160772L, 4375L: 2989234L, 4376L: 1638499L, 4377L: 224949327L, 4378L: 935937564L, 4379L: 917917452L, 4380L: 33741272L, 4381L: 787063476L, 4382L: 299600344L, 4383L: 512159021L, 4384L: 489327524L, 4385L: 262012260L, 4386L: 720560846L, 4387L: 892762017L, 4388L: 9445L, 4389L: 688453636L, 4390L: 3224L, 4391L: 294593169L, 4392L: 49030497L, 4393L: 93044520L, 4394L: 440507415L, 4395L: 62180L, 4396L: 390645532L, 4397L: 214002009L, 4398L: 1313315235L, 4399L: 670539145L, 4400L: 40824795L, 4401L: 388470153L, 4402L: 76978792L, 4403L: 2447073839L, 4404L: 3982744L, 4405L: 399075366L, 4406L: 159958374L, 4407L: 221118968L, 4408L: 2271484603L, 4409L: 423922L, 4410L: 2572854243L, 4411L: 1166162984L, 4412L: 242112179L, 4413L: 99781522L, 4414L: 231247578L, 4415L: 47064L, 4416L: 477763343L, 4417L: 16713601L, 4418L: 810567859L, 4419L: 635544301L, 4420L: 233325201L, 4421L: 474945566L, 4422L: 135975365L, 4423L: 860113884L, 4424L: 65317966L, 4425L: 452977712L, 4426L: 188774830L, 4427L: 418155332L, 4428L: 1196643802L, 4429L: 417403801L, 4430L: 25272297L, 4431L: 399612754L, 4432L: 3947769693L, 4433L: 788694439L, 4434L: 172954321L, 4435L: 844275695L, 4436L: 4592791448L, 4437L: 6318773L, 4438L: 20391644L, 4439L: 1055L, 4440L: 306893085L, 4441L: 510890262L, 4442L: 113993132L, 4443L: 195871769L, 4444L: 37961384L, 4445L: 245756667L, 4446L: 189431811L, 4447L: 7965539L, 4448L: 363746423L, 4449L: 40780987L, 4450L: 5635976L, 4451L: 103428298L, 4452L: 733299467L, 4453L: 157304910L, 4454L: 1614L, 4455L: 49349031L, 4456L: 2579927L, 4457L: 1002250658L, 4458L: 17625L, 4459L: 264938202L, 4460L: 87381413L, 4461L: 250092105L, 4462L: 344300228L, 4463L: 476660316L, 4464L: 569485354L, 4465L: 804747179L, 4466L: 855545904L, 4467L: 24425660L, 4468L: 216904976L, 4469L: 72217332L, 4470L: 50419485L, 4471L: 439228112L, 4472L: 430468230L, 4473L: 386606541L, 4474L: 148084560L, 4475L: 242364847L, 4476L: 88610330L, 4477L: 1716698059L, 4478L: 403208142L, 4479L: 76915005L, 4480L: 1065647297L, 4481L: 228922990L, 4482L: 38081319L, 4483L: 304613404L, 4484L: 8059L, 4485L: 1206507391L, 4486L: 210861881L, 4487L: 3149203872L, 4488L: 92237L, 4489L: 127035776L, 4490L: 15862780L, 4491L: 869805725L, 4492L: 781737233L, 4493L: 222299978L, 4494L: 483340852L, 4495L: 30811914L, 4496L: 82217626L, 4497L: 481539111L, 4498L: 123582451L, 4499L: 258336286L, 4500L: 265182124L, 4501L: 393942572L, 4502L: 262783770L, 4503L: 82108322L, 4504L: 171858887L, 4505L: 456620238L, 4506L: 337152011L, 4507L: 354501986L, 4508L: 49113741L, 4509L: 155830654L, 4510L: 709L, 4511L: 18411189L, 4512L: 105308366L, 4513L: 202904442L, 4514L: 300905387L, 4515L: 14748131L, 4516L: 48532910L, 4517L: 895496168L, 4518L: 1400310790L, 4519L: 325198080L, 4520L: 11482L, 4521L: 30415692L, 4522L: 53905727L, 4523L: 977013L, 4524L: 1313717383L, 4525L: 1390508220L, 4526L: 1355643322L, 4527L: 32357161L, 4528L: 1592L, 4529L: 507884866L, 4530L: 9018228L, 4531L: 390696032L, 4532L: 694249223L, 4533L: 48003934L, 4534L: 194525303L, 4535L: 582725288L, 4536L: 383751L, 4537L: 99307443L, 4538L: 1158602529L, 4539L: 23689618L, 4540L: 800391640L, 4541L: 621205660L, 4542L: 2771834L, 4543L: 18381947L, 4544L: 5085716L, 4545L: 63558008L, 4546L: 621474699L, 4547L: 154521571L, 4548L: 539103305L, 4549L: 472785L, 4550L: 1491884897L, 4551L: 1375378711L, 4552L: 377354644L, 4553L: 842621315L, 4554L: 6514390785L, 4555L: 2101003603L, 4556L: 1719752200L, 4557L: 672588286L, 4558L: 1636418987L, 4559L: 2436338486L, 4560L: 555472113L, 4561L: 48859648L, 4562L: 339771413L, 4563L: 140522826L, 4564L: 712975897L, 4565L: 973060213L, 4566L: 194818705L, 4567L: 52967546L, 4568L: 36140039L, 4569L: 25287985L, 4570L: 559329661L, 4571L: 32768183L, 4572L: 407280L, 4573L: 248920263L, 4574L: 72246159L, 4575L: 32512420L, 4576L: 957257183L, 4577L: 426243L, 4578L: 3013L, 4579L: 13966226L, 4580L: 1197546L, 4581L: 2166592L, 4582L: 275363L, 4583L: 847909479L, 4584L: 2050362L, 4585L: 59642140L, 4586L: 1787542L, 4587L: 1218111134L, 4588L: 1109353433L, 4589L: 292884790L, 4590L: 86211800L, 4591L: 733335L, 4592L: 502572294L, 4593L: 26611030L, 4594L: 40154606L, 4595L: 208086360L, 4596L: 29043679L, 4597L: 10010L, 4598L: 218159451L, 4599L: 1933980499L, 4600L: 261732303L, 4601L: 109603676L, 4602L: 3169L, 4603L: 1321773805L, 4604L: 842557357L, 4605L: 38202335L, 4606L: 500667744L, 4607L: 857L, 4608L: 395772L, 4609L: 84692154L, 4610L: 839681245L, 4611L: 11188679L, 4612L: 879410L, 4613L: 430718675L, 4614L: 7111678L, 4615L: 421308986L, 4616L: 322832366L, 4617L: 682274991L, 4618L: 393689063L, 4619L: 57431257L, 4620L: 51046424L, 4621L: 1153878709L, 4622L: 613066871L, 4623L: 6668L, 4624L: 270423661L, 4625L: 188462020L, 4626L: 739987L, 4627L: 34748L, 4628L: 3065551L, 4630L: 253433585L, 4631L: 122186737L, 4632L: 2156772L, 4633L: 58207229L, 4634L: 54734L, 4635L: 23193076L, 4636L: 0L, 4637L: 5088883L, 4638L: 9073049L, 4639L: 607542345L, 4640L: 72607166L, 4641L: 182426513L, 4642L: 76328105L, 4643L: 1187172L, 4644L: 297443864L, 4645L: 3048096L, 4646L: 23701775L, 4647L: 253154202L, 4648L: 186219076L, 4649L: 1092852210L, 4650L: 577406672L, 4651L: 210141124L, 4652L: 182316217L, 4653L: 185899853L, 4654L: 28813249L, 4655L: 171479975L, 4656L: 70428585L, 4657L: 470364589L, 4658L: 400107524L, 4659L: 417278491L, 4660L: 307080438L, 4661L: 70016366L, 4662L: 481099631L, 4663L: 117945538L, 4664L: 642395252L, 4665L: 1665572493L, 4666L: 1350860772L, 4667L: 518811334L, 4668L: 74479901L, 4669L: 167763020L, 4670L: 1138480243L, 4671L: 14521337L, 4672L: 2201679052L, 4673L: 433592800L, 4674L: 1861359L, 4675L: 227161723L, 4676L: 111560654L, 4677L: 142904125L, 4678L: 465503593L, 4679L: 212224L, 4680L: 1660812120L, 4681L: 894500288L, 4682L: 71023918L, 4683L: 621169725L, 4684L: 1018540808L, 4685L: 520803257L, 4686L: 56939271L, 4687L: 195798240L, 4688L: 50963843L, 4689L: 31279840L, 4690L: 505163852L, 4691L: 101209543L, 4692L: 62418178L, 4693L: 226791152L, 4694L: 818222032L, 4695L: 1184800993L, 4696L: 5014915959L, 4697L: 208442189L, 4698L: 230920558L, 4699L: 339081989L, 4700L: 15348747L, 4701L: 5415003L, 4702L: 55809507L, 4703L: 392531140L, 4704L: 126927654L, 4705L: 193341966L, 4706L: 156874817L, 4707L: 1195741101L, 4708L: 273278895L, 4709L: 235442991L, 4710L: 50623118L, 4711L: 940936L, 4712L: 225842825L, 4713L: 178546687L, 4714L: 437446582L, 4715L: 309959637L, 4716L: 551555316L, 4717L: 294739945L, 4718L: 611701961L, 4719L: 284130996L, 4720L: 663609L, 4721L: 848378438L, 4722L: 542971403L, 4723L: 15956207L, 4724L: 1322256919L, 4725L: 232851634L, 4726L: 4882256L, 4727L: 2907820L, 4728L: 274366873L, 4729L: 454281582L, 4730L: 8038675L, 4731L: 35806889L, 4732L: 774262224L, 4733L: 299781541L, 4734L: 334703439L, 4735L: 782906234L, 4736L: 456483345L, 4737L: 220046165L, 4738L: 177262341L, 4739L: 13350360L, 4740L: 909341177L, 4741L: 18260060L, 4742L: 3472962L, 4743L: 278140788L, 4744L: 25908655L, 4745L: 1399823L, 4746L: 113843443L, 4747L: 18377278L, 4748L: 71023663L, 4749L: 1838882L, 4750L: 77873L, 4751L: 17213262L, 4752L: 20305740L, 4753L: 16882090L, 4754L: 188147599L, 4755L: 4860649L, 4756L: 213801014L, 4757L: 3709617L, 4758L: 62425717L, 4759L: 20534L, 4760L: 5304831L, 4761L: 66458340L, 4762L: 5303959L, 4763L: 248298402L, 4764L: 467174912L, 4765L: 54183849L, 4766L: 1190030647L, 4767L: 269938023L, 4768L: 518524340L, 4769L: 20003L, 4770L: 7973942L, 4771L: 187447663L, 4772L: 143993898L, 4773L: 1055731236L, 4774L: 16867447L, 4775L: 32742187L, 4776L: 13967145L, 4777L: 50727232L, 4778L: 81598957L, 4779L: 268883784L, 4780L: 21721293L, 4781L: 8349843L, 4782L: 97550605L, 4783L: 10299547L, 4784L: 158034969L, 4785L: 157307843L, 4786L: 5255997L, 4787L: 33613478L, 4788L: 181935626L, 4789L: 38031477L, 4790L: 247046026L, 4791L: 330532347L, 4792L: 25329115L, 4793L: 1331786L, 4794L: 11086454L, 4796L: 89400001L, 4797L: 272285594L, 4798L: 331401855L, 4799L: 5010262L, 4800L: 11518031L, 4801L: 1240639172L, 4802L: 396046107L, 4803L: 215272618L, 4804L: 21668632L, 4805L: 249680785L, 4806L: 624196884L, 4807L: 426163208L, 4808L: 574393851L, 4809L: 15183555L, 4810L: 325101424L, 4811L: 1140561678L, 4812L: 399569L, 4813L: 678060L, 4814L: 1089120360L, 4815L: 135195301L, 4816L: 13094204L, 4817L: 2860745L, 4818L: 37782586L, 4819L: 1166032373L, 4820L: 312706756L, 4821L: 3038752L, 4822L: 43341970L, 4823L: 283736931L, 4824L: 742619917L, 4825L: 74863828L, 4826L: 97186827L, 4827L: 5453496L, 4828L: 160491686L, 4829L: 464798232L, 4830L: 175695455L, 4831L: 168465932L, 4832L: 422360327L, 4833L: 1797392574L, 4834L: 1001754622L, 4835L: 18203967L, 4836L: 110355343L, 4837L: 110329552L, 4838L: 681446400L, 4839L: 463017145L, 4840L: 1252965556L, 4841L: 3826L, 4842L: 343549932L, 4843L: 141440950L, 4844L: 1427475L, 4845L: 673132299L, 4846L: 2726598L, 4847L: 5521949L, 4848L: 925662021L, 4849L: 16924509L, 4850L: 12381285L, 4851L: 1005049672L, 4852L: 2378L, 4853L: 312595728L, 4854L: 2037924715L, 4855L: 2012024L, 4856L: 184359572L, 4857L: 109333203L, 4858L: 633961386L, 4859L: 5032784L, 4860L: 24571606L, 4861L: 321641231L, 4862L: 94957308L, 4863L: 818104L, 4864L: 106436959L, 4865L: 19897022L, 4866L: 20302705L, 4867L: 21797180L, 4868L: 10519457L, 4869L: 123151795L, 4870L: 19542409L, 4871L: 243445385L, 4872L: 40732639L, 4873L: 17149676L, 4874L: 120077438L, 4875L: 2714547L, 4876L: 1175063L, 4877L: 335336072L, 4878L: 89339550L, 4879L: 33453205L, 4880L: 517253658L, 4881L: 729120479L, 4882L: 118917870L, 4883L: 174223972L, 4884L: 748343066L, 4885L: 14661073L, 4886L: 4566L, 4887L: 30469369L, 4888L: 55591567L, 4889L: 2136463L, 4890L: 29094760L, 4891L: 36316521L, 4892L: 67009310L, 4893L: 118679997L, 4894L: 1138905777L, 4895L: 188022086L, 4896L: 1239318445L, 4897L: 35496L, 4898L: 267438270L, 4899L: 147242L, 4900L: 6932159L, 4901L: 91841034L, 4902L: 725549952L, 4903L: 29873857L, 4904L: 6777616L, 4905L: 1830392085L, 4906L: 58356851L, 4907L: 1393708524L, 4908L: 2367444973L, 4909L: 301999058L, 4910L: 75485618L, 4911L: 30088L, 4912L: 531396L, 4913L: 36891108L, 4914L: 6540998L, 4915L: 50775L, 4916L: 2100029L, 4917L: 14930623L, 4918L: 369267657L, 4919L: 1464481827L, 4920L: 361315838L, 4921L: 129950L, 4922L: 1631929265L, 4923L: 603829441L, 4924L: 1326729656L, 4925L: 9076L, 4926L: 913367383L, 4927L: 381843951L, 4928L: 807553857L, 4929L: 1047215357L, 4930L: 660938L, 4931L: 45136L, 4932L: 1787201602L, 4933L: 373754L, 4934L: 10168L, 4935L: 874L, 4936L: 55588L, 4937L: 291103848L, 4938L: 1875912412L, 4939L: 28806584L, 4940L: 273926685L, 4941L: 11224423L, 4942L: 599106325L, 4943L: 1050248L, 4944L: 93309798L, 4945L: 96337539L, 4946L: 34003962L, 4947L: 388778094L, 4948L: 238523770L, 4949L: 103905835L, 4950L: 68629392L, 4951L: 406623631L, 4952L: 810885418L, 4953L: 235215290L, 4954L: 2827L, 4955L: 15125L, 4956L: 9113L, 4957L: 7928L, 4958L: 10214498L, 4959L: 777329238L, 4960L: 223385828L, 4961L: 1027635L, 4962L: 67126565L, 4964L: 70523954L, 4965L: 22269386L, 4966L: 222124042L, 4967L: 1126605L, 4968L: 14510939L, 4969L: 375837259L, 4970L: 73056604L, 4971L: 16365046L, 4972L: 62931666L, 4973L: 89346013L, 4974L: 34440014L, 4975L: 27788573L, 4976L: 43574472L, 4977L: 2275993L, 4978L: 261155799L, 4979L: 350733L, 4980L: 27689787L, 4981L: 16901504L, 4982L: 230676010L, 4983L: 87356450L, 4984L: 305182467L, 4985L: 3813096L, 4986L: 799121L, 4987L: 1608607L, 4988L: 1519970L, 4989L: 10347891L, 4990L: 97065718L, 4991L: 250017924L, 4992L: 100564526L, 4993L: 383719014L, 4994L: 288063821L, 4995L: 356432286L, 4996L: 829455055L, 4997L: 453324872L, 4998L: 511635186L, 4999L: 37789287L}}\n"
     ]
    }
   ],
   "source": [
    "print(dict)"
   ]
  },
  {
   "cell_type": "code",
   "execution_count": 95,
   "metadata": {},
   "outputs": [],
   "source": [
    "tmp2 = pd.DataFrame(index = range(1, 5000), data = dict)"
   ]
  },
  {
   "cell_type": "code",
   "execution_count": 96,
   "metadata": {},
   "outputs": [
    {
     "name": "stdout",
     "output_type": "stream",
     "text": [
      "    down_flow  up_flow  visit_cnt  visit_dura\n",
      "35        0.0      0.0        0.0         0.0\n"
     ]
    }
   ],
   "source": [
    "tmp2 = tmp2.fillna(0)\n",
    "print(tmp2[tmp2.index == 35])"
   ]
  },
  {
   "cell_type": "code",
   "execution_count": 97,
   "metadata": {},
   "outputs": [],
   "source": [
    "tmp2.loc[:, ['down_flow', 'up_flow', 'visit_dura', 'visit_cnt']] = tmp2.loc[:, ['down_flow', 'up_flow', 'visit_dura', 'visit_cnt']].astype('int64')"
   ]
  },
  {
   "cell_type": "code",
   "execution_count": 98,
   "metadata": {
    "scrolled": true
   },
   "outputs": [
    {
     "name": "stdout",
     "output_type": "stream",
     "text": [
      "        down_flow     up_flow  visit_cnt  visit_dura\n",
      "1       961584381   198982664      97694   111717951\n",
      "2           94749      128573        178      441653\n",
      "3      1302232575    71003943      23793    29725658\n",
      "4      3498333063   305322754      56631    68759582\n",
      "5       227950020    40537809      13835    16348226\n",
      "6       230621263    63020129       7472     8371578\n",
      "7      1414949738   122874603      38916    42931191\n",
      "8       784702356    84662263      28601    33408610\n",
      "9      2068118894   171232060      30084    38000355\n",
      "10      210398232     9244460       6957     7216031\n",
      "11     1541267930   199550391      39056    44577754\n",
      "12     1033096558   172470193      48163    63137099\n",
      "13      692934170   122998271      33466    39840202\n",
      "14     1930970015   112707809      30490    38225863\n",
      "15       17887307    14771369       2871     5675466\n",
      "16      919469789    59938844      13447    17380650\n",
      "17      453305348   246482473      17413    19782279\n",
      "18          29014       31042         17       40796\n",
      "19     1086070510   111309599      41003    49739351\n",
      "20      498732213    87926606      16361    18767708\n",
      "21           1942        1544          1        5606\n",
      "22      581790399    50235232      12656    16682362\n",
      "23      133881142    35542700      11237    17560175\n",
      "24      789676432   207540659      31167    38318274\n",
      "25      955508270    70180396      28095    30547508\n",
      "26      797607641   245218777      29661    37019367\n",
      "27      512448135    82002591      38378    44313514\n",
      "28     1568408257   513175825      24141    34598759\n",
      "29    27173242162  1000428710     188577   238338524\n",
      "30    21016108083   946988351      61630    89754284\n",
      "...           ...         ...        ...         ...\n",
      "4970    462110208    73056604      10652    13500543\n",
      "4971     78719556    16365046       3910     4941102\n",
      "4972    581326849    62931666      25937    31610421\n",
      "4973   1299484402    89346013      24002    30807437\n",
      "4974     81666890    34440014       6629     9577777\n",
      "4975    155433599    27788573       6642     8941607\n",
      "4976    224805874    43574472      13685    17232184\n",
      "4977      2125975     2275993       2558     4118295\n",
      "4978   2845810396   261155799      50680    63003170\n",
      "4979       953200      350733        234      298677\n",
      "4980    417414254    27689787       6329     7321543\n",
      "4981    230433601    16901504       6615     6356111\n",
      "4982   5030198364   230676010      50951    64312376\n",
      "4983   1870016724    87356450      18631    25019754\n",
      "4984   3763887558   305182467      80654   104097051\n",
      "4985     14653349     3813096       2154     2683893\n",
      "4986      5643043      799121        243      324920\n",
      "4987     66894272     1608607        181      213576\n",
      "4988     27128159     1519970        391      504789\n",
      "4989     41083077    10347891       5097     7687466\n",
      "4990    467542691    97065718      30292    50728813\n",
      "4991   1403275553   250017924      60754   116776872\n",
      "4992    767951897   100564526      14913    24163667\n",
      "4993    435166466   383719014      82907   132756839\n",
      "4994    374781111   288063821      41142    67819918\n",
      "4995   4387770619   356432286      81772   114238542\n",
      "4996  20095857419   829455055      69381    95316416\n",
      "4997  14457568563   453324872      99862   148955356\n",
      "4998  14500856261   511635186      79255   106770619\n",
      "4999    443718853    37789287      10341    11880193\n",
      "\n",
      "[4999 rows x 4 columns]\n"
     ]
    }
   ],
   "source": [
    "print(tmp2)"
   ]
  },
  {
   "cell_type": "code",
   "execution_count": 100,
   "metadata": {},
   "outputs": [],
   "source": [
    "tmp2.to_csv('../data/train/train_feature_2to5.csv', index=True)"
   ]
  },
  {
   "cell_type": "code",
   "execution_count": 116,
   "metadata": {
    "scrolled": true
   },
   "outputs": [
    {
     "name": "stdout",
     "output_type": "stream",
     "text": [
      "uid\n",
      "1       [155导航, 360借条, 360安全中心网, 360影视大全, 360搜索, 360网址...\n",
      "2       [Web上网流量（Get）, Web上网流量（Post）, 未识别TCP业务流量, 网络连接...\n",
      "3       [360借条, 360公共资源, 360安全中心网, 360手机卫士, 3GPP, A8音乐...\n",
      "4       [135编辑器官网, 365地产家居网, 39健康网, 3GPP, 51Yes网站流量统计,...\n",
      "5       [360安全中心网, CNZZ, DNS查询流量, K歌达人, MIUI米柚, MM131美...\n",
      "6       [139上网导航, 155导航, 1688采购批发网, 17k小说网, 5068儿童网, 5...\n",
      "7       [139上网导航, 155导航, 360借条, 360安全中心网, 360影视大全, 360...\n",
      "8       [58同城, APP积分运营服务平台, AccuWeather, AppStore, App...\n",
      "9       [139上网导航, 360借条, 360安全中心网, AccuWeather, AdMast...\n",
      "10      [IZAT, MIUI米柚, NIST, YY语音, 个推推送, 全球可用的NTP服务器列表...\n",
      "11      [2345网址导航, 360安全中心网, 58同城, APP积分运营服务平台, AccuWe...\n",
      "12      [1号店, 39健康网, 3GPP, ADPush营销平台, AdMaster精硕科技, A...\n",
      "13      [1688采购批发网, 360借条, 51Yes网站流量统计, 51vv视频社区, 88度C...\n",
      "14      [360公共资源, 58同城, 8684公交, 95美女秀, ADINALL, ADSENS...\n",
      "15      [1号店, 360借条, 360安全中心网, CNZZ, EEPW电子产品世界, Messe...\n",
      "16      [ADPush营销平台, APPLE, AccuWeather, AppStore, BIL...\n",
      "17      [139上网导航, 360doc个人图书馆, 360借条, 360安全中心网, 360手机卫...\n",
      "18         [3GPP, 中国联通网上营业厅, 微信, 苹果公共资源, WAP上网连接流量, 今日头条]\n",
      "19      [126邮箱, 139上网导航, 155导航, 360借条, 360安全中心网, 360手机...\n",
      "20      [AccuWeather, CNZZ, COLOROS官方网站手机版, DNS查询流量, F...\n",
      "21                                                   [QQ]\n",
      "22      [360借条, 360公共资源, 360安全中心网, 360影视大全, 360手机卫士, 3...\n",
      "23      [139上网导航, DNS查询流量, GPS定位服务器, NTP协议, QQ, QQ浏览器,...\n",
      "24      [139上网导航, 1688采购批发网, 360借条, 360公共资源, 360安全中心网,...\n",
      "25      [360借条, 360安全中心网, CNZZ, COLOROS官方网站手机版, DATAEY...\n",
      "26      [139上网导航, 155导航, 1元夺宝, 34563, 360借条, 360安全中心网,...\n",
      "27      [115网盘, 155导航, 1688采购批发网, 1元夺宝, 360云盘, 360公共资源...\n",
      "28      [360安全中心网, 360手机助手, 360手机卫士, AdMaster精硕科技, COL...\n",
      "29      [139上网导航, 139邮箱, 155导航, 360公共资源, 360安全中心网, 58同...\n",
      "30      [139上网导航, 360doc个人图书馆, 3GPP, 58同城, ADVERTISING...\n",
      "                              ...                        \n",
      "4970    [微信, APPLE, AppStore, CNZZ, DNS查询流量, Facebook,...\n",
      "4971    [DNS查询流量, QQ, Web上网流量（Get）, Web上网流量（Post）, 优酷,...\n",
      "4972    [DNS查询流量, NTP协议, Web上网流量（Post）, 乐商店, 搜狗地图, 未识别...\n",
      "4973    [115, 360清理大师, 7759小游戏, APACHE, AppStore, DNS查...\n",
      "4974    [DNS查询流量, NTP协议, QQ, SSL安全类业务流量, Web上网流量（Get）,...\n",
      "4975    [DNS查询流量, Web上网流量（Get）, 微信, Facebook, NTP协议, O...\n",
      "4976    [DNS查询流量, SSL安全类业务流量, Web上网流量（Get）, Web上网流量（Po...\n",
      "4977    [DNS查询流量, Web上网流量（Get）, Web上网流量（Post）, 其他业务流量,...\n",
      "4978    [139上网导航, 155导航, 21CN邮箱, 2345浏览器, 360借条, 360公共...\n",
      "4979    [AccuWeather, CNZZ, QQ, 信析宝, 华为网站, 友盟广告平台, 同程网...\n",
      "4980    [AdMaster精硕科技, AppStore, COLOROS官方网站手机版, DNS查询...\n",
      "4981    [139上网导航, 17k小说网, 360借条, 360公共资源, 360安全中心网, AM...\n",
      "4982    [139上网导航, 155导航, 1688采购批发网, 17k小说网, 360安全中心网, ...\n",
      "4983    [1688采购批发网, 17k小说网, 1元夺宝, 360借条, 360公共资源, 360安...\n",
      "4984    [139上网导航, AdMaster精硕科技, CNZZ, Core, DNS查询流量, F...\n",
      "4985    [91助手官网, CNZZ, K歌达人, PERSONALPRODUCE, QQ, WiFi...\n",
      "4986    [QQ同步助手, amazon云服务, 中国移动通信, 今日头条, 信析宝, 华为网站, 大...\n",
      "4987    [信析宝, 华为网站, 微信, 智汇云, 百度, 百度地图, 百度输入法, 腾讯网, 谷歌,...\n",
      "4988    [AdView 移动广告优化专家, COLOROS官方网站手机版, Google Play,...\n",
      "4989    [CNZZ, DNS查询流量, GPS定位服务器, ICMP_FAILED, LBE TEC...\n",
      "4990    [1688采购批发网, 17k小说网, 56书库, 58同城, CNZZ, COLOROS官...\n",
      "4991    [360借条, 360公共资源, 360安全中心网, 360手机卫士, COLOROS官方网...\n",
      "4992    [7654购物, DNS查询流量, LetvStore, QQ, SSL安全类业务流量, W...\n",
      "4993    [1688采购批发网, 17k小说网, 58同城, CIBN互联网电视官网, CNZZ, C...\n",
      "4994    [1688采购批发网, 17k小说网, 360借条, 360安全中心网, 360手机卫士, ...\n",
      "4995    [139上网导航, 33小说网, 91门户, AccuWeather, Blued官方网站,...\n",
      "4996    [AppStore, B612咔叽, DNS查询流量, NTP协议, QQ, QQ互联, Q...\n",
      "4997    [AdMaster精硕科技, AppsFlyer, CNZZ, COLOROS官方网站手机版...\n",
      "4998    [DNS查询流量, Facebook, NTP协议, OPPO软件商店, QQ, SSL安全...\n",
      "4999    [360安全中心网, 360手机卫士, 53快服网站, 58同城, AccuWeather,...\n",
      "Name: wa_name, Length: 4945, dtype: object\n"
     ]
    }
   ],
   "source": [
    "group = train_wa_df.groupby('uid')['wa_name']\n",
    "print(group.unique())"
   ]
  },
  {
   "cell_type": "code",
   "execution_count": 113,
   "metadata": {},
   "outputs": [
    {
     "name": "stderr",
     "output_type": "stream",
     "text": [
      "d:\\program files (x86)\\python\\lib\\site-packages\\ipykernel_launcher.py:1: FutureWarning: using a dict on a Series for aggregation\n",
      "is deprecated and will be removed in a future version\n",
      "  \"\"\"Entry point for launching an IPython kernel.\n"
     ]
    }
   ],
   "source": [
    "agg = group.aggregate({'wa_name': lambda x: x.nunique()})"
   ]
  },
  {
   "cell_type": "code",
   "execution_count": 117,
   "metadata": {},
   "outputs": [
    {
     "name": "stdout",
     "output_type": "stream",
     "text": [
      "<class 'pandas.core.frame.DataFrame'>\n"
     ]
    }
   ],
   "source": [
    "print(type(agg))"
   ]
  },
  {
   "cell_type": "code",
   "execution_count": 119,
   "metadata": {},
   "outputs": [
    {
     "name": "stdout",
     "output_type": "stream",
     "text": [
      "           wa_name\n",
      "count  4048.000000\n",
      "mean    151.328804\n",
      "std     115.902818\n",
      "min       1.000000\n",
      "25%      48.000000\n",
      "50%     145.000000\n",
      "75%     228.000000\n",
      "max     789.000000\n"
     ]
    }
   ],
   "source": [
    "print(agg[agg.index < 4100].describe())"
   ]
  },
  {
   "cell_type": "code",
   "execution_count": 121,
   "metadata": {},
   "outputs": [
    {
     "name": "stdout",
     "output_type": "stream",
     "text": [
      "          wa_name\n",
      "count  897.000000\n",
      "mean   186.510591\n",
      "std    134.579181\n",
      "min      1.000000\n",
      "25%     72.000000\n",
      "50%    174.000000\n",
      "75%    279.000000\n",
      "max    853.000000\n"
     ]
    }
   ],
   "source": [
    "print(agg[agg.index >= 4100].describe())"
   ]
  },
  {
   "cell_type": "code",
   "execution_count": 129,
   "metadata": {
    "scrolled": true
   },
   "outputs": [
    {
     "name": "stdout",
     "output_type": "stream",
     "text": [
      "      wa_name\n",
      "uid          \n",
      "1         181\n",
      "2           5\n",
      "3         178\n",
      "4         298\n",
      "5         130\n",
      "6         164\n",
      "7         209\n",
      "8         171\n",
      "9         157\n",
      "10         32\n",
      "11        169\n",
      "12        258\n",
      "13        227\n",
      "14        250\n",
      "15         60\n",
      "16        162\n",
      "17        162\n",
      "18          6\n",
      "19        199\n",
      "20        163\n",
      "21          1\n",
      "22        136\n",
      "23         56\n",
      "24        194\n",
      "25        138\n",
      "26        284\n",
      "27        274\n",
      "28        101\n",
      "29        281\n",
      "30        272\n",
      "...       ...\n",
      "4970       56\n",
      "4971       67\n",
      "4972       69\n",
      "4973       80\n",
      "4974       30\n",
      "4975       42\n",
      "4976       64\n",
      "4977       24\n",
      "4978      268\n",
      "4979       23\n",
      "4980      108\n",
      "4981      179\n",
      "4982      229\n",
      "4983      205\n",
      "4984      147\n",
      "4985       50\n",
      "4986       20\n",
      "4987       10\n",
      "4988       33\n",
      "4989       51\n",
      "4990      123\n",
      "4991       86\n",
      "4992       59\n",
      "4993      120\n",
      "4994      119\n",
      "4995      199\n",
      "4996      140\n",
      "4997      134\n",
      "4998      137\n",
      "4999      146\n",
      "\n",
      "[4945 rows x 1 columns]\n"
     ]
    }
   ],
   "source": [
    "print(agg)"
   ]
  },
  {
   "cell_type": "code",
   "execution_count": 132,
   "metadata": {},
   "outputs": [],
   "source": [
    "agg.rename(columns=lambda x:x.replace('wa_name','wa_cnt'), inplace=True)"
   ]
  },
  {
   "cell_type": "code",
   "execution_count": 133,
   "metadata": {
    "scrolled": true
   },
   "outputs": [
    {
     "name": "stdout",
     "output_type": "stream",
     "text": [
      "      wa_cnt\n",
      "uid         \n",
      "1        181\n",
      "2          5\n",
      "3        178\n",
      "4        298\n",
      "5        130\n",
      "6        164\n",
      "7        209\n",
      "8        171\n",
      "9        157\n",
      "10        32\n",
      "11       169\n",
      "12       258\n",
      "13       227\n",
      "14       250\n",
      "15        60\n",
      "16       162\n",
      "17       162\n",
      "18         6\n",
      "19       199\n",
      "20       163\n",
      "21         1\n",
      "22       136\n",
      "23        56\n",
      "24       194\n",
      "25       138\n",
      "26       284\n",
      "27       274\n",
      "28       101\n",
      "29       281\n",
      "30       272\n",
      "...      ...\n",
      "4970      56\n",
      "4971      67\n",
      "4972      69\n",
      "4973      80\n",
      "4974      30\n",
      "4975      42\n",
      "4976      64\n",
      "4977      24\n",
      "4978     268\n",
      "4979      23\n",
      "4980     108\n",
      "4981     179\n",
      "4982     229\n",
      "4983     205\n",
      "4984     147\n",
      "4985      50\n",
      "4986      20\n",
      "4987      10\n",
      "4988      33\n",
      "4989      51\n",
      "4990     123\n",
      "4991      86\n",
      "4992      59\n",
      "4993     120\n",
      "4994     119\n",
      "4995     199\n",
      "4996     140\n",
      "4997     134\n",
      "4998     137\n",
      "4999     146\n",
      "\n",
      "[4945 rows x 1 columns]\n"
     ]
    }
   ],
   "source": [
    "print(agg)"
   ]
  },
  {
   "cell_type": "code",
   "execution_count": 134,
   "metadata": {},
   "outputs": [],
   "source": [
    "dict = agg.to_dict()"
   ]
  },
  {
   "cell_type": "code",
   "execution_count": 135,
   "metadata": {},
   "outputs": [
    {
     "name": "stdout",
     "output_type": "stream",
     "text": [
      "{'wa_cnt': {1L: 181L, 2L: 5L, 3L: 178L, 4L: 298L, 5L: 130L, 6L: 164L, 7L: 209L, 8L: 171L, 9L: 157L, 10L: 32L, 11L: 169L, 12L: 258L, 13L: 227L, 14L: 250L, 15L: 60L, 16L: 162L, 17L: 162L, 18L: 6L, 19L: 199L, 20L: 163L, 21L: 1L, 22L: 136L, 23L: 56L, 24L: 194L, 25L: 138L, 26L: 284L, 27L: 274L, 28L: 101L, 29L: 281L, 30L: 272L, 31L: 264L, 32L: 283L, 33L: 185L, 34L: 159L, 36L: 2L, 37L: 229L, 38L: 97L, 39L: 121L, 40L: 13L, 41L: 114L, 42L: 172L, 43L: 232L, 44L: 227L, 45L: 386L, 46L: 3L, 47L: 140L, 48L: 294L, 49L: 95L, 50L: 252L, 51L: 242L, 53L: 188L, 54L: 145L, 55L: 68L, 56L: 20L, 57L: 184L, 58L: 219L, 59L: 10L, 60L: 1L, 61L: 21L, 62L: 15L, 63L: 156L, 64L: 27L, 65L: 153L, 66L: 2L, 67L: 186L, 68L: 52L, 69L: 2L, 70L: 128L, 71L: 218L, 72L: 129L, 73L: 35L, 74L: 95L, 75L: 221L, 76L: 159L, 77L: 83L, 78L: 116L, 79L: 343L, 80L: 235L, 81L: 137L, 82L: 250L, 83L: 310L, 84L: 145L, 85L: 114L, 86L: 23L, 87L: 127L, 88L: 169L, 89L: 37L, 90L: 1L, 91L: 127L, 92L: 171L, 93L: 174L, 94L: 196L, 95L: 103L, 96L: 3L, 97L: 215L, 98L: 255L, 99L: 310L, 100L: 143L, 101L: 169L, 102L: 198L, 103L: 53L, 104L: 129L, 105L: 3L, 106L: 158L, 107L: 148L, 108L: 215L, 109L: 251L, 110L: 146L, 111L: 143L, 112L: 80L, 113L: 213L, 114L: 300L, 115L: 34L, 116L: 170L, 117L: 169L, 118L: 199L, 119L: 281L, 120L: 197L, 121L: 126L, 122L: 86L, 123L: 48L, 124L: 131L, 125L: 5L, 126L: 294L, 127L: 89L, 128L: 43L, 129L: 85L, 130L: 234L, 131L: 57L, 132L: 485L, 133L: 162L, 134L: 327L, 135L: 256L, 136L: 77L, 137L: 161L, 138L: 233L, 139L: 210L, 140L: 382L, 141L: 178L, 143L: 323L, 144L: 409L, 145L: 430L, 146L: 90L, 147L: 328L, 148L: 143L, 149L: 186L, 150L: 164L, 151L: 131L, 152L: 251L, 153L: 311L, 154L: 141L, 155L: 171L, 156L: 181L, 157L: 23L, 158L: 1L, 159L: 48L, 160L: 363L, 161L: 245L, 162L: 58L, 163L: 52L, 164L: 120L, 165L: 331L, 166L: 144L, 167L: 161L, 169L: 61L, 170L: 104L, 171L: 92L, 172L: 54L, 173L: 2L, 174L: 212L, 175L: 221L, 176L: 225L, 177L: 132L, 178L: 141L, 179L: 215L, 180L: 209L, 181L: 141L, 182L: 258L, 183L: 149L, 184L: 151L, 185L: 123L, 186L: 31L, 187L: 230L, 188L: 55L, 189L: 343L, 190L: 186L, 191L: 241L, 192L: 115L, 193L: 99L, 194L: 289L, 195L: 134L, 196L: 177L, 197L: 41L, 198L: 219L, 199L: 48L, 200L: 191L, 201L: 91L, 202L: 125L, 203L: 105L, 204L: 212L, 205L: 5L, 206L: 11L, 207L: 276L, 208L: 2L, 209L: 216L, 210L: 277L, 211L: 217L, 212L: 259L, 213L: 7L, 214L: 261L, 215L: 27L, 216L: 244L, 217L: 80L, 218L: 225L, 219L: 3L, 220L: 6L, 221L: 354L, 222L: 189L, 223L: 2L, 224L: 179L, 225L: 213L, 226L: 215L, 227L: 4L, 228L: 111L, 229L: 242L, 230L: 207L, 231L: 2L, 232L: 157L, 233L: 141L, 234L: 210L, 235L: 75L, 236L: 75L, 237L: 32L, 238L: 251L, 239L: 213L, 240L: 203L, 241L: 1L, 242L: 220L, 243L: 292L, 244L: 181L, 245L: 182L, 246L: 1L, 247L: 218L, 248L: 3L, 249L: 1L, 250L: 2L, 251L: 2L, 252L: 244L, 253L: 288L, 254L: 15L, 255L: 252L, 256L: 2L, 257L: 155L, 258L: 135L, 259L: 117L, 260L: 92L, 261L: 26L, 262L: 299L, 263L: 14L, 264L: 63L, 265L: 245L, 266L: 98L, 267L: 199L, 268L: 86L, 269L: 9L, 270L: 212L, 271L: 180L, 272L: 164L, 273L: 156L, 274L: 416L, 275L: 3L, 276L: 200L, 277L: 4L, 278L: 249L, 279L: 148L, 280L: 4L, 281L: 33L, 282L: 2L, 283L: 30L, 284L: 37L, 285L: 155L, 286L: 174L, 287L: 8L, 288L: 14L, 289L: 418L, 290L: 26L, 291L: 189L, 292L: 12L, 293L: 154L, 294L: 139L, 295L: 304L, 296L: 187L, 297L: 246L, 298L: 306L, 299L: 278L, 300L: 62L, 301L: 304L, 302L: 117L, 303L: 8L, 304L: 268L, 305L: 164L, 306L: 77L, 307L: 33L, 308L: 74L, 309L: 126L, 310L: 153L, 311L: 107L, 312L: 50L, 313L: 372L, 314L: 67L, 315L: 248L, 316L: 144L, 317L: 353L, 318L: 57L, 319L: 11L, 320L: 154L, 321L: 170L, 322L: 5L, 323L: 36L, 324L: 503L, 325L: 241L, 326L: 171L, 327L: 566L, 328L: 154L, 329L: 118L, 330L: 416L, 331L: 186L, 332L: 92L, 333L: 292L, 334L: 106L, 335L: 245L, 336L: 711L, 337L: 158L, 338L: 113L, 339L: 182L, 340L: 107L, 341L: 83L, 342L: 226L, 343L: 49L, 344L: 276L, 345L: 153L, 346L: 66L, 347L: 13L, 348L: 80L, 349L: 104L, 350L: 190L, 351L: 150L, 352L: 143L, 353L: 84L, 354L: 26L, 355L: 187L, 356L: 32L, 357L: 44L, 358L: 88L, 359L: 2L, 360L: 340L, 361L: 346L, 362L: 4L, 363L: 207L, 364L: 179L, 365L: 144L, 366L: 54L, 367L: 150L, 368L: 177L, 369L: 56L, 370L: 267L, 371L: 281L, 372L: 37L, 373L: 6L, 374L: 23L, 375L: 16L, 376L: 271L, 377L: 116L, 378L: 46L, 379L: 1L, 380L: 100L, 381L: 111L, 382L: 243L, 383L: 325L, 384L: 32L, 385L: 174L, 386L: 132L, 387L: 206L, 388L: 49L, 389L: 8L, 390L: 165L, 391L: 308L, 392L: 120L, 393L: 2L, 394L: 443L, 395L: 27L, 396L: 64L, 397L: 114L, 398L: 220L, 399L: 281L, 400L: 151L, 401L: 491L, 402L: 218L, 403L: 319L, 404L: 22L, 405L: 169L, 406L: 222L, 407L: 183L, 408L: 360L, 409L: 53L, 410L: 99L, 411L: 3L, 412L: 8L, 413L: 218L, 414L: 272L, 415L: 190L, 416L: 3L, 417L: 182L, 418L: 323L, 419L: 180L, 420L: 74L, 421L: 136L, 423L: 163L, 424L: 376L, 425L: 129L, 426L: 60L, 427L: 36L, 428L: 108L, 429L: 22L, 430L: 3L, 431L: 301L, 432L: 122L, 433L: 53L, 434L: 86L, 435L: 2L, 436L: 1L, 437L: 31L, 438L: 246L, 439L: 306L, 440L: 246L, 441L: 3L, 442L: 242L, 443L: 384L, 444L: 234L, 445L: 242L, 446L: 89L, 447L: 234L, 448L: 86L, 449L: 297L, 450L: 121L, 451L: 169L, 452L: 76L, 453L: 27L, 454L: 3L, 455L: 185L, 456L: 166L, 457L: 351L, 459L: 36L, 460L: 191L, 461L: 64L, 462L: 245L, 463L: 269L, 464L: 488L, 465L: 6L, 466L: 291L, 467L: 5L, 468L: 272L, 469L: 147L, 470L: 103L, 471L: 248L, 472L: 102L, 473L: 8L, 474L: 23L, 475L: 371L, 476L: 16L, 477L: 117L, 478L: 18L, 479L: 138L, 480L: 183L, 481L: 250L, 482L: 310L, 483L: 253L, 484L: 202L, 485L: 2L, 486L: 9L, 487L: 203L, 488L: 33L, 489L: 264L, 490L: 6L, 491L: 171L, 492L: 15L, 493L: 115L, 494L: 154L, 495L: 149L, 496L: 2L, 497L: 245L, 498L: 306L, 499L: 5L, 500L: 7L, 501L: 21L, 502L: 7L, 503L: 12L, 504L: 62L, 505L: 236L, 506L: 264L, 507L: 196L, 508L: 136L, 509L: 68L, 510L: 183L, 511L: 179L, 512L: 4L, 513L: 7L, 514L: 115L, 515L: 9L, 516L: 144L, 517L: 3L, 518L: 33L, 519L: 1L, 520L: 55L, 521L: 123L, 522L: 138L, 523L: 247L, 524L: 8L, 525L: 106L, 526L: 18L, 527L: 55L, 528L: 44L, 529L: 156L, 530L: 256L, 531L: 241L, 532L: 88L, 533L: 23L, 534L: 9L, 535L: 49L, 536L: 71L, 537L: 207L, 538L: 143L, 539L: 376L, 540L: 46L, 541L: 72L, 542L: 48L, 543L: 199L, 544L: 129L, 545L: 403L, 546L: 272L, 547L: 122L, 548L: 2L, 549L: 138L, 550L: 34L, 551L: 120L, 552L: 1L, 553L: 160L, 554L: 215L, 555L: 30L, 556L: 184L, 557L: 285L, 558L: 173L, 559L: 220L, 560L: 221L, 561L: 222L, 562L: 264L, 563L: 202L, 564L: 15L, 565L: 148L, 566L: 248L, 567L: 211L, 568L: 325L, 569L: 14L, 570L: 186L, 571L: 168L, 572L: 176L, 573L: 10L, 574L: 4L, 575L: 1L, 576L: 152L, 577L: 241L, 578L: 2L, 579L: 177L, 580L: 360L, 581L: 2L, 582L: 169L, 583L: 15L, 584L: 220L, 585L: 116L, 586L: 47L, 587L: 77L, 588L: 142L, 589L: 318L, 590L: 140L, 591L: 193L, 593L: 234L, 594L: 131L, 595L: 2L, 596L: 31L, 597L: 174L, 598L: 63L, 599L: 8L, 600L: 130L, 601L: 114L, 602L: 118L, 603L: 256L, 604L: 189L, 605L: 29L, 606L: 131L, 607L: 60L, 608L: 460L, 609L: 2L, 610L: 271L, 611L: 4L, 612L: 110L, 613L: 85L, 614L: 117L, 615L: 2L, 616L: 293L, 617L: 153L, 618L: 157L, 619L: 117L, 620L: 282L, 621L: 43L, 622L: 2L, 623L: 83L, 624L: 4L, 625L: 2L, 626L: 34L, 627L: 10L, 628L: 129L, 629L: 5L, 630L: 11L, 631L: 134L, 632L: 216L, 633L: 55L, 634L: 207L, 635L: 305L, 636L: 128L, 637L: 13L, 638L: 461L, 639L: 186L, 640L: 159L, 641L: 58L, 642L: 65L, 644L: 119L, 645L: 218L, 646L: 1L, 647L: 142L, 648L: 95L, 649L: 54L, 650L: 39L, 651L: 146L, 652L: 248L, 653L: 171L, 654L: 297L, 655L: 150L, 656L: 67L, 657L: 232L, 658L: 104L, 659L: 262L, 660L: 3L, 661L: 67L, 662L: 642L, 663L: 6L, 664L: 94L, 665L: 174L, 666L: 90L, 667L: 134L, 668L: 103L, 669L: 3L, 670L: 154L, 671L: 265L, 672L: 193L, 673L: 182L, 674L: 75L, 675L: 176L, 676L: 60L, 677L: 133L, 678L: 176L, 679L: 99L, 680L: 150L, 681L: 276L, 682L: 271L, 683L: 130L, 684L: 17L, 685L: 76L, 686L: 337L, 687L: 12L, 688L: 38L, 689L: 234L, 690L: 127L, 691L: 202L, 692L: 335L, 693L: 165L, 694L: 2L, 695L: 232L, 696L: 340L, 697L: 157L, 698L: 196L, 699L: 144L, 700L: 109L, 701L: 158L, 702L: 98L, 703L: 348L, 704L: 287L, 705L: 56L, 706L: 51L, 707L: 3L, 709L: 413L, 710L: 66L, 711L: 12L, 712L: 81L, 713L: 1L, 714L: 155L, 715L: 93L, 716L: 129L, 717L: 161L, 718L: 155L, 719L: 172L, 720L: 247L, 721L: 2L, 722L: 227L, 723L: 350L, 724L: 43L, 725L: 184L, 726L: 22L, 727L: 56L, 728L: 143L, 729L: 170L, 730L: 290L, 731L: 177L, 732L: 213L, 733L: 104L, 734L: 173L, 735L: 172L, 736L: 167L, 737L: 56L, 738L: 83L, 739L: 86L, 740L: 150L, 741L: 229L, 742L: 13L, 743L: 417L, 744L: 197L, 745L: 255L, 746L: 330L, 747L: 132L, 748L: 131L, 749L: 237L, 750L: 342L, 751L: 19L, 752L: 178L, 753L: 142L, 754L: 216L, 755L: 201L, 756L: 334L, 757L: 37L, 758L: 35L, 759L: 199L, 760L: 208L, 761L: 378L, 762L: 325L, 763L: 57L, 764L: 8L, 765L: 379L, 767L: 167L, 768L: 8L, 769L: 156L, 770L: 162L, 771L: 280L, 772L: 250L, 773L: 516L, 774L: 295L, 775L: 42L, 776L: 12L, 777L: 132L, 778L: 220L, 779L: 166L, 780L: 17L, 781L: 239L, 782L: 7L, 783L: 376L, 784L: 60L, 785L: 178L, 786L: 46L, 787L: 54L, 788L: 196L, 789L: 71L, 790L: 3L, 791L: 225L, 792L: 144L, 793L: 421L, 794L: 212L, 795L: 107L, 796L: 279L, 797L: 243L, 798L: 248L, 799L: 68L, 800L: 43L, 801L: 107L, 802L: 124L, 803L: 3L, 804L: 150L, 805L: 431L, 806L: 34L, 807L: 44L, 808L: 173L, 809L: 231L, 810L: 3L, 811L: 123L, 812L: 157L, 813L: 3L, 814L: 90L, 815L: 51L, 816L: 284L, 817L: 37L, 818L: 227L, 819L: 293L, 820L: 76L, 821L: 92L, 822L: 138L, 823L: 215L, 824L: 203L, 825L: 1L, 826L: 145L, 827L: 12L, 828L: 8L, 829L: 8L, 830L: 318L, 831L: 106L, 832L: 325L, 833L: 55L, 834L: 146L, 836L: 148L, 837L: 122L, 838L: 34L, 839L: 137L, 840L: 55L, 841L: 204L, 842L: 1L, 843L: 4L, 844L: 8L, 845L: 1L, 846L: 120L, 847L: 134L, 848L: 129L, 849L: 191L, 850L: 110L, 851L: 156L, 852L: 223L, 853L: 126L, 854L: 276L, 855L: 28L, 856L: 12L, 857L: 61L, 858L: 41L, 859L: 171L, 860L: 171L, 861L: 353L, 862L: 232L, 863L: 269L, 864L: 53L, 865L: 266L, 866L: 206L, 867L: 173L, 868L: 193L, 869L: 244L, 870L: 84L, 871L: 24L, 872L: 185L, 873L: 139L, 874L: 26L, 875L: 271L, 876L: 11L, 877L: 123L, 878L: 266L, 879L: 177L, 880L: 266L, 881L: 238L, 882L: 153L, 883L: 218L, 884L: 248L, 885L: 223L, 887L: 279L, 888L: 129L, 889L: 79L, 890L: 322L, 891L: 120L, 892L: 219L, 893L: 145L, 894L: 71L, 895L: 76L, 896L: 77L, 897L: 240L, 898L: 180L, 899L: 104L, 900L: 149L, 901L: 122L, 902L: 320L, 903L: 199L, 904L: 92L, 905L: 343L, 906L: 173L, 907L: 267L, 908L: 1L, 909L: 250L, 910L: 145L, 911L: 262L, 912L: 319L, 913L: 41L, 914L: 14L, 915L: 232L, 916L: 11L, 917L: 139L, 918L: 275L, 919L: 192L, 920L: 72L, 921L: 19L, 922L: 168L, 923L: 144L, 924L: 2L, 925L: 1L, 926L: 231L, 927L: 4L, 928L: 130L, 929L: 8L, 930L: 100L, 931L: 352L, 932L: 97L, 933L: 176L, 934L: 61L, 935L: 174L, 936L: 153L, 937L: 137L, 938L: 106L, 939L: 41L, 940L: 329L, 941L: 16L, 942L: 50L, 943L: 78L, 944L: 2L, 945L: 113L, 946L: 219L, 947L: 193L, 948L: 3L, 949L: 191L, 950L: 118L, 951L: 104L, 952L: 154L, 953L: 2L, 954L: 44L, 955L: 198L, 956L: 117L, 957L: 129L, 958L: 120L, 959L: 147L, 960L: 88L, 961L: 189L, 962L: 309L, 963L: 143L, 964L: 59L, 965L: 60L, 966L: 185L, 967L: 51L, 968L: 145L, 969L: 4L, 970L: 3L, 971L: 5L, 972L: 166L, 973L: 321L, 974L: 405L, 975L: 385L, 976L: 88L, 977L: 149L, 978L: 2L, 979L: 160L, 981L: 278L, 982L: 473L, 983L: 214L, 984L: 192L, 985L: 214L, 986L: 127L, 987L: 169L, 988L: 238L, 989L: 356L, 990L: 2L, 991L: 241L, 992L: 32L, 994L: 181L, 995L: 2L, 996L: 105L, 997L: 285L, 998L: 221L, 999L: 107L, 1000L: 32L, 1001L: 3L, 1002L: 49L, 1003L: 118L, 1004L: 254L, 1005L: 282L, 1006L: 33L, 1007L: 2L, 1008L: 11L, 1009L: 193L, 1010L: 2L, 1011L: 126L, 1012L: 4L, 1013L: 13L, 1014L: 141L, 1015L: 16L, 1016L: 86L, 1017L: 166L, 1018L: 161L, 1019L: 317L, 1020L: 175L, 1021L: 120L, 1022L: 383L, 1023L: 197L, 1024L: 203L, 1025L: 266L, 1026L: 167L, 1027L: 184L, 1028L: 106L, 1029L: 213L, 1030L: 328L, 1031L: 225L, 1032L: 4L, 1033L: 173L, 1034L: 255L, 1035L: 17L, 1036L: 4L, 1037L: 4L, 1038L: 137L, 1039L: 185L, 1040L: 204L, 1041L: 233L, 1042L: 136L, 1043L: 31L, 1044L: 166L, 1045L: 123L, 1046L: 23L, 1047L: 49L, 1048L: 41L, 1049L: 2L, 1050L: 153L, 1051L: 20L, 1052L: 298L, 1053L: 179L, 1054L: 148L, 1055L: 159L, 1056L: 1L, 1057L: 164L, 1058L: 81L, 1059L: 134L, 1060L: 136L, 1061L: 157L, 1062L: 214L, 1063L: 277L, 1064L: 40L, 1065L: 248L, 1066L: 150L, 1067L: 40L, 1068L: 144L, 1069L: 167L, 1070L: 70L, 1071L: 93L, 1072L: 40L, 1073L: 125L, 1074L: 147L, 1075L: 189L, 1076L: 253L, 1077L: 175L, 1078L: 184L, 1079L: 153L, 1080L: 64L, 1081L: 159L, 1082L: 83L, 1083L: 302L, 1085L: 199L, 1086L: 17L, 1087L: 152L, 1088L: 12L, 1089L: 116L, 1090L: 253L, 1092L: 148L, 1093L: 264L, 1094L: 37L, 1095L: 290L, 1096L: 332L, 1097L: 3L, 1098L: 108L, 1099L: 87L, 1100L: 35L, 1101L: 43L, 1102L: 195L, 1103L: 14L, 1104L: 2L, 1105L: 255L, 1106L: 183L, 1107L: 128L, 1108L: 18L, 1109L: 35L, 1110L: 277L, 1111L: 45L, 1112L: 88L, 1113L: 105L, 1114L: 173L, 1115L: 232L, 1116L: 143L, 1117L: 211L, 1118L: 82L, 1119L: 101L, 1120L: 104L, 1121L: 233L, 1122L: 139L, 1123L: 158L, 1124L: 88L, 1125L: 170L, 1126L: 197L, 1127L: 138L, 1128L: 63L, 1129L: 2L, 1130L: 157L, 1131L: 64L, 1132L: 34L, 1133L: 9L, 1134L: 2L, 1135L: 3L, 1136L: 6L, 1137L: 331L, 1138L: 15L, 1139L: 87L, 1140L: 98L, 1141L: 139L, 1142L: 2L, 1143L: 83L, 1144L: 95L, 1145L: 110L, 1146L: 15L, 1147L: 280L, 1148L: 3L, 1149L: 90L, 1150L: 3L, 1151L: 34L, 1152L: 56L, 1153L: 60L, 1154L: 178L, 1155L: 267L, 1156L: 39L, 1157L: 2L, 1158L: 3L, 1159L: 237L, 1160L: 173L, 1161L: 67L, 1162L: 276L, 1163L: 1L, 1164L: 270L, 1165L: 132L, 1166L: 3L, 1167L: 282L, 1168L: 114L, 1169L: 32L, 1170L: 233L, 1171L: 324L, 1172L: 356L, 1173L: 85L, 1174L: 250L, 1175L: 161L, 1176L: 9L, 1177L: 6L, 1178L: 111L, 1179L: 105L, 1180L: 14L, 1181L: 169L, 1182L: 46L, 1183L: 63L, 1184L: 154L, 1185L: 243L, 1186L: 63L, 1187L: 291L, 1188L: 236L, 1189L: 131L, 1190L: 148L, 1191L: 157L, 1192L: 3L, 1193L: 73L, 1194L: 33L, 1195L: 165L, 1196L: 93L, 1197L: 63L, 1198L: 152L, 1199L: 112L, 1200L: 304L, 1201L: 135L, 1202L: 241L, 1203L: 319L, 1204L: 70L, 1205L: 371L, 1206L: 215L, 1207L: 218L, 1208L: 266L, 1209L: 15L, 1210L: 221L, 1211L: 292L, 1212L: 3L, 1213L: 98L, 1214L: 201L, 1215L: 3L, 1216L: 85L, 1217L: 57L, 1218L: 199L, 1219L: 20L, 1220L: 347L, 1221L: 222L, 1222L: 266L, 1223L: 274L, 1224L: 230L, 1225L: 245L, 1226L: 204L, 1227L: 189L, 1228L: 228L, 1229L: 1L, 1230L: 8L, 1231L: 143L, 1232L: 246L, 1233L: 180L, 1234L: 13L, 1235L: 177L, 1236L: 323L, 1237L: 298L, 1238L: 3L, 1239L: 385L, 1241L: 196L, 1242L: 282L, 1243L: 42L, 1244L: 18L, 1245L: 303L, 1246L: 173L, 1247L: 72L, 1248L: 176L, 1249L: 156L, 1250L: 100L, 1251L: 20L, 1252L: 2L, 1253L: 200L, 1254L: 293L, 1255L: 175L, 1256L: 187L, 1257L: 228L, 1258L: 62L, 1259L: 53L, 1261L: 338L, 1262L: 217L, 1263L: 336L, 1264L: 51L, 1265L: 242L, 1266L: 176L, 1267L: 198L, 1268L: 158L, 1269L: 11L, 1270L: 8L, 1271L: 34L, 1272L: 157L, 1273L: 1L, 1274L: 2L, 1275L: 232L, 1276L: 228L, 1277L: 311L, 1278L: 32L, 1279L: 165L, 1280L: 248L, 1281L: 3L, 1282L: 182L, 1283L: 208L, 1284L: 134L, 1285L: 199L, 1286L: 1L, 1287L: 2L, 1288L: 101L, 1289L: 92L, 1290L: 192L, 1291L: 251L, 1292L: 2L, 1293L: 116L, 1294L: 181L, 1295L: 190L, 1296L: 25L, 1297L: 160L, 1298L: 54L, 1299L: 5L, 1300L: 18L, 1301L: 218L, 1302L: 310L, 1303L: 115L, 1304L: 101L, 1305L: 111L, 1306L: 363L, 1307L: 217L, 1308L: 164L, 1309L: 250L, 1310L: 589L, 1311L: 174L, 1312L: 35L, 1313L: 146L, 1314L: 322L, 1315L: 370L, 1316L: 15L, 1317L: 91L, 1318L: 275L, 1319L: 13L, 1320L: 326L, 1321L: 261L, 1322L: 160L, 1323L: 1L, 1324L: 35L, 1325L: 17L, 1326L: 123L, 1327L: 177L, 1328L: 42L, 1329L: 23L, 1330L: 104L, 1331L: 165L, 1332L: 209L, 1333L: 130L, 1334L: 366L, 1335L: 76L, 1336L: 141L, 1337L: 148L, 1338L: 371L, 1339L: 682L, 1340L: 247L, 1341L: 130L, 1342L: 147L, 1343L: 309L, 1344L: 272L, 1345L: 245L, 1346L: 202L, 1347L: 23L, 1348L: 104L, 1349L: 50L, 1350L: 103L, 1351L: 187L, 1352L: 111L, 1353L: 202L, 1354L: 69L, 1355L: 1L, 1356L: 125L, 1357L: 127L, 1358L: 55L, 1359L: 6L, 1360L: 176L, 1361L: 4L, 1362L: 11L, 1363L: 21L, 1364L: 127L, 1365L: 92L, 1366L: 291L, 1367L: 280L, 1368L: 67L, 1369L: 97L, 1370L: 140L, 1371L: 337L, 1372L: 4L, 1373L: 64L, 1375L: 150L, 1376L: 56L, 1377L: 193L, 1378L: 14L, 1379L: 242L, 1380L: 266L, 1381L: 149L, 1382L: 390L, 1383L: 86L, 1384L: 129L, 1385L: 16L, 1386L: 163L, 1387L: 4L, 1388L: 136L, 1389L: 14L, 1390L: 323L, 1391L: 119L, 1392L: 271L, 1393L: 179L, 1394L: 245L, 1395L: 2L, 1396L: 21L, 1397L: 131L, 1398L: 21L, 1399L: 55L, 1400L: 157L, 1401L: 215L, 1402L: 247L, 1403L: 98L, 1404L: 63L, 1405L: 1L, 1406L: 244L, 1407L: 182L, 1408L: 152L, 1409L: 262L, 1410L: 7L, 1411L: 185L, 1412L: 182L, 1413L: 323L, 1414L: 303L, 1415L: 168L, 1416L: 291L, 1417L: 251L, 1418L: 286L, 1419L: 165L, 1420L: 253L, 1421L: 11L, 1422L: 240L, 1423L: 55L, 1424L: 278L, 1425L: 12L, 1426L: 3L, 1427L: 159L, 1428L: 241L, 1429L: 204L, 1430L: 60L, 1431L: 21L, 1432L: 120L, 1433L: 56L, 1434L: 232L, 1435L: 156L, 1436L: 6L, 1437L: 20L, 1438L: 180L, 1439L: 191L, 1440L: 294L, 1441L: 139L, 1442L: 264L, 1443L: 75L, 1444L: 215L, 1445L: 322L, 1446L: 26L, 1447L: 295L, 1448L: 242L, 1449L: 246L, 1450L: 91L, 1451L: 202L, 1452L: 109L, 1453L: 206L, 1454L: 322L, 1455L: 474L, 1456L: 80L, 1457L: 145L, 1458L: 110L, 1459L: 220L, 1460L: 223L, 1461L: 135L, 1462L: 213L, 1463L: 11L, 1464L: 175L, 1465L: 182L, 1466L: 350L, 1467L: 2L, 1468L: 252L, 1469L: 54L, 1470L: 175L, 1471L: 46L, 1472L: 19L, 1473L: 24L, 1474L: 341L, 1475L: 140L, 1476L: 132L, 1477L: 303L, 1478L: 6L, 1479L: 317L, 1480L: 158L, 1481L: 186L, 1482L: 54L, 1483L: 5L, 1484L: 297L, 1485L: 356L, 1486L: 96L, 1487L: 338L, 1488L: 2L, 1489L: 44L, 1490L: 156L, 1491L: 63L, 1492L: 320L, 1493L: 164L, 1494L: 202L, 1495L: 369L, 1496L: 157L, 1497L: 359L, 1498L: 44L, 1499L: 353L, 1500L: 6L, 1501L: 1L, 1502L: 6L, 1504L: 51L, 1505L: 16L, 1506L: 2L, 1507L: 227L, 1509L: 245L, 1510L: 219L, 1511L: 197L, 1512L: 105L, 1513L: 244L, 1514L: 188L, 1515L: 129L, 1516L: 160L, 1517L: 97L, 1518L: 239L, 1519L: 105L, 1520L: 107L, 1521L: 159L, 1522L: 2L, 1523L: 86L, 1524L: 180L, 1525L: 13L, 1526L: 42L, 1527L: 142L, 1528L: 103L, 1529L: 309L, 1530L: 314L, 1531L: 68L, 1532L: 50L, 1533L: 17L, 1534L: 48L, 1535L: 43L, 1536L: 265L, 1537L: 10L, 1538L: 17L, 1539L: 68L, 1540L: 482L, 1541L: 206L, 1542L: 182L, 1543L: 2L, 1544L: 96L, 1545L: 87L, 1546L: 124L, 1547L: 49L, 1548L: 4L, 1549L: 10L, 1550L: 1L, 1551L: 284L, 1552L: 125L, 1553L: 3L, 1554L: 4L, 1555L: 204L, 1556L: 35L, 1557L: 3L, 1558L: 18L, 1559L: 3L, 1560L: 343L, 1561L: 56L, 1562L: 9L, 1563L: 5L, 1564L: 13L, 1566L: 141L, 1567L: 112L, 1568L: 235L, 1569L: 11L, 1570L: 172L, 1571L: 24L, 1572L: 2L, 1573L: 166L, 1574L: 9L, 1575L: 46L, 1576L: 7L, 1577L: 307L, 1578L: 183L, 1579L: 229L, 1580L: 251L, 1581L: 33L, 1582L: 189L, 1583L: 284L, 1584L: 71L, 1585L: 156L, 1586L: 279L, 1587L: 170L, 1588L: 384L, 1589L: 177L, 1590L: 91L, 1591L: 393L, 1592L: 15L, 1593L: 29L, 1594L: 176L, 1595L: 60L, 1596L: 16L, 1597L: 140L, 1598L: 179L, 1599L: 46L, 1600L: 42L, 1601L: 228L, 1602L: 39L, 1603L: 114L, 1604L: 271L, 1605L: 51L, 1606L: 222L, 1607L: 257L, 1608L: 267L, 1609L: 207L, 1610L: 131L, 1611L: 23L, 1612L: 38L, 1613L: 93L, 1614L: 44L, 1615L: 122L, 1616L: 49L, 1617L: 7L, 1618L: 59L, 1619L: 49L, 1620L: 497L, 1621L: 3L, 1622L: 235L, 1623L: 62L, 1624L: 24L, 1625L: 373L, 1626L: 46L, 1627L: 319L, 1628L: 35L, 1629L: 4L, 1630L: 212L, 1631L: 39L, 1632L: 155L, 1633L: 236L, 1634L: 66L, 1635L: 185L, 1636L: 2L, 1637L: 23L, 1638L: 302L, 1639L: 226L, 1640L: 165L, 1641L: 113L, 1642L: 112L, 1643L: 2L, 1644L: 178L, 1645L: 211L, 1646L: 179L, 1647L: 21L, 1648L: 295L, 1649L: 84L, 1650L: 208L, 1651L: 5L, 1652L: 231L, 1653L: 328L, 1654L: 13L, 1655L: 272L, 1656L: 75L, 1657L: 195L, 1658L: 2L, 1659L: 395L, 1660L: 1L, 1661L: 1L, 1662L: 309L, 1663L: 2L, 1664L: 139L, 1665L: 48L, 1666L: 136L, 1667L: 138L, 1668L: 17L, 1669L: 228L, 1670L: 222L, 1671L: 229L, 1672L: 371L, 1673L: 2L, 1674L: 42L, 1675L: 75L, 1676L: 128L, 1677L: 186L, 1678L: 176L, 1679L: 53L, 1680L: 212L, 1681L: 223L, 1682L: 153L, 1683L: 66L, 1684L: 142L, 1685L: 237L, 1686L: 96L, 1687L: 40L, 1688L: 121L, 1689L: 186L, 1690L: 145L, 1691L: 202L, 1692L: 80L, 1693L: 149L, 1694L: 234L, 1695L: 23L, 1696L: 254L, 1697L: 167L, 1698L: 137L, 1699L: 309L, 1700L: 161L, 1701L: 146L, 1702L: 170L, 1703L: 168L, 1704L: 21L, 1705L: 2L, 1706L: 1L, 1707L: 158L, 1708L: 5L, 1709L: 173L, 1710L: 12L, 1711L: 218L, 1712L: 1L, 1713L: 249L, 1714L: 22L, 1715L: 4L, 1716L: 247L, 1717L: 346L, 1718L: 67L, 1719L: 5L, 1720L: 1L, 1721L: 53L, 1722L: 167L, 1723L: 2L, 1724L: 169L, 1725L: 9L, 1726L: 15L, 1727L: 47L, 1729L: 320L, 1730L: 151L, 1731L: 12L, 1732L: 6L, 1734L: 203L, 1735L: 147L, 1736L: 270L, 1737L: 119L, 1738L: 95L, 1739L: 70L, 1740L: 2L, 1741L: 110L, 1742L: 22L, 1743L: 1L, 1744L: 5L, 1745L: 39L, 1746L: 177L, 1747L: 170L, 1748L: 3L, 1749L: 118L, 1750L: 218L, 1751L: 165L, 1752L: 3L, 1753L: 257L, 1754L: 66L, 1755L: 195L, 1756L: 92L, 1757L: 2L, 1758L: 238L, 1759L: 198L, 1760L: 85L, 1761L: 241L, 1762L: 13L, 1763L: 433L, 1764L: 310L, 1765L: 69L, 1767L: 169L, 1768L: 72L, 1769L: 239L, 1770L: 172L, 1771L: 42L, 1772L: 6L, 1773L: 2L, 1774L: 276L, 1775L: 246L, 1776L: 53L, 1777L: 334L, 1778L: 4L, 1779L: 81L, 1780L: 75L, 1781L: 312L, 1782L: 254L, 1783L: 309L, 1784L: 220L, 1785L: 160L, 1786L: 121L, 1787L: 18L, 1788L: 224L, 1789L: 299L, 1790L: 155L, 1791L: 3L, 1792L: 76L, 1793L: 228L, 1794L: 282L, 1795L: 9L, 1796L: 494L, 1797L: 223L, 1798L: 31L, 1799L: 121L, 1800L: 268L, 1801L: 458L, 1802L: 130L, 1803L: 159L, 1804L: 67L, 1805L: 192L, 1806L: 192L, 1807L: 56L, 1809L: 241L, 1810L: 103L, 1811L: 4L, 1812L: 109L, 1813L: 27L, 1814L: 214L, 1815L: 81L, 1816L: 302L, 1817L: 314L, 1818L: 146L, 1819L: 107L, 1820L: 119L, 1821L: 108L, 1822L: 166L, 1823L: 107L, 1824L: 343L, 1825L: 390L, 1826L: 2L, 1827L: 38L, 1829L: 29L, 1830L: 243L, 1831L: 8L, 1832L: 147L, 1833L: 20L, 1834L: 87L, 1835L: 94L, 1836L: 222L, 1838L: 35L, 1839L: 96L, 1840L: 86L, 1841L: 1L, 1842L: 179L, 1843L: 281L, 1844L: 69L, 1845L: 223L, 1846L: 169L, 1847L: 417L, 1848L: 351L, 1849L: 165L, 1850L: 78L, 1851L: 139L, 1852L: 63L, 1853L: 187L, 1854L: 14L, 1855L: 309L, 1856L: 191L, 1857L: 2L, 1858L: 30L, 1859L: 28L, 1860L: 187L, 1861L: 147L, 1862L: 13L, 1863L: 182L, 1864L: 243L, 1865L: 329L, 1866L: 71L, 1867L: 238L, 1868L: 182L, 1869L: 353L, 1870L: 5L, 1871L: 97L, 1872L: 3L, 1873L: 165L, 1874L: 15L, 1875L: 107L, 1876L: 27L, 1877L: 63L, 1878L: 233L, 1879L: 2L, 1880L: 233L, 1881L: 2L, 1882L: 159L, 1883L: 1L, 1884L: 132L, 1885L: 291L, 1886L: 114L, 1887L: 7L, 1888L: 15L, 1889L: 328L, 1890L: 115L, 1891L: 259L, 1892L: 17L, 1893L: 25L, 1894L: 23L, 1895L: 71L, 1896L: 105L, 1897L: 256L, 1898L: 25L, 1899L: 101L, 1900L: 338L, 1901L: 266L, 1902L: 2L, 1903L: 9L, 1904L: 4L, 1905L: 2L, 1906L: 63L, 1907L: 1L, 1908L: 4L, 1909L: 70L, 1910L: 10L, 1911L: 141L, 1912L: 183L, 1913L: 145L, 1914L: 305L, 1915L: 219L, 1916L: 111L, 1917L: 8L, 1918L: 5L, 1919L: 121L, 1920L: 4L, 1921L: 89L, 1922L: 267L, 1923L: 183L, 1924L: 119L, 1925L: 68L, 1927L: 152L, 1928L: 24L, 1929L: 235L, 1930L: 151L, 1931L: 2L, 1932L: 273L, 1933L: 102L, 1934L: 2L, 1935L: 120L, 1936L: 226L, 1937L: 2L, 1939L: 3L, 1940L: 127L, 1941L: 19L, 1942L: 127L, 1943L: 6L, 1944L: 32L, 1945L: 20L, 1946L: 11L, 1947L: 145L, 1948L: 44L, 1949L: 151L, 1950L: 218L, 1951L: 45L, 1952L: 142L, 1953L: 98L, 1954L: 156L, 1955L: 237L, 1956L: 58L, 1957L: 12L, 1958L: 156L, 1959L: 9L, 1960L: 4L, 1961L: 202L, 1962L: 1L, 1963L: 210L, 1964L: 14L, 1965L: 119L, 1966L: 15L, 1967L: 188L, 1968L: 168L, 1969L: 165L, 1970L: 8L, 1971L: 53L, 1972L: 150L, 1973L: 174L, 1974L: 198L, 1975L: 66L, 1976L: 180L, 1977L: 190L, 1978L: 158L, 1979L: 157L, 1980L: 133L, 1981L: 22L, 1982L: 97L, 1983L: 124L, 1984L: 154L, 1985L: 143L, 1986L: 10L, 1987L: 3L, 1988L: 61L, 1989L: 31L, 1990L: 254L, 1991L: 27L, 1992L: 49L, 1993L: 296L, 1994L: 6L, 1995L: 179L, 1996L: 14L, 1997L: 114L, 1998L: 169L, 1999L: 169L, 2000L: 198L, 2001L: 111L, 2002L: 12L, 2003L: 21L, 2004L: 256L, 2005L: 39L, 2006L: 1L, 2007L: 3L, 2008L: 206L, 2009L: 20L, 2010L: 15L, 2011L: 125L, 2012L: 153L, 2013L: 106L, 2014L: 150L, 2015L: 1L, 2016L: 135L, 2017L: 102L, 2018L: 168L, 2019L: 2L, 2020L: 265L, 2021L: 34L, 2022L: 3L, 2023L: 367L, 2024L: 9L, 2025L: 54L, 2026L: 110L, 2027L: 142L, 2028L: 179L, 2029L: 29L, 2030L: 185L, 2031L: 4L, 2033L: 202L, 2034L: 144L, 2035L: 125L, 2036L: 3L, 2037L: 263L, 2038L: 90L, 2039L: 35L, 2040L: 149L, 2041L: 8L, 2042L: 6L, 2043L: 221L, 2044L: 129L, 2045L: 2L, 2046L: 26L, 2047L: 200L, 2048L: 2L, 2049L: 116L, 2050L: 191L, 2051L: 404L, 2052L: 23L, 2053L: 53L, 2054L: 36L, 2055L: 218L, 2056L: 213L, 2057L: 2L, 2058L: 30L, 2059L: 9L, 2060L: 204L, 2061L: 243L, 2062L: 52L, 2063L: 1L, 2064L: 153L, 2065L: 149L, 2066L: 130L, 2067L: 181L, 2068L: 2L, 2069L: 8L, 2070L: 10L, 2071L: 310L, 2072L: 1L, 2073L: 7L, 2074L: 136L, 2075L: 134L, 2076L: 183L, 2077L: 216L, 2078L: 3L, 2079L: 393L, 2080L: 224L, 2081L: 25L, 2082L: 217L, 2083L: 123L, 2084L: 355L, 2085L: 182L, 2086L: 254L, 2087L: 47L, 2088L: 305L, 2089L: 3L, 2090L: 371L, 2091L: 112L, 2092L: 209L, 2093L: 128L, 2094L: 187L, 2095L: 19L, 2096L: 95L, 2097L: 255L, 2098L: 183L, 2099L: 270L, 2100L: 58L, 2101L: 142L, 2102L: 71L, 2103L: 142L, 2104L: 198L, 2105L: 75L, 2106L: 199L, 2107L: 215L, 2108L: 169L, 2109L: 402L, 2110L: 329L, 2111L: 217L, 2112L: 136L, 2113L: 48L, 2114L: 162L, 2115L: 67L, 2116L: 33L, 2117L: 1L, 2118L: 37L, 2119L: 168L, 2120L: 92L, 2121L: 175L, 2122L: 1L, 2123L: 260L, 2124L: 58L, 2125L: 142L, 2126L: 243L, 2127L: 2L, 2128L: 141L, 2129L: 2L, 2130L: 3L, 2131L: 99L, 2132L: 95L, 2133L: 4L, 2134L: 158L, 2135L: 241L, 2136L: 339L, 2137L: 154L, 2138L: 292L, 2139L: 151L, 2140L: 31L, 2141L: 135L, 2142L: 147L, 2143L: 165L, 2144L: 333L, 2145L: 224L, 2146L: 177L, 2147L: 193L, 2148L: 6L, 2149L: 178L, 2150L: 217L, 2151L: 44L, 2152L: 351L, 2153L: 1L, 2154L: 54L, 2155L: 215L, 2156L: 54L, 2157L: 170L, 2158L: 129L, 2159L: 387L, 2160L: 44L, 2161L: 152L, 2162L: 58L, 2163L: 113L, 2164L: 148L, 2165L: 166L, 2166L: 1L, 2167L: 314L, 2168L: 329L, 2169L: 230L, 2170L: 190L, 2171L: 104L, 2172L: 55L, 2173L: 55L, 2174L: 69L, 2175L: 10L, 2176L: 35L, 2177L: 27L, 2178L: 77L, 2179L: 431L, 2180L: 120L, 2181L: 152L, 2182L: 166L, 2183L: 4L, 2184L: 6L, 2185L: 287L, 2186L: 302L, 2187L: 54L, 2188L: 241L, 2189L: 266L, 2190L: 156L, 2191L: 235L, 2192L: 238L, 2193L: 183L, 2194L: 398L, 2195L: 128L, 2196L: 426L, 2197L: 96L, 2198L: 62L, 2199L: 181L, 2200L: 273L, 2201L: 316L, 2203L: 41L, 2204L: 3L, 2205L: 12L, 2206L: 170L, 2207L: 64L, 2208L: 163L, 2209L: 13L, 2210L: 158L, 2211L: 3L, 2212L: 24L, 2213L: 173L, 2214L: 114L, 2215L: 160L, 2216L: 27L, 2217L: 195L, 2218L: 154L, 2219L: 140L, 2220L: 355L, 2221L: 240L, 2222L: 184L, 2223L: 209L, 2224L: 3L, 2225L: 192L, 2226L: 44L, 2227L: 60L, 2228L: 147L, 2229L: 149L, 2230L: 231L, 2231L: 276L, 2232L: 28L, 2233L: 23L, 2234L: 183L, 2235L: 111L, 2236L: 94L, 2237L: 10L, 2238L: 99L, 2239L: 28L, 2240L: 213L, 2241L: 20L, 2242L: 19L, 2243L: 17L, 2244L: 43L, 2245L: 277L, 2246L: 8L, 2247L: 119L, 2248L: 156L, 2249L: 141L, 2250L: 154L, 2251L: 4L, 2252L: 329L, 2253L: 83L, 2254L: 124L, 2255L: 118L, 2256L: 177L, 2257L: 2L, 2258L: 235L, 2259L: 3L, 2260L: 189L, 2261L: 107L, 2262L: 201L, 2263L: 12L, 2264L: 140L, 2265L: 575L, 2266L: 248L, 2267L: 198L, 2268L: 369L, 2269L: 15L, 2270L: 129L, 2271L: 174L, 2272L: 192L, 2274L: 61L, 2275L: 28L, 2276L: 148L, 2277L: 130L, 2278L: 60L, 2279L: 347L, 2280L: 212L, 2281L: 30L, 2282L: 217L, 2283L: 14L, 2284L: 35L, 2285L: 39L, 2286L: 18L, 2287L: 3L, 2288L: 18L, 2289L: 177L, 2290L: 1L, 2291L: 323L, 2292L: 18L, 2293L: 122L, 2294L: 70L, 2295L: 24L, 2296L: 211L, 2297L: 91L, 2298L: 340L, 2299L: 68L, 2300L: 143L, 2301L: 8L, 2302L: 44L, 2303L: 275L, 2304L: 83L, 2305L: 367L, 2306L: 278L, 2307L: 271L, 2308L: 133L, 2309L: 3L, 2310L: 90L, 2311L: 11L, 2312L: 2L, 2313L: 203L, 2314L: 3L, 2315L: 166L, 2316L: 191L, 2317L: 129L, 2318L: 74L, 2319L: 161L, 2320L: 44L, 2321L: 21L, 2322L: 165L, 2323L: 59L, 2324L: 1L, 2325L: 14L, 2326L: 51L, 2327L: 38L, 2328L: 25L, 2329L: 286L, 2330L: 19L, 2331L: 419L, 2332L: 180L, 2333L: 3L, 2334L: 208L, 2335L: 285L, 2336L: 3L, 2337L: 2L, 2338L: 15L, 2339L: 318L, 2340L: 295L, 2341L: 299L, 2342L: 166L, 2343L: 143L, 2344L: 166L, 2345L: 94L, 2346L: 295L, 2347L: 152L, 2348L: 271L, 2349L: 221L, 2350L: 111L, 2351L: 178L, 2352L: 17L, 2353L: 31L, 2354L: 72L, 2355L: 332L, 2356L: 98L, 2357L: 14L, 2358L: 30L, 2359L: 211L, 2360L: 243L, 2361L: 250L, 2362L: 303L, 2363L: 181L, 2364L: 129L, 2365L: 185L, 2366L: 58L, 2367L: 144L, 2368L: 261L, 2369L: 161L, 2370L: 186L, 2371L: 96L, 2372L: 320L, 2373L: 55L, 2374L: 219L, 2375L: 1L, 2376L: 118L, 2377L: 379L, 2378L: 250L, 2379L: 20L, 2380L: 447L, 2381L: 55L, 2382L: 358L, 2383L: 238L, 2384L: 126L, 2385L: 368L, 2386L: 143L, 2387L: 236L, 2388L: 162L, 2389L: 27L, 2390L: 111L, 2391L: 272L, 2392L: 261L, 2393L: 32L, 2394L: 161L, 2395L: 232L, 2396L: 1L, 2397L: 114L, 2398L: 6L, 2399L: 141L, 2400L: 392L, 2401L: 17L, 2402L: 456L, 2403L: 2L, 2404L: 281L, 2405L: 3L, 2406L: 330L, 2407L: 457L, 2408L: 45L, 2409L: 162L, 2410L: 30L, 2411L: 199L, 2412L: 129L, 2413L: 4L, 2414L: 437L, 2415L: 232L, 2416L: 205L, 2417L: 421L, 2418L: 393L, 2419L: 221L, 2420L: 424L, 2421L: 64L, 2422L: 207L, 2424L: 346L, 2425L: 8L, 2426L: 129L, 2427L: 209L, 2428L: 210L, 2429L: 139L, 2430L: 186L, 2431L: 8L, 2432L: 25L, 2433L: 167L, 2434L: 11L, 2435L: 218L, 2436L: 106L, 2437L: 25L, 2438L: 161L, 2439L: 205L, 2440L: 123L, 2441L: 233L, 2442L: 233L, 2443L: 57L, 2444L: 230L, 2445L: 115L, 2446L: 26L, 2447L: 197L, 2448L: 233L, 2449L: 370L, 2450L: 55L, 2451L: 122L, 2452L: 142L, 2453L: 397L, 2454L: 315L, 2455L: 44L, 2456L: 3L, 2457L: 41L, 2458L: 214L, 2459L: 216L, 2460L: 204L, 2461L: 193L, 2462L: 191L, 2463L: 218L, 2464L: 2L, 2465L: 7L, 2466L: 158L, 2467L: 124L, 2468L: 363L, 2469L: 301L, 2470L: 77L, 2471L: 278L, 2472L: 236L, 2473L: 114L, 2474L: 85L, 2475L: 203L, 2476L: 131L, 2477L: 49L, 2478L: 189L, 2479L: 203L, 2480L: 111L, 2481L: 155L, 2482L: 264L, 2483L: 268L, 2484L: 181L, 2485L: 2L, 2486L: 3L, 2487L: 4L, 2488L: 251L, 2489L: 162L, 2490L: 66L, 2491L: 238L, 2492L: 159L, 2493L: 163L, 2494L: 135L, 2495L: 7L, 2496L: 170L, 2497L: 154L, 2498L: 182L, 2499L: 14L, 2500L: 2L, 2501L: 122L, 2502L: 179L, 2503L: 52L, 2504L: 135L, 2505L: 57L, 2506L: 26L, 2507L: 235L, 2508L: 33L, 2509L: 5L, 2510L: 265L, 2511L: 257L, 2512L: 30L, 2513L: 286L, 2514L: 163L, 2515L: 16L, 2516L: 54L, 2517L: 3L, 2518L: 102L, 2519L: 68L, 2520L: 138L, 2521L: 14L, 2522L: 117L, 2523L: 150L, 2524L: 10L, 2525L: 3L, 2526L: 320L, 2527L: 161L, 2528L: 325L, 2529L: 246L, 2530L: 10L, 2531L: 2L, 2532L: 5L, 2533L: 148L, 2534L: 228L, 2535L: 9L, 2536L: 150L, 2537L: 133L, 2538L: 7L, 2539L: 391L, 2540L: 3L, 2541L: 162L, 2542L: 276L, 2543L: 92L, 2544L: 31L, 2545L: 7L, 2546L: 72L, 2547L: 79L, 2548L: 54L, 2549L: 180L, 2550L: 126L, 2551L: 110L, 2552L: 133L, 2553L: 189L, 2554L: 198L, 2555L: 184L, 2557L: 245L, 2558L: 61L, 2559L: 576L, 2560L: 256L, 2561L: 16L, 2562L: 113L, 2563L: 54L, 2565L: 225L, 2566L: 275L, 2567L: 108L, 2568L: 16L, 2569L: 190L, 2570L: 333L, 2571L: 113L, 2572L: 161L, 2573L: 273L, 2574L: 6L, 2575L: 125L, 2576L: 138L, 2577L: 151L, 2578L: 100L, 2579L: 64L, 2580L: 64L, 2581L: 1L, 2582L: 38L, 2583L: 105L, 2584L: 115L, 2585L: 149L, 2586L: 6L, 2587L: 244L, 2588L: 9L, 2589L: 150L, 2590L: 165L, 2591L: 198L, 2592L: 141L, 2594L: 100L, 2595L: 99L, 2596L: 167L, 2597L: 26L, 2598L: 255L, 2599L: 221L, 2600L: 105L, 2601L: 58L, 2602L: 332L, 2603L: 3L, 2604L: 13L, 2605L: 21L, 2606L: 92L, 2607L: 52L, 2608L: 137L, 2609L: 18L, 2610L: 252L, 2611L: 218L, 2612L: 157L, 2613L: 114L, 2614L: 207L, 2615L: 137L, 2616L: 171L, 2617L: 246L, 2618L: 148L, 2619L: 150L, 2620L: 88L, 2621L: 20L, 2622L: 207L, 2623L: 1L, 2624L: 206L, 2625L: 10L, 2626L: 5L, 2627L: 19L, 2628L: 30L, 2629L: 133L, 2630L: 257L, 2631L: 268L, 2632L: 8L, 2633L: 6L, 2634L: 110L, 2635L: 1L, 2636L: 167L, 2637L: 72L, 2638L: 148L, 2639L: 1L, 2640L: 42L, 2642L: 374L, 2643L: 72L, 2644L: 76L, 2645L: 116L, 2646L: 108L, 2647L: 222L, 2648L: 252L, 2649L: 263L, 2650L: 133L, 2651L: 14L, 2652L: 222L, 2653L: 224L, 2654L: 226L, 2655L: 203L, 2656L: 184L, 2657L: 443L, 2658L: 199L, 2659L: 86L, 2660L: 218L, 2661L: 16L, 2662L: 17L, 2663L: 2L, 2664L: 133L, 2665L: 162L, 2666L: 317L, 2667L: 213L, 2668L: 294L, 2669L: 313L, 2670L: 225L, 2671L: 438L, 2672L: 4L, 2673L: 143L, 2674L: 134L, 2675L: 241L, 2676L: 2L, 2677L: 59L, 2678L: 202L, 2679L: 267L, 2680L: 64L, 2681L: 44L, 2682L: 64L, 2683L: 229L, 2684L: 100L, 2685L: 145L, 2686L: 376L, 2687L: 237L, 2688L: 286L, 2689L: 257L, 2690L: 29L, 2691L: 295L, 2692L: 90L, 2693L: 28L, 2694L: 139L, 2695L: 142L, 2696L: 21L, 2697L: 162L, 2698L: 92L, 2699L: 133L, 2700L: 258L, 2701L: 18L, 2702L: 29L, 2703L: 480L, 2704L: 267L, 2705L: 201L, 2706L: 366L, 2707L: 43L, 2708L: 191L, 2709L: 95L, 2710L: 197L, 2711L: 143L, 2712L: 13L, 2713L: 374L, 2714L: 188L, 2715L: 275L, 2716L: 225L, 2717L: 285L, 2718L: 313L, 2719L: 271L, 2720L: 223L, 2721L: 190L, 2722L: 39L, 2723L: 327L, 2724L: 71L, 2725L: 424L, 2726L: 348L, 2727L: 33L, 2728L: 10L, 2729L: 352L, 2730L: 30L, 2731L: 130L, 2732L: 290L, 2733L: 145L, 2734L: 369L, 2735L: 29L, 2736L: 148L, 2737L: 116L, 2738L: 232L, 2739L: 3L, 2740L: 170L, 2741L: 299L, 2742L: 17L, 2743L: 311L, 2744L: 180L, 2745L: 260L, 2746L: 203L, 2747L: 183L, 2748L: 123L, 2749L: 197L, 2750L: 270L, 2751L: 248L, 2752L: 125L, 2753L: 235L, 2754L: 242L, 2755L: 15L, 2756L: 142L, 2757L: 2L, 2758L: 49L, 2759L: 183L, 2760L: 154L, 2761L: 16L, 2762L: 214L, 2763L: 237L, 2764L: 336L, 2765L: 296L, 2766L: 291L, 2767L: 102L, 2768L: 310L, 2769L: 76L, 2770L: 174L, 2771L: 208L, 2772L: 134L, 2773L: 151L, 2774L: 152L, 2775L: 237L, 2776L: 26L, 2777L: 128L, 2778L: 4L, 2779L: 398L, 2780L: 1L, 2781L: 10L, 2782L: 153L, 2783L: 33L, 2784L: 10L, 2785L: 292L, 2786L: 55L, 2787L: 193L, 2788L: 2L, 2789L: 217L, 2790L: 297L, 2791L: 114L, 2792L: 51L, 2793L: 8L, 2794L: 204L, 2795L: 257L, 2796L: 141L, 2797L: 232L, 2798L: 164L, 2799L: 1L, 2800L: 305L, 2801L: 33L, 2802L: 2L, 2803L: 21L, 2804L: 130L, 2805L: 13L, 2806L: 39L, 2807L: 20L, 2808L: 126L, 2809L: 3L, 2810L: 124L, 2811L: 340L, 2812L: 51L, 2813L: 3L, 2814L: 100L, 2815L: 2L, 2816L: 4L, 2817L: 333L, 2818L: 13L, 2819L: 270L, 2820L: 2L, 2821L: 6L, 2822L: 129L, 2823L: 1L, 2824L: 196L, 2825L: 252L, 2826L: 215L, 2827L: 304L, 2828L: 73L, 2829L: 183L, 2830L: 3L, 2831L: 213L, 2832L: 17L, 2833L: 108L, 2834L: 2L, 2835L: 7L, 2836L: 163L, 2837L: 163L, 2838L: 183L, 2839L: 100L, 2840L: 111L, 2841L: 405L, 2842L: 5L, 2843L: 10L, 2844L: 170L, 2845L: 67L, 2846L: 2L, 2847L: 341L, 2848L: 187L, 2849L: 226L, 2850L: 88L, 2851L: 537L, 2852L: 34L, 2853L: 96L, 2854L: 188L, 2855L: 192L, 2856L: 165L, 2857L: 173L, 2858L: 280L, 2859L: 14L, 2860L: 186L, 2861L: 329L, 2862L: 350L, 2863L: 36L, 2864L: 167L, 2865L: 87L, 2866L: 183L, 2867L: 285L, 2868L: 109L, 2869L: 312L, 2870L: 163L, 2871L: 197L, 2872L: 169L, 2873L: 114L, 2874L: 382L, 2875L: 65L, 2876L: 358L, 2877L: 80L, 2878L: 126L, 2879L: 251L, 2880L: 210L, 2881L: 101L, 2882L: 256L, 2883L: 287L, 2884L: 56L, 2885L: 111L, 2886L: 234L, 2887L: 48L, 2888L: 99L, 2889L: 12L, 2890L: 128L, 2891L: 147L, 2892L: 117L, 2893L: 230L, 2894L: 24L, 2895L: 165L, 2896L: 106L, 2897L: 12L, 2898L: 340L, 2899L: 6L, 2900L: 256L, 2901L: 279L, 2902L: 101L, 2903L: 358L, 2904L: 134L, 2905L: 41L, 2906L: 10L, 2907L: 109L, 2908L: 26L, 2909L: 13L, 2910L: 151L, 2911L: 136L, 2912L: 138L, 2913L: 8L, 2914L: 165L, 2915L: 36L, 2916L: 40L, 2917L: 219L, 2918L: 1L, 2919L: 187L, 2920L: 532L, 2921L: 240L, 2922L: 228L, 2923L: 222L, 2924L: 96L, 2925L: 165L, 2926L: 186L, 2927L: 36L, 2928L: 789L, 2929L: 167L, 2930L: 74L, 2931L: 116L, 2932L: 3L, 2933L: 103L, 2934L: 213L, 2935L: 173L, 2936L: 67L, 2937L: 181L, 2938L: 309L, 2939L: 288L, 2940L: 78L, 2941L: 125L, 2942L: 430L, 2943L: 27L, 2944L: 193L, 2945L: 166L, 2946L: 204L, 2947L: 262L, 2948L: 89L, 2949L: 176L, 2950L: 215L, 2951L: 171L, 2952L: 263L, 2953L: 67L, 2954L: 233L, 2955L: 143L, 2956L: 4L, 2957L: 357L, 2958L: 100L, 2959L: 84L, 2960L: 146L, 2961L: 111L, 2962L: 111L, 2963L: 179L, 2964L: 123L, 2966L: 320L, 2967L: 164L, 2968L: 237L, 2969L: 194L, 2970L: 244L, 2971L: 262L, 2972L: 73L, 2973L: 259L, 2974L: 315L, 2975L: 571L, 2976L: 259L, 2977L: 30L, 2978L: 71L, 2979L: 5L, 2980L: 3L, 2981L: 2L, 2982L: 184L, 2983L: 123L, 2984L: 243L, 2985L: 26L, 2986L: 162L, 2987L: 145L, 2988L: 60L, 2989L: 158L, 2990L: 245L, 2991L: 260L, 2992L: 2L, 2993L: 202L, 2994L: 13L, 2995L: 146L, 2996L: 3L, 2997L: 47L, 2998L: 10L, 2999L: 58L, 3000L: 43L, 3001L: 176L, 3002L: 7L, 3003L: 242L, 3004L: 189L, 3005L: 210L, 3006L: 182L, 3007L: 89L, 3008L: 55L, 3009L: 88L, 3010L: 182L, 3011L: 2L, 3012L: 19L, 3013L: 10L, 3014L: 212L, 3015L: 22L, 3016L: 22L, 3017L: 195L, 3018L: 40L, 3019L: 98L, 3020L: 133L, 3021L: 3L, 3022L: 2L, 3023L: 1L, 3024L: 1L, 3025L: 103L, 3026L: 37L, 3027L: 134L, 3029L: 179L, 3030L: 36L, 3031L: 26L, 3032L: 294L, 3033L: 8L, 3034L: 39L, 3035L: 194L, 3036L: 76L, 3037L: 217L, 3038L: 3L, 3039L: 161L, 3040L: 116L, 3041L: 62L, 3042L: 156L, 3043L: 51L, 3044L: 278L, 3045L: 130L, 3046L: 138L, 3047L: 174L, 3048L: 74L, 3049L: 9L, 3050L: 118L, 3051L: 23L, 3052L: 7L, 3053L: 73L, 3054L: 98L, 3055L: 206L, 3056L: 17L, 3057L: 226L, 3058L: 49L, 3059L: 200L, 3060L: 128L, 3061L: 306L, 3062L: 9L, 3063L: 5L, 3064L: 251L, 3065L: 19L, 3066L: 322L, 3067L: 162L, 3069L: 96L, 3070L: 281L, 3071L: 131L, 3072L: 362L, 3073L: 324L, 3074L: 47L, 3075L: 283L, 3076L: 320L, 3077L: 8L, 3078L: 131L, 3079L: 132L, 3080L: 381L, 3081L: 279L, 3082L: 286L, 3083L: 2L, 3084L: 160L, 3085L: 35L, 3087L: 132L, 3088L: 96L, 3089L: 3L, 3090L: 144L, 3091L: 26L, 3092L: 177L, 3093L: 234L, 3094L: 335L, 3095L: 16L, 3096L: 208L, 3097L: 15L, 3098L: 178L, 3099L: 255L, 3100L: 26L, 3101L: 191L, 3102L: 164L, 3103L: 171L, 3104L: 146L, 3105L: 105L, 3106L: 213L, 3107L: 216L, 3108L: 228L, 3109L: 201L, 3110L: 192L, 3111L: 134L, 3112L: 204L, 3113L: 123L, 3114L: 424L, 3115L: 47L, 3116L: 162L, 3117L: 208L, 3118L: 175L, 3119L: 10L, 3120L: 276L, 3121L: 116L, 3122L: 131L, 3123L: 370L, 3124L: 24L, 3125L: 362L, 3126L: 6L, 3127L: 313L, 3128L: 392L, 3129L: 269L, 3130L: 169L, 3131L: 269L, 3132L: 273L, 3133L: 407L, 3134L: 333L, 3135L: 199L, 3136L: 320L, 3137L: 313L, 3138L: 196L, 3139L: 165L, 3140L: 349L, 3141L: 124L, 3142L: 226L, 3143L: 115L, 3144L: 248L, 3145L: 216L, 3146L: 295L, 3147L: 333L, 3148L: 173L, 3149L: 211L, 3150L: 334L, 3151L: 213L, 3152L: 113L, 3153L: 209L, 3154L: 5L, 3155L: 443L, 3156L: 177L, 3157L: 160L, 3158L: 141L, 3159L: 114L, 3160L: 272L, 3161L: 251L, 3162L: 274L, 3163L: 317L, 3164L: 208L, 3165L: 99L, 3166L: 155L, 3167L: 3L, 3168L: 342L, 3169L: 19L, 3170L: 258L, 3171L: 142L, 3172L: 6L, 3173L: 346L, 3174L: 58L, 3175L: 39L, 3176L: 29L, 3177L: 112L, 3178L: 136L, 3179L: 62L, 3180L: 2L, 3181L: 5L, 3182L: 203L, 3183L: 231L, 3184L: 169L, 3185L: 215L, 3186L: 152L, 3187L: 28L, 3188L: 11L, 3189L: 15L, 3190L: 179L, 3191L: 50L, 3192L: 65L, 3193L: 145L, 3194L: 317L, 3195L: 169L, 3196L: 365L, 3197L: 133L, 3198L: 25L, 3199L: 33L, 3200L: 256L, 3201L: 136L, 3202L: 4L, 3203L: 2L, 3204L: 93L, 3205L: 79L, 3206L: 6L, 3207L: 248L, 3208L: 9L, 3209L: 100L, 3210L: 132L, 3211L: 189L, 3212L: 181L, 3214L: 55L, 3215L: 139L, 3216L: 78L, 3217L: 452L, 3218L: 141L, 3219L: 10L, 3220L: 188L, 3221L: 191L, 3222L: 468L, 3223L: 181L, 3224L: 189L, 3225L: 280L, 3226L: 140L, 3227L: 147L, 3228L: 223L, 3229L: 228L, 3230L: 170L, 3231L: 288L, 3232L: 45L, 3233L: 140L, 3234L: 228L, 3235L: 279L, 3236L: 103L, 3237L: 12L, 3238L: 79L, 3239L: 46L, 3240L: 153L, 3241L: 16L, 3242L: 168L, 3243L: 100L, 3244L: 3L, 3246L: 108L, 3247L: 2L, 3248L: 56L, 3249L: 12L, 3250L: 286L, 3251L: 442L, 3252L: 8L, 3253L: 213L, 3254L: 136L, 3255L: 94L, 3256L: 33L, 3257L: 102L, 3258L: 14L, 3259L: 208L, 3260L: 93L, 3261L: 198L, 3262L: 309L, 3263L: 342L, 3264L: 187L, 3265L: 358L, 3266L: 32L, 3267L: 159L, 3268L: 59L, 3269L: 118L, 3270L: 187L, 3271L: 48L, 3272L: 313L, 3273L: 394L, 3274L: 438L, 3275L: 196L, 3276L: 93L, 3277L: 20L, 3278L: 2L, 3279L: 263L, 3280L: 5L, 3281L: 228L, 3282L: 10L, 3283L: 186L, 3284L: 257L, 3285L: 360L, 3286L: 238L, 3287L: 290L, 3288L: 75L, 3289L: 231L, 3290L: 156L, 3291L: 54L, 3292L: 163L, 3293L: 308L, 3294L: 291L, 3295L: 12L, 3296L: 197L, 3297L: 23L, 3298L: 164L, 3299L: 309L, 3300L: 2L, 3301L: 6L, 3302L: 116L, 3303L: 199L, 3304L: 39L, 3305L: 19L, 3306L: 280L, 3307L: 216L, 3308L: 12L, 3309L: 199L, 3310L: 182L, 3311L: 298L, 3312L: 147L, 3313L: 87L, 3314L: 30L, 3315L: 104L, 3316L: 44L, 3317L: 18L, 3318L: 14L, 3319L: 244L, 3320L: 254L, 3321L: 291L, 3322L: 3L, 3323L: 325L, 3324L: 23L, 3325L: 233L, 3326L: 440L, 3327L: 268L, 3328L: 347L, 3329L: 378L, 3330L: 64L, 3331L: 122L, 3332L: 220L, 3334L: 124L, 3335L: 153L, 3336L: 353L, 3337L: 136L, 3338L: 1L, 3339L: 42L, 3340L: 3L, 3341L: 143L, 3342L: 12L, 3343L: 333L, 3344L: 15L, 3345L: 87L, 3346L: 243L, 3347L: 230L, 3348L: 185L, 3349L: 395L, 3350L: 119L, 3351L: 150L, 3352L: 3L, 3353L: 245L, 3354L: 146L, 3355L: 176L, 3356L: 60L, 3357L: 122L, 3358L: 144L, 3359L: 59L, 3360L: 275L, 3361L: 41L, 3362L: 109L, 3363L: 242L, 3364L: 251L, 3365L: 267L, 3366L: 215L, 3367L: 334L, 3368L: 130L, 3369L: 233L, 3370L: 36L, 3371L: 185L, 3372L: 11L, 3373L: 221L, 3374L: 75L, 3375L: 102L, 3376L: 248L, 3377L: 162L, 3378L: 13L, 3379L: 161L, 3380L: 128L, 3381L: 3L, 3382L: 158L, 3383L: 3L, 3384L: 8L, 3385L: 209L, 3386L: 248L, 3387L: 170L, 3388L: 189L, 3389L: 231L, 3390L: 129L, 3391L: 190L, 3392L: 256L, 3393L: 8L, 3394L: 261L, 3395L: 337L, 3396L: 214L, 3397L: 204L, 3398L: 293L, 3399L: 24L, 3400L: 25L, 3401L: 206L, 3402L: 44L, 3403L: 108L, 3404L: 230L, 3405L: 239L, 3407L: 263L, 3408L: 171L, 3409L: 197L, 3410L: 106L, 3411L: 88L, 3412L: 81L, 3413L: 195L, 3414L: 131L, 3415L: 230L, 3416L: 40L, 3417L: 1L, 3418L: 25L, 3419L: 45L, 3420L: 316L, 3421L: 333L, 3422L: 11L, 3423L: 335L, 3424L: 2L, 3425L: 194L, 3426L: 241L, 3427L: 217L, 3428L: 272L, 3429L: 45L, 3430L: 330L, 3431L: 96L, 3432L: 35L, 3433L: 156L, 3434L: 57L, 3435L: 37L, 3436L: 110L, 3437L: 177L, 3438L: 11L, 3439L: 23L, 3440L: 187L, 3441L: 166L, 3442L: 135L, 3443L: 5L, 3444L: 9L, 3445L: 248L, 3446L: 174L, 3447L: 259L, 3448L: 380L, 3449L: 112L, 3450L: 252L, 3451L: 301L, 3452L: 24L, 3453L: 211L, 3454L: 41L, 3455L: 126L, 3456L: 335L, 3457L: 313L, 3458L: 150L, 3459L: 9L, 3460L: 113L, 3461L: 2L, 3462L: 391L, 3463L: 262L, 3464L: 49L, 3465L: 15L, 3466L: 52L, 3467L: 288L, 3468L: 240L, 3469L: 19L, 3470L: 172L, 3471L: 40L, 3472L: 38L, 3473L: 1L, 3474L: 8L, 3475L: 176L, 3476L: 4L, 3477L: 241L, 3478L: 345L, 3479L: 298L, 3480L: 12L, 3481L: 83L, 3482L: 89L, 3483L: 100L, 3484L: 60L, 3485L: 17L, 3486L: 121L, 3487L: 207L, 3488L: 242L, 3489L: 178L, 3490L: 158L, 3491L: 100L, 3492L: 5L, 3493L: 82L, 3494L: 385L, 3495L: 150L, 3496L: 189L, 3497L: 203L, 3498L: 309L, 3499L: 235L, 3500L: 417L, 3501L: 210L, 3502L: 137L, 3503L: 178L, 3504L: 259L, 3505L: 189L, 3506L: 37L, 3507L: 14L, 3508L: 172L, 3509L: 175L, 3510L: 383L, 3511L: 171L, 3512L: 148L, 3513L: 232L, 3514L: 51L, 3515L: 170L, 3516L: 20L, 3517L: 54L, 3518L: 3L, 3519L: 14L, 3520L: 29L, 3521L: 234L, 3522L: 23L, 3523L: 128L, 3524L: 3L, 3525L: 93L, 3526L: 139L, 3527L: 335L, 3528L: 245L, 3529L: 304L, 3530L: 51L, 3531L: 258L, 3532L: 120L, 3533L: 322L, 3534L: 9L, 3535L: 31L, 3536L: 81L, 3537L: 248L, 3538L: 190L, 3539L: 97L, 3540L: 90L, 3541L: 68L, 3542L: 111L, 3543L: 327L, 3544L: 619L, 3545L: 132L, 3546L: 35L, 3547L: 37L, 3548L: 195L, 3549L: 89L, 3550L: 156L, 3551L: 148L, 3552L: 132L, 3553L: 333L, 3554L: 134L, 3555L: 362L, 3556L: 2L, 3557L: 45L, 3558L: 205L, 3559L: 146L, 3560L: 341L, 3561L: 129L, 3562L: 100L, 3563L: 157L, 3564L: 270L, 3565L: 322L, 3566L: 40L, 3567L: 107L, 3568L: 183L, 3569L: 275L, 3570L: 367L, 3571L: 327L, 3572L: 359L, 3573L: 244L, 3574L: 300L, 3575L: 185L, 3576L: 117L, 3577L: 167L, 3579L: 2L, 3580L: 145L, 3581L: 202L, 3582L: 60L, 3583L: 133L, 3584L: 236L, 3585L: 145L, 3586L: 142L, 3587L: 104L, 3588L: 224L, 3589L: 58L, 3590L: 132L, 3591L: 220L, 3592L: 262L, 3593L: 217L, 3595L: 223L, 3596L: 344L, 3597L: 154L, 3598L: 223L, 3599L: 298L, 3600L: 244L, 3601L: 427L, 3602L: 139L, 3603L: 142L, 3604L: 224L, 3605L: 63L, 3606L: 112L, 3607L: 302L, 3608L: 236L, 3609L: 178L, 3610L: 108L, 3611L: 380L, 3612L: 109L, 3613L: 84L, 3614L: 306L, 3615L: 32L, 3616L: 205L, 3617L: 141L, 3618L: 21L, 3619L: 415L, 3620L: 402L, 3621L: 1L, 3622L: 119L, 3623L: 134L, 3624L: 169L, 3625L: 137L, 3626L: 61L, 3627L: 142L, 3628L: 2L, 3630L: 315L, 3631L: 393L, 3632L: 83L, 3633L: 253L, 3634L: 641L, 3635L: 175L, 3636L: 207L, 3637L: 253L, 3638L: 128L, 3639L: 117L, 3640L: 54L, 3641L: 309L, 3642L: 292L, 3643L: 320L, 3644L: 239L, 3645L: 155L, 3646L: 529L, 3647L: 215L, 3648L: 1L, 3649L: 290L, 3650L: 169L, 3651L: 51L, 3652L: 12L, 3653L: 188L, 3654L: 176L, 3655L: 178L, 3656L: 13L, 3657L: 13L, 3658L: 201L, 3659L: 15L, 3660L: 148L, 3661L: 71L, 3662L: 60L, 3663L: 346L, 3664L: 41L, 3665L: 245L, 3666L: 234L, 3667L: 217L, 3668L: 131L, 3669L: 128L, 3670L: 288L, 3671L: 333L, 3672L: 228L, 3673L: 769L, 3674L: 28L, 3675L: 250L, 3676L: 252L, 3677L: 84L, 3678L: 6L, 3679L: 34L, 3680L: 370L, 3681L: 158L, 3682L: 91L, 3683L: 215L, 3684L: 188L, 3685L: 3L, 3686L: 184L, 3687L: 60L, 3688L: 263L, 3689L: 207L, 3690L: 236L, 3691L: 258L, 3692L: 355L, 3693L: 226L, 3694L: 229L, 3695L: 282L, 3696L: 14L, 3697L: 354L, 3698L: 247L, 3699L: 100L, 3700L: 59L, 3701L: 76L, 3702L: 5L, 3703L: 336L, 3704L: 454L, 3705L: 214L, 3706L: 9L, 3707L: 173L, 3708L: 85L, 3709L: 147L, 3710L: 283L, 3711L: 273L, 3712L: 170L, 3713L: 223L, 3714L: 204L, 3715L: 297L, 3716L: 452L, 3717L: 6L, 3718L: 202L, 3719L: 300L, 3720L: 258L, 3721L: 268L, 3722L: 12L, 3723L: 226L, 3724L: 254L, 3725L: 60L, 3726L: 1L, 3727L: 282L, 3728L: 611L, 3729L: 112L, 3730L: 113L, 3731L: 37L, 3732L: 286L, 3733L: 219L, 3734L: 91L, 3735L: 229L, 3736L: 201L, 3737L: 226L, 3738L: 11L, 3739L: 250L, 3740L: 337L, 3741L: 8L, 3742L: 260L, 3743L: 154L, 3744L: 97L, 3745L: 77L, 3746L: 464L, 3747L: 470L, 3748L: 302L, 3749L: 259L, 3750L: 432L, 3751L: 159L, 3752L: 230L, 3753L: 292L, 3754L: 4L, 3755L: 24L, 3756L: 11L, 3757L: 56L, 3758L: 200L, 3759L: 166L, 3760L: 168L, 3761L: 270L, 3762L: 345L, 3763L: 335L, 3764L: 305L, 3765L: 14L, 3766L: 26L, 3767L: 98L, 3768L: 110L, 3769L: 80L, 3770L: 39L, 3771L: 4L, 3772L: 11L, 3773L: 1L, 3774L: 7L, 3775L: 11L, 3776L: 36L, 3777L: 8L, 3778L: 27L, 3779L: 2L, 3780L: 314L, 3781L: 18L, 3782L: 47L, 3783L: 3L, 3784L: 62L, 3785L: 267L, 3786L: 209L, 3787L: 121L, 3788L: 110L, 3789L: 65L, 3790L: 356L, 3791L: 6L, 3792L: 266L, 3793L: 3L, 3794L: 42L, 3795L: 65L, 3796L: 250L, 3797L: 145L, 3798L: 53L, 3799L: 13L, 3800L: 37L, 3801L: 29L, 3802L: 35L, 3803L: 353L, 3804L: 103L, 3805L: 67L, 3806L: 33L, 3807L: 209L, 3808L: 160L, 3809L: 2L, 3811L: 293L, 3812L: 159L, 3813L: 222L, 3814L: 185L, 3815L: 544L, 3816L: 203L, 3817L: 231L, 3818L: 14L, 3819L: 425L, 3820L: 82L, 3821L: 247L, 3822L: 104L, 3823L: 172L, 3824L: 39L, 3825L: 83L, 3826L: 27L, 3827L: 2L, 3828L: 15L, 3829L: 165L, 3830L: 17L, 3831L: 260L, 3832L: 214L, 3833L: 181L, 3834L: 2L, 3835L: 372L, 3836L: 14L, 3837L: 28L, 3838L: 63L, 3839L: 242L, 3840L: 2L, 3841L: 470L, 3842L: 316L, 3843L: 455L, 3844L: 464L, 3845L: 308L, 3846L: 235L, 3847L: 2L, 3848L: 99L, 3849L: 339L, 3850L: 458L, 3851L: 183L, 3852L: 250L, 3853L: 264L, 3854L: 136L, 3855L: 259L, 3856L: 316L, 3857L: 182L, 3858L: 207L, 3859L: 190L, 3860L: 122L, 3861L: 381L, 3862L: 2L, 3863L: 227L, 3864L: 5L, 3865L: 129L, 3866L: 57L, 3867L: 5L, 3868L: 55L, 3869L: 77L, 3870L: 19L, 3871L: 3L, 3872L: 66L, 3873L: 595L, 3874L: 144L, 3875L: 330L, 3876L: 394L, 3877L: 294L, 3878L: 160L, 3879L: 314L, 3880L: 292L, 3881L: 180L, 3882L: 292L, 3883L: 339L, 3884L: 339L, 3885L: 154L, 3886L: 235L, 3887L: 312L, 3888L: 84L, 3889L: 186L, 3890L: 216L, 3891L: 158L, 3892L: 393L, 3893L: 40L, 3894L: 379L, 3895L: 329L, 3896L: 376L, 3897L: 148L, 3898L: 180L, 3899L: 226L, 3900L: 397L, 3901L: 227L, 3902L: 10L, 3903L: 234L, 3904L: 254L, 3905L: 20L, 3906L: 198L, 3907L: 235L, 3908L: 268L, 3909L: 260L, 3910L: 356L, 3911L: 220L, 3912L: 73L, 3913L: 306L, 3914L: 58L, 3915L: 196L, 3916L: 371L, 3917L: 305L, 3918L: 121L, 3919L: 3L, 3920L: 534L, 3921L: 386L, 3922L: 298L, 3923L: 180L, 3924L: 174L, 3925L: 368L, 3926L: 527L, 3927L: 174L, 3928L: 316L, 3929L: 369L, 3930L: 210L, 3931L: 212L, 3932L: 79L, 3933L: 88L, 3934L: 509L, 3935L: 249L, 3936L: 378L, 3937L: 352L, 3938L: 6L, 3939L: 282L, 3940L: 343L, 3941L: 223L, 3942L: 260L, 3943L: 219L, 3944L: 314L, 3945L: 75L, 3947L: 19L, 3948L: 8L, 3949L: 63L, 3950L: 23L, 3951L: 359L, 3952L: 62L, 3953L: 2L, 3954L: 84L, 3955L: 4L, 3956L: 122L, 3957L: 301L, 3958L: 306L, 3959L: 224L, 3960L: 297L, 3961L: 93L, 3962L: 228L, 3963L: 313L, 3964L: 2L, 3965L: 73L, 3966L: 48L, 3967L: 160L, 3968L: 105L, 3969L: 15L, 3970L: 318L, 3971L: 130L, 3972L: 25L, 3973L: 364L, 3974L: 267L, 3975L: 54L, 3976L: 251L, 3977L: 68L, 3978L: 200L, 3979L: 298L, 3980L: 247L, 3981L: 163L, 3982L: 175L, 3983L: 107L, 3984L: 248L, 3985L: 122L, 3986L: 391L, 3987L: 147L, 3988L: 462L, 3989L: 119L, 3990L: 219L, 3991L: 156L, 3992L: 19L, 3993L: 22L, 3994L: 41L, 3995L: 205L, 3996L: 94L, 3997L: 239L, 3998L: 1L, 3999L: 449L, 4000L: 173L, 4001L: 313L, 4002L: 453L, 4003L: 228L, 4004L: 142L, 4005L: 355L, 4006L: 195L, 4007L: 230L, 4008L: 17L, 4009L: 263L, 4010L: 141L, 4011L: 200L, 4012L: 151L, 4013L: 81L, 4014L: 61L, 4015L: 2L, 4016L: 208L, 4017L: 460L, 4018L: 348L, 4019L: 93L, 4020L: 233L, 4021L: 272L, 4022L: 423L, 4023L: 230L, 4024L: 12L, 4025L: 200L, 4026L: 86L, 4027L: 135L, 4028L: 92L, 4029L: 251L, 4030L: 262L, 4031L: 242L, 4032L: 345L, 4033L: 219L, 4034L: 329L, 4035L: 51L, 4036L: 404L, 4037L: 139L, 4038L: 112L, 4039L: 432L, 4040L: 288L, 4041L: 219L, 4042L: 175L, 4043L: 336L, 4044L: 251L, 4045L: 130L, 4046L: 55L, 4047L: 329L, 4048L: 129L, 4049L: 258L, 4050L: 230L, 4051L: 310L, 4052L: 239L, 4053L: 4L, 4054L: 214L, 4055L: 185L, 4056L: 244L, 4057L: 44L, 4058L: 132L, 4059L: 248L, 4060L: 134L, 4061L: 42L, 4062L: 153L, 4063L: 348L, 4064L: 174L, 4065L: 47L, 4066L: 7L, 4067L: 220L, 4068L: 88L, 4069L: 206L, 4070L: 8L, 4071L: 3L, 4072L: 14L, 4073L: 363L, 4074L: 205L, 4075L: 141L, 4076L: 390L, 4077L: 464L, 4078L: 426L, 4079L: 5L, 4080L: 50L, 4081L: 1L, 4082L: 325L, 4083L: 150L, 4084L: 242L, 4085L: 194L, 4086L: 177L, 4087L: 326L, 4088L: 196L, 4089L: 275L, 4090L: 281L, 4091L: 294L, 4092L: 451L, 4093L: 240L, 4094L: 245L, 4095L: 48L, 4096L: 321L, 4097L: 211L, 4098L: 171L, 4099L: 227L, 4100L: 212L, 4101L: 414L, 4102L: 146L, 4103L: 416L, 4104L: 323L, 4105L: 40L, 4106L: 379L, 4107L: 204L, 4108L: 114L, 4109L: 528L, 4110L: 288L, 4111L: 4L, 4112L: 124L, 4113L: 384L, 4114L: 122L, 4115L: 22L, 4116L: 40L, 4117L: 76L, 4118L: 47L, 4119L: 13L, 4120L: 10L, 4121L: 9L, 4122L: 55L, 4123L: 117L, 4124L: 20L, 4125L: 4L, 4126L: 100L, 4127L: 64L, 4128L: 83L, 4129L: 201L, 4130L: 372L, 4131L: 178L, 4132L: 266L, 4133L: 221L, 4134L: 249L, 4135L: 100L, 4136L: 84L, 4137L: 136L, 4138L: 180L, 4139L: 150L, 4140L: 156L, 4141L: 149L, 4142L: 103L, 4143L: 484L, 4144L: 43L, 4145L: 84L, 4146L: 196L, 4147L: 301L, 4148L: 185L, 4149L: 261L, 4150L: 61L, 4151L: 301L, 4152L: 70L, 4153L: 123L, 4154L: 309L, 4155L: 166L, 4156L: 207L, 4157L: 99L, 4158L: 198L, 4159L: 158L, 4160L: 181L, 4161L: 264L, 4162L: 183L, 4163L: 86L, 4164L: 85L, 4165L: 2L, 4166L: 190L, 4167L: 70L, 4168L: 71L, 4169L: 229L, 4170L: 202L, 4171L: 67L, 4172L: 161L, 4173L: 11L, 4174L: 142L, 4175L: 8L, 4176L: 279L, 4177L: 165L, 4178L: 135L, 4179L: 212L, 4180L: 262L, 4181L: 109L, 4182L: 140L, 4183L: 205L, 4184L: 177L, 4185L: 136L, 4186L: 163L, 4187L: 82L, 4188L: 241L, 4189L: 15L, 4190L: 294L, 4191L: 301L, 4192L: 83L, 4193L: 266L, 4194L: 353L, 4195L: 47L, 4196L: 402L, 4197L: 234L, 4198L: 34L, 4199L: 439L, 4200L: 378L, 4201L: 409L, 4202L: 305L, 4203L: 258L, 4204L: 49L, 4205L: 24L, 4206L: 60L, 4207L: 23L, 4208L: 293L, 4209L: 263L, 4210L: 85L, 4211L: 378L, 4212L: 100L, 4213L: 306L, 4214L: 126L, 4215L: 178L, 4216L: 302L, 4217L: 82L, 4218L: 106L, 4219L: 152L, 4220L: 101L, 4221L: 150L, 4222L: 252L, 4223L: 303L, 4224L: 315L, 4225L: 511L, 4226L: 286L, 4227L: 107L, 4228L: 343L, 4229L: 281L, 4230L: 36L, 4231L: 173L, 4232L: 242L, 4233L: 24L, 4234L: 510L, 4235L: 309L, 4236L: 365L, 4237L: 449L, 4238L: 222L, 4239L: 242L, 4240L: 176L, 4241L: 142L, 4242L: 49L, 4243L: 266L, 4244L: 145L, 4245L: 497L, 4246L: 479L, 4247L: 28L, 4248L: 118L, 4249L: 70L, 4250L: 853L, 4251L: 256L, 4252L: 46L, 4253L: 292L, 4254L: 349L, 4255L: 27L, 4256L: 53L, 4257L: 328L, 4258L: 332L, 4259L: 116L, 4260L: 311L, 4261L: 285L, 4262L: 259L, 4263L: 312L, 4264L: 313L, 4265L: 338L, 4266L: 104L, 4267L: 135L, 4268L: 232L, 4269L: 12L, 4270L: 171L, 4271L: 7L, 4272L: 115L, 4273L: 6L, 4274L: 295L, 4275L: 619L, 4276L: 288L, 4277L: 14L, 4278L: 135L, 4279L: 95L, 4280L: 318L, 4281L: 182L, 4282L: 350L, 4283L: 144L, 4284L: 76L, 4285L: 104L, 4286L: 329L, 4287L: 354L, 4288L: 144L, 4289L: 292L, 4290L: 715L, 4291L: 263L, 4292L: 297L, 4293L: 139L, 4294L: 430L, 4295L: 132L, 4296L: 134L, 4297L: 32L, 4298L: 371L, 4299L: 180L, 4300L: 336L, 4301L: 218L, 4302L: 394L, 4303L: 158L, 4304L: 261L, 4305L: 353L, 4306L: 584L, 4307L: 141L, 4308L: 136L, 4309L: 3L, 4310L: 61L, 4311L: 19L, 4312L: 253L, 4313L: 1L, 4314L: 333L, 4315L: 20L, 4316L: 104L, 4317L: 4L, 4318L: 440L, 4319L: 236L, 4320L: 1L, 4321L: 2L, 4322L: 279L, 4323L: 399L, 4324L: 23L, 4325L: 193L, 4326L: 377L, 4327L: 127L, 4328L: 341L, 4329L: 201L, 4330L: 212L, 4331L: 367L, 4332L: 13L, 4333L: 289L, 4334L: 364L, 4335L: 278L, 4336L: 14L, 4337L: 323L, 4338L: 499L, 4339L: 164L, 4340L: 58L, 4341L: 49L, 4342L: 40L, 4343L: 298L, 4344L: 447L, 4345L: 410L, 4346L: 31L, 4347L: 365L, 4348L: 271L, 4349L: 63L, 4350L: 101L, 4351L: 377L, 4352L: 197L, 4353L: 36L, 4354L: 524L, 4355L: 226L, 4356L: 243L, 4357L: 351L, 4358L: 308L, 4359L: 328L, 4360L: 6L, 4361L: 89L, 4362L: 332L, 4363L: 367L, 4364L: 394L, 4365L: 506L, 4366L: 305L, 4367L: 275L, 4368L: 375L, 4369L: 184L, 4370L: 557L, 4371L: 7L, 4372L: 73L, 4373L: 199L, 4374L: 336L, 4375L: 13L, 4376L: 8L, 4377L: 258L, 4378L: 364L, 4379L: 256L, 4380L: 88L, 4381L: 269L, 4382L: 320L, 4383L: 625L, 4384L: 220L, 4385L: 371L, 4386L: 340L, 4387L: 313L, 4388L: 5L, 4389L: 277L, 4390L: 2L, 4391L: 194L, 4392L: 174L, 4393L: 119L, 4394L: 261L, 4395L: 7L, 4396L: 248L, 4397L: 186L, 4398L: 363L, 4399L: 416L, 4400L: 106L, 4401L: 284L, 4402L: 152L, 4403L: 282L, 4404L: 98L, 4405L: 338L, 4406L: 254L, 4407L: 172L, 4408L: 313L, 4409L: 34L, 4410L: 433L, 4411L: 546L, 4412L: 289L, 4413L: 211L, 4414L: 349L, 4415L: 8L, 4416L: 349L, 4417L: 158L, 4418L: 402L, 4419L: 452L, 4420L: 240L, 4421L: 311L, 4422L: 277L, 4423L: 318L, 4424L: 12L, 4425L: 229L, 4426L: 107L, 4427L: 350L, 4428L: 411L, 4429L: 203L, 4430L: 91L, 4431L: 275L, 4432L: 465L, 4433L: 301L, 4434L: 145L, 4435L: 475L, 4436L: 348L, 4437L: 57L, 4438L: 29L, 4439L: 3L, 4440L: 347L, 4441L: 219L, 4442L: 20L, 4443L: 148L, 4444L: 72L, 4445L: 109L, 4446L: 101L, 4447L: 41L, 4448L: 273L, 4449L: 95L, 4450L: 42L, 4451L: 233L, 4452L: 414L, 4453L: 218L, 4454L: 2L, 4455L: 124L, 4456L: 32L, 4457L: 328L, 4458L: 3L, 4459L: 221L, 4460L: 192L, 4461L: 279L, 4462L: 93L, 4463L: 300L, 4464L: 229L, 4465L: 353L, 4466L: 227L, 4467L: 51L, 4468L: 234L, 4469L: 140L, 4470L: 72L, 4471L: 234L, 4472L: 272L, 4473L: 297L, 4474L: 93L, 4475L: 229L, 4476L: 102L, 4477L: 268L, 4478L: 225L, 4479L: 117L, 4480L: 287L, 4481L: 173L, 4482L: 81L, 4483L: 238L, 4484L: 4L, 4485L: 268L, 4486L: 175L, 4487L: 388L, 4488L: 17L, 4489L: 194L, 4490L: 56L, 4491L: 277L, 4492L: 339L, 4493L: 183L, 4494L: 298L, 4495L: 153L, 4496L: 174L, 4497L: 213L, 4498L: 212L, 4499L: 445L, 4500L: 102L, 4501L: 208L, 4502L: 199L, 4503L: 101L, 4504L: 187L, 4505L: 354L, 4506L: 346L, 4507L: 296L, 4508L: 98L, 4509L: 265L, 4510L: 1L, 4511L: 56L, 4512L: 219L, 4513L: 232L, 4514L: 290L, 4515L: 81L, 4516L: 36L, 4517L: 370L, 4518L: 274L, 4519L: 294L, 4520L: 6L, 4521L: 145L, 4522L: 143L, 4523L: 23L, 4524L: 561L, 4525L: 396L, 4526L: 318L, 4527L: 58L, 4528L: 2L, 4529L: 245L, 4530L: 76L, 4531L: 404L, 4532L: 302L, 4533L: 166L, 4534L: 292L, 4535L: 178L, 4536L: 14L, 4537L: 168L, 4538L: 438L, 4539L: 55L, 4540L: 365L, 4541L: 349L, 4542L: 29L, 4543L: 50L, 4544L: 36L, 4545L: 72L, 4546L: 301L, 4547L: 247L, 4548L: 349L, 4549L: 4L, 4550L: 483L, 4551L: 380L, 4552L: 243L, 4553L: 272L, 4554L: 399L, 4555L: 463L, 4556L: 373L, 4557L: 252L, 4558L: 428L, 4559L: 342L, 4560L: 269L, 4561L: 84L, 4562L: 244L, 4563L: 233L, 4564L: 328L, 4565L: 459L, 4566L: 204L, 4567L: 109L, 4568L: 153L, 4569L: 155L, 4570L: 168L, 4571L: 137L, 4572L: 31L, 4573L: 272L, 4574L: 187L, 4575L: 102L, 4576L: 321L, 4577L: 18L, 4578L: 2L, 4579L: 112L, 4580L: 24L, 4581L: 16L, 4582L: 17L, 4583L: 370L, 4584L: 17L, 4585L: 247L, 4586L: 35L, 4587L: 322L, 4588L: 407L, 4589L: 277L, 4590L: 363L, 4591L: 20L, 4592L: 266L, 4593L: 58L, 4594L: 125L, 4595L: 229L, 4596L: 145L, 4597L: 2L, 4598L: 162L, 4599L: 182L, 4600L: 308L, 4601L: 168L, 4602L: 5L, 4603L: 382L, 4604L: 263L, 4605L: 165L, 4606L: 228L, 4607L: 2L, 4608L: 17L, 4609L: 218L, 4610L: 267L, 4611L: 94L, 4612L: 30L, 4613L: 316L, 4614L: 79L, 4615L: 263L, 4616L: 206L, 4617L: 277L, 4618L: 252L, 4619L: 87L, 4620L: 109L, 4621L: 300L, 4622L: 192L, 4623L: 3L, 4624L: 353L, 4625L: 322L, 4626L: 24L, 4627L: 7L, 4628L: 17L, 4630L: 204L, 4631L: 189L, 4632L: 24L, 4633L: 42L, 4634L: 2L, 4635L: 19L, 4636L: 2L, 4637L: 33L, 4638L: 49L, 4639L: 278L, 4640L: 132L, 4641L: 245L, 4642L: 162L, 4643L: 27L, 4644L: 292L, 4645L: 24L, 4646L: 123L, 4647L: 248L, 4648L: 194L, 4649L: 345L, 4650L: 305L, 4651L: 160L, 4652L: 83L, 4653L: 223L, 4654L: 111L, 4655L: 190L, 4656L: 162L, 4657L: 265L, 4658L: 326L, 4659L: 261L, 4660L: 183L, 4661L: 162L, 4662L: 152L, 4663L: 225L, 4664L: 193L, 4665L: 463L, 4666L: 250L, 4667L: 230L, 4668L: 250L, 4669L: 217L, 4670L: 276L, 4671L: 44L, 4672L: 140L, 4673L: 195L, 4674L: 10L, 4675L: 342L, 4676L: 253L, 4677L: 134L, 4678L: 271L, 4679L: 21L, 4680L: 276L, 4681L: 262L, 4682L: 170L, 4683L: 194L, 4684L: 293L, 4685L: 243L, 4686L: 99L, 4687L: 287L, 4688L: 97L, 4689L: 81L, 4690L: 275L, 4691L: 187L, 4692L: 134L, 4693L: 166L, 4694L: 441L, 4695L: 460L, 4696L: 347L, 4697L: 188L, 4698L: 112L, 4699L: 202L, 4700L: 65L, 4701L: 98L, 4702L: 177L, 4703L: 207L, 4704L: 286L, 4705L: 250L, 4706L: 132L, 4707L: 492L, 4708L: 219L, 4709L: 296L, 4710L: 206L, 4711L: 25L, 4712L: 249L, 4713L: 174L, 4714L: 308L, 4715L: 268L, 4716L: 246L, 4717L: 158L, 4718L: 251L, 4719L: 209L, 4720L: 21L, 4721L: 224L, 4722L: 322L, 4723L: 73L, 4724L: 210L, 4725L: 250L, 4726L: 90L, 4727L: 88L, 4728L: 229L, 4729L: 134L, 4730L: 37L, 4731L: 167L, 4732L: 248L, 4733L: 127L, 4734L: 130L, 4735L: 323L, 4736L: 284L, 4737L: 180L, 4738L: 174L, 4739L: 142L, 4740L: 400L, 4741L: 85L, 4742L: 11L, 4743L: 183L, 4744L: 83L, 4745L: 25L, 4746L: 39L, 4747L: 142L, 4748L: 132L, 4749L: 15L, 4750L: 10L, 4751L: 78L, 4752L: 62L, 4753L: 52L, 4754L: 129L, 4755L: 46L, 4756L: 229L, 4757L: 31L, 4758L: 143L, 4759L: 6L, 4760L: 18L, 4761L: 115L, 4762L: 32L, 4763L: 177L, 4764L: 196L, 4765L: 168L, 4766L: 244L, 4767L: 180L, 4768L: 156L, 4769L: 6L, 4770L: 26L, 4771L: 136L, 4772L: 279L, 4773L: 274L, 4774L: 97L, 4775L: 71L, 4776L: 47L, 4777L: 144L, 4778L: 108L, 4779L: 238L, 4780L: 34L, 4781L: 52L, 4782L: 150L, 4783L: 39L, 4784L: 135L, 4785L: 177L, 4786L: 25L, 4787L: 40L, 4788L: 107L, 4789L: 29L, 4790L: 201L, 4791L: 118L, 4792L: 62L, 4793L: 47L, 4794L: 82L, 4796L: 204L, 4797L: 256L, 4798L: 181L, 4799L: 53L, 4800L: 58L, 4801L: 341L, 4802L: 327L, 4803L: 284L, 4804L: 121L, 4805L: 233L, 4806L: 271L, 4807L: 287L, 4808L: 243L, 4809L: 128L, 4810L: 221L, 4811L: 307L, 4812L: 7L, 4813L: 31L, 4814L: 314L, 4815L: 204L, 4816L: 140L, 4817L: 8L, 4818L: 176L, 4819L: 456L, 4820L: 385L, 4821L: 14L, 4822L: 102L, 4823L: 335L, 4824L: 362L, 4825L: 136L, 4826L: 238L, 4827L: 63L, 4828L: 118L, 4829L: 224L, 4830L: 231L, 4831L: 235L, 4832L: 318L, 4833L: 352L, 4834L: 302L, 4835L: 53L, 4836L: 235L, 4837L: 84L, 4838L: 359L, 4839L: 206L, 4840L: 337L, 4841L: 3L, 4842L: 202L, 4843L: 263L, 4844L: 50L, 4845L: 216L, 4846L: 14L, 4847L: 25L, 4848L: 477L, 4849L: 90L, 4850L: 95L, 4851L: 278L, 4852L: 1L, 4853L: 214L, 4854L: 388L, 4855L: 11L, 4856L: 273L, 4857L: 146L, 4858L: 437L, 4859L: 28L, 4860L: 130L, 4861L: 316L, 4862L: 130L, 4863L: 14L, 4864L: 153L, 4865L: 38L, 4866L: 103L, 4867L: 126L, 4868L: 60L, 4869L: 164L, 4870L: 61L, 4871L: 119L, 4872L: 179L, 4873L: 72L, 4874L: 119L, 4875L: 28L, 4876L: 7L, 4877L: 349L, 4878L: 237L, 4879L: 90L, 4880L: 460L, 4881L: 374L, 4882L: 218L, 4883L: 91L, 4884L: 386L, 4885L: 71L, 4886L: 2L, 4887L: 60L, 4888L: 176L, 4889L: 89L, 4890L: 101L, 4891L: 55L, 4892L: 77L, 4893L: 128L, 4894L: 437L, 4895L: 166L, 4896L: 351L, 4897L: 8L, 4898L: 234L, 4899L: 11L, 4900L: 48L, 4901L: 65L, 4902L: 49L, 4903L: 98L, 4904L: 37L, 4905L: 324L, 4906L: 182L, 4907L: 348L, 4908L: 363L, 4909L: 303L, 4910L: 204L, 4911L: 5L, 4912L: 15L, 4913L: 135L, 4914L: 67L, 4915L: 7L, 4916L: 24L, 4917L: 69L, 4918L: 298L, 4919L: 431L, 4920L: 271L, 4921L: 32L, 4922L: 318L, 4923L: 269L, 4924L: 340L, 4925L: 4L, 4926L: 318L, 4927L: 166L, 4928L: 413L, 4929L: 474L, 4930L: 27L, 4931L: 9L, 4932L: 326L, 4933L: 14L, 4934L: 8L, 4935L: 4L, 4936L: 11L, 4937L: 454L, 4938L: 107L, 4939L: 82L, 4940L: 92L, 4941L: 27L, 4942L: 119L, 4943L: 16L, 4944L: 150L, 4945L: 150L, 4946L: 80L, 4947L: 63L, 4948L: 74L, 4949L: 93L, 4950L: 129L, 4951L: 328L, 4952L: 238L, 4953L: 388L, 4954L: 2L, 4955L: 13L, 4956L: 9L, 4957L: 6L, 4958L: 80L, 4959L: 311L, 4960L: 110L, 4961L: 25L, 4962L: 87L, 4964L: 73L, 4965L: 55L, 4966L: 125L, 4967L: 16L, 4968L: 45L, 4969L: 57L, 4970L: 56L, 4971L: 67L, 4972L: 69L, 4973L: 80L, 4974L: 30L, 4975L: 42L, 4976L: 64L, 4977L: 24L, 4978L: 268L, 4979L: 23L, 4980L: 108L, 4981L: 179L, 4982L: 229L, 4983L: 205L, 4984L: 147L, 4985L: 50L, 4986L: 20L, 4987L: 10L, 4988L: 33L, 4989L: 51L, 4990L: 123L, 4991L: 86L, 4992L: 59L, 4993L: 120L, 4994L: 119L, 4995L: 199L, 4996L: 140L, 4997L: 134L, 4998L: 137L, 4999L: 146L}}\n"
     ]
    }
   ],
   "source": [
    "print(dict)"
   ]
  },
  {
   "cell_type": "code",
   "execution_count": 136,
   "metadata": {},
   "outputs": [],
   "source": [
    "agg2 = pd.DataFrame(index = range(1, 5000), data = dict)\n",
    "agg2 = agg2.fillna(0)"
   ]
  },
  {
   "cell_type": "code",
   "execution_count": 137,
   "metadata": {
    "scrolled": true
   },
   "outputs": [
    {
     "name": "stdout",
     "output_type": "stream",
     "text": [
      "      wa_cnt\n",
      "1      181.0\n",
      "2        5.0\n",
      "3      178.0\n",
      "4      298.0\n",
      "5      130.0\n",
      "6      164.0\n",
      "7      209.0\n",
      "8      171.0\n",
      "9      157.0\n",
      "10      32.0\n",
      "11     169.0\n",
      "12     258.0\n",
      "13     227.0\n",
      "14     250.0\n",
      "15      60.0\n",
      "16     162.0\n",
      "17     162.0\n",
      "18       6.0\n",
      "19     199.0\n",
      "20     163.0\n",
      "21       1.0\n",
      "22     136.0\n",
      "23      56.0\n",
      "24     194.0\n",
      "25     138.0\n",
      "26     284.0\n",
      "27     274.0\n",
      "28     101.0\n",
      "29     281.0\n",
      "30     272.0\n",
      "...      ...\n",
      "4970    56.0\n",
      "4971    67.0\n",
      "4972    69.0\n",
      "4973    80.0\n",
      "4974    30.0\n",
      "4975    42.0\n",
      "4976    64.0\n",
      "4977    24.0\n",
      "4978   268.0\n",
      "4979    23.0\n",
      "4980   108.0\n",
      "4981   179.0\n",
      "4982   229.0\n",
      "4983   205.0\n",
      "4984   147.0\n",
      "4985    50.0\n",
      "4986    20.0\n",
      "4987    10.0\n",
      "4988    33.0\n",
      "4989    51.0\n",
      "4990   123.0\n",
      "4991    86.0\n",
      "4992    59.0\n",
      "4993   120.0\n",
      "4994   119.0\n",
      "4995   199.0\n",
      "4996   140.0\n",
      "4997   134.0\n",
      "4998   137.0\n",
      "4999   146.0\n",
      "\n",
      "[4999 rows x 1 columns]\n"
     ]
    }
   ],
   "source": [
    "print(agg2)"
   ]
  },
  {
   "cell_type": "code",
   "execution_count": 141,
   "metadata": {},
   "outputs": [],
   "source": [
    "agg2 = agg2.astype('int64')"
   ]
  },
  {
   "cell_type": "code",
   "execution_count": 142,
   "metadata": {},
   "outputs": [
    {
     "name": "stdout",
     "output_type": "stream",
     "text": [
      "<class 'pandas.core.frame.DataFrame'>\n",
      "Int64Index: 4999 entries, 1 to 4999\n",
      "Data columns (total 1 columns):\n",
      "wa_cnt    4999 non-null int64\n",
      "dtypes: int64(1)\n",
      "memory usage: 78.1 KB\n",
      "None\n"
     ]
    }
   ],
   "source": [
    "print(agg2.info())"
   ]
  },
  {
   "cell_type": "code",
   "execution_count": 143,
   "metadata": {},
   "outputs": [],
   "source": [
    "agg2.to_csv('../data/train/train_feature_6.csv', index=True)"
   ]
  },
  {
   "cell_type": "code",
   "execution_count": 148,
   "metadata": {},
   "outputs": [],
   "source": [
    "tmp = train_wa_df['date'].value_counts()\n",
    "tmp = tmp.sort_index()"
   ]
  },
  {
   "cell_type": "code",
   "execution_count": 149,
   "metadata": {
    "scrolled": true
   },
   "outputs": [
    {
     "name": "stdout",
     "output_type": "stream",
     "text": [
      "1     106105\n",
      "2     111811\n",
      "3     127083\n",
      "4     120246\n",
      "5     111267\n",
      "6     114130\n",
      "7     114713\n",
      "8     120108\n",
      "9      96614\n",
      "10    109893\n",
      "11    129386\n",
      "12    110290\n",
      "13     90715\n",
      "14    128813\n",
      "15    140588\n",
      "16     97462\n",
      "17    102815\n",
      "18    112351\n",
      "19    123060\n",
      "20     59143\n",
      "21    113801\n",
      "22    100736\n",
      "23    101273\n",
      "24     90558\n",
      "25     91193\n",
      "26    105206\n",
      "27    103927\n",
      "28     99602\n",
      "29     67306\n",
      "30    103115\n",
      "31    134575\n",
      "32    131480\n",
      "33    115243\n",
      "34    105956\n",
      "35    105315\n",
      "36     94072\n",
      "37     99591\n",
      "38    100448\n",
      "39     84973\n",
      "40    107429\n",
      "41    116186\n",
      "42     96688\n",
      "43     96195\n",
      "44    108792\n",
      "45    107289\n",
      "Name: date, dtype: int64\n"
     ]
    }
   ],
   "source": [
    "print(tmp)"
   ]
  },
  {
   "cell_type": "code",
   "execution_count": 156,
   "metadata": {
    "scrolled": true
   },
   "outputs": [
    {
     "name": "stdout",
     "output_type": "stream",
     "text": [
      "1        95\n",
      "2         1\n",
      "3        28\n",
      "4       124\n",
      "5        48\n",
      "6        30\n",
      "7        42\n",
      "8       379\n",
      "9        15\n",
      "10       34\n",
      "11        5\n",
      "12      187\n",
      "13        2\n",
      "14       95\n",
      "15       30\n",
      "16       89\n",
      "17       55\n",
      "18       42\n",
      "19      106\n",
      "20       76\n",
      "21        2\n",
      "22       39\n",
      "23        2\n",
      "24      184\n",
      "25      203\n",
      "26      134\n",
      "27      121\n",
      "28       96\n",
      "29       53\n",
      "30       49\n",
      "       ... \n",
      "4970     62\n",
      "4971     30\n",
      "4972     22\n",
      "4973    137\n",
      "4974     17\n",
      "4975     36\n",
      "4976     21\n",
      "4977     25\n",
      "4978      1\n",
      "4979      7\n",
      "4980     61\n",
      "4981      1\n",
      "4982     30\n",
      "4983     14\n",
      "4984     19\n",
      "4985      8\n",
      "4986     30\n",
      "4987      7\n",
      "4988      4\n",
      "4989      4\n",
      "4990     30\n",
      "4991     31\n",
      "4992     18\n",
      "4993      7\n",
      "4994      3\n",
      "4995      6\n",
      "4996      2\n",
      "4997      3\n",
      "4998      3\n",
      "4999      6\n",
      "Name: uid, Length: 4959, dtype: int64\n"
     ]
    }
   ],
   "source": [
    "tmp = train_sms_df['uid'].value_counts().sort_index()\n",
    "print(tmp)"
   ]
  },
  {
   "cell_type": "code",
   "execution_count": 163,
   "metadata": {},
   "outputs": [],
   "source": [
    "t1 = train_sms_df[train_sms_df['in_out'] == 0]"
   ]
  },
  {
   "cell_type": "code",
   "execution_count": 169,
   "metadata": {
    "scrolled": true
   },
   "outputs": [
    {
     "name": "stdout",
     "output_type": "stream",
     "text": [
      "1        39\n",
      "4        19\n",
      "5         2\n",
      "6         1\n",
      "8       150\n",
      "11        4\n",
      "12       36\n",
      "14        8\n",
      "16        5\n",
      "17        8\n",
      "18        3\n",
      "19       39\n",
      "20       11\n",
      "22        1\n",
      "23        2\n",
      "24       61\n",
      "25       28\n",
      "26       46\n",
      "27       31\n",
      "28        4\n",
      "30       11\n",
      "31       10\n",
      "32       92\n",
      "33       11\n",
      "34        9\n",
      "35        1\n",
      "37        1\n",
      "39        5\n",
      "40       17\n",
      "42        9\n",
      "       ... \n",
      "4963      1\n",
      "4965      4\n",
      "4966      7\n",
      "4967      5\n",
      "4968      6\n",
      "4969      4\n",
      "4970     50\n",
      "4971     15\n",
      "4972     12\n",
      "4973     57\n",
      "4974      3\n",
      "4975     17\n",
      "4976     11\n",
      "4977     25\n",
      "4978      1\n",
      "4981      1\n",
      "4982     22\n",
      "4983     14\n",
      "4984     19\n",
      "4986      9\n",
      "4988      4\n",
      "4990     24\n",
      "4991     13\n",
      "4992     16\n",
      "4993      2\n",
      "4994      3\n",
      "4995      6\n",
      "4996      2\n",
      "4997      3\n",
      "4998      3\n",
      "Name: uid, Length: 3618, dtype: int64\n"
     ]
    }
   ],
   "source": [
    "tmp = t1['uid'].value_counts().sort_index()\n",
    "print(tmp)"
   ]
  },
  {
   "cell_type": "code",
   "execution_count": 165,
   "metadata": {},
   "outputs": [],
   "source": [
    "tmp1 = tmp[tmp.index < 4100]\n",
    "tmp2 = tmp[tmp.index >= 4100]"
   ]
  },
  {
   "cell_type": "code",
   "execution_count": 166,
   "metadata": {},
   "outputs": [
    {
     "data": {
      "text/plain": [
       "count    2959.000000\n",
       "mean       13.653261\n",
       "std        32.163892\n",
       "min         1.000000\n",
       "25%         2.000000\n",
       "50%         4.000000\n",
       "75%        12.000000\n",
       "max       633.000000\n",
       "Name: uid, dtype: float64"
      ]
     },
     "execution_count": 166,
     "metadata": {},
     "output_type": "execute_result"
    }
   ],
   "source": [
    "tmp1.describe()"
   ]
  },
  {
   "cell_type": "code",
   "execution_count": 167,
   "metadata": {},
   "outputs": [
    {
     "data": {
      "text/plain": [
       "count     659.000000\n",
       "mean       53.675266\n",
       "std       145.993257\n",
       "min         1.000000\n",
       "25%         2.000000\n",
       "50%         6.000000\n",
       "75%        24.000000\n",
       "max      1181.000000\n",
       "Name: uid, dtype: float64"
      ]
     },
     "execution_count": 167,
     "metadata": {},
     "output_type": "execute_result"
    }
   ],
   "source": [
    "tmp2.describe()"
   ]
  },
  {
   "cell_type": "code",
   "execution_count": 168,
   "metadata": {
    "scrolled": true
   },
   "outputs": [
    {
     "name": "stdout",
     "output_type": "stream",
     "text": [
      "4101     12\n",
      "4102     45\n",
      "4103      2\n",
      "4104      8\n",
      "4105      2\n",
      "4106      1\n",
      "4107    686\n",
      "4108      5\n",
      "4109     14\n",
      "4111      4\n",
      "4113     17\n",
      "4116     15\n",
      "4117      2\n",
      "4118      9\n",
      "4119      9\n",
      "4120      8\n",
      "4121      2\n",
      "4122      3\n",
      "4124      2\n",
      "4125      4\n",
      "4131      3\n",
      "4133     29\n",
      "4135      6\n",
      "4136      8\n",
      "4137      1\n",
      "4138      6\n",
      "4139     22\n",
      "4140      2\n",
      "4142      5\n",
      "4143      1\n",
      "       ... \n",
      "4963      1\n",
      "4965      4\n",
      "4966      7\n",
      "4967      5\n",
      "4968      6\n",
      "4969      4\n",
      "4970     50\n",
      "4971     15\n",
      "4972     12\n",
      "4973     57\n",
      "4974      3\n",
      "4975     17\n",
      "4976     11\n",
      "4977     25\n",
      "4978      1\n",
      "4981      1\n",
      "4982     22\n",
      "4983     14\n",
      "4984     19\n",
      "4986      9\n",
      "4988      4\n",
      "4990     24\n",
      "4991     13\n",
      "4992     16\n",
      "4993      2\n",
      "4994      3\n",
      "4995      6\n",
      "4996      2\n",
      "4997      3\n",
      "4998      3\n",
      "Name: uid, Length: 659, dtype: int64\n"
     ]
    }
   ],
   "source": [
    "print(tmp2)"
   ]
  },
  {
   "cell_type": "code",
   "execution_count": 170,
   "metadata": {},
   "outputs": [],
   "source": [
    "dict = tmp.to_dict()\n",
    "tmp2 = pd.Series(index = range(1, 5000), data = dict)"
   ]
  },
  {
   "cell_type": "code",
   "execution_count": 171,
   "metadata": {},
   "outputs": [],
   "source": [
    "tmp2 = tmp2.fillna(0)"
   ]
  },
  {
   "cell_type": "code",
   "execution_count": 172,
   "metadata": {},
   "outputs": [],
   "source": [
    "tmp2 = tmp2.astype('int64')"
   ]
  },
  {
   "cell_type": "code",
   "execution_count": 173,
   "metadata": {},
   "outputs": [],
   "source": [
    "tmp2.to_csv('../data/train/train_feature_7.csv', index=True)"
   ]
  },
  {
   "cell_type": "code",
   "execution_count": 174,
   "metadata": {},
   "outputs": [],
   "source": [
    "t2 = train_sms_df[train_sms_df['in_out'] == 1]"
   ]
  },
  {
   "cell_type": "code",
   "execution_count": 175,
   "metadata": {},
   "outputs": [],
   "source": [
    "tmp = t2['uid'].value_counts().sort_index()"
   ]
  },
  {
   "cell_type": "code",
   "execution_count": 176,
   "metadata": {},
   "outputs": [],
   "source": [
    "tmp1 = tmp[tmp.index < 4100]\n",
    "tmp2 = tmp[tmp.index >= 4100]"
   ]
  },
  {
   "cell_type": "code",
   "execution_count": 177,
   "metadata": {},
   "outputs": [
    {
     "data": {
      "text/plain": [
       "count    3266.000000\n",
       "mean       63.237906\n",
       "std       115.727337\n",
       "min         1.000000\n",
       "25%        12.000000\n",
       "50%        31.000000\n",
       "75%        75.000000\n",
       "max      3478.000000\n",
       "Name: uid, dtype: float64"
      ]
     },
     "execution_count": 177,
     "metadata": {},
     "output_type": "execute_result"
    }
   ],
   "source": [
    "tmp1.describe()"
   ]
  },
  {
   "cell_type": "code",
   "execution_count": 178,
   "metadata": {},
   "outputs": [
    {
     "data": {
      "text/plain": [
       "count    712.000000\n",
       "mean      29.029494\n",
       "std       36.342533\n",
       "min        1.000000\n",
       "25%        7.000000\n",
       "50%       17.000000\n",
       "75%       37.000000\n",
       "max      270.000000\n",
       "Name: uid, dtype: float64"
      ]
     },
     "execution_count": 178,
     "metadata": {},
     "output_type": "execute_result"
    }
   ],
   "source": [
    "tmp2.describe()"
   ]
  },
  {
   "cell_type": "code",
   "execution_count": 179,
   "metadata": {},
   "outputs": [],
   "source": [
    "dict = tmp.to_dict()\n",
    "tmp2 = pd.Series(index = range(1, 5000), data = dict)"
   ]
  },
  {
   "cell_type": "code",
   "execution_count": 180,
   "metadata": {},
   "outputs": [],
   "source": [
    "tmp2 = tmp2.fillna(0)"
   ]
  },
  {
   "cell_type": "code",
   "execution_count": 181,
   "metadata": {},
   "outputs": [],
   "source": [
    "tmp2 = tmp2.astype('int64')"
   ]
  },
  {
   "cell_type": "code",
   "execution_count": 182,
   "metadata": {},
   "outputs": [],
   "source": [
    "tmp2.to_csv('../data/train/train_feature_8.csv', index=True)"
   ]
  },
  {
   "cell_type": "markdown",
   "metadata": {},
   "source": [
    "# Feature 21"
   ]
  },
  {
   "cell_type": "code",
   "execution_count": 9,
   "metadata": {
    "scrolled": true
   },
   "outputs": [
    {
     "name": "stdout",
     "output_type": "stream",
     "text": [
      "uid\n",
      "1       [5, 7, 10, 14, 18, 2, 4, 22, 24, 3, 23, 109, 1...\n",
      "2            [4, 6, 1, 2, 13, 3, 7, 9, 16, 22, 14, 24, 8]\n",
      "3       [1, 2, 3, 5, 6, 7, 10, 11, 15, 4, 12, 71, 106,...\n",
      "4       [2, 15, 1, 3, 5, 14, 18, 4, 6, 8, 9, 7, 21, 10...\n",
      "5       [2, 8, 11, 32, 46, 5, 77, 128, 1, 3, 4, 6, 7, ...\n",
      "6       [1, 15, 17, 6, 7, 8, 13, 16, 22, 29, 36, 72, 3...\n",
      "7       [2, 6, 4, 5, 18, 1, 8, 21, 7, 11, 32, 41, 270,...\n",
      "8       [1, 7, 2, 8, 11, 3, 4, 63, 175, 249, 5, 6, 9, ...\n",
      "9       [2, 7, 93, 12, 3, 5, 16, 10, 122, 1, 4, 6, 46,...\n",
      "10      [1, 6, 7, 15, 20, 23, 102, 555, 981, 16, 46, 4...\n",
      "11      [14, 2, 1, 21, 6, 7, 16, 18, 29, 19, 64, 108, ...\n",
      "12      [1, 2, 6, 7, 9, 4, 3, 5, 10, 18, 21, 23, 19, 2...\n",
      "13      [1, 4, 2, 3, 51, 8, 9, 18, 144, 266, 324, 5, 7...\n",
      "14      [2, 1, 3, 6, 11, 4, 16, 5, 7, 13, 55, 90, 96, ...\n",
      "15      [1, 2, 3, 4, 5, 6, 7, 9, 13, 14, 16, 21, 8, 23...\n",
      "16      [2, 3, 1, 6, 10, 38, 115, 201, 7, 4, 5, 8, 12,...\n",
      "17      [1, 4, 2, 6, 7, 21, 28, 3, 67, 90, 122, 5, 11,...\n",
      "18                                              [1, 6, 7]\n",
      "19      [1, 2, 3, 4, 11, 15, 18, 22, 26, 29, 32, 37, 4...\n",
      "20      [3, 4, 1, 6, 8, 29, 49, 86, 5, 7, 2, 11, 14, 1...\n",
      "21                                                    [1]\n",
      "22      [3, 4, 1, 2, 9, 10, 12, 14, 88, 214, 301, 5, 8...\n",
      "23      [1, 2, 41, 97, 4, 3, 18, 31, 25, 7, 11, 6, 10,...\n",
      "24      [1, 2, 3, 4, 5, 10, 13, 6, 16, 84, 170, 258, 4...\n",
      "25      [7, 15, 5, 9, 12, 1, 2, 57, 189, 216, 4, 11, 3...\n",
      "26      [1, 2, 3, 4, 6, 18, 13, 9, 12, 24, 27, 31, 32,...\n",
      "27      [22, 11, 1, 3, 2, 5, 4, 16, 8, 10, 12, 6, 43, ...\n",
      "28      [1, 2, 3, 8, 5, 4, 6, 7, 9, 10, 11, 14, 15, 19...\n",
      "29      [1, 33, 2, 3, 4, 5, 6, 7, 8, 110, 11, 27, 29, ...\n",
      "30      [1, 2, 5, 7, 9, 6, 4, 8, 10, 14, 3, 20, 11, 26...\n",
      "                              ...                        \n",
      "4970    [1, 2, 3, 4, 7, 8, 12, 44, 48, 347, 351, 427, ...\n",
      "4971    [24, 1, 13, 8, 4, 5, 2, 3, 29, 43, 44, 61, 71,...\n",
      "4972    [3, 1, 2, 5, 9, 455, 460, 562, 617, 669, 935, ...\n",
      "4973    [1, 3, 2, 11, 41, 212, 428, 444, 673, 793, 857...\n",
      "4974    [1, 12, 13, 19, 57, 193, 218, 265, 369, 2, 8, ...\n",
      "4975    [2, 1, 9, 28, 78, 137, 203, 391, 428, 3, 4, 7,...\n",
      "4976    [1, 15, 18, 5, 14, 11, 6, 12, 65, 79, 123, 124...\n",
      "4977    [1, 7, 13, 5, 6, 2, 14, 4, 19, 34, 3, 10, 15, ...\n",
      "4978    [1, 2, 3, 4, 20, 7, 6, 27, 5, 10, 29, 31, 33, ...\n",
      "4979        [8, 3, 17, 7, 11, 1, 2, 80, 13, 6, 33, 10, 5]\n",
      "4980    [2, 1, 5, 6, 21, 4, 3, 41, 77, 92, 12, 40, 49,...\n",
      "4981    [3, 1, 4, 10, 23, 2, 46, 5, 6, 7, 16, 8, 12, 2...\n",
      "4982    [1, 3, 5, 6, 14, 2, 11, 4, 7, 8, 10, 12, 13, 1...\n",
      "4983    [1, 2, 3, 4, 5, 7, 110, 326, 847, 10, 11, 155,...\n",
      "4984    [2, 4, 5, 6, 1, 26, 444, 8, 16, 3, 10, 14, 7, ...\n",
      "4985    [2, 5, 4, 1, 39, 8, 15, 3, 697, 184, 29, 52, 1...\n",
      "4986                      [1, 2, 4, 10, 5, 28, 6, 144, 8]\n",
      "4987                   [8, 41, 45, 15, 20, 11, 1, 19, 10]\n",
      "4988    [2, 16, 1, 4, 6, 30, 3, 22, 18, 25, 106, 12, 5...\n",
      "4989    [10, 1, 322, 331, 2, 14, 4, 9, 24, 8, 78, 104,...\n",
      "4990    [1, 3, 4, 5, 7, 8, 10, 11, 12, 13, 17, 23, 29,...\n",
      "4991    [2, 1, 6, 11, 12, 33, 4, 7, 8, 9, 16, 27, 42, ...\n",
      "4992    [1, 21, 68, 4, 8, 31, 5, 50, 2, 6, 9, 3, 7, 35...\n",
      "4993    [1, 7, 6, 8, 9, 10, 11, 12, 13, 14, 16, 17, 19...\n",
      "4994    [1, 2, 6, 10, 11, 30, 67, 3, 4, 5, 9, 40, 14, ...\n",
      "4995    [1, 2, 3, 5, 6, 8, 9, 244, 334, 403, 4, 7, 57,...\n",
      "4996    [1, 2, 514, 1385, 30, 83, 112, 212, 5, 6, 3, 1...\n",
      "4997    [1, 538, 1105, 3, 19, 27, 51, 57, 12, 17, 4, 7...\n",
      "4998    [207, 1137, 1, 3, 23, 4, 10, 52, 178, 158, 866...\n",
      "4999    [1, 2, 3, 5, 51, 84, 403, 6, 11, 14, 7, 8, 16,...\n",
      "Name: visit_cnt, Length: 4945, dtype: object\n"
     ]
    }
   ],
   "source": [
    "group = train_wa_df.groupby('uid')['visit_cnt']\n",
    "print(group.unique())"
   ]
  },
  {
   "cell_type": "code",
   "execution_count": 10,
   "metadata": {},
   "outputs": [],
   "source": [
    "visit_cnt = group.agg(['std', 'var', 'max','min','median','mean','sum', 'count', 'mad']).add_prefix('wa_visit_cnt_')"
   ]
  },
  {
   "cell_type": "code",
   "execution_count": 11,
   "metadata": {
    "scrolled": true
   },
   "outputs": [
    {
     "name": "stdout",
     "output_type": "stream",
     "text": [
      "      wa_visit_cnt_std  wa_visit_cnt_var  wa_visit_cnt_max  wa_visit_cnt_min  \\\n",
      "uid                                                                            \n",
      "1           290.475238      84375.863681              3747                 1   \n",
      "2             6.412734         41.123153                24                 1   \n",
      "3            62.825353       3947.025006              1227                 1   \n",
      "4           109.912263      12080.705578              1568                 1   \n",
      "5            58.997481       3480.702789               620                 1   \n",
      "6            59.782370       3573.931780               671                 1   \n",
      "7            90.342535       8161.773601              1385                 1   \n",
      "8            75.292851       5669.013394               570                 1   \n",
      "9            72.075247       5194.841296               782                 1   \n",
      "10          312.227684      97486.126704              2445                 1   \n",
      "11           84.095565       7072.064079               792                 1   \n",
      "12           80.114817       6418.383885               916                 1   \n",
      "13           55.091364       3035.058395               721                 1   \n",
      "14           73.354374       5380.864112              1141                 1   \n",
      "15           28.566609        816.051147               259                 1   \n",
      "16           38.719909       1499.231362               461                 1   \n",
      "17           48.150939       2318.512938               476                 1   \n",
      "18            2.857738          8.166667                 7                 1   \n",
      "19           90.325721       8158.735823              1238                 1   \n",
      "20           47.566066       2262.530628               648                 1   \n",
      "21                 NaN               NaN                 1                 1   \n",
      "22          107.709619      11601.362095              1716                 1   \n",
      "23           60.928462       3712.277435               469                 1   \n",
      "24           55.767401       3110.002985               605                 1   \n",
      "25           96.765117       9363.487876               857                 1   \n",
      "26           79.989536       6398.325926              1168                 1   \n",
      "27           60.220700       3626.532671               719                 1   \n",
      "28           93.101729       8667.931942              1039                 1   \n",
      "29          279.179360      77941.115107              4799                 1   \n",
      "30          120.427920      14502.883818              1930                 1   \n",
      "...                ...               ...               ...               ...   \n",
      "4970        130.589651      17053.657034               856                 1   \n",
      "4971         35.970821       1293.899967               371                 1   \n",
      "4972        243.503368      59293.890165              1597                 1   \n",
      "4973        247.933803      61471.170818              1830                 1   \n",
      "4974        125.318944      15704.837677               814                 1   \n",
      "4975         85.239348       7265.746490               428                 1   \n",
      "4976         93.203986       8686.983085               621                 1   \n",
      "4977         30.732710        944.499463               210                 1   \n",
      "4978        135.612331      18390.704396              2218                 1   \n",
      "4979         16.781083        281.604743                80                 1   \n",
      "4980         57.999158       3363.902290               630                 1   \n",
      "4981         38.462726       1479.381305               453                 1   \n",
      "4982        101.523154      10306.950792              1140                 1   \n",
      "4983         60.166511       3620.009093               847                 1   \n",
      "4984        257.788389      66454.853724              2877                 1   \n",
      "4985         97.389699       9484.753521               697                 1   \n",
      "4986         31.621570        999.923684               144                 1   \n",
      "4987         14.231811        202.544444                45                 1   \n",
      "4988         18.566230        344.704878               106                 1   \n",
      "4989        141.829985      20115.744637               894                 1   \n",
      "4990        193.869106      37585.230272              2188                 1   \n",
      "4991        413.408902     170906.919867              3174                 1   \n",
      "4992        244.958901      60004.863214              2100                 1   \n",
      "4993        281.312946      79136.973428              2345                 1   \n",
      "4994        387.538643     150186.199812              4861                 1   \n",
      "4995        207.457114      43038.454292              2215                 1   \n",
      "4996        234.323012      54907.273781              2469                 1   \n",
      "4997        383.497470     147070.309769              4743                 1   \n",
      "4998        251.237726      63120.395189              2247                 1   \n",
      "4999         78.863663       6219.477387              1634                 1   \n",
      "\n",
      "      wa_visit_cnt_median  wa_visit_cnt_mean  wa_visit_cnt_sum  \\\n",
      "uid                                                              \n",
      "1                     5.0          84.583550             97694   \n",
      "2                     4.0           6.137931               178   \n",
      "3                     4.0          20.388175             23793   \n",
      "4                     3.0          33.708929             56631   \n",
      "5                     3.0          21.583463             13835   \n",
      "6                     3.0          15.406186              7472   \n",
      "7                     4.0          29.571429             38916   \n",
      "8                     3.0          26.779963             28601   \n",
      "9                     5.0          28.168539             30084   \n",
      "10                    6.0          79.965517              6957   \n",
      "11                    4.0          34.020906             39056   \n",
      "12                    4.0          29.101511             48163   \n",
      "13                    4.0          23.353803             33466   \n",
      "14                    3.0          23.239329             30490   \n",
      "15                    4.0          10.038462              2871   \n",
      "16                    3.0          16.259976             13447   \n",
      "17                    3.0          20.705113             17413   \n",
      "18                    1.0           2.833333                17   \n",
      "19                    4.0          33.335772             41003   \n",
      "20                    3.0          18.528879             16361   \n",
      "21                    1.0           1.000000                 1   \n",
      "22                    2.0          23.094891             12656   \n",
      "23                    6.0          29.187013             11237   \n",
      "24                    3.0          22.454611             31167   \n",
      "25                    4.0          37.015810             28095   \n",
      "26                    3.0          24.153909             29661   \n",
      "27                    3.0          20.578016             38378   \n",
      "28                    5.0          33.810924             24141   \n",
      "29                    7.0          75.220183            188577   \n",
      "30                    4.0          40.950166             61630   \n",
      "...                   ...                ...               ...   \n",
      "4970                  4.0          46.313043             10652   \n",
      "4971                  3.0          15.959184              3910   \n",
      "4972                  4.0         101.713725             25937   \n",
      "4973                  5.0          84.217544             24002   \n",
      "4974                  8.0          53.032000              6629   \n",
      "4975                  5.0          43.986755              6642   \n",
      "4976                  7.0          49.050179             13685   \n",
      "4977                  4.0          19.676923              2558   \n",
      "4978                  4.0          36.724638             50680   \n",
      "4979                  6.0          10.173913               234   \n",
      "4980                  3.0          20.285256              6329   \n",
      "4981                  3.0          12.945205              6615   \n",
      "4982                  4.0          30.418507             50951   \n",
      "4983                  3.0          19.508901             18631   \n",
      "4984                  6.0          86.818084             80654   \n",
      "4985                  3.0          29.916667              2154   \n",
      "4986                  4.0          12.150000               243   \n",
      "4987                 13.0          18.100000               181   \n",
      "4988                  3.0           9.536585               391   \n",
      "4989                  6.0          57.269663              5097   \n",
      "4990                  7.0          50.069421             30292   \n",
      "4991                  8.0         160.300792             60754   \n",
      "4992                  6.0          66.280000             14913   \n",
      "4993                  8.0          98.816448             82907   \n",
      "4994                  5.0         100.838235             41142   \n",
      "4995                  5.0          66.752653             81772   \n",
      "4996                  6.0          72.650262             69381   \n",
      "4997                  5.0         120.026442             99862   \n",
      "4998                  5.0          90.888761             79255   \n",
      "4999                  3.0          18.302655             10341   \n",
      "\n",
      "      wa_visit_cnt_count  wa_visit_cnt_mad  \n",
      "uid                                         \n",
      "1                   1155        127.718554  \n",
      "2                     29          4.879905  \n",
      "3                   1167         26.237332  \n",
      "4                   1680         47.521935  \n",
      "5                    641         28.672078  \n",
      "6                    485         20.290352  \n",
      "7                   1316         40.825445  \n",
      "8                   1068         38.371209  \n",
      "9                   1068         35.795775  \n",
      "10                    87        127.180341  \n",
      "11                  1148         46.143992  \n",
      "12                  1655         38.509195  \n",
      "13                  1433         29.962549  \n",
      "14                  1312         32.674780  \n",
      "15                   286         11.471759  \n",
      "16                   827         21.020226  \n",
      "17                   841         26.480539  \n",
      "18                     6          2.444444  \n",
      "19                  1230         44.874438  \n",
      "20                   883         24.001665  \n",
      "21                     1          0.000000  \n",
      "22                   548         32.722894  \n",
      "23                   385         34.650228  \n",
      "24                  1388         29.377368  \n",
      "25                   759         49.985887  \n",
      "26                  1228         32.309300  \n",
      "27                  1865         27.539208  \n",
      "28                   714         44.789798  \n",
      "29                  2507        106.206534  \n",
      "30                  1505         57.344193  \n",
      "...                  ...               ...  \n",
      "4970                 230         66.681890  \n",
      "4971                 245         19.520367  \n",
      "4972                 255        145.001922  \n",
      "4973                 285        121.953266  \n",
      "4974                 125         65.823616  \n",
      "4975                 151         56.549186  \n",
      "4976                 279         61.307434  \n",
      "4977                 130         21.747692  \n",
      "4978                1380         52.827200  \n",
      "4979                  23          8.967864  \n",
      "4980                 312         27.224523  \n",
      "4981                 511         15.681152  \n",
      "4982                1675         43.221770  \n",
      "4983                 955         26.149860  \n",
      "4984                 929        126.456632  \n",
      "4985                  72         42.775463  \n",
      "4986                  20         14.770000  \n",
      "4987                  10         10.520000  \n",
      "4988                  41         10.398572  \n",
      "4989                  89         83.931574  \n",
      "4990                 605         67.265296  \n",
      "4991                 379        238.492060  \n",
      "4992                 225         99.278578  \n",
      "4993                 839        136.709256  \n",
      "4994                 408        149.200980  \n",
      "4995                1225         97.750197  \n",
      "4996                 955        104.550698  \n",
      "4997                 832        180.176007  \n",
      "4998                 872        133.597648  \n",
      "4999                 565         24.491515  \n",
      "\n",
      "[4945 rows x 9 columns]\n"
     ]
    }
   ],
   "source": [
    "print(visit_cnt)"
   ]
  },
  {
   "cell_type": "markdown",
   "metadata": {},
   "source": [
    "# Feature 22"
   ]
  },
  {
   "cell_type": "code",
   "execution_count": 12,
   "metadata": {},
   "outputs": [],
   "source": [
    "visit_dura = train_wa_df.groupby(['uid'])['visit_dura'].agg(['std', 'var', 'max','min','median','mean','sum', 'count', 'mad']).add_prefix('wa_visit_dura_')"
   ]
  },
  {
   "cell_type": "code",
   "execution_count": 13,
   "metadata": {},
   "outputs": [
    {
     "name": "stdout",
     "output_type": "stream",
     "text": [
      "      wa_visit_dura_std  wa_visit_dura_var  wa_visit_dura_max  \\\n",
      "uid                                                             \n",
      "1         296715.319506       8.803998e+10            3009726   \n",
      "2          19554.843909       3.823919e+08              62819   \n",
      "3          83464.179838       6.966269e+09            1118099   \n",
      "4         128052.491187       1.639744e+10            2008191   \n",
      "5          72239.474882       5.218542e+09             890073   \n",
      "6          70705.787643       4.999308e+09             972334   \n",
      "7         110932.747700       1.230607e+10            2039039   \n",
      "8          89596.617020       8.027554e+09             713696   \n",
      "9          96882.031426       9.386128e+09             898854   \n",
      "10        372380.918312       1.386675e+11            2882400   \n",
      "11         94545.263505       8.938807e+09            1230085   \n",
      "12        106518.868804       1.134627e+10            1194803   \n",
      "13         68555.671887       4.699880e+09             924451   \n",
      "14         97704.985982       9.546264e+09            1370441   \n",
      "15         60940.146714       3.713701e+09             532088   \n",
      "16         51181.667299       2.619563e+09             416254   \n",
      "17         54429.196120       2.962537e+09             541948   \n",
      "18          7552.955651       5.704714e+07              20472   \n",
      "19        117873.008764       1.389405e+10            1771725   \n",
      "20         57410.476362       3.295963e+09             764202   \n",
      "21                  NaN                NaN               5606   \n",
      "22        162928.289828       2.654563e+10            2762246   \n",
      "23        101364.254860       1.027471e+10             782684   \n",
      "24         74468.702873       5.545588e+09             969300   \n",
      "25        113315.308862       1.284036e+10            1134966   \n",
      "26        107807.571843       1.162247e+10            1640801   \n",
      "27         73275.532819       5.369304e+09             943633   \n",
      "28        148020.164196       2.190997e+10            2001972   \n",
      "29        363075.411305       1.318238e+11            7087659   \n",
      "30        185137.783092       3.427600e+10            3159718   \n",
      "...                 ...                ...                ...   \n",
      "4970      163027.793577       2.657806e+10            1247200   \n",
      "4971       44372.451807       1.968914e+09             334045   \n",
      "4972      328981.195982       1.082286e+11            3186124   \n",
      "4973      358746.969391       1.286994e+11            3146295   \n",
      "4974      203149.694735       4.126980e+10            1380460   \n",
      "4975      120291.977835       1.447016e+10             688984   \n",
      "4976      132678.726430       1.760364e+10            1051073   \n",
      "4977       53838.086692       2.898540e+09             230129   \n",
      "4978      171714.915016       2.948601e+10            2396299   \n",
      "4979       19666.306196       3.867636e+08              86001   \n",
      "4980       67587.421484       4.568060e+09             795535   \n",
      "4981       33332.284622       1.111041e+09             546596   \n",
      "4982      131635.078732       1.732779e+10            1403264   \n",
      "4983       83142.177144       6.912622e+09             949636   \n",
      "4984      320619.412775       1.027968e+11            4453074   \n",
      "4985      129553.024605       1.678399e+10             936850   \n",
      "4986       41392.762048       1.713361e+09             187929   \n",
      "4987       17763.693280       3.155488e+08              48100   \n",
      "4988       29943.322652       8.966026e+08             177632   \n",
      "4989      218751.612890       4.785227e+10            1259938   \n",
      "4990      361999.775438       1.310438e+11            4089960   \n",
      "4991      944969.586988       8.929675e+11            8960722   \n",
      "4992      384781.387074       1.480567e+11            3300645   \n",
      "4993      514986.483433       2.652111e+11            4345683   \n",
      "4994      726617.577314       5.279731e+11            9557905   \n",
      "4995      288721.079509       8.335986e+10            3633611   \n",
      "4996      271812.230846       7.388189e+10            2456890   \n",
      "4997      688030.926138       4.733866e+11            9241929   \n",
      "4998      319960.392568       1.023747e+11            2652443   \n",
      "4999       90551.596272       8.199592e+09            1858065   \n",
      "\n",
      "      wa_visit_dura_min  wa_visit_dura_median  wa_visit_dura_mean  \\\n",
      "uid                                                                 \n",
      "1                     0                6007.0        96725.498701   \n",
      "2                     0                9990.0        15229.413793   \n",
      "3                     0                4247.0        25471.857755   \n",
      "4                     0                4697.0        40928.322619   \n",
      "5                     0                4281.0        25504.252730   \n",
      "6                     0                2675.0        17260.985567   \n",
      "7                     0                4160.5        32622.485562   \n",
      "8                     0                3500.0        31281.470037   \n",
      "9                     0                5846.0        35580.856742   \n",
      "10                    0                3741.0        82942.885057   \n",
      "11                    0                5631.5        38830.796167   \n",
      "12                    0                5107.0        38149.304532   \n",
      "13                    0                4543.0        27801.955338   \n",
      "14                    0                3145.5        29135.566311   \n",
      "15                    0                5624.5        19844.286713   \n",
      "16                    0                3064.0        21016.505441   \n",
      "17                    0                4342.0        23522.329370   \n",
      "18                    0                6000.5         6799.333333   \n",
      "19                    0                4562.0        40438.496748   \n",
      "20                    0                3470.0        21254.482446   \n",
      "21                 5606                5606.0         5606.000000   \n",
      "22                    0                2133.5        30442.266423   \n",
      "23                    0                9575.0        45610.844156   \n",
      "24                    0                4056.5        27606.825648   \n",
      "25                    0                4762.0        40247.046113   \n",
      "26                    0                4005.0        30146.064332   \n",
      "27                    0                3317.0        23760.597319   \n",
      "28                    0                6631.5        48457.645658   \n",
      "29                    0                8394.0        95069.215796   \n",
      "30                    0                5648.0        59637.398007   \n",
      "...                 ...                   ...                 ...   \n",
      "4970                  0                6454.0        58698.013043   \n",
      "4971                  0                4787.0        20167.763265   \n",
      "4972                  0                5360.0       123962.435294   \n",
      "4973                  0                7943.0       108096.270175   \n",
      "4974                  0               11689.0        76622.216000   \n",
      "4975                  0                7645.0        59215.940397   \n",
      "4976                  0               10767.0        61764.100358   \n",
      "4977                  0                5307.5        31679.192308   \n",
      "4978                  0                4226.5        45654.471014   \n",
      "4979                  0                5313.0        12985.956522   \n",
      "4980                  0                3406.0        23466.483974   \n",
      "4981                  0                3600.0        12438.573386   \n",
      "4982                  0                4196.0        38395.448358   \n",
      "4983                  0                3371.0        26198.695288   \n",
      "4984                  0                8197.0       112052.799785   \n",
      "4985                  0                3707.5        37276.291667   \n",
      "4986                 78                5928.5        16246.000000   \n",
      "4987                  0               18487.5        21357.600000   \n",
      "4988                  0                3061.0        12311.926829   \n",
      "4989                  0               10618.0        86376.022472   \n",
      "4990                  0                9250.0        83849.277686   \n",
      "4991                  0               13662.0       308118.395778   \n",
      "4992                  0                8944.0       107394.075556   \n",
      "4993                  0                9807.0       158232.227652   \n",
      "4994                  0                5336.0       166225.289216   \n",
      "4995                  0                7701.0        93255.952653   \n",
      "4996                  0               10674.0        99807.765445   \n",
      "4997                  0                8297.0       179032.879808   \n",
      "4998                  0                8387.0       122443.370413   \n",
      "4999                  0                3567.0        21026.890265   \n",
      "\n",
      "      wa_visit_dura_sum  wa_visit_dura_count  wa_visit_dura_mad  \n",
      "uid                                                              \n",
      "1             111717951                 1155      143605.929409  \n",
      "2                441653                   29       14563.564804  \n",
      "3              29725658                 1167       33794.173361  \n",
      "4              68759582                 1680       57944.788428  \n",
      "5              16348226                  641       33687.859327  \n",
      "6               8371578                  485       23972.758448  \n",
      "7              42931191                 1316       45800.210206  \n",
      "8              33408610                 1068       45627.941993  \n",
      "9              38000355                 1068       46476.867999  \n",
      "10              7216031                   87      135677.032633  \n",
      "11             44577754                 1148       52209.551992  \n",
      "12             63137099                 1655       51576.694111  \n",
      "13             39840202                 1433       36412.267279  \n",
      "14             38225863                 1312       42121.335977  \n",
      "15              5675466                  286       24943.232481  \n",
      "16             17380650                  827       28706.462408  \n",
      "17             19782279                  841       30281.514040  \n",
      "18                40796                    6        5187.000000  \n",
      "19             49739351                 1230       56082.871943  \n",
      "20             18767708                  883       28138.378995  \n",
      "21                 5606                    1           0.000000  \n",
      "22             16682362                  548       45248.035591  \n",
      "23             17560175                  385       54643.550616  \n",
      "24             38318274                 1388       37073.803692  \n",
      "25             30547508                  759       54691.015441  \n",
      "26             37019367                 1228       41497.205010  \n",
      "27             44313514                 1865       33124.546844  \n",
      "28             34598759                  714       65788.378332  \n",
      "29            238338524                 2507      135872.420077  \n",
      "30             89754284                 1505       83613.584795  \n",
      "...                 ...                  ...                ...  \n",
      "4970           13500543                  230       81986.439168  \n",
      "4971            4941102                  245       24270.311237  \n",
      "4972           31610421                  255      175152.904821  \n",
      "4973           30807437                  285      156028.625546  \n",
      "4974            9577777                  125       97686.031232  \n",
      "4975            8941607                  151       75884.756897  \n",
      "4976           17232184                  279       77260.742488  \n",
      "4977            4118295                  130       40272.360947  \n",
      "4978           63003170                 1380       66820.637818  \n",
      "4979             298677                   23       12943.077505  \n",
      "4980            7321543                  312       31457.518368  \n",
      "4981            6356111                  511       14666.179181  \n",
      "4982           64312376                 1675       55224.019328  \n",
      "4983           25019754                  955       36241.964242  \n",
      "4984          104097051                  929      161614.803086  \n",
      "4985            2683893                   72       54516.030093  \n",
      "4986             324920                   20       19709.800000  \n",
      "4987             213576                   10       15128.720000  \n",
      "4988             504789                   41       15158.958953  \n",
      "4989            7687466                   89      125579.902033  \n",
      "4990           50728813                  605      120294.590839  \n",
      "4991          116776872                  379      466526.764531  \n",
      "4992           24163667                  225      163213.434785  \n",
      "4993          132756839                  839      226935.941701  \n",
      "4994           67819918                  408      254934.290970  \n",
      "4995          114238542                 1225      136265.198979  \n",
      "4996           95316416                  955      138958.432133  \n",
      "4997          148955356                  832      268440.913045  \n",
      "4998          106770619                  872      175805.810722  \n",
      "4999           11880193                  565       28307.295914  \n",
      "\n",
      "[4945 rows x 9 columns]\n"
     ]
    }
   ],
   "source": [
    "print(visit_dura)"
   ]
  },
  {
   "cell_type": "markdown",
   "metadata": {},
   "source": [
    "# Feature 23"
   ]
  },
  {
   "cell_type": "code",
   "execution_count": 14,
   "metadata": {},
   "outputs": [],
   "source": [
    "up_flow = train_wa_df.groupby(['uid'])['up_flow'].agg(['std', 'var', 'max','min','median','mean','sum', 'count', 'mad']).add_prefix('wa_up_flow_')"
   ]
  },
  {
   "cell_type": "code",
   "execution_count": 15,
   "metadata": {},
   "outputs": [
    {
     "name": "stdout",
     "output_type": "stream",
     "text": [
      "      wa_up_flow_std  wa_up_flow_var  wa_up_flow_max  wa_up_flow_min  \\\n",
      "uid                                                                    \n",
      "1       7.491854e+05    5.612787e+11        10720264               0   \n",
      "2       5.429254e+03    2.947680e+07           22319               0   \n",
      "3       3.566241e+05    1.271808e+11         8915918               0   \n",
      "4       9.327114e+05    8.699506e+11        27479806               0   \n",
      "5       5.071817e+05    2.572333e+11        12441601               0   \n",
      "6       2.105439e+06    4.432873e+12        46095985               0   \n",
      "7       9.421496e+05    8.876458e+11        32109547               0   \n",
      "8       3.141883e+05    9.871431e+10         4573135               0   \n",
      "9       1.750673e+06    3.064857e+12        51606288               0   \n",
      "10      5.710374e+05    3.260837e+11         4814235              66   \n",
      "11      1.298793e+06    1.686862e+12        33152266               0   \n",
      "12      4.637899e+05    2.151010e+11        12324452               0   \n",
      "13      4.805088e+05    2.308887e+11        14764223               0   \n",
      "14      3.975178e+05    1.580204e+11         5376704               0   \n",
      "15      2.832315e+05    8.022009e+10         2837380               0   \n",
      "16      4.239086e+05    1.796985e+11         9347440               0   \n",
      "17      6.124350e+06    3.750766e+13       175768007               0   \n",
      "18      8.529648e+03    7.275489e+07           21074              88   \n",
      "19      4.068478e+05    1.655251e+11         7441346               0   \n",
      "20      1.501044e+06    2.253132e+12        44185367               0   \n",
      "21               NaN             NaN            1544            1544   \n",
      "22      5.547359e+05    3.077319e+11         8539196               0   \n",
      "23      2.667700e+05    7.116622e+10         2308126               0   \n",
      "24      3.018941e+06    9.114003e+12       112045080               0   \n",
      "25      3.189351e+05    1.017196e+11         3899084               0   \n",
      "26      2.545749e+06    6.480836e+12        58814585               0   \n",
      "27      2.179829e+05    4.751656e+10         6227581               0   \n",
      "28      5.265767e+06    2.772830e+13        70250683               0   \n",
      "29      2.335444e+06    5.454301e+12        37979760               0   \n",
      "30      4.352323e+06    1.894272e+13       103722019               0   \n",
      "...              ...             ...             ...             ...   \n",
      "4970    2.252347e+06    5.073065e+12        32158685               0   \n",
      "4971    5.403793e+05    2.920098e+11         8388984               0   \n",
      "4972    7.457827e+05    5.561919e+11         5215438               0   \n",
      "4973    1.732470e+06    3.001454e+12        27087454               0   \n",
      "4974    1.208246e+06    1.459858e+12        12742999              68   \n",
      "4975    7.808013e+05    6.096506e+11         7894782              40   \n",
      "4976    7.083177e+05    5.017139e+11         8127851               0   \n",
      "4977    2.820610e+04    7.955840e+08          137125              40   \n",
      "4978    1.167289e+06    1.362564e+12        29599378               0   \n",
      "4979    2.659585e+04    7.073394e+08          107870              40   \n",
      "4980    5.206149e+05    2.710399e+11         8741600              40   \n",
      "4981    1.236219e+05    1.528238e+10         1634692               0   \n",
      "4982    8.581595e+05    7.364377e+11        18002708               0   \n",
      "4983    4.857183e+05    2.359223e+11         9012692               0   \n",
      "4984    1.582485e+06    2.504259e+12        34707560               0   \n",
      "4985    1.844644e+05    3.402711e+10         1272460               0   \n",
      "4986    1.052180e+05    1.107082e+10          459892              60   \n",
      "4987    4.679984e+05    2.190225e+11         1492335              61   \n",
      "4988    9.716123e+04    9.440304e+09          424058               0   \n",
      "4989    3.198715e+05    1.023178e+11         2286803              56   \n",
      "4990    8.973362e+05    8.052123e+11        11627707               0   \n",
      "4991    2.291645e+06    5.251635e+12        24159773               0   \n",
      "4992    2.768534e+06    7.664780e+12        37219730               0   \n",
      "4993    1.807923e+06    3.268585e+12        18141334               0   \n",
      "4994    3.643335e+06    1.327389e+13        32820297               0   \n",
      "4995    1.111545e+06    1.235533e+12        18519522               0   \n",
      "4996    3.361085e+06    1.129689e+13        49885747               0   \n",
      "4997    2.235289e+06    4.996518e+12        34352589               0   \n",
      "4998    1.986361e+06    3.945630e+12        27154282               0   \n",
      "4999    3.157174e+05    9.967750e+10         4848956               0   \n",
      "\n",
      "      wa_up_flow_median  wa_up_flow_mean  wa_up_flow_sum  wa_up_flow_count  \\\n",
      "uid                                                                          \n",
      "1                6067.0    172279.362771       198982664              1155   \n",
      "2                2453.0      4433.551724          128573                29   \n",
      "3                3633.0     60843.138817        71003943              1167   \n",
      "4                5785.5    181739.734524       305322754              1680   \n",
      "5                4101.0     63241.511700        40537809               641   \n",
      "6                2309.0    129938.410309        63020129               485   \n",
      "7                4432.0     93369.759119       122874603              1316   \n",
      "8                4071.0     79271.781835        84662263              1068   \n",
      "9                5681.5    160329.644195       171232060              1068   \n",
      "10               2829.0    106258.160920         9244460                87   \n",
      "11               5772.0    173824.382404       199550391              1148   \n",
      "12               5735.0    104211.596979       172470193              1655   \n",
      "13               5626.0     85832.708304       122998271              1433   \n",
      "14               3759.0     85905.342226       112707809              1312   \n",
      "15               1159.0     51648.143357        14771369               286   \n",
      "16               2425.0     72477.441354        59938844               827   \n",
      "17               3867.0    293082.607610       246482473               841   \n",
      "18                420.5      5173.666667           31042                 6   \n",
      "19               4052.0     90495.608943       111309599              1230   \n",
      "20               2918.0     99577.130238        87926606               883   \n",
      "21               1544.0      1544.000000            1544                 1   \n",
      "22               2366.5     91670.131387        50235232               548   \n",
      "23               9602.0     92318.701299        35542700               385   \n",
      "24               4494.5    149524.970461       207540659              1388   \n",
      "25               4660.0     92464.289855        70180396               759   \n",
      "26               2831.5    199689.557818       245218777              1228   \n",
      "27               2944.0     43969.217694        82002591              1865   \n",
      "28               5448.5    718733.648459       513175825               714   \n",
      "29              10348.0    399054.132429      1000428710              2507   \n",
      "30               8021.0    629228.140199       946988351              1505   \n",
      "...                 ...              ...             ...               ...   \n",
      "4970             9935.0    317637.408696        73056604               230   \n",
      "4971             6174.0     66796.106122        16365046               245   \n",
      "4972             7624.0    246790.847059        62931666               255   \n",
      "4973            17033.0    313494.782456        89346013               285   \n",
      "4974            12698.0    275520.112000        34440014               125   \n",
      "4975             8446.0    184030.284768        27788573               151   \n",
      "4976            11450.0    156180.903226        43574472               279   \n",
      "4977             2961.0     17507.638462         2275993               130   \n",
      "4978             4367.0    189243.332609       261155799              1380   \n",
      "4979             4845.0     15249.260870          350733                23   \n",
      "4980             3995.0     88749.317308        27689787               312   \n",
      "4981             3060.0     33075.350294        16901504               511   \n",
      "4982             3762.0    137717.020896       230676010              1675   \n",
      "4983             3996.0     91472.722513        87356450               955   \n",
      "4984            11871.0    328506.423036       305182467               929   \n",
      "4985             3159.0     52959.666667         3813096                72   \n",
      "4986             6402.5     39956.050000          799121                20   \n",
      "4987            13149.5    160860.700000         1608607                10   \n",
      "4988             3740.0     37072.439024         1519970                41   \n",
      "4989             8404.0    116268.438202        10347891                89   \n",
      "4990             9468.0    160439.203306        97065718               605   \n",
      "4991            21848.0    659677.899736       250017924               379   \n",
      "4992             5079.0    446953.448889       100564526               225   \n",
      "4993             8605.0    457352.817640       383719014               839   \n",
      "4994             4316.0    706038.776961       288063821               408   \n",
      "4995             8460.0    290965.131429       356432286              1225   \n",
      "4996            24581.0    868539.324607       829455055               955   \n",
      "4997            14348.0    544861.625000       453324872               832   \n",
      "4998            18523.0    586737.598624       511635186               872   \n",
      "4999             4407.0     66883.693805        37789287               565   \n",
      "\n",
      "      wa_up_flow_mad  \n",
      "uid                   \n",
      "1       2.641058e+05  \n",
      "2       3.824340e+03  \n",
      "3       9.212253e+04  \n",
      "4       2.825560e+05  \n",
      "5       9.415515e+04  \n",
      "6       2.320153e+05  \n",
      "7       1.479622e+05  \n",
      "8       1.236077e+05  \n",
      "9       2.581580e+05  \n",
      "10      1.829852e+05  \n",
      "11      2.774706e+05  \n",
      "12      1.527161e+05  \n",
      "13      1.252948e+05  \n",
      "14      1.361811e+05  \n",
      "15      8.965878e+04  \n",
      "16      1.114641e+05  \n",
      "17      5.117229e+05  \n",
      "18      6.554556e+03  \n",
      "19      1.392905e+05  \n",
      "20      1.608532e+05  \n",
      "21      0.000000e+00  \n",
      "22      1.480349e+05  \n",
      "23      1.293634e+05  \n",
      "24      2.442217e+05  \n",
      "25      1.416917e+05  \n",
      "26      3.486139e+05  \n",
      "27      6.555450e+04  \n",
      "28      1.303686e+06  \n",
      "29      6.585045e+05  \n",
      "30      1.026511e+06  \n",
      "...              ...  \n",
      "4970    5.279191e+05  \n",
      "4971    9.759394e+04  \n",
      "4972    3.646597e+05  \n",
      "4973    4.681289e+05  \n",
      "4974    4.131573e+05  \n",
      "4975    2.785617e+05  \n",
      "4976    2.288449e+05  \n",
      "4977    2.080405e+04  \n",
      "4978    3.025694e+05  \n",
      "4979    1.767736e+04  \n",
      "4980    1.319384e+05  \n",
      "4981    4.656013e+04  \n",
      "4982    2.257050e+05  \n",
      "4983    1.438117e+05  \n",
      "4984    5.079374e+05  \n",
      "4985    8.090806e+04  \n",
      "4986    5.512409e+04  \n",
      "4987    2.662949e+05  \n",
      "4988    5.351082e+04  \n",
      "4989    1.763493e+05  \n",
      "4990    2.574674e+05  \n",
      "4991    1.023344e+06  \n",
      "4992    7.809917e+05  \n",
      "4993    7.547130e+05  \n",
      "4994    1.203199e+06  \n",
      "4995    4.630975e+05  \n",
      "4996    1.327162e+06  \n",
      "4997    8.280728e+05  \n",
      "4998    8.818796e+05  \n",
      "4999    1.019466e+05  \n",
      "\n",
      "[4945 rows x 9 columns]\n"
     ]
    }
   ],
   "source": [
    "print(up_flow)"
   ]
  },
  {
   "cell_type": "markdown",
   "metadata": {},
   "source": [
    "# Feature 24"
   ]
  },
  {
   "cell_type": "code",
   "execution_count": 16,
   "metadata": {},
   "outputs": [],
   "source": [
    "down_flow = train_wa_df.groupby(['uid'])['down_flow'].agg(['std', 'var', 'max','min','median','mean','sum', 'count', 'mad']).add_prefix('wa_down_flow_')"
   ]
  },
  {
   "cell_type": "code",
   "execution_count": 17,
   "metadata": {
    "scrolled": true
   },
   "outputs": [
    {
     "name": "stdout",
     "output_type": "stream",
     "text": [
      "      wa_down_flow_std  wa_down_flow_var  wa_down_flow_max  wa_down_flow_min  \\\n",
      "uid                                                                            \n",
      "1         4.243115e+06      1.800402e+13          58773144                 0   \n",
      "2         3.908229e+03      1.527425e+07             15438                 0   \n",
      "3         1.445421e+07      2.089242e+14         457021859                 0   \n",
      "4         1.564955e+07      2.449086e+14         513377344                 0   \n",
      "5         1.617302e+06      2.615667e+12          28858654                 0   \n",
      "6         5.077495e+06      2.578095e+13         103213976                 0   \n",
      "7         7.410820e+06      5.492025e+13         112836250                 0   \n",
      "8         5.089598e+06      2.590400e+13         135764689                 0   \n",
      "9         1.291060e+07      1.666837e+14         337656393                 0   \n",
      "10        1.564141e+07      2.446536e+14         138291157                 0   \n",
      "11        1.300367e+07      1.690955e+14         346092306                 0   \n",
      "12        2.810322e+06      7.897908e+12          60102042                 0   \n",
      "13        2.395662e+06      5.739196e+12          40561150                 0   \n",
      "14        8.289316e+06      6.871277e+13         103558248                 0   \n",
      "15        8.046852e+05      6.475183e+11          13470274                 0   \n",
      "16        6.674621e+06      4.455057e+13          97779014                 0   \n",
      "17        4.310349e+06      1.857911e+13         114554427                 0   \n",
      "18        7.415055e+03      5.498303e+07             16920                53   \n",
      "19        1.010774e+07      1.021665e+14         245833520                 0   \n",
      "20        3.777547e+06      1.426986e+13          95287165                 0   \n",
      "21                 NaN               NaN              1942              1942   \n",
      "22        6.535090e+06      4.270740e+13         116106651                 0   \n",
      "23        1.052509e+06      1.107776e+12          13331383                 0   \n",
      "24        4.378021e+06      1.916707e+13         121888235                 0   \n",
      "25        5.898612e+06      3.479362e+13          84972050                 0   \n",
      "26        6.998707e+06      4.898191e+13         211787916                 0   \n",
      "27        1.646320e+06      2.710368e+12          40967804                 0   \n",
      "28        2.090974e+07      4.372173e+14         505603302                 0   \n",
      "29        9.154705e+07      8.380863e+15        1583538376                 0   \n",
      "30        8.505663e+07      7.234630e+15        1814024063                 0   \n",
      "...                ...               ...               ...               ...   \n",
      "4970      9.757889e+06      9.521639e+13          98548475                 0   \n",
      "4971      1.831619e+06      3.354828e+12          23412129                 0   \n",
      "4972      9.835833e+06      9.674361e+13         120028456                 0   \n",
      "4973      1.915417e+07      3.668823e+14         184918578                 0   \n",
      "4974      2.388390e+06      5.704407e+12          20631234                 0   \n",
      "4975      5.547216e+06      3.077160e+13          64439064                 0   \n",
      "4976      3.372262e+06      1.137215e+13          29438615                 0   \n",
      "4977      2.729882e+04      7.452256e+08            146806                 0   \n",
      "4978      2.899387e+07      8.406442e+14        1038466924                 0   \n",
      "4979      8.093320e+04      6.550182e+09            298305                 0   \n",
      "4980      8.361051e+06      6.990717e+13         132650520                 0   \n",
      "4981      3.731937e+06      1.392735e+13          63031442                 0   \n",
      "4982      2.025712e+07      4.103510e+14         409410310                 0   \n",
      "4983      2.058116e+07      4.235842e+14         565183260                 0   \n",
      "4984      2.984777e+07      8.908894e+14         661891965                 0   \n",
      "4985      8.870026e+05      7.867737e+11           6466243                 0   \n",
      "4986      8.680350e+05      7.534848e+11           3568148                 0   \n",
      "4987      2.111583e+07      4.458785e+14          66786138               106   \n",
      "4988      2.633884e+06      6.937346e+12          14805847                 0   \n",
      "4989      1.960075e+06      3.841894e+12          10786493                 0   \n",
      "4990      4.761752e+06      2.267428e+13          66058548                 0   \n",
      "4991      1.338915e+07      1.792692e+14         123629132                 0   \n",
      "4992      2.438681e+07      5.947163e+14         257004842                 0   \n",
      "4993      2.426294e+06      5.886901e+12          45427512                 0   \n",
      "4994      5.448867e+06      2.969015e+13          85769638                 0   \n",
      "4995      2.456824e+07      6.035984e+14         502647153                 0   \n",
      "4996      1.207991e+08      1.459241e+16        1437158215                 0   \n",
      "4997      9.766932e+07      9.539297e+15        1303596376                 0   \n",
      "4998      7.181134e+07      5.156868e+15        1113777834                 0   \n",
      "4999      5.907777e+06      3.490183e+13          89196104                 0   \n",
      "\n",
      "      wa_down_flow_median  wa_down_flow_mean  wa_down_flow_sum  \\\n",
      "uid                                                              \n",
      "1                  9683.0       8.325406e+05         961584381   \n",
      "2                  1656.0       3.267207e+03             94749   \n",
      "3                  5632.0       1.115881e+06        1302232575   \n",
      "4                 14205.0       2.082341e+06        3498333063   \n",
      "5                  6916.0       3.556163e+05         227950020   \n",
      "6                  2608.0       4.755078e+05         230621263   \n",
      "7                  7505.5       1.075190e+06        1414949738   \n",
      "8                  7290.0       7.347400e+05         784702356   \n",
      "9                  7619.0       1.936441e+06        2068118894   \n",
      "10                 1085.0       2.418370e+06         210398232   \n",
      "11                11541.0       1.342568e+06        1541267930   \n",
      "12                16293.0       6.242275e+05        1033096558   \n",
      "13                10390.0       4.835549e+05         692934170   \n",
      "14                 7180.0       1.471776e+06        1930970015   \n",
      "15                    0.0       6.254303e+04          17887307   \n",
      "16                 4971.0       1.111814e+06         919469789   \n",
      "17                 7494.0       5.390075e+05         453305348   \n",
      "18                  266.0       4.835667e+03             29014   \n",
      "19                 6075.5       8.829842e+05        1086070510   \n",
      "20                 4761.0       5.648156e+05         498732213   \n",
      "21                 1942.0       1.942000e+03              1942   \n",
      "22                 4696.5       1.061661e+06         581790399   \n",
      "23                20875.0       3.477432e+05         133881142   \n",
      "24                 6920.0       5.689311e+05         789676432   \n",
      "25                 7055.0       1.258904e+06         955508270   \n",
      "26                 4468.0       6.495176e+05         797607641   \n",
      "27                 4338.0       2.747711e+05         512448135   \n",
      "28                 4745.0       2.196650e+06        1568408257   \n",
      "29                14458.0       1.083895e+07       27173242162   \n",
      "30                16190.0       1.396419e+07       21016108083   \n",
      "...                   ...                ...               ...   \n",
      "4970              23228.5       2.009175e+06         462110208   \n",
      "4971              10942.0       3.213043e+05          78719556   \n",
      "4972              17242.0       2.279713e+06         581326849   \n",
      "4973              45255.0       4.559594e+06        1299484402   \n",
      "4974              19098.0       6.533351e+05          81666890   \n",
      "4975               6804.0       1.029362e+06         155433599   \n",
      "4976              11983.0       8.057558e+05         224805874   \n",
      "4977               1873.5       1.635365e+04           2125975   \n",
      "4978               7620.0       2.062181e+06        2845810396   \n",
      "4979               4764.0       4.144348e+04            953200   \n",
      "4980               6728.5       1.337866e+06         417414254   \n",
      "4981               3727.0       4.509464e+05         230433601   \n",
      "4982               5208.0       3.003104e+06        5030198364   \n",
      "4983               6697.0       1.958133e+06        1870016724   \n",
      "4984              21373.0       4.051547e+06        3763887558   \n",
      "4985               3588.5       2.035187e+05          14653349   \n",
      "4986              11502.5       2.821522e+05           5643043   \n",
      "4987              12402.0       6.689427e+06          66894272   \n",
      "4988               4992.0       6.616624e+05          27128159   \n",
      "4989              11060.0       4.616076e+05          41083077   \n",
      "4990               9898.0       7.727978e+05         467542691   \n",
      "4991              28886.0       3.702574e+06        1403275553   \n",
      "4992               7628.0       3.413120e+06         767951897   \n",
      "4993               9339.0       5.186728e+05         435166466   \n",
      "4994               6369.0       9.185812e+05         374781111   \n",
      "4995              16440.0       3.581854e+06        4387770619   \n",
      "4996              60711.0       2.104278e+07       20095857419   \n",
      "4997              36601.0       1.737689e+07       14457568563   \n",
      "4998              43303.0       1.662942e+07       14500856261   \n",
      "4999               5913.0       7.853431e+05         443718853   \n",
      "\n",
      "      wa_down_flow_count  wa_down_flow_mad  \n",
      "uid                                         \n",
      "1                   1155      1.395716e+06  \n",
      "2                     29      2.984754e+03  \n",
      "3                   1167      2.026603e+06  \n",
      "4                   1680      3.532353e+06  \n",
      "5                    641      5.819009e+05  \n",
      "6                    485      8.473776e+05  \n",
      "7                   1316      1.902931e+06  \n",
      "8                   1068      1.251224e+06  \n",
      "9                   1068      3.425989e+06  \n",
      "10                    87      4.584016e+06  \n",
      "11                  1148      2.325517e+06  \n",
      "12                  1655      9.647788e+05  \n",
      "13                  1433      7.686686e+05  \n",
      "14                  1312      2.523806e+06  \n",
      "15                   286      1.163701e+05  \n",
      "16                   827      1.936487e+06  \n",
      "17                   841      8.938799e+05  \n",
      "18                     6      6.198556e+03  \n",
      "19                  1230      1.520808e+06  \n",
      "20                   883      9.308030e+05  \n",
      "21                     1      0.000000e+00  \n",
      "22                   548      1.864860e+06  \n",
      "23                   385      4.937454e+05  \n",
      "24                  1388      9.425387e+05  \n",
      "25                   759      2.141272e+06  \n",
      "26                  1228      1.159853e+06  \n",
      "27                  1865      4.525759e+05  \n",
      "28                   714      3.971610e+06  \n",
      "29                  2507      2.005491e+07  \n",
      "30                  1505      2.422919e+07  \n",
      "...                  ...               ...  \n",
      "4970                 230      3.354880e+06  \n",
      "4971                 245      5.305174e+05  \n",
      "4972                 255      3.784815e+06  \n",
      "4973                 285      7.601893e+06  \n",
      "4974                 125      1.002876e+06  \n",
      "4975                 151      1.731039e+06  \n",
      "4976                 279      1.311940e+06  \n",
      "4977                 130      1.967064e+04  \n",
      "4978                1380      3.577511e+06  \n",
      "4979                  23      5.776118e+04  \n",
      "4980                 312      2.283524e+06  \n",
      "4981                 511      8.057579e+05  \n",
      "4982                1675      5.414519e+06  \n",
      "4983                 955      3.515715e+06  \n",
      "4984                 929      7.026854e+06  \n",
      "4985                  72      3.344936e+05  \n",
      "4986                  20      4.781541e+05  \n",
      "4987                  10      1.201934e+07  \n",
      "4988                  41      1.159360e+06  \n",
      "4989                  89      7.742637e+05  \n",
      "4990                 605      1.335928e+06  \n",
      "4991                 379      6.183530e+06  \n",
      "4992                 225      6.133727e+06  \n",
      "4993                 839      8.510052e+05  \n",
      "4994                 408      1.560224e+06  \n",
      "4995                1225      6.151581e+06  \n",
      "4996                 955      3.586502e+07  \n",
      "4997                 832      3.001074e+07  \n",
      "4998                 872      2.754957e+07  \n",
      "4999                 565      1.386173e+06  \n",
      "\n",
      "[4945 rows x 9 columns]\n"
     ]
    }
   ],
   "source": [
    "print(down_flow)"
   ]
  },
  {
   "cell_type": "markdown",
   "metadata": {},
   "source": [
    "# Feature 25"
   ]
  },
  {
   "cell_type": "code",
   "execution_count": 18,
   "metadata": {},
   "outputs": [],
   "source": [
    "group = train_wa_df.groupby('uid')['wa_name']"
   ]
  },
  {
   "cell_type": "code",
   "execution_count": 19,
   "metadata": {},
   "outputs": [
    {
     "name": "stderr",
     "output_type": "stream",
     "text": [
      "d:\\program files (x86)\\python\\lib\\site-packages\\ipykernel_launcher.py:1: FutureWarning: using a dict on a Series for aggregation\n",
      "is deprecated and will be removed in a future version\n",
      "  \"\"\"Entry point for launching an IPython kernel.\n"
     ]
    }
   ],
   "source": [
    "agg = group.aggregate({'wa_name': lambda x: x.nunique()})"
   ]
  },
  {
   "cell_type": "code",
   "execution_count": 20,
   "metadata": {},
   "outputs": [],
   "source": [
    "agg.rename(columns=lambda x:x.replace('wa_name','wa_name_count'), inplace=True)"
   ]
  },
  {
   "cell_type": "code",
   "execution_count": 21,
   "metadata": {
    "scrolled": true
   },
   "outputs": [
    {
     "name": "stdout",
     "output_type": "stream",
     "text": [
      "      wa_name_count\n",
      "uid                \n",
      "1               181\n",
      "2                 5\n",
      "3               178\n",
      "4               298\n",
      "5               130\n",
      "6               164\n",
      "7               209\n",
      "8               171\n",
      "9               157\n",
      "10               32\n",
      "11              169\n",
      "12              258\n",
      "13              227\n",
      "14              250\n",
      "15               60\n",
      "16              162\n",
      "17              162\n",
      "18                6\n",
      "19              199\n",
      "20              163\n",
      "21                1\n",
      "22              136\n",
      "23               56\n",
      "24              194\n",
      "25              138\n",
      "26              284\n",
      "27              274\n",
      "28              101\n",
      "29              281\n",
      "30              272\n",
      "...             ...\n",
      "4970             56\n",
      "4971             67\n",
      "4972             69\n",
      "4973             80\n",
      "4974             30\n",
      "4975             42\n",
      "4976             64\n",
      "4977             24\n",
      "4978            268\n",
      "4979             23\n",
      "4980            108\n",
      "4981            179\n",
      "4982            229\n",
      "4983            205\n",
      "4984            147\n",
      "4985             50\n",
      "4986             20\n",
      "4987             10\n",
      "4988             33\n",
      "4989             51\n",
      "4990            123\n",
      "4991             86\n",
      "4992             59\n",
      "4993            120\n",
      "4994            119\n",
      "4995            199\n",
      "4996            140\n",
      "4997            134\n",
      "4998            137\n",
      "4999            146\n",
      "\n",
      "[4945 rows x 1 columns]\n"
     ]
    }
   ],
   "source": [
    "print(agg)"
   ]
  },
  {
   "cell_type": "code",
   "execution_count": 22,
   "metadata": {},
   "outputs": [],
   "source": [
    "wa_name = agg"
   ]
  },
  {
   "cell_type": "markdown",
   "metadata": {},
   "source": [
    "# Feature 26"
   ]
  },
  {
   "cell_type": "code",
   "execution_count": 23,
   "metadata": {},
   "outputs": [],
   "source": [
    "wa_type = train_wa_df.groupby(['uid','wa_type'])['uid'].count().unstack().add_prefix('wa_type_').fillna(0)"
   ]
  },
  {
   "cell_type": "code",
   "execution_count": 24,
   "metadata": {},
   "outputs": [],
   "source": [
    "wa_type.columns.names = ['']"
   ]
  },
  {
   "cell_type": "code",
   "execution_count": 25,
   "metadata": {
    "scrolled": true
   },
   "outputs": [
    {
     "name": "stdout",
     "output_type": "stream",
     "text": [
      "      wa_type_0  wa_type_1\n",
      "uid                       \n",
      "1         955.0      200.0\n",
      "2          29.0        0.0\n",
      "3         982.0      185.0\n",
      "4        1372.0      308.0\n",
      "5         557.0       84.0\n",
      "6         409.0       76.0\n",
      "7        1103.0      213.0\n",
      "8         914.0      154.0\n",
      "9         890.0      178.0\n",
      "10         57.0       30.0\n",
      "11        985.0      163.0\n",
      "12       1330.0      325.0\n",
      "13       1196.0      237.0\n",
      "14       1151.0      161.0\n",
      "15        250.0       36.0\n",
      "16        709.0      118.0\n",
      "17        732.0      109.0\n",
      "18          4.0        2.0\n",
      "19       1054.0      176.0\n",
      "20        740.0      143.0\n",
      "21          0.0        1.0\n",
      "22        439.0      109.0\n",
      "23        316.0       69.0\n",
      "24       1194.0      194.0\n",
      "25        631.0      128.0\n",
      "26       1017.0      211.0\n",
      "27       1614.0      251.0\n",
      "28        520.0      194.0\n",
      "29       2064.0      443.0\n",
      "30       1248.0      257.0\n",
      "...         ...        ...\n",
      "4970      203.0       27.0\n",
      "4971      209.0       36.0\n",
      "4972      225.0       30.0\n",
      "4973      242.0       43.0\n",
      "4974      109.0       16.0\n",
      "4975      123.0       28.0\n",
      "4976      232.0       47.0\n",
      "4977      119.0       11.0\n",
      "4978     1154.0      226.0\n",
      "4979       20.0        3.0\n",
      "4980      236.0       76.0\n",
      "4981      410.0      101.0\n",
      "4982     1352.0      323.0\n",
      "4983      791.0      164.0\n",
      "4984      738.0      191.0\n",
      "4985       55.0       17.0\n",
      "4986       17.0        3.0\n",
      "4987        9.0        1.0\n",
      "4988       33.0        8.0\n",
      "4989       72.0       17.0\n",
      "4990      433.0      172.0\n",
      "4991      311.0       68.0\n",
      "4992      188.0       37.0\n",
      "4993      638.0      201.0\n",
      "4994      326.0       82.0\n",
      "4995     1000.0      225.0\n",
      "4996      790.0      165.0\n",
      "4997      697.0      135.0\n",
      "4998      706.0      166.0\n",
      "4999      451.0      114.0\n",
      "\n",
      "[4945 rows x 2 columns]\n"
     ]
    }
   ],
   "source": [
    "print(wa_type)"
   ]
  },
  {
   "cell_type": "markdown",
   "metadata": {},
   "source": [
    "# Feature 27"
   ]
  },
  {
   "cell_type": "code",
   "execution_count": 26,
   "metadata": {},
   "outputs": [],
   "source": [
    "date = train_wa_df.groupby(['uid','date'])['uid'].count().unstack().add_prefix('date_').fillna(0)"
   ]
  },
  {
   "cell_type": "code",
   "execution_count": 27,
   "metadata": {},
   "outputs": [],
   "source": [
    "date.columns.names = ['']"
   ]
  },
  {
   "cell_type": "code",
   "execution_count": 28,
   "metadata": {},
   "outputs": [
    {
     "name": "stdout",
     "output_type": "stream",
     "text": [
      "      date_1  date_2  date_3  date_4  date_5  date_6  date_7  date_8  date_9  \\\n",
      "uid                                                                            \n",
      "1       47.0     0.0    12.0    48.0     4.0    24.0     7.0     2.0    37.0   \n",
      "2        0.0     0.0     0.0     0.0     0.0     0.0     0.0     0.0     0.0   \n",
      "3       20.0    20.0    27.0    20.0    33.0    29.0    49.0    31.0    23.0   \n",
      "4       36.0    83.0    95.0    62.0    49.0    32.0    46.0    39.0    27.0   \n",
      "5        4.0     4.0     0.0    17.0    40.0     5.0     4.0     0.0     0.0   \n",
      "6       13.0    12.0    17.0    42.0    91.0    20.0     7.0    12.0    10.0   \n",
      "7       23.0    26.0     9.0    40.0    37.0    22.0    40.0    44.0    14.0   \n",
      "8       21.0    36.0    18.0    32.0    20.0    15.0    21.0    27.0    22.0   \n",
      "9        0.0     0.0     0.0    41.0    27.0    37.0    52.0    31.0    12.0   \n",
      "10       0.0     0.0     0.0    16.0    16.0    12.0     1.0     0.0     0.0   \n",
      "11      12.0    32.0    18.0    11.0    36.0    24.0    13.0    25.0    13.0   \n",
      "12      39.0    54.0    33.0    71.0    40.0    31.0    42.0    29.0     8.0   \n",
      "13       0.0    31.0    40.0    24.0    53.0    63.0    29.0    35.0    48.0   \n",
      "14      38.0    53.0    28.0    13.0    54.0    35.0    44.0    40.0    45.0   \n",
      "15      38.0    25.0    31.0    34.0     0.0     0.0    29.0    36.0    32.0   \n",
      "16      21.0    15.0    16.0     7.0    14.0    15.0    27.0    12.0     8.0   \n",
      "17      18.0    10.0     9.0    27.0    27.0    21.0    44.0    26.0    21.0   \n",
      "18       0.0     0.0     4.0     0.0     0.0     0.0     0.0     0.0     0.0   \n",
      "19      22.0    29.0     6.0    14.0    36.0    42.0    30.0    57.0    44.0   \n",
      "20      15.0    19.0    22.0    32.0    22.0    40.0     8.0    12.0     5.0   \n",
      "21       0.0     0.0     0.0     0.0     0.0     0.0     0.0     0.0     0.0   \n",
      "22      45.0     6.0     0.0     0.0     0.0    35.0    47.0    33.0     0.0   \n",
      "23       0.0     0.0     0.0     0.0     0.0     0.0     1.0     0.0     0.0   \n",
      "24      15.0    20.0    40.0    30.0    15.0    26.0    29.0    38.0    27.0   \n",
      "25      10.0    31.0     6.0    17.0    17.0    15.0    10.0    16.0    15.0   \n",
      "26       0.0     0.0     0.0     0.0     0.0    27.0    55.0    30.0     9.0   \n",
      "27      45.0    65.0    68.0    57.0    77.0    49.0    73.0    40.0    38.0   \n",
      "28       7.0    40.0    13.0    15.0    22.0     4.0     6.0     9.0     6.0   \n",
      "29      90.0    86.0    75.0    87.0    53.0   103.0    99.0    46.0    74.0   \n",
      "30      35.0    12.0    31.0     0.0     9.0    39.0    66.0    29.0    11.0   \n",
      "...      ...     ...     ...     ...     ...     ...     ...     ...     ...   \n",
      "4970     0.0     0.0     0.0     0.0     0.0     0.0     0.0     0.0     0.0   \n",
      "4971     0.0     0.0     0.0     0.0     0.0     0.0     0.0     0.0     0.0   \n",
      "4972     0.0     0.0     0.0     0.0     0.0     0.0     0.0     0.0     0.0   \n",
      "4973     0.0     0.0     0.0     0.0     0.0     0.0     0.0     0.0     0.0   \n",
      "4974     0.0     0.0     0.0     0.0     0.0     0.0     0.0     0.0     0.0   \n",
      "4975     0.0     0.0     0.0     0.0     0.0     0.0     0.0     0.0     0.0   \n",
      "4976     0.0     0.0     0.0     0.0     0.0     0.0     0.0     0.0     0.0   \n",
      "4977     1.0     1.0    10.0     1.0     1.0     1.0     1.0     1.0     1.0   \n",
      "4978    27.0    35.0    75.0    79.0    54.0    50.0    64.0    84.0    77.0   \n",
      "4979     0.0     0.0     0.0     0.0    23.0     0.0     0.0     0.0     0.0   \n",
      "4980     0.0     0.0     0.0     0.0     0.0     0.0     0.0     0.0     0.0   \n",
      "4981    28.0    59.0    62.0    46.0    27.0     4.0    88.0    17.0     0.0   \n",
      "4982    13.0    36.0    33.0    18.0    79.0    59.0    57.0    49.0    22.0   \n",
      "4983     0.0     0.0     0.0     0.0     0.0     0.0     0.0     0.0     0.0   \n",
      "4984     0.0    55.0    30.0    61.0    19.0     0.0     0.0    41.0    46.0   \n",
      "4985    48.0    20.0     4.0     0.0     0.0     0.0     0.0     0.0     0.0   \n",
      "4986     0.0     0.0     0.0     0.0     0.0     0.0     0.0     0.0     0.0   \n",
      "4987    10.0     0.0     0.0     0.0     0.0     0.0     0.0     0.0     0.0   \n",
      "4988     0.0     0.0     0.0     0.0     0.0     0.0     0.0     0.0     0.0   \n",
      "4989     0.0     0.0     0.0     0.0     0.0     0.0     0.0     0.0     0.0   \n",
      "4990    36.0    44.0    49.0    36.0    35.0    58.0    30.0    28.0    41.0   \n",
      "4991    33.0    35.0    21.0     0.0     0.0     0.0     0.0     0.0     0.0   \n",
      "4992     0.0     0.0     0.0     0.0     0.0     0.0     0.0     0.0     0.0   \n",
      "4993    17.0    12.0    13.0    16.0    15.0    17.0    15.0    27.0    25.0   \n",
      "4994     0.0     0.0    21.0    38.0    70.0    82.0    31.0    30.0    39.0   \n",
      "4995     0.0     0.0     0.0     0.0     0.0     0.0     0.0     0.0     0.0   \n",
      "4996     0.0     0.0     0.0     0.0     0.0     0.0     0.0     0.0     0.0   \n",
      "4997     0.0     0.0     0.0     0.0     0.0     0.0     0.0     0.0     0.0   \n",
      "4998     0.0     0.0     0.0     0.0     0.0     0.0     0.0     0.0     0.0   \n",
      "4999     5.0     6.0     3.0     3.0    43.0     0.0     0.0     3.0    10.0   \n",
      "\n",
      "      date_10   ...     date_36  date_37  date_38  date_39  date_40  date_41  \\\n",
      "uid             ...                                                            \n",
      "1        66.0   ...        40.0     34.0     47.0     43.0     42.0     51.0   \n",
      "2         0.0   ...         3.0      3.0      0.0      0.0      0.0      0.0   \n",
      "3        56.0   ...        24.0     21.0     20.0     26.0     37.0     52.0   \n",
      "4        46.0   ...        48.0     33.0     38.0     28.0     44.0     43.0   \n",
      "5         2.0   ...         6.0      7.0     18.0     12.0     27.0     21.0   \n",
      "6         0.0   ...         0.0      0.0      0.0      0.0      0.0      0.0   \n",
      "7        41.0   ...        28.0     31.0     33.0     17.0     34.0     35.0   \n",
      "8        38.0   ...        22.0     32.0     35.0     24.0     27.0     27.0   \n",
      "9        27.0   ...        17.0     16.0     12.0      1.0     19.0     13.0   \n",
      "10        0.0   ...         0.0     10.0      4.0      0.0      0.0      0.0   \n",
      "11       12.0   ...        14.0     24.0     36.0     31.0     32.0     37.0   \n",
      "12       23.0   ...        10.0     11.0     22.0     27.0     46.0     57.0   \n",
      "13       23.0   ...        44.0     29.0     27.0     17.0     28.0     20.0   \n",
      "14       29.0   ...        24.0     31.0     30.0     15.0     17.0     25.0   \n",
      "15       25.0   ...         0.0      0.0      0.0      0.0      0.0      0.0   \n",
      "16        8.0   ...        21.0     17.0     29.0      6.0      9.0     16.0   \n",
      "17       17.0   ...        15.0     29.0     26.0     14.0     12.0     14.0   \n",
      "18        0.0   ...         0.0      0.0      0.0      0.0      0.0      0.0   \n",
      "19       29.0   ...        14.0     24.0     27.0     16.0     21.0     22.0   \n",
      "20        8.0   ...         9.0     27.0     27.0     14.0     24.0     20.0   \n",
      "21        0.0   ...         0.0      0.0      0.0      0.0      0.0      0.0   \n",
      "22       10.0   ...        10.0      8.0      9.0      2.0      6.0      6.0   \n",
      "23        6.0   ...        16.0     23.0     21.0     12.0     14.0     16.0   \n",
      "24       23.0   ...        34.0     44.0     28.0     24.0     29.0     26.0   \n",
      "25       19.0   ...        19.0     15.0     17.0     13.0     20.0     15.0   \n",
      "26       43.0   ...        30.0      5.0     14.0      8.0     16.0     17.0   \n",
      "27       46.0   ...        32.0     32.0     34.0     19.0     33.0     35.0   \n",
      "28        7.0   ...        19.0     19.0     23.0     22.0     33.0     30.0   \n",
      "29       49.0   ...        49.0     46.0     50.0     32.0     39.0     38.0   \n",
      "30       14.0   ...        21.0     40.0     36.0     33.0     34.0     36.0   \n",
      "...       ...   ...         ...      ...      ...      ...      ...      ...   \n",
      "4970      0.0   ...         0.0      7.0      8.0      9.0     33.0     29.0   \n",
      "4971      0.0   ...         5.0     42.0      9.0      0.0     20.0     12.0   \n",
      "4972      0.0   ...         9.0      0.0      7.0     31.0     28.0     31.0   \n",
      "4973      0.0   ...        12.0      0.0     13.0     26.0     45.0     39.0   \n",
      "4974      0.0   ...         1.0      0.0      8.0     12.0     19.0     19.0   \n",
      "4975      0.0   ...         0.0      0.0      1.0      0.0     26.0     30.0   \n",
      "4976      0.0   ...        11.0      0.0     28.0     29.0     34.0     24.0   \n",
      "4977      1.0   ...         2.0     10.0      4.0      3.0      3.0      4.0   \n",
      "4978     52.0   ...        22.0     46.0     32.0     64.0     29.0     31.0   \n",
      "4979      0.0   ...         0.0      0.0      0.0      0.0      0.0      0.0   \n",
      "4980      0.0   ...        28.0     15.0     11.0      2.0      1.0      6.0   \n",
      "4981      0.0   ...        12.0     16.0      9.0      9.0     11.0     18.0   \n",
      "4982     19.0   ...        41.0     26.0     56.0     20.0     24.0     38.0   \n",
      "4983      0.0   ...        32.0     16.0      0.0      0.0      0.0      0.0   \n",
      "4984      0.0   ...        31.0     42.0     41.0     52.0     54.0     55.0   \n",
      "4985      0.0   ...         0.0      0.0      0.0      0.0      0.0      0.0   \n",
      "4986     19.0   ...         0.0      0.0      0.0      0.0      0.0      0.0   \n",
      "4987      0.0   ...         0.0      0.0      0.0      0.0      0.0      0.0   \n",
      "4988      0.0   ...         0.0      0.0      0.0      0.0      0.0      0.0   \n",
      "4989      0.0   ...         0.0      0.0      0.0      0.0      0.0      0.0   \n",
      "4990     48.0   ...         0.0      0.0      0.0      0.0      0.0      0.0   \n",
      "4991      0.0   ...        22.0     20.0     17.0     23.0      1.0      0.0   \n",
      "4992      0.0   ...         0.0      8.0      9.0      8.0      7.0     11.0   \n",
      "4993     16.0   ...         8.0      0.0      8.0      0.0     13.0     12.0   \n",
      "4994      0.0   ...         0.0      0.0      0.0      0.0     11.0     19.0   \n",
      "4995      0.0   ...        35.0     18.0     53.0     38.0     51.0     53.0   \n",
      "4996      0.0   ...        57.0     45.0     75.0     56.0     42.0     74.0   \n",
      "4997      0.0   ...        40.0     65.0     42.0     59.0     45.0     59.0   \n",
      "4998      0.0   ...        53.0     33.0     50.0     62.0     60.0     68.0   \n",
      "4999      7.0   ...        12.0      1.0      0.0      1.0     20.0     26.0   \n",
      "\n",
      "      date_42  date_43  date_44  date_45  \n",
      "uid                                       \n",
      "1        44.0     34.0     39.0     38.0  \n",
      "2         0.0      0.0      0.0      0.0  \n",
      "3        49.0     20.0     34.0     57.0  \n",
      "4        41.0     29.0     42.0     32.0  \n",
      "5        12.0     21.0     33.0     16.0  \n",
      "6         0.0      0.0      0.0      0.0  \n",
      "7        30.0     32.0     35.0     25.0  \n",
      "8        18.0     15.0     28.0     29.0  \n",
      "9        15.0      5.0      3.0     10.0  \n",
      "10        0.0      0.0      0.0      0.0  \n",
      "11       28.0     27.0     31.0     29.0  \n",
      "12       36.0     46.0     44.0     46.0  \n",
      "13       21.0      0.0      2.0      0.0  \n",
      "14       34.0     16.0     35.0     19.0  \n",
      "15        0.0      0.0      0.0      0.0  \n",
      "16       19.0     14.0     12.0     12.0  \n",
      "17       13.0     12.0     16.0     12.0  \n",
      "18        2.0      0.0      0.0      0.0  \n",
      "19       21.0     27.0     26.0     25.0  \n",
      "20       19.0     21.0     23.0     27.0  \n",
      "21        0.0      0.0      0.0      0.0  \n",
      "22       12.0      2.0     12.0     16.0  \n",
      "23       13.0     14.0     13.0     12.0  \n",
      "24       24.0     22.0     38.0     36.0  \n",
      "25       16.0     13.0     15.0     19.0  \n",
      "26       15.0     19.0     22.0     20.0  \n",
      "27       33.0     32.0     36.0     44.0  \n",
      "28       32.0     29.0     45.0     30.0  \n",
      "29       33.0     43.0     51.0     44.0  \n",
      "30       37.0     41.0     37.0     45.0  \n",
      "...       ...      ...      ...      ...  \n",
      "4970     30.0     28.0     30.0     29.0  \n",
      "4971      7.0     23.0     16.0     32.0  \n",
      "4972     24.0     31.0     48.0     37.0  \n",
      "4973     42.0     27.0     51.0     30.0  \n",
      "4974     17.0      7.0      6.0     24.0  \n",
      "4975     23.0     17.0     22.0     19.0  \n",
      "4976     23.0     28.0     20.0     29.0  \n",
      "4977      1.0     10.0      2.0      2.0  \n",
      "4978     24.0     22.0      5.0      1.0  \n",
      "4979      0.0      0.0      0.0      0.0  \n",
      "4980      3.0      0.0      0.0      0.0  \n",
      "4981      9.0     10.0      5.0      3.0  \n",
      "4982     26.0     26.0     17.0     11.0  \n",
      "4983      0.0      0.0      0.0      0.0  \n",
      "4984     40.0     59.0     53.0     58.0  \n",
      "4985      0.0      0.0      0.0      0.0  \n",
      "4986      0.0      1.0      0.0      0.0  \n",
      "4987      0.0      0.0      0.0      0.0  \n",
      "4988      0.0      0.0      0.0      0.0  \n",
      "4989      0.0      0.0      0.0      0.0  \n",
      "4990      0.0      0.0      0.0      0.0  \n",
      "4991      0.0      0.0      0.0      0.0  \n",
      "4992     11.0     10.0     10.0     11.0  \n",
      "4993     13.0     14.0     12.0     12.0  \n",
      "4994     17.0     18.0     19.0     13.0  \n",
      "4995     58.0     44.0     66.0     57.0  \n",
      "4996     58.0     51.0     63.0     52.0  \n",
      "4997     41.0     37.0     54.0     68.0  \n",
      "4998     44.0     62.0     70.0     59.0  \n",
      "4999     21.0     14.0     24.0     33.0  \n",
      "\n",
      "[4945 rows x 45 columns]\n"
     ]
    }
   ],
   "source": [
    "print(date)"
   ]
  },
  {
   "cell_type": "markdown",
   "metadata": {},
   "source": [
    "# Merge feature 21 to 27"
   ]
  },
  {
   "cell_type": "code",
   "execution_count": 29,
   "metadata": {},
   "outputs": [],
   "source": [
    "agg = visit_cnt\n",
    "agg = agg.join(visit_dura)\n",
    "agg = agg.join(up_flow)\n",
    "agg = agg.join(down_flow)\n",
    "agg = agg.join(wa_name)\n",
    "agg = agg.join(wa_type)\n",
    "agg = agg.join(date)"
   ]
  },
  {
   "cell_type": "code",
   "execution_count": 29,
   "metadata": {},
   "outputs": [
    {
     "name": "stdout",
     "output_type": "stream",
     "text": [
      "      wa_visit_cnt_std  wa_visit_cnt_var  wa_visit_cnt_max  wa_visit_cnt_min  \\\n",
      "uid                                                                            \n",
      "1           290.475238      84375.863681              3747                 1   \n",
      "2             6.412734         41.123153                24                 1   \n",
      "3            62.825353       3947.025006              1227                 1   \n",
      "4           109.912263      12080.705578              1568                 1   \n",
      "5            58.997481       3480.702789               620                 1   \n",
      "6            59.782370       3573.931780               671                 1   \n",
      "7            90.342535       8161.773601              1385                 1   \n",
      "8            75.292851       5669.013394               570                 1   \n",
      "9            72.075247       5194.841296               782                 1   \n",
      "10          312.227684      97486.126704              2445                 1   \n",
      "11           84.095565       7072.064079               792                 1   \n",
      "12           80.114817       6418.383885               916                 1   \n",
      "13           55.091364       3035.058395               721                 1   \n",
      "14           73.354374       5380.864112              1141                 1   \n",
      "15           28.566609        816.051147               259                 1   \n",
      "16           38.719909       1499.231362               461                 1   \n",
      "17           48.150939       2318.512938               476                 1   \n",
      "18            2.857738          8.166667                 7                 1   \n",
      "19           90.325721       8158.735823              1238                 1   \n",
      "20           47.566066       2262.530628               648                 1   \n",
      "21                 NaN               NaN                 1                 1   \n",
      "22          107.709619      11601.362095              1716                 1   \n",
      "23           60.928462       3712.277435               469                 1   \n",
      "24           55.767401       3110.002985               605                 1   \n",
      "25           96.765117       9363.487876               857                 1   \n",
      "26           79.989536       6398.325926              1168                 1   \n",
      "27           60.220700       3626.532671               719                 1   \n",
      "28           93.101729       8667.931942              1039                 1   \n",
      "29          279.179360      77941.115107              4799                 1   \n",
      "30          120.427920      14502.883818              1930                 1   \n",
      "...                ...               ...               ...               ...   \n",
      "4970        130.589651      17053.657034               856                 1   \n",
      "4971         35.970821       1293.899967               371                 1   \n",
      "4972        243.503368      59293.890165              1597                 1   \n",
      "4973        247.933803      61471.170818              1830                 1   \n",
      "4974        125.318944      15704.837677               814                 1   \n",
      "4975         85.239348       7265.746490               428                 1   \n",
      "4976         93.203986       8686.983085               621                 1   \n",
      "4977         30.732710        944.499463               210                 1   \n",
      "4978        135.612331      18390.704396              2218                 1   \n",
      "4979         16.781083        281.604743                80                 1   \n",
      "4980         57.999158       3363.902290               630                 1   \n",
      "4981         38.462726       1479.381305               453                 1   \n",
      "4982        101.523154      10306.950792              1140                 1   \n",
      "4983         60.166511       3620.009093               847                 1   \n",
      "4984        257.788389      66454.853724              2877                 1   \n",
      "4985         97.389699       9484.753521               697                 1   \n",
      "4986         31.621570        999.923684               144                 1   \n",
      "4987         14.231811        202.544444                45                 1   \n",
      "4988         18.566230        344.704878               106                 1   \n",
      "4989        141.829985      20115.744637               894                 1   \n",
      "4990        193.869106      37585.230272              2188                 1   \n",
      "4991        413.408902     170906.919867              3174                 1   \n",
      "4992        244.958901      60004.863214              2100                 1   \n",
      "4993        281.312946      79136.973428              2345                 1   \n",
      "4994        387.538643     150186.199812              4861                 1   \n",
      "4995        207.457114      43038.454292              2215                 1   \n",
      "4996        234.323012      54907.273781              2469                 1   \n",
      "4997        383.497470     147070.309769              4743                 1   \n",
      "4998        251.237726      63120.395189              2247                 1   \n",
      "4999         78.863663       6219.477387              1634                 1   \n",
      "\n",
      "      wa_visit_cnt_median  wa_visit_cnt_mean  wa_visit_cnt_sum  \\\n",
      "uid                                                              \n",
      "1                     5.0          84.583550             97694   \n",
      "2                     4.0           6.137931               178   \n",
      "3                     4.0          20.388175             23793   \n",
      "4                     3.0          33.708929             56631   \n",
      "5                     3.0          21.583463             13835   \n",
      "6                     3.0          15.406186              7472   \n",
      "7                     4.0          29.571429             38916   \n",
      "8                     3.0          26.779963             28601   \n",
      "9                     5.0          28.168539             30084   \n",
      "10                    6.0          79.965517              6957   \n",
      "11                    4.0          34.020906             39056   \n",
      "12                    4.0          29.101511             48163   \n",
      "13                    4.0          23.353803             33466   \n",
      "14                    3.0          23.239329             30490   \n",
      "15                    4.0          10.038462              2871   \n",
      "16                    3.0          16.259976             13447   \n",
      "17                    3.0          20.705113             17413   \n",
      "18                    1.0           2.833333                17   \n",
      "19                    4.0          33.335772             41003   \n",
      "20                    3.0          18.528879             16361   \n",
      "21                    1.0           1.000000                 1   \n",
      "22                    2.0          23.094891             12656   \n",
      "23                    6.0          29.187013             11237   \n",
      "24                    3.0          22.454611             31167   \n",
      "25                    4.0          37.015810             28095   \n",
      "26                    3.0          24.153909             29661   \n",
      "27                    3.0          20.578016             38378   \n",
      "28                    5.0          33.810924             24141   \n",
      "29                    7.0          75.220183            188577   \n",
      "30                    4.0          40.950166             61630   \n",
      "...                   ...                ...               ...   \n",
      "4970                  4.0          46.313043             10652   \n",
      "4971                  3.0          15.959184              3910   \n",
      "4972                  4.0         101.713725             25937   \n",
      "4973                  5.0          84.217544             24002   \n",
      "4974                  8.0          53.032000              6629   \n",
      "4975                  5.0          43.986755              6642   \n",
      "4976                  7.0          49.050179             13685   \n",
      "4977                  4.0          19.676923              2558   \n",
      "4978                  4.0          36.724638             50680   \n",
      "4979                  6.0          10.173913               234   \n",
      "4980                  3.0          20.285256              6329   \n",
      "4981                  3.0          12.945205              6615   \n",
      "4982                  4.0          30.418507             50951   \n",
      "4983                  3.0          19.508901             18631   \n",
      "4984                  6.0          86.818084             80654   \n",
      "4985                  3.0          29.916667              2154   \n",
      "4986                  4.0          12.150000               243   \n",
      "4987                 13.0          18.100000               181   \n",
      "4988                  3.0           9.536585               391   \n",
      "4989                  6.0          57.269663              5097   \n",
      "4990                  7.0          50.069421             30292   \n",
      "4991                  8.0         160.300792             60754   \n",
      "4992                  6.0          66.280000             14913   \n",
      "4993                  8.0          98.816448             82907   \n",
      "4994                  5.0         100.838235             41142   \n",
      "4995                  5.0          66.752653             81772   \n",
      "4996                  6.0          72.650262             69381   \n",
      "4997                  5.0         120.026442             99862   \n",
      "4998                  5.0          90.888761             79255   \n",
      "4999                  3.0          18.302655             10341   \n",
      "\n",
      "      wa_visit_cnt_count  wa_visit_cnt_mad  wa_visit_dura_std   ...     \\\n",
      "uid                                                             ...      \n",
      "1                   1155        127.718554      296715.319506   ...      \n",
      "2                     29          4.879905       19554.843909   ...      \n",
      "3                   1167         26.237332       83464.179838   ...      \n",
      "4                   1680         47.521935      128052.491187   ...      \n",
      "5                    641         28.672078       72239.474882   ...      \n",
      "6                    485         20.290352       70705.787643   ...      \n",
      "7                   1316         40.825445      110932.747700   ...      \n",
      "8                   1068         38.371209       89596.617020   ...      \n",
      "9                   1068         35.795775       96882.031426   ...      \n",
      "10                    87        127.180341      372380.918312   ...      \n",
      "11                  1148         46.143992       94545.263505   ...      \n",
      "12                  1655         38.509195      106518.868804   ...      \n",
      "13                  1433         29.962549       68555.671887   ...      \n",
      "14                  1312         32.674780       97704.985982   ...      \n",
      "15                   286         11.471759       60940.146714   ...      \n",
      "16                   827         21.020226       51181.667299   ...      \n",
      "17                   841         26.480539       54429.196120   ...      \n",
      "18                     6          2.444444        7552.955651   ...      \n",
      "19                  1230         44.874438      117873.008764   ...      \n",
      "20                   883         24.001665       57410.476362   ...      \n",
      "21                     1          0.000000                NaN   ...      \n",
      "22                   548         32.722894      162928.289828   ...      \n",
      "23                   385         34.650228      101364.254860   ...      \n",
      "24                  1388         29.377368       74468.702873   ...      \n",
      "25                   759         49.985887      113315.308862   ...      \n",
      "26                  1228         32.309300      107807.571843   ...      \n",
      "27                  1865         27.539208       73275.532819   ...      \n",
      "28                   714         44.789798      148020.164196   ...      \n",
      "29                  2507        106.206534      363075.411305   ...      \n",
      "30                  1505         57.344193      185137.783092   ...      \n",
      "...                  ...               ...                ...   ...      \n",
      "4970                 230         66.681890      163027.793577   ...      \n",
      "4971                 245         19.520367       44372.451807   ...      \n",
      "4972                 255        145.001922      328981.195982   ...      \n",
      "4973                 285        121.953266      358746.969391   ...      \n",
      "4974                 125         65.823616      203149.694735   ...      \n",
      "4975                 151         56.549186      120291.977835   ...      \n",
      "4976                 279         61.307434      132678.726430   ...      \n",
      "4977                 130         21.747692       53838.086692   ...      \n",
      "4978                1380         52.827200      171714.915016   ...      \n",
      "4979                  23          8.967864       19666.306196   ...      \n",
      "4980                 312         27.224523       67587.421484   ...      \n",
      "4981                 511         15.681152       33332.284622   ...      \n",
      "4982                1675         43.221770      131635.078732   ...      \n",
      "4983                 955         26.149860       83142.177144   ...      \n",
      "4984                 929        126.456632      320619.412775   ...      \n",
      "4985                  72         42.775463      129553.024605   ...      \n",
      "4986                  20         14.770000       41392.762048   ...      \n",
      "4987                  10         10.520000       17763.693280   ...      \n",
      "4988                  41         10.398572       29943.322652   ...      \n",
      "4989                  89         83.931574      218751.612890   ...      \n",
      "4990                 605         67.265296      361999.775438   ...      \n",
      "4991                 379        238.492060      944969.586988   ...      \n",
      "4992                 225         99.278578      384781.387074   ...      \n",
      "4993                 839        136.709256      514986.483433   ...      \n",
      "4994                 408        149.200980      726617.577314   ...      \n",
      "4995                1225         97.750197      288721.079509   ...      \n",
      "4996                 955        104.550698      271812.230846   ...      \n",
      "4997                 832        180.176007      688030.926138   ...      \n",
      "4998                 872        133.597648      319960.392568   ...      \n",
      "4999                 565         24.491515       90551.596272   ...      \n",
      "\n",
      "      date_36  date_37  date_38  date_39  date_40  date_41  date_42  date_43  \\\n",
      "uid                                                                            \n",
      "1        40.0     34.0     47.0     43.0     42.0     51.0     44.0     34.0   \n",
      "2         3.0      3.0      0.0      0.0      0.0      0.0      0.0      0.0   \n",
      "3        24.0     21.0     20.0     26.0     37.0     52.0     49.0     20.0   \n",
      "4        48.0     33.0     38.0     28.0     44.0     43.0     41.0     29.0   \n",
      "5         6.0      7.0     18.0     12.0     27.0     21.0     12.0     21.0   \n",
      "6         0.0      0.0      0.0      0.0      0.0      0.0      0.0      0.0   \n",
      "7        28.0     31.0     33.0     17.0     34.0     35.0     30.0     32.0   \n",
      "8        22.0     32.0     35.0     24.0     27.0     27.0     18.0     15.0   \n",
      "9        17.0     16.0     12.0      1.0     19.0     13.0     15.0      5.0   \n",
      "10        0.0     10.0      4.0      0.0      0.0      0.0      0.0      0.0   \n",
      "11       14.0     24.0     36.0     31.0     32.0     37.0     28.0     27.0   \n",
      "12       10.0     11.0     22.0     27.0     46.0     57.0     36.0     46.0   \n",
      "13       44.0     29.0     27.0     17.0     28.0     20.0     21.0      0.0   \n",
      "14       24.0     31.0     30.0     15.0     17.0     25.0     34.0     16.0   \n",
      "15        0.0      0.0      0.0      0.0      0.0      0.0      0.0      0.0   \n",
      "16       21.0     17.0     29.0      6.0      9.0     16.0     19.0     14.0   \n",
      "17       15.0     29.0     26.0     14.0     12.0     14.0     13.0     12.0   \n",
      "18        0.0      0.0      0.0      0.0      0.0      0.0      2.0      0.0   \n",
      "19       14.0     24.0     27.0     16.0     21.0     22.0     21.0     27.0   \n",
      "20        9.0     27.0     27.0     14.0     24.0     20.0     19.0     21.0   \n",
      "21        0.0      0.0      0.0      0.0      0.0      0.0      0.0      0.0   \n",
      "22       10.0      8.0      9.0      2.0      6.0      6.0     12.0      2.0   \n",
      "23       16.0     23.0     21.0     12.0     14.0     16.0     13.0     14.0   \n",
      "24       34.0     44.0     28.0     24.0     29.0     26.0     24.0     22.0   \n",
      "25       19.0     15.0     17.0     13.0     20.0     15.0     16.0     13.0   \n",
      "26       30.0      5.0     14.0      8.0     16.0     17.0     15.0     19.0   \n",
      "27       32.0     32.0     34.0     19.0     33.0     35.0     33.0     32.0   \n",
      "28       19.0     19.0     23.0     22.0     33.0     30.0     32.0     29.0   \n",
      "29       49.0     46.0     50.0     32.0     39.0     38.0     33.0     43.0   \n",
      "30       21.0     40.0     36.0     33.0     34.0     36.0     37.0     41.0   \n",
      "...       ...      ...      ...      ...      ...      ...      ...      ...   \n",
      "4970      0.0      7.0      8.0      9.0     33.0     29.0     30.0     28.0   \n",
      "4971      5.0     42.0      9.0      0.0     20.0     12.0      7.0     23.0   \n",
      "4972      9.0      0.0      7.0     31.0     28.0     31.0     24.0     31.0   \n",
      "4973     12.0      0.0     13.0     26.0     45.0     39.0     42.0     27.0   \n",
      "4974      1.0      0.0      8.0     12.0     19.0     19.0     17.0      7.0   \n",
      "4975      0.0      0.0      1.0      0.0     26.0     30.0     23.0     17.0   \n",
      "4976     11.0      0.0     28.0     29.0     34.0     24.0     23.0     28.0   \n",
      "4977      2.0     10.0      4.0      3.0      3.0      4.0      1.0     10.0   \n",
      "4978     22.0     46.0     32.0     64.0     29.0     31.0     24.0     22.0   \n",
      "4979      0.0      0.0      0.0      0.0      0.0      0.0      0.0      0.0   \n",
      "4980     28.0     15.0     11.0      2.0      1.0      6.0      3.0      0.0   \n",
      "4981     12.0     16.0      9.0      9.0     11.0     18.0      9.0     10.0   \n",
      "4982     41.0     26.0     56.0     20.0     24.0     38.0     26.0     26.0   \n",
      "4983     32.0     16.0      0.0      0.0      0.0      0.0      0.0      0.0   \n",
      "4984     31.0     42.0     41.0     52.0     54.0     55.0     40.0     59.0   \n",
      "4985      0.0      0.0      0.0      0.0      0.0      0.0      0.0      0.0   \n",
      "4986      0.0      0.0      0.0      0.0      0.0      0.0      0.0      1.0   \n",
      "4987      0.0      0.0      0.0      0.0      0.0      0.0      0.0      0.0   \n",
      "4988      0.0      0.0      0.0      0.0      0.0      0.0      0.0      0.0   \n",
      "4989      0.0      0.0      0.0      0.0      0.0      0.0      0.0      0.0   \n",
      "4990      0.0      0.0      0.0      0.0      0.0      0.0      0.0      0.0   \n",
      "4991     22.0     20.0     17.0     23.0      1.0      0.0      0.0      0.0   \n",
      "4992      0.0      8.0      9.0      8.0      7.0     11.0     11.0     10.0   \n",
      "4993      8.0      0.0      8.0      0.0     13.0     12.0     13.0     14.0   \n",
      "4994      0.0      0.0      0.0      0.0     11.0     19.0     17.0     18.0   \n",
      "4995     35.0     18.0     53.0     38.0     51.0     53.0     58.0     44.0   \n",
      "4996     57.0     45.0     75.0     56.0     42.0     74.0     58.0     51.0   \n",
      "4997     40.0     65.0     42.0     59.0     45.0     59.0     41.0     37.0   \n",
      "4998     53.0     33.0     50.0     62.0     60.0     68.0     44.0     62.0   \n",
      "4999     12.0      1.0      0.0      1.0     20.0     26.0     21.0     14.0   \n",
      "\n",
      "      date_44  date_45  \n",
      "uid                     \n",
      "1        39.0     38.0  \n",
      "2         0.0      0.0  \n",
      "3        34.0     57.0  \n",
      "4        42.0     32.0  \n",
      "5        33.0     16.0  \n",
      "6         0.0      0.0  \n",
      "7        35.0     25.0  \n",
      "8        28.0     29.0  \n",
      "9         3.0     10.0  \n",
      "10        0.0      0.0  \n",
      "11       31.0     29.0  \n",
      "12       44.0     46.0  \n",
      "13        2.0      0.0  \n",
      "14       35.0     19.0  \n",
      "15        0.0      0.0  \n",
      "16       12.0     12.0  \n",
      "17       16.0     12.0  \n",
      "18        0.0      0.0  \n",
      "19       26.0     25.0  \n",
      "20       23.0     27.0  \n",
      "21        0.0      0.0  \n",
      "22       12.0     16.0  \n",
      "23       13.0     12.0  \n",
      "24       38.0     36.0  \n",
      "25       15.0     19.0  \n",
      "26       22.0     20.0  \n",
      "27       36.0     44.0  \n",
      "28       45.0     30.0  \n",
      "29       51.0     44.0  \n",
      "30       37.0     45.0  \n",
      "...       ...      ...  \n",
      "4970     30.0     29.0  \n",
      "4971     16.0     32.0  \n",
      "4972     48.0     37.0  \n",
      "4973     51.0     30.0  \n",
      "4974      6.0     24.0  \n",
      "4975     22.0     19.0  \n",
      "4976     20.0     29.0  \n",
      "4977      2.0      2.0  \n",
      "4978      5.0      1.0  \n",
      "4979      0.0      0.0  \n",
      "4980      0.0      0.0  \n",
      "4981      5.0      3.0  \n",
      "4982     17.0     11.0  \n",
      "4983      0.0      0.0  \n",
      "4984     53.0     58.0  \n",
      "4985      0.0      0.0  \n",
      "4986      0.0      0.0  \n",
      "4987      0.0      0.0  \n",
      "4988      0.0      0.0  \n",
      "4989      0.0      0.0  \n",
      "4990      0.0      0.0  \n",
      "4991      0.0      0.0  \n",
      "4992     10.0     11.0  \n",
      "4993     12.0     12.0  \n",
      "4994     19.0     13.0  \n",
      "4995     66.0     57.0  \n",
      "4996     63.0     52.0  \n",
      "4997     54.0     68.0  \n",
      "4998     70.0     59.0  \n",
      "4999     24.0     33.0  \n",
      "\n",
      "[4945 rows x 84 columns]\n"
     ]
    }
   ],
   "source": [
    "print(agg)"
   ]
  },
  {
   "cell_type": "code",
   "execution_count": 30,
   "metadata": {},
   "outputs": [
    {
     "name": "stdout",
     "output_type": "stream",
     "text": [
      "Index([u'wa_visit_cnt_std', u'wa_visit_cnt_var', u'wa_visit_cnt_max',\n",
      "       u'wa_visit_cnt_min', u'wa_visit_cnt_median', u'wa_visit_cnt_mean',\n",
      "       u'wa_visit_cnt_sum', u'wa_visit_cnt_count', u'wa_visit_cnt_mad',\n",
      "       u'wa_visit_dura_std', u'wa_visit_dura_var', u'wa_visit_dura_max',\n",
      "       u'wa_visit_dura_min', u'wa_visit_dura_median', u'wa_visit_dura_mean',\n",
      "       u'wa_visit_dura_sum', u'wa_visit_dura_count', u'wa_visit_dura_mad',\n",
      "       u'wa_up_flow_std', u'wa_up_flow_var', u'wa_up_flow_max',\n",
      "       u'wa_up_flow_min', u'wa_up_flow_median', u'wa_up_flow_mean',\n",
      "       u'wa_up_flow_sum', u'wa_up_flow_count', u'wa_up_flow_mad',\n",
      "       u'wa_down_flow_std', u'wa_down_flow_var', u'wa_down_flow_max',\n",
      "       u'wa_down_flow_min', u'wa_down_flow_median', u'wa_down_flow_mean',\n",
      "       u'wa_down_flow_sum', u'wa_down_flow_count', u'wa_down_flow_mad',\n",
      "       u'wa_name_count', u'wa_type_0', u'wa_type_1', u'date_1', u'date_2',\n",
      "       u'date_3', u'date_4', u'date_5', u'date_6', u'date_7', u'date_8',\n",
      "       u'date_9', u'date_10', u'date_11', u'date_12', u'date_13', u'date_14',\n",
      "       u'date_15', u'date_16', u'date_17', u'date_18', u'date_19', u'date_20',\n",
      "       u'date_21', u'date_22', u'date_23', u'date_24', u'date_25', u'date_26',\n",
      "       u'date_27', u'date_28', u'date_29', u'date_30', u'date_31', u'date_32',\n",
      "       u'date_33', u'date_34', u'date_35', u'date_36', u'date_37', u'date_38',\n",
      "       u'date_39', u'date_40', u'date_41', u'date_42', u'date_43', u'date_44',\n",
      "       u'date_45'],\n",
      "      dtype='object')\n"
     ]
    }
   ],
   "source": [
    "print(agg.columns)"
   ]
  },
  {
   "cell_type": "code",
   "execution_count": 30,
   "metadata": {},
   "outputs": [],
   "source": [
    "dict = agg.to_dict()"
   ]
  },
  {
   "cell_type": "code",
   "execution_count": 31,
   "metadata": {},
   "outputs": [],
   "source": [
    "agg2 = pd.DataFrame(index = range(1, 5000), data = dict)"
   ]
  },
  {
   "cell_type": "code",
   "execution_count": 32,
   "metadata": {},
   "outputs": [],
   "source": [
    "agg2 = agg2.fillna(0)\n",
    "agg2 = agg2.astype('int64')"
   ]
  },
  {
   "cell_type": "code",
   "execution_count": 33,
   "metadata": {},
   "outputs": [],
   "source": [
    "agg2.to_csv('../data/train/train_feature_21to27.csv', index=True, header=None)"
   ]
  },
  {
   "cell_type": "code",
   "execution_count": null,
   "metadata": {},
   "outputs": [],
   "source": []
  }
 ],
 "metadata": {
  "kernelspec": {
   "display_name": "Python 2",
   "language": "python",
   "name": "python2"
  },
  "language_info": {
   "codemirror_mode": {
    "name": "ipython",
    "version": 2
   },
   "file_extension": ".py",
   "mimetype": "text/x-python",
   "name": "python",
   "nbconvert_exporter": "python",
   "pygments_lexer": "ipython2",
   "version": "2.7.13"
  }
 },
 "nbformat": 4,
 "nbformat_minor": 2
}
